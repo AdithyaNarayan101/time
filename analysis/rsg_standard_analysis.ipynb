{
 "cells": [
  {
   "cell_type": "markdown",
   "id": "4011059f",
   "metadata": {},
   "source": [
    "# Notebook to analyze my data from the Standard RSG with blocks task"
   ]
  },
  {
   "cell_type": "code",
   "execution_count": 18,
   "id": "879f5c4a",
   "metadata": {},
   "outputs": [
    {
     "name": "stderr",
     "output_type": "stream",
     "text": [
      "ERROR:root:No traceback has been produced, nothing to debug.\n"
     ]
    }
   ],
   "source": [
    "import pandas as pd\n",
    "import numpy as np\n",
    "\n",
    "# Load the full CSV\n",
    "file_paths = [\n",
    "    '../data/readysetgo_partial_20250804_571685.csv',\n",
    "        '../data/readysetgo_partial_20250802_015792.csv',\n",
    "\n",
    "    '../data/readysetgo_partial_20250730_895267.csv',\n",
    "    '../data/readysetgo_partial_20250730_285341.csv',  # Replace with your second file\n",
    "]\n",
    "\n",
    "# Load and tag with file index\n",
    "dfs = []\n",
    "for i, file in enumerate(file_paths):\n",
    "    df = pd.read_csv(file)\n",
    "    df['file_id'] = i  # Tag file index\n",
    "    dfs.append(df)\n",
    "    \n",
    "# Concatenate\n",
    "df = pd.concat(dfs, ignore_index=True)\n",
    "\n",
    "# Identify row indices where stimulus says \"Block change\"\n",
    "block_change_indices = df[df['stimulus'].astype(str).str.contains('Block change', na=False)].index.tolist()\n",
    "\n",
    "# 2. By change in file_id\n",
    "file_change_indices = df[df['file_id'].diff().fillna(0) != 0].index.tolist()\n",
    "\n",
    "# Combine and sort all block change start points\n",
    "all_block_starts = sorted(set([0] + [i + 1 for i in block_change_indices + file_change_indices] + [len(df)]))\n",
    "\n",
    "# --- Assign Block Numbers ---\n",
    "block_labels = np.empty(len(df), dtype=object)\n",
    "\n",
    "for block_num, (start, end) in enumerate(zip(all_block_starts[:-1], all_block_starts[1:]), start=1):\n",
    "    block_labels[start:end] = block_num\n",
    "\n",
    "df['block'] = block_labels\n",
    "# Add 0 as the start of the first block\n",
    "block_starts = [0] + [i + 1 for i in block_change_indices]  # +1 to start after 'Block change'\n",
    "block_starts.append(len(df))  # add end to slice to end\n",
    "\n",
    "# Filter only 'go' trials\n",
    "go_df = df[df['phase'] == 'go'].copy()\n",
    "\n",
    "# Drop rows with missing data\n",
    "go_df.dropna(subset=['target_interval', 'reproduced_interval', 'reproduction_error'], inplace=True)\n",
    "\n",
    "# Ensure numeric types\n",
    "for col in ['target_interval', 'set_duration', 'reproduced_interval', 'reproduction_error']:\n",
    "    go_df[col] = pd.to_numeric(go_df[col], errors='coerce')\n",
    "\n",
    "# Compute prior_mean = (min + max) / 2 per block\n",
    "block_bounds = go_df.groupby('block')['target_interval'].agg(['min', 'max'])\n",
    "block_bounds['prior_mean'] = (block_bounds['min'] + block_bounds['max']) / 2\n",
    "\n",
    "# Merge into go_df\n",
    "go_df = go_df.merge(block_bounds[['prior_mean']], left_on='block', right_index=True)\n",
    "\n",
    "# Optional: unique set durations\n",
    "set_durations = sorted(go_df['set_duration'].dropna().unique())\n",
    "%debug\n",
    "def remove_outliers(df):\n",
    "    df_filtered = []\n",
    "    for name, group in df.groupby('target_interval'):\n",
    "        mean = group['reproduced_interval'].mean()\n",
    "        std = group['reproduced_interval'].std()\n",
    "        if std == 0 or np.isnan(std):\n",
    "            df_filtered.append(group)\n",
    "        else:\n",
    "            \n",
    "            filtered = group[np.abs(group['reproduced_interval'] - mean) <=  3* std]\n",
    "           \n",
    "            df_filtered.append(filtered)\n",
    "    return pd.concat(df_filtered, ignore_index=True)\n",
    "\n",
    "go_df = remove_outliers(go_df)"
   ]
  },
  {
   "cell_type": "code",
   "execution_count": null,
   "id": "d6ae0bd0",
   "metadata": {},
   "outputs": [],
   "source": []
  },
  {
   "cell_type": "code",
   "execution_count": 19,
   "id": "3ed9bc7a",
   "metadata": {},
   "outputs": [
    {
     "data": {
      "text/plain": [
       "(701, 16)"
      ]
     },
     "execution_count": 19,
     "metadata": {},
     "output_type": "execute_result"
    }
   ],
   "source": [
    "np.shape(go_df)"
   ]
  },
  {
   "cell_type": "markdown",
   "id": "242a50d5",
   "metadata": {},
   "source": [
    "# Reported vs Actual Interval \n"
   ]
  },
  {
   "cell_type": "code",
   "execution_count": 20,
   "id": "202b2add",
   "metadata": {},
   "outputs": [
    {
     "data": {
      "application/vnd.plotly.v1+json": {
       "config": {
        "plotlyServerURL": "https://plot.ly"
       },
       "data": [
        {
         "marker": {
          "color": "#fdc38d",
          "line": {
           "color": "black",
           "width": 1
          },
          "size": 10
         },
         "mode": "markers",
         "name": "Block: 670 ms",
         "type": "scatter",
         "x": [
          490,
          490,
          490,
          490,
          490,
          490,
          550,
          550,
          550,
          550,
          550,
          550,
          550,
          550,
          550,
          550,
          550,
          550,
          550,
          550,
          610,
          610,
          610,
          610,
          610,
          610,
          610,
          610,
          610,
          610,
          610,
          610,
          610,
          670,
          670,
          670,
          670,
          670,
          670,
          730,
          730,
          730,
          730,
          730,
          730,
          790,
          790,
          790,
          790,
          790,
          790,
          790,
          790,
          790,
          850,
          850,
          850,
          850,
          850,
          850,
          850
         ],
         "y": [
          510,
          580,
          424,
          493,
          432,
          534,
          443,
          420,
          580,
          478,
          594,
          591,
          515,
          482,
          478,
          560,
          545,
          479,
          431,
          616,
          600,
          610,
          449,
          467,
          643,
          578,
          703,
          756,
          549,
          472,
          626,
          680,
          683,
          927,
          686,
          562,
          681,
          593,
          763,
          660,
          633,
          771,
          849,
          508,
          661,
          814,
          746,
          941,
          700,
          556,
          811,
          904,
          722,
          887,
          825,
          879,
          830,
          888,
          687,
          821,
          783
         ]
        },
        {
         "marker": {
          "color": "#e7533a",
          "line": {
           "color": "black",
           "width": 1
          },
          "size": 10
         },
         "mode": "markers",
         "name": "Block: 845 ms",
         "type": "scatter",
         "x": [
          670,
          670,
          670,
          670,
          670,
          670,
          670,
          670,
          670,
          670,
          670,
          670,
          670,
          670,
          670,
          670,
          670,
          670,
          670,
          670,
          670,
          730,
          730,
          730,
          730,
          730,
          730,
          730,
          730,
          730,
          730,
          730,
          730,
          730,
          730,
          730,
          730,
          730,
          730,
          730,
          730,
          730,
          730,
          730,
          730,
          790,
          790,
          790,
          790,
          790,
          790,
          790,
          790,
          790,
          790,
          790,
          790,
          790,
          790,
          790,
          790,
          790,
          790,
          790,
          790,
          790,
          790,
          790,
          790,
          790,
          790,
          790,
          790,
          790,
          850,
          850,
          850,
          850,
          850,
          850,
          850,
          850,
          850,
          850,
          850,
          850,
          850,
          850,
          850,
          850,
          850,
          850,
          850,
          850,
          850,
          850,
          850,
          910,
          910,
          910,
          910,
          910,
          910,
          910,
          910,
          910,
          910,
          910,
          910,
          910,
          910,
          910,
          910,
          910,
          910,
          910,
          910,
          910,
          910,
          910,
          910,
          910,
          910,
          910,
          910,
          910,
          910,
          910,
          910,
          910,
          910,
          910,
          910,
          910,
          910,
          910,
          910,
          910,
          910,
          960,
          960,
          960,
          960,
          960,
          960,
          960,
          960,
          960,
          960,
          960,
          960,
          960,
          960,
          960,
          960,
          960,
          960,
          960,
          960,
          960,
          960,
          1020,
          1020,
          1020,
          1020,
          1020,
          1020,
          1020,
          1020,
          1020,
          1020,
          1020,
          1020,
          1020,
          1020,
          1020,
          1020,
          1020,
          1020,
          1020,
          1020,
          1020,
          1020,
          1020,
          1020,
          1020,
          1020,
          1020,
          1020,
          1020,
          1020,
          1020
         ],
         "y": [
          554,
          710,
          695,
          736,
          794,
          784,
          874,
          677,
          943,
          961,
          817,
          939,
          820,
          1039,
          1004,
          1036,
          868,
          974,
          485,
          756,
          586,
          705,
          1143,
          753,
          724,
          975,
          906,
          862,
          818,
          917,
          870,
          922,
          790,
          723,
          900,
          869,
          928,
          788,
          1010,
          868,
          578,
          998,
          906,
          831,
          814,
          758,
          758,
          914,
          629,
          821,
          820,
          933,
          930,
          977,
          824,
          833,
          945,
          778,
          903,
          690,
          870,
          768,
          748,
          848,
          976,
          611,
          952,
          946,
          732,
          904,
          847,
          750,
          787,
          829,
          1044,
          905,
          853,
          871,
          916,
          933,
          865,
          1031,
          896,
          908,
          842,
          854,
          987,
          920,
          879,
          865,
          927,
          815,
          904,
          832,
          717,
          780,
          843,
          716,
          982,
          894,
          929,
          796,
          1006,
          887,
          858,
          889,
          958,
          936,
          798,
          970,
          1024,
          952,
          895,
          899,
          913,
          1025,
          928,
          997,
          804,
          916,
          995,
          997,
          1185,
          906,
          956,
          979,
          1120,
          848,
          747,
          971,
          796,
          877,
          847,
          1026,
          720,
          922,
          869,
          826,
          756,
          1063,
          980,
          1021,
          924,
          966,
          991,
          963,
          907,
          835,
          902,
          876,
          856,
          1083,
          990,
          988,
          860,
          870,
          1131,
          875,
          843,
          835,
          863,
          1139,
          1097,
          830,
          858,
          962,
          998,
          941,
          1014,
          978,
          836,
          1007,
          884,
          987,
          959,
          878,
          803,
          1025,
          1014,
          737,
          875,
          873,
          950,
          892,
          903,
          987,
          811,
          906,
          970,
          1086,
          1037,
          791
         ]
        },
        {
         "marker": {
          "color": "#7f0000",
          "line": {
           "color": "black",
           "width": 1
          },
          "size": 10
         },
         "mode": "markers",
         "name": "Block: 1025 ms",
         "type": "scatter",
         "x": [
          850,
          850,
          850,
          850,
          850,
          850,
          850,
          850,
          850,
          850,
          850,
          850,
          850,
          850,
          850,
          850,
          850,
          850,
          850,
          850,
          850,
          850,
          850,
          850,
          850,
          850,
          850,
          850,
          850,
          850,
          850,
          850,
          850,
          850,
          850,
          850,
          850,
          850,
          850,
          850,
          850,
          850,
          850,
          850,
          850,
          850,
          850,
          850,
          850,
          850,
          850,
          850,
          850,
          850,
          850,
          850,
          850,
          850,
          850,
          850,
          910,
          910,
          910,
          910,
          910,
          910,
          910,
          910,
          910,
          910,
          910,
          910,
          910,
          910,
          910,
          910,
          910,
          910,
          910,
          910,
          910,
          910,
          910,
          910,
          910,
          910,
          910,
          910,
          910,
          910,
          910,
          910,
          910,
          910,
          910,
          910,
          910,
          910,
          910,
          910,
          910,
          910,
          910,
          910,
          910,
          910,
          910,
          910,
          910,
          910,
          910,
          910,
          910,
          910,
          910,
          910,
          910,
          910,
          910,
          910,
          910,
          910,
          910,
          960,
          960,
          960,
          960,
          960,
          960,
          960,
          960,
          960,
          960,
          960,
          960,
          960,
          960,
          960,
          960,
          960,
          960,
          960,
          960,
          960,
          960,
          960,
          960,
          960,
          960,
          960,
          960,
          960,
          960,
          960,
          960,
          960,
          960,
          960,
          960,
          960,
          960,
          960,
          960,
          960,
          960,
          960,
          960,
          960,
          960,
          960,
          960,
          960,
          960,
          960,
          960,
          960,
          960,
          960,
          960,
          960,
          960,
          960,
          960,
          960,
          960,
          960,
          960,
          1020,
          1020,
          1020,
          1020,
          1020,
          1020,
          1020,
          1020,
          1020,
          1020,
          1020,
          1020,
          1020,
          1020,
          1020,
          1020,
          1020,
          1020,
          1020,
          1020,
          1020,
          1020,
          1020,
          1020,
          1020,
          1020,
          1020,
          1020,
          1020,
          1020,
          1020,
          1020,
          1020,
          1020,
          1020,
          1020,
          1020,
          1020,
          1020,
          1020,
          1020,
          1020,
          1020,
          1020,
          1020,
          1020,
          1020,
          1020,
          1020,
          1020,
          1020,
          1020,
          1020,
          1020,
          1020,
          1020,
          1020,
          1020,
          1020,
          1020,
          1020,
          1020,
          1080,
          1080,
          1080,
          1080,
          1080,
          1080,
          1080,
          1080,
          1080,
          1080,
          1080,
          1080,
          1080,
          1080,
          1080,
          1080,
          1080,
          1080,
          1080,
          1080,
          1080,
          1080,
          1080,
          1080,
          1080,
          1080,
          1080,
          1080,
          1080,
          1080,
          1080,
          1080,
          1080,
          1080,
          1080,
          1080,
          1080,
          1080,
          1080,
          1080,
          1080,
          1080,
          1080,
          1080,
          1080,
          1080,
          1080,
          1080,
          1080,
          1080,
          1080,
          1080,
          1080,
          1080,
          1080,
          1080,
          1080,
          1080,
          1080,
          1080,
          1080,
          1080,
          1080,
          1080,
          1080,
          1080,
          1080,
          1140,
          1140,
          1140,
          1140,
          1140,
          1140,
          1140,
          1140,
          1140,
          1140,
          1140,
          1140,
          1140,
          1140,
          1140,
          1140,
          1140,
          1140,
          1140,
          1140,
          1140,
          1140,
          1140,
          1140,
          1140,
          1140,
          1140,
          1140,
          1140,
          1140,
          1140,
          1140,
          1140,
          1140,
          1140,
          1140,
          1140,
          1140,
          1140,
          1140,
          1140,
          1140,
          1140,
          1140,
          1140,
          1140,
          1140,
          1140,
          1140,
          1140,
          1140,
          1140,
          1140,
          1140,
          1140,
          1140,
          1140,
          1140,
          1140,
          1200,
          1200,
          1200,
          1200,
          1200,
          1200,
          1200,
          1200,
          1200,
          1200,
          1200,
          1200,
          1200,
          1200,
          1200,
          1200,
          1200,
          1200,
          1200,
          1200,
          1200,
          1200,
          1200,
          1200,
          1200,
          1200,
          1200,
          1200,
          1200,
          1200,
          1200,
          1200,
          1200,
          1200,
          1200,
          1200,
          1200,
          1200,
          1200,
          1200,
          1200,
          1200,
          1200,
          1200,
          1200,
          1200,
          1200,
          1200,
          1200,
          1200,
          1200,
          1200,
          1200,
          1200,
          1200,
          1200,
          1200,
          1200,
          1200,
          1200,
          1200,
          1200,
          1200,
          1200,
          1200,
          1200,
          1200,
          1200,
          1200,
          1200,
          1200,
          1200,
          1200
         ],
         "y": [
          723,
          1080,
          1209,
          616,
          1115,
          746,
          1174,
          977,
          1029,
          944,
          1021,
          971,
          924,
          1216,
          794,
          944,
          662,
          753,
          852,
          719,
          982,
          767,
          747,
          1227,
          1091,
          1049,
          846,
          1031,
          1136,
          911,
          1044,
          993,
          664,
          910,
          1105,
          819,
          877,
          983,
          745,
          925,
          953,
          880,
          1229,
          1109,
          739,
          925,
          1147,
          957,
          885,
          890,
          1085,
          666,
          906,
          948,
          1064,
          1120,
          966,
          714,
          976,
          1235,
          982,
          933,
          1034,
          1135,
          898,
          1070,
          1257,
          1146,
          1106,
          952,
          1061,
          994,
          874,
          924,
          776,
          921,
          928,
          853,
          879,
          887,
          846,
          1282,
          915,
          918,
          1038,
          1262,
          948,
          991,
          1211,
          866,
          957,
          1155,
          942,
          887,
          994,
          1058,
          859,
          898,
          975,
          1287,
          1002,
          1110,
          1007,
          901,
          1193,
          931,
          993,
          1008,
          995,
          864,
          1179,
          1015,
          810,
          1104,
          984,
          843,
          1186,
          961,
          876,
          837,
          1170,
          1042,
          1039,
          946,
          954,
          974,
          886,
          1159,
          1150,
          1010,
          1081,
          1088,
          1057,
          1048,
          913,
          1092,
          1055,
          1084,
          939,
          1017,
          984,
          721,
          808,
          914,
          823,
          762,
          1031,
          1162,
          985,
          891,
          882,
          1164,
          894,
          1127,
          851,
          982,
          851,
          870,
          1158,
          1083,
          953,
          1191,
          1191,
          978,
          862,
          913,
          1093,
          1251,
          1210,
          1134,
          1065,
          1252,
          968,
          1234,
          883,
          1204,
          1036,
          1279,
          1495,
          1196,
          1183,
          1032,
          1051,
          1140,
          1069,
          1171,
          1057,
          885,
          1027,
          993,
          1261,
          913,
          1069,
          1011,
          1153,
          1010,
          1185,
          954,
          1031,
          1159,
          1200,
          1059,
          1218,
          913,
          898,
          958,
          958,
          989,
          1053,
          913,
          972,
          937,
          1063,
          880,
          1049,
          1061,
          988,
          829,
          1012,
          963,
          1086,
          1017,
          1003,
          1011,
          868,
          1151,
          1039,
          1112,
          1292,
          1107,
          916,
          1111,
          1204,
          1145,
          1109,
          926,
          1067,
          986,
          1121,
          1175,
          1096,
          991,
          1141,
          1011,
          1090,
          901,
          1201,
          1145,
          1117,
          929,
          1240,
          1294,
          1085,
          1020,
          1088,
          928,
          1072,
          1017,
          1074,
          1111,
          1060,
          1069,
          984,
          988,
          890,
          981,
          682,
          743,
          946,
          974,
          922,
          842,
          961,
          900,
          1050,
          1079,
          1041,
          1150,
          1280,
          1150,
          797,
          1190,
          1018,
          1107,
          1147,
          1106,
          1116,
          1255,
          939,
          807,
          914,
          1067,
          952,
          1034,
          1090,
          1082,
          791,
          1116,
          1064,
          1336,
          996,
          1107,
          1165,
          1108,
          1171,
          1169,
          937,
          1140,
          1084,
          1053,
          1053,
          969,
          1040,
          843,
          735,
          1185,
          962,
          1112,
          987,
          1319,
          1104,
          1074,
          980,
          1161,
          1238,
          1005,
          1142,
          746,
          926,
          1084,
          1030,
          1113,
          848,
          1142,
          940,
          1116,
          1161,
          1159,
          1478,
          1138,
          1060,
          1214,
          1174,
          1066,
          1089,
          1041,
          1106,
          922,
          1131,
          1108,
          1164,
          1156,
          961,
          1200,
          1035,
          1024,
          1018,
          1065,
          1088,
          1056,
          984,
          1073,
          1017,
          1304,
          998,
          1156,
          1171,
          1110,
          1202,
          1226,
          1277,
          794,
          1222,
          1016,
          858,
          830,
          1115,
          1116,
          1145,
          1105,
          1116,
          1174,
          1254,
          1074,
          1036,
          903,
          1222,
          1056,
          1096,
          1080,
          1221,
          1041,
          1201,
          1140,
          813,
          1003,
          1074,
          988,
          1017,
          1235,
          1180,
          1093,
          1227,
          1091,
          906,
          1153,
          917,
          1235,
          1146,
          940,
          1244,
          1135,
          1268,
          1104,
          1131,
          1244,
          1055,
          1258,
          1051,
          1121,
          1192,
          1099,
          1134,
          1147,
          1244,
          1255,
          1212,
          869,
          1079,
          935,
          1214,
          1076,
          1035,
          1077,
          1063,
          1365,
          1064,
          1148,
          1216,
          1056,
          1345,
          1174,
          1243,
          1145,
          1179,
          1092,
          1063,
          1263
         ]
        },
        {
         "line": {
          "color": "gray",
          "dash": "dash",
          "width": 2
         },
         "mode": "lines",
         "name": "Unity Line",
         "showlegend": true,
         "type": "scatter",
         "x": [
          420,
          1495
         ],
         "y": [
          420,
          1495
         ]
        }
       ],
       "layout": {
        "height": 600,
        "legend": {
         "title": {
          "text": "Block Number"
         },
         "x": 1.05
        },
        "margin": {
         "b": 80,
         "l": 80,
         "r": 80,
         "t": 80
        },
        "plot_bgcolor": "white",
        "template": {
         "data": {
          "bar": [
           {
            "error_x": {
             "color": "#2a3f5f"
            },
            "error_y": {
             "color": "#2a3f5f"
            },
            "marker": {
             "line": {
              "color": "#E5ECF6",
              "width": 0.5
             },
             "pattern": {
              "fillmode": "overlay",
              "size": 10,
              "solidity": 0.2
             }
            },
            "type": "bar"
           }
          ],
          "barpolar": [
           {
            "marker": {
             "line": {
              "color": "#E5ECF6",
              "width": 0.5
             },
             "pattern": {
              "fillmode": "overlay",
              "size": 10,
              "solidity": 0.2
             }
            },
            "type": "barpolar"
           }
          ],
          "carpet": [
           {
            "aaxis": {
             "endlinecolor": "#2a3f5f",
             "gridcolor": "white",
             "linecolor": "white",
             "minorgridcolor": "white",
             "startlinecolor": "#2a3f5f"
            },
            "baxis": {
             "endlinecolor": "#2a3f5f",
             "gridcolor": "white",
             "linecolor": "white",
             "minorgridcolor": "white",
             "startlinecolor": "#2a3f5f"
            },
            "type": "carpet"
           }
          ],
          "choropleth": [
           {
            "colorbar": {
             "outlinewidth": 0,
             "ticks": ""
            },
            "type": "choropleth"
           }
          ],
          "contour": [
           {
            "colorbar": {
             "outlinewidth": 0,
             "ticks": ""
            },
            "colorscale": [
             [
              0,
              "#0d0887"
             ],
             [
              0.1111111111111111,
              "#46039f"
             ],
             [
              0.2222222222222222,
              "#7201a8"
             ],
             [
              0.3333333333333333,
              "#9c179e"
             ],
             [
              0.4444444444444444,
              "#bd3786"
             ],
             [
              0.5555555555555556,
              "#d8576b"
             ],
             [
              0.6666666666666666,
              "#ed7953"
             ],
             [
              0.7777777777777778,
              "#fb9f3a"
             ],
             [
              0.8888888888888888,
              "#fdca26"
             ],
             [
              1,
              "#f0f921"
             ]
            ],
            "type": "contour"
           }
          ],
          "contourcarpet": [
           {
            "colorbar": {
             "outlinewidth": 0,
             "ticks": ""
            },
            "type": "contourcarpet"
           }
          ],
          "heatmap": [
           {
            "colorbar": {
             "outlinewidth": 0,
             "ticks": ""
            },
            "colorscale": [
             [
              0,
              "#0d0887"
             ],
             [
              0.1111111111111111,
              "#46039f"
             ],
             [
              0.2222222222222222,
              "#7201a8"
             ],
             [
              0.3333333333333333,
              "#9c179e"
             ],
             [
              0.4444444444444444,
              "#bd3786"
             ],
             [
              0.5555555555555556,
              "#d8576b"
             ],
             [
              0.6666666666666666,
              "#ed7953"
             ],
             [
              0.7777777777777778,
              "#fb9f3a"
             ],
             [
              0.8888888888888888,
              "#fdca26"
             ],
             [
              1,
              "#f0f921"
             ]
            ],
            "type": "heatmap"
           }
          ],
          "heatmapgl": [
           {
            "colorbar": {
             "outlinewidth": 0,
             "ticks": ""
            },
            "colorscale": [
             [
              0,
              "#0d0887"
             ],
             [
              0.1111111111111111,
              "#46039f"
             ],
             [
              0.2222222222222222,
              "#7201a8"
             ],
             [
              0.3333333333333333,
              "#9c179e"
             ],
             [
              0.4444444444444444,
              "#bd3786"
             ],
             [
              0.5555555555555556,
              "#d8576b"
             ],
             [
              0.6666666666666666,
              "#ed7953"
             ],
             [
              0.7777777777777778,
              "#fb9f3a"
             ],
             [
              0.8888888888888888,
              "#fdca26"
             ],
             [
              1,
              "#f0f921"
             ]
            ],
            "type": "heatmapgl"
           }
          ],
          "histogram": [
           {
            "marker": {
             "pattern": {
              "fillmode": "overlay",
              "size": 10,
              "solidity": 0.2
             }
            },
            "type": "histogram"
           }
          ],
          "histogram2d": [
           {
            "colorbar": {
             "outlinewidth": 0,
             "ticks": ""
            },
            "colorscale": [
             [
              0,
              "#0d0887"
             ],
             [
              0.1111111111111111,
              "#46039f"
             ],
             [
              0.2222222222222222,
              "#7201a8"
             ],
             [
              0.3333333333333333,
              "#9c179e"
             ],
             [
              0.4444444444444444,
              "#bd3786"
             ],
             [
              0.5555555555555556,
              "#d8576b"
             ],
             [
              0.6666666666666666,
              "#ed7953"
             ],
             [
              0.7777777777777778,
              "#fb9f3a"
             ],
             [
              0.8888888888888888,
              "#fdca26"
             ],
             [
              1,
              "#f0f921"
             ]
            ],
            "type": "histogram2d"
           }
          ],
          "histogram2dcontour": [
           {
            "colorbar": {
             "outlinewidth": 0,
             "ticks": ""
            },
            "colorscale": [
             [
              0,
              "#0d0887"
             ],
             [
              0.1111111111111111,
              "#46039f"
             ],
             [
              0.2222222222222222,
              "#7201a8"
             ],
             [
              0.3333333333333333,
              "#9c179e"
             ],
             [
              0.4444444444444444,
              "#bd3786"
             ],
             [
              0.5555555555555556,
              "#d8576b"
             ],
             [
              0.6666666666666666,
              "#ed7953"
             ],
             [
              0.7777777777777778,
              "#fb9f3a"
             ],
             [
              0.8888888888888888,
              "#fdca26"
             ],
             [
              1,
              "#f0f921"
             ]
            ],
            "type": "histogram2dcontour"
           }
          ],
          "mesh3d": [
           {
            "colorbar": {
             "outlinewidth": 0,
             "ticks": ""
            },
            "type": "mesh3d"
           }
          ],
          "parcoords": [
           {
            "line": {
             "colorbar": {
              "outlinewidth": 0,
              "ticks": ""
             }
            },
            "type": "parcoords"
           }
          ],
          "pie": [
           {
            "automargin": true,
            "type": "pie"
           }
          ],
          "scatter": [
           {
            "fillpattern": {
             "fillmode": "overlay",
             "size": 10,
             "solidity": 0.2
            },
            "type": "scatter"
           }
          ],
          "scatter3d": [
           {
            "line": {
             "colorbar": {
              "outlinewidth": 0,
              "ticks": ""
             }
            },
            "marker": {
             "colorbar": {
              "outlinewidth": 0,
              "ticks": ""
             }
            },
            "type": "scatter3d"
           }
          ],
          "scattercarpet": [
           {
            "marker": {
             "colorbar": {
              "outlinewidth": 0,
              "ticks": ""
             }
            },
            "type": "scattercarpet"
           }
          ],
          "scattergeo": [
           {
            "marker": {
             "colorbar": {
              "outlinewidth": 0,
              "ticks": ""
             }
            },
            "type": "scattergeo"
           }
          ],
          "scattergl": [
           {
            "marker": {
             "colorbar": {
              "outlinewidth": 0,
              "ticks": ""
             }
            },
            "type": "scattergl"
           }
          ],
          "scattermapbox": [
           {
            "marker": {
             "colorbar": {
              "outlinewidth": 0,
              "ticks": ""
             }
            },
            "type": "scattermapbox"
           }
          ],
          "scatterpolar": [
           {
            "marker": {
             "colorbar": {
              "outlinewidth": 0,
              "ticks": ""
             }
            },
            "type": "scatterpolar"
           }
          ],
          "scatterpolargl": [
           {
            "marker": {
             "colorbar": {
              "outlinewidth": 0,
              "ticks": ""
             }
            },
            "type": "scatterpolargl"
           }
          ],
          "scatterternary": [
           {
            "marker": {
             "colorbar": {
              "outlinewidth": 0,
              "ticks": ""
             }
            },
            "type": "scatterternary"
           }
          ],
          "surface": [
           {
            "colorbar": {
             "outlinewidth": 0,
             "ticks": ""
            },
            "colorscale": [
             [
              0,
              "#0d0887"
             ],
             [
              0.1111111111111111,
              "#46039f"
             ],
             [
              0.2222222222222222,
              "#7201a8"
             ],
             [
              0.3333333333333333,
              "#9c179e"
             ],
             [
              0.4444444444444444,
              "#bd3786"
             ],
             [
              0.5555555555555556,
              "#d8576b"
             ],
             [
              0.6666666666666666,
              "#ed7953"
             ],
             [
              0.7777777777777778,
              "#fb9f3a"
             ],
             [
              0.8888888888888888,
              "#fdca26"
             ],
             [
              1,
              "#f0f921"
             ]
            ],
            "type": "surface"
           }
          ],
          "table": [
           {
            "cells": {
             "fill": {
              "color": "#EBF0F8"
             },
             "line": {
              "color": "white"
             }
            },
            "header": {
             "fill": {
              "color": "#C8D4E3"
             },
             "line": {
              "color": "white"
             }
            },
            "type": "table"
           }
          ]
         },
         "layout": {
          "annotationdefaults": {
           "arrowcolor": "#2a3f5f",
           "arrowhead": 0,
           "arrowwidth": 1
          },
          "autotypenumbers": "strict",
          "coloraxis": {
           "colorbar": {
            "outlinewidth": 0,
            "ticks": ""
           }
          },
          "colorscale": {
           "diverging": [
            [
             0,
             "#8e0152"
            ],
            [
             0.1,
             "#c51b7d"
            ],
            [
             0.2,
             "#de77ae"
            ],
            [
             0.3,
             "#f1b6da"
            ],
            [
             0.4,
             "#fde0ef"
            ],
            [
             0.5,
             "#f7f7f7"
            ],
            [
             0.6,
             "#e6f5d0"
            ],
            [
             0.7,
             "#b8e186"
            ],
            [
             0.8,
             "#7fbc41"
            ],
            [
             0.9,
             "#4d9221"
            ],
            [
             1,
             "#276419"
            ]
           ],
           "sequential": [
            [
             0,
             "#0d0887"
            ],
            [
             0.1111111111111111,
             "#46039f"
            ],
            [
             0.2222222222222222,
             "#7201a8"
            ],
            [
             0.3333333333333333,
             "#9c179e"
            ],
            [
             0.4444444444444444,
             "#bd3786"
            ],
            [
             0.5555555555555556,
             "#d8576b"
            ],
            [
             0.6666666666666666,
             "#ed7953"
            ],
            [
             0.7777777777777778,
             "#fb9f3a"
            ],
            [
             0.8888888888888888,
             "#fdca26"
            ],
            [
             1,
             "#f0f921"
            ]
           ],
           "sequentialminus": [
            [
             0,
             "#0d0887"
            ],
            [
             0.1111111111111111,
             "#46039f"
            ],
            [
             0.2222222222222222,
             "#7201a8"
            ],
            [
             0.3333333333333333,
             "#9c179e"
            ],
            [
             0.4444444444444444,
             "#bd3786"
            ],
            [
             0.5555555555555556,
             "#d8576b"
            ],
            [
             0.6666666666666666,
             "#ed7953"
            ],
            [
             0.7777777777777778,
             "#fb9f3a"
            ],
            [
             0.8888888888888888,
             "#fdca26"
            ],
            [
             1,
             "#f0f921"
            ]
           ]
          },
          "colorway": [
           "#636efa",
           "#EF553B",
           "#00cc96",
           "#ab63fa",
           "#FFA15A",
           "#19d3f3",
           "#FF6692",
           "#B6E880",
           "#FF97FF",
           "#FECB52"
          ],
          "font": {
           "color": "#2a3f5f"
          },
          "geo": {
           "bgcolor": "white",
           "lakecolor": "white",
           "landcolor": "#E5ECF6",
           "showlakes": true,
           "showland": true,
           "subunitcolor": "white"
          },
          "hoverlabel": {
           "align": "left"
          },
          "hovermode": "closest",
          "mapbox": {
           "style": "light"
          },
          "paper_bgcolor": "white",
          "plot_bgcolor": "#E5ECF6",
          "polar": {
           "angularaxis": {
            "gridcolor": "white",
            "linecolor": "white",
            "ticks": ""
           },
           "bgcolor": "#E5ECF6",
           "radialaxis": {
            "gridcolor": "white",
            "linecolor": "white",
            "ticks": ""
           }
          },
          "scene": {
           "xaxis": {
            "backgroundcolor": "#E5ECF6",
            "gridcolor": "white",
            "gridwidth": 2,
            "linecolor": "white",
            "showbackground": true,
            "ticks": "",
            "zerolinecolor": "white"
           },
           "yaxis": {
            "backgroundcolor": "#E5ECF6",
            "gridcolor": "white",
            "gridwidth": 2,
            "linecolor": "white",
            "showbackground": true,
            "ticks": "",
            "zerolinecolor": "white"
           },
           "zaxis": {
            "backgroundcolor": "#E5ECF6",
            "gridcolor": "white",
            "gridwidth": 2,
            "linecolor": "white",
            "showbackground": true,
            "ticks": "",
            "zerolinecolor": "white"
           }
          },
          "shapedefaults": {
           "line": {
            "color": "#2a3f5f"
           }
          },
          "ternary": {
           "aaxis": {
            "gridcolor": "white",
            "linecolor": "white",
            "ticks": ""
           },
           "baxis": {
            "gridcolor": "white",
            "linecolor": "white",
            "ticks": ""
           },
           "bgcolor": "#E5ECF6",
           "caxis": {
            "gridcolor": "white",
            "linecolor": "white",
            "ticks": ""
           }
          },
          "title": {
           "x": 0.05
          },
          "xaxis": {
           "automargin": true,
           "gridcolor": "white",
           "linecolor": "white",
           "ticks": "",
           "title": {
            "standoff": 15
           },
           "zerolinecolor": "white",
           "zerolinewidth": 2
          },
          "yaxis": {
           "automargin": true,
           "gridcolor": "white",
           "linecolor": "white",
           "ticks": "",
           "title": {
            "standoff": 15
           },
           "zerolinecolor": "white",
           "zerolinewidth": 2
          }
         }
        },
        "title": {
         "text": "RSG Task: Reported vs Actual Interval (Grouped by Set Duration)"
        },
        "width": 700,
        "xaxis": {
         "gridcolor": "lightgray",
         "range": [
          420,
          1495
         ],
         "showgrid": true,
         "title": {
          "text": "Actual Interval (ms)"
         }
        },
        "yaxis": {
         "gridcolor": "lightgray",
         "range": [
          420,
          1495
         ],
         "showgrid": true,
         "title": {
          "text": "Reported Interval (ms)"
         }
        }
       }
      },
      "text/html": [
       "<div>                            <div id=\"cdb1e685-0196-415e-9cd9-aaa7be2158d4\" class=\"plotly-graph-div\" style=\"height:600px; width:700px;\"></div>            <script type=\"text/javascript\">                require([\"plotly\"], function(Plotly) {                    window.PLOTLYENV=window.PLOTLYENV || {};                                    if (document.getElementById(\"cdb1e685-0196-415e-9cd9-aaa7be2158d4\")) {                    Plotly.newPlot(                        \"cdb1e685-0196-415e-9cd9-aaa7be2158d4\",                        [{\"marker\":{\"color\":\"#fdc38d\",\"line\":{\"color\":\"black\",\"width\":1},\"size\":10},\"mode\":\"markers\",\"name\":\"Block: 670 ms\",\"x\":[490.0,490.0,490.0,490.0,490.0,490.0,550.0,550.0,550.0,550.0,550.0,550.0,550.0,550.0,550.0,550.0,550.0,550.0,550.0,550.0,610.0,610.0,610.0,610.0,610.0,610.0,610.0,610.0,610.0,610.0,610.0,610.0,610.0,670.0,670.0,670.0,670.0,670.0,670.0,730.0,730.0,730.0,730.0,730.0,730.0,790.0,790.0,790.0,790.0,790.0,790.0,790.0,790.0,790.0,850.0,850.0,850.0,850.0,850.0,850.0,850.0],\"y\":[510.0,580.0,424.0,493.0,432.0,534.0,443.0,420.0,580.0,478.0,594.0,591.0,515.0,482.0,478.0,560.0,545.0,479.0,431.0,616.0,600.0,610.0,449.0,467.0,643.0,578.0,703.0,756.0,549.0,472.0,626.0,680.0,683.0,927.0,686.0,562.0,681.0,593.0,763.0,660.0,633.0,771.0,849.0,508.0,661.0,814.0,746.0,941.0,700.0,556.0,811.0,904.0,722.0,887.0,825.0,879.0,830.0,888.0,687.0,821.0,783.0],\"type\":\"scatter\"},{\"marker\":{\"color\":\"#e7533a\",\"line\":{\"color\":\"black\",\"width\":1},\"size\":10},\"mode\":\"markers\",\"name\":\"Block: 845 ms\",\"x\":[670.0,670.0,670.0,670.0,670.0,670.0,670.0,670.0,670.0,670.0,670.0,670.0,670.0,670.0,670.0,670.0,670.0,670.0,670.0,670.0,670.0,730.0,730.0,730.0,730.0,730.0,730.0,730.0,730.0,730.0,730.0,730.0,730.0,730.0,730.0,730.0,730.0,730.0,730.0,730.0,730.0,730.0,730.0,730.0,730.0,790.0,790.0,790.0,790.0,790.0,790.0,790.0,790.0,790.0,790.0,790.0,790.0,790.0,790.0,790.0,790.0,790.0,790.0,790.0,790.0,790.0,790.0,790.0,790.0,790.0,790.0,790.0,790.0,790.0,850.0,850.0,850.0,850.0,850.0,850.0,850.0,850.0,850.0,850.0,850.0,850.0,850.0,850.0,850.0,850.0,850.0,850.0,850.0,850.0,850.0,850.0,850.0,910.0,910.0,910.0,910.0,910.0,910.0,910.0,910.0,910.0,910.0,910.0,910.0,910.0,910.0,910.0,910.0,910.0,910.0,910.0,910.0,910.0,910.0,910.0,910.0,910.0,910.0,910.0,910.0,910.0,910.0,910.0,910.0,910.0,910.0,910.0,910.0,910.0,910.0,910.0,910.0,910.0,910.0,960.0,960.0,960.0,960.0,960.0,960.0,960.0,960.0,960.0,960.0,960.0,960.0,960.0,960.0,960.0,960.0,960.0,960.0,960.0,960.0,960.0,960.0,1020.0,1020.0,1020.0,1020.0,1020.0,1020.0,1020.0,1020.0,1020.0,1020.0,1020.0,1020.0,1020.0,1020.0,1020.0,1020.0,1020.0,1020.0,1020.0,1020.0,1020.0,1020.0,1020.0,1020.0,1020.0,1020.0,1020.0,1020.0,1020.0,1020.0,1020.0],\"y\":[554.0,710.0,695.0,736.0,794.0,784.0,874.0,677.0,943.0,961.0,817.0,939.0,820.0,1039.0,1004.0,1036.0,868.0,974.0,485.0,756.0,586.0,705.0,1143.0,753.0,724.0,975.0,906.0,862.0,818.0,917.0,870.0,922.0,790.0,723.0,900.0,869.0,928.0,788.0,1010.0,868.0,578.0,998.0,906.0,831.0,814.0,758.0,758.0,914.0,629.0,821.0,820.0,933.0,930.0,977.0,824.0,833.0,945.0,778.0,903.0,690.0,870.0,768.0,748.0,848.0,976.0,611.0,952.0,946.0,732.0,904.0,847.0,750.0,787.0,829.0,1044.0,905.0,853.0,871.0,916.0,933.0,865.0,1031.0,896.0,908.0,842.0,854.0,987.0,920.0,879.0,865.0,927.0,815.0,904.0,832.0,717.0,780.0,843.0,716.0,982.0,894.0,929.0,796.0,1006.0,887.0,858.0,889.0,958.0,936.0,798.0,970.0,1024.0,952.0,895.0,899.0,913.0,1025.0,928.0,997.0,804.0,916.0,995.0,997.0,1185.0,906.0,956.0,979.0,1120.0,848.0,747.0,971.0,796.0,877.0,847.0,1026.0,720.0,922.0,869.0,826.0,756.0,1063.0,980.0,1021.0,924.0,966.0,991.0,963.0,907.0,835.0,902.0,876.0,856.0,1083.0,990.0,988.0,860.0,870.0,1131.0,875.0,843.0,835.0,863.0,1139.0,1097.0,830.0,858.0,962.0,998.0,941.0,1014.0,978.0,836.0,1007.0,884.0,987.0,959.0,878.0,803.0,1025.0,1014.0,737.0,875.0,873.0,950.0,892.0,903.0,987.0,811.0,906.0,970.0,1086.0,1037.0,791.0],\"type\":\"scatter\"},{\"marker\":{\"color\":\"#7f0000\",\"line\":{\"color\":\"black\",\"width\":1},\"size\":10},\"mode\":\"markers\",\"name\":\"Block: 1025 ms\",\"x\":[850.0,850.0,850.0,850.0,850.0,850.0,850.0,850.0,850.0,850.0,850.0,850.0,850.0,850.0,850.0,850.0,850.0,850.0,850.0,850.0,850.0,850.0,850.0,850.0,850.0,850.0,850.0,850.0,850.0,850.0,850.0,850.0,850.0,850.0,850.0,850.0,850.0,850.0,850.0,850.0,850.0,850.0,850.0,850.0,850.0,850.0,850.0,850.0,850.0,850.0,850.0,850.0,850.0,850.0,850.0,850.0,850.0,850.0,850.0,850.0,910.0,910.0,910.0,910.0,910.0,910.0,910.0,910.0,910.0,910.0,910.0,910.0,910.0,910.0,910.0,910.0,910.0,910.0,910.0,910.0,910.0,910.0,910.0,910.0,910.0,910.0,910.0,910.0,910.0,910.0,910.0,910.0,910.0,910.0,910.0,910.0,910.0,910.0,910.0,910.0,910.0,910.0,910.0,910.0,910.0,910.0,910.0,910.0,910.0,910.0,910.0,910.0,910.0,910.0,910.0,910.0,910.0,910.0,910.0,910.0,910.0,910.0,910.0,960.0,960.0,960.0,960.0,960.0,960.0,960.0,960.0,960.0,960.0,960.0,960.0,960.0,960.0,960.0,960.0,960.0,960.0,960.0,960.0,960.0,960.0,960.0,960.0,960.0,960.0,960.0,960.0,960.0,960.0,960.0,960.0,960.0,960.0,960.0,960.0,960.0,960.0,960.0,960.0,960.0,960.0,960.0,960.0,960.0,960.0,960.0,960.0,960.0,960.0,960.0,960.0,960.0,960.0,960.0,960.0,960.0,960.0,960.0,960.0,960.0,960.0,960.0,960.0,1020.0,1020.0,1020.0,1020.0,1020.0,1020.0,1020.0,1020.0,1020.0,1020.0,1020.0,1020.0,1020.0,1020.0,1020.0,1020.0,1020.0,1020.0,1020.0,1020.0,1020.0,1020.0,1020.0,1020.0,1020.0,1020.0,1020.0,1020.0,1020.0,1020.0,1020.0,1020.0,1020.0,1020.0,1020.0,1020.0,1020.0,1020.0,1020.0,1020.0,1020.0,1020.0,1020.0,1020.0,1020.0,1020.0,1020.0,1020.0,1020.0,1020.0,1020.0,1020.0,1020.0,1020.0,1020.0,1020.0,1020.0,1020.0,1020.0,1020.0,1020.0,1020.0,1080.0,1080.0,1080.0,1080.0,1080.0,1080.0,1080.0,1080.0,1080.0,1080.0,1080.0,1080.0,1080.0,1080.0,1080.0,1080.0,1080.0,1080.0,1080.0,1080.0,1080.0,1080.0,1080.0,1080.0,1080.0,1080.0,1080.0,1080.0,1080.0,1080.0,1080.0,1080.0,1080.0,1080.0,1080.0,1080.0,1080.0,1080.0,1080.0,1080.0,1080.0,1080.0,1080.0,1080.0,1080.0,1080.0,1080.0,1080.0,1080.0,1080.0,1080.0,1080.0,1080.0,1080.0,1080.0,1080.0,1080.0,1080.0,1080.0,1080.0,1080.0,1080.0,1080.0,1080.0,1080.0,1080.0,1080.0,1140.0,1140.0,1140.0,1140.0,1140.0,1140.0,1140.0,1140.0,1140.0,1140.0,1140.0,1140.0,1140.0,1140.0,1140.0,1140.0,1140.0,1140.0,1140.0,1140.0,1140.0,1140.0,1140.0,1140.0,1140.0,1140.0,1140.0,1140.0,1140.0,1140.0,1140.0,1140.0,1140.0,1140.0,1140.0,1140.0,1140.0,1140.0,1140.0,1140.0,1140.0,1140.0,1140.0,1140.0,1140.0,1140.0,1140.0,1140.0,1140.0,1140.0,1140.0,1140.0,1140.0,1140.0,1140.0,1140.0,1140.0,1140.0,1140.0,1200.0,1200.0,1200.0,1200.0,1200.0,1200.0,1200.0,1200.0,1200.0,1200.0,1200.0,1200.0,1200.0,1200.0,1200.0,1200.0,1200.0,1200.0,1200.0,1200.0,1200.0,1200.0,1200.0,1200.0,1200.0,1200.0,1200.0,1200.0,1200.0,1200.0,1200.0,1200.0,1200.0,1200.0,1200.0,1200.0,1200.0,1200.0,1200.0,1200.0,1200.0,1200.0,1200.0,1200.0,1200.0,1200.0,1200.0,1200.0,1200.0,1200.0,1200.0,1200.0,1200.0,1200.0,1200.0,1200.0,1200.0,1200.0,1200.0,1200.0,1200.0,1200.0,1200.0,1200.0,1200.0,1200.0,1200.0,1200.0,1200.0,1200.0,1200.0,1200.0,1200.0],\"y\":[723.0,1080.0,1209.0,616.0,1115.0,746.0,1174.0,977.0,1029.0,944.0,1021.0,971.0,924.0,1216.0,794.0,944.0,662.0,753.0,852.0,719.0,982.0,767.0,747.0,1227.0,1091.0,1049.0,846.0,1031.0,1136.0,911.0,1044.0,993.0,664.0,910.0,1105.0,819.0,877.0,983.0,745.0,925.0,953.0,880.0,1229.0,1109.0,739.0,925.0,1147.0,957.0,885.0,890.0,1085.0,666.0,906.0,948.0,1064.0,1120.0,966.0,714.0,976.0,1235.0,982.0,933.0,1034.0,1135.0,898.0,1070.0,1257.0,1146.0,1106.0,952.0,1061.0,994.0,874.0,924.0,776.0,921.0,928.0,853.0,879.0,887.0,846.0,1282.0,915.0,918.0,1038.0,1262.0,948.0,991.0,1211.0,866.0,957.0,1155.0,942.0,887.0,994.0,1058.0,859.0,898.0,975.0,1287.0,1002.0,1110.0,1007.0,901.0,1193.0,931.0,993.0,1008.0,995.0,864.0,1179.0,1015.0,810.0,1104.0,984.0,843.0,1186.0,961.0,876.0,837.0,1170.0,1042.0,1039.0,946.0,954.0,974.0,886.0,1159.0,1150.0,1010.0,1081.0,1088.0,1057.0,1048.0,913.0,1092.0,1055.0,1084.0,939.0,1017.0,984.0,721.0,808.0,914.0,823.0,762.0,1031.0,1162.0,985.0,891.0,882.0,1164.0,894.0,1127.0,851.0,982.0,851.0,870.0,1158.0,1083.0,953.0,1191.0,1191.0,978.0,862.0,913.0,1093.0,1251.0,1210.0,1134.0,1065.0,1252.0,968.0,1234.0,883.0,1204.0,1036.0,1279.0,1495.0,1196.0,1183.0,1032.0,1051.0,1140.0,1069.0,1171.0,1057.0,885.0,1027.0,993.0,1261.0,913.0,1069.0,1011.0,1153.0,1010.0,1185.0,954.0,1031.0,1159.0,1200.0,1059.0,1218.0,913.0,898.0,958.0,958.0,989.0,1053.0,913.0,972.0,937.0,1063.0,880.0,1049.0,1061.0,988.0,829.0,1012.0,963.0,1086.0,1017.0,1003.0,1011.0,868.0,1151.0,1039.0,1112.0,1292.0,1107.0,916.0,1111.0,1204.0,1145.0,1109.0,926.0,1067.0,986.0,1121.0,1175.0,1096.0,991.0,1141.0,1011.0,1090.0,901.0,1201.0,1145.0,1117.0,929.0,1240.0,1294.0,1085.0,1020.0,1088.0,928.0,1072.0,1017.0,1074.0,1111.0,1060.0,1069.0,984.0,988.0,890.0,981.0,682.0,743.0,946.0,974.0,922.0,842.0,961.0,900.0,1050.0,1079.0,1041.0,1150.0,1280.0,1150.0,797.0,1190.0,1018.0,1107.0,1147.0,1106.0,1116.0,1255.0,939.0,807.0,914.0,1067.0,952.0,1034.0,1090.0,1082.0,791.0,1116.0,1064.0,1336.0,996.0,1107.0,1165.0,1108.0,1171.0,1169.0,937.0,1140.0,1084.0,1053.0,1053.0,969.0,1040.0,843.0,735.0,1185.0,962.0,1112.0,987.0,1319.0,1104.0,1074.0,980.0,1161.0,1238.0,1005.0,1142.0,746.0,926.0,1084.0,1030.0,1113.0,848.0,1142.0,940.0,1116.0,1161.0,1159.0,1478.0,1138.0,1060.0,1214.0,1174.0,1066.0,1089.0,1041.0,1106.0,922.0,1131.0,1108.0,1164.0,1156.0,961.0,1200.0,1035.0,1024.0,1018.0,1065.0,1088.0,1056.0,984.0,1073.0,1017.0,1304.0,998.0,1156.0,1171.0,1110.0,1202.0,1226.0,1277.0,794.0,1222.0,1016.0,858.0,830.0,1115.0,1116.0,1145.0,1105.0,1116.0,1174.0,1254.0,1074.0,1036.0,903.0,1222.0,1056.0,1096.0,1080.0,1221.0,1041.0,1201.0,1140.0,813.0,1003.0,1074.0,988.0,1017.0,1235.0,1180.0,1093.0,1227.0,1091.0,906.0,1153.0,917.0,1235.0,1146.0,940.0,1244.0,1135.0,1268.0,1104.0,1131.0,1244.0,1055.0,1258.0,1051.0,1121.0,1192.0,1099.0,1134.0,1147.0,1244.0,1255.0,1212.0,869.0,1079.0,935.0,1214.0,1076.0,1035.0,1077.0,1063.0,1365.0,1064.0,1148.0,1216.0,1056.0,1345.0,1174.0,1243.0,1145.0,1179.0,1092.0,1063.0,1263.0],\"type\":\"scatter\"},{\"line\":{\"color\":\"gray\",\"dash\":\"dash\",\"width\":2},\"mode\":\"lines\",\"name\":\"Unity Line\",\"showlegend\":true,\"x\":[420.0,1495.0],\"y\":[420.0,1495.0],\"type\":\"scatter\"}],                        {\"height\":600,\"legend\":{\"title\":{\"text\":\"Block Number\"},\"x\":1.05},\"margin\":{\"b\":80,\"l\":80,\"r\":80,\"t\":80},\"plot_bgcolor\":\"white\",\"title\":{\"text\":\"RSG Task: Reported vs Actual Interval (Grouped by Set Duration)\"},\"width\":700,\"xaxis\":{\"range\":[420.0,1495.0],\"title\":{\"text\":\"Actual Interval (ms)\"},\"showgrid\":true,\"gridcolor\":\"lightgray\"},\"yaxis\":{\"range\":[420.0,1495.0],\"title\":{\"text\":\"Reported Interval (ms)\"},\"showgrid\":true,\"gridcolor\":\"lightgray\"},\"template\":{\"data\":{\"histogram2dcontour\":[{\"type\":\"histogram2dcontour\",\"colorbar\":{\"outlinewidth\":0,\"ticks\":\"\"},\"colorscale\":[[0.0,\"#0d0887\"],[0.1111111111111111,\"#46039f\"],[0.2222222222222222,\"#7201a8\"],[0.3333333333333333,\"#9c179e\"],[0.4444444444444444,\"#bd3786\"],[0.5555555555555556,\"#d8576b\"],[0.6666666666666666,\"#ed7953\"],[0.7777777777777778,\"#fb9f3a\"],[0.8888888888888888,\"#fdca26\"],[1.0,\"#f0f921\"]]}],\"choropleth\":[{\"type\":\"choropleth\",\"colorbar\":{\"outlinewidth\":0,\"ticks\":\"\"}}],\"histogram2d\":[{\"type\":\"histogram2d\",\"colorbar\":{\"outlinewidth\":0,\"ticks\":\"\"},\"colorscale\":[[0.0,\"#0d0887\"],[0.1111111111111111,\"#46039f\"],[0.2222222222222222,\"#7201a8\"],[0.3333333333333333,\"#9c179e\"],[0.4444444444444444,\"#bd3786\"],[0.5555555555555556,\"#d8576b\"],[0.6666666666666666,\"#ed7953\"],[0.7777777777777778,\"#fb9f3a\"],[0.8888888888888888,\"#fdca26\"],[1.0,\"#f0f921\"]]}],\"heatmap\":[{\"type\":\"heatmap\",\"colorbar\":{\"outlinewidth\":0,\"ticks\":\"\"},\"colorscale\":[[0.0,\"#0d0887\"],[0.1111111111111111,\"#46039f\"],[0.2222222222222222,\"#7201a8\"],[0.3333333333333333,\"#9c179e\"],[0.4444444444444444,\"#bd3786\"],[0.5555555555555556,\"#d8576b\"],[0.6666666666666666,\"#ed7953\"],[0.7777777777777778,\"#fb9f3a\"],[0.8888888888888888,\"#fdca26\"],[1.0,\"#f0f921\"]]}],\"heatmapgl\":[{\"type\":\"heatmapgl\",\"colorbar\":{\"outlinewidth\":0,\"ticks\":\"\"},\"colorscale\":[[0.0,\"#0d0887\"],[0.1111111111111111,\"#46039f\"],[0.2222222222222222,\"#7201a8\"],[0.3333333333333333,\"#9c179e\"],[0.4444444444444444,\"#bd3786\"],[0.5555555555555556,\"#d8576b\"],[0.6666666666666666,\"#ed7953\"],[0.7777777777777778,\"#fb9f3a\"],[0.8888888888888888,\"#fdca26\"],[1.0,\"#f0f921\"]]}],\"contourcarpet\":[{\"type\":\"contourcarpet\",\"colorbar\":{\"outlinewidth\":0,\"ticks\":\"\"}}],\"contour\":[{\"type\":\"contour\",\"colorbar\":{\"outlinewidth\":0,\"ticks\":\"\"},\"colorscale\":[[0.0,\"#0d0887\"],[0.1111111111111111,\"#46039f\"],[0.2222222222222222,\"#7201a8\"],[0.3333333333333333,\"#9c179e\"],[0.4444444444444444,\"#bd3786\"],[0.5555555555555556,\"#d8576b\"],[0.6666666666666666,\"#ed7953\"],[0.7777777777777778,\"#fb9f3a\"],[0.8888888888888888,\"#fdca26\"],[1.0,\"#f0f921\"]]}],\"surface\":[{\"type\":\"surface\",\"colorbar\":{\"outlinewidth\":0,\"ticks\":\"\"},\"colorscale\":[[0.0,\"#0d0887\"],[0.1111111111111111,\"#46039f\"],[0.2222222222222222,\"#7201a8\"],[0.3333333333333333,\"#9c179e\"],[0.4444444444444444,\"#bd3786\"],[0.5555555555555556,\"#d8576b\"],[0.6666666666666666,\"#ed7953\"],[0.7777777777777778,\"#fb9f3a\"],[0.8888888888888888,\"#fdca26\"],[1.0,\"#f0f921\"]]}],\"mesh3d\":[{\"type\":\"mesh3d\",\"colorbar\":{\"outlinewidth\":0,\"ticks\":\"\"}}],\"scatter\":[{\"fillpattern\":{\"fillmode\":\"overlay\",\"size\":10,\"solidity\":0.2},\"type\":\"scatter\"}],\"parcoords\":[{\"type\":\"parcoords\",\"line\":{\"colorbar\":{\"outlinewidth\":0,\"ticks\":\"\"}}}],\"scatterpolargl\":[{\"type\":\"scatterpolargl\",\"marker\":{\"colorbar\":{\"outlinewidth\":0,\"ticks\":\"\"}}}],\"bar\":[{\"error_x\":{\"color\":\"#2a3f5f\"},\"error_y\":{\"color\":\"#2a3f5f\"},\"marker\":{\"line\":{\"color\":\"#E5ECF6\",\"width\":0.5},\"pattern\":{\"fillmode\":\"overlay\",\"size\":10,\"solidity\":0.2}},\"type\":\"bar\"}],\"scattergeo\":[{\"type\":\"scattergeo\",\"marker\":{\"colorbar\":{\"outlinewidth\":0,\"ticks\":\"\"}}}],\"scatterpolar\":[{\"type\":\"scatterpolar\",\"marker\":{\"colorbar\":{\"outlinewidth\":0,\"ticks\":\"\"}}}],\"histogram\":[{\"marker\":{\"pattern\":{\"fillmode\":\"overlay\",\"size\":10,\"solidity\":0.2}},\"type\":\"histogram\"}],\"scattergl\":[{\"type\":\"scattergl\",\"marker\":{\"colorbar\":{\"outlinewidth\":0,\"ticks\":\"\"}}}],\"scatter3d\":[{\"type\":\"scatter3d\",\"line\":{\"colorbar\":{\"outlinewidth\":0,\"ticks\":\"\"}},\"marker\":{\"colorbar\":{\"outlinewidth\":0,\"ticks\":\"\"}}}],\"scattermapbox\":[{\"type\":\"scattermapbox\",\"marker\":{\"colorbar\":{\"outlinewidth\":0,\"ticks\":\"\"}}}],\"scatterternary\":[{\"type\":\"scatterternary\",\"marker\":{\"colorbar\":{\"outlinewidth\":0,\"ticks\":\"\"}}}],\"scattercarpet\":[{\"type\":\"scattercarpet\",\"marker\":{\"colorbar\":{\"outlinewidth\":0,\"ticks\":\"\"}}}],\"carpet\":[{\"aaxis\":{\"endlinecolor\":\"#2a3f5f\",\"gridcolor\":\"white\",\"linecolor\":\"white\",\"minorgridcolor\":\"white\",\"startlinecolor\":\"#2a3f5f\"},\"baxis\":{\"endlinecolor\":\"#2a3f5f\",\"gridcolor\":\"white\",\"linecolor\":\"white\",\"minorgridcolor\":\"white\",\"startlinecolor\":\"#2a3f5f\"},\"type\":\"carpet\"}],\"table\":[{\"cells\":{\"fill\":{\"color\":\"#EBF0F8\"},\"line\":{\"color\":\"white\"}},\"header\":{\"fill\":{\"color\":\"#C8D4E3\"},\"line\":{\"color\":\"white\"}},\"type\":\"table\"}],\"barpolar\":[{\"marker\":{\"line\":{\"color\":\"#E5ECF6\",\"width\":0.5},\"pattern\":{\"fillmode\":\"overlay\",\"size\":10,\"solidity\":0.2}},\"type\":\"barpolar\"}],\"pie\":[{\"automargin\":true,\"type\":\"pie\"}]},\"layout\":{\"autotypenumbers\":\"strict\",\"colorway\":[\"#636efa\",\"#EF553B\",\"#00cc96\",\"#ab63fa\",\"#FFA15A\",\"#19d3f3\",\"#FF6692\",\"#B6E880\",\"#FF97FF\",\"#FECB52\"],\"font\":{\"color\":\"#2a3f5f\"},\"hovermode\":\"closest\",\"hoverlabel\":{\"align\":\"left\"},\"paper_bgcolor\":\"white\",\"plot_bgcolor\":\"#E5ECF6\",\"polar\":{\"bgcolor\":\"#E5ECF6\",\"angularaxis\":{\"gridcolor\":\"white\",\"linecolor\":\"white\",\"ticks\":\"\"},\"radialaxis\":{\"gridcolor\":\"white\",\"linecolor\":\"white\",\"ticks\":\"\"}},\"ternary\":{\"bgcolor\":\"#E5ECF6\",\"aaxis\":{\"gridcolor\":\"white\",\"linecolor\":\"white\",\"ticks\":\"\"},\"baxis\":{\"gridcolor\":\"white\",\"linecolor\":\"white\",\"ticks\":\"\"},\"caxis\":{\"gridcolor\":\"white\",\"linecolor\":\"white\",\"ticks\":\"\"}},\"coloraxis\":{\"colorbar\":{\"outlinewidth\":0,\"ticks\":\"\"}},\"colorscale\":{\"sequential\":[[0.0,\"#0d0887\"],[0.1111111111111111,\"#46039f\"],[0.2222222222222222,\"#7201a8\"],[0.3333333333333333,\"#9c179e\"],[0.4444444444444444,\"#bd3786\"],[0.5555555555555556,\"#d8576b\"],[0.6666666666666666,\"#ed7953\"],[0.7777777777777778,\"#fb9f3a\"],[0.8888888888888888,\"#fdca26\"],[1.0,\"#f0f921\"]],\"sequentialminus\":[[0.0,\"#0d0887\"],[0.1111111111111111,\"#46039f\"],[0.2222222222222222,\"#7201a8\"],[0.3333333333333333,\"#9c179e\"],[0.4444444444444444,\"#bd3786\"],[0.5555555555555556,\"#d8576b\"],[0.6666666666666666,\"#ed7953\"],[0.7777777777777778,\"#fb9f3a\"],[0.8888888888888888,\"#fdca26\"],[1.0,\"#f0f921\"]],\"diverging\":[[0,\"#8e0152\"],[0.1,\"#c51b7d\"],[0.2,\"#de77ae\"],[0.3,\"#f1b6da\"],[0.4,\"#fde0ef\"],[0.5,\"#f7f7f7\"],[0.6,\"#e6f5d0\"],[0.7,\"#b8e186\"],[0.8,\"#7fbc41\"],[0.9,\"#4d9221\"],[1,\"#276419\"]]},\"xaxis\":{\"gridcolor\":\"white\",\"linecolor\":\"white\",\"ticks\":\"\",\"title\":{\"standoff\":15},\"zerolinecolor\":\"white\",\"automargin\":true,\"zerolinewidth\":2},\"yaxis\":{\"gridcolor\":\"white\",\"linecolor\":\"white\",\"ticks\":\"\",\"title\":{\"standoff\":15},\"zerolinecolor\":\"white\",\"automargin\":true,\"zerolinewidth\":2},\"scene\":{\"xaxis\":{\"backgroundcolor\":\"#E5ECF6\",\"gridcolor\":\"white\",\"linecolor\":\"white\",\"showbackground\":true,\"ticks\":\"\",\"zerolinecolor\":\"white\",\"gridwidth\":2},\"yaxis\":{\"backgroundcolor\":\"#E5ECF6\",\"gridcolor\":\"white\",\"linecolor\":\"white\",\"showbackground\":true,\"ticks\":\"\",\"zerolinecolor\":\"white\",\"gridwidth\":2},\"zaxis\":{\"backgroundcolor\":\"#E5ECF6\",\"gridcolor\":\"white\",\"linecolor\":\"white\",\"showbackground\":true,\"ticks\":\"\",\"zerolinecolor\":\"white\",\"gridwidth\":2}},\"shapedefaults\":{\"line\":{\"color\":\"#2a3f5f\"}},\"annotationdefaults\":{\"arrowcolor\":\"#2a3f5f\",\"arrowhead\":0,\"arrowwidth\":1},\"geo\":{\"bgcolor\":\"white\",\"landcolor\":\"#E5ECF6\",\"subunitcolor\":\"white\",\"showland\":true,\"showlakes\":true,\"lakecolor\":\"white\"},\"title\":{\"x\":0.05},\"mapbox\":{\"style\":\"light\"}}}},                        {\"responsive\": true}                    ).then(function(){\n",
       "                            \n",
       "var gd = document.getElementById('cdb1e685-0196-415e-9cd9-aaa7be2158d4');\n",
       "var x = new MutationObserver(function (mutations, observer) {{\n",
       "        var display = window.getComputedStyle(gd).display;\n",
       "        if (!display || display === 'none') {{\n",
       "            console.log([gd, 'removed!']);\n",
       "            Plotly.purge(gd);\n",
       "            observer.disconnect();\n",
       "        }}\n",
       "}});\n",
       "\n",
       "// Listen for the removal of the full notebook cells\n",
       "var notebookContainer = gd.closest('#notebook-container');\n",
       "if (notebookContainer) {{\n",
       "    x.observe(notebookContainer, {childList: true});\n",
       "}}\n",
       "\n",
       "// Listen for the clearing of the current output cell\n",
       "var outputEl = gd.closest('.output');\n",
       "if (outputEl) {{\n",
       "    x.observe(outputEl, {childList: true});\n",
       "}}\n",
       "\n",
       "                        })                };                });            </script>        </div>"
      ]
     },
     "metadata": {},
     "output_type": "display_data"
    },
    {
     "name": "stdout",
     "output_type": "stream",
     "text": [
      "\n",
      "=== Summary Stats ===\n",
      "       reproduction_error\n",
      "count          701.000000\n",
      "mean            13.663338\n",
      "std            138.845714\n",
      "min           -398.000000\n",
      "25%            -77.000000\n",
      "50%              8.000000\n",
      "75%             94.000000\n",
      "max            535.000000\n",
      "\n",
      "=== Mean Error by Target Interval ===\n",
      "target_interval\n",
      "490.0       5.500000\n",
      "550.0     -34.857143\n",
      "610.0      -8.769231\n",
      "670.0     117.555556\n",
      "730.0      92.666667\n",
      "790.0      30.052632\n",
      "850.0      70.166667\n",
      "910.0      54.419048\n",
      "960.0      52.895349\n",
      "1020.0    -12.139785\n",
      "1080.0    -46.671642\n",
      "1140.0    -54.389831\n",
      "1200.0    -83.041096\n",
      "Name: reproduction_error, dtype: float64\n"
     ]
    }
   ],
   "source": [
    "import pandas as pd\n",
    "import plotly.graph_objects as go\n",
    "import plotly.express as px\n",
    "\n",
    "# Assume go_df and set_durations are already defined and sorted\n",
    "\n",
    "# Sort set durations to maintain color ordering\n",
    "blocks = sorted(go_df['prior_mean'].unique())\n",
    "\n",
    "# Define axis bounds\n",
    "min_val = min(go_df['target_interval'].min(), go_df['reproduced_interval'].min())\n",
    "max_val = max(go_df['target_interval'].max(), go_df['reproduced_interval'].max())\n",
    "\n",
    "# Define discrete color scale from red to blue\n",
    "from matplotlib import cm\n",
    "import matplotlib.colors as mcolors\n",
    "\n",
    "# Use matplotlib's 'RdBu' colormap, reversed so red = low, blue = high\n",
    "cmap = cm.get_cmap('OrRd', len(blocks)+1)\n",
    "ordered_colors = [mcolors.to_hex(cmap(i+1)) for i in range(len(blocks))]\n",
    "\n",
    "# Create scatter traces per set_duration\n",
    "traces = []\n",
    "\n",
    "for i, iBlock in enumerate(blocks):\n",
    "    subset = go_df[go_df['prior_mean'] == iBlock]\n",
    "    traces.append(\n",
    "        go.Scatter(\n",
    "            x=subset['target_interval'],\n",
    "            y=subset['reproduced_interval'],\n",
    "            mode='markers',\n",
    "            name=f'Block: {int(iBlock)} ms',\n",
    "            marker=dict(color=ordered_colors[i], size=10, line=dict(width=1, color='black')),\n",
    "        )\n",
    "    )\n",
    "\n",
    "# Add unity line\n",
    "traces.append(\n",
    "    go.Scatter(\n",
    "        x=[min_val, max_val],\n",
    "        y=[min_val, max_val],\n",
    "        mode='lines',\n",
    "        name='Unity Line',\n",
    "        line=dict(dash='dash', color='gray', width=2),\n",
    "        showlegend=True\n",
    "    )\n",
    ")\n",
    "\n",
    "layout = go.Layout(\n",
    "    title='RSG Task: Reported vs Actual Interval (Grouped by Set Duration)',\n",
    "    xaxis=dict(title='Actual Interval (ms)', range=[min_val, max_val]),\n",
    "    yaxis=dict(title='Reported Interval (ms)', range=[min_val, max_val]),\n",
    "    legend=dict(title='Block Number', x=1.05),\n",
    "    width=700,\n",
    "    height=600,\n",
    "    margin=dict(l=80, r=80, t=80, b=80),\n",
    "    plot_bgcolor='white'\n",
    ")\n",
    "\n",
    "fig = go.Figure(data=traces, layout=layout)\n",
    "fig.update_xaxes(showgrid=True, gridcolor='lightgray')\n",
    "fig.update_yaxes(showgrid=True, gridcolor='lightgray')\n",
    "\n",
    "fig.show()\n",
    "\n",
    "# --- Summary Stats ---\n",
    "print(\"\\n=== Summary Stats ===\")\n",
    "print(go_df[['reproduction_error']].describe())\n",
    "\n",
    "# --- Error by Target Interval ---\n",
    "error_by_target = go_df.groupby('target_interval')['reproduction_error'].mean()\n",
    "print(\"\\n=== Mean Error by Target Interval ===\")\n",
    "print(error_by_target)\n",
    "\n",
    "# --- Save Summary CSV ---\n",
    "summary = go_df.groupby(['target_interval', 'set_duration']).agg({\n",
    "    'reproduction_error': ['mean', 'std', 'count']\n",
    "}).reset_index()\n",
    "summary.columns = ['target_interval', 'set_duration', 'mean_error', 'std_error', 'n']\n",
    "# summary.to_csv('rsg_summary_stats.csv', index=False)\n"
   ]
  },
  {
   "cell_type": "code",
   "execution_count": 34,
   "id": "764eadd3",
   "metadata": {},
   "outputs": [
    {
     "data": {
      "application/vnd.plotly.v1+json": {
       "config": {
        "plotlyServerURL": "https://plot.ly"
       },
       "data": [
        {
         "legendgroup": "block_0",
         "marker": {
          "color": "#febf5a",
          "line": {
           "color": "black",
           "width": 0.5
          },
          "size": 3
         },
         "mode": "markers",
         "name": "Block 1 Trials",
         "opacity": 0.5,
         "showlegend": true,
         "type": "scatter",
         "x": [
          490,
          490,
          490,
          490,
          490,
          490,
          550,
          550,
          550,
          550,
          550,
          550,
          550,
          550,
          550,
          550,
          550,
          550,
          550,
          550,
          610,
          610,
          610,
          610,
          610,
          610,
          610,
          610,
          610,
          610,
          610,
          610,
          610,
          670,
          670,
          670,
          670,
          670,
          670,
          730,
          730,
          730,
          730,
          730,
          730,
          790,
          790,
          790,
          790,
          790,
          790,
          790,
          790,
          790,
          850,
          850,
          850,
          850,
          850,
          850,
          850
         ],
         "y": [
          510,
          580,
          424,
          493,
          432,
          534,
          443,
          420,
          580,
          478,
          594,
          591,
          515,
          482,
          478,
          560,
          545,
          479,
          431,
          616,
          600,
          610,
          449,
          467,
          643,
          578,
          703,
          756,
          549,
          472,
          626,
          680,
          683,
          927,
          686,
          562,
          681,
          593,
          763,
          660,
          633,
          771,
          849,
          508,
          661,
          814,
          746,
          941,
          700,
          556,
          811,
          904,
          722,
          887,
          825,
          879,
          830,
          888,
          687,
          821,
          783
         ]
        },
        {
         "error_y": {
          "array": [
           24.483668025849397,
           17.502859151948165,
           26.650432681856735,
           53.70412771224698,
           48.09550683564712,
           40.059947362871675,
           25.44127558518559
          ],
          "thickness": 1.5,
          "type": "data",
          "visible": true,
          "width": 5
         },
         "legendgroup": "block_0",
         "line": {
          "color": "#febf5a",
          "width": 2
         },
         "marker": {
          "color": "#febf5a",
          "line": {
           "color": "black",
           "width": 1.5
          },
          "size": 10,
          "symbol": "circle"
         },
         "mode": "lines+markers",
         "name": "Block 1 Mean ± SEM",
         "showlegend": true,
         "type": "scatter",
         "x": [
          490,
          550,
          610,
          670,
          730,
          790,
          850
         ],
         "y": [
          495.5,
          515.1428571428571,
          601.2307692307693,
          702,
          680.3333333333334,
          786.7777777777778,
          816.1428571428571
         ]
        },
        {
         "legendgroup": "block_1",
         "marker": {
          "color": "#f43d25",
          "line": {
           "color": "black",
           "width": 0.5
          },
          "size": 3
         },
         "mode": "markers",
         "name": "Block 2 Trials",
         "opacity": 0.5,
         "showlegend": true,
         "type": "scatter",
         "x": [
          670,
          670,
          670,
          670,
          670,
          670,
          670,
          670,
          670,
          670,
          670,
          670,
          670,
          670,
          670,
          670,
          670,
          670,
          670,
          670,
          670,
          730,
          730,
          730,
          730,
          730,
          730,
          730,
          730,
          730,
          730,
          730,
          730,
          730,
          730,
          730,
          730,
          730,
          730,
          730,
          730,
          730,
          730,
          730,
          730,
          790,
          790,
          790,
          790,
          790,
          790,
          790,
          790,
          790,
          790,
          790,
          790,
          790,
          790,
          790,
          790,
          790,
          790,
          790,
          790,
          790,
          790,
          790,
          790,
          790,
          790,
          790,
          790,
          790,
          850,
          850,
          850,
          850,
          850,
          850,
          850,
          850,
          850,
          850,
          850,
          850,
          850,
          850,
          850,
          850,
          850,
          850,
          850,
          850,
          850,
          850,
          850,
          910,
          910,
          910,
          910,
          910,
          910,
          910,
          910,
          910,
          910,
          910,
          910,
          910,
          910,
          910,
          910,
          910,
          910,
          910,
          910,
          910,
          910,
          910,
          910,
          910,
          910,
          910,
          910,
          910,
          910,
          910,
          910,
          910,
          910,
          910,
          910,
          910,
          910,
          910,
          910,
          910,
          910,
          960,
          960,
          960,
          960,
          960,
          960,
          960,
          960,
          960,
          960,
          960,
          960,
          960,
          960,
          960,
          960,
          960,
          960,
          960,
          960,
          960,
          960,
          1020,
          1020,
          1020,
          1020,
          1020,
          1020,
          1020,
          1020,
          1020,
          1020,
          1020,
          1020,
          1020,
          1020,
          1020,
          1020,
          1020,
          1020,
          1020,
          1020,
          1020,
          1020,
          1020,
          1020,
          1020,
          1020,
          1020,
          1020,
          1020,
          1020,
          1020
         ],
         "y": [
          554,
          710,
          695,
          736,
          794,
          784,
          874,
          677,
          943,
          961,
          817,
          939,
          820,
          1039,
          1004,
          1036,
          868,
          974,
          485,
          756,
          586,
          705,
          1143,
          753,
          724,
          975,
          906,
          862,
          818,
          917,
          870,
          922,
          790,
          723,
          900,
          869,
          928,
          788,
          1010,
          868,
          578,
          998,
          906,
          831,
          814,
          758,
          758,
          914,
          629,
          821,
          820,
          933,
          930,
          977,
          824,
          833,
          945,
          778,
          903,
          690,
          870,
          768,
          748,
          848,
          976,
          611,
          952,
          946,
          732,
          904,
          847,
          750,
          787,
          829,
          1044,
          905,
          853,
          871,
          916,
          933,
          865,
          1031,
          896,
          908,
          842,
          854,
          987,
          920,
          879,
          865,
          927,
          815,
          904,
          832,
          717,
          780,
          843,
          716,
          982,
          894,
          929,
          796,
          1006,
          887,
          858,
          889,
          958,
          936,
          798,
          970,
          1024,
          952,
          895,
          899,
          913,
          1025,
          928,
          997,
          804,
          916,
          995,
          997,
          1185,
          906,
          956,
          979,
          1120,
          848,
          747,
          971,
          796,
          877,
          847,
          1026,
          720,
          922,
          869,
          826,
          756,
          1063,
          980,
          1021,
          924,
          966,
          991,
          963,
          907,
          835,
          902,
          876,
          856,
          1083,
          990,
          988,
          860,
          870,
          1131,
          875,
          843,
          835,
          863,
          1139,
          1097,
          830,
          858,
          962,
          998,
          941,
          1014,
          978,
          836,
          1007,
          884,
          987,
          959,
          878,
          803,
          1025,
          1014,
          737,
          875,
          873,
          950,
          892,
          903,
          987,
          811,
          906,
          970,
          1086,
          1037,
          791
         ]
        },
        {
         "error_y": {
          "array": [
           34.650637319776195,
           24.06401863267279,
           18.397995566629344,
           15.284487877763947,
           15.458349852653292,
           18.347953098918424,
           17.267389702511423
          ],
          "thickness": 1.5,
          "type": "data",
          "visible": true,
          "width": 5
         },
         "legendgroup": "block_1",
         "line": {
          "color": "#f43d25",
          "width": 2
         },
         "marker": {
          "color": "#f43d25",
          "line": {
           "color": "black",
           "width": 1.5
          },
          "size": 10,
          "symbol": "circle"
         },
         "mode": "lines+markers",
         "name": "Block 2 Mean ± SEM",
         "showlegend": true,
         "type": "scatter",
         "x": [
          670,
          730,
          790,
          850,
          910,
          960,
          1020
         ],
         "y": [
          812,
          858.25,
          830.3793103448276,
          886.3913043478261,
          912.2619047619048,
          937.3636363636364,
          936.3870967741935
         ]
        },
        {
         "legendgroup": "block_2",
         "marker": {
          "color": "#800026",
          "line": {
           "color": "black",
           "width": 0.5
          },
          "size": 3
         },
         "mode": "markers",
         "name": "Block 3 Trials",
         "opacity": 0.5,
         "showlegend": true,
         "type": "scatter",
         "x": [
          850,
          850,
          850,
          850,
          850,
          850,
          850,
          850,
          850,
          850,
          850,
          850,
          850,
          850,
          850,
          850,
          850,
          850,
          850,
          850,
          850,
          850,
          850,
          850,
          850,
          850,
          850,
          850,
          850,
          850,
          850,
          850,
          850,
          850,
          850,
          850,
          850,
          850,
          850,
          850,
          850,
          850,
          850,
          850,
          850,
          850,
          850,
          850,
          850,
          850,
          850,
          850,
          850,
          850,
          850,
          850,
          850,
          850,
          850,
          850,
          910,
          910,
          910,
          910,
          910,
          910,
          910,
          910,
          910,
          910,
          910,
          910,
          910,
          910,
          910,
          910,
          910,
          910,
          910,
          910,
          910,
          910,
          910,
          910,
          910,
          910,
          910,
          910,
          910,
          910,
          910,
          910,
          910,
          910,
          910,
          910,
          910,
          910,
          910,
          910,
          910,
          910,
          910,
          910,
          910,
          910,
          910,
          910,
          910,
          910,
          910,
          910,
          910,
          910,
          910,
          910,
          910,
          910,
          910,
          910,
          910,
          910,
          910,
          960,
          960,
          960,
          960,
          960,
          960,
          960,
          960,
          960,
          960,
          960,
          960,
          960,
          960,
          960,
          960,
          960,
          960,
          960,
          960,
          960,
          960,
          960,
          960,
          960,
          960,
          960,
          960,
          960,
          960,
          960,
          960,
          960,
          960,
          960,
          960,
          960,
          960,
          960,
          960,
          960,
          960,
          960,
          960,
          960,
          960,
          960,
          960,
          960,
          960,
          960,
          960,
          960,
          960,
          960,
          960,
          960,
          960,
          960,
          960,
          960,
          960,
          960,
          960,
          1020,
          1020,
          1020,
          1020,
          1020,
          1020,
          1020,
          1020,
          1020,
          1020,
          1020,
          1020,
          1020,
          1020,
          1020,
          1020,
          1020,
          1020,
          1020,
          1020,
          1020,
          1020,
          1020,
          1020,
          1020,
          1020,
          1020,
          1020,
          1020,
          1020,
          1020,
          1020,
          1020,
          1020,
          1020,
          1020,
          1020,
          1020,
          1020,
          1020,
          1020,
          1020,
          1020,
          1020,
          1020,
          1020,
          1020,
          1020,
          1020,
          1020,
          1020,
          1020,
          1020,
          1020,
          1020,
          1020,
          1020,
          1020,
          1020,
          1020,
          1020,
          1020,
          1080,
          1080,
          1080,
          1080,
          1080,
          1080,
          1080,
          1080,
          1080,
          1080,
          1080,
          1080,
          1080,
          1080,
          1080,
          1080,
          1080,
          1080,
          1080,
          1080,
          1080,
          1080,
          1080,
          1080,
          1080,
          1080,
          1080,
          1080,
          1080,
          1080,
          1080,
          1080,
          1080,
          1080,
          1080,
          1080,
          1080,
          1080,
          1080,
          1080,
          1080,
          1080,
          1080,
          1080,
          1080,
          1080,
          1080,
          1080,
          1080,
          1080,
          1080,
          1080,
          1080,
          1080,
          1080,
          1080,
          1080,
          1080,
          1080,
          1080,
          1080,
          1080,
          1080,
          1080,
          1080,
          1080,
          1080,
          1140,
          1140,
          1140,
          1140,
          1140,
          1140,
          1140,
          1140,
          1140,
          1140,
          1140,
          1140,
          1140,
          1140,
          1140,
          1140,
          1140,
          1140,
          1140,
          1140,
          1140,
          1140,
          1140,
          1140,
          1140,
          1140,
          1140,
          1140,
          1140,
          1140,
          1140,
          1140,
          1140,
          1140,
          1140,
          1140,
          1140,
          1140,
          1140,
          1140,
          1140,
          1140,
          1140,
          1140,
          1140,
          1140,
          1140,
          1140,
          1140,
          1140,
          1140,
          1140,
          1140,
          1140,
          1140,
          1140,
          1140,
          1140,
          1140,
          1200,
          1200,
          1200,
          1200,
          1200,
          1200,
          1200,
          1200,
          1200,
          1200,
          1200,
          1200,
          1200,
          1200,
          1200,
          1200,
          1200,
          1200,
          1200,
          1200,
          1200,
          1200,
          1200,
          1200,
          1200,
          1200,
          1200,
          1200,
          1200,
          1200,
          1200,
          1200,
          1200,
          1200,
          1200,
          1200,
          1200,
          1200,
          1200,
          1200,
          1200,
          1200,
          1200,
          1200,
          1200,
          1200,
          1200,
          1200,
          1200,
          1200,
          1200,
          1200,
          1200,
          1200,
          1200,
          1200,
          1200,
          1200,
          1200,
          1200,
          1200,
          1200,
          1200,
          1200,
          1200,
          1200,
          1200,
          1200,
          1200,
          1200,
          1200,
          1200,
          1200
         ],
         "y": [
          723,
          1080,
          1209,
          616,
          1115,
          746,
          1174,
          977,
          1029,
          944,
          1021,
          971,
          924,
          1216,
          794,
          944,
          662,
          753,
          852,
          719,
          982,
          767,
          747,
          1227,
          1091,
          1049,
          846,
          1031,
          1136,
          911,
          1044,
          993,
          664,
          910,
          1105,
          819,
          877,
          983,
          745,
          925,
          953,
          880,
          1229,
          1109,
          739,
          925,
          1147,
          957,
          885,
          890,
          1085,
          666,
          906,
          948,
          1064,
          1120,
          966,
          714,
          976,
          1235,
          982,
          933,
          1034,
          1135,
          898,
          1070,
          1257,
          1146,
          1106,
          952,
          1061,
          994,
          874,
          924,
          776,
          921,
          928,
          853,
          879,
          887,
          846,
          1282,
          915,
          918,
          1038,
          1262,
          948,
          991,
          1211,
          866,
          957,
          1155,
          942,
          887,
          994,
          1058,
          859,
          898,
          975,
          1287,
          1002,
          1110,
          1007,
          901,
          1193,
          931,
          993,
          1008,
          995,
          864,
          1179,
          1015,
          810,
          1104,
          984,
          843,
          1186,
          961,
          876,
          837,
          1170,
          1042,
          1039,
          946,
          954,
          974,
          886,
          1159,
          1150,
          1010,
          1081,
          1088,
          1057,
          1048,
          913,
          1092,
          1055,
          1084,
          939,
          1017,
          984,
          721,
          808,
          914,
          823,
          762,
          1031,
          1162,
          985,
          891,
          882,
          1164,
          894,
          1127,
          851,
          982,
          851,
          870,
          1158,
          1083,
          953,
          1191,
          1191,
          978,
          862,
          913,
          1093,
          1251,
          1210,
          1134,
          1065,
          1252,
          968,
          1234,
          883,
          1204,
          1036,
          1279,
          1495,
          1196,
          1183,
          1032,
          1051,
          1140,
          1069,
          1171,
          1057,
          885,
          1027,
          993,
          1261,
          913,
          1069,
          1011,
          1153,
          1010,
          1185,
          954,
          1031,
          1159,
          1200,
          1059,
          1218,
          913,
          898,
          958,
          958,
          989,
          1053,
          913,
          972,
          937,
          1063,
          880,
          1049,
          1061,
          988,
          829,
          1012,
          963,
          1086,
          1017,
          1003,
          1011,
          868,
          1151,
          1039,
          1112,
          1292,
          1107,
          916,
          1111,
          1204,
          1145,
          1109,
          926,
          1067,
          986,
          1121,
          1175,
          1096,
          991,
          1141,
          1011,
          1090,
          901,
          1201,
          1145,
          1117,
          929,
          1240,
          1294,
          1085,
          1020,
          1088,
          928,
          1072,
          1017,
          1074,
          1111,
          1060,
          1069,
          984,
          988,
          890,
          981,
          682,
          743,
          946,
          974,
          922,
          842,
          961,
          900,
          1050,
          1079,
          1041,
          1150,
          1280,
          1150,
          797,
          1190,
          1018,
          1107,
          1147,
          1106,
          1116,
          1255,
          939,
          807,
          914,
          1067,
          952,
          1034,
          1090,
          1082,
          791,
          1116,
          1064,
          1336,
          996,
          1107,
          1165,
          1108,
          1171,
          1169,
          937,
          1140,
          1084,
          1053,
          1053,
          969,
          1040,
          843,
          735,
          1185,
          962,
          1112,
          987,
          1319,
          1104,
          1074,
          980,
          1161,
          1238,
          1005,
          1142,
          746,
          926,
          1084,
          1030,
          1113,
          848,
          1142,
          940,
          1116,
          1161,
          1159,
          1478,
          1138,
          1060,
          1214,
          1174,
          1066,
          1089,
          1041,
          1106,
          922,
          1131,
          1108,
          1164,
          1156,
          961,
          1200,
          1035,
          1024,
          1018,
          1065,
          1088,
          1056,
          984,
          1073,
          1017,
          1304,
          998,
          1156,
          1171,
          1110,
          1202,
          1226,
          1277,
          794,
          1222,
          1016,
          858,
          830,
          1115,
          1116,
          1145,
          1105,
          1116,
          1174,
          1254,
          1074,
          1036,
          903,
          1222,
          1056,
          1096,
          1080,
          1221,
          1041,
          1201,
          1140,
          813,
          1003,
          1074,
          988,
          1017,
          1235,
          1180,
          1093,
          1227,
          1091,
          906,
          1153,
          917,
          1235,
          1146,
          940,
          1244,
          1135,
          1268,
          1104,
          1131,
          1244,
          1055,
          1258,
          1051,
          1121,
          1192,
          1099,
          1134,
          1147,
          1244,
          1255,
          1212,
          869,
          1079,
          935,
          1214,
          1076,
          1035,
          1077,
          1063,
          1365,
          1064,
          1148,
          1216,
          1056,
          1345,
          1174,
          1243,
          1145,
          1179,
          1092,
          1063,
          1263
         ]
        },
        {
         "error_y": {
          "array": [
           20.979753826522106,
           15.876408495605448,
           17.9737444534059,
           13.373681101588696,
           16.532185459430156,
           16.637188332826785,
           13.303983655644336
          ],
          "thickness": 1.5,
          "type": "data",
          "visible": true,
          "width": 5
         },
         "legendgroup": "block_2",
         "line": {
          "color": "#800026",
          "width": 2
         },
         "marker": {
          "color": "#800026",
          "line": {
           "color": "black",
           "width": 1.5
          },
          "size": 10,
          "symbol": "circle"
         },
         "mode": "lines+markers",
         "name": "Block 3 Mean ± SEM",
         "showlegend": true,
         "type": "scatter",
         "x": [
          850,
          910,
          960,
          1020,
          1080,
          1140,
          1200
         ],
         "y": [
          945.25,
          999.1904761904761,
          1038.859375,
          1043.5967741935483,
          1033.3283582089553,
          1085.6101694915253,
          1116.958904109589
         ]
        },
        {
         "line": {
          "color": "gray",
          "dash": "dash",
          "width": 2
         },
         "mode": "lines",
         "name": "Unity Line",
         "showlegend": true,
         "type": "scatter",
         "x": [
          420,
          1495
         ],
         "y": [
          420,
          1495
         ]
        }
       ],
       "layout": {
        "height": 600,
        "legend": {
         "title": {
          "text": "Blocks"
         },
         "x": 1.02,
         "y": 1
        },
        "margin": {
         "b": 80,
         "l": 80,
         "r": 160,
         "t": 80
        },
        "plot_bgcolor": "white",
        "shapes": [
         {
          "layer": "below",
          "line": {
           "color": "#febf5a",
           "dash": "dot",
           "width": 2
          },
          "type": "line",
          "x0": 420,
          "x1": 1495,
          "y0": 656.2295081967213,
          "y1": 656.2295081967213
         },
         {
          "layer": "below",
          "line": {
           "color": "#f43d25",
           "dash": "dot",
           "width": 2
          },
          "type": "line",
          "x0": 420,
          "x1": 1495,
          "y0": 859.4270833333334,
          "y1": 859.4270833333334
         },
         {
          "layer": "below",
          "line": {
           "color": "#800026",
           "dash": "dot",
           "width": 2
          },
          "type": "line",
          "x0": 420,
          "x1": 1495,
          "y0": 1027.299107142857,
          "y1": 1027.299107142857
         }
        ],
        "template": {
         "data": {
          "bar": [
           {
            "error_x": {
             "color": "#2a3f5f"
            },
            "error_y": {
             "color": "#2a3f5f"
            },
            "marker": {
             "line": {
              "color": "#E5ECF6",
              "width": 0.5
             },
             "pattern": {
              "fillmode": "overlay",
              "size": 10,
              "solidity": 0.2
             }
            },
            "type": "bar"
           }
          ],
          "barpolar": [
           {
            "marker": {
             "line": {
              "color": "#E5ECF6",
              "width": 0.5
             },
             "pattern": {
              "fillmode": "overlay",
              "size": 10,
              "solidity": 0.2
             }
            },
            "type": "barpolar"
           }
          ],
          "carpet": [
           {
            "aaxis": {
             "endlinecolor": "#2a3f5f",
             "gridcolor": "white",
             "linecolor": "white",
             "minorgridcolor": "white",
             "startlinecolor": "#2a3f5f"
            },
            "baxis": {
             "endlinecolor": "#2a3f5f",
             "gridcolor": "white",
             "linecolor": "white",
             "minorgridcolor": "white",
             "startlinecolor": "#2a3f5f"
            },
            "type": "carpet"
           }
          ],
          "choropleth": [
           {
            "colorbar": {
             "outlinewidth": 0,
             "ticks": ""
            },
            "type": "choropleth"
           }
          ],
          "contour": [
           {
            "colorbar": {
             "outlinewidth": 0,
             "ticks": ""
            },
            "colorscale": [
             [
              0,
              "#0d0887"
             ],
             [
              0.1111111111111111,
              "#46039f"
             ],
             [
              0.2222222222222222,
              "#7201a8"
             ],
             [
              0.3333333333333333,
              "#9c179e"
             ],
             [
              0.4444444444444444,
              "#bd3786"
             ],
             [
              0.5555555555555556,
              "#d8576b"
             ],
             [
              0.6666666666666666,
              "#ed7953"
             ],
             [
              0.7777777777777778,
              "#fb9f3a"
             ],
             [
              0.8888888888888888,
              "#fdca26"
             ],
             [
              1,
              "#f0f921"
             ]
            ],
            "type": "contour"
           }
          ],
          "contourcarpet": [
           {
            "colorbar": {
             "outlinewidth": 0,
             "ticks": ""
            },
            "type": "contourcarpet"
           }
          ],
          "heatmap": [
           {
            "colorbar": {
             "outlinewidth": 0,
             "ticks": ""
            },
            "colorscale": [
             [
              0,
              "#0d0887"
             ],
             [
              0.1111111111111111,
              "#46039f"
             ],
             [
              0.2222222222222222,
              "#7201a8"
             ],
             [
              0.3333333333333333,
              "#9c179e"
             ],
             [
              0.4444444444444444,
              "#bd3786"
             ],
             [
              0.5555555555555556,
              "#d8576b"
             ],
             [
              0.6666666666666666,
              "#ed7953"
             ],
             [
              0.7777777777777778,
              "#fb9f3a"
             ],
             [
              0.8888888888888888,
              "#fdca26"
             ],
             [
              1,
              "#f0f921"
             ]
            ],
            "type": "heatmap"
           }
          ],
          "heatmapgl": [
           {
            "colorbar": {
             "outlinewidth": 0,
             "ticks": ""
            },
            "colorscale": [
             [
              0,
              "#0d0887"
             ],
             [
              0.1111111111111111,
              "#46039f"
             ],
             [
              0.2222222222222222,
              "#7201a8"
             ],
             [
              0.3333333333333333,
              "#9c179e"
             ],
             [
              0.4444444444444444,
              "#bd3786"
             ],
             [
              0.5555555555555556,
              "#d8576b"
             ],
             [
              0.6666666666666666,
              "#ed7953"
             ],
             [
              0.7777777777777778,
              "#fb9f3a"
             ],
             [
              0.8888888888888888,
              "#fdca26"
             ],
             [
              1,
              "#f0f921"
             ]
            ],
            "type": "heatmapgl"
           }
          ],
          "histogram": [
           {
            "marker": {
             "pattern": {
              "fillmode": "overlay",
              "size": 10,
              "solidity": 0.2
             }
            },
            "type": "histogram"
           }
          ],
          "histogram2d": [
           {
            "colorbar": {
             "outlinewidth": 0,
             "ticks": ""
            },
            "colorscale": [
             [
              0,
              "#0d0887"
             ],
             [
              0.1111111111111111,
              "#46039f"
             ],
             [
              0.2222222222222222,
              "#7201a8"
             ],
             [
              0.3333333333333333,
              "#9c179e"
             ],
             [
              0.4444444444444444,
              "#bd3786"
             ],
             [
              0.5555555555555556,
              "#d8576b"
             ],
             [
              0.6666666666666666,
              "#ed7953"
             ],
             [
              0.7777777777777778,
              "#fb9f3a"
             ],
             [
              0.8888888888888888,
              "#fdca26"
             ],
             [
              1,
              "#f0f921"
             ]
            ],
            "type": "histogram2d"
           }
          ],
          "histogram2dcontour": [
           {
            "colorbar": {
             "outlinewidth": 0,
             "ticks": ""
            },
            "colorscale": [
             [
              0,
              "#0d0887"
             ],
             [
              0.1111111111111111,
              "#46039f"
             ],
             [
              0.2222222222222222,
              "#7201a8"
             ],
             [
              0.3333333333333333,
              "#9c179e"
             ],
             [
              0.4444444444444444,
              "#bd3786"
             ],
             [
              0.5555555555555556,
              "#d8576b"
             ],
             [
              0.6666666666666666,
              "#ed7953"
             ],
             [
              0.7777777777777778,
              "#fb9f3a"
             ],
             [
              0.8888888888888888,
              "#fdca26"
             ],
             [
              1,
              "#f0f921"
             ]
            ],
            "type": "histogram2dcontour"
           }
          ],
          "mesh3d": [
           {
            "colorbar": {
             "outlinewidth": 0,
             "ticks": ""
            },
            "type": "mesh3d"
           }
          ],
          "parcoords": [
           {
            "line": {
             "colorbar": {
              "outlinewidth": 0,
              "ticks": ""
             }
            },
            "type": "parcoords"
           }
          ],
          "pie": [
           {
            "automargin": true,
            "type": "pie"
           }
          ],
          "scatter": [
           {
            "fillpattern": {
             "fillmode": "overlay",
             "size": 10,
             "solidity": 0.2
            },
            "type": "scatter"
           }
          ],
          "scatter3d": [
           {
            "line": {
             "colorbar": {
              "outlinewidth": 0,
              "ticks": ""
             }
            },
            "marker": {
             "colorbar": {
              "outlinewidth": 0,
              "ticks": ""
             }
            },
            "type": "scatter3d"
           }
          ],
          "scattercarpet": [
           {
            "marker": {
             "colorbar": {
              "outlinewidth": 0,
              "ticks": ""
             }
            },
            "type": "scattercarpet"
           }
          ],
          "scattergeo": [
           {
            "marker": {
             "colorbar": {
              "outlinewidth": 0,
              "ticks": ""
             }
            },
            "type": "scattergeo"
           }
          ],
          "scattergl": [
           {
            "marker": {
             "colorbar": {
              "outlinewidth": 0,
              "ticks": ""
             }
            },
            "type": "scattergl"
           }
          ],
          "scattermapbox": [
           {
            "marker": {
             "colorbar": {
              "outlinewidth": 0,
              "ticks": ""
             }
            },
            "type": "scattermapbox"
           }
          ],
          "scatterpolar": [
           {
            "marker": {
             "colorbar": {
              "outlinewidth": 0,
              "ticks": ""
             }
            },
            "type": "scatterpolar"
           }
          ],
          "scatterpolargl": [
           {
            "marker": {
             "colorbar": {
              "outlinewidth": 0,
              "ticks": ""
             }
            },
            "type": "scatterpolargl"
           }
          ],
          "scatterternary": [
           {
            "marker": {
             "colorbar": {
              "outlinewidth": 0,
              "ticks": ""
             }
            },
            "type": "scatterternary"
           }
          ],
          "surface": [
           {
            "colorbar": {
             "outlinewidth": 0,
             "ticks": ""
            },
            "colorscale": [
             [
              0,
              "#0d0887"
             ],
             [
              0.1111111111111111,
              "#46039f"
             ],
             [
              0.2222222222222222,
              "#7201a8"
             ],
             [
              0.3333333333333333,
              "#9c179e"
             ],
             [
              0.4444444444444444,
              "#bd3786"
             ],
             [
              0.5555555555555556,
              "#d8576b"
             ],
             [
              0.6666666666666666,
              "#ed7953"
             ],
             [
              0.7777777777777778,
              "#fb9f3a"
             ],
             [
              0.8888888888888888,
              "#fdca26"
             ],
             [
              1,
              "#f0f921"
             ]
            ],
            "type": "surface"
           }
          ],
          "table": [
           {
            "cells": {
             "fill": {
              "color": "#EBF0F8"
             },
             "line": {
              "color": "white"
             }
            },
            "header": {
             "fill": {
              "color": "#C8D4E3"
             },
             "line": {
              "color": "white"
             }
            },
            "type": "table"
           }
          ]
         },
         "layout": {
          "annotationdefaults": {
           "arrowcolor": "#2a3f5f",
           "arrowhead": 0,
           "arrowwidth": 1
          },
          "autotypenumbers": "strict",
          "coloraxis": {
           "colorbar": {
            "outlinewidth": 0,
            "ticks": ""
           }
          },
          "colorscale": {
           "diverging": [
            [
             0,
             "#8e0152"
            ],
            [
             0.1,
             "#c51b7d"
            ],
            [
             0.2,
             "#de77ae"
            ],
            [
             0.3,
             "#f1b6da"
            ],
            [
             0.4,
             "#fde0ef"
            ],
            [
             0.5,
             "#f7f7f7"
            ],
            [
             0.6,
             "#e6f5d0"
            ],
            [
             0.7,
             "#b8e186"
            ],
            [
             0.8,
             "#7fbc41"
            ],
            [
             0.9,
             "#4d9221"
            ],
            [
             1,
             "#276419"
            ]
           ],
           "sequential": [
            [
             0,
             "#0d0887"
            ],
            [
             0.1111111111111111,
             "#46039f"
            ],
            [
             0.2222222222222222,
             "#7201a8"
            ],
            [
             0.3333333333333333,
             "#9c179e"
            ],
            [
             0.4444444444444444,
             "#bd3786"
            ],
            [
             0.5555555555555556,
             "#d8576b"
            ],
            [
             0.6666666666666666,
             "#ed7953"
            ],
            [
             0.7777777777777778,
             "#fb9f3a"
            ],
            [
             0.8888888888888888,
             "#fdca26"
            ],
            [
             1,
             "#f0f921"
            ]
           ],
           "sequentialminus": [
            [
             0,
             "#0d0887"
            ],
            [
             0.1111111111111111,
             "#46039f"
            ],
            [
             0.2222222222222222,
             "#7201a8"
            ],
            [
             0.3333333333333333,
             "#9c179e"
            ],
            [
             0.4444444444444444,
             "#bd3786"
            ],
            [
             0.5555555555555556,
             "#d8576b"
            ],
            [
             0.6666666666666666,
             "#ed7953"
            ],
            [
             0.7777777777777778,
             "#fb9f3a"
            ],
            [
             0.8888888888888888,
             "#fdca26"
            ],
            [
             1,
             "#f0f921"
            ]
           ]
          },
          "colorway": [
           "#636efa",
           "#EF553B",
           "#00cc96",
           "#ab63fa",
           "#FFA15A",
           "#19d3f3",
           "#FF6692",
           "#B6E880",
           "#FF97FF",
           "#FECB52"
          ],
          "font": {
           "color": "#2a3f5f"
          },
          "geo": {
           "bgcolor": "white",
           "lakecolor": "white",
           "landcolor": "#E5ECF6",
           "showlakes": true,
           "showland": true,
           "subunitcolor": "white"
          },
          "hoverlabel": {
           "align": "left"
          },
          "hovermode": "closest",
          "mapbox": {
           "style": "light"
          },
          "paper_bgcolor": "white",
          "plot_bgcolor": "#E5ECF6",
          "polar": {
           "angularaxis": {
            "gridcolor": "white",
            "linecolor": "white",
            "ticks": ""
           },
           "bgcolor": "#E5ECF6",
           "radialaxis": {
            "gridcolor": "white",
            "linecolor": "white",
            "ticks": ""
           }
          },
          "scene": {
           "xaxis": {
            "backgroundcolor": "#E5ECF6",
            "gridcolor": "white",
            "gridwidth": 2,
            "linecolor": "white",
            "showbackground": true,
            "ticks": "",
            "zerolinecolor": "white"
           },
           "yaxis": {
            "backgroundcolor": "#E5ECF6",
            "gridcolor": "white",
            "gridwidth": 2,
            "linecolor": "white",
            "showbackground": true,
            "ticks": "",
            "zerolinecolor": "white"
           },
           "zaxis": {
            "backgroundcolor": "#E5ECF6",
            "gridcolor": "white",
            "gridwidth": 2,
            "linecolor": "white",
            "showbackground": true,
            "ticks": "",
            "zerolinecolor": "white"
           }
          },
          "shapedefaults": {
           "line": {
            "color": "#2a3f5f"
           }
          },
          "ternary": {
           "aaxis": {
            "gridcolor": "white",
            "linecolor": "white",
            "ticks": ""
           },
           "baxis": {
            "gridcolor": "white",
            "linecolor": "white",
            "ticks": ""
           },
           "bgcolor": "#E5ECF6",
           "caxis": {
            "gridcolor": "white",
            "linecolor": "white",
            "ticks": ""
           }
          },
          "title": {
           "x": 0.05
          },
          "xaxis": {
           "automargin": true,
           "gridcolor": "white",
           "linecolor": "white",
           "ticks": "",
           "title": {
            "standoff": 15
           },
           "zerolinecolor": "white",
           "zerolinewidth": 2
          },
          "yaxis": {
           "automargin": true,
           "gridcolor": "white",
           "linecolor": "white",
           "ticks": "",
           "title": {
            "standoff": 15
           },
           "zerolinecolor": "white",
           "zerolinewidth": 2
          }
         }
        },
        "title": {
         "text": "RSG Task: Mean Reported vs Actual Interval (per Block)"
        },
        "width": 850,
        "xaxis": {
         "gridcolor": "lightgray",
         "range": [
          420,
          1495
         ],
         "showgrid": true,
         "title": {
          "text": "Actual Interval (ms)"
         }
        },
        "yaxis": {
         "gridcolor": "lightgray",
         "range": [
          420,
          1495
         ],
         "showgrid": true,
         "title": {
          "text": "Reported Interval (ms)"
         }
        }
       }
      },
      "text/html": [
       "<div>                            <div id=\"1e92f738-31e0-41e1-b960-e91a13bbf6cb\" class=\"plotly-graph-div\" style=\"height:600px; width:850px;\"></div>            <script type=\"text/javascript\">                require([\"plotly\"], function(Plotly) {                    window.PLOTLYENV=window.PLOTLYENV || {};                                    if (document.getElementById(\"1e92f738-31e0-41e1-b960-e91a13bbf6cb\")) {                    Plotly.newPlot(                        \"1e92f738-31e0-41e1-b960-e91a13bbf6cb\",                        [{\"legendgroup\":\"block_0\",\"marker\":{\"color\":\"#febf5a\",\"line\":{\"color\":\"black\",\"width\":0.5},\"size\":3},\"mode\":\"markers\",\"name\":\"Block 1 Trials\",\"opacity\":0.5,\"showlegend\":true,\"x\":[490.0,490.0,490.0,490.0,490.0,490.0,550.0,550.0,550.0,550.0,550.0,550.0,550.0,550.0,550.0,550.0,550.0,550.0,550.0,550.0,610.0,610.0,610.0,610.0,610.0,610.0,610.0,610.0,610.0,610.0,610.0,610.0,610.0,670.0,670.0,670.0,670.0,670.0,670.0,730.0,730.0,730.0,730.0,730.0,730.0,790.0,790.0,790.0,790.0,790.0,790.0,790.0,790.0,790.0,850.0,850.0,850.0,850.0,850.0,850.0,850.0],\"y\":[510.0,580.0,424.0,493.0,432.0,534.0,443.0,420.0,580.0,478.0,594.0,591.0,515.0,482.0,478.0,560.0,545.0,479.0,431.0,616.0,600.0,610.0,449.0,467.0,643.0,578.0,703.0,756.0,549.0,472.0,626.0,680.0,683.0,927.0,686.0,562.0,681.0,593.0,763.0,660.0,633.0,771.0,849.0,508.0,661.0,814.0,746.0,941.0,700.0,556.0,811.0,904.0,722.0,887.0,825.0,879.0,830.0,888.0,687.0,821.0,783.0],\"type\":\"scatter\"},{\"error_y\":{\"array\":[24.483668025849397,17.502859151948165,26.650432681856735,53.70412771224698,48.09550683564712,40.059947362871675,25.44127558518559],\"thickness\":1.5,\"type\":\"data\",\"visible\":true,\"width\":5},\"legendgroup\":\"block_0\",\"line\":{\"color\":\"#febf5a\",\"width\":2},\"marker\":{\"color\":\"#febf5a\",\"line\":{\"color\":\"black\",\"width\":1.5},\"size\":10,\"symbol\":\"circle\"},\"mode\":\"lines+markers\",\"name\":\"Block 1 Mean \\u00b1 SEM\",\"showlegend\":true,\"x\":[490.0,550.0,610.0,670.0,730.0,790.0,850.0],\"y\":[495.5,515.1428571428571,601.2307692307693,702.0,680.3333333333334,786.7777777777778,816.1428571428571],\"type\":\"scatter\"},{\"legendgroup\":\"block_1\",\"marker\":{\"color\":\"#f43d25\",\"line\":{\"color\":\"black\",\"width\":0.5},\"size\":3},\"mode\":\"markers\",\"name\":\"Block 2 Trials\",\"opacity\":0.5,\"showlegend\":true,\"x\":[670.0,670.0,670.0,670.0,670.0,670.0,670.0,670.0,670.0,670.0,670.0,670.0,670.0,670.0,670.0,670.0,670.0,670.0,670.0,670.0,670.0,730.0,730.0,730.0,730.0,730.0,730.0,730.0,730.0,730.0,730.0,730.0,730.0,730.0,730.0,730.0,730.0,730.0,730.0,730.0,730.0,730.0,730.0,730.0,730.0,790.0,790.0,790.0,790.0,790.0,790.0,790.0,790.0,790.0,790.0,790.0,790.0,790.0,790.0,790.0,790.0,790.0,790.0,790.0,790.0,790.0,790.0,790.0,790.0,790.0,790.0,790.0,790.0,790.0,850.0,850.0,850.0,850.0,850.0,850.0,850.0,850.0,850.0,850.0,850.0,850.0,850.0,850.0,850.0,850.0,850.0,850.0,850.0,850.0,850.0,850.0,850.0,910.0,910.0,910.0,910.0,910.0,910.0,910.0,910.0,910.0,910.0,910.0,910.0,910.0,910.0,910.0,910.0,910.0,910.0,910.0,910.0,910.0,910.0,910.0,910.0,910.0,910.0,910.0,910.0,910.0,910.0,910.0,910.0,910.0,910.0,910.0,910.0,910.0,910.0,910.0,910.0,910.0,910.0,960.0,960.0,960.0,960.0,960.0,960.0,960.0,960.0,960.0,960.0,960.0,960.0,960.0,960.0,960.0,960.0,960.0,960.0,960.0,960.0,960.0,960.0,1020.0,1020.0,1020.0,1020.0,1020.0,1020.0,1020.0,1020.0,1020.0,1020.0,1020.0,1020.0,1020.0,1020.0,1020.0,1020.0,1020.0,1020.0,1020.0,1020.0,1020.0,1020.0,1020.0,1020.0,1020.0,1020.0,1020.0,1020.0,1020.0,1020.0,1020.0],\"y\":[554.0,710.0,695.0,736.0,794.0,784.0,874.0,677.0,943.0,961.0,817.0,939.0,820.0,1039.0,1004.0,1036.0,868.0,974.0,485.0,756.0,586.0,705.0,1143.0,753.0,724.0,975.0,906.0,862.0,818.0,917.0,870.0,922.0,790.0,723.0,900.0,869.0,928.0,788.0,1010.0,868.0,578.0,998.0,906.0,831.0,814.0,758.0,758.0,914.0,629.0,821.0,820.0,933.0,930.0,977.0,824.0,833.0,945.0,778.0,903.0,690.0,870.0,768.0,748.0,848.0,976.0,611.0,952.0,946.0,732.0,904.0,847.0,750.0,787.0,829.0,1044.0,905.0,853.0,871.0,916.0,933.0,865.0,1031.0,896.0,908.0,842.0,854.0,987.0,920.0,879.0,865.0,927.0,815.0,904.0,832.0,717.0,780.0,843.0,716.0,982.0,894.0,929.0,796.0,1006.0,887.0,858.0,889.0,958.0,936.0,798.0,970.0,1024.0,952.0,895.0,899.0,913.0,1025.0,928.0,997.0,804.0,916.0,995.0,997.0,1185.0,906.0,956.0,979.0,1120.0,848.0,747.0,971.0,796.0,877.0,847.0,1026.0,720.0,922.0,869.0,826.0,756.0,1063.0,980.0,1021.0,924.0,966.0,991.0,963.0,907.0,835.0,902.0,876.0,856.0,1083.0,990.0,988.0,860.0,870.0,1131.0,875.0,843.0,835.0,863.0,1139.0,1097.0,830.0,858.0,962.0,998.0,941.0,1014.0,978.0,836.0,1007.0,884.0,987.0,959.0,878.0,803.0,1025.0,1014.0,737.0,875.0,873.0,950.0,892.0,903.0,987.0,811.0,906.0,970.0,1086.0,1037.0,791.0],\"type\":\"scatter\"},{\"error_y\":{\"array\":[34.650637319776195,24.06401863267279,18.397995566629344,15.284487877763947,15.458349852653292,18.347953098918424,17.267389702511423],\"thickness\":1.5,\"type\":\"data\",\"visible\":true,\"width\":5},\"legendgroup\":\"block_1\",\"line\":{\"color\":\"#f43d25\",\"width\":2},\"marker\":{\"color\":\"#f43d25\",\"line\":{\"color\":\"black\",\"width\":1.5},\"size\":10,\"symbol\":\"circle\"},\"mode\":\"lines+markers\",\"name\":\"Block 2 Mean \\u00b1 SEM\",\"showlegend\":true,\"x\":[670.0,730.0,790.0,850.0,910.0,960.0,1020.0],\"y\":[812.0,858.25,830.3793103448276,886.3913043478261,912.2619047619048,937.3636363636364,936.3870967741935],\"type\":\"scatter\"},{\"legendgroup\":\"block_2\",\"marker\":{\"color\":\"#800026\",\"line\":{\"color\":\"black\",\"width\":0.5},\"size\":3},\"mode\":\"markers\",\"name\":\"Block 3 Trials\",\"opacity\":0.5,\"showlegend\":true,\"x\":[850.0,850.0,850.0,850.0,850.0,850.0,850.0,850.0,850.0,850.0,850.0,850.0,850.0,850.0,850.0,850.0,850.0,850.0,850.0,850.0,850.0,850.0,850.0,850.0,850.0,850.0,850.0,850.0,850.0,850.0,850.0,850.0,850.0,850.0,850.0,850.0,850.0,850.0,850.0,850.0,850.0,850.0,850.0,850.0,850.0,850.0,850.0,850.0,850.0,850.0,850.0,850.0,850.0,850.0,850.0,850.0,850.0,850.0,850.0,850.0,910.0,910.0,910.0,910.0,910.0,910.0,910.0,910.0,910.0,910.0,910.0,910.0,910.0,910.0,910.0,910.0,910.0,910.0,910.0,910.0,910.0,910.0,910.0,910.0,910.0,910.0,910.0,910.0,910.0,910.0,910.0,910.0,910.0,910.0,910.0,910.0,910.0,910.0,910.0,910.0,910.0,910.0,910.0,910.0,910.0,910.0,910.0,910.0,910.0,910.0,910.0,910.0,910.0,910.0,910.0,910.0,910.0,910.0,910.0,910.0,910.0,910.0,910.0,960.0,960.0,960.0,960.0,960.0,960.0,960.0,960.0,960.0,960.0,960.0,960.0,960.0,960.0,960.0,960.0,960.0,960.0,960.0,960.0,960.0,960.0,960.0,960.0,960.0,960.0,960.0,960.0,960.0,960.0,960.0,960.0,960.0,960.0,960.0,960.0,960.0,960.0,960.0,960.0,960.0,960.0,960.0,960.0,960.0,960.0,960.0,960.0,960.0,960.0,960.0,960.0,960.0,960.0,960.0,960.0,960.0,960.0,960.0,960.0,960.0,960.0,960.0,960.0,1020.0,1020.0,1020.0,1020.0,1020.0,1020.0,1020.0,1020.0,1020.0,1020.0,1020.0,1020.0,1020.0,1020.0,1020.0,1020.0,1020.0,1020.0,1020.0,1020.0,1020.0,1020.0,1020.0,1020.0,1020.0,1020.0,1020.0,1020.0,1020.0,1020.0,1020.0,1020.0,1020.0,1020.0,1020.0,1020.0,1020.0,1020.0,1020.0,1020.0,1020.0,1020.0,1020.0,1020.0,1020.0,1020.0,1020.0,1020.0,1020.0,1020.0,1020.0,1020.0,1020.0,1020.0,1020.0,1020.0,1020.0,1020.0,1020.0,1020.0,1020.0,1020.0,1080.0,1080.0,1080.0,1080.0,1080.0,1080.0,1080.0,1080.0,1080.0,1080.0,1080.0,1080.0,1080.0,1080.0,1080.0,1080.0,1080.0,1080.0,1080.0,1080.0,1080.0,1080.0,1080.0,1080.0,1080.0,1080.0,1080.0,1080.0,1080.0,1080.0,1080.0,1080.0,1080.0,1080.0,1080.0,1080.0,1080.0,1080.0,1080.0,1080.0,1080.0,1080.0,1080.0,1080.0,1080.0,1080.0,1080.0,1080.0,1080.0,1080.0,1080.0,1080.0,1080.0,1080.0,1080.0,1080.0,1080.0,1080.0,1080.0,1080.0,1080.0,1080.0,1080.0,1080.0,1080.0,1080.0,1080.0,1140.0,1140.0,1140.0,1140.0,1140.0,1140.0,1140.0,1140.0,1140.0,1140.0,1140.0,1140.0,1140.0,1140.0,1140.0,1140.0,1140.0,1140.0,1140.0,1140.0,1140.0,1140.0,1140.0,1140.0,1140.0,1140.0,1140.0,1140.0,1140.0,1140.0,1140.0,1140.0,1140.0,1140.0,1140.0,1140.0,1140.0,1140.0,1140.0,1140.0,1140.0,1140.0,1140.0,1140.0,1140.0,1140.0,1140.0,1140.0,1140.0,1140.0,1140.0,1140.0,1140.0,1140.0,1140.0,1140.0,1140.0,1140.0,1140.0,1200.0,1200.0,1200.0,1200.0,1200.0,1200.0,1200.0,1200.0,1200.0,1200.0,1200.0,1200.0,1200.0,1200.0,1200.0,1200.0,1200.0,1200.0,1200.0,1200.0,1200.0,1200.0,1200.0,1200.0,1200.0,1200.0,1200.0,1200.0,1200.0,1200.0,1200.0,1200.0,1200.0,1200.0,1200.0,1200.0,1200.0,1200.0,1200.0,1200.0,1200.0,1200.0,1200.0,1200.0,1200.0,1200.0,1200.0,1200.0,1200.0,1200.0,1200.0,1200.0,1200.0,1200.0,1200.0,1200.0,1200.0,1200.0,1200.0,1200.0,1200.0,1200.0,1200.0,1200.0,1200.0,1200.0,1200.0,1200.0,1200.0,1200.0,1200.0,1200.0,1200.0],\"y\":[723.0,1080.0,1209.0,616.0,1115.0,746.0,1174.0,977.0,1029.0,944.0,1021.0,971.0,924.0,1216.0,794.0,944.0,662.0,753.0,852.0,719.0,982.0,767.0,747.0,1227.0,1091.0,1049.0,846.0,1031.0,1136.0,911.0,1044.0,993.0,664.0,910.0,1105.0,819.0,877.0,983.0,745.0,925.0,953.0,880.0,1229.0,1109.0,739.0,925.0,1147.0,957.0,885.0,890.0,1085.0,666.0,906.0,948.0,1064.0,1120.0,966.0,714.0,976.0,1235.0,982.0,933.0,1034.0,1135.0,898.0,1070.0,1257.0,1146.0,1106.0,952.0,1061.0,994.0,874.0,924.0,776.0,921.0,928.0,853.0,879.0,887.0,846.0,1282.0,915.0,918.0,1038.0,1262.0,948.0,991.0,1211.0,866.0,957.0,1155.0,942.0,887.0,994.0,1058.0,859.0,898.0,975.0,1287.0,1002.0,1110.0,1007.0,901.0,1193.0,931.0,993.0,1008.0,995.0,864.0,1179.0,1015.0,810.0,1104.0,984.0,843.0,1186.0,961.0,876.0,837.0,1170.0,1042.0,1039.0,946.0,954.0,974.0,886.0,1159.0,1150.0,1010.0,1081.0,1088.0,1057.0,1048.0,913.0,1092.0,1055.0,1084.0,939.0,1017.0,984.0,721.0,808.0,914.0,823.0,762.0,1031.0,1162.0,985.0,891.0,882.0,1164.0,894.0,1127.0,851.0,982.0,851.0,870.0,1158.0,1083.0,953.0,1191.0,1191.0,978.0,862.0,913.0,1093.0,1251.0,1210.0,1134.0,1065.0,1252.0,968.0,1234.0,883.0,1204.0,1036.0,1279.0,1495.0,1196.0,1183.0,1032.0,1051.0,1140.0,1069.0,1171.0,1057.0,885.0,1027.0,993.0,1261.0,913.0,1069.0,1011.0,1153.0,1010.0,1185.0,954.0,1031.0,1159.0,1200.0,1059.0,1218.0,913.0,898.0,958.0,958.0,989.0,1053.0,913.0,972.0,937.0,1063.0,880.0,1049.0,1061.0,988.0,829.0,1012.0,963.0,1086.0,1017.0,1003.0,1011.0,868.0,1151.0,1039.0,1112.0,1292.0,1107.0,916.0,1111.0,1204.0,1145.0,1109.0,926.0,1067.0,986.0,1121.0,1175.0,1096.0,991.0,1141.0,1011.0,1090.0,901.0,1201.0,1145.0,1117.0,929.0,1240.0,1294.0,1085.0,1020.0,1088.0,928.0,1072.0,1017.0,1074.0,1111.0,1060.0,1069.0,984.0,988.0,890.0,981.0,682.0,743.0,946.0,974.0,922.0,842.0,961.0,900.0,1050.0,1079.0,1041.0,1150.0,1280.0,1150.0,797.0,1190.0,1018.0,1107.0,1147.0,1106.0,1116.0,1255.0,939.0,807.0,914.0,1067.0,952.0,1034.0,1090.0,1082.0,791.0,1116.0,1064.0,1336.0,996.0,1107.0,1165.0,1108.0,1171.0,1169.0,937.0,1140.0,1084.0,1053.0,1053.0,969.0,1040.0,843.0,735.0,1185.0,962.0,1112.0,987.0,1319.0,1104.0,1074.0,980.0,1161.0,1238.0,1005.0,1142.0,746.0,926.0,1084.0,1030.0,1113.0,848.0,1142.0,940.0,1116.0,1161.0,1159.0,1478.0,1138.0,1060.0,1214.0,1174.0,1066.0,1089.0,1041.0,1106.0,922.0,1131.0,1108.0,1164.0,1156.0,961.0,1200.0,1035.0,1024.0,1018.0,1065.0,1088.0,1056.0,984.0,1073.0,1017.0,1304.0,998.0,1156.0,1171.0,1110.0,1202.0,1226.0,1277.0,794.0,1222.0,1016.0,858.0,830.0,1115.0,1116.0,1145.0,1105.0,1116.0,1174.0,1254.0,1074.0,1036.0,903.0,1222.0,1056.0,1096.0,1080.0,1221.0,1041.0,1201.0,1140.0,813.0,1003.0,1074.0,988.0,1017.0,1235.0,1180.0,1093.0,1227.0,1091.0,906.0,1153.0,917.0,1235.0,1146.0,940.0,1244.0,1135.0,1268.0,1104.0,1131.0,1244.0,1055.0,1258.0,1051.0,1121.0,1192.0,1099.0,1134.0,1147.0,1244.0,1255.0,1212.0,869.0,1079.0,935.0,1214.0,1076.0,1035.0,1077.0,1063.0,1365.0,1064.0,1148.0,1216.0,1056.0,1345.0,1174.0,1243.0,1145.0,1179.0,1092.0,1063.0,1263.0],\"type\":\"scatter\"},{\"error_y\":{\"array\":[20.979753826522106,15.876408495605448,17.9737444534059,13.373681101588696,16.532185459430156,16.637188332826785,13.303983655644336],\"thickness\":1.5,\"type\":\"data\",\"visible\":true,\"width\":5},\"legendgroup\":\"block_2\",\"line\":{\"color\":\"#800026\",\"width\":2},\"marker\":{\"color\":\"#800026\",\"line\":{\"color\":\"black\",\"width\":1.5},\"size\":10,\"symbol\":\"circle\"},\"mode\":\"lines+markers\",\"name\":\"Block 3 Mean \\u00b1 SEM\",\"showlegend\":true,\"x\":[850.0,910.0,960.0,1020.0,1080.0,1140.0,1200.0],\"y\":[945.25,999.1904761904761,1038.859375,1043.5967741935483,1033.3283582089553,1085.6101694915253,1116.958904109589],\"type\":\"scatter\"},{\"line\":{\"color\":\"gray\",\"dash\":\"dash\",\"width\":2},\"mode\":\"lines\",\"name\":\"Unity Line\",\"showlegend\":true,\"x\":[420.0,1495.0],\"y\":[420.0,1495.0],\"type\":\"scatter\"}],                        {\"height\":600,\"legend\":{\"title\":{\"text\":\"Blocks\"},\"x\":1.02,\"y\":1},\"margin\":{\"b\":80,\"l\":80,\"r\":160,\"t\":80},\"plot_bgcolor\":\"white\",\"shapes\":[{\"layer\":\"below\",\"line\":{\"color\":\"#febf5a\",\"dash\":\"dot\",\"width\":2},\"type\":\"line\",\"x0\":420.0,\"x1\":1495.0,\"y0\":656.2295081967213,\"y1\":656.2295081967213},{\"layer\":\"below\",\"line\":{\"color\":\"#f43d25\",\"dash\":\"dot\",\"width\":2},\"type\":\"line\",\"x0\":420.0,\"x1\":1495.0,\"y0\":859.4270833333334,\"y1\":859.4270833333334},{\"layer\":\"below\",\"line\":{\"color\":\"#800026\",\"dash\":\"dot\",\"width\":2},\"type\":\"line\",\"x0\":420.0,\"x1\":1495.0,\"y0\":1027.299107142857,\"y1\":1027.299107142857}],\"title\":{\"text\":\"RSG Task: Mean Reported vs Actual Interval (per Block)\"},\"width\":850,\"xaxis\":{\"range\":[420.0,1495.0],\"title\":{\"text\":\"Actual Interval (ms)\"},\"showgrid\":true,\"gridcolor\":\"lightgray\"},\"yaxis\":{\"range\":[420.0,1495.0],\"title\":{\"text\":\"Reported Interval (ms)\"},\"showgrid\":true,\"gridcolor\":\"lightgray\"},\"template\":{\"data\":{\"histogram2dcontour\":[{\"type\":\"histogram2dcontour\",\"colorbar\":{\"outlinewidth\":0,\"ticks\":\"\"},\"colorscale\":[[0.0,\"#0d0887\"],[0.1111111111111111,\"#46039f\"],[0.2222222222222222,\"#7201a8\"],[0.3333333333333333,\"#9c179e\"],[0.4444444444444444,\"#bd3786\"],[0.5555555555555556,\"#d8576b\"],[0.6666666666666666,\"#ed7953\"],[0.7777777777777778,\"#fb9f3a\"],[0.8888888888888888,\"#fdca26\"],[1.0,\"#f0f921\"]]}],\"choropleth\":[{\"type\":\"choropleth\",\"colorbar\":{\"outlinewidth\":0,\"ticks\":\"\"}}],\"histogram2d\":[{\"type\":\"histogram2d\",\"colorbar\":{\"outlinewidth\":0,\"ticks\":\"\"},\"colorscale\":[[0.0,\"#0d0887\"],[0.1111111111111111,\"#46039f\"],[0.2222222222222222,\"#7201a8\"],[0.3333333333333333,\"#9c179e\"],[0.4444444444444444,\"#bd3786\"],[0.5555555555555556,\"#d8576b\"],[0.6666666666666666,\"#ed7953\"],[0.7777777777777778,\"#fb9f3a\"],[0.8888888888888888,\"#fdca26\"],[1.0,\"#f0f921\"]]}],\"heatmap\":[{\"type\":\"heatmap\",\"colorbar\":{\"outlinewidth\":0,\"ticks\":\"\"},\"colorscale\":[[0.0,\"#0d0887\"],[0.1111111111111111,\"#46039f\"],[0.2222222222222222,\"#7201a8\"],[0.3333333333333333,\"#9c179e\"],[0.4444444444444444,\"#bd3786\"],[0.5555555555555556,\"#d8576b\"],[0.6666666666666666,\"#ed7953\"],[0.7777777777777778,\"#fb9f3a\"],[0.8888888888888888,\"#fdca26\"],[1.0,\"#f0f921\"]]}],\"heatmapgl\":[{\"type\":\"heatmapgl\",\"colorbar\":{\"outlinewidth\":0,\"ticks\":\"\"},\"colorscale\":[[0.0,\"#0d0887\"],[0.1111111111111111,\"#46039f\"],[0.2222222222222222,\"#7201a8\"],[0.3333333333333333,\"#9c179e\"],[0.4444444444444444,\"#bd3786\"],[0.5555555555555556,\"#d8576b\"],[0.6666666666666666,\"#ed7953\"],[0.7777777777777778,\"#fb9f3a\"],[0.8888888888888888,\"#fdca26\"],[1.0,\"#f0f921\"]]}],\"contourcarpet\":[{\"type\":\"contourcarpet\",\"colorbar\":{\"outlinewidth\":0,\"ticks\":\"\"}}],\"contour\":[{\"type\":\"contour\",\"colorbar\":{\"outlinewidth\":0,\"ticks\":\"\"},\"colorscale\":[[0.0,\"#0d0887\"],[0.1111111111111111,\"#46039f\"],[0.2222222222222222,\"#7201a8\"],[0.3333333333333333,\"#9c179e\"],[0.4444444444444444,\"#bd3786\"],[0.5555555555555556,\"#d8576b\"],[0.6666666666666666,\"#ed7953\"],[0.7777777777777778,\"#fb9f3a\"],[0.8888888888888888,\"#fdca26\"],[1.0,\"#f0f921\"]]}],\"surface\":[{\"type\":\"surface\",\"colorbar\":{\"outlinewidth\":0,\"ticks\":\"\"},\"colorscale\":[[0.0,\"#0d0887\"],[0.1111111111111111,\"#46039f\"],[0.2222222222222222,\"#7201a8\"],[0.3333333333333333,\"#9c179e\"],[0.4444444444444444,\"#bd3786\"],[0.5555555555555556,\"#d8576b\"],[0.6666666666666666,\"#ed7953\"],[0.7777777777777778,\"#fb9f3a\"],[0.8888888888888888,\"#fdca26\"],[1.0,\"#f0f921\"]]}],\"mesh3d\":[{\"type\":\"mesh3d\",\"colorbar\":{\"outlinewidth\":0,\"ticks\":\"\"}}],\"scatter\":[{\"fillpattern\":{\"fillmode\":\"overlay\",\"size\":10,\"solidity\":0.2},\"type\":\"scatter\"}],\"parcoords\":[{\"type\":\"parcoords\",\"line\":{\"colorbar\":{\"outlinewidth\":0,\"ticks\":\"\"}}}],\"scatterpolargl\":[{\"type\":\"scatterpolargl\",\"marker\":{\"colorbar\":{\"outlinewidth\":0,\"ticks\":\"\"}}}],\"bar\":[{\"error_x\":{\"color\":\"#2a3f5f\"},\"error_y\":{\"color\":\"#2a3f5f\"},\"marker\":{\"line\":{\"color\":\"#E5ECF6\",\"width\":0.5},\"pattern\":{\"fillmode\":\"overlay\",\"size\":10,\"solidity\":0.2}},\"type\":\"bar\"}],\"scattergeo\":[{\"type\":\"scattergeo\",\"marker\":{\"colorbar\":{\"outlinewidth\":0,\"ticks\":\"\"}}}],\"scatterpolar\":[{\"type\":\"scatterpolar\",\"marker\":{\"colorbar\":{\"outlinewidth\":0,\"ticks\":\"\"}}}],\"histogram\":[{\"marker\":{\"pattern\":{\"fillmode\":\"overlay\",\"size\":10,\"solidity\":0.2}},\"type\":\"histogram\"}],\"scattergl\":[{\"type\":\"scattergl\",\"marker\":{\"colorbar\":{\"outlinewidth\":0,\"ticks\":\"\"}}}],\"scatter3d\":[{\"type\":\"scatter3d\",\"line\":{\"colorbar\":{\"outlinewidth\":0,\"ticks\":\"\"}},\"marker\":{\"colorbar\":{\"outlinewidth\":0,\"ticks\":\"\"}}}],\"scattermapbox\":[{\"type\":\"scattermapbox\",\"marker\":{\"colorbar\":{\"outlinewidth\":0,\"ticks\":\"\"}}}],\"scatterternary\":[{\"type\":\"scatterternary\",\"marker\":{\"colorbar\":{\"outlinewidth\":0,\"ticks\":\"\"}}}],\"scattercarpet\":[{\"type\":\"scattercarpet\",\"marker\":{\"colorbar\":{\"outlinewidth\":0,\"ticks\":\"\"}}}],\"carpet\":[{\"aaxis\":{\"endlinecolor\":\"#2a3f5f\",\"gridcolor\":\"white\",\"linecolor\":\"white\",\"minorgridcolor\":\"white\",\"startlinecolor\":\"#2a3f5f\"},\"baxis\":{\"endlinecolor\":\"#2a3f5f\",\"gridcolor\":\"white\",\"linecolor\":\"white\",\"minorgridcolor\":\"white\",\"startlinecolor\":\"#2a3f5f\"},\"type\":\"carpet\"}],\"table\":[{\"cells\":{\"fill\":{\"color\":\"#EBF0F8\"},\"line\":{\"color\":\"white\"}},\"header\":{\"fill\":{\"color\":\"#C8D4E3\"},\"line\":{\"color\":\"white\"}},\"type\":\"table\"}],\"barpolar\":[{\"marker\":{\"line\":{\"color\":\"#E5ECF6\",\"width\":0.5},\"pattern\":{\"fillmode\":\"overlay\",\"size\":10,\"solidity\":0.2}},\"type\":\"barpolar\"}],\"pie\":[{\"automargin\":true,\"type\":\"pie\"}]},\"layout\":{\"autotypenumbers\":\"strict\",\"colorway\":[\"#636efa\",\"#EF553B\",\"#00cc96\",\"#ab63fa\",\"#FFA15A\",\"#19d3f3\",\"#FF6692\",\"#B6E880\",\"#FF97FF\",\"#FECB52\"],\"font\":{\"color\":\"#2a3f5f\"},\"hovermode\":\"closest\",\"hoverlabel\":{\"align\":\"left\"},\"paper_bgcolor\":\"white\",\"plot_bgcolor\":\"#E5ECF6\",\"polar\":{\"bgcolor\":\"#E5ECF6\",\"angularaxis\":{\"gridcolor\":\"white\",\"linecolor\":\"white\",\"ticks\":\"\"},\"radialaxis\":{\"gridcolor\":\"white\",\"linecolor\":\"white\",\"ticks\":\"\"}},\"ternary\":{\"bgcolor\":\"#E5ECF6\",\"aaxis\":{\"gridcolor\":\"white\",\"linecolor\":\"white\",\"ticks\":\"\"},\"baxis\":{\"gridcolor\":\"white\",\"linecolor\":\"white\",\"ticks\":\"\"},\"caxis\":{\"gridcolor\":\"white\",\"linecolor\":\"white\",\"ticks\":\"\"}},\"coloraxis\":{\"colorbar\":{\"outlinewidth\":0,\"ticks\":\"\"}},\"colorscale\":{\"sequential\":[[0.0,\"#0d0887\"],[0.1111111111111111,\"#46039f\"],[0.2222222222222222,\"#7201a8\"],[0.3333333333333333,\"#9c179e\"],[0.4444444444444444,\"#bd3786\"],[0.5555555555555556,\"#d8576b\"],[0.6666666666666666,\"#ed7953\"],[0.7777777777777778,\"#fb9f3a\"],[0.8888888888888888,\"#fdca26\"],[1.0,\"#f0f921\"]],\"sequentialminus\":[[0.0,\"#0d0887\"],[0.1111111111111111,\"#46039f\"],[0.2222222222222222,\"#7201a8\"],[0.3333333333333333,\"#9c179e\"],[0.4444444444444444,\"#bd3786\"],[0.5555555555555556,\"#d8576b\"],[0.6666666666666666,\"#ed7953\"],[0.7777777777777778,\"#fb9f3a\"],[0.8888888888888888,\"#fdca26\"],[1.0,\"#f0f921\"]],\"diverging\":[[0,\"#8e0152\"],[0.1,\"#c51b7d\"],[0.2,\"#de77ae\"],[0.3,\"#f1b6da\"],[0.4,\"#fde0ef\"],[0.5,\"#f7f7f7\"],[0.6,\"#e6f5d0\"],[0.7,\"#b8e186\"],[0.8,\"#7fbc41\"],[0.9,\"#4d9221\"],[1,\"#276419\"]]},\"xaxis\":{\"gridcolor\":\"white\",\"linecolor\":\"white\",\"ticks\":\"\",\"title\":{\"standoff\":15},\"zerolinecolor\":\"white\",\"automargin\":true,\"zerolinewidth\":2},\"yaxis\":{\"gridcolor\":\"white\",\"linecolor\":\"white\",\"ticks\":\"\",\"title\":{\"standoff\":15},\"zerolinecolor\":\"white\",\"automargin\":true,\"zerolinewidth\":2},\"scene\":{\"xaxis\":{\"backgroundcolor\":\"#E5ECF6\",\"gridcolor\":\"white\",\"linecolor\":\"white\",\"showbackground\":true,\"ticks\":\"\",\"zerolinecolor\":\"white\",\"gridwidth\":2},\"yaxis\":{\"backgroundcolor\":\"#E5ECF6\",\"gridcolor\":\"white\",\"linecolor\":\"white\",\"showbackground\":true,\"ticks\":\"\",\"zerolinecolor\":\"white\",\"gridwidth\":2},\"zaxis\":{\"backgroundcolor\":\"#E5ECF6\",\"gridcolor\":\"white\",\"linecolor\":\"white\",\"showbackground\":true,\"ticks\":\"\",\"zerolinecolor\":\"white\",\"gridwidth\":2}},\"shapedefaults\":{\"line\":{\"color\":\"#2a3f5f\"}},\"annotationdefaults\":{\"arrowcolor\":\"#2a3f5f\",\"arrowhead\":0,\"arrowwidth\":1},\"geo\":{\"bgcolor\":\"white\",\"landcolor\":\"#E5ECF6\",\"subunitcolor\":\"white\",\"showland\":true,\"showlakes\":true,\"lakecolor\":\"white\"},\"title\":{\"x\":0.05},\"mapbox\":{\"style\":\"light\"}}}},                        {\"responsive\": true}                    ).then(function(){\n",
       "                            \n",
       "var gd = document.getElementById('1e92f738-31e0-41e1-b960-e91a13bbf6cb');\n",
       "var x = new MutationObserver(function (mutations, observer) {{\n",
       "        var display = window.getComputedStyle(gd).display;\n",
       "        if (!display || display === 'none') {{\n",
       "            console.log([gd, 'removed!']);\n",
       "            Plotly.purge(gd);\n",
       "            observer.disconnect();\n",
       "        }}\n",
       "}});\n",
       "\n",
       "// Listen for the removal of the full notebook cells\n",
       "var notebookContainer = gd.closest('#notebook-container');\n",
       "if (notebookContainer) {{\n",
       "    x.observe(notebookContainer, {childList: true});\n",
       "}}\n",
       "\n",
       "// Listen for the clearing of the current output cell\n",
       "var outputEl = gd.closest('.output');\n",
       "if (outputEl) {{\n",
       "    x.observe(outputEl, {childList: true});\n",
       "}}\n",
       "\n",
       "                        })                };                });            </script>        </div>"
      ]
     },
     "metadata": {},
     "output_type": "display_data"
    }
   ],
   "source": [
    "import pandas as pd\n",
    "import numpy as np\n",
    "import plotly.graph_objects as go\n",
    "from matplotlib import cm\n",
    "import matplotlib.colors as mcolors\n",
    "\n",
    "# Assumes go_df is already defined and contains:\n",
    "# target_interval, reproduced_interval, reproduction_error, block, prior_mean\n",
    "\n",
    "# Get all unique blocks based on prior_mean\n",
    "blocks = sorted(go_df['prior_mean'].unique())\n",
    "\n",
    "# Color map setup\n",
    "cmap = cm.get_cmap('YlOrRd', len(blocks)+1)\n",
    "ordered_colors = [mcolors.to_hex(cmap(i+1)) for i in range(len(blocks))]\n",
    "\n",
    "# Axis bounds\n",
    "min_val = min(go_df['target_interval'].min(), go_df['reproduced_interval'].min())\n",
    "max_val = max(go_df['target_interval'].max(), go_df['reproduced_interval'].max())\n",
    "\n",
    "# Initialize traces and shapes\n",
    "traces = []\n",
    "shapes = []\n",
    "\n",
    "for i, iBlock in enumerate(blocks):\n",
    "    block_df = go_df[go_df['prior_mean'] == iBlock]\n",
    "\n",
    "    # --- Raw trial dots ---\n",
    "    traces.append(\n",
    "        go.Scatter(\n",
    "            x=block_df['target_interval'],\n",
    "            y=block_df['reproduced_interval'],\n",
    "            mode='markers',\n",
    "            name=f'Block {i+1} Trials',\n",
    "            marker=dict(color=ordered_colors[i], size=3, line=dict(width=0.5, color='black')),\n",
    "            opacity=0.5,\n",
    "            legendgroup=f'block_{i}',\n",
    "            showlegend=True\n",
    "        )\n",
    "    )\n",
    "\n",
    "    # --- Line plot with mean ± SEM across target intervals ---\n",
    "    summary = (\n",
    "        block_df\n",
    "        .groupby('target_interval')\n",
    "        .agg(mean_repro=('reproduced_interval', 'mean'),\n",
    "             sem_repro=('reproduced_interval', lambda x: x.std(ddof=1) / np.sqrt(len(x))))\n",
    "        .reset_index()\n",
    "    )\n",
    "\n",
    "    traces.append(\n",
    "        go.Scatter(\n",
    "            x=summary['target_interval'],\n",
    "            y=summary['mean_repro'],\n",
    "            error_y=dict(\n",
    "                type='data',\n",
    "                array=summary['sem_repro'],\n",
    "                visible=True,\n",
    "                thickness=1.5,\n",
    "                width=5\n",
    "            ),\n",
    "            mode='lines+markers',\n",
    "            name=f'Block {i+1} Mean ± SEM',\n",
    "            marker=dict(symbol='circle', size=10, color=ordered_colors[i], line=dict(color='black', width=1.5)),\n",
    "            line=dict(color=ordered_colors[i], width=2),\n",
    "            legendgroup=f'block_{i}',\n",
    "            showlegend=True\n",
    "        )\n",
    "    )\n",
    "\n",
    "    # --- Horizontal line at mean target interval for the block ---\n",
    "    mean_target = block_df['target_interval'].mean()\n",
    "    shapes.append(dict(\n",
    "        type=\"line\",\n",
    "        x0=min_val, x1=max_val,\n",
    "        y0=mean_target, y1=mean_target,\n",
    "        line=dict(color=ordered_colors[i], width=2, dash='dot'),\n",
    "        layer='below'  # Draw behind markers\n",
    "    ))\n",
    "\n",
    "# --- Unity line ---\n",
    "traces.append(\n",
    "    go.Scatter(\n",
    "        x=[min_val, max_val],\n",
    "        y=[min_val, max_val],\n",
    "        mode='lines',\n",
    "        name='Unity Line',\n",
    "        line=dict(dash='dash', color='gray', width=2),\n",
    "        showlegend=True\n",
    "    )\n",
    ")\n",
    "\n",
    "# --- Layout ---\n",
    "layout = go.Layout(\n",
    "    title='RSG Task: Mean Reported vs Actual Interval (per Block)',\n",
    "    xaxis=dict(title='Actual Interval (ms)', range=[min_val, max_val]),\n",
    "    yaxis=dict(title='Reported Interval (ms)', range=[min_val, max_val]),\n",
    "    legend=dict(title='Blocks', x=1.02, y=1),\n",
    "    width=850,\n",
    "    height=600,\n",
    "    margin=dict(l=80, r=160, t=80, b=80),\n",
    "    plot_bgcolor='white',\n",
    "    shapes=shapes\n",
    ")\n",
    "\n",
    "fig = go.Figure(data=traces, layout=layout)\n",
    "fig.update_xaxes(showgrid=True, gridcolor='lightgray')\n",
    "fig.update_yaxes(showgrid=True, gridcolor='lightgray')\n",
    "fig.show()"
   ]
  },
  {
   "cell_type": "code",
   "execution_count": 27,
   "id": "7cb6298b",
   "metadata": {},
   "outputs": [
    {
     "data": {
      "application/vnd.plotly.v1+json": {
       "config": {
        "plotlyServerURL": "https://plot.ly"
       },
       "data": [
        {
         "legendgroup": "block_0",
         "marker": {
          "color": "#febf5a",
          "line": {
           "color": "black",
           "width": 0.5
          },
          "size": 3
         },
         "mode": "markers",
         "name": "Block 1 Trials",
         "opacity": 0.4,
         "type": "scatter",
         "x": [
          490,
          490,
          490,
          490,
          490,
          490,
          550,
          550,
          550,
          550,
          550,
          550,
          550,
          550,
          550,
          550,
          550,
          550,
          550,
          550,
          610,
          610,
          610,
          610,
          610,
          610,
          610,
          610,
          610,
          610,
          610,
          610,
          610,
          670,
          670,
          670,
          670,
          670,
          670,
          730,
          730,
          730,
          730,
          730,
          730,
          790,
          790,
          790,
          790,
          790,
          790,
          790,
          790,
          790,
          850,
          850,
          850,
          850,
          850,
          850,
          850
         ],
         "xaxis": "x",
         "y": [
          510,
          580,
          424,
          493,
          432,
          534,
          443,
          420,
          580,
          478,
          594,
          591,
          515,
          482,
          478,
          560,
          545,
          479,
          431,
          616,
          600,
          610,
          449,
          467,
          643,
          578,
          703,
          756,
          549,
          472,
          626,
          680,
          683,
          927,
          686,
          562,
          681,
          593,
          763,
          660,
          633,
          771,
          849,
          508,
          661,
          814,
          746,
          941,
          700,
          556,
          811,
          904,
          722,
          887,
          825,
          879,
          830,
          888,
          687,
          821,
          783
         ],
         "yaxis": "y"
        },
        {
         "error_y": {
          "array": [
           24.483668025849397,
           17.502859151948165,
           26.650432681856735,
           53.70412771224698,
           48.09550683564712,
           40.059947362871675,
           25.44127558518559
          ],
          "thickness": 1.5,
          "type": "data",
          "visible": true,
          "width": 5
         },
         "legendgroup": "block_0",
         "line": {
          "color": "#febf5a",
          "width": 2
         },
         "marker": {
          "color": "#febf5a",
          "line": {
           "color": "black",
           "width": 1.5
          },
          "size": 10
         },
         "mode": "lines+markers",
         "name": "Block 1 Mean ± SEM",
         "type": "scatter",
         "x": [
          490,
          550,
          610,
          670,
          730,
          790,
          850
         ],
         "xaxis": "x",
         "y": [
          495.5,
          515.1428571428571,
          601.2307692307693,
          702,
          680.3333333333334,
          786.7777777777778,
          816.1428571428571
         ],
         "yaxis": "y"
        },
        {
         "legendgroup": "block_0",
         "line": {
          "color": "#febf5a",
          "width": 2
         },
         "marker": {
          "color": "#febf5a",
          "line": {
           "color": "black",
           "width": 1
          },
          "size": 8
         },
         "mode": "lines+markers",
         "name": "Block 1 Bias",
         "showlegend": false,
         "type": "scatter",
         "x": [
          490,
          550,
          610,
          670,
          730,
          790,
          850
         ],
         "xaxis": "x2",
         "y": [
          5.5,
          34.85714285714289,
          8.769230769230717,
          32,
          49.66666666666663,
          3.2222222222221717,
          33.85714285714289
         ],
         "yaxis": "y2"
        },
        {
         "legendgroup": "block_0",
         "line": {
          "color": "#febf5a",
          "width": 2
         },
         "marker": {
          "color": "#febf5a",
          "line": {
           "color": "black",
           "width": 1
          },
          "size": 8
         },
         "mode": "lines+markers",
         "name": "Block 1 STD",
         "showlegend": false,
         "type": "scatter",
         "x": [
          490,
          550,
          610,
          670,
          730,
          790,
          850
         ],
         "xaxis": "x3",
         "y": [
          59.972493695026564,
          65.48970223555074,
          96.08950154773575,
          131.54770997626676,
          117.80945066787584,
          120.17984208861503,
          67.31128823466032
         ],
         "yaxis": "y3"
        },
        {
         "legendgroup": "block_1",
         "marker": {
          "color": "#f43d25",
          "line": {
           "color": "black",
           "width": 0.5
          },
          "size": 3
         },
         "mode": "markers",
         "name": "Block 2 Trials",
         "opacity": 0.4,
         "type": "scatter",
         "x": [
          670,
          670,
          670,
          670,
          670,
          670,
          670,
          670,
          670,
          670,
          670,
          670,
          670,
          670,
          670,
          670,
          670,
          670,
          670,
          670,
          670,
          730,
          730,
          730,
          730,
          730,
          730,
          730,
          730,
          730,
          730,
          730,
          730,
          730,
          730,
          730,
          730,
          730,
          730,
          730,
          730,
          730,
          730,
          730,
          730,
          790,
          790,
          790,
          790,
          790,
          790,
          790,
          790,
          790,
          790,
          790,
          790,
          790,
          790,
          790,
          790,
          790,
          790,
          790,
          790,
          790,
          790,
          790,
          790,
          790,
          790,
          790,
          790,
          790,
          850,
          850,
          850,
          850,
          850,
          850,
          850,
          850,
          850,
          850,
          850,
          850,
          850,
          850,
          850,
          850,
          850,
          850,
          850,
          850,
          850,
          850,
          850,
          910,
          910,
          910,
          910,
          910,
          910,
          910,
          910,
          910,
          910,
          910,
          910,
          910,
          910,
          910,
          910,
          910,
          910,
          910,
          910,
          910,
          910,
          910,
          910,
          910,
          910,
          910,
          910,
          910,
          910,
          910,
          910,
          910,
          910,
          910,
          910,
          910,
          910,
          910,
          910,
          910,
          910,
          960,
          960,
          960,
          960,
          960,
          960,
          960,
          960,
          960,
          960,
          960,
          960,
          960,
          960,
          960,
          960,
          960,
          960,
          960,
          960,
          960,
          960,
          1020,
          1020,
          1020,
          1020,
          1020,
          1020,
          1020,
          1020,
          1020,
          1020,
          1020,
          1020,
          1020,
          1020,
          1020,
          1020,
          1020,
          1020,
          1020,
          1020,
          1020,
          1020,
          1020,
          1020,
          1020,
          1020,
          1020,
          1020,
          1020,
          1020,
          1020
         ],
         "xaxis": "x",
         "y": [
          554,
          710,
          695,
          736,
          794,
          784,
          874,
          677,
          943,
          961,
          817,
          939,
          820,
          1039,
          1004,
          1036,
          868,
          974,
          485,
          756,
          586,
          705,
          1143,
          753,
          724,
          975,
          906,
          862,
          818,
          917,
          870,
          922,
          790,
          723,
          900,
          869,
          928,
          788,
          1010,
          868,
          578,
          998,
          906,
          831,
          814,
          758,
          758,
          914,
          629,
          821,
          820,
          933,
          930,
          977,
          824,
          833,
          945,
          778,
          903,
          690,
          870,
          768,
          748,
          848,
          976,
          611,
          952,
          946,
          732,
          904,
          847,
          750,
          787,
          829,
          1044,
          905,
          853,
          871,
          916,
          933,
          865,
          1031,
          896,
          908,
          842,
          854,
          987,
          920,
          879,
          865,
          927,
          815,
          904,
          832,
          717,
          780,
          843,
          716,
          982,
          894,
          929,
          796,
          1006,
          887,
          858,
          889,
          958,
          936,
          798,
          970,
          1024,
          952,
          895,
          899,
          913,
          1025,
          928,
          997,
          804,
          916,
          995,
          997,
          1185,
          906,
          956,
          979,
          1120,
          848,
          747,
          971,
          796,
          877,
          847,
          1026,
          720,
          922,
          869,
          826,
          756,
          1063,
          980,
          1021,
          924,
          966,
          991,
          963,
          907,
          835,
          902,
          876,
          856,
          1083,
          990,
          988,
          860,
          870,
          1131,
          875,
          843,
          835,
          863,
          1139,
          1097,
          830,
          858,
          962,
          998,
          941,
          1014,
          978,
          836,
          1007,
          884,
          987,
          959,
          878,
          803,
          1025,
          1014,
          737,
          875,
          873,
          950,
          892,
          903,
          987,
          811,
          906,
          970,
          1086,
          1037,
          791
         ],
         "yaxis": "y"
        },
        {
         "error_y": {
          "array": [
           34.650637319776195,
           24.06401863267279,
           18.397995566629344,
           15.284487877763947,
           15.458349852653292,
           18.347953098918424,
           17.267389702511423
          ],
          "thickness": 1.5,
          "type": "data",
          "visible": true,
          "width": 5
         },
         "legendgroup": "block_1",
         "line": {
          "color": "#f43d25",
          "width": 2
         },
         "marker": {
          "color": "#f43d25",
          "line": {
           "color": "black",
           "width": 1.5
          },
          "size": 10
         },
         "mode": "lines+markers",
         "name": "Block 2 Mean ± SEM",
         "type": "scatter",
         "x": [
          670,
          730,
          790,
          850,
          910,
          960,
          1020
         ],
         "xaxis": "x",
         "y": [
          812,
          858.25,
          830.3793103448276,
          886.3913043478261,
          912.2619047619048,
          937.3636363636364,
          936.3870967741935
         ],
         "yaxis": "y"
        },
        {
         "legendgroup": "block_1",
         "line": {
          "color": "#f43d25",
          "width": 2
         },
         "marker": {
          "color": "#f43d25",
          "line": {
           "color": "black",
           "width": 1
          },
          "size": 8
         },
         "mode": "lines+markers",
         "name": "Block 2 Bias",
         "showlegend": false,
         "type": "scatter",
         "x": [
          670,
          730,
          790,
          850,
          910,
          960,
          1020
         ],
         "xaxis": "x2",
         "y": [
          142,
          128.25,
          40.37931034482756,
          36.39130434782612,
          2.261904761904816,
          22.636363636363626,
          83.61290322580646
         ],
         "yaxis": "y2"
        },
        {
         "legendgroup": "block_1",
         "line": {
          "color": "#f43d25",
          "width": 2
         },
         "marker": {
          "color": "#f43d25",
          "line": {
           "color": "black",
           "width": 1
          },
          "size": 8
         },
         "mode": "lines+markers",
         "name": "Block 2 STD",
         "showlegend": false,
         "type": "scatter",
         "x": [
          670,
          730,
          790,
          850,
          910,
          960,
          1020
         ],
         "xaxis": "x3",
         "y": [
          158.78916839633612,
          117.88913362175055,
          99.07623824722897,
          73.30182878187142,
          100.18155702031736,
          86.0595283756681,
          96.1407570247412
         ],
         "yaxis": "y3"
        },
        {
         "legendgroup": "block_2",
         "marker": {
          "color": "#800026",
          "line": {
           "color": "black",
           "width": 0.5
          },
          "size": 3
         },
         "mode": "markers",
         "name": "Block 3 Trials",
         "opacity": 0.4,
         "type": "scatter",
         "x": [
          850,
          850,
          850,
          850,
          850,
          850,
          850,
          850,
          850,
          850,
          850,
          850,
          850,
          850,
          850,
          850,
          850,
          850,
          850,
          850,
          850,
          850,
          850,
          850,
          850,
          850,
          850,
          850,
          850,
          850,
          850,
          850,
          850,
          850,
          850,
          850,
          850,
          850,
          850,
          850,
          850,
          850,
          850,
          850,
          850,
          850,
          850,
          850,
          850,
          850,
          850,
          850,
          850,
          850,
          850,
          850,
          850,
          850,
          850,
          850,
          910,
          910,
          910,
          910,
          910,
          910,
          910,
          910,
          910,
          910,
          910,
          910,
          910,
          910,
          910,
          910,
          910,
          910,
          910,
          910,
          910,
          910,
          910,
          910,
          910,
          910,
          910,
          910,
          910,
          910,
          910,
          910,
          910,
          910,
          910,
          910,
          910,
          910,
          910,
          910,
          910,
          910,
          910,
          910,
          910,
          910,
          910,
          910,
          910,
          910,
          910,
          910,
          910,
          910,
          910,
          910,
          910,
          910,
          910,
          910,
          910,
          910,
          910,
          960,
          960,
          960,
          960,
          960,
          960,
          960,
          960,
          960,
          960,
          960,
          960,
          960,
          960,
          960,
          960,
          960,
          960,
          960,
          960,
          960,
          960,
          960,
          960,
          960,
          960,
          960,
          960,
          960,
          960,
          960,
          960,
          960,
          960,
          960,
          960,
          960,
          960,
          960,
          960,
          960,
          960,
          960,
          960,
          960,
          960,
          960,
          960,
          960,
          960,
          960,
          960,
          960,
          960,
          960,
          960,
          960,
          960,
          960,
          960,
          960,
          960,
          960,
          960,
          1020,
          1020,
          1020,
          1020,
          1020,
          1020,
          1020,
          1020,
          1020,
          1020,
          1020,
          1020,
          1020,
          1020,
          1020,
          1020,
          1020,
          1020,
          1020,
          1020,
          1020,
          1020,
          1020,
          1020,
          1020,
          1020,
          1020,
          1020,
          1020,
          1020,
          1020,
          1020,
          1020,
          1020,
          1020,
          1020,
          1020,
          1020,
          1020,
          1020,
          1020,
          1020,
          1020,
          1020,
          1020,
          1020,
          1020,
          1020,
          1020,
          1020,
          1020,
          1020,
          1020,
          1020,
          1020,
          1020,
          1020,
          1020,
          1020,
          1020,
          1020,
          1020,
          1080,
          1080,
          1080,
          1080,
          1080,
          1080,
          1080,
          1080,
          1080,
          1080,
          1080,
          1080,
          1080,
          1080,
          1080,
          1080,
          1080,
          1080,
          1080,
          1080,
          1080,
          1080,
          1080,
          1080,
          1080,
          1080,
          1080,
          1080,
          1080,
          1080,
          1080,
          1080,
          1080,
          1080,
          1080,
          1080,
          1080,
          1080,
          1080,
          1080,
          1080,
          1080,
          1080,
          1080,
          1080,
          1080,
          1080,
          1080,
          1080,
          1080,
          1080,
          1080,
          1080,
          1080,
          1080,
          1080,
          1080,
          1080,
          1080,
          1080,
          1080,
          1080,
          1080,
          1080,
          1080,
          1080,
          1080,
          1140,
          1140,
          1140,
          1140,
          1140,
          1140,
          1140,
          1140,
          1140,
          1140,
          1140,
          1140,
          1140,
          1140,
          1140,
          1140,
          1140,
          1140,
          1140,
          1140,
          1140,
          1140,
          1140,
          1140,
          1140,
          1140,
          1140,
          1140,
          1140,
          1140,
          1140,
          1140,
          1140,
          1140,
          1140,
          1140,
          1140,
          1140,
          1140,
          1140,
          1140,
          1140,
          1140,
          1140,
          1140,
          1140,
          1140,
          1140,
          1140,
          1140,
          1140,
          1140,
          1140,
          1140,
          1140,
          1140,
          1140,
          1140,
          1140,
          1200,
          1200,
          1200,
          1200,
          1200,
          1200,
          1200,
          1200,
          1200,
          1200,
          1200,
          1200,
          1200,
          1200,
          1200,
          1200,
          1200,
          1200,
          1200,
          1200,
          1200,
          1200,
          1200,
          1200,
          1200,
          1200,
          1200,
          1200,
          1200,
          1200,
          1200,
          1200,
          1200,
          1200,
          1200,
          1200,
          1200,
          1200,
          1200,
          1200,
          1200,
          1200,
          1200,
          1200,
          1200,
          1200,
          1200,
          1200,
          1200,
          1200,
          1200,
          1200,
          1200,
          1200,
          1200,
          1200,
          1200,
          1200,
          1200,
          1200,
          1200,
          1200,
          1200,
          1200,
          1200,
          1200,
          1200,
          1200,
          1200,
          1200,
          1200,
          1200,
          1200
         ],
         "xaxis": "x",
         "y": [
          723,
          1080,
          1209,
          616,
          1115,
          746,
          1174,
          977,
          1029,
          944,
          1021,
          971,
          924,
          1216,
          794,
          944,
          662,
          753,
          852,
          719,
          982,
          767,
          747,
          1227,
          1091,
          1049,
          846,
          1031,
          1136,
          911,
          1044,
          993,
          664,
          910,
          1105,
          819,
          877,
          983,
          745,
          925,
          953,
          880,
          1229,
          1109,
          739,
          925,
          1147,
          957,
          885,
          890,
          1085,
          666,
          906,
          948,
          1064,
          1120,
          966,
          714,
          976,
          1235,
          982,
          933,
          1034,
          1135,
          898,
          1070,
          1257,
          1146,
          1106,
          952,
          1061,
          994,
          874,
          924,
          776,
          921,
          928,
          853,
          879,
          887,
          846,
          1282,
          915,
          918,
          1038,
          1262,
          948,
          991,
          1211,
          866,
          957,
          1155,
          942,
          887,
          994,
          1058,
          859,
          898,
          975,
          1287,
          1002,
          1110,
          1007,
          901,
          1193,
          931,
          993,
          1008,
          995,
          864,
          1179,
          1015,
          810,
          1104,
          984,
          843,
          1186,
          961,
          876,
          837,
          1170,
          1042,
          1039,
          946,
          954,
          974,
          886,
          1159,
          1150,
          1010,
          1081,
          1088,
          1057,
          1048,
          913,
          1092,
          1055,
          1084,
          939,
          1017,
          984,
          721,
          808,
          914,
          823,
          762,
          1031,
          1162,
          985,
          891,
          882,
          1164,
          894,
          1127,
          851,
          982,
          851,
          870,
          1158,
          1083,
          953,
          1191,
          1191,
          978,
          862,
          913,
          1093,
          1251,
          1210,
          1134,
          1065,
          1252,
          968,
          1234,
          883,
          1204,
          1036,
          1279,
          1495,
          1196,
          1183,
          1032,
          1051,
          1140,
          1069,
          1171,
          1057,
          885,
          1027,
          993,
          1261,
          913,
          1069,
          1011,
          1153,
          1010,
          1185,
          954,
          1031,
          1159,
          1200,
          1059,
          1218,
          913,
          898,
          958,
          958,
          989,
          1053,
          913,
          972,
          937,
          1063,
          880,
          1049,
          1061,
          988,
          829,
          1012,
          963,
          1086,
          1017,
          1003,
          1011,
          868,
          1151,
          1039,
          1112,
          1292,
          1107,
          916,
          1111,
          1204,
          1145,
          1109,
          926,
          1067,
          986,
          1121,
          1175,
          1096,
          991,
          1141,
          1011,
          1090,
          901,
          1201,
          1145,
          1117,
          929,
          1240,
          1294,
          1085,
          1020,
          1088,
          928,
          1072,
          1017,
          1074,
          1111,
          1060,
          1069,
          984,
          988,
          890,
          981,
          682,
          743,
          946,
          974,
          922,
          842,
          961,
          900,
          1050,
          1079,
          1041,
          1150,
          1280,
          1150,
          797,
          1190,
          1018,
          1107,
          1147,
          1106,
          1116,
          1255,
          939,
          807,
          914,
          1067,
          952,
          1034,
          1090,
          1082,
          791,
          1116,
          1064,
          1336,
          996,
          1107,
          1165,
          1108,
          1171,
          1169,
          937,
          1140,
          1084,
          1053,
          1053,
          969,
          1040,
          843,
          735,
          1185,
          962,
          1112,
          987,
          1319,
          1104,
          1074,
          980,
          1161,
          1238,
          1005,
          1142,
          746,
          926,
          1084,
          1030,
          1113,
          848,
          1142,
          940,
          1116,
          1161,
          1159,
          1478,
          1138,
          1060,
          1214,
          1174,
          1066,
          1089,
          1041,
          1106,
          922,
          1131,
          1108,
          1164,
          1156,
          961,
          1200,
          1035,
          1024,
          1018,
          1065,
          1088,
          1056,
          984,
          1073,
          1017,
          1304,
          998,
          1156,
          1171,
          1110,
          1202,
          1226,
          1277,
          794,
          1222,
          1016,
          858,
          830,
          1115,
          1116,
          1145,
          1105,
          1116,
          1174,
          1254,
          1074,
          1036,
          903,
          1222,
          1056,
          1096,
          1080,
          1221,
          1041,
          1201,
          1140,
          813,
          1003,
          1074,
          988,
          1017,
          1235,
          1180,
          1093,
          1227,
          1091,
          906,
          1153,
          917,
          1235,
          1146,
          940,
          1244,
          1135,
          1268,
          1104,
          1131,
          1244,
          1055,
          1258,
          1051,
          1121,
          1192,
          1099,
          1134,
          1147,
          1244,
          1255,
          1212,
          869,
          1079,
          935,
          1214,
          1076,
          1035,
          1077,
          1063,
          1365,
          1064,
          1148,
          1216,
          1056,
          1345,
          1174,
          1243,
          1145,
          1179,
          1092,
          1063,
          1263
         ],
         "yaxis": "y"
        },
        {
         "error_y": {
          "array": [
           20.979753826522106,
           15.876408495605448,
           17.9737444534059,
           13.373681101588696,
           16.532185459430156,
           16.637188332826785,
           13.303983655644336
          ],
          "thickness": 1.5,
          "type": "data",
          "visible": true,
          "width": 5
         },
         "legendgroup": "block_2",
         "line": {
          "color": "#800026",
          "width": 2
         },
         "marker": {
          "color": "#800026",
          "line": {
           "color": "black",
           "width": 1.5
          },
          "size": 10
         },
         "mode": "lines+markers",
         "name": "Block 3 Mean ± SEM",
         "type": "scatter",
         "x": [
          850,
          910,
          960,
          1020,
          1080,
          1140,
          1200
         ],
         "xaxis": "x",
         "y": [
          945.25,
          999.1904761904761,
          1038.859375,
          1043.5967741935483,
          1033.3283582089553,
          1085.6101694915253,
          1116.958904109589
         ],
         "yaxis": "y"
        },
        {
         "legendgroup": "block_2",
         "line": {
          "color": "#800026",
          "width": 2
         },
         "marker": {
          "color": "#800026",
          "line": {
           "color": "black",
           "width": 1
          },
          "size": 8
         },
         "mode": "lines+markers",
         "name": "Block 3 Bias",
         "showlegend": false,
         "type": "scatter",
         "x": [
          850,
          910,
          960,
          1020,
          1080,
          1140,
          1200
         ],
         "xaxis": "x2",
         "y": [
          95.25,
          89.19047619047615,
          78.859375,
          23.5967741935483,
          46.67164179104475,
          54.38983050847469,
          83.04109589041104
         ],
         "yaxis": "y2"
        },
        {
         "legendgroup": "block_2",
         "line": {
          "color": "#800026",
          "width": 2
         },
         "marker": {
          "color": "#800026",
          "line": {
           "color": "black",
           "width": 1
          },
          "size": 8
         },
         "mode": "lines+markers",
         "name": "Block 3 STD",
         "showlegend": false,
         "type": "scatter",
         "x": [
          850,
          910,
          960,
          1020,
          1080,
          1140,
          1200
         ],
         "xaxis": "x3",
         "y": [
          162.5084743553029,
          126.01508577673539,
          143.7899556272472,
          105.30447029843239,
          135.32177007545604,
          127.79266841918167,
          113.66928618146845
         ],
         "yaxis": "y3"
        },
        {
         "line": {
          "color": "gray",
          "dash": "dash",
          "width": 2
         },
         "mode": "lines",
         "name": "Unity Line",
         "showlegend": true,
         "type": "scatter",
         "x": [
          420,
          1495
         ],
         "xaxis": "x",
         "y": [
          420,
          1495
         ],
         "yaxis": "y"
        }
       ],
       "layout": {
        "annotations": [
         {
          "font": {
           "size": 16
          },
          "showarrow": false,
          "text": "Reported vs Actual Interval (per Block)",
          "x": 0.5,
          "xanchor": "center",
          "xref": "paper",
          "y": 1,
          "yanchor": "bottom",
          "yref": "paper"
         },
         {
          "font": {
           "size": 16
          },
          "showarrow": false,
          "text": "Bias (Mean Reported - Target)",
          "x": 0.5,
          "xanchor": "center",
          "xref": "paper",
          "y": 0.5,
          "yanchor": "bottom",
          "yref": "paper"
         },
         {
          "font": {
           "size": 16
          },
          "showarrow": false,
          "text": "STD of Reported Interval (per Target)",
          "x": 0.5,
          "xanchor": "center",
          "xref": "paper",
          "y": 0.225,
          "yanchor": "bottom",
          "yref": "paper"
         }
        ],
        "height": 850,
        "legend": {
         "x": 1.02,
         "y": 1
        },
        "margin": {
         "b": 80,
         "l": 80,
         "r": 200,
         "t": 80
        },
        "plot_bgcolor": "white",
        "shapes": [
         {
          "layer": "below",
          "line": {
           "color": "#febf5a",
           "dash": "dot",
           "width": 2
          },
          "type": "line",
          "x0": 420,
          "x1": 1495,
          "y0": 656.2295081967213,
          "y1": 656.2295081967213
         },
         {
          "layer": "below",
          "line": {
           "color": "#f43d25",
           "dash": "dot",
           "width": 2
          },
          "type": "line",
          "x0": 420,
          "x1": 1495,
          "y0": 859.4270833333334,
          "y1": 859.4270833333334
         },
         {
          "layer": "below",
          "line": {
           "color": "#800026",
           "dash": "dot",
           "width": 2
          },
          "type": "line",
          "x0": 420,
          "x1": 1495,
          "y0": 1027.299107142857,
          "y1": 1027.299107142857
         }
        ],
        "template": {
         "data": {
          "bar": [
           {
            "error_x": {
             "color": "#2a3f5f"
            },
            "error_y": {
             "color": "#2a3f5f"
            },
            "marker": {
             "line": {
              "color": "#E5ECF6",
              "width": 0.5
             },
             "pattern": {
              "fillmode": "overlay",
              "size": 10,
              "solidity": 0.2
             }
            },
            "type": "bar"
           }
          ],
          "barpolar": [
           {
            "marker": {
             "line": {
              "color": "#E5ECF6",
              "width": 0.5
             },
             "pattern": {
              "fillmode": "overlay",
              "size": 10,
              "solidity": 0.2
             }
            },
            "type": "barpolar"
           }
          ],
          "carpet": [
           {
            "aaxis": {
             "endlinecolor": "#2a3f5f",
             "gridcolor": "white",
             "linecolor": "white",
             "minorgridcolor": "white",
             "startlinecolor": "#2a3f5f"
            },
            "baxis": {
             "endlinecolor": "#2a3f5f",
             "gridcolor": "white",
             "linecolor": "white",
             "minorgridcolor": "white",
             "startlinecolor": "#2a3f5f"
            },
            "type": "carpet"
           }
          ],
          "choropleth": [
           {
            "colorbar": {
             "outlinewidth": 0,
             "ticks": ""
            },
            "type": "choropleth"
           }
          ],
          "contour": [
           {
            "colorbar": {
             "outlinewidth": 0,
             "ticks": ""
            },
            "colorscale": [
             [
              0,
              "#0d0887"
             ],
             [
              0.1111111111111111,
              "#46039f"
             ],
             [
              0.2222222222222222,
              "#7201a8"
             ],
             [
              0.3333333333333333,
              "#9c179e"
             ],
             [
              0.4444444444444444,
              "#bd3786"
             ],
             [
              0.5555555555555556,
              "#d8576b"
             ],
             [
              0.6666666666666666,
              "#ed7953"
             ],
             [
              0.7777777777777778,
              "#fb9f3a"
             ],
             [
              0.8888888888888888,
              "#fdca26"
             ],
             [
              1,
              "#f0f921"
             ]
            ],
            "type": "contour"
           }
          ],
          "contourcarpet": [
           {
            "colorbar": {
             "outlinewidth": 0,
             "ticks": ""
            },
            "type": "contourcarpet"
           }
          ],
          "heatmap": [
           {
            "colorbar": {
             "outlinewidth": 0,
             "ticks": ""
            },
            "colorscale": [
             [
              0,
              "#0d0887"
             ],
             [
              0.1111111111111111,
              "#46039f"
             ],
             [
              0.2222222222222222,
              "#7201a8"
             ],
             [
              0.3333333333333333,
              "#9c179e"
             ],
             [
              0.4444444444444444,
              "#bd3786"
             ],
             [
              0.5555555555555556,
              "#d8576b"
             ],
             [
              0.6666666666666666,
              "#ed7953"
             ],
             [
              0.7777777777777778,
              "#fb9f3a"
             ],
             [
              0.8888888888888888,
              "#fdca26"
             ],
             [
              1,
              "#f0f921"
             ]
            ],
            "type": "heatmap"
           }
          ],
          "heatmapgl": [
           {
            "colorbar": {
             "outlinewidth": 0,
             "ticks": ""
            },
            "colorscale": [
             [
              0,
              "#0d0887"
             ],
             [
              0.1111111111111111,
              "#46039f"
             ],
             [
              0.2222222222222222,
              "#7201a8"
             ],
             [
              0.3333333333333333,
              "#9c179e"
             ],
             [
              0.4444444444444444,
              "#bd3786"
             ],
             [
              0.5555555555555556,
              "#d8576b"
             ],
             [
              0.6666666666666666,
              "#ed7953"
             ],
             [
              0.7777777777777778,
              "#fb9f3a"
             ],
             [
              0.8888888888888888,
              "#fdca26"
             ],
             [
              1,
              "#f0f921"
             ]
            ],
            "type": "heatmapgl"
           }
          ],
          "histogram": [
           {
            "marker": {
             "pattern": {
              "fillmode": "overlay",
              "size": 10,
              "solidity": 0.2
             }
            },
            "type": "histogram"
           }
          ],
          "histogram2d": [
           {
            "colorbar": {
             "outlinewidth": 0,
             "ticks": ""
            },
            "colorscale": [
             [
              0,
              "#0d0887"
             ],
             [
              0.1111111111111111,
              "#46039f"
             ],
             [
              0.2222222222222222,
              "#7201a8"
             ],
             [
              0.3333333333333333,
              "#9c179e"
             ],
             [
              0.4444444444444444,
              "#bd3786"
             ],
             [
              0.5555555555555556,
              "#d8576b"
             ],
             [
              0.6666666666666666,
              "#ed7953"
             ],
             [
              0.7777777777777778,
              "#fb9f3a"
             ],
             [
              0.8888888888888888,
              "#fdca26"
             ],
             [
              1,
              "#f0f921"
             ]
            ],
            "type": "histogram2d"
           }
          ],
          "histogram2dcontour": [
           {
            "colorbar": {
             "outlinewidth": 0,
             "ticks": ""
            },
            "colorscale": [
             [
              0,
              "#0d0887"
             ],
             [
              0.1111111111111111,
              "#46039f"
             ],
             [
              0.2222222222222222,
              "#7201a8"
             ],
             [
              0.3333333333333333,
              "#9c179e"
             ],
             [
              0.4444444444444444,
              "#bd3786"
             ],
             [
              0.5555555555555556,
              "#d8576b"
             ],
             [
              0.6666666666666666,
              "#ed7953"
             ],
             [
              0.7777777777777778,
              "#fb9f3a"
             ],
             [
              0.8888888888888888,
              "#fdca26"
             ],
             [
              1,
              "#f0f921"
             ]
            ],
            "type": "histogram2dcontour"
           }
          ],
          "mesh3d": [
           {
            "colorbar": {
             "outlinewidth": 0,
             "ticks": ""
            },
            "type": "mesh3d"
           }
          ],
          "parcoords": [
           {
            "line": {
             "colorbar": {
              "outlinewidth": 0,
              "ticks": ""
             }
            },
            "type": "parcoords"
           }
          ],
          "pie": [
           {
            "automargin": true,
            "type": "pie"
           }
          ],
          "scatter": [
           {
            "fillpattern": {
             "fillmode": "overlay",
             "size": 10,
             "solidity": 0.2
            },
            "type": "scatter"
           }
          ],
          "scatter3d": [
           {
            "line": {
             "colorbar": {
              "outlinewidth": 0,
              "ticks": ""
             }
            },
            "marker": {
             "colorbar": {
              "outlinewidth": 0,
              "ticks": ""
             }
            },
            "type": "scatter3d"
           }
          ],
          "scattercarpet": [
           {
            "marker": {
             "colorbar": {
              "outlinewidth": 0,
              "ticks": ""
             }
            },
            "type": "scattercarpet"
           }
          ],
          "scattergeo": [
           {
            "marker": {
             "colorbar": {
              "outlinewidth": 0,
              "ticks": ""
             }
            },
            "type": "scattergeo"
           }
          ],
          "scattergl": [
           {
            "marker": {
             "colorbar": {
              "outlinewidth": 0,
              "ticks": ""
             }
            },
            "type": "scattergl"
           }
          ],
          "scattermapbox": [
           {
            "marker": {
             "colorbar": {
              "outlinewidth": 0,
              "ticks": ""
             }
            },
            "type": "scattermapbox"
           }
          ],
          "scatterpolar": [
           {
            "marker": {
             "colorbar": {
              "outlinewidth": 0,
              "ticks": ""
             }
            },
            "type": "scatterpolar"
           }
          ],
          "scatterpolargl": [
           {
            "marker": {
             "colorbar": {
              "outlinewidth": 0,
              "ticks": ""
             }
            },
            "type": "scatterpolargl"
           }
          ],
          "scatterternary": [
           {
            "marker": {
             "colorbar": {
              "outlinewidth": 0,
              "ticks": ""
             }
            },
            "type": "scatterternary"
           }
          ],
          "surface": [
           {
            "colorbar": {
             "outlinewidth": 0,
             "ticks": ""
            },
            "colorscale": [
             [
              0,
              "#0d0887"
             ],
             [
              0.1111111111111111,
              "#46039f"
             ],
             [
              0.2222222222222222,
              "#7201a8"
             ],
             [
              0.3333333333333333,
              "#9c179e"
             ],
             [
              0.4444444444444444,
              "#bd3786"
             ],
             [
              0.5555555555555556,
              "#d8576b"
             ],
             [
              0.6666666666666666,
              "#ed7953"
             ],
             [
              0.7777777777777778,
              "#fb9f3a"
             ],
             [
              0.8888888888888888,
              "#fdca26"
             ],
             [
              1,
              "#f0f921"
             ]
            ],
            "type": "surface"
           }
          ],
          "table": [
           {
            "cells": {
             "fill": {
              "color": "#EBF0F8"
             },
             "line": {
              "color": "white"
             }
            },
            "header": {
             "fill": {
              "color": "#C8D4E3"
             },
             "line": {
              "color": "white"
             }
            },
            "type": "table"
           }
          ]
         },
         "layout": {
          "annotationdefaults": {
           "arrowcolor": "#2a3f5f",
           "arrowhead": 0,
           "arrowwidth": 1
          },
          "autotypenumbers": "strict",
          "coloraxis": {
           "colorbar": {
            "outlinewidth": 0,
            "ticks": ""
           }
          },
          "colorscale": {
           "diverging": [
            [
             0,
             "#8e0152"
            ],
            [
             0.1,
             "#c51b7d"
            ],
            [
             0.2,
             "#de77ae"
            ],
            [
             0.3,
             "#f1b6da"
            ],
            [
             0.4,
             "#fde0ef"
            ],
            [
             0.5,
             "#f7f7f7"
            ],
            [
             0.6,
             "#e6f5d0"
            ],
            [
             0.7,
             "#b8e186"
            ],
            [
             0.8,
             "#7fbc41"
            ],
            [
             0.9,
             "#4d9221"
            ],
            [
             1,
             "#276419"
            ]
           ],
           "sequential": [
            [
             0,
             "#0d0887"
            ],
            [
             0.1111111111111111,
             "#46039f"
            ],
            [
             0.2222222222222222,
             "#7201a8"
            ],
            [
             0.3333333333333333,
             "#9c179e"
            ],
            [
             0.4444444444444444,
             "#bd3786"
            ],
            [
             0.5555555555555556,
             "#d8576b"
            ],
            [
             0.6666666666666666,
             "#ed7953"
            ],
            [
             0.7777777777777778,
             "#fb9f3a"
            ],
            [
             0.8888888888888888,
             "#fdca26"
            ],
            [
             1,
             "#f0f921"
            ]
           ],
           "sequentialminus": [
            [
             0,
             "#0d0887"
            ],
            [
             0.1111111111111111,
             "#46039f"
            ],
            [
             0.2222222222222222,
             "#7201a8"
            ],
            [
             0.3333333333333333,
             "#9c179e"
            ],
            [
             0.4444444444444444,
             "#bd3786"
            ],
            [
             0.5555555555555556,
             "#d8576b"
            ],
            [
             0.6666666666666666,
             "#ed7953"
            ],
            [
             0.7777777777777778,
             "#fb9f3a"
            ],
            [
             0.8888888888888888,
             "#fdca26"
            ],
            [
             1,
             "#f0f921"
            ]
           ]
          },
          "colorway": [
           "#636efa",
           "#EF553B",
           "#00cc96",
           "#ab63fa",
           "#FFA15A",
           "#19d3f3",
           "#FF6692",
           "#B6E880",
           "#FF97FF",
           "#FECB52"
          ],
          "font": {
           "color": "#2a3f5f"
          },
          "geo": {
           "bgcolor": "white",
           "lakecolor": "white",
           "landcolor": "#E5ECF6",
           "showlakes": true,
           "showland": true,
           "subunitcolor": "white"
          },
          "hoverlabel": {
           "align": "left"
          },
          "hovermode": "closest",
          "mapbox": {
           "style": "light"
          },
          "paper_bgcolor": "white",
          "plot_bgcolor": "#E5ECF6",
          "polar": {
           "angularaxis": {
            "gridcolor": "white",
            "linecolor": "white",
            "ticks": ""
           },
           "bgcolor": "#E5ECF6",
           "radialaxis": {
            "gridcolor": "white",
            "linecolor": "white",
            "ticks": ""
           }
          },
          "scene": {
           "xaxis": {
            "backgroundcolor": "#E5ECF6",
            "gridcolor": "white",
            "gridwidth": 2,
            "linecolor": "white",
            "showbackground": true,
            "ticks": "",
            "zerolinecolor": "white"
           },
           "yaxis": {
            "backgroundcolor": "#E5ECF6",
            "gridcolor": "white",
            "gridwidth": 2,
            "linecolor": "white",
            "showbackground": true,
            "ticks": "",
            "zerolinecolor": "white"
           },
           "zaxis": {
            "backgroundcolor": "#E5ECF6",
            "gridcolor": "white",
            "gridwidth": 2,
            "linecolor": "white",
            "showbackground": true,
            "ticks": "",
            "zerolinecolor": "white"
           }
          },
          "shapedefaults": {
           "line": {
            "color": "#2a3f5f"
           }
          },
          "ternary": {
           "aaxis": {
            "gridcolor": "white",
            "linecolor": "white",
            "ticks": ""
           },
           "baxis": {
            "gridcolor": "white",
            "linecolor": "white",
            "ticks": ""
           },
           "bgcolor": "#E5ECF6",
           "caxis": {
            "gridcolor": "white",
            "linecolor": "white",
            "ticks": ""
           }
          },
          "title": {
           "x": 0.05
          },
          "xaxis": {
           "automargin": true,
           "gridcolor": "white",
           "linecolor": "white",
           "ticks": "",
           "title": {
            "standoff": 15
           },
           "zerolinecolor": "white",
           "zerolinewidth": 2
          },
          "yaxis": {
           "automargin": true,
           "gridcolor": "white",
           "linecolor": "white",
           "ticks": "",
           "title": {
            "standoff": 15
           },
           "zerolinecolor": "white",
           "zerolinewidth": 2
          }
         }
        },
        "width": 900,
        "xaxis": {
         "anchor": "y",
         "domain": [
          0,
          1
         ],
         "gridcolor": "lightgray",
         "matches": "x3",
         "showgrid": true,
         "showticklabels": false
        },
        "xaxis2": {
         "anchor": "y2",
         "domain": [
          0,
          1
         ],
         "gridcolor": "lightgray",
         "matches": "x3",
         "showgrid": true,
         "showticklabels": false
        },
        "xaxis3": {
         "anchor": "y3",
         "domain": [
          0,
          1
         ],
         "gridcolor": "lightgray",
         "showgrid": true,
         "title": {
          "text": "Actual Interval (ms)"
         }
        },
        "yaxis": {
         "anchor": "x",
         "domain": [
          0.55,
          1
         ],
         "gridcolor": "lightgray",
         "range": [
          420,
          1495
         ],
         "showgrid": true,
         "title": {
          "text": "Reported Interval (ms)"
         }
        },
        "yaxis2": {
         "anchor": "x2",
         "domain": [
          0.275,
          0.5
         ],
         "gridcolor": "lightgray",
         "showgrid": true,
         "title": {
          "text": "Bias (ms)"
         },
         "zeroline": true,
         "zerolinecolor": "gray",
         "zerolinewidth": 2
        },
        "yaxis3": {
         "anchor": "x3",
         "domain": [
          0,
          0.225
         ],
         "gridcolor": "lightgray",
         "showgrid": true,
         "title": {
          "text": "STD (ms)"
         }
        }
       }
      },
      "text/html": [
       "<div>                            <div id=\"331afb85-6708-43d9-ab85-15bd137b7187\" class=\"plotly-graph-div\" style=\"height:850px; width:900px;\"></div>            <script type=\"text/javascript\">                require([\"plotly\"], function(Plotly) {                    window.PLOTLYENV=window.PLOTLYENV || {};                                    if (document.getElementById(\"331afb85-6708-43d9-ab85-15bd137b7187\")) {                    Plotly.newPlot(                        \"331afb85-6708-43d9-ab85-15bd137b7187\",                        [{\"legendgroup\":\"block_0\",\"marker\":{\"color\":\"#febf5a\",\"line\":{\"color\":\"black\",\"width\":0.5},\"size\":3},\"mode\":\"markers\",\"name\":\"Block 1 Trials\",\"opacity\":0.4,\"x\":[490.0,490.0,490.0,490.0,490.0,490.0,550.0,550.0,550.0,550.0,550.0,550.0,550.0,550.0,550.0,550.0,550.0,550.0,550.0,550.0,610.0,610.0,610.0,610.0,610.0,610.0,610.0,610.0,610.0,610.0,610.0,610.0,610.0,670.0,670.0,670.0,670.0,670.0,670.0,730.0,730.0,730.0,730.0,730.0,730.0,790.0,790.0,790.0,790.0,790.0,790.0,790.0,790.0,790.0,850.0,850.0,850.0,850.0,850.0,850.0,850.0],\"y\":[510.0,580.0,424.0,493.0,432.0,534.0,443.0,420.0,580.0,478.0,594.0,591.0,515.0,482.0,478.0,560.0,545.0,479.0,431.0,616.0,600.0,610.0,449.0,467.0,643.0,578.0,703.0,756.0,549.0,472.0,626.0,680.0,683.0,927.0,686.0,562.0,681.0,593.0,763.0,660.0,633.0,771.0,849.0,508.0,661.0,814.0,746.0,941.0,700.0,556.0,811.0,904.0,722.0,887.0,825.0,879.0,830.0,888.0,687.0,821.0,783.0],\"type\":\"scatter\",\"xaxis\":\"x\",\"yaxis\":\"y\"},{\"error_y\":{\"array\":[24.483668025849397,17.502859151948165,26.650432681856735,53.70412771224698,48.09550683564712,40.059947362871675,25.44127558518559],\"thickness\":1.5,\"type\":\"data\",\"visible\":true,\"width\":5},\"legendgroup\":\"block_0\",\"line\":{\"color\":\"#febf5a\",\"width\":2},\"marker\":{\"color\":\"#febf5a\",\"line\":{\"color\":\"black\",\"width\":1.5},\"size\":10},\"mode\":\"lines+markers\",\"name\":\"Block 1 Mean \\u00b1 SEM\",\"x\":[490.0,550.0,610.0,670.0,730.0,790.0,850.0],\"y\":[495.5,515.1428571428571,601.2307692307693,702.0,680.3333333333334,786.7777777777778,816.1428571428571],\"type\":\"scatter\",\"xaxis\":\"x\",\"yaxis\":\"y\"},{\"legendgroup\":\"block_0\",\"line\":{\"color\":\"#febf5a\",\"width\":2},\"marker\":{\"color\":\"#febf5a\",\"line\":{\"color\":\"black\",\"width\":1},\"size\":8},\"mode\":\"lines+markers\",\"name\":\"Block 1 Bias\",\"showlegend\":false,\"x\":[490.0,550.0,610.0,670.0,730.0,790.0,850.0],\"y\":[5.5,34.85714285714289,8.769230769230717,32.0,49.66666666666663,3.2222222222221717,33.85714285714289],\"type\":\"scatter\",\"xaxis\":\"x2\",\"yaxis\":\"y2\"},{\"legendgroup\":\"block_0\",\"line\":{\"color\":\"#febf5a\",\"width\":2},\"marker\":{\"color\":\"#febf5a\",\"line\":{\"color\":\"black\",\"width\":1},\"size\":8},\"mode\":\"lines+markers\",\"name\":\"Block 1 STD\",\"showlegend\":false,\"x\":[490.0,550.0,610.0,670.0,730.0,790.0,850.0],\"y\":[59.972493695026564,65.48970223555074,96.08950154773575,131.54770997626676,117.80945066787584,120.17984208861503,67.31128823466032],\"type\":\"scatter\",\"xaxis\":\"x3\",\"yaxis\":\"y3\"},{\"legendgroup\":\"block_1\",\"marker\":{\"color\":\"#f43d25\",\"line\":{\"color\":\"black\",\"width\":0.5},\"size\":3},\"mode\":\"markers\",\"name\":\"Block 2 Trials\",\"opacity\":0.4,\"x\":[670.0,670.0,670.0,670.0,670.0,670.0,670.0,670.0,670.0,670.0,670.0,670.0,670.0,670.0,670.0,670.0,670.0,670.0,670.0,670.0,670.0,730.0,730.0,730.0,730.0,730.0,730.0,730.0,730.0,730.0,730.0,730.0,730.0,730.0,730.0,730.0,730.0,730.0,730.0,730.0,730.0,730.0,730.0,730.0,730.0,790.0,790.0,790.0,790.0,790.0,790.0,790.0,790.0,790.0,790.0,790.0,790.0,790.0,790.0,790.0,790.0,790.0,790.0,790.0,790.0,790.0,790.0,790.0,790.0,790.0,790.0,790.0,790.0,790.0,850.0,850.0,850.0,850.0,850.0,850.0,850.0,850.0,850.0,850.0,850.0,850.0,850.0,850.0,850.0,850.0,850.0,850.0,850.0,850.0,850.0,850.0,850.0,910.0,910.0,910.0,910.0,910.0,910.0,910.0,910.0,910.0,910.0,910.0,910.0,910.0,910.0,910.0,910.0,910.0,910.0,910.0,910.0,910.0,910.0,910.0,910.0,910.0,910.0,910.0,910.0,910.0,910.0,910.0,910.0,910.0,910.0,910.0,910.0,910.0,910.0,910.0,910.0,910.0,910.0,960.0,960.0,960.0,960.0,960.0,960.0,960.0,960.0,960.0,960.0,960.0,960.0,960.0,960.0,960.0,960.0,960.0,960.0,960.0,960.0,960.0,960.0,1020.0,1020.0,1020.0,1020.0,1020.0,1020.0,1020.0,1020.0,1020.0,1020.0,1020.0,1020.0,1020.0,1020.0,1020.0,1020.0,1020.0,1020.0,1020.0,1020.0,1020.0,1020.0,1020.0,1020.0,1020.0,1020.0,1020.0,1020.0,1020.0,1020.0,1020.0],\"y\":[554.0,710.0,695.0,736.0,794.0,784.0,874.0,677.0,943.0,961.0,817.0,939.0,820.0,1039.0,1004.0,1036.0,868.0,974.0,485.0,756.0,586.0,705.0,1143.0,753.0,724.0,975.0,906.0,862.0,818.0,917.0,870.0,922.0,790.0,723.0,900.0,869.0,928.0,788.0,1010.0,868.0,578.0,998.0,906.0,831.0,814.0,758.0,758.0,914.0,629.0,821.0,820.0,933.0,930.0,977.0,824.0,833.0,945.0,778.0,903.0,690.0,870.0,768.0,748.0,848.0,976.0,611.0,952.0,946.0,732.0,904.0,847.0,750.0,787.0,829.0,1044.0,905.0,853.0,871.0,916.0,933.0,865.0,1031.0,896.0,908.0,842.0,854.0,987.0,920.0,879.0,865.0,927.0,815.0,904.0,832.0,717.0,780.0,843.0,716.0,982.0,894.0,929.0,796.0,1006.0,887.0,858.0,889.0,958.0,936.0,798.0,970.0,1024.0,952.0,895.0,899.0,913.0,1025.0,928.0,997.0,804.0,916.0,995.0,997.0,1185.0,906.0,956.0,979.0,1120.0,848.0,747.0,971.0,796.0,877.0,847.0,1026.0,720.0,922.0,869.0,826.0,756.0,1063.0,980.0,1021.0,924.0,966.0,991.0,963.0,907.0,835.0,902.0,876.0,856.0,1083.0,990.0,988.0,860.0,870.0,1131.0,875.0,843.0,835.0,863.0,1139.0,1097.0,830.0,858.0,962.0,998.0,941.0,1014.0,978.0,836.0,1007.0,884.0,987.0,959.0,878.0,803.0,1025.0,1014.0,737.0,875.0,873.0,950.0,892.0,903.0,987.0,811.0,906.0,970.0,1086.0,1037.0,791.0],\"type\":\"scatter\",\"xaxis\":\"x\",\"yaxis\":\"y\"},{\"error_y\":{\"array\":[34.650637319776195,24.06401863267279,18.397995566629344,15.284487877763947,15.458349852653292,18.347953098918424,17.267389702511423],\"thickness\":1.5,\"type\":\"data\",\"visible\":true,\"width\":5},\"legendgroup\":\"block_1\",\"line\":{\"color\":\"#f43d25\",\"width\":2},\"marker\":{\"color\":\"#f43d25\",\"line\":{\"color\":\"black\",\"width\":1.5},\"size\":10},\"mode\":\"lines+markers\",\"name\":\"Block 2 Mean \\u00b1 SEM\",\"x\":[670.0,730.0,790.0,850.0,910.0,960.0,1020.0],\"y\":[812.0,858.25,830.3793103448276,886.3913043478261,912.2619047619048,937.3636363636364,936.3870967741935],\"type\":\"scatter\",\"xaxis\":\"x\",\"yaxis\":\"y\"},{\"legendgroup\":\"block_1\",\"line\":{\"color\":\"#f43d25\",\"width\":2},\"marker\":{\"color\":\"#f43d25\",\"line\":{\"color\":\"black\",\"width\":1},\"size\":8},\"mode\":\"lines+markers\",\"name\":\"Block 2 Bias\",\"showlegend\":false,\"x\":[670.0,730.0,790.0,850.0,910.0,960.0,1020.0],\"y\":[142.0,128.25,40.37931034482756,36.39130434782612,2.261904761904816,22.636363636363626,83.61290322580646],\"type\":\"scatter\",\"xaxis\":\"x2\",\"yaxis\":\"y2\"},{\"legendgroup\":\"block_1\",\"line\":{\"color\":\"#f43d25\",\"width\":2},\"marker\":{\"color\":\"#f43d25\",\"line\":{\"color\":\"black\",\"width\":1},\"size\":8},\"mode\":\"lines+markers\",\"name\":\"Block 2 STD\",\"showlegend\":false,\"x\":[670.0,730.0,790.0,850.0,910.0,960.0,1020.0],\"y\":[158.78916839633612,117.88913362175055,99.07623824722897,73.30182878187142,100.18155702031736,86.0595283756681,96.1407570247412],\"type\":\"scatter\",\"xaxis\":\"x3\",\"yaxis\":\"y3\"},{\"legendgroup\":\"block_2\",\"marker\":{\"color\":\"#800026\",\"line\":{\"color\":\"black\",\"width\":0.5},\"size\":3},\"mode\":\"markers\",\"name\":\"Block 3 Trials\",\"opacity\":0.4,\"x\":[850.0,850.0,850.0,850.0,850.0,850.0,850.0,850.0,850.0,850.0,850.0,850.0,850.0,850.0,850.0,850.0,850.0,850.0,850.0,850.0,850.0,850.0,850.0,850.0,850.0,850.0,850.0,850.0,850.0,850.0,850.0,850.0,850.0,850.0,850.0,850.0,850.0,850.0,850.0,850.0,850.0,850.0,850.0,850.0,850.0,850.0,850.0,850.0,850.0,850.0,850.0,850.0,850.0,850.0,850.0,850.0,850.0,850.0,850.0,850.0,910.0,910.0,910.0,910.0,910.0,910.0,910.0,910.0,910.0,910.0,910.0,910.0,910.0,910.0,910.0,910.0,910.0,910.0,910.0,910.0,910.0,910.0,910.0,910.0,910.0,910.0,910.0,910.0,910.0,910.0,910.0,910.0,910.0,910.0,910.0,910.0,910.0,910.0,910.0,910.0,910.0,910.0,910.0,910.0,910.0,910.0,910.0,910.0,910.0,910.0,910.0,910.0,910.0,910.0,910.0,910.0,910.0,910.0,910.0,910.0,910.0,910.0,910.0,960.0,960.0,960.0,960.0,960.0,960.0,960.0,960.0,960.0,960.0,960.0,960.0,960.0,960.0,960.0,960.0,960.0,960.0,960.0,960.0,960.0,960.0,960.0,960.0,960.0,960.0,960.0,960.0,960.0,960.0,960.0,960.0,960.0,960.0,960.0,960.0,960.0,960.0,960.0,960.0,960.0,960.0,960.0,960.0,960.0,960.0,960.0,960.0,960.0,960.0,960.0,960.0,960.0,960.0,960.0,960.0,960.0,960.0,960.0,960.0,960.0,960.0,960.0,960.0,1020.0,1020.0,1020.0,1020.0,1020.0,1020.0,1020.0,1020.0,1020.0,1020.0,1020.0,1020.0,1020.0,1020.0,1020.0,1020.0,1020.0,1020.0,1020.0,1020.0,1020.0,1020.0,1020.0,1020.0,1020.0,1020.0,1020.0,1020.0,1020.0,1020.0,1020.0,1020.0,1020.0,1020.0,1020.0,1020.0,1020.0,1020.0,1020.0,1020.0,1020.0,1020.0,1020.0,1020.0,1020.0,1020.0,1020.0,1020.0,1020.0,1020.0,1020.0,1020.0,1020.0,1020.0,1020.0,1020.0,1020.0,1020.0,1020.0,1020.0,1020.0,1020.0,1080.0,1080.0,1080.0,1080.0,1080.0,1080.0,1080.0,1080.0,1080.0,1080.0,1080.0,1080.0,1080.0,1080.0,1080.0,1080.0,1080.0,1080.0,1080.0,1080.0,1080.0,1080.0,1080.0,1080.0,1080.0,1080.0,1080.0,1080.0,1080.0,1080.0,1080.0,1080.0,1080.0,1080.0,1080.0,1080.0,1080.0,1080.0,1080.0,1080.0,1080.0,1080.0,1080.0,1080.0,1080.0,1080.0,1080.0,1080.0,1080.0,1080.0,1080.0,1080.0,1080.0,1080.0,1080.0,1080.0,1080.0,1080.0,1080.0,1080.0,1080.0,1080.0,1080.0,1080.0,1080.0,1080.0,1080.0,1140.0,1140.0,1140.0,1140.0,1140.0,1140.0,1140.0,1140.0,1140.0,1140.0,1140.0,1140.0,1140.0,1140.0,1140.0,1140.0,1140.0,1140.0,1140.0,1140.0,1140.0,1140.0,1140.0,1140.0,1140.0,1140.0,1140.0,1140.0,1140.0,1140.0,1140.0,1140.0,1140.0,1140.0,1140.0,1140.0,1140.0,1140.0,1140.0,1140.0,1140.0,1140.0,1140.0,1140.0,1140.0,1140.0,1140.0,1140.0,1140.0,1140.0,1140.0,1140.0,1140.0,1140.0,1140.0,1140.0,1140.0,1140.0,1140.0,1200.0,1200.0,1200.0,1200.0,1200.0,1200.0,1200.0,1200.0,1200.0,1200.0,1200.0,1200.0,1200.0,1200.0,1200.0,1200.0,1200.0,1200.0,1200.0,1200.0,1200.0,1200.0,1200.0,1200.0,1200.0,1200.0,1200.0,1200.0,1200.0,1200.0,1200.0,1200.0,1200.0,1200.0,1200.0,1200.0,1200.0,1200.0,1200.0,1200.0,1200.0,1200.0,1200.0,1200.0,1200.0,1200.0,1200.0,1200.0,1200.0,1200.0,1200.0,1200.0,1200.0,1200.0,1200.0,1200.0,1200.0,1200.0,1200.0,1200.0,1200.0,1200.0,1200.0,1200.0,1200.0,1200.0,1200.0,1200.0,1200.0,1200.0,1200.0,1200.0,1200.0],\"y\":[723.0,1080.0,1209.0,616.0,1115.0,746.0,1174.0,977.0,1029.0,944.0,1021.0,971.0,924.0,1216.0,794.0,944.0,662.0,753.0,852.0,719.0,982.0,767.0,747.0,1227.0,1091.0,1049.0,846.0,1031.0,1136.0,911.0,1044.0,993.0,664.0,910.0,1105.0,819.0,877.0,983.0,745.0,925.0,953.0,880.0,1229.0,1109.0,739.0,925.0,1147.0,957.0,885.0,890.0,1085.0,666.0,906.0,948.0,1064.0,1120.0,966.0,714.0,976.0,1235.0,982.0,933.0,1034.0,1135.0,898.0,1070.0,1257.0,1146.0,1106.0,952.0,1061.0,994.0,874.0,924.0,776.0,921.0,928.0,853.0,879.0,887.0,846.0,1282.0,915.0,918.0,1038.0,1262.0,948.0,991.0,1211.0,866.0,957.0,1155.0,942.0,887.0,994.0,1058.0,859.0,898.0,975.0,1287.0,1002.0,1110.0,1007.0,901.0,1193.0,931.0,993.0,1008.0,995.0,864.0,1179.0,1015.0,810.0,1104.0,984.0,843.0,1186.0,961.0,876.0,837.0,1170.0,1042.0,1039.0,946.0,954.0,974.0,886.0,1159.0,1150.0,1010.0,1081.0,1088.0,1057.0,1048.0,913.0,1092.0,1055.0,1084.0,939.0,1017.0,984.0,721.0,808.0,914.0,823.0,762.0,1031.0,1162.0,985.0,891.0,882.0,1164.0,894.0,1127.0,851.0,982.0,851.0,870.0,1158.0,1083.0,953.0,1191.0,1191.0,978.0,862.0,913.0,1093.0,1251.0,1210.0,1134.0,1065.0,1252.0,968.0,1234.0,883.0,1204.0,1036.0,1279.0,1495.0,1196.0,1183.0,1032.0,1051.0,1140.0,1069.0,1171.0,1057.0,885.0,1027.0,993.0,1261.0,913.0,1069.0,1011.0,1153.0,1010.0,1185.0,954.0,1031.0,1159.0,1200.0,1059.0,1218.0,913.0,898.0,958.0,958.0,989.0,1053.0,913.0,972.0,937.0,1063.0,880.0,1049.0,1061.0,988.0,829.0,1012.0,963.0,1086.0,1017.0,1003.0,1011.0,868.0,1151.0,1039.0,1112.0,1292.0,1107.0,916.0,1111.0,1204.0,1145.0,1109.0,926.0,1067.0,986.0,1121.0,1175.0,1096.0,991.0,1141.0,1011.0,1090.0,901.0,1201.0,1145.0,1117.0,929.0,1240.0,1294.0,1085.0,1020.0,1088.0,928.0,1072.0,1017.0,1074.0,1111.0,1060.0,1069.0,984.0,988.0,890.0,981.0,682.0,743.0,946.0,974.0,922.0,842.0,961.0,900.0,1050.0,1079.0,1041.0,1150.0,1280.0,1150.0,797.0,1190.0,1018.0,1107.0,1147.0,1106.0,1116.0,1255.0,939.0,807.0,914.0,1067.0,952.0,1034.0,1090.0,1082.0,791.0,1116.0,1064.0,1336.0,996.0,1107.0,1165.0,1108.0,1171.0,1169.0,937.0,1140.0,1084.0,1053.0,1053.0,969.0,1040.0,843.0,735.0,1185.0,962.0,1112.0,987.0,1319.0,1104.0,1074.0,980.0,1161.0,1238.0,1005.0,1142.0,746.0,926.0,1084.0,1030.0,1113.0,848.0,1142.0,940.0,1116.0,1161.0,1159.0,1478.0,1138.0,1060.0,1214.0,1174.0,1066.0,1089.0,1041.0,1106.0,922.0,1131.0,1108.0,1164.0,1156.0,961.0,1200.0,1035.0,1024.0,1018.0,1065.0,1088.0,1056.0,984.0,1073.0,1017.0,1304.0,998.0,1156.0,1171.0,1110.0,1202.0,1226.0,1277.0,794.0,1222.0,1016.0,858.0,830.0,1115.0,1116.0,1145.0,1105.0,1116.0,1174.0,1254.0,1074.0,1036.0,903.0,1222.0,1056.0,1096.0,1080.0,1221.0,1041.0,1201.0,1140.0,813.0,1003.0,1074.0,988.0,1017.0,1235.0,1180.0,1093.0,1227.0,1091.0,906.0,1153.0,917.0,1235.0,1146.0,940.0,1244.0,1135.0,1268.0,1104.0,1131.0,1244.0,1055.0,1258.0,1051.0,1121.0,1192.0,1099.0,1134.0,1147.0,1244.0,1255.0,1212.0,869.0,1079.0,935.0,1214.0,1076.0,1035.0,1077.0,1063.0,1365.0,1064.0,1148.0,1216.0,1056.0,1345.0,1174.0,1243.0,1145.0,1179.0,1092.0,1063.0,1263.0],\"type\":\"scatter\",\"xaxis\":\"x\",\"yaxis\":\"y\"},{\"error_y\":{\"array\":[20.979753826522106,15.876408495605448,17.9737444534059,13.373681101588696,16.532185459430156,16.637188332826785,13.303983655644336],\"thickness\":1.5,\"type\":\"data\",\"visible\":true,\"width\":5},\"legendgroup\":\"block_2\",\"line\":{\"color\":\"#800026\",\"width\":2},\"marker\":{\"color\":\"#800026\",\"line\":{\"color\":\"black\",\"width\":1.5},\"size\":10},\"mode\":\"lines+markers\",\"name\":\"Block 3 Mean \\u00b1 SEM\",\"x\":[850.0,910.0,960.0,1020.0,1080.0,1140.0,1200.0],\"y\":[945.25,999.1904761904761,1038.859375,1043.5967741935483,1033.3283582089553,1085.6101694915253,1116.958904109589],\"type\":\"scatter\",\"xaxis\":\"x\",\"yaxis\":\"y\"},{\"legendgroup\":\"block_2\",\"line\":{\"color\":\"#800026\",\"width\":2},\"marker\":{\"color\":\"#800026\",\"line\":{\"color\":\"black\",\"width\":1},\"size\":8},\"mode\":\"lines+markers\",\"name\":\"Block 3 Bias\",\"showlegend\":false,\"x\":[850.0,910.0,960.0,1020.0,1080.0,1140.0,1200.0],\"y\":[95.25,89.19047619047615,78.859375,23.5967741935483,46.67164179104475,54.38983050847469,83.04109589041104],\"type\":\"scatter\",\"xaxis\":\"x2\",\"yaxis\":\"y2\"},{\"legendgroup\":\"block_2\",\"line\":{\"color\":\"#800026\",\"width\":2},\"marker\":{\"color\":\"#800026\",\"line\":{\"color\":\"black\",\"width\":1},\"size\":8},\"mode\":\"lines+markers\",\"name\":\"Block 3 STD\",\"showlegend\":false,\"x\":[850.0,910.0,960.0,1020.0,1080.0,1140.0,1200.0],\"y\":[162.5084743553029,126.01508577673539,143.7899556272472,105.30447029843239,135.32177007545604,127.79266841918167,113.66928618146845],\"type\":\"scatter\",\"xaxis\":\"x3\",\"yaxis\":\"y3\"},{\"line\":{\"color\":\"gray\",\"dash\":\"dash\",\"width\":2},\"mode\":\"lines\",\"name\":\"Unity Line\",\"showlegend\":true,\"x\":[420.0,1495.0],\"y\":[420.0,1495.0],\"type\":\"scatter\",\"xaxis\":\"x\",\"yaxis\":\"y\"}],                        {\"template\":{\"data\":{\"histogram2dcontour\":[{\"type\":\"histogram2dcontour\",\"colorbar\":{\"outlinewidth\":0,\"ticks\":\"\"},\"colorscale\":[[0.0,\"#0d0887\"],[0.1111111111111111,\"#46039f\"],[0.2222222222222222,\"#7201a8\"],[0.3333333333333333,\"#9c179e\"],[0.4444444444444444,\"#bd3786\"],[0.5555555555555556,\"#d8576b\"],[0.6666666666666666,\"#ed7953\"],[0.7777777777777778,\"#fb9f3a\"],[0.8888888888888888,\"#fdca26\"],[1.0,\"#f0f921\"]]}],\"choropleth\":[{\"type\":\"choropleth\",\"colorbar\":{\"outlinewidth\":0,\"ticks\":\"\"}}],\"histogram2d\":[{\"type\":\"histogram2d\",\"colorbar\":{\"outlinewidth\":0,\"ticks\":\"\"},\"colorscale\":[[0.0,\"#0d0887\"],[0.1111111111111111,\"#46039f\"],[0.2222222222222222,\"#7201a8\"],[0.3333333333333333,\"#9c179e\"],[0.4444444444444444,\"#bd3786\"],[0.5555555555555556,\"#d8576b\"],[0.6666666666666666,\"#ed7953\"],[0.7777777777777778,\"#fb9f3a\"],[0.8888888888888888,\"#fdca26\"],[1.0,\"#f0f921\"]]}],\"heatmap\":[{\"type\":\"heatmap\",\"colorbar\":{\"outlinewidth\":0,\"ticks\":\"\"},\"colorscale\":[[0.0,\"#0d0887\"],[0.1111111111111111,\"#46039f\"],[0.2222222222222222,\"#7201a8\"],[0.3333333333333333,\"#9c179e\"],[0.4444444444444444,\"#bd3786\"],[0.5555555555555556,\"#d8576b\"],[0.6666666666666666,\"#ed7953\"],[0.7777777777777778,\"#fb9f3a\"],[0.8888888888888888,\"#fdca26\"],[1.0,\"#f0f921\"]]}],\"heatmapgl\":[{\"type\":\"heatmapgl\",\"colorbar\":{\"outlinewidth\":0,\"ticks\":\"\"},\"colorscale\":[[0.0,\"#0d0887\"],[0.1111111111111111,\"#46039f\"],[0.2222222222222222,\"#7201a8\"],[0.3333333333333333,\"#9c179e\"],[0.4444444444444444,\"#bd3786\"],[0.5555555555555556,\"#d8576b\"],[0.6666666666666666,\"#ed7953\"],[0.7777777777777778,\"#fb9f3a\"],[0.8888888888888888,\"#fdca26\"],[1.0,\"#f0f921\"]]}],\"contourcarpet\":[{\"type\":\"contourcarpet\",\"colorbar\":{\"outlinewidth\":0,\"ticks\":\"\"}}],\"contour\":[{\"type\":\"contour\",\"colorbar\":{\"outlinewidth\":0,\"ticks\":\"\"},\"colorscale\":[[0.0,\"#0d0887\"],[0.1111111111111111,\"#46039f\"],[0.2222222222222222,\"#7201a8\"],[0.3333333333333333,\"#9c179e\"],[0.4444444444444444,\"#bd3786\"],[0.5555555555555556,\"#d8576b\"],[0.6666666666666666,\"#ed7953\"],[0.7777777777777778,\"#fb9f3a\"],[0.8888888888888888,\"#fdca26\"],[1.0,\"#f0f921\"]]}],\"surface\":[{\"type\":\"surface\",\"colorbar\":{\"outlinewidth\":0,\"ticks\":\"\"},\"colorscale\":[[0.0,\"#0d0887\"],[0.1111111111111111,\"#46039f\"],[0.2222222222222222,\"#7201a8\"],[0.3333333333333333,\"#9c179e\"],[0.4444444444444444,\"#bd3786\"],[0.5555555555555556,\"#d8576b\"],[0.6666666666666666,\"#ed7953\"],[0.7777777777777778,\"#fb9f3a\"],[0.8888888888888888,\"#fdca26\"],[1.0,\"#f0f921\"]]}],\"mesh3d\":[{\"type\":\"mesh3d\",\"colorbar\":{\"outlinewidth\":0,\"ticks\":\"\"}}],\"scatter\":[{\"fillpattern\":{\"fillmode\":\"overlay\",\"size\":10,\"solidity\":0.2},\"type\":\"scatter\"}],\"parcoords\":[{\"type\":\"parcoords\",\"line\":{\"colorbar\":{\"outlinewidth\":0,\"ticks\":\"\"}}}],\"scatterpolargl\":[{\"type\":\"scatterpolargl\",\"marker\":{\"colorbar\":{\"outlinewidth\":0,\"ticks\":\"\"}}}],\"bar\":[{\"error_x\":{\"color\":\"#2a3f5f\"},\"error_y\":{\"color\":\"#2a3f5f\"},\"marker\":{\"line\":{\"color\":\"#E5ECF6\",\"width\":0.5},\"pattern\":{\"fillmode\":\"overlay\",\"size\":10,\"solidity\":0.2}},\"type\":\"bar\"}],\"scattergeo\":[{\"type\":\"scattergeo\",\"marker\":{\"colorbar\":{\"outlinewidth\":0,\"ticks\":\"\"}}}],\"scatterpolar\":[{\"type\":\"scatterpolar\",\"marker\":{\"colorbar\":{\"outlinewidth\":0,\"ticks\":\"\"}}}],\"histogram\":[{\"marker\":{\"pattern\":{\"fillmode\":\"overlay\",\"size\":10,\"solidity\":0.2}},\"type\":\"histogram\"}],\"scattergl\":[{\"type\":\"scattergl\",\"marker\":{\"colorbar\":{\"outlinewidth\":0,\"ticks\":\"\"}}}],\"scatter3d\":[{\"type\":\"scatter3d\",\"line\":{\"colorbar\":{\"outlinewidth\":0,\"ticks\":\"\"}},\"marker\":{\"colorbar\":{\"outlinewidth\":0,\"ticks\":\"\"}}}],\"scattermapbox\":[{\"type\":\"scattermapbox\",\"marker\":{\"colorbar\":{\"outlinewidth\":0,\"ticks\":\"\"}}}],\"scatterternary\":[{\"type\":\"scatterternary\",\"marker\":{\"colorbar\":{\"outlinewidth\":0,\"ticks\":\"\"}}}],\"scattercarpet\":[{\"type\":\"scattercarpet\",\"marker\":{\"colorbar\":{\"outlinewidth\":0,\"ticks\":\"\"}}}],\"carpet\":[{\"aaxis\":{\"endlinecolor\":\"#2a3f5f\",\"gridcolor\":\"white\",\"linecolor\":\"white\",\"minorgridcolor\":\"white\",\"startlinecolor\":\"#2a3f5f\"},\"baxis\":{\"endlinecolor\":\"#2a3f5f\",\"gridcolor\":\"white\",\"linecolor\":\"white\",\"minorgridcolor\":\"white\",\"startlinecolor\":\"#2a3f5f\"},\"type\":\"carpet\"}],\"table\":[{\"cells\":{\"fill\":{\"color\":\"#EBF0F8\"},\"line\":{\"color\":\"white\"}},\"header\":{\"fill\":{\"color\":\"#C8D4E3\"},\"line\":{\"color\":\"white\"}},\"type\":\"table\"}],\"barpolar\":[{\"marker\":{\"line\":{\"color\":\"#E5ECF6\",\"width\":0.5},\"pattern\":{\"fillmode\":\"overlay\",\"size\":10,\"solidity\":0.2}},\"type\":\"barpolar\"}],\"pie\":[{\"automargin\":true,\"type\":\"pie\"}]},\"layout\":{\"autotypenumbers\":\"strict\",\"colorway\":[\"#636efa\",\"#EF553B\",\"#00cc96\",\"#ab63fa\",\"#FFA15A\",\"#19d3f3\",\"#FF6692\",\"#B6E880\",\"#FF97FF\",\"#FECB52\"],\"font\":{\"color\":\"#2a3f5f\"},\"hovermode\":\"closest\",\"hoverlabel\":{\"align\":\"left\"},\"paper_bgcolor\":\"white\",\"plot_bgcolor\":\"#E5ECF6\",\"polar\":{\"bgcolor\":\"#E5ECF6\",\"angularaxis\":{\"gridcolor\":\"white\",\"linecolor\":\"white\",\"ticks\":\"\"},\"radialaxis\":{\"gridcolor\":\"white\",\"linecolor\":\"white\",\"ticks\":\"\"}},\"ternary\":{\"bgcolor\":\"#E5ECF6\",\"aaxis\":{\"gridcolor\":\"white\",\"linecolor\":\"white\",\"ticks\":\"\"},\"baxis\":{\"gridcolor\":\"white\",\"linecolor\":\"white\",\"ticks\":\"\"},\"caxis\":{\"gridcolor\":\"white\",\"linecolor\":\"white\",\"ticks\":\"\"}},\"coloraxis\":{\"colorbar\":{\"outlinewidth\":0,\"ticks\":\"\"}},\"colorscale\":{\"sequential\":[[0.0,\"#0d0887\"],[0.1111111111111111,\"#46039f\"],[0.2222222222222222,\"#7201a8\"],[0.3333333333333333,\"#9c179e\"],[0.4444444444444444,\"#bd3786\"],[0.5555555555555556,\"#d8576b\"],[0.6666666666666666,\"#ed7953\"],[0.7777777777777778,\"#fb9f3a\"],[0.8888888888888888,\"#fdca26\"],[1.0,\"#f0f921\"]],\"sequentialminus\":[[0.0,\"#0d0887\"],[0.1111111111111111,\"#46039f\"],[0.2222222222222222,\"#7201a8\"],[0.3333333333333333,\"#9c179e\"],[0.4444444444444444,\"#bd3786\"],[0.5555555555555556,\"#d8576b\"],[0.6666666666666666,\"#ed7953\"],[0.7777777777777778,\"#fb9f3a\"],[0.8888888888888888,\"#fdca26\"],[1.0,\"#f0f921\"]],\"diverging\":[[0,\"#8e0152\"],[0.1,\"#c51b7d\"],[0.2,\"#de77ae\"],[0.3,\"#f1b6da\"],[0.4,\"#fde0ef\"],[0.5,\"#f7f7f7\"],[0.6,\"#e6f5d0\"],[0.7,\"#b8e186\"],[0.8,\"#7fbc41\"],[0.9,\"#4d9221\"],[1,\"#276419\"]]},\"xaxis\":{\"gridcolor\":\"white\",\"linecolor\":\"white\",\"ticks\":\"\",\"title\":{\"standoff\":15},\"zerolinecolor\":\"white\",\"automargin\":true,\"zerolinewidth\":2},\"yaxis\":{\"gridcolor\":\"white\",\"linecolor\":\"white\",\"ticks\":\"\",\"title\":{\"standoff\":15},\"zerolinecolor\":\"white\",\"automargin\":true,\"zerolinewidth\":2},\"scene\":{\"xaxis\":{\"backgroundcolor\":\"#E5ECF6\",\"gridcolor\":\"white\",\"linecolor\":\"white\",\"showbackground\":true,\"ticks\":\"\",\"zerolinecolor\":\"white\",\"gridwidth\":2},\"yaxis\":{\"backgroundcolor\":\"#E5ECF6\",\"gridcolor\":\"white\",\"linecolor\":\"white\",\"showbackground\":true,\"ticks\":\"\",\"zerolinecolor\":\"white\",\"gridwidth\":2},\"zaxis\":{\"backgroundcolor\":\"#E5ECF6\",\"gridcolor\":\"white\",\"linecolor\":\"white\",\"showbackground\":true,\"ticks\":\"\",\"zerolinecolor\":\"white\",\"gridwidth\":2}},\"shapedefaults\":{\"line\":{\"color\":\"#2a3f5f\"}},\"annotationdefaults\":{\"arrowcolor\":\"#2a3f5f\",\"arrowhead\":0,\"arrowwidth\":1},\"geo\":{\"bgcolor\":\"white\",\"landcolor\":\"#E5ECF6\",\"subunitcolor\":\"white\",\"showland\":true,\"showlakes\":true,\"lakecolor\":\"white\"},\"title\":{\"x\":0.05},\"mapbox\":{\"style\":\"light\"}}},\"xaxis\":{\"anchor\":\"y\",\"domain\":[0.0,1.0],\"matches\":\"x3\",\"showticklabels\":false,\"showgrid\":true,\"gridcolor\":\"lightgray\"},\"yaxis\":{\"anchor\":\"x\",\"domain\":[0.55,1.0],\"title\":{\"text\":\"Reported Interval (ms)\"},\"range\":[420.0,1495.0],\"showgrid\":true,\"gridcolor\":\"lightgray\"},\"xaxis2\":{\"anchor\":\"y2\",\"domain\":[0.0,1.0],\"matches\":\"x3\",\"showticklabels\":false,\"showgrid\":true,\"gridcolor\":\"lightgray\"},\"yaxis2\":{\"anchor\":\"x2\",\"domain\":[0.275,0.5],\"title\":{\"text\":\"Bias (ms)\"},\"zeroline\":true,\"zerolinecolor\":\"gray\",\"zerolinewidth\":2,\"showgrid\":true,\"gridcolor\":\"lightgray\"},\"xaxis3\":{\"anchor\":\"y3\",\"domain\":[0.0,1.0],\"title\":{\"text\":\"Actual Interval (ms)\"},\"showgrid\":true,\"gridcolor\":\"lightgray\"},\"yaxis3\":{\"anchor\":\"x3\",\"domain\":[0.0,0.225],\"title\":{\"text\":\"STD (ms)\"},\"showgrid\":true,\"gridcolor\":\"lightgray\"},\"annotations\":[{\"font\":{\"size\":16},\"showarrow\":false,\"text\":\"Reported vs Actual Interval (per Block)\",\"x\":0.5,\"xanchor\":\"center\",\"xref\":\"paper\",\"y\":1.0,\"yanchor\":\"bottom\",\"yref\":\"paper\"},{\"font\":{\"size\":16},\"showarrow\":false,\"text\":\"Bias (Mean Reported - Target)\",\"x\":0.5,\"xanchor\":\"center\",\"xref\":\"paper\",\"y\":0.5,\"yanchor\":\"bottom\",\"yref\":\"paper\"},{\"font\":{\"size\":16},\"showarrow\":false,\"text\":\"STD of Reported Interval (per Target)\",\"x\":0.5,\"xanchor\":\"center\",\"xref\":\"paper\",\"y\":0.225,\"yanchor\":\"bottom\",\"yref\":\"paper\"}],\"margin\":{\"l\":80,\"r\":200,\"t\":80,\"b\":80},\"legend\":{\"x\":1.02,\"y\":1},\"width\":900,\"height\":850,\"plot_bgcolor\":\"white\",\"shapes\":[{\"layer\":\"below\",\"line\":{\"color\":\"#febf5a\",\"dash\":\"dot\",\"width\":2},\"type\":\"line\",\"x0\":420.0,\"x1\":1495.0,\"y0\":656.2295081967213,\"y1\":656.2295081967213},{\"layer\":\"below\",\"line\":{\"color\":\"#f43d25\",\"dash\":\"dot\",\"width\":2},\"type\":\"line\",\"x0\":420.0,\"x1\":1495.0,\"y0\":859.4270833333334,\"y1\":859.4270833333334},{\"layer\":\"below\",\"line\":{\"color\":\"#800026\",\"dash\":\"dot\",\"width\":2},\"type\":\"line\",\"x0\":420.0,\"x1\":1495.0,\"y0\":1027.299107142857,\"y1\":1027.299107142857}]},                        {\"responsive\": true}                    ).then(function(){\n",
       "                            \n",
       "var gd = document.getElementById('331afb85-6708-43d9-ab85-15bd137b7187');\n",
       "var x = new MutationObserver(function (mutations, observer) {{\n",
       "        var display = window.getComputedStyle(gd).display;\n",
       "        if (!display || display === 'none') {{\n",
       "            console.log([gd, 'removed!']);\n",
       "            Plotly.purge(gd);\n",
       "            observer.disconnect();\n",
       "        }}\n",
       "}});\n",
       "\n",
       "// Listen for the removal of the full notebook cells\n",
       "var notebookContainer = gd.closest('#notebook-container');\n",
       "if (notebookContainer) {{\n",
       "    x.observe(notebookContainer, {childList: true});\n",
       "}}\n",
       "\n",
       "// Listen for the clearing of the current output cell\n",
       "var outputEl = gd.closest('.output');\n",
       "if (outputEl) {{\n",
       "    x.observe(outputEl, {childList: true});\n",
       "}}\n",
       "\n",
       "                        })                };                });            </script>        </div>"
      ]
     },
     "metadata": {},
     "output_type": "display_data"
    }
   ],
   "source": [
    "import pandas as pd\n",
    "import numpy as np\n",
    "import plotly.graph_objects as go\n",
    "from plotly.subplots import make_subplots\n",
    "from matplotlib import cm\n",
    "import matplotlib.colors as mcolors\n",
    "\n",
    "# --- Assumes go_df is defined and cleaned ---\n",
    "\n",
    "# Identify unique blocks\n",
    "blocks = sorted(go_df['prior_mean'].unique())\n",
    "\n",
    "# Color setup\n",
    "cmap = cm.get_cmap('YlOrRd', len(blocks)+1)\n",
    "ordered_colors = [mcolors.to_hex(cmap(i+1)) for i in range(len(blocks))]\n",
    "\n",
    "# Axis bounds\n",
    "min_val = min(go_df['target_interval'].min(), go_df['reproduced_interval'].min())\n",
    "max_val = max(go_df['target_interval'].max(), go_df['reproduced_interval'].max())\n",
    "\n",
    "# --- Create subplot layout: 3 rows (trials, bias, std)\n",
    "fig = make_subplots(\n",
    "    rows=3, cols=1,\n",
    "    row_heights=[0.5, 0.25, 0.25],\n",
    "    shared_xaxes=True,\n",
    "    vertical_spacing=0.05,\n",
    "    subplot_titles=[\n",
    "        'Reported vs Actual Interval (per Block)',\n",
    "        'Bias (Mean Reported - Target)',\n",
    "        'STD of Reported Interval (per Target)'\n",
    "    ]\n",
    ")\n",
    "\n",
    "shapes = []\n",
    "\n",
    "for i, iBlock in enumerate(blocks):\n",
    "    block_df = go_df[go_df['prior_mean'] == iBlock]\n",
    "\n",
    "    # Mean ± SEM summary\n",
    "    summary = (\n",
    "        block_df\n",
    "        .groupby('target_interval')\n",
    "        .agg(\n",
    "            mean_repro=('reproduced_interval', 'mean'),\n",
    "            sem_repro=('reproduced_interval', lambda x: x.std(ddof=1) / np.sqrt(len(x))),\n",
    "            std_repro=('reproduced_interval', 'std')\n",
    "        )\n",
    "        .reset_index()\n",
    "    )\n",
    "\n",
    "    # --- Raw trials (row 1) ---\n",
    "    fig.add_trace(\n",
    "        go.Scatter(\n",
    "            x=block_df['target_interval'],\n",
    "            y=block_df['reproduced_interval'],\n",
    "            mode='markers',\n",
    "            name=f'Block {i+1} Trials',\n",
    "            marker=dict(color=ordered_colors[i], size=3, line=dict(width=0.5, color='black')),\n",
    "            opacity=0.4,\n",
    "            legendgroup=f'block_{i}'\n",
    "        ),\n",
    "        row=1, col=1\n",
    "    )\n",
    "\n",
    "    # --- Mean ± SEM (row 1) ---\n",
    "    fig.add_trace(\n",
    "        go.Scatter(\n",
    "            x=summary['target_interval'],\n",
    "            y=summary['mean_repro'],\n",
    "            error_y=dict(\n",
    "                type='data',\n",
    "                array=summary['sem_repro'],\n",
    "                visible=True,\n",
    "                thickness=1.5,\n",
    "                width=5\n",
    "            ),\n",
    "            mode='lines+markers',\n",
    "            name=f'Block {i+1} Mean ± SEM',\n",
    "            marker=dict(color=ordered_colors[i], size=10, line=dict(color='black', width=1.5)),\n",
    "            line=dict(color=ordered_colors[i], width=2),\n",
    "            legendgroup=f'block_{i}'\n",
    "        ),\n",
    "        row=1, col=1\n",
    "    )\n",
    "\n",
    "    # --- Horizontal line at mean target interval (row 1 shape) ---\n",
    "    mean_target = block_df['target_interval'].mean()\n",
    "    shapes.append(dict(\n",
    "        type=\"line\",\n",
    "        \n",
    "        x0=min_val, x1=max_val,\n",
    "        y0=mean_target, y1=mean_target,\n",
    "        line=dict(color=ordered_colors[i], width=2, dash='dot'),\n",
    "        layer='below'\n",
    "    ))\n",
    "\n",
    "    # --- Bias Plot (row 2) ---\n",
    "    bias = np.abs(summary['mean_repro'] - summary['target_interval'])\n",
    "    fig.add_trace(\n",
    "        go.Scatter(\n",
    "            x=summary['target_interval'],\n",
    "            y=bias,\n",
    "            mode='lines+markers',\n",
    "            name=f'Block {i+1} Bias',\n",
    "            marker=dict(color=ordered_colors[i], size=8, line=dict(color='black', width=1)),\n",
    "            line=dict(color=ordered_colors[i], width=2),\n",
    "            legendgroup=f'block_{i}',\n",
    "            showlegend=False\n",
    "        ),\n",
    "        row=2, col=1\n",
    "    )\n",
    "\n",
    "    # --- STD Plot (row 3) ---\n",
    "    fig.add_trace(\n",
    "        go.Scatter(\n",
    "            x=summary['target_interval'],\n",
    "            y=summary['std_repro'],\n",
    "            mode='lines+markers',\n",
    "            name=f'Block {i+1} STD',\n",
    "            marker=dict(color=ordered_colors[i], size=8, line=dict(color='black', width=1)),\n",
    "            line=dict(color=ordered_colors[i], width=2),\n",
    "            legendgroup=f'block_{i}',\n",
    "            showlegend=False\n",
    "        ),\n",
    "        row=3, col=1\n",
    "    )\n",
    "\n",
    "# --- Unity line on row 1 ---\n",
    "fig.add_trace(\n",
    "    go.Scatter(\n",
    "        x=[min_val, max_val],\n",
    "        y=[min_val, max_val],\n",
    "        mode='lines',\n",
    "        name='Unity Line',\n",
    "        line=dict(dash='dash', color='gray', width=2),\n",
    "        showlegend=True\n",
    "    ),\n",
    "    row=1, col=1\n",
    ")\n",
    "\n",
    "# --- Final layout ---\n",
    "fig.update_layout(\n",
    "    width=900,\n",
    "    height=850,\n",
    "    margin=dict(l=80, r=200, t=80, b=80),\n",
    "    plot_bgcolor='white',\n",
    "    legend=dict(x=1.02, y=1),\n",
    "    shapes=shapes\n",
    ")\n",
    "\n",
    "# --- Axes labels ---\n",
    "fig.update_xaxes(title='Actual Interval (ms)', row=3, col=1)\n",
    "fig.update_yaxes(title='Reported Interval (ms)', row=1, col=1, range=[min_val, max_val])\n",
    "fig.update_yaxes(title='Bias (ms)', row=2, col=1, zeroline=True, zerolinecolor='gray', zerolinewidth=2)\n",
    "fig.update_yaxes(title='STD (ms)', row=3, col=1)\n",
    "\n",
    "fig.update_xaxes(showgrid=True, gridcolor='lightgray')\n",
    "fig.update_yaxes(showgrid=True, gridcolor='lightgray')\n",
    "\n",
    "# Show plot\n",
    "fig.show()\n"
   ]
  },
  {
   "cell_type": "code",
   "execution_count": 32,
   "id": "98528ca0",
   "metadata": {},
   "outputs": [
    {
     "data": {
      "application/vnd.plotly.v1+json": {
       "config": {
        "plotlyServerURL": "https://plot.ly"
       },
       "data": [
        {
         "legendgroup": "block_0",
         "marker": {
          "color": "#febf5a",
          "line": {
           "color": "black",
           "width": 0.5
          },
          "size": 6
         },
         "mode": "markers",
         "name": "Block 1 Intervals",
         "opacity": 0.6,
         "showlegend": true,
         "type": "scatter",
         "x": [
          46.833333333333336,
          62.142857142857146,
          75.07692307692308,
          93.66666666666667,
          103,
          93.66666666666667,
          53
         ],
         "y": [
          59.97249369502656,
          65.48970223555074,
          96.08950154773574,
          131.5477099762668,
          117.80945066787584,
          120.17984208861503,
          67.31128823466034
         ]
        },
        {
         "legendgroup": "block_0",
         "marker": {
          "color": "#febf5a",
          "line": {
           "color": "black",
           "width": 2
          },
          "size": 14,
          "symbol": "circle"
         },
         "mode": "markers",
         "name": "Block 1 Mean",
         "showlegend": true,
         "type": "scatter",
         "x": [
          75.34092098377813
         ],
         "y": [
          94.05714120653299
         ]
        },
        {
         "legendgroup": "block_1",
         "marker": {
          "color": "#f43d25",
          "line": {
           "color": "black",
           "width": 0.5
          },
          "size": 6
         },
         "mode": "markers",
         "name": "Block 2 Intervals",
         "opacity": 0.6,
         "showlegend": true,
         "type": "scatter",
         "x": [
          178.66666666666666,
          144.08333333333334,
          87.34482758620689,
          59.95652173913044,
          77.11904761904762,
          75,
          101.93548387096774
         ],
         "y": [
          158.78916839633615,
          117.88913362175055,
          99.07623824722897,
          73.30182878187146,
          100.18155702031734,
          86.05952837566811,
          96.14075702474119
         ]
        },
        {
         "legendgroup": "block_1",
         "marker": {
          "color": "#f43d25",
          "line": {
           "color": "black",
           "width": 2
          },
          "size": 14,
          "symbol": "circle"
         },
         "mode": "markers",
         "name": "Block 2 Mean",
         "showlegend": true,
         "type": "scatter",
         "x": [
          103.4436972593361
         ],
         "y": [
          104.49117306684482
         ]
        },
        {
         "legendgroup": "block_2",
         "marker": {
          "color": "#800026",
          "line": {
           "color": "black",
           "width": 0.5
          },
          "size": 6
         },
         "mode": "markers",
         "name": "Block 3 Intervals",
         "opacity": 0.6,
         "showlegend": true,
         "type": "scatter",
         "x": [
          157.91666666666666,
          115.0952380952381,
          131.484375,
          87.2741935483871,
          106.13432835820896,
          104.08474576271186,
          109.5068493150685
         ],
         "y": [
          162.5084743553029,
          126.01508577673536,
          143.7899556272472,
          105.30447029843235,
          135.32177007545604,
          127.79266841918168,
          113.66928618146842
         ]
        },
        {
         "legendgroup": "block_2",
         "marker": {
          "color": "#800026",
          "line": {
           "color": "black",
           "width": 2
          },
          "size": 14,
          "symbol": "circle"
         },
         "mode": "markers",
         "name": "Block 3 Mean",
         "showlegend": true,
         "type": "scatter",
         "x": [
          115.92805667804018
         ],
         "y": [
          130.6288158191177
         ]
        }
       ],
       "layout": {
        "height": 600,
        "legend": {
         "title": {
          "text": "Block"
         },
         "x": 1.02
        },
        "margin": {
         "b": 80,
         "l": 80,
         "r": 160,
         "t": 80
        },
        "plot_bgcolor": "white",
        "template": {
         "data": {
          "bar": [
           {
            "error_x": {
             "color": "#2a3f5f"
            },
            "error_y": {
             "color": "#2a3f5f"
            },
            "marker": {
             "line": {
              "color": "#E5ECF6",
              "width": 0.5
             },
             "pattern": {
              "fillmode": "overlay",
              "size": 10,
              "solidity": 0.2
             }
            },
            "type": "bar"
           }
          ],
          "barpolar": [
           {
            "marker": {
             "line": {
              "color": "#E5ECF6",
              "width": 0.5
             },
             "pattern": {
              "fillmode": "overlay",
              "size": 10,
              "solidity": 0.2
             }
            },
            "type": "barpolar"
           }
          ],
          "carpet": [
           {
            "aaxis": {
             "endlinecolor": "#2a3f5f",
             "gridcolor": "white",
             "linecolor": "white",
             "minorgridcolor": "white",
             "startlinecolor": "#2a3f5f"
            },
            "baxis": {
             "endlinecolor": "#2a3f5f",
             "gridcolor": "white",
             "linecolor": "white",
             "minorgridcolor": "white",
             "startlinecolor": "#2a3f5f"
            },
            "type": "carpet"
           }
          ],
          "choropleth": [
           {
            "colorbar": {
             "outlinewidth": 0,
             "ticks": ""
            },
            "type": "choropleth"
           }
          ],
          "contour": [
           {
            "colorbar": {
             "outlinewidth": 0,
             "ticks": ""
            },
            "colorscale": [
             [
              0,
              "#0d0887"
             ],
             [
              0.1111111111111111,
              "#46039f"
             ],
             [
              0.2222222222222222,
              "#7201a8"
             ],
             [
              0.3333333333333333,
              "#9c179e"
             ],
             [
              0.4444444444444444,
              "#bd3786"
             ],
             [
              0.5555555555555556,
              "#d8576b"
             ],
             [
              0.6666666666666666,
              "#ed7953"
             ],
             [
              0.7777777777777778,
              "#fb9f3a"
             ],
             [
              0.8888888888888888,
              "#fdca26"
             ],
             [
              1,
              "#f0f921"
             ]
            ],
            "type": "contour"
           }
          ],
          "contourcarpet": [
           {
            "colorbar": {
             "outlinewidth": 0,
             "ticks": ""
            },
            "type": "contourcarpet"
           }
          ],
          "heatmap": [
           {
            "colorbar": {
             "outlinewidth": 0,
             "ticks": ""
            },
            "colorscale": [
             [
              0,
              "#0d0887"
             ],
             [
              0.1111111111111111,
              "#46039f"
             ],
             [
              0.2222222222222222,
              "#7201a8"
             ],
             [
              0.3333333333333333,
              "#9c179e"
             ],
             [
              0.4444444444444444,
              "#bd3786"
             ],
             [
              0.5555555555555556,
              "#d8576b"
             ],
             [
              0.6666666666666666,
              "#ed7953"
             ],
             [
              0.7777777777777778,
              "#fb9f3a"
             ],
             [
              0.8888888888888888,
              "#fdca26"
             ],
             [
              1,
              "#f0f921"
             ]
            ],
            "type": "heatmap"
           }
          ],
          "heatmapgl": [
           {
            "colorbar": {
             "outlinewidth": 0,
             "ticks": ""
            },
            "colorscale": [
             [
              0,
              "#0d0887"
             ],
             [
              0.1111111111111111,
              "#46039f"
             ],
             [
              0.2222222222222222,
              "#7201a8"
             ],
             [
              0.3333333333333333,
              "#9c179e"
             ],
             [
              0.4444444444444444,
              "#bd3786"
             ],
             [
              0.5555555555555556,
              "#d8576b"
             ],
             [
              0.6666666666666666,
              "#ed7953"
             ],
             [
              0.7777777777777778,
              "#fb9f3a"
             ],
             [
              0.8888888888888888,
              "#fdca26"
             ],
             [
              1,
              "#f0f921"
             ]
            ],
            "type": "heatmapgl"
           }
          ],
          "histogram": [
           {
            "marker": {
             "pattern": {
              "fillmode": "overlay",
              "size": 10,
              "solidity": 0.2
             }
            },
            "type": "histogram"
           }
          ],
          "histogram2d": [
           {
            "colorbar": {
             "outlinewidth": 0,
             "ticks": ""
            },
            "colorscale": [
             [
              0,
              "#0d0887"
             ],
             [
              0.1111111111111111,
              "#46039f"
             ],
             [
              0.2222222222222222,
              "#7201a8"
             ],
             [
              0.3333333333333333,
              "#9c179e"
             ],
             [
              0.4444444444444444,
              "#bd3786"
             ],
             [
              0.5555555555555556,
              "#d8576b"
             ],
             [
              0.6666666666666666,
              "#ed7953"
             ],
             [
              0.7777777777777778,
              "#fb9f3a"
             ],
             [
              0.8888888888888888,
              "#fdca26"
             ],
             [
              1,
              "#f0f921"
             ]
            ],
            "type": "histogram2d"
           }
          ],
          "histogram2dcontour": [
           {
            "colorbar": {
             "outlinewidth": 0,
             "ticks": ""
            },
            "colorscale": [
             [
              0,
              "#0d0887"
             ],
             [
              0.1111111111111111,
              "#46039f"
             ],
             [
              0.2222222222222222,
              "#7201a8"
             ],
             [
              0.3333333333333333,
              "#9c179e"
             ],
             [
              0.4444444444444444,
              "#bd3786"
             ],
             [
              0.5555555555555556,
              "#d8576b"
             ],
             [
              0.6666666666666666,
              "#ed7953"
             ],
             [
              0.7777777777777778,
              "#fb9f3a"
             ],
             [
              0.8888888888888888,
              "#fdca26"
             ],
             [
              1,
              "#f0f921"
             ]
            ],
            "type": "histogram2dcontour"
           }
          ],
          "mesh3d": [
           {
            "colorbar": {
             "outlinewidth": 0,
             "ticks": ""
            },
            "type": "mesh3d"
           }
          ],
          "parcoords": [
           {
            "line": {
             "colorbar": {
              "outlinewidth": 0,
              "ticks": ""
             }
            },
            "type": "parcoords"
           }
          ],
          "pie": [
           {
            "automargin": true,
            "type": "pie"
           }
          ],
          "scatter": [
           {
            "fillpattern": {
             "fillmode": "overlay",
             "size": 10,
             "solidity": 0.2
            },
            "type": "scatter"
           }
          ],
          "scatter3d": [
           {
            "line": {
             "colorbar": {
              "outlinewidth": 0,
              "ticks": ""
             }
            },
            "marker": {
             "colorbar": {
              "outlinewidth": 0,
              "ticks": ""
             }
            },
            "type": "scatter3d"
           }
          ],
          "scattercarpet": [
           {
            "marker": {
             "colorbar": {
              "outlinewidth": 0,
              "ticks": ""
             }
            },
            "type": "scattercarpet"
           }
          ],
          "scattergeo": [
           {
            "marker": {
             "colorbar": {
              "outlinewidth": 0,
              "ticks": ""
             }
            },
            "type": "scattergeo"
           }
          ],
          "scattergl": [
           {
            "marker": {
             "colorbar": {
              "outlinewidth": 0,
              "ticks": ""
             }
            },
            "type": "scattergl"
           }
          ],
          "scattermapbox": [
           {
            "marker": {
             "colorbar": {
              "outlinewidth": 0,
              "ticks": ""
             }
            },
            "type": "scattermapbox"
           }
          ],
          "scatterpolar": [
           {
            "marker": {
             "colorbar": {
              "outlinewidth": 0,
              "ticks": ""
             }
            },
            "type": "scatterpolar"
           }
          ],
          "scatterpolargl": [
           {
            "marker": {
             "colorbar": {
              "outlinewidth": 0,
              "ticks": ""
             }
            },
            "type": "scatterpolargl"
           }
          ],
          "scatterternary": [
           {
            "marker": {
             "colorbar": {
              "outlinewidth": 0,
              "ticks": ""
             }
            },
            "type": "scatterternary"
           }
          ],
          "surface": [
           {
            "colorbar": {
             "outlinewidth": 0,
             "ticks": ""
            },
            "colorscale": [
             [
              0,
              "#0d0887"
             ],
             [
              0.1111111111111111,
              "#46039f"
             ],
             [
              0.2222222222222222,
              "#7201a8"
             ],
             [
              0.3333333333333333,
              "#9c179e"
             ],
             [
              0.4444444444444444,
              "#bd3786"
             ],
             [
              0.5555555555555556,
              "#d8576b"
             ],
             [
              0.6666666666666666,
              "#ed7953"
             ],
             [
              0.7777777777777778,
              "#fb9f3a"
             ],
             [
              0.8888888888888888,
              "#fdca26"
             ],
             [
              1,
              "#f0f921"
             ]
            ],
            "type": "surface"
           }
          ],
          "table": [
           {
            "cells": {
             "fill": {
              "color": "#EBF0F8"
             },
             "line": {
              "color": "white"
             }
            },
            "header": {
             "fill": {
              "color": "#C8D4E3"
             },
             "line": {
              "color": "white"
             }
            },
            "type": "table"
           }
          ]
         },
         "layout": {
          "annotationdefaults": {
           "arrowcolor": "#2a3f5f",
           "arrowhead": 0,
           "arrowwidth": 1
          },
          "autotypenumbers": "strict",
          "coloraxis": {
           "colorbar": {
            "outlinewidth": 0,
            "ticks": ""
           }
          },
          "colorscale": {
           "diverging": [
            [
             0,
             "#8e0152"
            ],
            [
             0.1,
             "#c51b7d"
            ],
            [
             0.2,
             "#de77ae"
            ],
            [
             0.3,
             "#f1b6da"
            ],
            [
             0.4,
             "#fde0ef"
            ],
            [
             0.5,
             "#f7f7f7"
            ],
            [
             0.6,
             "#e6f5d0"
            ],
            [
             0.7,
             "#b8e186"
            ],
            [
             0.8,
             "#7fbc41"
            ],
            [
             0.9,
             "#4d9221"
            ],
            [
             1,
             "#276419"
            ]
           ],
           "sequential": [
            [
             0,
             "#0d0887"
            ],
            [
             0.1111111111111111,
             "#46039f"
            ],
            [
             0.2222222222222222,
             "#7201a8"
            ],
            [
             0.3333333333333333,
             "#9c179e"
            ],
            [
             0.4444444444444444,
             "#bd3786"
            ],
            [
             0.5555555555555556,
             "#d8576b"
            ],
            [
             0.6666666666666666,
             "#ed7953"
            ],
            [
             0.7777777777777778,
             "#fb9f3a"
            ],
            [
             0.8888888888888888,
             "#fdca26"
            ],
            [
             1,
             "#f0f921"
            ]
           ],
           "sequentialminus": [
            [
             0,
             "#0d0887"
            ],
            [
             0.1111111111111111,
             "#46039f"
            ],
            [
             0.2222222222222222,
             "#7201a8"
            ],
            [
             0.3333333333333333,
             "#9c179e"
            ],
            [
             0.4444444444444444,
             "#bd3786"
            ],
            [
             0.5555555555555556,
             "#d8576b"
            ],
            [
             0.6666666666666666,
             "#ed7953"
            ],
            [
             0.7777777777777778,
             "#fb9f3a"
            ],
            [
             0.8888888888888888,
             "#fdca26"
            ],
            [
             1,
             "#f0f921"
            ]
           ]
          },
          "colorway": [
           "#636efa",
           "#EF553B",
           "#00cc96",
           "#ab63fa",
           "#FFA15A",
           "#19d3f3",
           "#FF6692",
           "#B6E880",
           "#FF97FF",
           "#FECB52"
          ],
          "font": {
           "color": "#2a3f5f"
          },
          "geo": {
           "bgcolor": "white",
           "lakecolor": "white",
           "landcolor": "#E5ECF6",
           "showlakes": true,
           "showland": true,
           "subunitcolor": "white"
          },
          "hoverlabel": {
           "align": "left"
          },
          "hovermode": "closest",
          "mapbox": {
           "style": "light"
          },
          "paper_bgcolor": "white",
          "plot_bgcolor": "#E5ECF6",
          "polar": {
           "angularaxis": {
            "gridcolor": "white",
            "linecolor": "white",
            "ticks": ""
           },
           "bgcolor": "#E5ECF6",
           "radialaxis": {
            "gridcolor": "white",
            "linecolor": "white",
            "ticks": ""
           }
          },
          "scene": {
           "xaxis": {
            "backgroundcolor": "#E5ECF6",
            "gridcolor": "white",
            "gridwidth": 2,
            "linecolor": "white",
            "showbackground": true,
            "ticks": "",
            "zerolinecolor": "white"
           },
           "yaxis": {
            "backgroundcolor": "#E5ECF6",
            "gridcolor": "white",
            "gridwidth": 2,
            "linecolor": "white",
            "showbackground": true,
            "ticks": "",
            "zerolinecolor": "white"
           },
           "zaxis": {
            "backgroundcolor": "#E5ECF6",
            "gridcolor": "white",
            "gridwidth": 2,
            "linecolor": "white",
            "showbackground": true,
            "ticks": "",
            "zerolinecolor": "white"
           }
          },
          "shapedefaults": {
           "line": {
            "color": "#2a3f5f"
           }
          },
          "ternary": {
           "aaxis": {
            "gridcolor": "white",
            "linecolor": "white",
            "ticks": ""
           },
           "baxis": {
            "gridcolor": "white",
            "linecolor": "white",
            "ticks": ""
           },
           "bgcolor": "#E5ECF6",
           "caxis": {
            "gridcolor": "white",
            "linecolor": "white",
            "ticks": ""
           }
          },
          "title": {
           "x": 0.05
          },
          "xaxis": {
           "automargin": true,
           "gridcolor": "white",
           "linecolor": "white",
           "ticks": "",
           "title": {
            "standoff": 15
           },
           "zerolinecolor": "white",
           "zerolinewidth": 2
          },
          "yaxis": {
           "automargin": true,
           "gridcolor": "white",
           "linecolor": "white",
           "ticks": "",
           "title": {
            "standoff": 15
           },
           "zerolinecolor": "white",
           "zerolinewidth": 2
          }
         }
        },
        "title": {
         "text": "Bias vs Variability per Target Interval (per Block)"
        },
        "width": 700,
        "xaxis": {
         "gridcolor": "lightgray",
         "showgrid": true,
         "title": {
          "text": "|Bias| (ms)"
         }
        },
        "yaxis": {
         "gridcolor": "lightgray",
         "showgrid": true,
         "title": {
          "text": "STD of Reproduced Interval (ms)"
         }
        }
       }
      },
      "text/html": [
       "<div>                            <div id=\"ff966d82-cffa-4123-b854-b0488880b4a1\" class=\"plotly-graph-div\" style=\"height:600px; width:700px;\"></div>            <script type=\"text/javascript\">                require([\"plotly\"], function(Plotly) {                    window.PLOTLYENV=window.PLOTLYENV || {};                                    if (document.getElementById(\"ff966d82-cffa-4123-b854-b0488880b4a1\")) {                    Plotly.newPlot(                        \"ff966d82-cffa-4123-b854-b0488880b4a1\",                        [{\"legendgroup\":\"block_0\",\"marker\":{\"color\":\"#febf5a\",\"line\":{\"color\":\"black\",\"width\":0.5},\"size\":6},\"mode\":\"markers\",\"name\":\"Block 1 Intervals\",\"opacity\":0.6,\"showlegend\":true,\"x\":[46.833333333333336,62.142857142857146,75.07692307692308,93.66666666666667,103.0,93.66666666666667,53.0],\"y\":[59.97249369502656,65.48970223555074,96.08950154773574,131.5477099762668,117.80945066787584,120.17984208861503,67.31128823466034],\"type\":\"scatter\"},{\"legendgroup\":\"block_0\",\"marker\":{\"color\":\"#febf5a\",\"line\":{\"color\":\"black\",\"width\":2},\"size\":14,\"symbol\":\"circle\"},\"mode\":\"markers\",\"name\":\"Block 1 Mean\",\"showlegend\":true,\"x\":[75.34092098377813],\"y\":[94.05714120653299],\"type\":\"scatter\"},{\"legendgroup\":\"block_1\",\"marker\":{\"color\":\"#f43d25\",\"line\":{\"color\":\"black\",\"width\":0.5},\"size\":6},\"mode\":\"markers\",\"name\":\"Block 2 Intervals\",\"opacity\":0.6,\"showlegend\":true,\"x\":[178.66666666666666,144.08333333333334,87.34482758620689,59.95652173913044,77.11904761904762,75.0,101.93548387096774],\"y\":[158.78916839633615,117.88913362175055,99.07623824722897,73.30182878187146,100.18155702031734,86.05952837566811,96.14075702474119],\"type\":\"scatter\"},{\"legendgroup\":\"block_1\",\"marker\":{\"color\":\"#f43d25\",\"line\":{\"color\":\"black\",\"width\":2},\"size\":14,\"symbol\":\"circle\"},\"mode\":\"markers\",\"name\":\"Block 2 Mean\",\"showlegend\":true,\"x\":[103.4436972593361],\"y\":[104.49117306684482],\"type\":\"scatter\"},{\"legendgroup\":\"block_2\",\"marker\":{\"color\":\"#800026\",\"line\":{\"color\":\"black\",\"width\":0.5},\"size\":6},\"mode\":\"markers\",\"name\":\"Block 3 Intervals\",\"opacity\":0.6,\"showlegend\":true,\"x\":[157.91666666666666,115.0952380952381,131.484375,87.2741935483871,106.13432835820896,104.08474576271186,109.5068493150685],\"y\":[162.5084743553029,126.01508577673536,143.7899556272472,105.30447029843235,135.32177007545604,127.79266841918168,113.66928618146842],\"type\":\"scatter\"},{\"legendgroup\":\"block_2\",\"marker\":{\"color\":\"#800026\",\"line\":{\"color\":\"black\",\"width\":2},\"size\":14,\"symbol\":\"circle\"},\"mode\":\"markers\",\"name\":\"Block 3 Mean\",\"showlegend\":true,\"x\":[115.92805667804018],\"y\":[130.6288158191177],\"type\":\"scatter\"}],                        {\"height\":600,\"legend\":{\"title\":{\"text\":\"Block\"},\"x\":1.02},\"margin\":{\"b\":80,\"l\":80,\"r\":160,\"t\":80},\"plot_bgcolor\":\"white\",\"title\":{\"text\":\"Bias vs Variability per Target Interval (per Block)\"},\"width\":700,\"xaxis\":{\"title\":{\"text\":\"|Bias| (ms)\"},\"showgrid\":true,\"gridcolor\":\"lightgray\"},\"yaxis\":{\"title\":{\"text\":\"STD of Reproduced Interval (ms)\"},\"showgrid\":true,\"gridcolor\":\"lightgray\"},\"template\":{\"data\":{\"histogram2dcontour\":[{\"type\":\"histogram2dcontour\",\"colorbar\":{\"outlinewidth\":0,\"ticks\":\"\"},\"colorscale\":[[0.0,\"#0d0887\"],[0.1111111111111111,\"#46039f\"],[0.2222222222222222,\"#7201a8\"],[0.3333333333333333,\"#9c179e\"],[0.4444444444444444,\"#bd3786\"],[0.5555555555555556,\"#d8576b\"],[0.6666666666666666,\"#ed7953\"],[0.7777777777777778,\"#fb9f3a\"],[0.8888888888888888,\"#fdca26\"],[1.0,\"#f0f921\"]]}],\"choropleth\":[{\"type\":\"choropleth\",\"colorbar\":{\"outlinewidth\":0,\"ticks\":\"\"}}],\"histogram2d\":[{\"type\":\"histogram2d\",\"colorbar\":{\"outlinewidth\":0,\"ticks\":\"\"},\"colorscale\":[[0.0,\"#0d0887\"],[0.1111111111111111,\"#46039f\"],[0.2222222222222222,\"#7201a8\"],[0.3333333333333333,\"#9c179e\"],[0.4444444444444444,\"#bd3786\"],[0.5555555555555556,\"#d8576b\"],[0.6666666666666666,\"#ed7953\"],[0.7777777777777778,\"#fb9f3a\"],[0.8888888888888888,\"#fdca26\"],[1.0,\"#f0f921\"]]}],\"heatmap\":[{\"type\":\"heatmap\",\"colorbar\":{\"outlinewidth\":0,\"ticks\":\"\"},\"colorscale\":[[0.0,\"#0d0887\"],[0.1111111111111111,\"#46039f\"],[0.2222222222222222,\"#7201a8\"],[0.3333333333333333,\"#9c179e\"],[0.4444444444444444,\"#bd3786\"],[0.5555555555555556,\"#d8576b\"],[0.6666666666666666,\"#ed7953\"],[0.7777777777777778,\"#fb9f3a\"],[0.8888888888888888,\"#fdca26\"],[1.0,\"#f0f921\"]]}],\"heatmapgl\":[{\"type\":\"heatmapgl\",\"colorbar\":{\"outlinewidth\":0,\"ticks\":\"\"},\"colorscale\":[[0.0,\"#0d0887\"],[0.1111111111111111,\"#46039f\"],[0.2222222222222222,\"#7201a8\"],[0.3333333333333333,\"#9c179e\"],[0.4444444444444444,\"#bd3786\"],[0.5555555555555556,\"#d8576b\"],[0.6666666666666666,\"#ed7953\"],[0.7777777777777778,\"#fb9f3a\"],[0.8888888888888888,\"#fdca26\"],[1.0,\"#f0f921\"]]}],\"contourcarpet\":[{\"type\":\"contourcarpet\",\"colorbar\":{\"outlinewidth\":0,\"ticks\":\"\"}}],\"contour\":[{\"type\":\"contour\",\"colorbar\":{\"outlinewidth\":0,\"ticks\":\"\"},\"colorscale\":[[0.0,\"#0d0887\"],[0.1111111111111111,\"#46039f\"],[0.2222222222222222,\"#7201a8\"],[0.3333333333333333,\"#9c179e\"],[0.4444444444444444,\"#bd3786\"],[0.5555555555555556,\"#d8576b\"],[0.6666666666666666,\"#ed7953\"],[0.7777777777777778,\"#fb9f3a\"],[0.8888888888888888,\"#fdca26\"],[1.0,\"#f0f921\"]]}],\"surface\":[{\"type\":\"surface\",\"colorbar\":{\"outlinewidth\":0,\"ticks\":\"\"},\"colorscale\":[[0.0,\"#0d0887\"],[0.1111111111111111,\"#46039f\"],[0.2222222222222222,\"#7201a8\"],[0.3333333333333333,\"#9c179e\"],[0.4444444444444444,\"#bd3786\"],[0.5555555555555556,\"#d8576b\"],[0.6666666666666666,\"#ed7953\"],[0.7777777777777778,\"#fb9f3a\"],[0.8888888888888888,\"#fdca26\"],[1.0,\"#f0f921\"]]}],\"mesh3d\":[{\"type\":\"mesh3d\",\"colorbar\":{\"outlinewidth\":0,\"ticks\":\"\"}}],\"scatter\":[{\"fillpattern\":{\"fillmode\":\"overlay\",\"size\":10,\"solidity\":0.2},\"type\":\"scatter\"}],\"parcoords\":[{\"type\":\"parcoords\",\"line\":{\"colorbar\":{\"outlinewidth\":0,\"ticks\":\"\"}}}],\"scatterpolargl\":[{\"type\":\"scatterpolargl\",\"marker\":{\"colorbar\":{\"outlinewidth\":0,\"ticks\":\"\"}}}],\"bar\":[{\"error_x\":{\"color\":\"#2a3f5f\"},\"error_y\":{\"color\":\"#2a3f5f\"},\"marker\":{\"line\":{\"color\":\"#E5ECF6\",\"width\":0.5},\"pattern\":{\"fillmode\":\"overlay\",\"size\":10,\"solidity\":0.2}},\"type\":\"bar\"}],\"scattergeo\":[{\"type\":\"scattergeo\",\"marker\":{\"colorbar\":{\"outlinewidth\":0,\"ticks\":\"\"}}}],\"scatterpolar\":[{\"type\":\"scatterpolar\",\"marker\":{\"colorbar\":{\"outlinewidth\":0,\"ticks\":\"\"}}}],\"histogram\":[{\"marker\":{\"pattern\":{\"fillmode\":\"overlay\",\"size\":10,\"solidity\":0.2}},\"type\":\"histogram\"}],\"scattergl\":[{\"type\":\"scattergl\",\"marker\":{\"colorbar\":{\"outlinewidth\":0,\"ticks\":\"\"}}}],\"scatter3d\":[{\"type\":\"scatter3d\",\"line\":{\"colorbar\":{\"outlinewidth\":0,\"ticks\":\"\"}},\"marker\":{\"colorbar\":{\"outlinewidth\":0,\"ticks\":\"\"}}}],\"scattermapbox\":[{\"type\":\"scattermapbox\",\"marker\":{\"colorbar\":{\"outlinewidth\":0,\"ticks\":\"\"}}}],\"scatterternary\":[{\"type\":\"scatterternary\",\"marker\":{\"colorbar\":{\"outlinewidth\":0,\"ticks\":\"\"}}}],\"scattercarpet\":[{\"type\":\"scattercarpet\",\"marker\":{\"colorbar\":{\"outlinewidth\":0,\"ticks\":\"\"}}}],\"carpet\":[{\"aaxis\":{\"endlinecolor\":\"#2a3f5f\",\"gridcolor\":\"white\",\"linecolor\":\"white\",\"minorgridcolor\":\"white\",\"startlinecolor\":\"#2a3f5f\"},\"baxis\":{\"endlinecolor\":\"#2a3f5f\",\"gridcolor\":\"white\",\"linecolor\":\"white\",\"minorgridcolor\":\"white\",\"startlinecolor\":\"#2a3f5f\"},\"type\":\"carpet\"}],\"table\":[{\"cells\":{\"fill\":{\"color\":\"#EBF0F8\"},\"line\":{\"color\":\"white\"}},\"header\":{\"fill\":{\"color\":\"#C8D4E3\"},\"line\":{\"color\":\"white\"}},\"type\":\"table\"}],\"barpolar\":[{\"marker\":{\"line\":{\"color\":\"#E5ECF6\",\"width\":0.5},\"pattern\":{\"fillmode\":\"overlay\",\"size\":10,\"solidity\":0.2}},\"type\":\"barpolar\"}],\"pie\":[{\"automargin\":true,\"type\":\"pie\"}]},\"layout\":{\"autotypenumbers\":\"strict\",\"colorway\":[\"#636efa\",\"#EF553B\",\"#00cc96\",\"#ab63fa\",\"#FFA15A\",\"#19d3f3\",\"#FF6692\",\"#B6E880\",\"#FF97FF\",\"#FECB52\"],\"font\":{\"color\":\"#2a3f5f\"},\"hovermode\":\"closest\",\"hoverlabel\":{\"align\":\"left\"},\"paper_bgcolor\":\"white\",\"plot_bgcolor\":\"#E5ECF6\",\"polar\":{\"bgcolor\":\"#E5ECF6\",\"angularaxis\":{\"gridcolor\":\"white\",\"linecolor\":\"white\",\"ticks\":\"\"},\"radialaxis\":{\"gridcolor\":\"white\",\"linecolor\":\"white\",\"ticks\":\"\"}},\"ternary\":{\"bgcolor\":\"#E5ECF6\",\"aaxis\":{\"gridcolor\":\"white\",\"linecolor\":\"white\",\"ticks\":\"\"},\"baxis\":{\"gridcolor\":\"white\",\"linecolor\":\"white\",\"ticks\":\"\"},\"caxis\":{\"gridcolor\":\"white\",\"linecolor\":\"white\",\"ticks\":\"\"}},\"coloraxis\":{\"colorbar\":{\"outlinewidth\":0,\"ticks\":\"\"}},\"colorscale\":{\"sequential\":[[0.0,\"#0d0887\"],[0.1111111111111111,\"#46039f\"],[0.2222222222222222,\"#7201a8\"],[0.3333333333333333,\"#9c179e\"],[0.4444444444444444,\"#bd3786\"],[0.5555555555555556,\"#d8576b\"],[0.6666666666666666,\"#ed7953\"],[0.7777777777777778,\"#fb9f3a\"],[0.8888888888888888,\"#fdca26\"],[1.0,\"#f0f921\"]],\"sequentialminus\":[[0.0,\"#0d0887\"],[0.1111111111111111,\"#46039f\"],[0.2222222222222222,\"#7201a8\"],[0.3333333333333333,\"#9c179e\"],[0.4444444444444444,\"#bd3786\"],[0.5555555555555556,\"#d8576b\"],[0.6666666666666666,\"#ed7953\"],[0.7777777777777778,\"#fb9f3a\"],[0.8888888888888888,\"#fdca26\"],[1.0,\"#f0f921\"]],\"diverging\":[[0,\"#8e0152\"],[0.1,\"#c51b7d\"],[0.2,\"#de77ae\"],[0.3,\"#f1b6da\"],[0.4,\"#fde0ef\"],[0.5,\"#f7f7f7\"],[0.6,\"#e6f5d0\"],[0.7,\"#b8e186\"],[0.8,\"#7fbc41\"],[0.9,\"#4d9221\"],[1,\"#276419\"]]},\"xaxis\":{\"gridcolor\":\"white\",\"linecolor\":\"white\",\"ticks\":\"\",\"title\":{\"standoff\":15},\"zerolinecolor\":\"white\",\"automargin\":true,\"zerolinewidth\":2},\"yaxis\":{\"gridcolor\":\"white\",\"linecolor\":\"white\",\"ticks\":\"\",\"title\":{\"standoff\":15},\"zerolinecolor\":\"white\",\"automargin\":true,\"zerolinewidth\":2},\"scene\":{\"xaxis\":{\"backgroundcolor\":\"#E5ECF6\",\"gridcolor\":\"white\",\"linecolor\":\"white\",\"showbackground\":true,\"ticks\":\"\",\"zerolinecolor\":\"white\",\"gridwidth\":2},\"yaxis\":{\"backgroundcolor\":\"#E5ECF6\",\"gridcolor\":\"white\",\"linecolor\":\"white\",\"showbackground\":true,\"ticks\":\"\",\"zerolinecolor\":\"white\",\"gridwidth\":2},\"zaxis\":{\"backgroundcolor\":\"#E5ECF6\",\"gridcolor\":\"white\",\"linecolor\":\"white\",\"showbackground\":true,\"ticks\":\"\",\"zerolinecolor\":\"white\",\"gridwidth\":2}},\"shapedefaults\":{\"line\":{\"color\":\"#2a3f5f\"}},\"annotationdefaults\":{\"arrowcolor\":\"#2a3f5f\",\"arrowhead\":0,\"arrowwidth\":1},\"geo\":{\"bgcolor\":\"white\",\"landcolor\":\"#E5ECF6\",\"subunitcolor\":\"white\",\"showland\":true,\"showlakes\":true,\"lakecolor\":\"white\"},\"title\":{\"x\":0.05},\"mapbox\":{\"style\":\"light\"}}}},                        {\"responsive\": true}                    ).then(function(){\n",
       "                            \n",
       "var gd = document.getElementById('ff966d82-cffa-4123-b854-b0488880b4a1');\n",
       "var x = new MutationObserver(function (mutations, observer) {{\n",
       "        var display = window.getComputedStyle(gd).display;\n",
       "        if (!display || display === 'none') {{\n",
       "            console.log([gd, 'removed!']);\n",
       "            Plotly.purge(gd);\n",
       "            observer.disconnect();\n",
       "        }}\n",
       "}});\n",
       "\n",
       "// Listen for the removal of the full notebook cells\n",
       "var notebookContainer = gd.closest('#notebook-container');\n",
       "if (notebookContainer) {{\n",
       "    x.observe(notebookContainer, {childList: true});\n",
       "}}\n",
       "\n",
       "// Listen for the clearing of the current output cell\n",
       "var outputEl = gd.closest('.output');\n",
       "if (outputEl) {{\n",
       "    x.observe(outputEl, {childList: true});\n",
       "}}\n",
       "\n",
       "                        })                };                });            </script>        </div>"
      ]
     },
     "metadata": {},
     "output_type": "display_data"
    }
   ],
   "source": [
    "import pandas as pd\n",
    "import numpy as np\n",
    "import plotly.graph_objects as go\n",
    "from matplotlib import cm\n",
    "import matplotlib.colors as mcolors\n",
    "\n",
    "# --- Assumes go_df is already defined and cleaned ---\n",
    "\n",
    "# Get unique blocks\n",
    "blocks = sorted(go_df['prior_mean'].unique())\n",
    "\n",
    "# Color map\n",
    "cmap = cm.get_cmap('YlOrRd', len(blocks)+1)\n",
    "ordered_colors = [mcolors.to_hex(cmap(i+1)) for i in range(len(blocks))]\n",
    "\n",
    "# --- Compute bias and std for each target_interval × block ---\n",
    "summary_rows = []\n",
    "\n",
    "for i, iBlock in enumerate(blocks):\n",
    "    block_df = go_df[go_df['prior_mean'] == iBlock]\n",
    "    color = ordered_colors[i]\n",
    "    \n",
    "    for interval in sorted(block_df['target_interval'].unique()):\n",
    "        sub_df = block_df[block_df['target_interval'] == interval]\n",
    "        if len(sub_df) < 2:\n",
    "            continue  # Not enough data to compute std\n",
    "\n",
    "        bias = np.abs(sub_df['reproduced_interval'] - sub_df['target_interval']).mean()\n",
    "        std = sub_df['reproduced_interval'].std()\n",
    "\n",
    "        summary_rows.append({\n",
    "            'block': f'Block {i+1}',\n",
    "            'prior_mean': iBlock,\n",
    "            'target_interval': interval,\n",
    "            'bias': bias,\n",
    "            'std': std,\n",
    "            'color': color\n",
    "        })\n",
    "\n",
    "# Convert to DataFrame\n",
    "summary_df = pd.DataFrame(summary_rows)\n",
    "\n",
    "\n",
    "import pandas as pd\n",
    "import numpy as np\n",
    "import plotly.graph_objects as go\n",
    "from matplotlib import cm\n",
    "import matplotlib.colors as mcolors\n",
    "\n",
    "# --- Color Setup ---\n",
    "blocks = sorted(summary_df['prior_mean'].unique())\n",
    "cmap = cm.get_cmap('YlOrRd', len(blocks)+1)\n",
    "ordered_colors = [mcolors.to_hex(cmap(i+1)) for i in range(len(blocks))]\n",
    "\n",
    "# --- Initialize plot ---\n",
    "traces = []\n",
    "\n",
    "# --- Plot small dots for each target interval ---\n",
    "for i, block_val in enumerate(blocks):\n",
    "    block_data = summary_df[summary_df['prior_mean'] == block_val]\n",
    "\n",
    "    traces.append(\n",
    "        go.Scatter(\n",
    "            x=block_data['bias'],\n",
    "            y=block_data['std'],\n",
    "            mode='markers',\n",
    "            name=f'Block {i+1} Intervals',\n",
    "            marker=dict(\n",
    "                color=ordered_colors[i],\n",
    "                size=6,\n",
    "                line=dict(width=0.5, color='black')\n",
    "            ),\n",
    "            opacity=0.6,\n",
    "            legendgroup=f'block_{i}',\n",
    "            showlegend=True\n",
    "        )\n",
    "    )\n",
    "\n",
    "    # --- Compute and plot block-wise mean ---\n",
    "    mean_bias = block_data['bias'].mean()\n",
    "    mean_std = block_data['std'].mean()\n",
    "\n",
    "    traces.append(\n",
    "        go.Scatter(\n",
    "            x=[mean_bias],\n",
    "            y=[mean_std],\n",
    "            mode='markers',\n",
    "            name=f'Block {i+1} Mean',\n",
    "            marker=dict(\n",
    "                color=ordered_colors[i],\n",
    "                size=14,\n",
    "                symbol='circle',\n",
    "                line=dict(width=2, color='black')\n",
    "            ),\n",
    "            legendgroup=f'block_{i}',\n",
    "            showlegend=True\n",
    "        )\n",
    "    )\n",
    "\n",
    "# --- Layout ---\n",
    "layout = go.Layout(\n",
    "    title='Bias vs Variability per Target Interval (per Block)',\n",
    "    xaxis=dict(title='|Bias| (ms)'),\n",
    "    yaxis=dict(title='STD of Reproduced Interval (ms)'),\n",
    "    width=700,\n",
    "    height=600,\n",
    "    legend=dict(title='Block', x=1.02),\n",
    "    plot_bgcolor='white',\n",
    "    margin=dict(l=80, r=160, t=80, b=80)\n",
    ")\n",
    "\n",
    "fig = go.Figure(data=traces, layout=layout)\n",
    "fig.update_xaxes(showgrid=True, gridcolor='lightgray')\n",
    "fig.update_yaxes(showgrid=True, gridcolor='lightgray')\n",
    "fig.show()\n"
   ]
  },
  {
   "cell_type": "code",
   "execution_count": 22,
   "id": "37df7151",
   "metadata": {},
   "outputs": [
    {
     "data": {
      "application/vnd.plotly.v1+json": {
       "config": {
        "plotlyServerURL": "https://plot.ly"
       },
       "data": [
        {
         "line": {
          "color": "#fdc38d",
          "width": 2
         },
         "marker": {
          "color": "#fdc38d",
          "size": 8
         },
         "mode": "lines+markers",
         "name": "Block 1 (Prior Mean 670 ms)",
         "type": "scatter",
         "x": [
          490,
          550,
          610,
          670,
          730,
          790,
          850
         ],
         "y": [
          59.972493695026564,
          65.48970223555074,
          96.08950154773575,
          131.54770997626676,
          117.80945066787584,
          120.17984208861503,
          67.31128823466032
         ]
        },
        {
         "line": {
          "color": "#e7533a",
          "width": 2
         },
         "marker": {
          "color": "#e7533a",
          "size": 8
         },
         "mode": "lines+markers",
         "name": "Block 2 (Prior Mean 845 ms)",
         "type": "scatter",
         "x": [
          670,
          730,
          790,
          850,
          910,
          960,
          1020
         ],
         "y": [
          158.78916839633612,
          117.88913362175055,
          99.07623824722897,
          73.30182878187142,
          100.18155702031736,
          86.0595283756681,
          96.1407570247412
         ]
        },
        {
         "line": {
          "color": "#7f0000",
          "width": 2
         },
         "marker": {
          "color": "#7f0000",
          "size": 8
         },
         "mode": "lines+markers",
         "name": "Block 3 (Prior Mean 1025 ms)",
         "type": "scatter",
         "x": [
          850,
          910,
          960,
          1020,
          1080,
          1140,
          1200
         ],
         "y": [
          162.5084743553029,
          126.01508577673539,
          143.7899556272472,
          105.30447029843239,
          135.32177007545604,
          127.79266841918167,
          113.66928618146845
         ]
        }
       ],
       "layout": {
        "height": 500,
        "legend": {
         "x": 1.05
        },
        "margin": {
         "b": 80,
         "l": 80,
         "r": 160,
         "t": 80
        },
        "plot_bgcolor": "white",
        "template": {
         "data": {
          "bar": [
           {
            "error_x": {
             "color": "#2a3f5f"
            },
            "error_y": {
             "color": "#2a3f5f"
            },
            "marker": {
             "line": {
              "color": "#E5ECF6",
              "width": 0.5
             },
             "pattern": {
              "fillmode": "overlay",
              "size": 10,
              "solidity": 0.2
             }
            },
            "type": "bar"
           }
          ],
          "barpolar": [
           {
            "marker": {
             "line": {
              "color": "#E5ECF6",
              "width": 0.5
             },
             "pattern": {
              "fillmode": "overlay",
              "size": 10,
              "solidity": 0.2
             }
            },
            "type": "barpolar"
           }
          ],
          "carpet": [
           {
            "aaxis": {
             "endlinecolor": "#2a3f5f",
             "gridcolor": "white",
             "linecolor": "white",
             "minorgridcolor": "white",
             "startlinecolor": "#2a3f5f"
            },
            "baxis": {
             "endlinecolor": "#2a3f5f",
             "gridcolor": "white",
             "linecolor": "white",
             "minorgridcolor": "white",
             "startlinecolor": "#2a3f5f"
            },
            "type": "carpet"
           }
          ],
          "choropleth": [
           {
            "colorbar": {
             "outlinewidth": 0,
             "ticks": ""
            },
            "type": "choropleth"
           }
          ],
          "contour": [
           {
            "colorbar": {
             "outlinewidth": 0,
             "ticks": ""
            },
            "colorscale": [
             [
              0,
              "#0d0887"
             ],
             [
              0.1111111111111111,
              "#46039f"
             ],
             [
              0.2222222222222222,
              "#7201a8"
             ],
             [
              0.3333333333333333,
              "#9c179e"
             ],
             [
              0.4444444444444444,
              "#bd3786"
             ],
             [
              0.5555555555555556,
              "#d8576b"
             ],
             [
              0.6666666666666666,
              "#ed7953"
             ],
             [
              0.7777777777777778,
              "#fb9f3a"
             ],
             [
              0.8888888888888888,
              "#fdca26"
             ],
             [
              1,
              "#f0f921"
             ]
            ],
            "type": "contour"
           }
          ],
          "contourcarpet": [
           {
            "colorbar": {
             "outlinewidth": 0,
             "ticks": ""
            },
            "type": "contourcarpet"
           }
          ],
          "heatmap": [
           {
            "colorbar": {
             "outlinewidth": 0,
             "ticks": ""
            },
            "colorscale": [
             [
              0,
              "#0d0887"
             ],
             [
              0.1111111111111111,
              "#46039f"
             ],
             [
              0.2222222222222222,
              "#7201a8"
             ],
             [
              0.3333333333333333,
              "#9c179e"
             ],
             [
              0.4444444444444444,
              "#bd3786"
             ],
             [
              0.5555555555555556,
              "#d8576b"
             ],
             [
              0.6666666666666666,
              "#ed7953"
             ],
             [
              0.7777777777777778,
              "#fb9f3a"
             ],
             [
              0.8888888888888888,
              "#fdca26"
             ],
             [
              1,
              "#f0f921"
             ]
            ],
            "type": "heatmap"
           }
          ],
          "heatmapgl": [
           {
            "colorbar": {
             "outlinewidth": 0,
             "ticks": ""
            },
            "colorscale": [
             [
              0,
              "#0d0887"
             ],
             [
              0.1111111111111111,
              "#46039f"
             ],
             [
              0.2222222222222222,
              "#7201a8"
             ],
             [
              0.3333333333333333,
              "#9c179e"
             ],
             [
              0.4444444444444444,
              "#bd3786"
             ],
             [
              0.5555555555555556,
              "#d8576b"
             ],
             [
              0.6666666666666666,
              "#ed7953"
             ],
             [
              0.7777777777777778,
              "#fb9f3a"
             ],
             [
              0.8888888888888888,
              "#fdca26"
             ],
             [
              1,
              "#f0f921"
             ]
            ],
            "type": "heatmapgl"
           }
          ],
          "histogram": [
           {
            "marker": {
             "pattern": {
              "fillmode": "overlay",
              "size": 10,
              "solidity": 0.2
             }
            },
            "type": "histogram"
           }
          ],
          "histogram2d": [
           {
            "colorbar": {
             "outlinewidth": 0,
             "ticks": ""
            },
            "colorscale": [
             [
              0,
              "#0d0887"
             ],
             [
              0.1111111111111111,
              "#46039f"
             ],
             [
              0.2222222222222222,
              "#7201a8"
             ],
             [
              0.3333333333333333,
              "#9c179e"
             ],
             [
              0.4444444444444444,
              "#bd3786"
             ],
             [
              0.5555555555555556,
              "#d8576b"
             ],
             [
              0.6666666666666666,
              "#ed7953"
             ],
             [
              0.7777777777777778,
              "#fb9f3a"
             ],
             [
              0.8888888888888888,
              "#fdca26"
             ],
             [
              1,
              "#f0f921"
             ]
            ],
            "type": "histogram2d"
           }
          ],
          "histogram2dcontour": [
           {
            "colorbar": {
             "outlinewidth": 0,
             "ticks": ""
            },
            "colorscale": [
             [
              0,
              "#0d0887"
             ],
             [
              0.1111111111111111,
              "#46039f"
             ],
             [
              0.2222222222222222,
              "#7201a8"
             ],
             [
              0.3333333333333333,
              "#9c179e"
             ],
             [
              0.4444444444444444,
              "#bd3786"
             ],
             [
              0.5555555555555556,
              "#d8576b"
             ],
             [
              0.6666666666666666,
              "#ed7953"
             ],
             [
              0.7777777777777778,
              "#fb9f3a"
             ],
             [
              0.8888888888888888,
              "#fdca26"
             ],
             [
              1,
              "#f0f921"
             ]
            ],
            "type": "histogram2dcontour"
           }
          ],
          "mesh3d": [
           {
            "colorbar": {
             "outlinewidth": 0,
             "ticks": ""
            },
            "type": "mesh3d"
           }
          ],
          "parcoords": [
           {
            "line": {
             "colorbar": {
              "outlinewidth": 0,
              "ticks": ""
             }
            },
            "type": "parcoords"
           }
          ],
          "pie": [
           {
            "automargin": true,
            "type": "pie"
           }
          ],
          "scatter": [
           {
            "fillpattern": {
             "fillmode": "overlay",
             "size": 10,
             "solidity": 0.2
            },
            "type": "scatter"
           }
          ],
          "scatter3d": [
           {
            "line": {
             "colorbar": {
              "outlinewidth": 0,
              "ticks": ""
             }
            },
            "marker": {
             "colorbar": {
              "outlinewidth": 0,
              "ticks": ""
             }
            },
            "type": "scatter3d"
           }
          ],
          "scattercarpet": [
           {
            "marker": {
             "colorbar": {
              "outlinewidth": 0,
              "ticks": ""
             }
            },
            "type": "scattercarpet"
           }
          ],
          "scattergeo": [
           {
            "marker": {
             "colorbar": {
              "outlinewidth": 0,
              "ticks": ""
             }
            },
            "type": "scattergeo"
           }
          ],
          "scattergl": [
           {
            "marker": {
             "colorbar": {
              "outlinewidth": 0,
              "ticks": ""
             }
            },
            "type": "scattergl"
           }
          ],
          "scattermapbox": [
           {
            "marker": {
             "colorbar": {
              "outlinewidth": 0,
              "ticks": ""
             }
            },
            "type": "scattermapbox"
           }
          ],
          "scatterpolar": [
           {
            "marker": {
             "colorbar": {
              "outlinewidth": 0,
              "ticks": ""
             }
            },
            "type": "scatterpolar"
           }
          ],
          "scatterpolargl": [
           {
            "marker": {
             "colorbar": {
              "outlinewidth": 0,
              "ticks": ""
             }
            },
            "type": "scatterpolargl"
           }
          ],
          "scatterternary": [
           {
            "marker": {
             "colorbar": {
              "outlinewidth": 0,
              "ticks": ""
             }
            },
            "type": "scatterternary"
           }
          ],
          "surface": [
           {
            "colorbar": {
             "outlinewidth": 0,
             "ticks": ""
            },
            "colorscale": [
             [
              0,
              "#0d0887"
             ],
             [
              0.1111111111111111,
              "#46039f"
             ],
             [
              0.2222222222222222,
              "#7201a8"
             ],
             [
              0.3333333333333333,
              "#9c179e"
             ],
             [
              0.4444444444444444,
              "#bd3786"
             ],
             [
              0.5555555555555556,
              "#d8576b"
             ],
             [
              0.6666666666666666,
              "#ed7953"
             ],
             [
              0.7777777777777778,
              "#fb9f3a"
             ],
             [
              0.8888888888888888,
              "#fdca26"
             ],
             [
              1,
              "#f0f921"
             ]
            ],
            "type": "surface"
           }
          ],
          "table": [
           {
            "cells": {
             "fill": {
              "color": "#EBF0F8"
             },
             "line": {
              "color": "white"
             }
            },
            "header": {
             "fill": {
              "color": "#C8D4E3"
             },
             "line": {
              "color": "white"
             }
            },
            "type": "table"
           }
          ]
         },
         "layout": {
          "annotationdefaults": {
           "arrowcolor": "#2a3f5f",
           "arrowhead": 0,
           "arrowwidth": 1
          },
          "autotypenumbers": "strict",
          "coloraxis": {
           "colorbar": {
            "outlinewidth": 0,
            "ticks": ""
           }
          },
          "colorscale": {
           "diverging": [
            [
             0,
             "#8e0152"
            ],
            [
             0.1,
             "#c51b7d"
            ],
            [
             0.2,
             "#de77ae"
            ],
            [
             0.3,
             "#f1b6da"
            ],
            [
             0.4,
             "#fde0ef"
            ],
            [
             0.5,
             "#f7f7f7"
            ],
            [
             0.6,
             "#e6f5d0"
            ],
            [
             0.7,
             "#b8e186"
            ],
            [
             0.8,
             "#7fbc41"
            ],
            [
             0.9,
             "#4d9221"
            ],
            [
             1,
             "#276419"
            ]
           ],
           "sequential": [
            [
             0,
             "#0d0887"
            ],
            [
             0.1111111111111111,
             "#46039f"
            ],
            [
             0.2222222222222222,
             "#7201a8"
            ],
            [
             0.3333333333333333,
             "#9c179e"
            ],
            [
             0.4444444444444444,
             "#bd3786"
            ],
            [
             0.5555555555555556,
             "#d8576b"
            ],
            [
             0.6666666666666666,
             "#ed7953"
            ],
            [
             0.7777777777777778,
             "#fb9f3a"
            ],
            [
             0.8888888888888888,
             "#fdca26"
            ],
            [
             1,
             "#f0f921"
            ]
           ],
           "sequentialminus": [
            [
             0,
             "#0d0887"
            ],
            [
             0.1111111111111111,
             "#46039f"
            ],
            [
             0.2222222222222222,
             "#7201a8"
            ],
            [
             0.3333333333333333,
             "#9c179e"
            ],
            [
             0.4444444444444444,
             "#bd3786"
            ],
            [
             0.5555555555555556,
             "#d8576b"
            ],
            [
             0.6666666666666666,
             "#ed7953"
            ],
            [
             0.7777777777777778,
             "#fb9f3a"
            ],
            [
             0.8888888888888888,
             "#fdca26"
            ],
            [
             1,
             "#f0f921"
            ]
           ]
          },
          "colorway": [
           "#636efa",
           "#EF553B",
           "#00cc96",
           "#ab63fa",
           "#FFA15A",
           "#19d3f3",
           "#FF6692",
           "#B6E880",
           "#FF97FF",
           "#FECB52"
          ],
          "font": {
           "color": "#2a3f5f"
          },
          "geo": {
           "bgcolor": "white",
           "lakecolor": "white",
           "landcolor": "#E5ECF6",
           "showlakes": true,
           "showland": true,
           "subunitcolor": "white"
          },
          "hoverlabel": {
           "align": "left"
          },
          "hovermode": "closest",
          "mapbox": {
           "style": "light"
          },
          "paper_bgcolor": "white",
          "plot_bgcolor": "#E5ECF6",
          "polar": {
           "angularaxis": {
            "gridcolor": "white",
            "linecolor": "white",
            "ticks": ""
           },
           "bgcolor": "#E5ECF6",
           "radialaxis": {
            "gridcolor": "white",
            "linecolor": "white",
            "ticks": ""
           }
          },
          "scene": {
           "xaxis": {
            "backgroundcolor": "#E5ECF6",
            "gridcolor": "white",
            "gridwidth": 2,
            "linecolor": "white",
            "showbackground": true,
            "ticks": "",
            "zerolinecolor": "white"
           },
           "yaxis": {
            "backgroundcolor": "#E5ECF6",
            "gridcolor": "white",
            "gridwidth": 2,
            "linecolor": "white",
            "showbackground": true,
            "ticks": "",
            "zerolinecolor": "white"
           },
           "zaxis": {
            "backgroundcolor": "#E5ECF6",
            "gridcolor": "white",
            "gridwidth": 2,
            "linecolor": "white",
            "showbackground": true,
            "ticks": "",
            "zerolinecolor": "white"
           }
          },
          "shapedefaults": {
           "line": {
            "color": "#2a3f5f"
           }
          },
          "ternary": {
           "aaxis": {
            "gridcolor": "white",
            "linecolor": "white",
            "ticks": ""
           },
           "baxis": {
            "gridcolor": "white",
            "linecolor": "white",
            "ticks": ""
           },
           "bgcolor": "#E5ECF6",
           "caxis": {
            "gridcolor": "white",
            "linecolor": "white",
            "ticks": ""
           }
          },
          "title": {
           "x": 0.05
          },
          "xaxis": {
           "automargin": true,
           "gridcolor": "white",
           "linecolor": "white",
           "ticks": "",
           "title": {
            "standoff": 15
           },
           "zerolinecolor": "white",
           "zerolinewidth": 2
          },
          "yaxis": {
           "automargin": true,
           "gridcolor": "white",
           "linecolor": "white",
           "ticks": "",
           "title": {
            "standoff": 15
           },
           "zerolinecolor": "white",
           "zerolinewidth": 2
          }
         }
        },
        "title": {
         "text": "Scalar Variability vs Target Interval (by Block)"
        },
        "width": 800,
        "xaxis": {
         "gridcolor": "lightgray",
         "showgrid": true,
         "title": {
          "text": "Target Interval (ms)"
         }
        },
        "yaxis": {
         "gridcolor": "lightgray",
         "showgrid": true,
         "title": {
          "text": "STD of Reported Interval (ms)"
         }
        }
       }
      },
      "text/html": [
       "<div>                            <div id=\"dc64f019-7fe7-4d98-a6d8-24a90035223e\" class=\"plotly-graph-div\" style=\"height:500px; width:800px;\"></div>            <script type=\"text/javascript\">                require([\"plotly\"], function(Plotly) {                    window.PLOTLYENV=window.PLOTLYENV || {};                                    if (document.getElementById(\"dc64f019-7fe7-4d98-a6d8-24a90035223e\")) {                    Plotly.newPlot(                        \"dc64f019-7fe7-4d98-a6d8-24a90035223e\",                        [{\"line\":{\"color\":\"#fdc38d\",\"width\":2},\"marker\":{\"color\":\"#fdc38d\",\"size\":8},\"mode\":\"lines+markers\",\"name\":\"Block 1 (Prior Mean 670 ms)\",\"x\":[490.0,550.0,610.0,670.0,730.0,790.0,850.0],\"y\":[59.972493695026564,65.48970223555074,96.08950154773575,131.54770997626676,117.80945066787584,120.17984208861503,67.31128823466032],\"type\":\"scatter\"},{\"line\":{\"color\":\"#e7533a\",\"width\":2},\"marker\":{\"color\":\"#e7533a\",\"size\":8},\"mode\":\"lines+markers\",\"name\":\"Block 2 (Prior Mean 845 ms)\",\"x\":[670.0,730.0,790.0,850.0,910.0,960.0,1020.0],\"y\":[158.78916839633612,117.88913362175055,99.07623824722897,73.30182878187142,100.18155702031736,86.0595283756681,96.1407570247412],\"type\":\"scatter\"},{\"line\":{\"color\":\"#7f0000\",\"width\":2},\"marker\":{\"color\":\"#7f0000\",\"size\":8},\"mode\":\"lines+markers\",\"name\":\"Block 3 (Prior Mean 1025 ms)\",\"x\":[850.0,910.0,960.0,1020.0,1080.0,1140.0,1200.0],\"y\":[162.5084743553029,126.01508577673539,143.7899556272472,105.30447029843239,135.32177007545604,127.79266841918167,113.66928618146845],\"type\":\"scatter\"}],                        {\"height\":500,\"legend\":{\"x\":1.05},\"margin\":{\"b\":80,\"l\":80,\"r\":160,\"t\":80},\"plot_bgcolor\":\"white\",\"title\":{\"text\":\"Scalar Variability vs Target Interval (by Block)\"},\"width\":800,\"xaxis\":{\"title\":{\"text\":\"Target Interval (ms)\"},\"showgrid\":true,\"gridcolor\":\"lightgray\"},\"yaxis\":{\"title\":{\"text\":\"STD of Reported Interval (ms)\"},\"showgrid\":true,\"gridcolor\":\"lightgray\"},\"template\":{\"data\":{\"histogram2dcontour\":[{\"type\":\"histogram2dcontour\",\"colorbar\":{\"outlinewidth\":0,\"ticks\":\"\"},\"colorscale\":[[0.0,\"#0d0887\"],[0.1111111111111111,\"#46039f\"],[0.2222222222222222,\"#7201a8\"],[0.3333333333333333,\"#9c179e\"],[0.4444444444444444,\"#bd3786\"],[0.5555555555555556,\"#d8576b\"],[0.6666666666666666,\"#ed7953\"],[0.7777777777777778,\"#fb9f3a\"],[0.8888888888888888,\"#fdca26\"],[1.0,\"#f0f921\"]]}],\"choropleth\":[{\"type\":\"choropleth\",\"colorbar\":{\"outlinewidth\":0,\"ticks\":\"\"}}],\"histogram2d\":[{\"type\":\"histogram2d\",\"colorbar\":{\"outlinewidth\":0,\"ticks\":\"\"},\"colorscale\":[[0.0,\"#0d0887\"],[0.1111111111111111,\"#46039f\"],[0.2222222222222222,\"#7201a8\"],[0.3333333333333333,\"#9c179e\"],[0.4444444444444444,\"#bd3786\"],[0.5555555555555556,\"#d8576b\"],[0.6666666666666666,\"#ed7953\"],[0.7777777777777778,\"#fb9f3a\"],[0.8888888888888888,\"#fdca26\"],[1.0,\"#f0f921\"]]}],\"heatmap\":[{\"type\":\"heatmap\",\"colorbar\":{\"outlinewidth\":0,\"ticks\":\"\"},\"colorscale\":[[0.0,\"#0d0887\"],[0.1111111111111111,\"#46039f\"],[0.2222222222222222,\"#7201a8\"],[0.3333333333333333,\"#9c179e\"],[0.4444444444444444,\"#bd3786\"],[0.5555555555555556,\"#d8576b\"],[0.6666666666666666,\"#ed7953\"],[0.7777777777777778,\"#fb9f3a\"],[0.8888888888888888,\"#fdca26\"],[1.0,\"#f0f921\"]]}],\"heatmapgl\":[{\"type\":\"heatmapgl\",\"colorbar\":{\"outlinewidth\":0,\"ticks\":\"\"},\"colorscale\":[[0.0,\"#0d0887\"],[0.1111111111111111,\"#46039f\"],[0.2222222222222222,\"#7201a8\"],[0.3333333333333333,\"#9c179e\"],[0.4444444444444444,\"#bd3786\"],[0.5555555555555556,\"#d8576b\"],[0.6666666666666666,\"#ed7953\"],[0.7777777777777778,\"#fb9f3a\"],[0.8888888888888888,\"#fdca26\"],[1.0,\"#f0f921\"]]}],\"contourcarpet\":[{\"type\":\"contourcarpet\",\"colorbar\":{\"outlinewidth\":0,\"ticks\":\"\"}}],\"contour\":[{\"type\":\"contour\",\"colorbar\":{\"outlinewidth\":0,\"ticks\":\"\"},\"colorscale\":[[0.0,\"#0d0887\"],[0.1111111111111111,\"#46039f\"],[0.2222222222222222,\"#7201a8\"],[0.3333333333333333,\"#9c179e\"],[0.4444444444444444,\"#bd3786\"],[0.5555555555555556,\"#d8576b\"],[0.6666666666666666,\"#ed7953\"],[0.7777777777777778,\"#fb9f3a\"],[0.8888888888888888,\"#fdca26\"],[1.0,\"#f0f921\"]]}],\"surface\":[{\"type\":\"surface\",\"colorbar\":{\"outlinewidth\":0,\"ticks\":\"\"},\"colorscale\":[[0.0,\"#0d0887\"],[0.1111111111111111,\"#46039f\"],[0.2222222222222222,\"#7201a8\"],[0.3333333333333333,\"#9c179e\"],[0.4444444444444444,\"#bd3786\"],[0.5555555555555556,\"#d8576b\"],[0.6666666666666666,\"#ed7953\"],[0.7777777777777778,\"#fb9f3a\"],[0.8888888888888888,\"#fdca26\"],[1.0,\"#f0f921\"]]}],\"mesh3d\":[{\"type\":\"mesh3d\",\"colorbar\":{\"outlinewidth\":0,\"ticks\":\"\"}}],\"scatter\":[{\"fillpattern\":{\"fillmode\":\"overlay\",\"size\":10,\"solidity\":0.2},\"type\":\"scatter\"}],\"parcoords\":[{\"type\":\"parcoords\",\"line\":{\"colorbar\":{\"outlinewidth\":0,\"ticks\":\"\"}}}],\"scatterpolargl\":[{\"type\":\"scatterpolargl\",\"marker\":{\"colorbar\":{\"outlinewidth\":0,\"ticks\":\"\"}}}],\"bar\":[{\"error_x\":{\"color\":\"#2a3f5f\"},\"error_y\":{\"color\":\"#2a3f5f\"},\"marker\":{\"line\":{\"color\":\"#E5ECF6\",\"width\":0.5},\"pattern\":{\"fillmode\":\"overlay\",\"size\":10,\"solidity\":0.2}},\"type\":\"bar\"}],\"scattergeo\":[{\"type\":\"scattergeo\",\"marker\":{\"colorbar\":{\"outlinewidth\":0,\"ticks\":\"\"}}}],\"scatterpolar\":[{\"type\":\"scatterpolar\",\"marker\":{\"colorbar\":{\"outlinewidth\":0,\"ticks\":\"\"}}}],\"histogram\":[{\"marker\":{\"pattern\":{\"fillmode\":\"overlay\",\"size\":10,\"solidity\":0.2}},\"type\":\"histogram\"}],\"scattergl\":[{\"type\":\"scattergl\",\"marker\":{\"colorbar\":{\"outlinewidth\":0,\"ticks\":\"\"}}}],\"scatter3d\":[{\"type\":\"scatter3d\",\"line\":{\"colorbar\":{\"outlinewidth\":0,\"ticks\":\"\"}},\"marker\":{\"colorbar\":{\"outlinewidth\":0,\"ticks\":\"\"}}}],\"scattermapbox\":[{\"type\":\"scattermapbox\",\"marker\":{\"colorbar\":{\"outlinewidth\":0,\"ticks\":\"\"}}}],\"scatterternary\":[{\"type\":\"scatterternary\",\"marker\":{\"colorbar\":{\"outlinewidth\":0,\"ticks\":\"\"}}}],\"scattercarpet\":[{\"type\":\"scattercarpet\",\"marker\":{\"colorbar\":{\"outlinewidth\":0,\"ticks\":\"\"}}}],\"carpet\":[{\"aaxis\":{\"endlinecolor\":\"#2a3f5f\",\"gridcolor\":\"white\",\"linecolor\":\"white\",\"minorgridcolor\":\"white\",\"startlinecolor\":\"#2a3f5f\"},\"baxis\":{\"endlinecolor\":\"#2a3f5f\",\"gridcolor\":\"white\",\"linecolor\":\"white\",\"minorgridcolor\":\"white\",\"startlinecolor\":\"#2a3f5f\"},\"type\":\"carpet\"}],\"table\":[{\"cells\":{\"fill\":{\"color\":\"#EBF0F8\"},\"line\":{\"color\":\"white\"}},\"header\":{\"fill\":{\"color\":\"#C8D4E3\"},\"line\":{\"color\":\"white\"}},\"type\":\"table\"}],\"barpolar\":[{\"marker\":{\"line\":{\"color\":\"#E5ECF6\",\"width\":0.5},\"pattern\":{\"fillmode\":\"overlay\",\"size\":10,\"solidity\":0.2}},\"type\":\"barpolar\"}],\"pie\":[{\"automargin\":true,\"type\":\"pie\"}]},\"layout\":{\"autotypenumbers\":\"strict\",\"colorway\":[\"#636efa\",\"#EF553B\",\"#00cc96\",\"#ab63fa\",\"#FFA15A\",\"#19d3f3\",\"#FF6692\",\"#B6E880\",\"#FF97FF\",\"#FECB52\"],\"font\":{\"color\":\"#2a3f5f\"},\"hovermode\":\"closest\",\"hoverlabel\":{\"align\":\"left\"},\"paper_bgcolor\":\"white\",\"plot_bgcolor\":\"#E5ECF6\",\"polar\":{\"bgcolor\":\"#E5ECF6\",\"angularaxis\":{\"gridcolor\":\"white\",\"linecolor\":\"white\",\"ticks\":\"\"},\"radialaxis\":{\"gridcolor\":\"white\",\"linecolor\":\"white\",\"ticks\":\"\"}},\"ternary\":{\"bgcolor\":\"#E5ECF6\",\"aaxis\":{\"gridcolor\":\"white\",\"linecolor\":\"white\",\"ticks\":\"\"},\"baxis\":{\"gridcolor\":\"white\",\"linecolor\":\"white\",\"ticks\":\"\"},\"caxis\":{\"gridcolor\":\"white\",\"linecolor\":\"white\",\"ticks\":\"\"}},\"coloraxis\":{\"colorbar\":{\"outlinewidth\":0,\"ticks\":\"\"}},\"colorscale\":{\"sequential\":[[0.0,\"#0d0887\"],[0.1111111111111111,\"#46039f\"],[0.2222222222222222,\"#7201a8\"],[0.3333333333333333,\"#9c179e\"],[0.4444444444444444,\"#bd3786\"],[0.5555555555555556,\"#d8576b\"],[0.6666666666666666,\"#ed7953\"],[0.7777777777777778,\"#fb9f3a\"],[0.8888888888888888,\"#fdca26\"],[1.0,\"#f0f921\"]],\"sequentialminus\":[[0.0,\"#0d0887\"],[0.1111111111111111,\"#46039f\"],[0.2222222222222222,\"#7201a8\"],[0.3333333333333333,\"#9c179e\"],[0.4444444444444444,\"#bd3786\"],[0.5555555555555556,\"#d8576b\"],[0.6666666666666666,\"#ed7953\"],[0.7777777777777778,\"#fb9f3a\"],[0.8888888888888888,\"#fdca26\"],[1.0,\"#f0f921\"]],\"diverging\":[[0,\"#8e0152\"],[0.1,\"#c51b7d\"],[0.2,\"#de77ae\"],[0.3,\"#f1b6da\"],[0.4,\"#fde0ef\"],[0.5,\"#f7f7f7\"],[0.6,\"#e6f5d0\"],[0.7,\"#b8e186\"],[0.8,\"#7fbc41\"],[0.9,\"#4d9221\"],[1,\"#276419\"]]},\"xaxis\":{\"gridcolor\":\"white\",\"linecolor\":\"white\",\"ticks\":\"\",\"title\":{\"standoff\":15},\"zerolinecolor\":\"white\",\"automargin\":true,\"zerolinewidth\":2},\"yaxis\":{\"gridcolor\":\"white\",\"linecolor\":\"white\",\"ticks\":\"\",\"title\":{\"standoff\":15},\"zerolinecolor\":\"white\",\"automargin\":true,\"zerolinewidth\":2},\"scene\":{\"xaxis\":{\"backgroundcolor\":\"#E5ECF6\",\"gridcolor\":\"white\",\"linecolor\":\"white\",\"showbackground\":true,\"ticks\":\"\",\"zerolinecolor\":\"white\",\"gridwidth\":2},\"yaxis\":{\"backgroundcolor\":\"#E5ECF6\",\"gridcolor\":\"white\",\"linecolor\":\"white\",\"showbackground\":true,\"ticks\":\"\",\"zerolinecolor\":\"white\",\"gridwidth\":2},\"zaxis\":{\"backgroundcolor\":\"#E5ECF6\",\"gridcolor\":\"white\",\"linecolor\":\"white\",\"showbackground\":true,\"ticks\":\"\",\"zerolinecolor\":\"white\",\"gridwidth\":2}},\"shapedefaults\":{\"line\":{\"color\":\"#2a3f5f\"}},\"annotationdefaults\":{\"arrowcolor\":\"#2a3f5f\",\"arrowhead\":0,\"arrowwidth\":1},\"geo\":{\"bgcolor\":\"white\",\"landcolor\":\"#E5ECF6\",\"subunitcolor\":\"white\",\"showland\":true,\"showlakes\":true,\"lakecolor\":\"white\"},\"title\":{\"x\":0.05},\"mapbox\":{\"style\":\"light\"}}}},                        {\"responsive\": true}                    ).then(function(){\n",
       "                            \n",
       "var gd = document.getElementById('dc64f019-7fe7-4d98-a6d8-24a90035223e');\n",
       "var x = new MutationObserver(function (mutations, observer) {{\n",
       "        var display = window.getComputedStyle(gd).display;\n",
       "        if (!display || display === 'none') {{\n",
       "            console.log([gd, 'removed!']);\n",
       "            Plotly.purge(gd);\n",
       "            observer.disconnect();\n",
       "        }}\n",
       "}});\n",
       "\n",
       "// Listen for the removal of the full notebook cells\n",
       "var notebookContainer = gd.closest('#notebook-container');\n",
       "if (notebookContainer) {{\n",
       "    x.observe(notebookContainer, {childList: true});\n",
       "}}\n",
       "\n",
       "// Listen for the clearing of the current output cell\n",
       "var outputEl = gd.closest('.output');\n",
       "if (outputEl) {{\n",
       "    x.observe(outputEl, {childList: true});\n",
       "}}\n",
       "\n",
       "                        })                };                });            </script>        </div>"
      ]
     },
     "metadata": {},
     "output_type": "display_data"
    }
   ],
   "source": [
    "import pandas as pd\n",
    "import numpy as np\n",
    "import plotly.graph_objects as go\n",
    "from matplotlib import cm\n",
    "import matplotlib.colors as mcolors\n",
    "\n",
    "# Assumes go_df contains: target_interval, reproduced_interval, prior_mean (block label)\n",
    "\n",
    "# Get all unique blocks\n",
    "blocks = sorted(go_df['prior_mean'].unique())\n",
    "\n",
    "# Define color map\n",
    "cmap = cm.get_cmap('OrRd', len(blocks)+1)\n",
    "ordered_colors = [mcolors.to_hex(cmap(i+1)) for i in range(len(blocks))]\n",
    "\n",
    "# Prepare traces\n",
    "traces = []\n",
    "\n",
    "for i, block_mean in enumerate(blocks):\n",
    "    block_df = go_df[go_df['prior_mean'] == block_mean]\n",
    "\n",
    "    # Group by target interval and compute std (scalar variability)\n",
    "    variability = (\n",
    "        block_df\n",
    "        .groupby('target_interval')\n",
    "        .agg(std_reproduced=('reproduced_interval', 'std'),\n",
    "             n=('reproduced_interval', 'count'))\n",
    "        .reset_index()\n",
    "    )\n",
    "\n",
    "    # Optionally compute SEM for the std itself (though often omitted)\n",
    "    # variability['sem_std'] = variability['std_reproduced'] / np.sqrt(2 * (variability['n'] - 1))\n",
    "\n",
    "    traces.append(\n",
    "        go.Scatter(\n",
    "            x=variability['target_interval'],\n",
    "            y=variability['std_reproduced'],\n",
    "            mode='lines+markers',\n",
    "            name=f'Block {i+1} (Prior Mean {int(block_mean)} ms)',\n",
    "            marker=dict(color=ordered_colors[i], size=8),\n",
    "            line=dict(color=ordered_colors[i], width=2),\n",
    "        )\n",
    "    )\n",
    "\n",
    "# Layout\n",
    "layout = go.Layout(\n",
    "    title='Scalar Variability vs Target Interval (by Block)',\n",
    "    xaxis=dict(title='Target Interval (ms)'),\n",
    "    yaxis=dict(title='STD of Reported Interval (ms)'),\n",
    "    width=800,\n",
    "    height=500,\n",
    "    plot_bgcolor='white',\n",
    "    legend=dict(x=1.05),\n",
    "    margin=dict(l=80, r=160, t=80, b=80),\n",
    ")\n",
    "\n",
    "fig = go.Figure(data=traces, layout=layout)\n",
    "fig.update_xaxes(showgrid=True, gridcolor='lightgray')\n",
    "fig.update_yaxes(showgrid=True, gridcolor='lightgray')\n",
    "fig.show()\n"
   ]
  },
  {
   "cell_type": "markdown",
   "id": "b6688552",
   "metadata": {},
   "source": [
    "# Error vs Delay  \n"
   ]
  },
  {
   "cell_type": "code",
   "execution_count": 5,
   "id": "588db637",
   "metadata": {},
   "outputs": [
    {
     "data": {
      "application/vnd.plotly.v1+json": {
       "config": {
        "plotlyServerURL": "https://plot.ly"
       },
       "data": [
        {
         "error_y": {
          "array": [],
          "type": "data",
          "visible": true
         },
         "line": {
          "width": 2
         },
         "marker": {
          "color": "crimson",
          "size": 10
         },
         "mode": "markers+lines",
         "name": "Mean Error ± STD",
         "type": "scatter",
         "x": [],
         "y": []
        }
       ],
       "layout": {
        "height": 500,
        "margin": {
         "b": 60,
         "l": 80,
         "r": 50,
         "t": 60
        },
        "plot_bgcolor": "white",
        "template": {
         "data": {
          "bar": [
           {
            "error_x": {
             "color": "#2a3f5f"
            },
            "error_y": {
             "color": "#2a3f5f"
            },
            "marker": {
             "line": {
              "color": "#E5ECF6",
              "width": 0.5
             },
             "pattern": {
              "fillmode": "overlay",
              "size": 10,
              "solidity": 0.2
             }
            },
            "type": "bar"
           }
          ],
          "barpolar": [
           {
            "marker": {
             "line": {
              "color": "#E5ECF6",
              "width": 0.5
             },
             "pattern": {
              "fillmode": "overlay",
              "size": 10,
              "solidity": 0.2
             }
            },
            "type": "barpolar"
           }
          ],
          "carpet": [
           {
            "aaxis": {
             "endlinecolor": "#2a3f5f",
             "gridcolor": "white",
             "linecolor": "white",
             "minorgridcolor": "white",
             "startlinecolor": "#2a3f5f"
            },
            "baxis": {
             "endlinecolor": "#2a3f5f",
             "gridcolor": "white",
             "linecolor": "white",
             "minorgridcolor": "white",
             "startlinecolor": "#2a3f5f"
            },
            "type": "carpet"
           }
          ],
          "choropleth": [
           {
            "colorbar": {
             "outlinewidth": 0,
             "ticks": ""
            },
            "type": "choropleth"
           }
          ],
          "contour": [
           {
            "colorbar": {
             "outlinewidth": 0,
             "ticks": ""
            },
            "colorscale": [
             [
              0,
              "#0d0887"
             ],
             [
              0.1111111111111111,
              "#46039f"
             ],
             [
              0.2222222222222222,
              "#7201a8"
             ],
             [
              0.3333333333333333,
              "#9c179e"
             ],
             [
              0.4444444444444444,
              "#bd3786"
             ],
             [
              0.5555555555555556,
              "#d8576b"
             ],
             [
              0.6666666666666666,
              "#ed7953"
             ],
             [
              0.7777777777777778,
              "#fb9f3a"
             ],
             [
              0.8888888888888888,
              "#fdca26"
             ],
             [
              1,
              "#f0f921"
             ]
            ],
            "type": "contour"
           }
          ],
          "contourcarpet": [
           {
            "colorbar": {
             "outlinewidth": 0,
             "ticks": ""
            },
            "type": "contourcarpet"
           }
          ],
          "heatmap": [
           {
            "colorbar": {
             "outlinewidth": 0,
             "ticks": ""
            },
            "colorscale": [
             [
              0,
              "#0d0887"
             ],
             [
              0.1111111111111111,
              "#46039f"
             ],
             [
              0.2222222222222222,
              "#7201a8"
             ],
             [
              0.3333333333333333,
              "#9c179e"
             ],
             [
              0.4444444444444444,
              "#bd3786"
             ],
             [
              0.5555555555555556,
              "#d8576b"
             ],
             [
              0.6666666666666666,
              "#ed7953"
             ],
             [
              0.7777777777777778,
              "#fb9f3a"
             ],
             [
              0.8888888888888888,
              "#fdca26"
             ],
             [
              1,
              "#f0f921"
             ]
            ],
            "type": "heatmap"
           }
          ],
          "heatmapgl": [
           {
            "colorbar": {
             "outlinewidth": 0,
             "ticks": ""
            },
            "colorscale": [
             [
              0,
              "#0d0887"
             ],
             [
              0.1111111111111111,
              "#46039f"
             ],
             [
              0.2222222222222222,
              "#7201a8"
             ],
             [
              0.3333333333333333,
              "#9c179e"
             ],
             [
              0.4444444444444444,
              "#bd3786"
             ],
             [
              0.5555555555555556,
              "#d8576b"
             ],
             [
              0.6666666666666666,
              "#ed7953"
             ],
             [
              0.7777777777777778,
              "#fb9f3a"
             ],
             [
              0.8888888888888888,
              "#fdca26"
             ],
             [
              1,
              "#f0f921"
             ]
            ],
            "type": "heatmapgl"
           }
          ],
          "histogram": [
           {
            "marker": {
             "pattern": {
              "fillmode": "overlay",
              "size": 10,
              "solidity": 0.2
             }
            },
            "type": "histogram"
           }
          ],
          "histogram2d": [
           {
            "colorbar": {
             "outlinewidth": 0,
             "ticks": ""
            },
            "colorscale": [
             [
              0,
              "#0d0887"
             ],
             [
              0.1111111111111111,
              "#46039f"
             ],
             [
              0.2222222222222222,
              "#7201a8"
             ],
             [
              0.3333333333333333,
              "#9c179e"
             ],
             [
              0.4444444444444444,
              "#bd3786"
             ],
             [
              0.5555555555555556,
              "#d8576b"
             ],
             [
              0.6666666666666666,
              "#ed7953"
             ],
             [
              0.7777777777777778,
              "#fb9f3a"
             ],
             [
              0.8888888888888888,
              "#fdca26"
             ],
             [
              1,
              "#f0f921"
             ]
            ],
            "type": "histogram2d"
           }
          ],
          "histogram2dcontour": [
           {
            "colorbar": {
             "outlinewidth": 0,
             "ticks": ""
            },
            "colorscale": [
             [
              0,
              "#0d0887"
             ],
             [
              0.1111111111111111,
              "#46039f"
             ],
             [
              0.2222222222222222,
              "#7201a8"
             ],
             [
              0.3333333333333333,
              "#9c179e"
             ],
             [
              0.4444444444444444,
              "#bd3786"
             ],
             [
              0.5555555555555556,
              "#d8576b"
             ],
             [
              0.6666666666666666,
              "#ed7953"
             ],
             [
              0.7777777777777778,
              "#fb9f3a"
             ],
             [
              0.8888888888888888,
              "#fdca26"
             ],
             [
              1,
              "#f0f921"
             ]
            ],
            "type": "histogram2dcontour"
           }
          ],
          "mesh3d": [
           {
            "colorbar": {
             "outlinewidth": 0,
             "ticks": ""
            },
            "type": "mesh3d"
           }
          ],
          "parcoords": [
           {
            "line": {
             "colorbar": {
              "outlinewidth": 0,
              "ticks": ""
             }
            },
            "type": "parcoords"
           }
          ],
          "pie": [
           {
            "automargin": true,
            "type": "pie"
           }
          ],
          "scatter": [
           {
            "fillpattern": {
             "fillmode": "overlay",
             "size": 10,
             "solidity": 0.2
            },
            "type": "scatter"
           }
          ],
          "scatter3d": [
           {
            "line": {
             "colorbar": {
              "outlinewidth": 0,
              "ticks": ""
             }
            },
            "marker": {
             "colorbar": {
              "outlinewidth": 0,
              "ticks": ""
             }
            },
            "type": "scatter3d"
           }
          ],
          "scattercarpet": [
           {
            "marker": {
             "colorbar": {
              "outlinewidth": 0,
              "ticks": ""
             }
            },
            "type": "scattercarpet"
           }
          ],
          "scattergeo": [
           {
            "marker": {
             "colorbar": {
              "outlinewidth": 0,
              "ticks": ""
             }
            },
            "type": "scattergeo"
           }
          ],
          "scattergl": [
           {
            "marker": {
             "colorbar": {
              "outlinewidth": 0,
              "ticks": ""
             }
            },
            "type": "scattergl"
           }
          ],
          "scattermapbox": [
           {
            "marker": {
             "colorbar": {
              "outlinewidth": 0,
              "ticks": ""
             }
            },
            "type": "scattermapbox"
           }
          ],
          "scatterpolar": [
           {
            "marker": {
             "colorbar": {
              "outlinewidth": 0,
              "ticks": ""
             }
            },
            "type": "scatterpolar"
           }
          ],
          "scatterpolargl": [
           {
            "marker": {
             "colorbar": {
              "outlinewidth": 0,
              "ticks": ""
             }
            },
            "type": "scatterpolargl"
           }
          ],
          "scatterternary": [
           {
            "marker": {
             "colorbar": {
              "outlinewidth": 0,
              "ticks": ""
             }
            },
            "type": "scatterternary"
           }
          ],
          "surface": [
           {
            "colorbar": {
             "outlinewidth": 0,
             "ticks": ""
            },
            "colorscale": [
             [
              0,
              "#0d0887"
             ],
             [
              0.1111111111111111,
              "#46039f"
             ],
             [
              0.2222222222222222,
              "#7201a8"
             ],
             [
              0.3333333333333333,
              "#9c179e"
             ],
             [
              0.4444444444444444,
              "#bd3786"
             ],
             [
              0.5555555555555556,
              "#d8576b"
             ],
             [
              0.6666666666666666,
              "#ed7953"
             ],
             [
              0.7777777777777778,
              "#fb9f3a"
             ],
             [
              0.8888888888888888,
              "#fdca26"
             ],
             [
              1,
              "#f0f921"
             ]
            ],
            "type": "surface"
           }
          ],
          "table": [
           {
            "cells": {
             "fill": {
              "color": "#EBF0F8"
             },
             "line": {
              "color": "white"
             }
            },
            "header": {
             "fill": {
              "color": "#C8D4E3"
             },
             "line": {
              "color": "white"
             }
            },
            "type": "table"
           }
          ]
         },
         "layout": {
          "annotationdefaults": {
           "arrowcolor": "#2a3f5f",
           "arrowhead": 0,
           "arrowwidth": 1
          },
          "autotypenumbers": "strict",
          "coloraxis": {
           "colorbar": {
            "outlinewidth": 0,
            "ticks": ""
           }
          },
          "colorscale": {
           "diverging": [
            [
             0,
             "#8e0152"
            ],
            [
             0.1,
             "#c51b7d"
            ],
            [
             0.2,
             "#de77ae"
            ],
            [
             0.3,
             "#f1b6da"
            ],
            [
             0.4,
             "#fde0ef"
            ],
            [
             0.5,
             "#f7f7f7"
            ],
            [
             0.6,
             "#e6f5d0"
            ],
            [
             0.7,
             "#b8e186"
            ],
            [
             0.8,
             "#7fbc41"
            ],
            [
             0.9,
             "#4d9221"
            ],
            [
             1,
             "#276419"
            ]
           ],
           "sequential": [
            [
             0,
             "#0d0887"
            ],
            [
             0.1111111111111111,
             "#46039f"
            ],
            [
             0.2222222222222222,
             "#7201a8"
            ],
            [
             0.3333333333333333,
             "#9c179e"
            ],
            [
             0.4444444444444444,
             "#bd3786"
            ],
            [
             0.5555555555555556,
             "#d8576b"
            ],
            [
             0.6666666666666666,
             "#ed7953"
            ],
            [
             0.7777777777777778,
             "#fb9f3a"
            ],
            [
             0.8888888888888888,
             "#fdca26"
            ],
            [
             1,
             "#f0f921"
            ]
           ],
           "sequentialminus": [
            [
             0,
             "#0d0887"
            ],
            [
             0.1111111111111111,
             "#46039f"
            ],
            [
             0.2222222222222222,
             "#7201a8"
            ],
            [
             0.3333333333333333,
             "#9c179e"
            ],
            [
             0.4444444444444444,
             "#bd3786"
            ],
            [
             0.5555555555555556,
             "#d8576b"
            ],
            [
             0.6666666666666666,
             "#ed7953"
            ],
            [
             0.7777777777777778,
             "#fb9f3a"
            ],
            [
             0.8888888888888888,
             "#fdca26"
            ],
            [
             1,
             "#f0f921"
            ]
           ]
          },
          "colorway": [
           "#636efa",
           "#EF553B",
           "#00cc96",
           "#ab63fa",
           "#FFA15A",
           "#19d3f3",
           "#FF6692",
           "#B6E880",
           "#FF97FF",
           "#FECB52"
          ],
          "font": {
           "color": "#2a3f5f"
          },
          "geo": {
           "bgcolor": "white",
           "lakecolor": "white",
           "landcolor": "#E5ECF6",
           "showlakes": true,
           "showland": true,
           "subunitcolor": "white"
          },
          "hoverlabel": {
           "align": "left"
          },
          "hovermode": "closest",
          "mapbox": {
           "style": "light"
          },
          "paper_bgcolor": "white",
          "plot_bgcolor": "#E5ECF6",
          "polar": {
           "angularaxis": {
            "gridcolor": "white",
            "linecolor": "white",
            "ticks": ""
           },
           "bgcolor": "#E5ECF6",
           "radialaxis": {
            "gridcolor": "white",
            "linecolor": "white",
            "ticks": ""
           }
          },
          "scene": {
           "xaxis": {
            "backgroundcolor": "#E5ECF6",
            "gridcolor": "white",
            "gridwidth": 2,
            "linecolor": "white",
            "showbackground": true,
            "ticks": "",
            "zerolinecolor": "white"
           },
           "yaxis": {
            "backgroundcolor": "#E5ECF6",
            "gridcolor": "white",
            "gridwidth": 2,
            "linecolor": "white",
            "showbackground": true,
            "ticks": "",
            "zerolinecolor": "white"
           },
           "zaxis": {
            "backgroundcolor": "#E5ECF6",
            "gridcolor": "white",
            "gridwidth": 2,
            "linecolor": "white",
            "showbackground": true,
            "ticks": "",
            "zerolinecolor": "white"
           }
          },
          "shapedefaults": {
           "line": {
            "color": "#2a3f5f"
           }
          },
          "ternary": {
           "aaxis": {
            "gridcolor": "white",
            "linecolor": "white",
            "ticks": ""
           },
           "baxis": {
            "gridcolor": "white",
            "linecolor": "white",
            "ticks": ""
           },
           "bgcolor": "#E5ECF6",
           "caxis": {
            "gridcolor": "white",
            "linecolor": "white",
            "ticks": ""
           }
          },
          "title": {
           "x": 0.05
          },
          "xaxis": {
           "automargin": true,
           "gridcolor": "white",
           "linecolor": "white",
           "ticks": "",
           "title": {
            "standoff": 15
           },
           "zerolinecolor": "white",
           "zerolinewidth": 2
          },
          "yaxis": {
           "automargin": true,
           "gridcolor": "white",
           "linecolor": "white",
           "ticks": "",
           "title": {
            "standoff": 15
           },
           "zerolinecolor": "white",
           "zerolinewidth": 2
          }
         }
        },
        "title": {
         "text": "Reproduction Error vs Delay Duration"
        },
        "width": 700,
        "xaxis": {
         "gridcolor": "lightgray",
         "showgrid": true,
         "title": {
          "text": "Delay Duration (ms)"
         }
        },
        "yaxis": {
         "gridcolor": "lightgray",
         "showgrid": true,
         "title": {
          "text": "Mean Reproduction Error (ms)"
         }
        }
       }
      },
      "text/html": [
       "<div>                            <div id=\"97d2faf7-e76c-4811-a84e-baca3a053952\" class=\"plotly-graph-div\" style=\"height:500px; width:700px;\"></div>            <script type=\"text/javascript\">                require([\"plotly\"], function(Plotly) {                    window.PLOTLYENV=window.PLOTLYENV || {};                                    if (document.getElementById(\"97d2faf7-e76c-4811-a84e-baca3a053952\")) {                    Plotly.newPlot(                        \"97d2faf7-e76c-4811-a84e-baca3a053952\",                        [{\"error_y\":{\"array\":[],\"type\":\"data\",\"visible\":true},\"line\":{\"width\":2},\"marker\":{\"color\":\"crimson\",\"size\":10},\"mode\":\"markers+lines\",\"name\":\"Mean Error \\u00b1 STD\",\"x\":[],\"y\":[],\"type\":\"scatter\"}],                        {\"height\":500,\"margin\":{\"b\":60,\"l\":80,\"r\":50,\"t\":60},\"plot_bgcolor\":\"white\",\"title\":{\"text\":\"Reproduction Error vs Delay Duration\"},\"width\":700,\"xaxis\":{\"title\":{\"text\":\"Delay Duration (ms)\"},\"showgrid\":true,\"gridcolor\":\"lightgray\"},\"yaxis\":{\"title\":{\"text\":\"Mean Reproduction Error (ms)\"},\"showgrid\":true,\"gridcolor\":\"lightgray\"},\"template\":{\"data\":{\"histogram2dcontour\":[{\"type\":\"histogram2dcontour\",\"colorbar\":{\"outlinewidth\":0,\"ticks\":\"\"},\"colorscale\":[[0.0,\"#0d0887\"],[0.1111111111111111,\"#46039f\"],[0.2222222222222222,\"#7201a8\"],[0.3333333333333333,\"#9c179e\"],[0.4444444444444444,\"#bd3786\"],[0.5555555555555556,\"#d8576b\"],[0.6666666666666666,\"#ed7953\"],[0.7777777777777778,\"#fb9f3a\"],[0.8888888888888888,\"#fdca26\"],[1.0,\"#f0f921\"]]}],\"choropleth\":[{\"type\":\"choropleth\",\"colorbar\":{\"outlinewidth\":0,\"ticks\":\"\"}}],\"histogram2d\":[{\"type\":\"histogram2d\",\"colorbar\":{\"outlinewidth\":0,\"ticks\":\"\"},\"colorscale\":[[0.0,\"#0d0887\"],[0.1111111111111111,\"#46039f\"],[0.2222222222222222,\"#7201a8\"],[0.3333333333333333,\"#9c179e\"],[0.4444444444444444,\"#bd3786\"],[0.5555555555555556,\"#d8576b\"],[0.6666666666666666,\"#ed7953\"],[0.7777777777777778,\"#fb9f3a\"],[0.8888888888888888,\"#fdca26\"],[1.0,\"#f0f921\"]]}],\"heatmap\":[{\"type\":\"heatmap\",\"colorbar\":{\"outlinewidth\":0,\"ticks\":\"\"},\"colorscale\":[[0.0,\"#0d0887\"],[0.1111111111111111,\"#46039f\"],[0.2222222222222222,\"#7201a8\"],[0.3333333333333333,\"#9c179e\"],[0.4444444444444444,\"#bd3786\"],[0.5555555555555556,\"#d8576b\"],[0.6666666666666666,\"#ed7953\"],[0.7777777777777778,\"#fb9f3a\"],[0.8888888888888888,\"#fdca26\"],[1.0,\"#f0f921\"]]}],\"heatmapgl\":[{\"type\":\"heatmapgl\",\"colorbar\":{\"outlinewidth\":0,\"ticks\":\"\"},\"colorscale\":[[0.0,\"#0d0887\"],[0.1111111111111111,\"#46039f\"],[0.2222222222222222,\"#7201a8\"],[0.3333333333333333,\"#9c179e\"],[0.4444444444444444,\"#bd3786\"],[0.5555555555555556,\"#d8576b\"],[0.6666666666666666,\"#ed7953\"],[0.7777777777777778,\"#fb9f3a\"],[0.8888888888888888,\"#fdca26\"],[1.0,\"#f0f921\"]]}],\"contourcarpet\":[{\"type\":\"contourcarpet\",\"colorbar\":{\"outlinewidth\":0,\"ticks\":\"\"}}],\"contour\":[{\"type\":\"contour\",\"colorbar\":{\"outlinewidth\":0,\"ticks\":\"\"},\"colorscale\":[[0.0,\"#0d0887\"],[0.1111111111111111,\"#46039f\"],[0.2222222222222222,\"#7201a8\"],[0.3333333333333333,\"#9c179e\"],[0.4444444444444444,\"#bd3786\"],[0.5555555555555556,\"#d8576b\"],[0.6666666666666666,\"#ed7953\"],[0.7777777777777778,\"#fb9f3a\"],[0.8888888888888888,\"#fdca26\"],[1.0,\"#f0f921\"]]}],\"surface\":[{\"type\":\"surface\",\"colorbar\":{\"outlinewidth\":0,\"ticks\":\"\"},\"colorscale\":[[0.0,\"#0d0887\"],[0.1111111111111111,\"#46039f\"],[0.2222222222222222,\"#7201a8\"],[0.3333333333333333,\"#9c179e\"],[0.4444444444444444,\"#bd3786\"],[0.5555555555555556,\"#d8576b\"],[0.6666666666666666,\"#ed7953\"],[0.7777777777777778,\"#fb9f3a\"],[0.8888888888888888,\"#fdca26\"],[1.0,\"#f0f921\"]]}],\"mesh3d\":[{\"type\":\"mesh3d\",\"colorbar\":{\"outlinewidth\":0,\"ticks\":\"\"}}],\"scatter\":[{\"fillpattern\":{\"fillmode\":\"overlay\",\"size\":10,\"solidity\":0.2},\"type\":\"scatter\"}],\"parcoords\":[{\"type\":\"parcoords\",\"line\":{\"colorbar\":{\"outlinewidth\":0,\"ticks\":\"\"}}}],\"scatterpolargl\":[{\"type\":\"scatterpolargl\",\"marker\":{\"colorbar\":{\"outlinewidth\":0,\"ticks\":\"\"}}}],\"bar\":[{\"error_x\":{\"color\":\"#2a3f5f\"},\"error_y\":{\"color\":\"#2a3f5f\"},\"marker\":{\"line\":{\"color\":\"#E5ECF6\",\"width\":0.5},\"pattern\":{\"fillmode\":\"overlay\",\"size\":10,\"solidity\":0.2}},\"type\":\"bar\"}],\"scattergeo\":[{\"type\":\"scattergeo\",\"marker\":{\"colorbar\":{\"outlinewidth\":0,\"ticks\":\"\"}}}],\"scatterpolar\":[{\"type\":\"scatterpolar\",\"marker\":{\"colorbar\":{\"outlinewidth\":0,\"ticks\":\"\"}}}],\"histogram\":[{\"marker\":{\"pattern\":{\"fillmode\":\"overlay\",\"size\":10,\"solidity\":0.2}},\"type\":\"histogram\"}],\"scattergl\":[{\"type\":\"scattergl\",\"marker\":{\"colorbar\":{\"outlinewidth\":0,\"ticks\":\"\"}}}],\"scatter3d\":[{\"type\":\"scatter3d\",\"line\":{\"colorbar\":{\"outlinewidth\":0,\"ticks\":\"\"}},\"marker\":{\"colorbar\":{\"outlinewidth\":0,\"ticks\":\"\"}}}],\"scattermapbox\":[{\"type\":\"scattermapbox\",\"marker\":{\"colorbar\":{\"outlinewidth\":0,\"ticks\":\"\"}}}],\"scatterternary\":[{\"type\":\"scatterternary\",\"marker\":{\"colorbar\":{\"outlinewidth\":0,\"ticks\":\"\"}}}],\"scattercarpet\":[{\"type\":\"scattercarpet\",\"marker\":{\"colorbar\":{\"outlinewidth\":0,\"ticks\":\"\"}}}],\"carpet\":[{\"aaxis\":{\"endlinecolor\":\"#2a3f5f\",\"gridcolor\":\"white\",\"linecolor\":\"white\",\"minorgridcolor\":\"white\",\"startlinecolor\":\"#2a3f5f\"},\"baxis\":{\"endlinecolor\":\"#2a3f5f\",\"gridcolor\":\"white\",\"linecolor\":\"white\",\"minorgridcolor\":\"white\",\"startlinecolor\":\"#2a3f5f\"},\"type\":\"carpet\"}],\"table\":[{\"cells\":{\"fill\":{\"color\":\"#EBF0F8\"},\"line\":{\"color\":\"white\"}},\"header\":{\"fill\":{\"color\":\"#C8D4E3\"},\"line\":{\"color\":\"white\"}},\"type\":\"table\"}],\"barpolar\":[{\"marker\":{\"line\":{\"color\":\"#E5ECF6\",\"width\":0.5},\"pattern\":{\"fillmode\":\"overlay\",\"size\":10,\"solidity\":0.2}},\"type\":\"barpolar\"}],\"pie\":[{\"automargin\":true,\"type\":\"pie\"}]},\"layout\":{\"autotypenumbers\":\"strict\",\"colorway\":[\"#636efa\",\"#EF553B\",\"#00cc96\",\"#ab63fa\",\"#FFA15A\",\"#19d3f3\",\"#FF6692\",\"#B6E880\",\"#FF97FF\",\"#FECB52\"],\"font\":{\"color\":\"#2a3f5f\"},\"hovermode\":\"closest\",\"hoverlabel\":{\"align\":\"left\"},\"paper_bgcolor\":\"white\",\"plot_bgcolor\":\"#E5ECF6\",\"polar\":{\"bgcolor\":\"#E5ECF6\",\"angularaxis\":{\"gridcolor\":\"white\",\"linecolor\":\"white\",\"ticks\":\"\"},\"radialaxis\":{\"gridcolor\":\"white\",\"linecolor\":\"white\",\"ticks\":\"\"}},\"ternary\":{\"bgcolor\":\"#E5ECF6\",\"aaxis\":{\"gridcolor\":\"white\",\"linecolor\":\"white\",\"ticks\":\"\"},\"baxis\":{\"gridcolor\":\"white\",\"linecolor\":\"white\",\"ticks\":\"\"},\"caxis\":{\"gridcolor\":\"white\",\"linecolor\":\"white\",\"ticks\":\"\"}},\"coloraxis\":{\"colorbar\":{\"outlinewidth\":0,\"ticks\":\"\"}},\"colorscale\":{\"sequential\":[[0.0,\"#0d0887\"],[0.1111111111111111,\"#46039f\"],[0.2222222222222222,\"#7201a8\"],[0.3333333333333333,\"#9c179e\"],[0.4444444444444444,\"#bd3786\"],[0.5555555555555556,\"#d8576b\"],[0.6666666666666666,\"#ed7953\"],[0.7777777777777778,\"#fb9f3a\"],[0.8888888888888888,\"#fdca26\"],[1.0,\"#f0f921\"]],\"sequentialminus\":[[0.0,\"#0d0887\"],[0.1111111111111111,\"#46039f\"],[0.2222222222222222,\"#7201a8\"],[0.3333333333333333,\"#9c179e\"],[0.4444444444444444,\"#bd3786\"],[0.5555555555555556,\"#d8576b\"],[0.6666666666666666,\"#ed7953\"],[0.7777777777777778,\"#fb9f3a\"],[0.8888888888888888,\"#fdca26\"],[1.0,\"#f0f921\"]],\"diverging\":[[0,\"#8e0152\"],[0.1,\"#c51b7d\"],[0.2,\"#de77ae\"],[0.3,\"#f1b6da\"],[0.4,\"#fde0ef\"],[0.5,\"#f7f7f7\"],[0.6,\"#e6f5d0\"],[0.7,\"#b8e186\"],[0.8,\"#7fbc41\"],[0.9,\"#4d9221\"],[1,\"#276419\"]]},\"xaxis\":{\"gridcolor\":\"white\",\"linecolor\":\"white\",\"ticks\":\"\",\"title\":{\"standoff\":15},\"zerolinecolor\":\"white\",\"automargin\":true,\"zerolinewidth\":2},\"yaxis\":{\"gridcolor\":\"white\",\"linecolor\":\"white\",\"ticks\":\"\",\"title\":{\"standoff\":15},\"zerolinecolor\":\"white\",\"automargin\":true,\"zerolinewidth\":2},\"scene\":{\"xaxis\":{\"backgroundcolor\":\"#E5ECF6\",\"gridcolor\":\"white\",\"linecolor\":\"white\",\"showbackground\":true,\"ticks\":\"\",\"zerolinecolor\":\"white\",\"gridwidth\":2},\"yaxis\":{\"backgroundcolor\":\"#E5ECF6\",\"gridcolor\":\"white\",\"linecolor\":\"white\",\"showbackground\":true,\"ticks\":\"\",\"zerolinecolor\":\"white\",\"gridwidth\":2},\"zaxis\":{\"backgroundcolor\":\"#E5ECF6\",\"gridcolor\":\"white\",\"linecolor\":\"white\",\"showbackground\":true,\"ticks\":\"\",\"zerolinecolor\":\"white\",\"gridwidth\":2}},\"shapedefaults\":{\"line\":{\"color\":\"#2a3f5f\"}},\"annotationdefaults\":{\"arrowcolor\":\"#2a3f5f\",\"arrowhead\":0,\"arrowwidth\":1},\"geo\":{\"bgcolor\":\"white\",\"landcolor\":\"#E5ECF6\",\"subunitcolor\":\"white\",\"showland\":true,\"showlakes\":true,\"lakecolor\":\"white\"},\"title\":{\"x\":0.05},\"mapbox\":{\"style\":\"light\"}}}},                        {\"responsive\": true}                    ).then(function(){\n",
       "                            \n",
       "var gd = document.getElementById('97d2faf7-e76c-4811-a84e-baca3a053952');\n",
       "var x = new MutationObserver(function (mutations, observer) {{\n",
       "        var display = window.getComputedStyle(gd).display;\n",
       "        if (!display || display === 'none') {{\n",
       "            console.log([gd, 'removed!']);\n",
       "            Plotly.purge(gd);\n",
       "            observer.disconnect();\n",
       "        }}\n",
       "}});\n",
       "\n",
       "// Listen for the removal of the full notebook cells\n",
       "var notebookContainer = gd.closest('#notebook-container');\n",
       "if (notebookContainer) {{\n",
       "    x.observe(notebookContainer, {childList: true});\n",
       "}}\n",
       "\n",
       "// Listen for the clearing of the current output cell\n",
       "var outputEl = gd.closest('.output');\n",
       "if (outputEl) {{\n",
       "    x.observe(outputEl, {childList: true});\n",
       "}}\n",
       "\n",
       "                        })                };                });            </script>        </div>"
      ]
     },
     "metadata": {},
     "output_type": "display_data"
    }
   ],
   "source": [
    "# --- Error vs Set Duration Plot ---\n",
    "\n",
    "# Compute mean ± std of error per set duration\n",
    "error_summary = go_df.groupby('set_duration')['reproduction_error'].agg(['mean', 'sem', 'count']).reset_index()\n",
    "\n",
    "error_trace = go.Scatter(\n",
    "    x=error_summary['set_duration'],\n",
    "    y=error_summary['mean'],\n",
    "    error_y=dict(\n",
    "        type='data',\n",
    "        array=error_summary['sem'],\n",
    "        visible=True\n",
    "    ),\n",
    "    mode='markers+lines',\n",
    "    marker=dict(size=10, color='crimson'),\n",
    "    line=dict(width=2),\n",
    "    name='Mean Error ± STD'\n",
    ")\n",
    "\n",
    "layout2 = go.Layout(\n",
    "    title='Reproduction Error vs Delay Duration',\n",
    "    xaxis=dict(title='Delay Duration (ms)'),\n",
    "    yaxis=dict(title='Mean Reproduction Error (ms)'),\n",
    "    width=700,\n",
    "    height=500,\n",
    "    margin=dict(l=80, r=50, t=60, b=60),\n",
    "    plot_bgcolor='white'\n",
    ")\n",
    "\n",
    "fig2 = go.Figure(data=[error_trace], layout=layout2)\n",
    "fig2.update_xaxes(showgrid=True, gridcolor='lightgray')\n",
    "fig2.update_yaxes(showgrid=True, gridcolor='lightgray')\n",
    "\n",
    "fig2.show()\n"
   ]
  },
  {
   "cell_type": "markdown",
   "id": "618ebf13",
   "metadata": {},
   "source": [
    "# Error vs Target Interval\n"
   ]
  },
  {
   "cell_type": "code",
   "execution_count": 6,
   "id": "2cf53176",
   "metadata": {},
   "outputs": [
    {
     "data": {
      "application/vnd.plotly.v1+json": {
       "config": {
        "plotlyServerURL": "https://plot.ly"
       },
       "data": [
        {
         "error_y": {
          "array": [
           77.56287771866127,
           69.06430907407088,
           75.64801532242748,
           88.54353247333847,
           121.40140194930582,
           137.39137342916993,
           133.21890016930345,
           198.6314590434736,
           168.87215954030515,
           145.20379930750204,
           126.46265989542559,
           167.35655166325392,
           135.2157819646349,
           73.85276412721984,
           173.48665130729273,
           114.52835277669712
          ],
          "type": "data",
          "visible": true
         },
         "line": {
          "width": 2
         },
         "marker": {
          "color": "crimson",
          "size": 10
         },
         "mode": "markers+lines",
         "name": "Mean Error ± STD",
         "type": "scatter",
         "x": [
          200,
          300,
          400,
          500,
          600,
          700,
          800,
          900,
          1000,
          1100,
          1200,
          1300,
          1400,
          1500,
          1600,
          1700
         ],
         "y": [
          -7,
          14.333333333333334,
          30.2,
          11.428571428571429,
          50.130434782608695,
          65.95833333333333,
          44.333333333333336,
          49.25,
          131.96296296296296,
          148.68,
          81.75,
          102.15384615384616,
          65.15384615384616,
          35.30769230769231,
          56.27272727272727,
          37.92307692307692
         ]
        }
       ],
       "layout": {
        "height": 500,
        "margin": {
         "b": 60,
         "l": 80,
         "r": 50,
         "t": 60
        },
        "plot_bgcolor": "white",
        "template": {
         "data": {
          "bar": [
           {
            "error_x": {
             "color": "#2a3f5f"
            },
            "error_y": {
             "color": "#2a3f5f"
            },
            "marker": {
             "line": {
              "color": "#E5ECF6",
              "width": 0.5
             },
             "pattern": {
              "fillmode": "overlay",
              "size": 10,
              "solidity": 0.2
             }
            },
            "type": "bar"
           }
          ],
          "barpolar": [
           {
            "marker": {
             "line": {
              "color": "#E5ECF6",
              "width": 0.5
             },
             "pattern": {
              "fillmode": "overlay",
              "size": 10,
              "solidity": 0.2
             }
            },
            "type": "barpolar"
           }
          ],
          "carpet": [
           {
            "aaxis": {
             "endlinecolor": "#2a3f5f",
             "gridcolor": "white",
             "linecolor": "white",
             "minorgridcolor": "white",
             "startlinecolor": "#2a3f5f"
            },
            "baxis": {
             "endlinecolor": "#2a3f5f",
             "gridcolor": "white",
             "linecolor": "white",
             "minorgridcolor": "white",
             "startlinecolor": "#2a3f5f"
            },
            "type": "carpet"
           }
          ],
          "choropleth": [
           {
            "colorbar": {
             "outlinewidth": 0,
             "ticks": ""
            },
            "type": "choropleth"
           }
          ],
          "contour": [
           {
            "colorbar": {
             "outlinewidth": 0,
             "ticks": ""
            },
            "colorscale": [
             [
              0,
              "#0d0887"
             ],
             [
              0.1111111111111111,
              "#46039f"
             ],
             [
              0.2222222222222222,
              "#7201a8"
             ],
             [
              0.3333333333333333,
              "#9c179e"
             ],
             [
              0.4444444444444444,
              "#bd3786"
             ],
             [
              0.5555555555555556,
              "#d8576b"
             ],
             [
              0.6666666666666666,
              "#ed7953"
             ],
             [
              0.7777777777777778,
              "#fb9f3a"
             ],
             [
              0.8888888888888888,
              "#fdca26"
             ],
             [
              1,
              "#f0f921"
             ]
            ],
            "type": "contour"
           }
          ],
          "contourcarpet": [
           {
            "colorbar": {
             "outlinewidth": 0,
             "ticks": ""
            },
            "type": "contourcarpet"
           }
          ],
          "heatmap": [
           {
            "colorbar": {
             "outlinewidth": 0,
             "ticks": ""
            },
            "colorscale": [
             [
              0,
              "#0d0887"
             ],
             [
              0.1111111111111111,
              "#46039f"
             ],
             [
              0.2222222222222222,
              "#7201a8"
             ],
             [
              0.3333333333333333,
              "#9c179e"
             ],
             [
              0.4444444444444444,
              "#bd3786"
             ],
             [
              0.5555555555555556,
              "#d8576b"
             ],
             [
              0.6666666666666666,
              "#ed7953"
             ],
             [
              0.7777777777777778,
              "#fb9f3a"
             ],
             [
              0.8888888888888888,
              "#fdca26"
             ],
             [
              1,
              "#f0f921"
             ]
            ],
            "type": "heatmap"
           }
          ],
          "heatmapgl": [
           {
            "colorbar": {
             "outlinewidth": 0,
             "ticks": ""
            },
            "colorscale": [
             [
              0,
              "#0d0887"
             ],
             [
              0.1111111111111111,
              "#46039f"
             ],
             [
              0.2222222222222222,
              "#7201a8"
             ],
             [
              0.3333333333333333,
              "#9c179e"
             ],
             [
              0.4444444444444444,
              "#bd3786"
             ],
             [
              0.5555555555555556,
              "#d8576b"
             ],
             [
              0.6666666666666666,
              "#ed7953"
             ],
             [
              0.7777777777777778,
              "#fb9f3a"
             ],
             [
              0.8888888888888888,
              "#fdca26"
             ],
             [
              1,
              "#f0f921"
             ]
            ],
            "type": "heatmapgl"
           }
          ],
          "histogram": [
           {
            "marker": {
             "pattern": {
              "fillmode": "overlay",
              "size": 10,
              "solidity": 0.2
             }
            },
            "type": "histogram"
           }
          ],
          "histogram2d": [
           {
            "colorbar": {
             "outlinewidth": 0,
             "ticks": ""
            },
            "colorscale": [
             [
              0,
              "#0d0887"
             ],
             [
              0.1111111111111111,
              "#46039f"
             ],
             [
              0.2222222222222222,
              "#7201a8"
             ],
             [
              0.3333333333333333,
              "#9c179e"
             ],
             [
              0.4444444444444444,
              "#bd3786"
             ],
             [
              0.5555555555555556,
              "#d8576b"
             ],
             [
              0.6666666666666666,
              "#ed7953"
             ],
             [
              0.7777777777777778,
              "#fb9f3a"
             ],
             [
              0.8888888888888888,
              "#fdca26"
             ],
             [
              1,
              "#f0f921"
             ]
            ],
            "type": "histogram2d"
           }
          ],
          "histogram2dcontour": [
           {
            "colorbar": {
             "outlinewidth": 0,
             "ticks": ""
            },
            "colorscale": [
             [
              0,
              "#0d0887"
             ],
             [
              0.1111111111111111,
              "#46039f"
             ],
             [
              0.2222222222222222,
              "#7201a8"
             ],
             [
              0.3333333333333333,
              "#9c179e"
             ],
             [
              0.4444444444444444,
              "#bd3786"
             ],
             [
              0.5555555555555556,
              "#d8576b"
             ],
             [
              0.6666666666666666,
              "#ed7953"
             ],
             [
              0.7777777777777778,
              "#fb9f3a"
             ],
             [
              0.8888888888888888,
              "#fdca26"
             ],
             [
              1,
              "#f0f921"
             ]
            ],
            "type": "histogram2dcontour"
           }
          ],
          "mesh3d": [
           {
            "colorbar": {
             "outlinewidth": 0,
             "ticks": ""
            },
            "type": "mesh3d"
           }
          ],
          "parcoords": [
           {
            "line": {
             "colorbar": {
              "outlinewidth": 0,
              "ticks": ""
             }
            },
            "type": "parcoords"
           }
          ],
          "pie": [
           {
            "automargin": true,
            "type": "pie"
           }
          ],
          "scatter": [
           {
            "fillpattern": {
             "fillmode": "overlay",
             "size": 10,
             "solidity": 0.2
            },
            "type": "scatter"
           }
          ],
          "scatter3d": [
           {
            "line": {
             "colorbar": {
              "outlinewidth": 0,
              "ticks": ""
             }
            },
            "marker": {
             "colorbar": {
              "outlinewidth": 0,
              "ticks": ""
             }
            },
            "type": "scatter3d"
           }
          ],
          "scattercarpet": [
           {
            "marker": {
             "colorbar": {
              "outlinewidth": 0,
              "ticks": ""
             }
            },
            "type": "scattercarpet"
           }
          ],
          "scattergeo": [
           {
            "marker": {
             "colorbar": {
              "outlinewidth": 0,
              "ticks": ""
             }
            },
            "type": "scattergeo"
           }
          ],
          "scattergl": [
           {
            "marker": {
             "colorbar": {
              "outlinewidth": 0,
              "ticks": ""
             }
            },
            "type": "scattergl"
           }
          ],
          "scattermapbox": [
           {
            "marker": {
             "colorbar": {
              "outlinewidth": 0,
              "ticks": ""
             }
            },
            "type": "scattermapbox"
           }
          ],
          "scatterpolar": [
           {
            "marker": {
             "colorbar": {
              "outlinewidth": 0,
              "ticks": ""
             }
            },
            "type": "scatterpolar"
           }
          ],
          "scatterpolargl": [
           {
            "marker": {
             "colorbar": {
              "outlinewidth": 0,
              "ticks": ""
             }
            },
            "type": "scatterpolargl"
           }
          ],
          "scatterternary": [
           {
            "marker": {
             "colorbar": {
              "outlinewidth": 0,
              "ticks": ""
             }
            },
            "type": "scatterternary"
           }
          ],
          "surface": [
           {
            "colorbar": {
             "outlinewidth": 0,
             "ticks": ""
            },
            "colorscale": [
             [
              0,
              "#0d0887"
             ],
             [
              0.1111111111111111,
              "#46039f"
             ],
             [
              0.2222222222222222,
              "#7201a8"
             ],
             [
              0.3333333333333333,
              "#9c179e"
             ],
             [
              0.4444444444444444,
              "#bd3786"
             ],
             [
              0.5555555555555556,
              "#d8576b"
             ],
             [
              0.6666666666666666,
              "#ed7953"
             ],
             [
              0.7777777777777778,
              "#fb9f3a"
             ],
             [
              0.8888888888888888,
              "#fdca26"
             ],
             [
              1,
              "#f0f921"
             ]
            ],
            "type": "surface"
           }
          ],
          "table": [
           {
            "cells": {
             "fill": {
              "color": "#EBF0F8"
             },
             "line": {
              "color": "white"
             }
            },
            "header": {
             "fill": {
              "color": "#C8D4E3"
             },
             "line": {
              "color": "white"
             }
            },
            "type": "table"
           }
          ]
         },
         "layout": {
          "annotationdefaults": {
           "arrowcolor": "#2a3f5f",
           "arrowhead": 0,
           "arrowwidth": 1
          },
          "autotypenumbers": "strict",
          "coloraxis": {
           "colorbar": {
            "outlinewidth": 0,
            "ticks": ""
           }
          },
          "colorscale": {
           "diverging": [
            [
             0,
             "#8e0152"
            ],
            [
             0.1,
             "#c51b7d"
            ],
            [
             0.2,
             "#de77ae"
            ],
            [
             0.3,
             "#f1b6da"
            ],
            [
             0.4,
             "#fde0ef"
            ],
            [
             0.5,
             "#f7f7f7"
            ],
            [
             0.6,
             "#e6f5d0"
            ],
            [
             0.7,
             "#b8e186"
            ],
            [
             0.8,
             "#7fbc41"
            ],
            [
             0.9,
             "#4d9221"
            ],
            [
             1,
             "#276419"
            ]
           ],
           "sequential": [
            [
             0,
             "#0d0887"
            ],
            [
             0.1111111111111111,
             "#46039f"
            ],
            [
             0.2222222222222222,
             "#7201a8"
            ],
            [
             0.3333333333333333,
             "#9c179e"
            ],
            [
             0.4444444444444444,
             "#bd3786"
            ],
            [
             0.5555555555555556,
             "#d8576b"
            ],
            [
             0.6666666666666666,
             "#ed7953"
            ],
            [
             0.7777777777777778,
             "#fb9f3a"
            ],
            [
             0.8888888888888888,
             "#fdca26"
            ],
            [
             1,
             "#f0f921"
            ]
           ],
           "sequentialminus": [
            [
             0,
             "#0d0887"
            ],
            [
             0.1111111111111111,
             "#46039f"
            ],
            [
             0.2222222222222222,
             "#7201a8"
            ],
            [
             0.3333333333333333,
             "#9c179e"
            ],
            [
             0.4444444444444444,
             "#bd3786"
            ],
            [
             0.5555555555555556,
             "#d8576b"
            ],
            [
             0.6666666666666666,
             "#ed7953"
            ],
            [
             0.7777777777777778,
             "#fb9f3a"
            ],
            [
             0.8888888888888888,
             "#fdca26"
            ],
            [
             1,
             "#f0f921"
            ]
           ]
          },
          "colorway": [
           "#636efa",
           "#EF553B",
           "#00cc96",
           "#ab63fa",
           "#FFA15A",
           "#19d3f3",
           "#FF6692",
           "#B6E880",
           "#FF97FF",
           "#FECB52"
          ],
          "font": {
           "color": "#2a3f5f"
          },
          "geo": {
           "bgcolor": "white",
           "lakecolor": "white",
           "landcolor": "#E5ECF6",
           "showlakes": true,
           "showland": true,
           "subunitcolor": "white"
          },
          "hoverlabel": {
           "align": "left"
          },
          "hovermode": "closest",
          "mapbox": {
           "style": "light"
          },
          "paper_bgcolor": "white",
          "plot_bgcolor": "#E5ECF6",
          "polar": {
           "angularaxis": {
            "gridcolor": "white",
            "linecolor": "white",
            "ticks": ""
           },
           "bgcolor": "#E5ECF6",
           "radialaxis": {
            "gridcolor": "white",
            "linecolor": "white",
            "ticks": ""
           }
          },
          "scene": {
           "xaxis": {
            "backgroundcolor": "#E5ECF6",
            "gridcolor": "white",
            "gridwidth": 2,
            "linecolor": "white",
            "showbackground": true,
            "ticks": "",
            "zerolinecolor": "white"
           },
           "yaxis": {
            "backgroundcolor": "#E5ECF6",
            "gridcolor": "white",
            "gridwidth": 2,
            "linecolor": "white",
            "showbackground": true,
            "ticks": "",
            "zerolinecolor": "white"
           },
           "zaxis": {
            "backgroundcolor": "#E5ECF6",
            "gridcolor": "white",
            "gridwidth": 2,
            "linecolor": "white",
            "showbackground": true,
            "ticks": "",
            "zerolinecolor": "white"
           }
          },
          "shapedefaults": {
           "line": {
            "color": "#2a3f5f"
           }
          },
          "ternary": {
           "aaxis": {
            "gridcolor": "white",
            "linecolor": "white",
            "ticks": ""
           },
           "baxis": {
            "gridcolor": "white",
            "linecolor": "white",
            "ticks": ""
           },
           "bgcolor": "#E5ECF6",
           "caxis": {
            "gridcolor": "white",
            "linecolor": "white",
            "ticks": ""
           }
          },
          "title": {
           "x": 0.05
          },
          "xaxis": {
           "automargin": true,
           "gridcolor": "white",
           "linecolor": "white",
           "ticks": "",
           "title": {
            "standoff": 15
           },
           "zerolinecolor": "white",
           "zerolinewidth": 2
          },
          "yaxis": {
           "automargin": true,
           "gridcolor": "white",
           "linecolor": "white",
           "ticks": "",
           "title": {
            "standoff": 15
           },
           "zerolinecolor": "white",
           "zerolinewidth": 2
          }
         }
        },
        "title": {
         "text": "Reproduction Error vs target_interval"
        },
        "width": 700,
        "xaxis": {
         "gridcolor": "lightgray",
         "showgrid": true,
         "title": {
          "text": "target_interval (ms)"
         }
        },
        "yaxis": {
         "gridcolor": "lightgray",
         "showgrid": true,
         "title": {
          "text": "Mean Reproduction Error (ms)"
         }
        }
       }
      },
      "text/html": [
       "<div>                            <div id=\"151a1f40-1abd-4fe4-9c8f-14d47e2e7896\" class=\"plotly-graph-div\" style=\"height:500px; width:700px;\"></div>            <script type=\"text/javascript\">                require([\"plotly\"], function(Plotly) {                    window.PLOTLYENV=window.PLOTLYENV || {};                                    if (document.getElementById(\"151a1f40-1abd-4fe4-9c8f-14d47e2e7896\")) {                    Plotly.newPlot(                        \"151a1f40-1abd-4fe4-9c8f-14d47e2e7896\",                        [{\"error_y\":{\"array\":[77.56287771866127,69.06430907407088,75.64801532242748,88.54353247333847,121.40140194930582,137.39137342916993,133.21890016930345,198.6314590434736,168.87215954030515,145.20379930750204,126.46265989542559,167.35655166325392,135.2157819646349,73.85276412721984,173.48665130729273,114.52835277669712],\"type\":\"data\",\"visible\":true},\"line\":{\"width\":2},\"marker\":{\"color\":\"crimson\",\"size\":10},\"mode\":\"markers+lines\",\"name\":\"Mean Error \\u00b1 STD\",\"x\":[200.0,300.0,400.0,500.0,600.0,700.0,800.0,900.0,1000.0,1100.0,1200.0,1300.0,1400.0,1500.0,1600.0,1700.0],\"y\":[-7.0,14.333333333333334,30.2,11.428571428571429,50.130434782608695,65.95833333333333,44.333333333333336,49.25,131.96296296296296,148.68,81.75,102.15384615384616,65.15384615384616,35.30769230769231,56.27272727272727,37.92307692307692],\"type\":\"scatter\"}],                        {\"height\":500,\"margin\":{\"b\":60,\"l\":80,\"r\":50,\"t\":60},\"plot_bgcolor\":\"white\",\"title\":{\"text\":\"Reproduction Error vs target_interval\"},\"width\":700,\"xaxis\":{\"title\":{\"text\":\"target_interval (ms)\"},\"showgrid\":true,\"gridcolor\":\"lightgray\"},\"yaxis\":{\"title\":{\"text\":\"Mean Reproduction Error (ms)\"},\"showgrid\":true,\"gridcolor\":\"lightgray\"},\"template\":{\"data\":{\"histogram2dcontour\":[{\"type\":\"histogram2dcontour\",\"colorbar\":{\"outlinewidth\":0,\"ticks\":\"\"},\"colorscale\":[[0.0,\"#0d0887\"],[0.1111111111111111,\"#46039f\"],[0.2222222222222222,\"#7201a8\"],[0.3333333333333333,\"#9c179e\"],[0.4444444444444444,\"#bd3786\"],[0.5555555555555556,\"#d8576b\"],[0.6666666666666666,\"#ed7953\"],[0.7777777777777778,\"#fb9f3a\"],[0.8888888888888888,\"#fdca26\"],[1.0,\"#f0f921\"]]}],\"choropleth\":[{\"type\":\"choropleth\",\"colorbar\":{\"outlinewidth\":0,\"ticks\":\"\"}}],\"histogram2d\":[{\"type\":\"histogram2d\",\"colorbar\":{\"outlinewidth\":0,\"ticks\":\"\"},\"colorscale\":[[0.0,\"#0d0887\"],[0.1111111111111111,\"#46039f\"],[0.2222222222222222,\"#7201a8\"],[0.3333333333333333,\"#9c179e\"],[0.4444444444444444,\"#bd3786\"],[0.5555555555555556,\"#d8576b\"],[0.6666666666666666,\"#ed7953\"],[0.7777777777777778,\"#fb9f3a\"],[0.8888888888888888,\"#fdca26\"],[1.0,\"#f0f921\"]]}],\"heatmap\":[{\"type\":\"heatmap\",\"colorbar\":{\"outlinewidth\":0,\"ticks\":\"\"},\"colorscale\":[[0.0,\"#0d0887\"],[0.1111111111111111,\"#46039f\"],[0.2222222222222222,\"#7201a8\"],[0.3333333333333333,\"#9c179e\"],[0.4444444444444444,\"#bd3786\"],[0.5555555555555556,\"#d8576b\"],[0.6666666666666666,\"#ed7953\"],[0.7777777777777778,\"#fb9f3a\"],[0.8888888888888888,\"#fdca26\"],[1.0,\"#f0f921\"]]}],\"heatmapgl\":[{\"type\":\"heatmapgl\",\"colorbar\":{\"outlinewidth\":0,\"ticks\":\"\"},\"colorscale\":[[0.0,\"#0d0887\"],[0.1111111111111111,\"#46039f\"],[0.2222222222222222,\"#7201a8\"],[0.3333333333333333,\"#9c179e\"],[0.4444444444444444,\"#bd3786\"],[0.5555555555555556,\"#d8576b\"],[0.6666666666666666,\"#ed7953\"],[0.7777777777777778,\"#fb9f3a\"],[0.8888888888888888,\"#fdca26\"],[1.0,\"#f0f921\"]]}],\"contourcarpet\":[{\"type\":\"contourcarpet\",\"colorbar\":{\"outlinewidth\":0,\"ticks\":\"\"}}],\"contour\":[{\"type\":\"contour\",\"colorbar\":{\"outlinewidth\":0,\"ticks\":\"\"},\"colorscale\":[[0.0,\"#0d0887\"],[0.1111111111111111,\"#46039f\"],[0.2222222222222222,\"#7201a8\"],[0.3333333333333333,\"#9c179e\"],[0.4444444444444444,\"#bd3786\"],[0.5555555555555556,\"#d8576b\"],[0.6666666666666666,\"#ed7953\"],[0.7777777777777778,\"#fb9f3a\"],[0.8888888888888888,\"#fdca26\"],[1.0,\"#f0f921\"]]}],\"surface\":[{\"type\":\"surface\",\"colorbar\":{\"outlinewidth\":0,\"ticks\":\"\"},\"colorscale\":[[0.0,\"#0d0887\"],[0.1111111111111111,\"#46039f\"],[0.2222222222222222,\"#7201a8\"],[0.3333333333333333,\"#9c179e\"],[0.4444444444444444,\"#bd3786\"],[0.5555555555555556,\"#d8576b\"],[0.6666666666666666,\"#ed7953\"],[0.7777777777777778,\"#fb9f3a\"],[0.8888888888888888,\"#fdca26\"],[1.0,\"#f0f921\"]]}],\"mesh3d\":[{\"type\":\"mesh3d\",\"colorbar\":{\"outlinewidth\":0,\"ticks\":\"\"}}],\"scatter\":[{\"fillpattern\":{\"fillmode\":\"overlay\",\"size\":10,\"solidity\":0.2},\"type\":\"scatter\"}],\"parcoords\":[{\"type\":\"parcoords\",\"line\":{\"colorbar\":{\"outlinewidth\":0,\"ticks\":\"\"}}}],\"scatterpolargl\":[{\"type\":\"scatterpolargl\",\"marker\":{\"colorbar\":{\"outlinewidth\":0,\"ticks\":\"\"}}}],\"bar\":[{\"error_x\":{\"color\":\"#2a3f5f\"},\"error_y\":{\"color\":\"#2a3f5f\"},\"marker\":{\"line\":{\"color\":\"#E5ECF6\",\"width\":0.5},\"pattern\":{\"fillmode\":\"overlay\",\"size\":10,\"solidity\":0.2}},\"type\":\"bar\"}],\"scattergeo\":[{\"type\":\"scattergeo\",\"marker\":{\"colorbar\":{\"outlinewidth\":0,\"ticks\":\"\"}}}],\"scatterpolar\":[{\"type\":\"scatterpolar\",\"marker\":{\"colorbar\":{\"outlinewidth\":0,\"ticks\":\"\"}}}],\"histogram\":[{\"marker\":{\"pattern\":{\"fillmode\":\"overlay\",\"size\":10,\"solidity\":0.2}},\"type\":\"histogram\"}],\"scattergl\":[{\"type\":\"scattergl\",\"marker\":{\"colorbar\":{\"outlinewidth\":0,\"ticks\":\"\"}}}],\"scatter3d\":[{\"type\":\"scatter3d\",\"line\":{\"colorbar\":{\"outlinewidth\":0,\"ticks\":\"\"}},\"marker\":{\"colorbar\":{\"outlinewidth\":0,\"ticks\":\"\"}}}],\"scattermapbox\":[{\"type\":\"scattermapbox\",\"marker\":{\"colorbar\":{\"outlinewidth\":0,\"ticks\":\"\"}}}],\"scatterternary\":[{\"type\":\"scatterternary\",\"marker\":{\"colorbar\":{\"outlinewidth\":0,\"ticks\":\"\"}}}],\"scattercarpet\":[{\"type\":\"scattercarpet\",\"marker\":{\"colorbar\":{\"outlinewidth\":0,\"ticks\":\"\"}}}],\"carpet\":[{\"aaxis\":{\"endlinecolor\":\"#2a3f5f\",\"gridcolor\":\"white\",\"linecolor\":\"white\",\"minorgridcolor\":\"white\",\"startlinecolor\":\"#2a3f5f\"},\"baxis\":{\"endlinecolor\":\"#2a3f5f\",\"gridcolor\":\"white\",\"linecolor\":\"white\",\"minorgridcolor\":\"white\",\"startlinecolor\":\"#2a3f5f\"},\"type\":\"carpet\"}],\"table\":[{\"cells\":{\"fill\":{\"color\":\"#EBF0F8\"},\"line\":{\"color\":\"white\"}},\"header\":{\"fill\":{\"color\":\"#C8D4E3\"},\"line\":{\"color\":\"white\"}},\"type\":\"table\"}],\"barpolar\":[{\"marker\":{\"line\":{\"color\":\"#E5ECF6\",\"width\":0.5},\"pattern\":{\"fillmode\":\"overlay\",\"size\":10,\"solidity\":0.2}},\"type\":\"barpolar\"}],\"pie\":[{\"automargin\":true,\"type\":\"pie\"}]},\"layout\":{\"autotypenumbers\":\"strict\",\"colorway\":[\"#636efa\",\"#EF553B\",\"#00cc96\",\"#ab63fa\",\"#FFA15A\",\"#19d3f3\",\"#FF6692\",\"#B6E880\",\"#FF97FF\",\"#FECB52\"],\"font\":{\"color\":\"#2a3f5f\"},\"hovermode\":\"closest\",\"hoverlabel\":{\"align\":\"left\"},\"paper_bgcolor\":\"white\",\"plot_bgcolor\":\"#E5ECF6\",\"polar\":{\"bgcolor\":\"#E5ECF6\",\"angularaxis\":{\"gridcolor\":\"white\",\"linecolor\":\"white\",\"ticks\":\"\"},\"radialaxis\":{\"gridcolor\":\"white\",\"linecolor\":\"white\",\"ticks\":\"\"}},\"ternary\":{\"bgcolor\":\"#E5ECF6\",\"aaxis\":{\"gridcolor\":\"white\",\"linecolor\":\"white\",\"ticks\":\"\"},\"baxis\":{\"gridcolor\":\"white\",\"linecolor\":\"white\",\"ticks\":\"\"},\"caxis\":{\"gridcolor\":\"white\",\"linecolor\":\"white\",\"ticks\":\"\"}},\"coloraxis\":{\"colorbar\":{\"outlinewidth\":0,\"ticks\":\"\"}},\"colorscale\":{\"sequential\":[[0.0,\"#0d0887\"],[0.1111111111111111,\"#46039f\"],[0.2222222222222222,\"#7201a8\"],[0.3333333333333333,\"#9c179e\"],[0.4444444444444444,\"#bd3786\"],[0.5555555555555556,\"#d8576b\"],[0.6666666666666666,\"#ed7953\"],[0.7777777777777778,\"#fb9f3a\"],[0.8888888888888888,\"#fdca26\"],[1.0,\"#f0f921\"]],\"sequentialminus\":[[0.0,\"#0d0887\"],[0.1111111111111111,\"#46039f\"],[0.2222222222222222,\"#7201a8\"],[0.3333333333333333,\"#9c179e\"],[0.4444444444444444,\"#bd3786\"],[0.5555555555555556,\"#d8576b\"],[0.6666666666666666,\"#ed7953\"],[0.7777777777777778,\"#fb9f3a\"],[0.8888888888888888,\"#fdca26\"],[1.0,\"#f0f921\"]],\"diverging\":[[0,\"#8e0152\"],[0.1,\"#c51b7d\"],[0.2,\"#de77ae\"],[0.3,\"#f1b6da\"],[0.4,\"#fde0ef\"],[0.5,\"#f7f7f7\"],[0.6,\"#e6f5d0\"],[0.7,\"#b8e186\"],[0.8,\"#7fbc41\"],[0.9,\"#4d9221\"],[1,\"#276419\"]]},\"xaxis\":{\"gridcolor\":\"white\",\"linecolor\":\"white\",\"ticks\":\"\",\"title\":{\"standoff\":15},\"zerolinecolor\":\"white\",\"automargin\":true,\"zerolinewidth\":2},\"yaxis\":{\"gridcolor\":\"white\",\"linecolor\":\"white\",\"ticks\":\"\",\"title\":{\"standoff\":15},\"zerolinecolor\":\"white\",\"automargin\":true,\"zerolinewidth\":2},\"scene\":{\"xaxis\":{\"backgroundcolor\":\"#E5ECF6\",\"gridcolor\":\"white\",\"linecolor\":\"white\",\"showbackground\":true,\"ticks\":\"\",\"zerolinecolor\":\"white\",\"gridwidth\":2},\"yaxis\":{\"backgroundcolor\":\"#E5ECF6\",\"gridcolor\":\"white\",\"linecolor\":\"white\",\"showbackground\":true,\"ticks\":\"\",\"zerolinecolor\":\"white\",\"gridwidth\":2},\"zaxis\":{\"backgroundcolor\":\"#E5ECF6\",\"gridcolor\":\"white\",\"linecolor\":\"white\",\"showbackground\":true,\"ticks\":\"\",\"zerolinecolor\":\"white\",\"gridwidth\":2}},\"shapedefaults\":{\"line\":{\"color\":\"#2a3f5f\"}},\"annotationdefaults\":{\"arrowcolor\":\"#2a3f5f\",\"arrowhead\":0,\"arrowwidth\":1},\"geo\":{\"bgcolor\":\"white\",\"landcolor\":\"#E5ECF6\",\"subunitcolor\":\"white\",\"showland\":true,\"showlakes\":true,\"lakecolor\":\"white\"},\"title\":{\"x\":0.05},\"mapbox\":{\"style\":\"light\"}}}},                        {\"responsive\": true}                    ).then(function(){\n",
       "                            \n",
       "var gd = document.getElementById('151a1f40-1abd-4fe4-9c8f-14d47e2e7896');\n",
       "var x = new MutationObserver(function (mutations, observer) {{\n",
       "        var display = window.getComputedStyle(gd).display;\n",
       "        if (!display || display === 'none') {{\n",
       "            console.log([gd, 'removed!']);\n",
       "            Plotly.purge(gd);\n",
       "            observer.disconnect();\n",
       "        }}\n",
       "}});\n",
       "\n",
       "// Listen for the removal of the full notebook cells\n",
       "var notebookContainer = gd.closest('#notebook-container');\n",
       "if (notebookContainer) {{\n",
       "    x.observe(notebookContainer, {childList: true});\n",
       "}}\n",
       "\n",
       "// Listen for the clearing of the current output cell\n",
       "var outputEl = gd.closest('.output');\n",
       "if (outputEl) {{\n",
       "    x.observe(outputEl, {childList: true});\n",
       "}}\n",
       "\n",
       "                        })                };                });            </script>        </div>"
      ]
     },
     "metadata": {},
     "output_type": "display_data"
    }
   ],
   "source": [
    "\n",
    "# Compute mean ± std of error per Target Interval\n",
    "error_summary = go_df.groupby('target_interval')['reproduction_error'].agg(['mean', 'std', 'count']).reset_index()\n",
    "\n",
    "error_trace = go.Scatter(\n",
    "    x=error_summary['target_interval'],\n",
    "    y=error_summary['mean'],\n",
    "    error_y=dict(\n",
    "        type='data',\n",
    "        array=error_summary['std'],\n",
    "        visible=True\n",
    "    ),\n",
    "    mode='markers+lines',\n",
    "    marker=dict(size=10, color='crimson'),\n",
    "    line=dict(width=2),\n",
    "    name='Mean Error ± STD'\n",
    ")\n",
    "\n",
    "layout2 = go.Layout(\n",
    "    title='Reproduction Error vs target_interval',\n",
    "    xaxis=dict(title='target_interval (ms)'),\n",
    "    yaxis=dict(title='Mean Reproduction Error (ms)'),\n",
    "    width=700,\n",
    "    height=500,\n",
    "    margin=dict(l=80, r=50, t=60, b=60),\n",
    "    plot_bgcolor='white'\n",
    ")\n",
    "\n",
    "fig2 = go.Figure(data=[error_trace], layout=layout2)\n",
    "fig2.update_xaxes(showgrid=True, gridcolor='lightgray')\n",
    "fig2.update_yaxes(showgrid=True, gridcolor='lightgray')\n",
    "\n",
    "fig2.show()\n"
   ]
  },
  {
   "cell_type": "markdown",
   "id": "bce9e422",
   "metadata": {},
   "source": [
    "# Error vs Target Interval (split by delay)"
   ]
  },
  {
   "cell_type": "code",
   "execution_count": 14,
   "id": "43e9630f",
   "metadata": {},
   "outputs": [
    {
     "data": {
      "application/vnd.plotly.v1+json": {
       "config": {
        "plotlyServerURL": "https://plot.ly"
       },
       "data": [
        {
         "legendgroup": "500.0",
         "marker": {
          "color": "#fdc38d",
          "opacity": 0.5,
          "size": 6,
          "symbol": "circle-open"
         },
         "mode": "markers",
         "name": "500.0 ms (trials)",
         "showlegend": false,
         "type": "scatter",
         "x": [
          1180,
          200,
          1180,
          530,
          200,
          530,
          530,
          1180,
          200,
          200,
          200,
          850,
          200,
          1500,
          530,
          1500,
          850,
          1180,
          1500,
          1180,
          1500,
          200,
          1180,
          1180,
          530,
          200,
          1500,
          200,
          200,
          850,
          200,
          850,
          530,
          850,
          530,
          1500,
          1500,
          1500,
          1180,
          530,
          1500,
          1500,
          850,
          1180,
          200,
          530,
          1500,
          200,
          200,
          200,
          200,
          1180,
          530,
          530,
          530,
          850,
          1500,
          200,
          1500,
          200,
          850,
          530,
          200,
          1500,
          200,
          1180,
          1180,
          1500,
          200,
          200,
          850,
          1180,
          530,
          200,
          530,
          1180,
          850,
          850,
          1180,
          1180,
          1180
         ],
         "y": [
          -310,
          -135,
          -340,
          -130,
          43,
          50,
          121,
          -202,
          638,
          121,
          116,
          48,
          88,
          -429,
          -85,
          -452,
          -213,
          -11,
          -298,
          28,
          -270,
          31,
          -152,
          -62,
          -5,
          108,
          -515,
          110,
          -7,
          -358,
          28,
          120,
          394,
          -96,
          227,
          -365,
          -183,
          -97,
          -124,
          59,
          -18,
          93,
          215,
          111,
          46,
          300,
          -89,
          111,
          68,
          3,
          21,
          -40,
          41,
          67,
          0,
          24,
          -235,
          131,
          -389,
          83,
          5,
          67,
          49,
          -142,
          63,
          -23,
          -20,
          -609,
          76,
          157,
          -12,
          6,
          91,
          218,
          49,
          -196,
          -71,
          -205,
          -166,
          -80,
          -389
         ]
        },
        {
         "legendgroup": "1000.0",
         "marker": {
          "color": "#e7533a",
          "opacity": 0.5,
          "size": 6,
          "symbol": "circle-open"
         },
         "mode": "markers",
         "name": "1000.0 ms (trials)",
         "showlegend": false,
         "type": "scatter",
         "x": [
          530,
          200,
          530,
          1180,
          200,
          1500,
          850,
          200,
          530,
          1180,
          1500,
          200,
          530,
          1180,
          530,
          1180,
          850,
          1500,
          850,
          1180,
          1500,
          1500,
          850,
          1180,
          850,
          1180,
          200,
          850,
          1500,
          1500,
          1180,
          530,
          200,
          200,
          200,
          1500,
          200,
          850,
          530,
          850,
          850,
          850,
          1500,
          200,
          850,
          530,
          1180,
          200,
          1180,
          1180,
          850,
          530,
          850,
          850,
          1180,
          200,
          200,
          1180,
          1500,
          530,
          1180,
          1500,
          1500,
          530,
          1500,
          1180,
          1180,
          530,
          850,
          530,
          530,
          200,
          1180,
          200,
          1180,
          530,
          1500,
          200,
          1500,
          1500,
          1500,
          530,
          530,
          200,
          200,
          1500,
          850,
          200,
          1180,
          1500,
          850,
          1500,
          850,
          1500,
          1180,
          850,
          530,
          1500,
          1500,
          1500,
          1500,
          1500,
          200,
          1500,
          1500,
          200,
          1500,
          1500,
          1180,
          200,
          530,
          1180,
          1180,
          1500
         ],
         "y": [
          85,
          26,
          -69,
          -358,
          75,
          -459,
          148,
          -66,
          -76,
          -401,
          -133,
          78,
          -91,
          -94,
          657,
          -124,
          47,
          -39,
          -193,
          148,
          -411,
          -199,
          331,
          64,
          175,
          173,
          102,
          306,
          -362,
          -571,
          -414,
          104,
          85,
          152,
          200,
          -444,
          75,
          -157,
          43,
          144,
          -109,
          -80,
          -620,
          38,
          172,
          190,
          -343,
          80,
          -118,
          281,
          471,
          350,
          163,
          -77,
          -170,
          124,
          186,
          -20,
          -192,
          327,
          102,
          -175,
          -183,
          165,
          -206,
          289,
          120,
          228,
          88,
          325,
          100,
          8,
          -172,
          157,
          -129,
          -95,
          -601,
          112,
          -81,
          -211,
          -696,
          285,
          551,
          601,
          303,
          -354,
          75,
          131,
          -131,
          -281,
          -141,
          -378,
          -180,
          -299,
          62,
          63,
          2,
          -294,
          -365,
          -452,
          -421,
          -477,
          73,
          -572,
          -360,
          157,
          -544,
          -435,
          -76,
          34,
          149,
          -127,
          -106,
          -381
         ]
        },
        {
         "legendgroup": "1500.0",
         "marker": {
          "color": "#7f0000",
          "opacity": 0.5,
          "size": 6,
          "symbol": "circle-open"
         },
         "mode": "markers",
         "name": "1500.0 ms (trials)",
         "showlegend": false,
         "type": "scatter",
         "x": [
          850,
          1500,
          200,
          530,
          850,
          200,
          200,
          200,
          850,
          530,
          200,
          850,
          530,
          850,
          1180,
          200,
          1180,
          1500,
          530,
          1500,
          530,
          850,
          530,
          200,
          530,
          200,
          1500,
          1500,
          530,
          200,
          200,
          850,
          530,
          200,
          200,
          530,
          850,
          850,
          850,
          850,
          1180,
          200,
          200,
          850,
          530,
          1500,
          1180,
          200,
          850,
          530,
          850,
          1180,
          1500,
          200,
          1500,
          1180,
          200,
          850,
          200,
          200,
          530,
          1500,
          850,
          200,
          530,
          530,
          1500,
          530,
          850,
          1180,
          200,
          850,
          850,
          1500,
          200,
          850,
          1180,
          850,
          1500,
          200,
          850,
          200,
          530,
          1500,
          530,
          1500,
          850,
          530,
          530,
          530,
          1180,
          530,
          200,
          1180,
          1500,
          1180,
          530,
          200,
          850,
          530,
          850,
          1180,
          200,
          850,
          850
         ],
         "y": [
          137,
          -53,
          91,
          73,
          -412,
          -133,
          94,
          41,
          -119,
          136,
          360,
          170,
          -143,
          -19,
          -299,
          173,
          -38,
          -490,
          -151,
          33,
          -62,
          -360,
          -109,
          21,
          173,
          242,
          -145,
          -224,
          295,
          89,
          941,
          243,
          88,
          84,
          88,
          90,
          134,
          76,
          -209,
          -221,
          -628,
          26,
          32,
          -222,
          -134,
          -519,
          -272,
          142,
          249,
          73,
          -374,
          -146,
          -156,
          161,
          -174,
          190,
          113,
          -171,
          227,
          80,
          76,
          -154,
          266,
          205,
          106,
          75,
          -228,
          197,
          261,
          44,
          39,
          84,
          -38,
          -385,
          -6,
          1047,
          105,
          171,
          -442,
          78,
          -67,
          62,
          195,
          -664,
          -29,
          -292,
          183,
          -26,
          2359,
          -45,
          -197,
          38,
          25,
          -236,
          -104,
          -319,
          554,
          111,
          -460,
          -102,
          -128,
          -217,
          67,
          31,
          -96
         ]
        },
        {
         "error_y": {
          "array": [
           136.8854718772858,
           136.11364299556385,
           163.3047903322329,
           138.29853684734937,
           196.44732724308668
          ],
          "type": "data",
          "visible": true
         },
         "legendgroup": "500.0",
         "line": {
          "color": "#fdc38d",
          "width": 2
         },
         "marker": {
          "color": "#fdc38d",
          "size": 8
         },
         "mode": "lines+markers",
         "name": "500.0 ms (mean)",
         "type": "scatter",
         "x": [
          200,
          530,
          850,
          1180,
          1500
         ],
         "y": [
          94.21739130434783,
          83.06666666666666,
          -49.36363636363637,
          -115.88235294117646,
          -266.53333333333336
         ]
        },
        {
         "error_y": {
          "array": [
           131.01446501547088,
           210.51207407969105,
           187.1839011921086,
           200.61072760852184,
           165.93052698327165
          ],
          "type": "data",
          "visible": true
         },
         "legendgroup": "1000.0",
         "line": {
          "color": "#e7533a",
          "width": 2
         },
         "marker": {
          "color": "#e7533a",
          "size": 8
         },
         "mode": "lines+markers",
         "name": "1000.0 ms (mean)",
         "type": "scatter",
         "x": [
          200,
          530,
          850,
          1180,
          1500
         ],
         "y": [
          124.13636363636364,
          170,
          65.57894736842105,
          -67.1304347826087,
          -361.16129032258067
         ]
        },
        {
         "error_y": {
          "array": [
           187.190839135921,
           495.49136606058,
           301.6177322543494,
           220.5909933873919,
           194.63697588318715
          ],
          "type": "data",
          "visible": true
         },
         "legendgroup": "1500.0",
         "line": {
          "color": "#7f0000",
          "width": 2
         },
         "marker": {
          "color": "#7f0000",
          "size": 8
         },
         "mode": "lines+markers",
         "name": "1500.0 ms (mean)",
         "type": "scatter",
         "x": [
          200,
          530,
          850,
          1180,
          1500
         ],
         "y": [
          127.88888888888889,
          155.29166666666666,
          5.777777777777778,
          -167.75,
          -266.46666666666664
         ]
        }
       ],
       "layout": {
        "height": 550,
        "legend": {
         "title": {
          "text": "Set Duration"
         }
        },
        "plot_bgcolor": "white",
        "template": {
         "data": {
          "bar": [
           {
            "error_x": {
             "color": "#2a3f5f"
            },
            "error_y": {
             "color": "#2a3f5f"
            },
            "marker": {
             "line": {
              "color": "#E5ECF6",
              "width": 0.5
             },
             "pattern": {
              "fillmode": "overlay",
              "size": 10,
              "solidity": 0.2
             }
            },
            "type": "bar"
           }
          ],
          "barpolar": [
           {
            "marker": {
             "line": {
              "color": "#E5ECF6",
              "width": 0.5
             },
             "pattern": {
              "fillmode": "overlay",
              "size": 10,
              "solidity": 0.2
             }
            },
            "type": "barpolar"
           }
          ],
          "carpet": [
           {
            "aaxis": {
             "endlinecolor": "#2a3f5f",
             "gridcolor": "white",
             "linecolor": "white",
             "minorgridcolor": "white",
             "startlinecolor": "#2a3f5f"
            },
            "baxis": {
             "endlinecolor": "#2a3f5f",
             "gridcolor": "white",
             "linecolor": "white",
             "minorgridcolor": "white",
             "startlinecolor": "#2a3f5f"
            },
            "type": "carpet"
           }
          ],
          "choropleth": [
           {
            "colorbar": {
             "outlinewidth": 0,
             "ticks": ""
            },
            "type": "choropleth"
           }
          ],
          "contour": [
           {
            "colorbar": {
             "outlinewidth": 0,
             "ticks": ""
            },
            "colorscale": [
             [
              0,
              "#0d0887"
             ],
             [
              0.1111111111111111,
              "#46039f"
             ],
             [
              0.2222222222222222,
              "#7201a8"
             ],
             [
              0.3333333333333333,
              "#9c179e"
             ],
             [
              0.4444444444444444,
              "#bd3786"
             ],
             [
              0.5555555555555556,
              "#d8576b"
             ],
             [
              0.6666666666666666,
              "#ed7953"
             ],
             [
              0.7777777777777778,
              "#fb9f3a"
             ],
             [
              0.8888888888888888,
              "#fdca26"
             ],
             [
              1,
              "#f0f921"
             ]
            ],
            "type": "contour"
           }
          ],
          "contourcarpet": [
           {
            "colorbar": {
             "outlinewidth": 0,
             "ticks": ""
            },
            "type": "contourcarpet"
           }
          ],
          "heatmap": [
           {
            "colorbar": {
             "outlinewidth": 0,
             "ticks": ""
            },
            "colorscale": [
             [
              0,
              "#0d0887"
             ],
             [
              0.1111111111111111,
              "#46039f"
             ],
             [
              0.2222222222222222,
              "#7201a8"
             ],
             [
              0.3333333333333333,
              "#9c179e"
             ],
             [
              0.4444444444444444,
              "#bd3786"
             ],
             [
              0.5555555555555556,
              "#d8576b"
             ],
             [
              0.6666666666666666,
              "#ed7953"
             ],
             [
              0.7777777777777778,
              "#fb9f3a"
             ],
             [
              0.8888888888888888,
              "#fdca26"
             ],
             [
              1,
              "#f0f921"
             ]
            ],
            "type": "heatmap"
           }
          ],
          "heatmapgl": [
           {
            "colorbar": {
             "outlinewidth": 0,
             "ticks": ""
            },
            "colorscale": [
             [
              0,
              "#0d0887"
             ],
             [
              0.1111111111111111,
              "#46039f"
             ],
             [
              0.2222222222222222,
              "#7201a8"
             ],
             [
              0.3333333333333333,
              "#9c179e"
             ],
             [
              0.4444444444444444,
              "#bd3786"
             ],
             [
              0.5555555555555556,
              "#d8576b"
             ],
             [
              0.6666666666666666,
              "#ed7953"
             ],
             [
              0.7777777777777778,
              "#fb9f3a"
             ],
             [
              0.8888888888888888,
              "#fdca26"
             ],
             [
              1,
              "#f0f921"
             ]
            ],
            "type": "heatmapgl"
           }
          ],
          "histogram": [
           {
            "marker": {
             "pattern": {
              "fillmode": "overlay",
              "size": 10,
              "solidity": 0.2
             }
            },
            "type": "histogram"
           }
          ],
          "histogram2d": [
           {
            "colorbar": {
             "outlinewidth": 0,
             "ticks": ""
            },
            "colorscale": [
             [
              0,
              "#0d0887"
             ],
             [
              0.1111111111111111,
              "#46039f"
             ],
             [
              0.2222222222222222,
              "#7201a8"
             ],
             [
              0.3333333333333333,
              "#9c179e"
             ],
             [
              0.4444444444444444,
              "#bd3786"
             ],
             [
              0.5555555555555556,
              "#d8576b"
             ],
             [
              0.6666666666666666,
              "#ed7953"
             ],
             [
              0.7777777777777778,
              "#fb9f3a"
             ],
             [
              0.8888888888888888,
              "#fdca26"
             ],
             [
              1,
              "#f0f921"
             ]
            ],
            "type": "histogram2d"
           }
          ],
          "histogram2dcontour": [
           {
            "colorbar": {
             "outlinewidth": 0,
             "ticks": ""
            },
            "colorscale": [
             [
              0,
              "#0d0887"
             ],
             [
              0.1111111111111111,
              "#46039f"
             ],
             [
              0.2222222222222222,
              "#7201a8"
             ],
             [
              0.3333333333333333,
              "#9c179e"
             ],
             [
              0.4444444444444444,
              "#bd3786"
             ],
             [
              0.5555555555555556,
              "#d8576b"
             ],
             [
              0.6666666666666666,
              "#ed7953"
             ],
             [
              0.7777777777777778,
              "#fb9f3a"
             ],
             [
              0.8888888888888888,
              "#fdca26"
             ],
             [
              1,
              "#f0f921"
             ]
            ],
            "type": "histogram2dcontour"
           }
          ],
          "mesh3d": [
           {
            "colorbar": {
             "outlinewidth": 0,
             "ticks": ""
            },
            "type": "mesh3d"
           }
          ],
          "parcoords": [
           {
            "line": {
             "colorbar": {
              "outlinewidth": 0,
              "ticks": ""
             }
            },
            "type": "parcoords"
           }
          ],
          "pie": [
           {
            "automargin": true,
            "type": "pie"
           }
          ],
          "scatter": [
           {
            "fillpattern": {
             "fillmode": "overlay",
             "size": 10,
             "solidity": 0.2
            },
            "type": "scatter"
           }
          ],
          "scatter3d": [
           {
            "line": {
             "colorbar": {
              "outlinewidth": 0,
              "ticks": ""
             }
            },
            "marker": {
             "colorbar": {
              "outlinewidth": 0,
              "ticks": ""
             }
            },
            "type": "scatter3d"
           }
          ],
          "scattercarpet": [
           {
            "marker": {
             "colorbar": {
              "outlinewidth": 0,
              "ticks": ""
             }
            },
            "type": "scattercarpet"
           }
          ],
          "scattergeo": [
           {
            "marker": {
             "colorbar": {
              "outlinewidth": 0,
              "ticks": ""
             }
            },
            "type": "scattergeo"
           }
          ],
          "scattergl": [
           {
            "marker": {
             "colorbar": {
              "outlinewidth": 0,
              "ticks": ""
             }
            },
            "type": "scattergl"
           }
          ],
          "scattermapbox": [
           {
            "marker": {
             "colorbar": {
              "outlinewidth": 0,
              "ticks": ""
             }
            },
            "type": "scattermapbox"
           }
          ],
          "scatterpolar": [
           {
            "marker": {
             "colorbar": {
              "outlinewidth": 0,
              "ticks": ""
             }
            },
            "type": "scatterpolar"
           }
          ],
          "scatterpolargl": [
           {
            "marker": {
             "colorbar": {
              "outlinewidth": 0,
              "ticks": ""
             }
            },
            "type": "scatterpolargl"
           }
          ],
          "scatterternary": [
           {
            "marker": {
             "colorbar": {
              "outlinewidth": 0,
              "ticks": ""
             }
            },
            "type": "scatterternary"
           }
          ],
          "surface": [
           {
            "colorbar": {
             "outlinewidth": 0,
             "ticks": ""
            },
            "colorscale": [
             [
              0,
              "#0d0887"
             ],
             [
              0.1111111111111111,
              "#46039f"
             ],
             [
              0.2222222222222222,
              "#7201a8"
             ],
             [
              0.3333333333333333,
              "#9c179e"
             ],
             [
              0.4444444444444444,
              "#bd3786"
             ],
             [
              0.5555555555555556,
              "#d8576b"
             ],
             [
              0.6666666666666666,
              "#ed7953"
             ],
             [
              0.7777777777777778,
              "#fb9f3a"
             ],
             [
              0.8888888888888888,
              "#fdca26"
             ],
             [
              1,
              "#f0f921"
             ]
            ],
            "type": "surface"
           }
          ],
          "table": [
           {
            "cells": {
             "fill": {
              "color": "#EBF0F8"
             },
             "line": {
              "color": "white"
             }
            },
            "header": {
             "fill": {
              "color": "#C8D4E3"
             },
             "line": {
              "color": "white"
             }
            },
            "type": "table"
           }
          ]
         },
         "layout": {
          "annotationdefaults": {
           "arrowcolor": "#2a3f5f",
           "arrowhead": 0,
           "arrowwidth": 1
          },
          "autotypenumbers": "strict",
          "coloraxis": {
           "colorbar": {
            "outlinewidth": 0,
            "ticks": ""
           }
          },
          "colorscale": {
           "diverging": [
            [
             0,
             "#8e0152"
            ],
            [
             0.1,
             "#c51b7d"
            ],
            [
             0.2,
             "#de77ae"
            ],
            [
             0.3,
             "#f1b6da"
            ],
            [
             0.4,
             "#fde0ef"
            ],
            [
             0.5,
             "#f7f7f7"
            ],
            [
             0.6,
             "#e6f5d0"
            ],
            [
             0.7,
             "#b8e186"
            ],
            [
             0.8,
             "#7fbc41"
            ],
            [
             0.9,
             "#4d9221"
            ],
            [
             1,
             "#276419"
            ]
           ],
           "sequential": [
            [
             0,
             "#0d0887"
            ],
            [
             0.1111111111111111,
             "#46039f"
            ],
            [
             0.2222222222222222,
             "#7201a8"
            ],
            [
             0.3333333333333333,
             "#9c179e"
            ],
            [
             0.4444444444444444,
             "#bd3786"
            ],
            [
             0.5555555555555556,
             "#d8576b"
            ],
            [
             0.6666666666666666,
             "#ed7953"
            ],
            [
             0.7777777777777778,
             "#fb9f3a"
            ],
            [
             0.8888888888888888,
             "#fdca26"
            ],
            [
             1,
             "#f0f921"
            ]
           ],
           "sequentialminus": [
            [
             0,
             "#0d0887"
            ],
            [
             0.1111111111111111,
             "#46039f"
            ],
            [
             0.2222222222222222,
             "#7201a8"
            ],
            [
             0.3333333333333333,
             "#9c179e"
            ],
            [
             0.4444444444444444,
             "#bd3786"
            ],
            [
             0.5555555555555556,
             "#d8576b"
            ],
            [
             0.6666666666666666,
             "#ed7953"
            ],
            [
             0.7777777777777778,
             "#fb9f3a"
            ],
            [
             0.8888888888888888,
             "#fdca26"
            ],
            [
             1,
             "#f0f921"
            ]
           ]
          },
          "colorway": [
           "#636efa",
           "#EF553B",
           "#00cc96",
           "#ab63fa",
           "#FFA15A",
           "#19d3f3",
           "#FF6692",
           "#B6E880",
           "#FF97FF",
           "#FECB52"
          ],
          "font": {
           "color": "#2a3f5f"
          },
          "geo": {
           "bgcolor": "white",
           "lakecolor": "white",
           "landcolor": "#E5ECF6",
           "showlakes": true,
           "showland": true,
           "subunitcolor": "white"
          },
          "hoverlabel": {
           "align": "left"
          },
          "hovermode": "closest",
          "mapbox": {
           "style": "light"
          },
          "paper_bgcolor": "white",
          "plot_bgcolor": "#E5ECF6",
          "polar": {
           "angularaxis": {
            "gridcolor": "white",
            "linecolor": "white",
            "ticks": ""
           },
           "bgcolor": "#E5ECF6",
           "radialaxis": {
            "gridcolor": "white",
            "linecolor": "white",
            "ticks": ""
           }
          },
          "scene": {
           "xaxis": {
            "backgroundcolor": "#E5ECF6",
            "gridcolor": "white",
            "gridwidth": 2,
            "linecolor": "white",
            "showbackground": true,
            "ticks": "",
            "zerolinecolor": "white"
           },
           "yaxis": {
            "backgroundcolor": "#E5ECF6",
            "gridcolor": "white",
            "gridwidth": 2,
            "linecolor": "white",
            "showbackground": true,
            "ticks": "",
            "zerolinecolor": "white"
           },
           "zaxis": {
            "backgroundcolor": "#E5ECF6",
            "gridcolor": "white",
            "gridwidth": 2,
            "linecolor": "white",
            "showbackground": true,
            "ticks": "",
            "zerolinecolor": "white"
           }
          },
          "shapedefaults": {
           "line": {
            "color": "#2a3f5f"
           }
          },
          "ternary": {
           "aaxis": {
            "gridcolor": "white",
            "linecolor": "white",
            "ticks": ""
           },
           "baxis": {
            "gridcolor": "white",
            "linecolor": "white",
            "ticks": ""
           },
           "bgcolor": "#E5ECF6",
           "caxis": {
            "gridcolor": "white",
            "linecolor": "white",
            "ticks": ""
           }
          },
          "title": {
           "x": 0.05
          },
          "xaxis": {
           "automargin": true,
           "gridcolor": "white",
           "linecolor": "white",
           "ticks": "",
           "title": {
            "standoff": 15
           },
           "zerolinecolor": "white",
           "zerolinewidth": 2
          },
          "yaxis": {
           "automargin": true,
           "gridcolor": "white",
           "linecolor": "white",
           "ticks": "",
           "title": {
            "standoff": 15
           },
           "zerolinecolor": "white",
           "zerolinewidth": 2
          }
         }
        },
        "title": {
         "text": "Reproduction Error vs Target Interval (Individual + Mean with Error Bars)"
        },
        "width": 900,
        "xaxis": {
         "gridcolor": "lightgray",
         "showgrid": true,
         "title": {
          "text": "Target Interval (ms)"
         }
        },
        "yaxis": {
         "gridcolor": "lightgray",
         "showgrid": true,
         "title": {
          "text": "Reproduction Error (ms)"
         }
        }
       }
      },
      "text/html": [
       "<div>                            <div id=\"742ca0b5-41e4-4424-a296-4e23ece9c100\" class=\"plotly-graph-div\" style=\"height:550px; width:900px;\"></div>            <script type=\"text/javascript\">                require([\"plotly\"], function(Plotly) {                    window.PLOTLYENV=window.PLOTLYENV || {};                                    if (document.getElementById(\"742ca0b5-41e4-4424-a296-4e23ece9c100\")) {                    Plotly.newPlot(                        \"742ca0b5-41e4-4424-a296-4e23ece9c100\",                        [{\"legendgroup\":\"500.0\",\"marker\":{\"color\":\"#fdc38d\",\"opacity\":0.5,\"size\":6,\"symbol\":\"circle-open\"},\"mode\":\"markers\",\"name\":\"500.0 ms (trials)\",\"showlegend\":false,\"x\":[1180.0,200.0,1180.0,530.0,200.0,530.0,530.0,1180.0,200.0,200.0,200.0,850.0,200.0,1500.0,530.0,1500.0,850.0,1180.0,1500.0,1180.0,1500.0,200.0,1180.0,1180.0,530.0,200.0,1500.0,200.0,200.0,850.0,200.0,850.0,530.0,850.0,530.0,1500.0,1500.0,1500.0,1180.0,530.0,1500.0,1500.0,850.0,1180.0,200.0,530.0,1500.0,200.0,200.0,200.0,200.0,1180.0,530.0,530.0,530.0,850.0,1500.0,200.0,1500.0,200.0,850.0,530.0,200.0,1500.0,200.0,1180.0,1180.0,1500.0,200.0,200.0,850.0,1180.0,530.0,200.0,530.0,1180.0,850.0,850.0,1180.0,1180.0,1180.0],\"y\":[-310.0,-135.0,-340.0,-130.0,43.0,50.0,121.0,-202.0,638.0,121.0,116.0,48.0,88.0,-429.0,-85.0,-452.0,-213.0,-11.0,-298.0,28.0,-270.0,31.0,-152.0,-62.0,-5.0,108.0,-515.0,110.0,-7.0,-358.0,28.0,120.0,394.0,-96.0,227.0,-365.0,-183.0,-97.0,-124.0,59.0,-18.0,93.0,215.0,111.0,46.0,300.0,-89.0,111.0,68.0,3.0,21.0,-40.0,41.0,67.0,0.0,24.0,-235.0,131.0,-389.0,83.0,5.0,67.0,49.0,-142.0,63.0,-23.0,-20.0,-609.0,76.0,157.0,-12.0,6.0,91.0,218.0,49.0,-196.0,-71.0,-205.0,-166.0,-80.0,-389.0],\"type\":\"scatter\"},{\"legendgroup\":\"1000.0\",\"marker\":{\"color\":\"#e7533a\",\"opacity\":0.5,\"size\":6,\"symbol\":\"circle-open\"},\"mode\":\"markers\",\"name\":\"1000.0 ms (trials)\",\"showlegend\":false,\"x\":[530.0,200.0,530.0,1180.0,200.0,1500.0,850.0,200.0,530.0,1180.0,1500.0,200.0,530.0,1180.0,530.0,1180.0,850.0,1500.0,850.0,1180.0,1500.0,1500.0,850.0,1180.0,850.0,1180.0,200.0,850.0,1500.0,1500.0,1180.0,530.0,200.0,200.0,200.0,1500.0,200.0,850.0,530.0,850.0,850.0,850.0,1500.0,200.0,850.0,530.0,1180.0,200.0,1180.0,1180.0,850.0,530.0,850.0,850.0,1180.0,200.0,200.0,1180.0,1500.0,530.0,1180.0,1500.0,1500.0,530.0,1500.0,1180.0,1180.0,530.0,850.0,530.0,530.0,200.0,1180.0,200.0,1180.0,530.0,1500.0,200.0,1500.0,1500.0,1500.0,530.0,530.0,200.0,200.0,1500.0,850.0,200.0,1180.0,1500.0,850.0,1500.0,850.0,1500.0,1180.0,850.0,530.0,1500.0,1500.0,1500.0,1500.0,1500.0,200.0,1500.0,1500.0,200.0,1500.0,1500.0,1180.0,200.0,530.0,1180.0,1180.0,1500.0],\"y\":[85.0,26.0,-69.0,-358.0,75.0,-459.0,148.0,-66.0,-76.0,-401.0,-133.0,78.0,-91.0,-94.0,657.0,-124.0,47.0,-39.0,-193.0,148.0,-411.0,-199.0,331.0,64.0,175.0,173.0,102.0,306.0,-362.0,-571.0,-414.0,104.0,85.0,152.0,200.0,-444.0,75.0,-157.0,43.0,144.0,-109.0,-80.0,-620.0,38.0,172.0,190.0,-343.0,80.0,-118.0,281.0,471.0,350.0,163.0,-77.0,-170.0,124.0,186.0,-20.0,-192.0,327.0,102.0,-175.0,-183.0,165.0,-206.0,289.0,120.0,228.0,88.0,325.0,100.0,8.0,-172.0,157.0,-129.0,-95.0,-601.0,112.0,-81.0,-211.0,-696.0,285.0,551.0,601.0,303.0,-354.0,75.0,131.0,-131.0,-281.0,-141.0,-378.0,-180.0,-299.0,62.0,63.0,2.0,-294.0,-365.0,-452.0,-421.0,-477.0,73.0,-572.0,-360.0,157.0,-544.0,-435.0,-76.0,34.0,149.0,-127.0,-106.0,-381.0],\"type\":\"scatter\"},{\"legendgroup\":\"1500.0\",\"marker\":{\"color\":\"#7f0000\",\"opacity\":0.5,\"size\":6,\"symbol\":\"circle-open\"},\"mode\":\"markers\",\"name\":\"1500.0 ms (trials)\",\"showlegend\":false,\"x\":[850.0,1500.0,200.0,530.0,850.0,200.0,200.0,200.0,850.0,530.0,200.0,850.0,530.0,850.0,1180.0,200.0,1180.0,1500.0,530.0,1500.0,530.0,850.0,530.0,200.0,530.0,200.0,1500.0,1500.0,530.0,200.0,200.0,850.0,530.0,200.0,200.0,530.0,850.0,850.0,850.0,850.0,1180.0,200.0,200.0,850.0,530.0,1500.0,1180.0,200.0,850.0,530.0,850.0,1180.0,1500.0,200.0,1500.0,1180.0,200.0,850.0,200.0,200.0,530.0,1500.0,850.0,200.0,530.0,530.0,1500.0,530.0,850.0,1180.0,200.0,850.0,850.0,1500.0,200.0,850.0,1180.0,850.0,1500.0,200.0,850.0,200.0,530.0,1500.0,530.0,1500.0,850.0,530.0,530.0,530.0,1180.0,530.0,200.0,1180.0,1500.0,1180.0,530.0,200.0,850.0,530.0,850.0,1180.0,200.0,850.0,850.0],\"y\":[137.0,-53.0,91.0,73.0,-412.0,-133.0,94.0,41.0,-119.0,136.0,360.0,170.0,-143.0,-19.0,-299.0,173.0,-38.0,-490.0,-151.0,33.0,-62.0,-360.0,-109.0,21.0,173.0,242.0,-145.0,-224.0,295.0,89.0,941.0,243.0,88.0,84.0,88.0,90.0,134.0,76.0,-209.0,-221.0,-628.0,26.0,32.0,-222.0,-134.0,-519.0,-272.0,142.0,249.0,73.0,-374.0,-146.0,-156.0,161.0,-174.0,190.0,113.0,-171.0,227.0,80.0,76.0,-154.0,266.0,205.0,106.0,75.0,-228.0,197.0,261.0,44.0,39.0,84.0,-38.0,-385.0,-6.0,1047.0,105.0,171.0,-442.0,78.0,-67.0,62.0,195.0,-664.0,-29.0,-292.0,183.0,-26.0,2359.0,-45.0,-197.0,38.0,25.0,-236.0,-104.0,-319.0,554.0,111.0,-460.0,-102.0,-128.0,-217.0,67.0,31.0,-96.0],\"type\":\"scatter\"},{\"error_y\":{\"array\":[136.8854718772858,136.11364299556385,163.3047903322329,138.29853684734937,196.44732724308668],\"type\":\"data\",\"visible\":true},\"legendgroup\":\"500.0\",\"line\":{\"color\":\"#fdc38d\",\"width\":2},\"marker\":{\"color\":\"#fdc38d\",\"size\":8},\"mode\":\"lines+markers\",\"name\":\"500.0 ms (mean)\",\"x\":[200.0,530.0,850.0,1180.0,1500.0],\"y\":[94.21739130434783,83.06666666666666,-49.36363636363637,-115.88235294117646,-266.53333333333336],\"type\":\"scatter\"},{\"error_y\":{\"array\":[131.01446501547088,210.51207407969105,187.1839011921086,200.61072760852184,165.93052698327165],\"type\":\"data\",\"visible\":true},\"legendgroup\":\"1000.0\",\"line\":{\"color\":\"#e7533a\",\"width\":2},\"marker\":{\"color\":\"#e7533a\",\"size\":8},\"mode\":\"lines+markers\",\"name\":\"1000.0 ms (mean)\",\"x\":[200.0,530.0,850.0,1180.0,1500.0],\"y\":[124.13636363636364,170.0,65.57894736842105,-67.1304347826087,-361.16129032258067],\"type\":\"scatter\"},{\"error_y\":{\"array\":[187.190839135921,495.49136606058,301.6177322543494,220.5909933873919,194.63697588318715],\"type\":\"data\",\"visible\":true},\"legendgroup\":\"1500.0\",\"line\":{\"color\":\"#7f0000\",\"width\":2},\"marker\":{\"color\":\"#7f0000\",\"size\":8},\"mode\":\"lines+markers\",\"name\":\"1500.0 ms (mean)\",\"x\":[200.0,530.0,850.0,1180.0,1500.0],\"y\":[127.88888888888889,155.29166666666666,5.777777777777778,-167.75,-266.46666666666664],\"type\":\"scatter\"}],                        {\"template\":{\"data\":{\"histogram2dcontour\":[{\"type\":\"histogram2dcontour\",\"colorbar\":{\"outlinewidth\":0,\"ticks\":\"\"},\"colorscale\":[[0.0,\"#0d0887\"],[0.1111111111111111,\"#46039f\"],[0.2222222222222222,\"#7201a8\"],[0.3333333333333333,\"#9c179e\"],[0.4444444444444444,\"#bd3786\"],[0.5555555555555556,\"#d8576b\"],[0.6666666666666666,\"#ed7953\"],[0.7777777777777778,\"#fb9f3a\"],[0.8888888888888888,\"#fdca26\"],[1.0,\"#f0f921\"]]}],\"choropleth\":[{\"type\":\"choropleth\",\"colorbar\":{\"outlinewidth\":0,\"ticks\":\"\"}}],\"histogram2d\":[{\"type\":\"histogram2d\",\"colorbar\":{\"outlinewidth\":0,\"ticks\":\"\"},\"colorscale\":[[0.0,\"#0d0887\"],[0.1111111111111111,\"#46039f\"],[0.2222222222222222,\"#7201a8\"],[0.3333333333333333,\"#9c179e\"],[0.4444444444444444,\"#bd3786\"],[0.5555555555555556,\"#d8576b\"],[0.6666666666666666,\"#ed7953\"],[0.7777777777777778,\"#fb9f3a\"],[0.8888888888888888,\"#fdca26\"],[1.0,\"#f0f921\"]]}],\"heatmap\":[{\"type\":\"heatmap\",\"colorbar\":{\"outlinewidth\":0,\"ticks\":\"\"},\"colorscale\":[[0.0,\"#0d0887\"],[0.1111111111111111,\"#46039f\"],[0.2222222222222222,\"#7201a8\"],[0.3333333333333333,\"#9c179e\"],[0.4444444444444444,\"#bd3786\"],[0.5555555555555556,\"#d8576b\"],[0.6666666666666666,\"#ed7953\"],[0.7777777777777778,\"#fb9f3a\"],[0.8888888888888888,\"#fdca26\"],[1.0,\"#f0f921\"]]}],\"heatmapgl\":[{\"type\":\"heatmapgl\",\"colorbar\":{\"outlinewidth\":0,\"ticks\":\"\"},\"colorscale\":[[0.0,\"#0d0887\"],[0.1111111111111111,\"#46039f\"],[0.2222222222222222,\"#7201a8\"],[0.3333333333333333,\"#9c179e\"],[0.4444444444444444,\"#bd3786\"],[0.5555555555555556,\"#d8576b\"],[0.6666666666666666,\"#ed7953\"],[0.7777777777777778,\"#fb9f3a\"],[0.8888888888888888,\"#fdca26\"],[1.0,\"#f0f921\"]]}],\"contourcarpet\":[{\"type\":\"contourcarpet\",\"colorbar\":{\"outlinewidth\":0,\"ticks\":\"\"}}],\"contour\":[{\"type\":\"contour\",\"colorbar\":{\"outlinewidth\":0,\"ticks\":\"\"},\"colorscale\":[[0.0,\"#0d0887\"],[0.1111111111111111,\"#46039f\"],[0.2222222222222222,\"#7201a8\"],[0.3333333333333333,\"#9c179e\"],[0.4444444444444444,\"#bd3786\"],[0.5555555555555556,\"#d8576b\"],[0.6666666666666666,\"#ed7953\"],[0.7777777777777778,\"#fb9f3a\"],[0.8888888888888888,\"#fdca26\"],[1.0,\"#f0f921\"]]}],\"surface\":[{\"type\":\"surface\",\"colorbar\":{\"outlinewidth\":0,\"ticks\":\"\"},\"colorscale\":[[0.0,\"#0d0887\"],[0.1111111111111111,\"#46039f\"],[0.2222222222222222,\"#7201a8\"],[0.3333333333333333,\"#9c179e\"],[0.4444444444444444,\"#bd3786\"],[0.5555555555555556,\"#d8576b\"],[0.6666666666666666,\"#ed7953\"],[0.7777777777777778,\"#fb9f3a\"],[0.8888888888888888,\"#fdca26\"],[1.0,\"#f0f921\"]]}],\"mesh3d\":[{\"type\":\"mesh3d\",\"colorbar\":{\"outlinewidth\":0,\"ticks\":\"\"}}],\"scatter\":[{\"fillpattern\":{\"fillmode\":\"overlay\",\"size\":10,\"solidity\":0.2},\"type\":\"scatter\"}],\"parcoords\":[{\"type\":\"parcoords\",\"line\":{\"colorbar\":{\"outlinewidth\":0,\"ticks\":\"\"}}}],\"scatterpolargl\":[{\"type\":\"scatterpolargl\",\"marker\":{\"colorbar\":{\"outlinewidth\":0,\"ticks\":\"\"}}}],\"bar\":[{\"error_x\":{\"color\":\"#2a3f5f\"},\"error_y\":{\"color\":\"#2a3f5f\"},\"marker\":{\"line\":{\"color\":\"#E5ECF6\",\"width\":0.5},\"pattern\":{\"fillmode\":\"overlay\",\"size\":10,\"solidity\":0.2}},\"type\":\"bar\"}],\"scattergeo\":[{\"type\":\"scattergeo\",\"marker\":{\"colorbar\":{\"outlinewidth\":0,\"ticks\":\"\"}}}],\"scatterpolar\":[{\"type\":\"scatterpolar\",\"marker\":{\"colorbar\":{\"outlinewidth\":0,\"ticks\":\"\"}}}],\"histogram\":[{\"marker\":{\"pattern\":{\"fillmode\":\"overlay\",\"size\":10,\"solidity\":0.2}},\"type\":\"histogram\"}],\"scattergl\":[{\"type\":\"scattergl\",\"marker\":{\"colorbar\":{\"outlinewidth\":0,\"ticks\":\"\"}}}],\"scatter3d\":[{\"type\":\"scatter3d\",\"line\":{\"colorbar\":{\"outlinewidth\":0,\"ticks\":\"\"}},\"marker\":{\"colorbar\":{\"outlinewidth\":0,\"ticks\":\"\"}}}],\"scattermapbox\":[{\"type\":\"scattermapbox\",\"marker\":{\"colorbar\":{\"outlinewidth\":0,\"ticks\":\"\"}}}],\"scatterternary\":[{\"type\":\"scatterternary\",\"marker\":{\"colorbar\":{\"outlinewidth\":0,\"ticks\":\"\"}}}],\"scattercarpet\":[{\"type\":\"scattercarpet\",\"marker\":{\"colorbar\":{\"outlinewidth\":0,\"ticks\":\"\"}}}],\"carpet\":[{\"aaxis\":{\"endlinecolor\":\"#2a3f5f\",\"gridcolor\":\"white\",\"linecolor\":\"white\",\"minorgridcolor\":\"white\",\"startlinecolor\":\"#2a3f5f\"},\"baxis\":{\"endlinecolor\":\"#2a3f5f\",\"gridcolor\":\"white\",\"linecolor\":\"white\",\"minorgridcolor\":\"white\",\"startlinecolor\":\"#2a3f5f\"},\"type\":\"carpet\"}],\"table\":[{\"cells\":{\"fill\":{\"color\":\"#EBF0F8\"},\"line\":{\"color\":\"white\"}},\"header\":{\"fill\":{\"color\":\"#C8D4E3\"},\"line\":{\"color\":\"white\"}},\"type\":\"table\"}],\"barpolar\":[{\"marker\":{\"line\":{\"color\":\"#E5ECF6\",\"width\":0.5},\"pattern\":{\"fillmode\":\"overlay\",\"size\":10,\"solidity\":0.2}},\"type\":\"barpolar\"}],\"pie\":[{\"automargin\":true,\"type\":\"pie\"}]},\"layout\":{\"autotypenumbers\":\"strict\",\"colorway\":[\"#636efa\",\"#EF553B\",\"#00cc96\",\"#ab63fa\",\"#FFA15A\",\"#19d3f3\",\"#FF6692\",\"#B6E880\",\"#FF97FF\",\"#FECB52\"],\"font\":{\"color\":\"#2a3f5f\"},\"hovermode\":\"closest\",\"hoverlabel\":{\"align\":\"left\"},\"paper_bgcolor\":\"white\",\"plot_bgcolor\":\"#E5ECF6\",\"polar\":{\"bgcolor\":\"#E5ECF6\",\"angularaxis\":{\"gridcolor\":\"white\",\"linecolor\":\"white\",\"ticks\":\"\"},\"radialaxis\":{\"gridcolor\":\"white\",\"linecolor\":\"white\",\"ticks\":\"\"}},\"ternary\":{\"bgcolor\":\"#E5ECF6\",\"aaxis\":{\"gridcolor\":\"white\",\"linecolor\":\"white\",\"ticks\":\"\"},\"baxis\":{\"gridcolor\":\"white\",\"linecolor\":\"white\",\"ticks\":\"\"},\"caxis\":{\"gridcolor\":\"white\",\"linecolor\":\"white\",\"ticks\":\"\"}},\"coloraxis\":{\"colorbar\":{\"outlinewidth\":0,\"ticks\":\"\"}},\"colorscale\":{\"sequential\":[[0.0,\"#0d0887\"],[0.1111111111111111,\"#46039f\"],[0.2222222222222222,\"#7201a8\"],[0.3333333333333333,\"#9c179e\"],[0.4444444444444444,\"#bd3786\"],[0.5555555555555556,\"#d8576b\"],[0.6666666666666666,\"#ed7953\"],[0.7777777777777778,\"#fb9f3a\"],[0.8888888888888888,\"#fdca26\"],[1.0,\"#f0f921\"]],\"sequentialminus\":[[0.0,\"#0d0887\"],[0.1111111111111111,\"#46039f\"],[0.2222222222222222,\"#7201a8\"],[0.3333333333333333,\"#9c179e\"],[0.4444444444444444,\"#bd3786\"],[0.5555555555555556,\"#d8576b\"],[0.6666666666666666,\"#ed7953\"],[0.7777777777777778,\"#fb9f3a\"],[0.8888888888888888,\"#fdca26\"],[1.0,\"#f0f921\"]],\"diverging\":[[0,\"#8e0152\"],[0.1,\"#c51b7d\"],[0.2,\"#de77ae\"],[0.3,\"#f1b6da\"],[0.4,\"#fde0ef\"],[0.5,\"#f7f7f7\"],[0.6,\"#e6f5d0\"],[0.7,\"#b8e186\"],[0.8,\"#7fbc41\"],[0.9,\"#4d9221\"],[1,\"#276419\"]]},\"xaxis\":{\"gridcolor\":\"white\",\"linecolor\":\"white\",\"ticks\":\"\",\"title\":{\"standoff\":15},\"zerolinecolor\":\"white\",\"automargin\":true,\"zerolinewidth\":2},\"yaxis\":{\"gridcolor\":\"white\",\"linecolor\":\"white\",\"ticks\":\"\",\"title\":{\"standoff\":15},\"zerolinecolor\":\"white\",\"automargin\":true,\"zerolinewidth\":2},\"scene\":{\"xaxis\":{\"backgroundcolor\":\"#E5ECF6\",\"gridcolor\":\"white\",\"linecolor\":\"white\",\"showbackground\":true,\"ticks\":\"\",\"zerolinecolor\":\"white\",\"gridwidth\":2},\"yaxis\":{\"backgroundcolor\":\"#E5ECF6\",\"gridcolor\":\"white\",\"linecolor\":\"white\",\"showbackground\":true,\"ticks\":\"\",\"zerolinecolor\":\"white\",\"gridwidth\":2},\"zaxis\":{\"backgroundcolor\":\"#E5ECF6\",\"gridcolor\":\"white\",\"linecolor\":\"white\",\"showbackground\":true,\"ticks\":\"\",\"zerolinecolor\":\"white\",\"gridwidth\":2}},\"shapedefaults\":{\"line\":{\"color\":\"#2a3f5f\"}},\"annotationdefaults\":{\"arrowcolor\":\"#2a3f5f\",\"arrowhead\":0,\"arrowwidth\":1},\"geo\":{\"bgcolor\":\"white\",\"landcolor\":\"#E5ECF6\",\"subunitcolor\":\"white\",\"showland\":true,\"showlakes\":true,\"lakecolor\":\"white\"},\"title\":{\"x\":0.05},\"mapbox\":{\"style\":\"light\"}}},\"xaxis\":{\"title\":{\"text\":\"Target Interval (ms)\"},\"showgrid\":true,\"gridcolor\":\"lightgray\"},\"yaxis\":{\"title\":{\"text\":\"Reproduction Error (ms)\"},\"showgrid\":true,\"gridcolor\":\"lightgray\"},\"title\":{\"text\":\"Reproduction Error vs Target Interval (Individual + Mean with Error Bars)\"},\"width\":900,\"height\":550,\"plot_bgcolor\":\"white\",\"legend\":{\"title\":{\"text\":\"Set Duration\"}}},                        {\"responsive\": true}                    ).then(function(){\n",
       "                            \n",
       "var gd = document.getElementById('742ca0b5-41e4-4424-a296-4e23ece9c100');\n",
       "var x = new MutationObserver(function (mutations, observer) {{\n",
       "        var display = window.getComputedStyle(gd).display;\n",
       "        if (!display || display === 'none') {{\n",
       "            console.log([gd, 'removed!']);\n",
       "            Plotly.purge(gd);\n",
       "            observer.disconnect();\n",
       "        }}\n",
       "}});\n",
       "\n",
       "// Listen for the removal of the full notebook cells\n",
       "var notebookContainer = gd.closest('#notebook-container');\n",
       "if (notebookContainer) {{\n",
       "    x.observe(notebookContainer, {childList: true});\n",
       "}}\n",
       "\n",
       "// Listen for the clearing of the current output cell\n",
       "var outputEl = gd.closest('.output');\n",
       "if (outputEl) {{\n",
       "    x.observe(outputEl, {childList: true});\n",
       "}}\n",
       "\n",
       "                        })                };                });            </script>        </div>"
      ]
     },
     "metadata": {},
     "output_type": "display_data"
    }
   ],
   "source": [
    "import pandas as pd\n",
    "import plotly.graph_objects as go\n",
    "import plotly.express as px\n",
    "from matplotlib import cm\n",
    "import matplotlib.colors as mcolors\n",
    "\n",
    "# Filter and clean\n",
    "go_df = df[df['phase'] == 'go'].copy()\n",
    "go_df.dropna(subset=['target_interval', 'reproduced_interval', 'reproduction_error'], inplace=True)\n",
    "for col in ['target_interval', 'set_duration', 'reproduced_interval', 'reproduction_error']:\n",
    "    go_df[col] = pd.to_numeric(go_df[col], errors='coerce')\n",
    "\n",
    "# Group for mean error stats\n",
    "grouped = go_df.groupby(['target_interval', 'set_duration'])['reproduction_error'].agg(['mean', 'std', 'count']).reset_index()\n",
    "\n",
    "# Colors ordered from red (low) to blue (high)\n",
    "set_durations = sorted(go_df['set_duration'].unique())\n",
    "cmap = cm.get_cmap('OrRd', len(set_durations)+1)\n",
    "ordered_colors = [mcolors.to_hex(cmap(i+1)) for i in range(len(set_durations))]\n",
    "\n",
    "fig = go.Figure()\n",
    "\n",
    "# Plot all data points (circles)\n",
    "for i, sd in enumerate(set_durations):\n",
    "    subset = go_df[go_df['set_duration'] == sd]\n",
    "    fig.add_trace(go.Scatter(\n",
    "        x=subset['target_interval'],\n",
    "        y=subset['reproduction_error'],\n",
    "        mode='markers',\n",
    "        name=f'{sd} ms (trials)',\n",
    "        marker=dict(color=ordered_colors[i], size=6, opacity=0.5, symbol='circle-open'),\n",
    "        legendgroup=str(sd),\n",
    "        showlegend=False\n",
    "    ))\n",
    "\n",
    "# Plot mean with error bars\n",
    "for i, sd in enumerate(set_durations):\n",
    "    mean_subset = grouped[grouped['set_duration'] == sd]\n",
    "    fig.add_trace(go.Scatter(\n",
    "        x=mean_subset['target_interval'],\n",
    "        y=mean_subset['mean'],\n",
    "        error_y=dict(\n",
    "            type='data',\n",
    "            array=mean_subset['std'],\n",
    "            visible=True\n",
    "        ),\n",
    "        mode='lines+markers',\n",
    "        name=f'{sd} ms (mean)',\n",
    "        marker=dict(color=ordered_colors[i], size=8),\n",
    "        line=dict(width=2, color=ordered_colors[i]),\n",
    "        legendgroup=str(sd)\n",
    "    ))\n",
    "\n",
    "# Layout\n",
    "fig.update_layout(\n",
    "    title='Reproduction Error vs Target Interval (Individual + Mean with Error Bars)',\n",
    "    xaxis_title='Target Interval (ms)',\n",
    "    yaxis_title='Reproduction Error (ms)',\n",
    "    width=900,\n",
    "    height=550,\n",
    "    plot_bgcolor='white',\n",
    "    xaxis=dict(showgrid=True, gridcolor='lightgray'),\n",
    "    yaxis=dict(showgrid=True, gridcolor='lightgray'),\n",
    "    legend_title='Set Duration'\n",
    ")\n",
    "\n",
    "fig.show()\n"
   ]
  },
  {
   "cell_type": "markdown",
   "id": "92175548",
   "metadata": {},
   "source": [
    "# Reported Interval vs Trial number in session"
   ]
  },
  {
   "cell_type": "code",
   "execution_count": 7,
   "id": "c90ff8ac",
   "metadata": {},
   "outputs": [
    {
     "data": {
      "application/vnd.plotly.v1+json": {
       "config": {
        "plotlyServerURL": "https://plot.ly"
       },
       "data": [
        {
         "line": {
          "width": 2
         },
         "marker": {
          "size": 6
         },
         "mode": "lines+markers",
         "name": "200 ms",
         "type": "scatter",
         "x": [
          5,
          24,
          30,
          37,
          53,
          73,
          75,
          83,
          84,
          98
         ],
         "y": [
          244,
          161,
          139.33333333333334,
          139,
          143.4,
          123.8,
          156.6,
          193.4,
          221.2,
          242.6
         ]
        },
        {
         "line": {
          "width": 2
         },
         "marker": {
          "size": 6
         },
         "mode": "lines+markers",
         "name": "300 ms",
         "type": "scatter",
         "x": [
          1,
          4,
          20,
          34,
          35,
          48,
          58,
          70,
          80,
          87,
          93,
          100
         ],
         "y": [
          265,
          305.5,
          301.3333333333333,
          289,
          300.4,
          316.8,
          277.8,
          291.2,
          314.2,
          318,
          304.6,
          354.4
         ]
        },
        {
         "line": {
          "width": 2
         },
         "marker": {
          "size": 6
         },
         "mode": "lines+markers",
         "name": "400 ms",
         "type": "scatter",
         "x": [
          7,
          11,
          17,
          26,
          33,
          47,
          56,
          81,
          88,
          95
         ],
         "y": [
          322,
          363.5,
          394,
          386,
          403.6,
          405.6,
          410,
          415.8,
          439.6,
          456.8
         ]
        },
        {
         "line": {
          "width": 2
         },
         "marker": {
          "size": 6
         },
         "mode": "lines+markers",
         "name": "500 ms",
         "type": "scatter",
         "x": [
          8,
          9,
          10,
          12,
          31,
          41,
          42,
          44,
          45,
          51,
          54,
          55,
          60,
          61,
          67,
          72,
          77,
          79,
          82,
          90,
          96
         ],
         "y": [
          504,
          510,
          492.3333333333333,
          470.5,
          467,
          471.6,
          468,
          477.2,
          487.4,
          489.6,
          474,
          471,
          481.6,
          502.4,
          521.8,
          519.2,
          544.2,
          511.4,
          498,
          544.2,
          582.4
         ]
        },
        {
         "line": {
          "width": 2
         },
         "marker": {
          "size": 6
         },
         "mode": "lines+markers",
         "name": "600 ms",
         "type": "scatter",
         "x": [
          18,
          21,
          23,
          36,
          49,
          50,
          62,
          65,
          66,
          69,
          76,
          92,
          97,
          220,
          224,
          244,
          247,
          267,
          269,
          274,
          280,
          287,
          290
         ],
         "y": [
          501,
          520,
          562.3333333333334,
          578.75,
          588.2,
          602.8,
          596.6,
          597.4,
          606.4,
          609.4,
          643.2,
          718.2,
          735,
          728,
          790,
          766,
          681.8,
          628.4,
          653.4,
          618.8,
          626.4,
          653.8,
          692.4
         ]
        },
        {
         "line": {
          "width": 2
         },
         "marker": {
          "size": 6
         },
         "mode": "lines+markers",
         "name": "700 ms",
         "type": "scatter",
         "x": [
          6,
          25,
          27,
          29,
          32,
          52,
          57,
          59,
          63,
          64,
          85,
          203,
          208,
          215,
          216,
          225,
          231,
          249,
          260,
          263,
          266,
          283,
          286,
          293
         ],
         "y": [
          672,
          725,
          703,
          719.75,
          717.4,
          707.4,
          672.6,
          659.2,
          658.6,
          654.2,
          655,
          680.2,
          710,
          706.2,
          793.2,
          863.2,
          924.8,
          921.6,
          935,
          840.2,
          788,
          759,
          789.2,
          801
         ]
        },
        {
         "line": {
          "width": 2
         },
         "marker": {
          "size": 6
         },
         "mode": "lines+markers",
         "name": "800 ms",
         "type": "scatter",
         "x": [
          2,
          14,
          19,
          22,
          28,
          38,
          40,
          68,
          74,
          86,
          91,
          99,
          222,
          236,
          252,
          255,
          265,
          268,
          275,
          277,
          278,
          279,
          289,
          292
         ],
         "y": [
          866,
          750,
          727.6666666666666,
          731.5,
          736.6,
          689.2,
          720.2,
          733.2,
          744.6,
          766,
          829.8,
          810,
          858.6,
          872.8,
          867.6,
          870.6,
          965,
          962.4,
          972.8,
          975.8,
          944,
          878.8,
          844.4,
          877.4
         ]
        },
        {
         "line": {
          "width": 2
         },
         "marker": {
          "size": 6
         },
         "mode": "lines+markers",
         "name": "900 ms",
         "type": "scatter",
         "x": [
          3,
          13,
          15,
          16,
          39,
          43,
          46,
          71,
          78,
          89,
          94,
          204,
          206,
          209,
          211,
          226,
          228,
          229,
          235,
          253,
          256,
          291,
          295,
          296
         ],
         "y": [
          817,
          722.5,
          698,
          677.25,
          721.4,
          714.4,
          725.6,
          769.8,
          795.4,
          812.4,
          869,
          905.2,
          939.8,
          971.4,
          974.6,
          983.8,
          1061.2,
          1067,
          1105.4,
          1123.4,
          1098,
          1069.2,
          1105.2,
          1142.4
         ]
        },
        {
         "line": {
          "width": 2
         },
         "marker": {
          "size": 6
         },
         "mode": "lines+markers",
         "name": "1000 ms",
         "type": "scatter",
         "x": [
          108,
          119,
          123,
          132,
          142,
          144,
          145,
          158,
          161,
          163,
          183,
          186,
          192,
          205,
          213,
          214,
          219,
          227,
          234,
          241,
          246,
          250,
          262,
          264,
          272,
          285,
          294
         ],
         "y": [
          1017,
          951,
          1089,
          1103.25,
          1102.2,
          1141.4,
          1219.8,
          1184.4,
          1159.4,
          1129.6,
          1033.2,
          1015,
          1065,
          1065.4,
          1124,
          1234.8,
          1264.8,
          1215.4,
          1195,
          1136.4,
          1109.6,
          1073.6,
          1086.8,
          1111.4,
          1125.2,
          1173.4,
          1159
         ]
        },
        {
         "line": {
          "width": 2
         },
         "marker": {
          "size": 6
         },
         "mode": "lines+markers",
         "name": "1100 ms",
         "type": "scatter",
         "x": [
          103,
          105,
          129,
          141,
          143,
          188,
          190,
          199,
          207,
          210,
          212,
          217,
          218,
          221,
          223,
          232,
          238,
          240,
          242,
          245,
          248,
          254,
          270,
          281,
          300
         ],
         "y": [
          1216,
          1244.5,
          1318.3333333333333,
          1278.75,
          1297.6,
          1282,
          1231.4,
          1198,
          1220.6,
          1160.2,
          1185.2,
          1235,
          1227.4,
          1205.4,
          1341.4,
          1326.6,
          1312,
          1289.4,
          1281,
          1172,
          1183.6,
          1218.4,
          1249,
          1289.4,
          1272.2
         ]
        },
        {
         "line": {
          "width": 2
         },
         "marker": {
          "size": 6
         },
         "mode": "lines+markers",
         "name": "1200 ms",
         "type": "scatter",
         "x": [
          102,
          116,
          121,
          128,
          133,
          139,
          140,
          149,
          160,
          165,
          175,
          179,
          200,
          202,
          230,
          233,
          237,
          239,
          243,
          257,
          258,
          259,
          271,
          297
         ],
         "y": [
          1287,
          1206.5,
          1220.3333333333333,
          1192.5,
          1213.2,
          1251.2,
          1326,
          1310.6,
          1370.2,
          1388.8,
          1362.2,
          1352.2,
          1367.4,
          1331.6,
          1285,
          1300.6,
          1225,
          1199.6,
          1200.8,
          1235.6,
          1220.8,
          1275.6,
          1320,
          1295.8
         ]
        },
        {
         "line": {
          "width": 2
         },
         "marker": {
          "size": 6
         },
         "mode": "lines+markers",
         "name": "1300 ms",
         "type": "scatter",
         "x": [
          104,
          112,
          113,
          122,
          125,
          134,
          135,
          148,
          150,
          169,
          172,
          177,
          187,
          189,
          193,
          194,
          201,
          251,
          261,
          273,
          276,
          282,
          284,
          288,
          298,
          299
         ],
         "y": [
          1237,
          1441.5,
          1490,
          1473,
          1473.6,
          1484.4,
          1430.6,
          1383.4,
          1358,
          1353,
          1396.8,
          1393,
          1451.2,
          1404,
          1426.4,
          1399.2,
          1336,
          1246.2,
          1340.4,
          1311.4,
          1278.8,
          1399.8,
          1435.8,
          1398.8,
          1431.6,
          1484.6
         ]
        },
        {
         "line": {
          "width": 2
         },
         "marker": {
          "size": 6
         },
         "mode": "lines+markers",
         "name": "1400 ms",
         "type": "scatter",
         "x": [
          101,
          107,
          114,
          117,
          120,
          127,
          136,
          138,
          155,
          159,
          167,
          173,
          176
         ],
         "y": [
          1234,
          1322.5,
          1414.6666666666667,
          1408.5,
          1430.6,
          1481.8,
          1483.8,
          1426,
          1464.4,
          1460.6,
          1512.6,
          1526.6,
          1534.6
         ]
        },
        {
         "line": {
          "width": 2
         },
         "marker": {
          "size": 6
         },
         "mode": "lines+markers",
         "name": "1500 ms",
         "type": "scatter",
         "x": [
          106,
          124,
          130,
          152,
          156,
          157,
          168,
          180,
          182,
          184,
          191,
          195,
          196
         ],
         "y": [
          1562,
          1530,
          1577.3333333333333,
          1567,
          1550.4,
          1527.4,
          1550.4,
          1508.2,
          1514.4,
          1536.4,
          1566.2,
          1527,
          1537.2
         ]
        },
        {
         "line": {
          "width": 2
         },
         "marker": {
          "size": 6
         },
         "mode": "lines+markers",
         "name": "1600 ms",
         "type": "scatter",
         "x": [
          115,
          118,
          146,
          153,
          154,
          164,
          170,
          174,
          178,
          181,
          185
         ],
         "y": [
          1727,
          1568.5,
          1548.3333333333333,
          1522.75,
          1541.4,
          1526.6,
          1617.6,
          1705,
          1735.8,
          1733.8,
          1771.8
         ]
        },
        {
         "line": {
          "width": 2
         },
         "marker": {
          "size": 6
         },
         "mode": "lines+markers",
         "name": "1700 ms",
         "type": "scatter",
         "x": [
          109,
          110,
          111,
          126,
          131,
          137,
          147,
          151,
          162,
          166,
          171,
          197,
          198
         ],
         "y": [
          1688,
          1781,
          1818,
          1775.5,
          1771.8,
          1768,
          1701.6,
          1641.2,
          1670,
          1693.6,
          1731.8,
          1765.6,
          1786.6
         ]
        }
       ],
       "layout": {
        "height": 500,
        "legend": {
         "title": {
          "text": "Target Interval"
         }
        },
        "template": {
         "data": {
          "bar": [
           {
            "error_x": {
             "color": "rgb(36,36,36)"
            },
            "error_y": {
             "color": "rgb(36,36,36)"
            },
            "marker": {
             "line": {
              "color": "white",
              "width": 0.5
             },
             "pattern": {
              "fillmode": "overlay",
              "size": 10,
              "solidity": 0.2
             }
            },
            "type": "bar"
           }
          ],
          "barpolar": [
           {
            "marker": {
             "line": {
              "color": "white",
              "width": 0.5
             },
             "pattern": {
              "fillmode": "overlay",
              "size": 10,
              "solidity": 0.2
             }
            },
            "type": "barpolar"
           }
          ],
          "carpet": [
           {
            "aaxis": {
             "endlinecolor": "rgb(36,36,36)",
             "gridcolor": "white",
             "linecolor": "white",
             "minorgridcolor": "white",
             "startlinecolor": "rgb(36,36,36)"
            },
            "baxis": {
             "endlinecolor": "rgb(36,36,36)",
             "gridcolor": "white",
             "linecolor": "white",
             "minorgridcolor": "white",
             "startlinecolor": "rgb(36,36,36)"
            },
            "type": "carpet"
           }
          ],
          "choropleth": [
           {
            "colorbar": {
             "outlinewidth": 1,
             "tickcolor": "rgb(36,36,36)",
             "ticks": "outside"
            },
            "type": "choropleth"
           }
          ],
          "contour": [
           {
            "colorbar": {
             "outlinewidth": 1,
             "tickcolor": "rgb(36,36,36)",
             "ticks": "outside"
            },
            "colorscale": [
             [
              0,
              "#440154"
             ],
             [
              0.1111111111111111,
              "#482878"
             ],
             [
              0.2222222222222222,
              "#3e4989"
             ],
             [
              0.3333333333333333,
              "#31688e"
             ],
             [
              0.4444444444444444,
              "#26828e"
             ],
             [
              0.5555555555555556,
              "#1f9e89"
             ],
             [
              0.6666666666666666,
              "#35b779"
             ],
             [
              0.7777777777777778,
              "#6ece58"
             ],
             [
              0.8888888888888888,
              "#b5de2b"
             ],
             [
              1,
              "#fde725"
             ]
            ],
            "type": "contour"
           }
          ],
          "contourcarpet": [
           {
            "colorbar": {
             "outlinewidth": 1,
             "tickcolor": "rgb(36,36,36)",
             "ticks": "outside"
            },
            "type": "contourcarpet"
           }
          ],
          "heatmap": [
           {
            "colorbar": {
             "outlinewidth": 1,
             "tickcolor": "rgb(36,36,36)",
             "ticks": "outside"
            },
            "colorscale": [
             [
              0,
              "#440154"
             ],
             [
              0.1111111111111111,
              "#482878"
             ],
             [
              0.2222222222222222,
              "#3e4989"
             ],
             [
              0.3333333333333333,
              "#31688e"
             ],
             [
              0.4444444444444444,
              "#26828e"
             ],
             [
              0.5555555555555556,
              "#1f9e89"
             ],
             [
              0.6666666666666666,
              "#35b779"
             ],
             [
              0.7777777777777778,
              "#6ece58"
             ],
             [
              0.8888888888888888,
              "#b5de2b"
             ],
             [
              1,
              "#fde725"
             ]
            ],
            "type": "heatmap"
           }
          ],
          "heatmapgl": [
           {
            "colorbar": {
             "outlinewidth": 1,
             "tickcolor": "rgb(36,36,36)",
             "ticks": "outside"
            },
            "colorscale": [
             [
              0,
              "#440154"
             ],
             [
              0.1111111111111111,
              "#482878"
             ],
             [
              0.2222222222222222,
              "#3e4989"
             ],
             [
              0.3333333333333333,
              "#31688e"
             ],
             [
              0.4444444444444444,
              "#26828e"
             ],
             [
              0.5555555555555556,
              "#1f9e89"
             ],
             [
              0.6666666666666666,
              "#35b779"
             ],
             [
              0.7777777777777778,
              "#6ece58"
             ],
             [
              0.8888888888888888,
              "#b5de2b"
             ],
             [
              1,
              "#fde725"
             ]
            ],
            "type": "heatmapgl"
           }
          ],
          "histogram": [
           {
            "marker": {
             "line": {
              "color": "white",
              "width": 0.6
             }
            },
            "type": "histogram"
           }
          ],
          "histogram2d": [
           {
            "colorbar": {
             "outlinewidth": 1,
             "tickcolor": "rgb(36,36,36)",
             "ticks": "outside"
            },
            "colorscale": [
             [
              0,
              "#440154"
             ],
             [
              0.1111111111111111,
              "#482878"
             ],
             [
              0.2222222222222222,
              "#3e4989"
             ],
             [
              0.3333333333333333,
              "#31688e"
             ],
             [
              0.4444444444444444,
              "#26828e"
             ],
             [
              0.5555555555555556,
              "#1f9e89"
             ],
             [
              0.6666666666666666,
              "#35b779"
             ],
             [
              0.7777777777777778,
              "#6ece58"
             ],
             [
              0.8888888888888888,
              "#b5de2b"
             ],
             [
              1,
              "#fde725"
             ]
            ],
            "type": "histogram2d"
           }
          ],
          "histogram2dcontour": [
           {
            "colorbar": {
             "outlinewidth": 1,
             "tickcolor": "rgb(36,36,36)",
             "ticks": "outside"
            },
            "colorscale": [
             [
              0,
              "#440154"
             ],
             [
              0.1111111111111111,
              "#482878"
             ],
             [
              0.2222222222222222,
              "#3e4989"
             ],
             [
              0.3333333333333333,
              "#31688e"
             ],
             [
              0.4444444444444444,
              "#26828e"
             ],
             [
              0.5555555555555556,
              "#1f9e89"
             ],
             [
              0.6666666666666666,
              "#35b779"
             ],
             [
              0.7777777777777778,
              "#6ece58"
             ],
             [
              0.8888888888888888,
              "#b5de2b"
             ],
             [
              1,
              "#fde725"
             ]
            ],
            "type": "histogram2dcontour"
           }
          ],
          "mesh3d": [
           {
            "colorbar": {
             "outlinewidth": 1,
             "tickcolor": "rgb(36,36,36)",
             "ticks": "outside"
            },
            "type": "mesh3d"
           }
          ],
          "parcoords": [
           {
            "line": {
             "colorbar": {
              "outlinewidth": 1,
              "tickcolor": "rgb(36,36,36)",
              "ticks": "outside"
             }
            },
            "type": "parcoords"
           }
          ],
          "pie": [
           {
            "automargin": true,
            "type": "pie"
           }
          ],
          "scatter": [
           {
            "fillpattern": {
             "fillmode": "overlay",
             "size": 10,
             "solidity": 0.2
            },
            "type": "scatter"
           }
          ],
          "scatter3d": [
           {
            "line": {
             "colorbar": {
              "outlinewidth": 1,
              "tickcolor": "rgb(36,36,36)",
              "ticks": "outside"
             }
            },
            "marker": {
             "colorbar": {
              "outlinewidth": 1,
              "tickcolor": "rgb(36,36,36)",
              "ticks": "outside"
             }
            },
            "type": "scatter3d"
           }
          ],
          "scattercarpet": [
           {
            "marker": {
             "colorbar": {
              "outlinewidth": 1,
              "tickcolor": "rgb(36,36,36)",
              "ticks": "outside"
             }
            },
            "type": "scattercarpet"
           }
          ],
          "scattergeo": [
           {
            "marker": {
             "colorbar": {
              "outlinewidth": 1,
              "tickcolor": "rgb(36,36,36)",
              "ticks": "outside"
             }
            },
            "type": "scattergeo"
           }
          ],
          "scattergl": [
           {
            "marker": {
             "colorbar": {
              "outlinewidth": 1,
              "tickcolor": "rgb(36,36,36)",
              "ticks": "outside"
             }
            },
            "type": "scattergl"
           }
          ],
          "scattermapbox": [
           {
            "marker": {
             "colorbar": {
              "outlinewidth": 1,
              "tickcolor": "rgb(36,36,36)",
              "ticks": "outside"
             }
            },
            "type": "scattermapbox"
           }
          ],
          "scatterpolar": [
           {
            "marker": {
             "colorbar": {
              "outlinewidth": 1,
              "tickcolor": "rgb(36,36,36)",
              "ticks": "outside"
             }
            },
            "type": "scatterpolar"
           }
          ],
          "scatterpolargl": [
           {
            "marker": {
             "colorbar": {
              "outlinewidth": 1,
              "tickcolor": "rgb(36,36,36)",
              "ticks": "outside"
             }
            },
            "type": "scatterpolargl"
           }
          ],
          "scatterternary": [
           {
            "marker": {
             "colorbar": {
              "outlinewidth": 1,
              "tickcolor": "rgb(36,36,36)",
              "ticks": "outside"
             }
            },
            "type": "scatterternary"
           }
          ],
          "surface": [
           {
            "colorbar": {
             "outlinewidth": 1,
             "tickcolor": "rgb(36,36,36)",
             "ticks": "outside"
            },
            "colorscale": [
             [
              0,
              "#440154"
             ],
             [
              0.1111111111111111,
              "#482878"
             ],
             [
              0.2222222222222222,
              "#3e4989"
             ],
             [
              0.3333333333333333,
              "#31688e"
             ],
             [
              0.4444444444444444,
              "#26828e"
             ],
             [
              0.5555555555555556,
              "#1f9e89"
             ],
             [
              0.6666666666666666,
              "#35b779"
             ],
             [
              0.7777777777777778,
              "#6ece58"
             ],
             [
              0.8888888888888888,
              "#b5de2b"
             ],
             [
              1,
              "#fde725"
             ]
            ],
            "type": "surface"
           }
          ],
          "table": [
           {
            "cells": {
             "fill": {
              "color": "rgb(237,237,237)"
             },
             "line": {
              "color": "white"
             }
            },
            "header": {
             "fill": {
              "color": "rgb(217,217,217)"
             },
             "line": {
              "color": "white"
             }
            },
            "type": "table"
           }
          ]
         },
         "layout": {
          "annotationdefaults": {
           "arrowhead": 0,
           "arrowwidth": 1
          },
          "autotypenumbers": "strict",
          "coloraxis": {
           "colorbar": {
            "outlinewidth": 1,
            "tickcolor": "rgb(36,36,36)",
            "ticks": "outside"
           }
          },
          "colorscale": {
           "diverging": [
            [
             0,
             "rgb(103,0,31)"
            ],
            [
             0.1,
             "rgb(178,24,43)"
            ],
            [
             0.2,
             "rgb(214,96,77)"
            ],
            [
             0.3,
             "rgb(244,165,130)"
            ],
            [
             0.4,
             "rgb(253,219,199)"
            ],
            [
             0.5,
             "rgb(247,247,247)"
            ],
            [
             0.6,
             "rgb(209,229,240)"
            ],
            [
             0.7,
             "rgb(146,197,222)"
            ],
            [
             0.8,
             "rgb(67,147,195)"
            ],
            [
             0.9,
             "rgb(33,102,172)"
            ],
            [
             1,
             "rgb(5,48,97)"
            ]
           ],
           "sequential": [
            [
             0,
             "#440154"
            ],
            [
             0.1111111111111111,
             "#482878"
            ],
            [
             0.2222222222222222,
             "#3e4989"
            ],
            [
             0.3333333333333333,
             "#31688e"
            ],
            [
             0.4444444444444444,
             "#26828e"
            ],
            [
             0.5555555555555556,
             "#1f9e89"
            ],
            [
             0.6666666666666666,
             "#35b779"
            ],
            [
             0.7777777777777778,
             "#6ece58"
            ],
            [
             0.8888888888888888,
             "#b5de2b"
            ],
            [
             1,
             "#fde725"
            ]
           ],
           "sequentialminus": [
            [
             0,
             "#440154"
            ],
            [
             0.1111111111111111,
             "#482878"
            ],
            [
             0.2222222222222222,
             "#3e4989"
            ],
            [
             0.3333333333333333,
             "#31688e"
            ],
            [
             0.4444444444444444,
             "#26828e"
            ],
            [
             0.5555555555555556,
             "#1f9e89"
            ],
            [
             0.6666666666666666,
             "#35b779"
            ],
            [
             0.7777777777777778,
             "#6ece58"
            ],
            [
             0.8888888888888888,
             "#b5de2b"
            ],
            [
             1,
             "#fde725"
            ]
           ]
          },
          "colorway": [
           "#1F77B4",
           "#FF7F0E",
           "#2CA02C",
           "#D62728",
           "#9467BD",
           "#8C564B",
           "#E377C2",
           "#7F7F7F",
           "#BCBD22",
           "#17BECF"
          ],
          "font": {
           "color": "rgb(36,36,36)"
          },
          "geo": {
           "bgcolor": "white",
           "lakecolor": "white",
           "landcolor": "white",
           "showlakes": true,
           "showland": true,
           "subunitcolor": "white"
          },
          "hoverlabel": {
           "align": "left"
          },
          "hovermode": "closest",
          "mapbox": {
           "style": "light"
          },
          "paper_bgcolor": "white",
          "plot_bgcolor": "white",
          "polar": {
           "angularaxis": {
            "gridcolor": "rgb(232,232,232)",
            "linecolor": "rgb(36,36,36)",
            "showgrid": false,
            "showline": true,
            "ticks": "outside"
           },
           "bgcolor": "white",
           "radialaxis": {
            "gridcolor": "rgb(232,232,232)",
            "linecolor": "rgb(36,36,36)",
            "showgrid": false,
            "showline": true,
            "ticks": "outside"
           }
          },
          "scene": {
           "xaxis": {
            "backgroundcolor": "white",
            "gridcolor": "rgb(232,232,232)",
            "gridwidth": 2,
            "linecolor": "rgb(36,36,36)",
            "showbackground": true,
            "showgrid": false,
            "showline": true,
            "ticks": "outside",
            "zeroline": false,
            "zerolinecolor": "rgb(36,36,36)"
           },
           "yaxis": {
            "backgroundcolor": "white",
            "gridcolor": "rgb(232,232,232)",
            "gridwidth": 2,
            "linecolor": "rgb(36,36,36)",
            "showbackground": true,
            "showgrid": false,
            "showline": true,
            "ticks": "outside",
            "zeroline": false,
            "zerolinecolor": "rgb(36,36,36)"
           },
           "zaxis": {
            "backgroundcolor": "white",
            "gridcolor": "rgb(232,232,232)",
            "gridwidth": 2,
            "linecolor": "rgb(36,36,36)",
            "showbackground": true,
            "showgrid": false,
            "showline": true,
            "ticks": "outside",
            "zeroline": false,
            "zerolinecolor": "rgb(36,36,36)"
           }
          },
          "shapedefaults": {
           "fillcolor": "black",
           "line": {
            "width": 0
           },
           "opacity": 0.3
          },
          "ternary": {
           "aaxis": {
            "gridcolor": "rgb(232,232,232)",
            "linecolor": "rgb(36,36,36)",
            "showgrid": false,
            "showline": true,
            "ticks": "outside"
           },
           "baxis": {
            "gridcolor": "rgb(232,232,232)",
            "linecolor": "rgb(36,36,36)",
            "showgrid": false,
            "showline": true,
            "ticks": "outside"
           },
           "bgcolor": "white",
           "caxis": {
            "gridcolor": "rgb(232,232,232)",
            "linecolor": "rgb(36,36,36)",
            "showgrid": false,
            "showline": true,
            "ticks": "outside"
           }
          },
          "title": {
           "x": 0.05
          },
          "xaxis": {
           "automargin": true,
           "gridcolor": "rgb(232,232,232)",
           "linecolor": "rgb(36,36,36)",
           "showgrid": false,
           "showline": true,
           "ticks": "outside",
           "title": {
            "standoff": 15
           },
           "zeroline": false,
           "zerolinecolor": "rgb(36,36,36)"
          },
          "yaxis": {
           "automargin": true,
           "gridcolor": "rgb(232,232,232)",
           "linecolor": "rgb(36,36,36)",
           "showgrid": false,
           "showline": true,
           "ticks": "outside",
           "title": {
            "standoff": 15
           },
           "zeroline": false,
           "zerolinecolor": "rgb(36,36,36)"
          }
         }
        },
        "title": {
         "text": "Reproduced Interval vs Trial Number (Smoothed over 5 trials)"
        },
        "width": 900,
        "xaxis": {
         "title": {
          "text": "Trial Number"
         }
        },
        "yaxis": {
         "title": {
          "text": "Smoothed Reproduced Interval (ms)"
         }
        }
       }
      },
      "text/html": [
       "<div>                            <div id=\"c4379daf-098a-4dbe-8195-f8194c4c31e6\" class=\"plotly-graph-div\" style=\"height:500px; width:900px;\"></div>            <script type=\"text/javascript\">                require([\"plotly\"], function(Plotly) {                    window.PLOTLYENV=window.PLOTLYENV || {};                                    if (document.getElementById(\"c4379daf-098a-4dbe-8195-f8194c4c31e6\")) {                    Plotly.newPlot(                        \"c4379daf-098a-4dbe-8195-f8194c4c31e6\",                        [{\"line\":{\"width\":2},\"marker\":{\"size\":6},\"mode\":\"lines+markers\",\"name\":\"200 ms\",\"x\":[5,24,30,37,53,73,75,83,84,98],\"y\":[244.0,161.0,139.33333333333334,139.0,143.4,123.8,156.6,193.4,221.2,242.6],\"type\":\"scatter\"},{\"line\":{\"width\":2},\"marker\":{\"size\":6},\"mode\":\"lines+markers\",\"name\":\"300 ms\",\"x\":[1,4,20,34,35,48,58,70,80,87,93,100],\"y\":[265.0,305.5,301.3333333333333,289.0,300.4,316.8,277.8,291.2,314.2,318.0,304.6,354.4],\"type\":\"scatter\"},{\"line\":{\"width\":2},\"marker\":{\"size\":6},\"mode\":\"lines+markers\",\"name\":\"400 ms\",\"x\":[7,11,17,26,33,47,56,81,88,95],\"y\":[322.0,363.5,394.0,386.0,403.6,405.6,410.0,415.8,439.6,456.8],\"type\":\"scatter\"},{\"line\":{\"width\":2},\"marker\":{\"size\":6},\"mode\":\"lines+markers\",\"name\":\"500 ms\",\"x\":[8,9,10,12,31,41,42,44,45,51,54,55,60,61,67,72,77,79,82,90,96],\"y\":[504.0,510.0,492.3333333333333,470.5,467.0,471.6,468.0,477.2,487.4,489.6,474.0,471.0,481.6,502.4,521.8,519.2,544.2,511.4,498.0,544.2,582.4],\"type\":\"scatter\"},{\"line\":{\"width\":2},\"marker\":{\"size\":6},\"mode\":\"lines+markers\",\"name\":\"600 ms\",\"x\":[18,21,23,36,49,50,62,65,66,69,76,92,97,220,224,244,247,267,269,274,280,287,290],\"y\":[501.0,520.0,562.3333333333334,578.75,588.2,602.8,596.6,597.4,606.4,609.4,643.2,718.2,735.0,728.0,790.0,766.0,681.8,628.4,653.4,618.8,626.4,653.8,692.4],\"type\":\"scatter\"},{\"line\":{\"width\":2},\"marker\":{\"size\":6},\"mode\":\"lines+markers\",\"name\":\"700 ms\",\"x\":[6,25,27,29,32,52,57,59,63,64,85,203,208,215,216,225,231,249,260,263,266,283,286,293],\"y\":[672.0,725.0,703.0,719.75,717.4,707.4,672.6,659.2,658.6,654.2,655.0,680.2,710.0,706.2,793.2,863.2,924.8,921.6,935.0,840.2,788.0,759.0,789.2,801.0],\"type\":\"scatter\"},{\"line\":{\"width\":2},\"marker\":{\"size\":6},\"mode\":\"lines+markers\",\"name\":\"800 ms\",\"x\":[2,14,19,22,28,38,40,68,74,86,91,99,222,236,252,255,265,268,275,277,278,279,289,292],\"y\":[866.0,750.0,727.6666666666666,731.5,736.6,689.2,720.2,733.2,744.6,766.0,829.8,810.0,858.6,872.8,867.6,870.6,965.0,962.4,972.8,975.8,944.0,878.8,844.4,877.4],\"type\":\"scatter\"},{\"line\":{\"width\":2},\"marker\":{\"size\":6},\"mode\":\"lines+markers\",\"name\":\"900 ms\",\"x\":[3,13,15,16,39,43,46,71,78,89,94,204,206,209,211,226,228,229,235,253,256,291,295,296],\"y\":[817.0,722.5,698.0,677.25,721.4,714.4,725.6,769.8,795.4,812.4,869.0,905.2,939.8,971.4,974.6,983.8,1061.2,1067.0,1105.4,1123.4,1098.0,1069.2,1105.2,1142.4],\"type\":\"scatter\"},{\"line\":{\"width\":2},\"marker\":{\"size\":6},\"mode\":\"lines+markers\",\"name\":\"1000 ms\",\"x\":[108,119,123,132,142,144,145,158,161,163,183,186,192,205,213,214,219,227,234,241,246,250,262,264,272,285,294],\"y\":[1017.0,951.0,1089.0,1103.25,1102.2,1141.4,1219.8,1184.4,1159.4,1129.6,1033.2,1015.0,1065.0,1065.4,1124.0,1234.8,1264.8,1215.4,1195.0,1136.4,1109.6,1073.6,1086.8,1111.4,1125.2,1173.4,1159.0],\"type\":\"scatter\"},{\"line\":{\"width\":2},\"marker\":{\"size\":6},\"mode\":\"lines+markers\",\"name\":\"1100 ms\",\"x\":[103,105,129,141,143,188,190,199,207,210,212,217,218,221,223,232,238,240,242,245,248,254,270,281,300],\"y\":[1216.0,1244.5,1318.3333333333333,1278.75,1297.6,1282.0,1231.4,1198.0,1220.6,1160.2,1185.2,1235.0,1227.4,1205.4,1341.4,1326.6,1312.0,1289.4,1281.0,1172.0,1183.6,1218.4,1249.0,1289.4,1272.2],\"type\":\"scatter\"},{\"line\":{\"width\":2},\"marker\":{\"size\":6},\"mode\":\"lines+markers\",\"name\":\"1200 ms\",\"x\":[102,116,121,128,133,139,140,149,160,165,175,179,200,202,230,233,237,239,243,257,258,259,271,297],\"y\":[1287.0,1206.5,1220.3333333333333,1192.5,1213.2,1251.2,1326.0,1310.6,1370.2,1388.8,1362.2,1352.2,1367.4,1331.6,1285.0,1300.6,1225.0,1199.6,1200.8,1235.6,1220.8,1275.6,1320.0,1295.8],\"type\":\"scatter\"},{\"line\":{\"width\":2},\"marker\":{\"size\":6},\"mode\":\"lines+markers\",\"name\":\"1300 ms\",\"x\":[104,112,113,122,125,134,135,148,150,169,172,177,187,189,193,194,201,251,261,273,276,282,284,288,298,299],\"y\":[1237.0,1441.5,1490.0,1473.0,1473.6,1484.4,1430.6,1383.4,1358.0,1353.0,1396.8,1393.0,1451.2,1404.0,1426.4,1399.2,1336.0,1246.2,1340.4,1311.4,1278.8,1399.8,1435.8,1398.8,1431.6,1484.6],\"type\":\"scatter\"},{\"line\":{\"width\":2},\"marker\":{\"size\":6},\"mode\":\"lines+markers\",\"name\":\"1400 ms\",\"x\":[101,107,114,117,120,127,136,138,155,159,167,173,176],\"y\":[1234.0,1322.5,1414.6666666666667,1408.5,1430.6,1481.8,1483.8,1426.0,1464.4,1460.6,1512.6,1526.6,1534.6],\"type\":\"scatter\"},{\"line\":{\"width\":2},\"marker\":{\"size\":6},\"mode\":\"lines+markers\",\"name\":\"1500 ms\",\"x\":[106,124,130,152,156,157,168,180,182,184,191,195,196],\"y\":[1562.0,1530.0,1577.3333333333333,1567.0,1550.4,1527.4,1550.4,1508.2,1514.4,1536.4,1566.2,1527.0,1537.2],\"type\":\"scatter\"},{\"line\":{\"width\":2},\"marker\":{\"size\":6},\"mode\":\"lines+markers\",\"name\":\"1600 ms\",\"x\":[115,118,146,153,154,164,170,174,178,181,185],\"y\":[1727.0,1568.5,1548.3333333333333,1522.75,1541.4,1526.6,1617.6,1705.0,1735.8,1733.8,1771.8],\"type\":\"scatter\"},{\"line\":{\"width\":2},\"marker\":{\"size\":6},\"mode\":\"lines+markers\",\"name\":\"1700 ms\",\"x\":[109,110,111,126,131,137,147,151,162,166,171,197,198],\"y\":[1688.0,1781.0,1818.0,1775.5,1771.8,1768.0,1701.6,1641.2,1670.0,1693.6,1731.8,1765.6,1786.6],\"type\":\"scatter\"}],                        {\"template\":{\"data\":{\"barpolar\":[{\"marker\":{\"line\":{\"color\":\"white\",\"width\":0.5},\"pattern\":{\"fillmode\":\"overlay\",\"size\":10,\"solidity\":0.2}},\"type\":\"barpolar\"}],\"bar\":[{\"error_x\":{\"color\":\"rgb(36,36,36)\"},\"error_y\":{\"color\":\"rgb(36,36,36)\"},\"marker\":{\"line\":{\"color\":\"white\",\"width\":0.5},\"pattern\":{\"fillmode\":\"overlay\",\"size\":10,\"solidity\":0.2}},\"type\":\"bar\"}],\"carpet\":[{\"aaxis\":{\"endlinecolor\":\"rgb(36,36,36)\",\"gridcolor\":\"white\",\"linecolor\":\"white\",\"minorgridcolor\":\"white\",\"startlinecolor\":\"rgb(36,36,36)\"},\"baxis\":{\"endlinecolor\":\"rgb(36,36,36)\",\"gridcolor\":\"white\",\"linecolor\":\"white\",\"minorgridcolor\":\"white\",\"startlinecolor\":\"rgb(36,36,36)\"},\"type\":\"carpet\"}],\"choropleth\":[{\"colorbar\":{\"outlinewidth\":1,\"tickcolor\":\"rgb(36,36,36)\",\"ticks\":\"outside\"},\"type\":\"choropleth\"}],\"contourcarpet\":[{\"colorbar\":{\"outlinewidth\":1,\"tickcolor\":\"rgb(36,36,36)\",\"ticks\":\"outside\"},\"type\":\"contourcarpet\"}],\"contour\":[{\"colorbar\":{\"outlinewidth\":1,\"tickcolor\":\"rgb(36,36,36)\",\"ticks\":\"outside\"},\"colorscale\":[[0.0,\"#440154\"],[0.1111111111111111,\"#482878\"],[0.2222222222222222,\"#3e4989\"],[0.3333333333333333,\"#31688e\"],[0.4444444444444444,\"#26828e\"],[0.5555555555555556,\"#1f9e89\"],[0.6666666666666666,\"#35b779\"],[0.7777777777777778,\"#6ece58\"],[0.8888888888888888,\"#b5de2b\"],[1.0,\"#fde725\"]],\"type\":\"contour\"}],\"heatmapgl\":[{\"colorbar\":{\"outlinewidth\":1,\"tickcolor\":\"rgb(36,36,36)\",\"ticks\":\"outside\"},\"colorscale\":[[0.0,\"#440154\"],[0.1111111111111111,\"#482878\"],[0.2222222222222222,\"#3e4989\"],[0.3333333333333333,\"#31688e\"],[0.4444444444444444,\"#26828e\"],[0.5555555555555556,\"#1f9e89\"],[0.6666666666666666,\"#35b779\"],[0.7777777777777778,\"#6ece58\"],[0.8888888888888888,\"#b5de2b\"],[1.0,\"#fde725\"]],\"type\":\"heatmapgl\"}],\"heatmap\":[{\"colorbar\":{\"outlinewidth\":1,\"tickcolor\":\"rgb(36,36,36)\",\"ticks\":\"outside\"},\"colorscale\":[[0.0,\"#440154\"],[0.1111111111111111,\"#482878\"],[0.2222222222222222,\"#3e4989\"],[0.3333333333333333,\"#31688e\"],[0.4444444444444444,\"#26828e\"],[0.5555555555555556,\"#1f9e89\"],[0.6666666666666666,\"#35b779\"],[0.7777777777777778,\"#6ece58\"],[0.8888888888888888,\"#b5de2b\"],[1.0,\"#fde725\"]],\"type\":\"heatmap\"}],\"histogram2dcontour\":[{\"colorbar\":{\"outlinewidth\":1,\"tickcolor\":\"rgb(36,36,36)\",\"ticks\":\"outside\"},\"colorscale\":[[0.0,\"#440154\"],[0.1111111111111111,\"#482878\"],[0.2222222222222222,\"#3e4989\"],[0.3333333333333333,\"#31688e\"],[0.4444444444444444,\"#26828e\"],[0.5555555555555556,\"#1f9e89\"],[0.6666666666666666,\"#35b779\"],[0.7777777777777778,\"#6ece58\"],[0.8888888888888888,\"#b5de2b\"],[1.0,\"#fde725\"]],\"type\":\"histogram2dcontour\"}],\"histogram2d\":[{\"colorbar\":{\"outlinewidth\":1,\"tickcolor\":\"rgb(36,36,36)\",\"ticks\":\"outside\"},\"colorscale\":[[0.0,\"#440154\"],[0.1111111111111111,\"#482878\"],[0.2222222222222222,\"#3e4989\"],[0.3333333333333333,\"#31688e\"],[0.4444444444444444,\"#26828e\"],[0.5555555555555556,\"#1f9e89\"],[0.6666666666666666,\"#35b779\"],[0.7777777777777778,\"#6ece58\"],[0.8888888888888888,\"#b5de2b\"],[1.0,\"#fde725\"]],\"type\":\"histogram2d\"}],\"histogram\":[{\"marker\":{\"line\":{\"color\":\"white\",\"width\":0.6}},\"type\":\"histogram\"}],\"mesh3d\":[{\"colorbar\":{\"outlinewidth\":1,\"tickcolor\":\"rgb(36,36,36)\",\"ticks\":\"outside\"},\"type\":\"mesh3d\"}],\"parcoords\":[{\"line\":{\"colorbar\":{\"outlinewidth\":1,\"tickcolor\":\"rgb(36,36,36)\",\"ticks\":\"outside\"}},\"type\":\"parcoords\"}],\"pie\":[{\"automargin\":true,\"type\":\"pie\"}],\"scatter3d\":[{\"line\":{\"colorbar\":{\"outlinewidth\":1,\"tickcolor\":\"rgb(36,36,36)\",\"ticks\":\"outside\"}},\"marker\":{\"colorbar\":{\"outlinewidth\":1,\"tickcolor\":\"rgb(36,36,36)\",\"ticks\":\"outside\"}},\"type\":\"scatter3d\"}],\"scattercarpet\":[{\"marker\":{\"colorbar\":{\"outlinewidth\":1,\"tickcolor\":\"rgb(36,36,36)\",\"ticks\":\"outside\"}},\"type\":\"scattercarpet\"}],\"scattergeo\":[{\"marker\":{\"colorbar\":{\"outlinewidth\":1,\"tickcolor\":\"rgb(36,36,36)\",\"ticks\":\"outside\"}},\"type\":\"scattergeo\"}],\"scattergl\":[{\"marker\":{\"colorbar\":{\"outlinewidth\":1,\"tickcolor\":\"rgb(36,36,36)\",\"ticks\":\"outside\"}},\"type\":\"scattergl\"}],\"scattermapbox\":[{\"marker\":{\"colorbar\":{\"outlinewidth\":1,\"tickcolor\":\"rgb(36,36,36)\",\"ticks\":\"outside\"}},\"type\":\"scattermapbox\"}],\"scatterpolargl\":[{\"marker\":{\"colorbar\":{\"outlinewidth\":1,\"tickcolor\":\"rgb(36,36,36)\",\"ticks\":\"outside\"}},\"type\":\"scatterpolargl\"}],\"scatterpolar\":[{\"marker\":{\"colorbar\":{\"outlinewidth\":1,\"tickcolor\":\"rgb(36,36,36)\",\"ticks\":\"outside\"}},\"type\":\"scatterpolar\"}],\"scatter\":[{\"fillpattern\":{\"fillmode\":\"overlay\",\"size\":10,\"solidity\":0.2},\"type\":\"scatter\"}],\"scatterternary\":[{\"marker\":{\"colorbar\":{\"outlinewidth\":1,\"tickcolor\":\"rgb(36,36,36)\",\"ticks\":\"outside\"}},\"type\":\"scatterternary\"}],\"surface\":[{\"colorbar\":{\"outlinewidth\":1,\"tickcolor\":\"rgb(36,36,36)\",\"ticks\":\"outside\"},\"colorscale\":[[0.0,\"#440154\"],[0.1111111111111111,\"#482878\"],[0.2222222222222222,\"#3e4989\"],[0.3333333333333333,\"#31688e\"],[0.4444444444444444,\"#26828e\"],[0.5555555555555556,\"#1f9e89\"],[0.6666666666666666,\"#35b779\"],[0.7777777777777778,\"#6ece58\"],[0.8888888888888888,\"#b5de2b\"],[1.0,\"#fde725\"]],\"type\":\"surface\"}],\"table\":[{\"cells\":{\"fill\":{\"color\":\"rgb(237,237,237)\"},\"line\":{\"color\":\"white\"}},\"header\":{\"fill\":{\"color\":\"rgb(217,217,217)\"},\"line\":{\"color\":\"white\"}},\"type\":\"table\"}]},\"layout\":{\"annotationdefaults\":{\"arrowhead\":0,\"arrowwidth\":1},\"autotypenumbers\":\"strict\",\"coloraxis\":{\"colorbar\":{\"outlinewidth\":1,\"tickcolor\":\"rgb(36,36,36)\",\"ticks\":\"outside\"}},\"colorscale\":{\"diverging\":[[0.0,\"rgb(103,0,31)\"],[0.1,\"rgb(178,24,43)\"],[0.2,\"rgb(214,96,77)\"],[0.3,\"rgb(244,165,130)\"],[0.4,\"rgb(253,219,199)\"],[0.5,\"rgb(247,247,247)\"],[0.6,\"rgb(209,229,240)\"],[0.7,\"rgb(146,197,222)\"],[0.8,\"rgb(67,147,195)\"],[0.9,\"rgb(33,102,172)\"],[1.0,\"rgb(5,48,97)\"]],\"sequential\":[[0.0,\"#440154\"],[0.1111111111111111,\"#482878\"],[0.2222222222222222,\"#3e4989\"],[0.3333333333333333,\"#31688e\"],[0.4444444444444444,\"#26828e\"],[0.5555555555555556,\"#1f9e89\"],[0.6666666666666666,\"#35b779\"],[0.7777777777777778,\"#6ece58\"],[0.8888888888888888,\"#b5de2b\"],[1.0,\"#fde725\"]],\"sequentialminus\":[[0.0,\"#440154\"],[0.1111111111111111,\"#482878\"],[0.2222222222222222,\"#3e4989\"],[0.3333333333333333,\"#31688e\"],[0.4444444444444444,\"#26828e\"],[0.5555555555555556,\"#1f9e89\"],[0.6666666666666666,\"#35b779\"],[0.7777777777777778,\"#6ece58\"],[0.8888888888888888,\"#b5de2b\"],[1.0,\"#fde725\"]]},\"colorway\":[\"#1F77B4\",\"#FF7F0E\",\"#2CA02C\",\"#D62728\",\"#9467BD\",\"#8C564B\",\"#E377C2\",\"#7F7F7F\",\"#BCBD22\",\"#17BECF\"],\"font\":{\"color\":\"rgb(36,36,36)\"},\"geo\":{\"bgcolor\":\"white\",\"lakecolor\":\"white\",\"landcolor\":\"white\",\"showlakes\":true,\"showland\":true,\"subunitcolor\":\"white\"},\"hoverlabel\":{\"align\":\"left\"},\"hovermode\":\"closest\",\"mapbox\":{\"style\":\"light\"},\"paper_bgcolor\":\"white\",\"plot_bgcolor\":\"white\",\"polar\":{\"angularaxis\":{\"gridcolor\":\"rgb(232,232,232)\",\"linecolor\":\"rgb(36,36,36)\",\"showgrid\":false,\"showline\":true,\"ticks\":\"outside\"},\"bgcolor\":\"white\",\"radialaxis\":{\"gridcolor\":\"rgb(232,232,232)\",\"linecolor\":\"rgb(36,36,36)\",\"showgrid\":false,\"showline\":true,\"ticks\":\"outside\"}},\"scene\":{\"xaxis\":{\"backgroundcolor\":\"white\",\"gridcolor\":\"rgb(232,232,232)\",\"gridwidth\":2,\"linecolor\":\"rgb(36,36,36)\",\"showbackground\":true,\"showgrid\":false,\"showline\":true,\"ticks\":\"outside\",\"zeroline\":false,\"zerolinecolor\":\"rgb(36,36,36)\"},\"yaxis\":{\"backgroundcolor\":\"white\",\"gridcolor\":\"rgb(232,232,232)\",\"gridwidth\":2,\"linecolor\":\"rgb(36,36,36)\",\"showbackground\":true,\"showgrid\":false,\"showline\":true,\"ticks\":\"outside\",\"zeroline\":false,\"zerolinecolor\":\"rgb(36,36,36)\"},\"zaxis\":{\"backgroundcolor\":\"white\",\"gridcolor\":\"rgb(232,232,232)\",\"gridwidth\":2,\"linecolor\":\"rgb(36,36,36)\",\"showbackground\":true,\"showgrid\":false,\"showline\":true,\"ticks\":\"outside\",\"zeroline\":false,\"zerolinecolor\":\"rgb(36,36,36)\"}},\"shapedefaults\":{\"fillcolor\":\"black\",\"line\":{\"width\":0},\"opacity\":0.3},\"ternary\":{\"aaxis\":{\"gridcolor\":\"rgb(232,232,232)\",\"linecolor\":\"rgb(36,36,36)\",\"showgrid\":false,\"showline\":true,\"ticks\":\"outside\"},\"baxis\":{\"gridcolor\":\"rgb(232,232,232)\",\"linecolor\":\"rgb(36,36,36)\",\"showgrid\":false,\"showline\":true,\"ticks\":\"outside\"},\"bgcolor\":\"white\",\"caxis\":{\"gridcolor\":\"rgb(232,232,232)\",\"linecolor\":\"rgb(36,36,36)\",\"showgrid\":false,\"showline\":true,\"ticks\":\"outside\"}},\"title\":{\"x\":0.05},\"xaxis\":{\"automargin\":true,\"gridcolor\":\"rgb(232,232,232)\",\"linecolor\":\"rgb(36,36,36)\",\"showgrid\":false,\"showline\":true,\"ticks\":\"outside\",\"title\":{\"standoff\":15},\"zeroline\":false,\"zerolinecolor\":\"rgb(36,36,36)\"},\"yaxis\":{\"automargin\":true,\"gridcolor\":\"rgb(232,232,232)\",\"linecolor\":\"rgb(36,36,36)\",\"showgrid\":false,\"showline\":true,\"ticks\":\"outside\",\"title\":{\"standoff\":15},\"zeroline\":false,\"zerolinecolor\":\"rgb(36,36,36)\"}}},\"title\":{\"text\":\"Reproduced Interval vs Trial Number (Smoothed over 5 trials)\"},\"xaxis\":{\"title\":{\"text\":\"Trial Number\"}},\"yaxis\":{\"title\":{\"text\":\"Smoothed Reproduced Interval (ms)\"}},\"legend\":{\"title\":{\"text\":\"Target Interval\"}},\"width\":900,\"height\":500},                        {\"responsive\": true}                    ).then(function(){\n",
       "                            \n",
       "var gd = document.getElementById('c4379daf-098a-4dbe-8195-f8194c4c31e6');\n",
       "var x = new MutationObserver(function (mutations, observer) {{\n",
       "        var display = window.getComputedStyle(gd).display;\n",
       "        if (!display || display === 'none') {{\n",
       "            console.log([gd, 'removed!']);\n",
       "            Plotly.purge(gd);\n",
       "            observer.disconnect();\n",
       "        }}\n",
       "}});\n",
       "\n",
       "// Listen for the removal of the full notebook cells\n",
       "var notebookContainer = gd.closest('#notebook-container');\n",
       "if (notebookContainer) {{\n",
       "    x.observe(notebookContainer, {childList: true});\n",
       "}}\n",
       "\n",
       "// Listen for the clearing of the current output cell\n",
       "var outputEl = gd.closest('.output');\n",
       "if (outputEl) {{\n",
       "    x.observe(outputEl, {childList: true});\n",
       "}}\n",
       "\n",
       "                        })                };                });            </script>        </div>"
      ]
     },
     "metadata": {},
     "output_type": "display_data"
    }
   ],
   "source": [
    "\n",
    "# Filter and clean\n",
    "go_df = df[df['phase'] == 'go'].copy()\n",
    "go_df.dropna(subset=['target_interval', 'reproduced_interval'], inplace=True)\n",
    "go_df['target_interval'] = pd.to_numeric(go_df['target_interval'], errors='coerce')\n",
    "go_df['reproduced_interval'] = pd.to_numeric(go_df['reproduced_interval'], errors='coerce')\n",
    "\n",
    "# Add a trial number column\n",
    "go_df['trial_number'] = range(1, len(go_df) + 1)\n",
    "\n",
    "# Set smoothing window\n",
    "N = 5  # Number of trials to smooth over\n",
    "\n",
    "# Get unique target intervals\n",
    "target_intervals = sorted(go_df['target_interval'].unique())\n",
    "\n",
    "# Plot\n",
    "fig = go.Figure()\n",
    "\n",
    "for ti in target_intervals:\n",
    "    subset = go_df[go_df['target_interval'] == ti].copy()\n",
    "    subset['smoothed'] = subset['reproduced_interval'].rolling(window=N, min_periods=1).mean()\n",
    "\n",
    "    fig.add_trace(go.Scatter(\n",
    "        x=subset['trial_number'],\n",
    "        y=subset['smoothed'],\n",
    "        mode='lines+markers',\n",
    "        name=f'{int(ti)} ms',\n",
    "        marker=dict(size=6),\n",
    "        line=dict(width=2),\n",
    "    ))\n",
    "\n",
    "# Layout\n",
    "fig.update_layout(\n",
    "    title=f'Reproduced Interval vs Trial Number (Smoothed over {N} trials)',\n",
    "    xaxis_title='Trial Number',\n",
    "    yaxis_title='Smoothed Reproduced Interval (ms)',\n",
    "    legend_title='Target Interval',\n",
    "    template='simple_white',\n",
    "    width=900,\n",
    "    height=500\n",
    ")\n",
    "\n",
    "fig.show()\n"
   ]
  },
  {
   "cell_type": "code",
   "execution_count": 9,
   "id": "b5b7c512",
   "metadata": {},
   "outputs": [
    {
     "data": {
      "application/vnd.plotly.v1+json": {
       "config": {
        "plotlyServerURL": "https://plot.ly"
       },
       "data": [
        {
         "error_y": {
          "array": [
           77.56287771866127,
           69.06430907407088,
           75.64801532242748,
           62.46801286721827,
           91.08410556026932,
           101.47048704061561,
           105.46479275484549,
           159.8715273685652,
           138.02437986540434,
           91.44036264663771,
           120.25171228843435,
           146.576664632262,
           109.33722507855586,
           73.85276412721984,
           152.48912529532504,
           114.52835277669712
          ]
         },
         "hovertemplate": "target_interval=%{x}<br>Reproduction Error (ms)=%{y}<extra></extra>",
         "legendgroup": "",
         "marker": {
          "color": "#636efa",
          "symbol": "circle"
         },
         "mode": "markers",
         "name": "",
         "orientation": "v",
         "showlegend": false,
         "type": "scatter",
         "x": [
          200,
          300,
          400,
          500,
          600,
          700,
          800,
          900,
          1000,
          1100,
          1200,
          1300,
          1400,
          1500,
          1600,
          1700
         ],
         "xaxis": "x",
         "y": [
          -7,
          14.333333333333334,
          30.2,
          -2.6,
          24.714285714285715,
          37.45454545454545,
          18.818181818181817,
          19.2,
          79.4090909090909,
          117.3913043478261,
          72.26086956521739,
          60.63636363636363,
          41.416666666666664,
          35.30769230769231,
          27.4,
          37.92307692307692
         ],
         "yaxis": "y"
        }
       ],
       "layout": {
        "legend": {
         "tracegroupgap": 0
        },
        "template": {
         "data": {
          "bar": [
           {
            "error_x": {
             "color": "#2a3f5f"
            },
            "error_y": {
             "color": "#2a3f5f"
            },
            "marker": {
             "line": {
              "color": "#E5ECF6",
              "width": 0.5
             },
             "pattern": {
              "fillmode": "overlay",
              "size": 10,
              "solidity": 0.2
             }
            },
            "type": "bar"
           }
          ],
          "barpolar": [
           {
            "marker": {
             "line": {
              "color": "#E5ECF6",
              "width": 0.5
             },
             "pattern": {
              "fillmode": "overlay",
              "size": 10,
              "solidity": 0.2
             }
            },
            "type": "barpolar"
           }
          ],
          "carpet": [
           {
            "aaxis": {
             "endlinecolor": "#2a3f5f",
             "gridcolor": "white",
             "linecolor": "white",
             "minorgridcolor": "white",
             "startlinecolor": "#2a3f5f"
            },
            "baxis": {
             "endlinecolor": "#2a3f5f",
             "gridcolor": "white",
             "linecolor": "white",
             "minorgridcolor": "white",
             "startlinecolor": "#2a3f5f"
            },
            "type": "carpet"
           }
          ],
          "choropleth": [
           {
            "colorbar": {
             "outlinewidth": 0,
             "ticks": ""
            },
            "type": "choropleth"
           }
          ],
          "contour": [
           {
            "colorbar": {
             "outlinewidth": 0,
             "ticks": ""
            },
            "colorscale": [
             [
              0,
              "#0d0887"
             ],
             [
              0.1111111111111111,
              "#46039f"
             ],
             [
              0.2222222222222222,
              "#7201a8"
             ],
             [
              0.3333333333333333,
              "#9c179e"
             ],
             [
              0.4444444444444444,
              "#bd3786"
             ],
             [
              0.5555555555555556,
              "#d8576b"
             ],
             [
              0.6666666666666666,
              "#ed7953"
             ],
             [
              0.7777777777777778,
              "#fb9f3a"
             ],
             [
              0.8888888888888888,
              "#fdca26"
             ],
             [
              1,
              "#f0f921"
             ]
            ],
            "type": "contour"
           }
          ],
          "contourcarpet": [
           {
            "colorbar": {
             "outlinewidth": 0,
             "ticks": ""
            },
            "type": "contourcarpet"
           }
          ],
          "heatmap": [
           {
            "colorbar": {
             "outlinewidth": 0,
             "ticks": ""
            },
            "colorscale": [
             [
              0,
              "#0d0887"
             ],
             [
              0.1111111111111111,
              "#46039f"
             ],
             [
              0.2222222222222222,
              "#7201a8"
             ],
             [
              0.3333333333333333,
              "#9c179e"
             ],
             [
              0.4444444444444444,
              "#bd3786"
             ],
             [
              0.5555555555555556,
              "#d8576b"
             ],
             [
              0.6666666666666666,
              "#ed7953"
             ],
             [
              0.7777777777777778,
              "#fb9f3a"
             ],
             [
              0.8888888888888888,
              "#fdca26"
             ],
             [
              1,
              "#f0f921"
             ]
            ],
            "type": "heatmap"
           }
          ],
          "heatmapgl": [
           {
            "colorbar": {
             "outlinewidth": 0,
             "ticks": ""
            },
            "colorscale": [
             [
              0,
              "#0d0887"
             ],
             [
              0.1111111111111111,
              "#46039f"
             ],
             [
              0.2222222222222222,
              "#7201a8"
             ],
             [
              0.3333333333333333,
              "#9c179e"
             ],
             [
              0.4444444444444444,
              "#bd3786"
             ],
             [
              0.5555555555555556,
              "#d8576b"
             ],
             [
              0.6666666666666666,
              "#ed7953"
             ],
             [
              0.7777777777777778,
              "#fb9f3a"
             ],
             [
              0.8888888888888888,
              "#fdca26"
             ],
             [
              1,
              "#f0f921"
             ]
            ],
            "type": "heatmapgl"
           }
          ],
          "histogram": [
           {
            "marker": {
             "pattern": {
              "fillmode": "overlay",
              "size": 10,
              "solidity": 0.2
             }
            },
            "type": "histogram"
           }
          ],
          "histogram2d": [
           {
            "colorbar": {
             "outlinewidth": 0,
             "ticks": ""
            },
            "colorscale": [
             [
              0,
              "#0d0887"
             ],
             [
              0.1111111111111111,
              "#46039f"
             ],
             [
              0.2222222222222222,
              "#7201a8"
             ],
             [
              0.3333333333333333,
              "#9c179e"
             ],
             [
              0.4444444444444444,
              "#bd3786"
             ],
             [
              0.5555555555555556,
              "#d8576b"
             ],
             [
              0.6666666666666666,
              "#ed7953"
             ],
             [
              0.7777777777777778,
              "#fb9f3a"
             ],
             [
              0.8888888888888888,
              "#fdca26"
             ],
             [
              1,
              "#f0f921"
             ]
            ],
            "type": "histogram2d"
           }
          ],
          "histogram2dcontour": [
           {
            "colorbar": {
             "outlinewidth": 0,
             "ticks": ""
            },
            "colorscale": [
             [
              0,
              "#0d0887"
             ],
             [
              0.1111111111111111,
              "#46039f"
             ],
             [
              0.2222222222222222,
              "#7201a8"
             ],
             [
              0.3333333333333333,
              "#9c179e"
             ],
             [
              0.4444444444444444,
              "#bd3786"
             ],
             [
              0.5555555555555556,
              "#d8576b"
             ],
             [
              0.6666666666666666,
              "#ed7953"
             ],
             [
              0.7777777777777778,
              "#fb9f3a"
             ],
             [
              0.8888888888888888,
              "#fdca26"
             ],
             [
              1,
              "#f0f921"
             ]
            ],
            "type": "histogram2dcontour"
           }
          ],
          "mesh3d": [
           {
            "colorbar": {
             "outlinewidth": 0,
             "ticks": ""
            },
            "type": "mesh3d"
           }
          ],
          "parcoords": [
           {
            "line": {
             "colorbar": {
              "outlinewidth": 0,
              "ticks": ""
             }
            },
            "type": "parcoords"
           }
          ],
          "pie": [
           {
            "automargin": true,
            "type": "pie"
           }
          ],
          "scatter": [
           {
            "fillpattern": {
             "fillmode": "overlay",
             "size": 10,
             "solidity": 0.2
            },
            "type": "scatter"
           }
          ],
          "scatter3d": [
           {
            "line": {
             "colorbar": {
              "outlinewidth": 0,
              "ticks": ""
             }
            },
            "marker": {
             "colorbar": {
              "outlinewidth": 0,
              "ticks": ""
             }
            },
            "type": "scatter3d"
           }
          ],
          "scattercarpet": [
           {
            "marker": {
             "colorbar": {
              "outlinewidth": 0,
              "ticks": ""
             }
            },
            "type": "scattercarpet"
           }
          ],
          "scattergeo": [
           {
            "marker": {
             "colorbar": {
              "outlinewidth": 0,
              "ticks": ""
             }
            },
            "type": "scattergeo"
           }
          ],
          "scattergl": [
           {
            "marker": {
             "colorbar": {
              "outlinewidth": 0,
              "ticks": ""
             }
            },
            "type": "scattergl"
           }
          ],
          "scattermapbox": [
           {
            "marker": {
             "colorbar": {
              "outlinewidth": 0,
              "ticks": ""
             }
            },
            "type": "scattermapbox"
           }
          ],
          "scatterpolar": [
           {
            "marker": {
             "colorbar": {
              "outlinewidth": 0,
              "ticks": ""
             }
            },
            "type": "scatterpolar"
           }
          ],
          "scatterpolargl": [
           {
            "marker": {
             "colorbar": {
              "outlinewidth": 0,
              "ticks": ""
             }
            },
            "type": "scatterpolargl"
           }
          ],
          "scatterternary": [
           {
            "marker": {
             "colorbar": {
              "outlinewidth": 0,
              "ticks": ""
             }
            },
            "type": "scatterternary"
           }
          ],
          "surface": [
           {
            "colorbar": {
             "outlinewidth": 0,
             "ticks": ""
            },
            "colorscale": [
             [
              0,
              "#0d0887"
             ],
             [
              0.1111111111111111,
              "#46039f"
             ],
             [
              0.2222222222222222,
              "#7201a8"
             ],
             [
              0.3333333333333333,
              "#9c179e"
             ],
             [
              0.4444444444444444,
              "#bd3786"
             ],
             [
              0.5555555555555556,
              "#d8576b"
             ],
             [
              0.6666666666666666,
              "#ed7953"
             ],
             [
              0.7777777777777778,
              "#fb9f3a"
             ],
             [
              0.8888888888888888,
              "#fdca26"
             ],
             [
              1,
              "#f0f921"
             ]
            ],
            "type": "surface"
           }
          ],
          "table": [
           {
            "cells": {
             "fill": {
              "color": "#EBF0F8"
             },
             "line": {
              "color": "white"
             }
            },
            "header": {
             "fill": {
              "color": "#C8D4E3"
             },
             "line": {
              "color": "white"
             }
            },
            "type": "table"
           }
          ]
         },
         "layout": {
          "annotationdefaults": {
           "arrowcolor": "#2a3f5f",
           "arrowhead": 0,
           "arrowwidth": 1
          },
          "autotypenumbers": "strict",
          "coloraxis": {
           "colorbar": {
            "outlinewidth": 0,
            "ticks": ""
           }
          },
          "colorscale": {
           "diverging": [
            [
             0,
             "#8e0152"
            ],
            [
             0.1,
             "#c51b7d"
            ],
            [
             0.2,
             "#de77ae"
            ],
            [
             0.3,
             "#f1b6da"
            ],
            [
             0.4,
             "#fde0ef"
            ],
            [
             0.5,
             "#f7f7f7"
            ],
            [
             0.6,
             "#e6f5d0"
            ],
            [
             0.7,
             "#b8e186"
            ],
            [
             0.8,
             "#7fbc41"
            ],
            [
             0.9,
             "#4d9221"
            ],
            [
             1,
             "#276419"
            ]
           ],
           "sequential": [
            [
             0,
             "#0d0887"
            ],
            [
             0.1111111111111111,
             "#46039f"
            ],
            [
             0.2222222222222222,
             "#7201a8"
            ],
            [
             0.3333333333333333,
             "#9c179e"
            ],
            [
             0.4444444444444444,
             "#bd3786"
            ],
            [
             0.5555555555555556,
             "#d8576b"
            ],
            [
             0.6666666666666666,
             "#ed7953"
            ],
            [
             0.7777777777777778,
             "#fb9f3a"
            ],
            [
             0.8888888888888888,
             "#fdca26"
            ],
            [
             1,
             "#f0f921"
            ]
           ],
           "sequentialminus": [
            [
             0,
             "#0d0887"
            ],
            [
             0.1111111111111111,
             "#46039f"
            ],
            [
             0.2222222222222222,
             "#7201a8"
            ],
            [
             0.3333333333333333,
             "#9c179e"
            ],
            [
             0.4444444444444444,
             "#bd3786"
            ],
            [
             0.5555555555555556,
             "#d8576b"
            ],
            [
             0.6666666666666666,
             "#ed7953"
            ],
            [
             0.7777777777777778,
             "#fb9f3a"
            ],
            [
             0.8888888888888888,
             "#fdca26"
            ],
            [
             1,
             "#f0f921"
            ]
           ]
          },
          "colorway": [
           "#636efa",
           "#EF553B",
           "#00cc96",
           "#ab63fa",
           "#FFA15A",
           "#19d3f3",
           "#FF6692",
           "#B6E880",
           "#FF97FF",
           "#FECB52"
          ],
          "font": {
           "color": "#2a3f5f"
          },
          "geo": {
           "bgcolor": "white",
           "lakecolor": "white",
           "landcolor": "#E5ECF6",
           "showlakes": true,
           "showland": true,
           "subunitcolor": "white"
          },
          "hoverlabel": {
           "align": "left"
          },
          "hovermode": "closest",
          "mapbox": {
           "style": "light"
          },
          "paper_bgcolor": "white",
          "plot_bgcolor": "#E5ECF6",
          "polar": {
           "angularaxis": {
            "gridcolor": "white",
            "linecolor": "white",
            "ticks": ""
           },
           "bgcolor": "#E5ECF6",
           "radialaxis": {
            "gridcolor": "white",
            "linecolor": "white",
            "ticks": ""
           }
          },
          "scene": {
           "xaxis": {
            "backgroundcolor": "#E5ECF6",
            "gridcolor": "white",
            "gridwidth": 2,
            "linecolor": "white",
            "showbackground": true,
            "ticks": "",
            "zerolinecolor": "white"
           },
           "yaxis": {
            "backgroundcolor": "#E5ECF6",
            "gridcolor": "white",
            "gridwidth": 2,
            "linecolor": "white",
            "showbackground": true,
            "ticks": "",
            "zerolinecolor": "white"
           },
           "zaxis": {
            "backgroundcolor": "#E5ECF6",
            "gridcolor": "white",
            "gridwidth": 2,
            "linecolor": "white",
            "showbackground": true,
            "ticks": "",
            "zerolinecolor": "white"
           }
          },
          "shapedefaults": {
           "line": {
            "color": "#2a3f5f"
           }
          },
          "ternary": {
           "aaxis": {
            "gridcolor": "white",
            "linecolor": "white",
            "ticks": ""
           },
           "baxis": {
            "gridcolor": "white",
            "linecolor": "white",
            "ticks": ""
           },
           "bgcolor": "#E5ECF6",
           "caxis": {
            "gridcolor": "white",
            "linecolor": "white",
            "ticks": ""
           }
          },
          "title": {
           "x": 0.05
          },
          "xaxis": {
           "automargin": true,
           "gridcolor": "white",
           "linecolor": "white",
           "ticks": "",
           "title": {
            "standoff": 15
           },
           "zerolinecolor": "white",
           "zerolinewidth": 2
          },
          "yaxis": {
           "automargin": true,
           "gridcolor": "white",
           "linecolor": "white",
           "ticks": "",
           "title": {
            "standoff": 15
           },
           "zerolinecolor": "white",
           "zerolinewidth": 2
          }
         }
        },
        "title": {
         "text": "Mean Error vs Target Interval"
        },
        "xaxis": {
         "anchor": "y",
         "domain": [
          0,
          1
         ],
         "title": {
          "text": "target_interval"
         }
        },
        "yaxis": {
         "anchor": "x",
         "domain": [
          0,
          1
         ],
         "title": {
          "text": "Reproduction Error (ms)"
         }
        }
       }
      },
      "text/html": [
       "<div>                            <div id=\"ad2b53f2-9223-4477-b1fc-f92a7378e7fa\" class=\"plotly-graph-div\" style=\"height:525px; width:100%;\"></div>            <script type=\"text/javascript\">                require([\"plotly\"], function(Plotly) {                    window.PLOTLYENV=window.PLOTLYENV || {};                                    if (document.getElementById(\"ad2b53f2-9223-4477-b1fc-f92a7378e7fa\")) {                    Plotly.newPlot(                        \"ad2b53f2-9223-4477-b1fc-f92a7378e7fa\",                        [{\"error_y\":{\"array\":[77.56287771866127,69.06430907407088,75.64801532242748,62.46801286721827,91.08410556026932,101.47048704061561,105.46479275484549,159.8715273685652,138.02437986540434,91.44036264663771,120.25171228843435,146.576664632262,109.33722507855586,73.85276412721984,152.48912529532504,114.52835277669712]},\"hovertemplate\":\"target_interval=%{x}<br>Reproduction Error (ms)=%{y}<extra></extra>\",\"legendgroup\":\"\",\"marker\":{\"color\":\"#636efa\",\"symbol\":\"circle\"},\"mode\":\"markers\",\"name\":\"\",\"orientation\":\"v\",\"showlegend\":false,\"x\":[200.0,300.0,400.0,500.0,600.0,700.0,800.0,900.0,1000.0,1100.0,1200.0,1300.0,1400.0,1500.0,1600.0,1700.0],\"xaxis\":\"x\",\"y\":[-7.0,14.333333333333334,30.2,-2.6,24.714285714285715,37.45454545454545,18.818181818181817,19.2,79.4090909090909,117.3913043478261,72.26086956521739,60.63636363636363,41.416666666666664,35.30769230769231,27.4,37.92307692307692],\"yaxis\":\"y\",\"type\":\"scatter\"}],                        {\"template\":{\"data\":{\"histogram2dcontour\":[{\"type\":\"histogram2dcontour\",\"colorbar\":{\"outlinewidth\":0,\"ticks\":\"\"},\"colorscale\":[[0.0,\"#0d0887\"],[0.1111111111111111,\"#46039f\"],[0.2222222222222222,\"#7201a8\"],[0.3333333333333333,\"#9c179e\"],[0.4444444444444444,\"#bd3786\"],[0.5555555555555556,\"#d8576b\"],[0.6666666666666666,\"#ed7953\"],[0.7777777777777778,\"#fb9f3a\"],[0.8888888888888888,\"#fdca26\"],[1.0,\"#f0f921\"]]}],\"choropleth\":[{\"type\":\"choropleth\",\"colorbar\":{\"outlinewidth\":0,\"ticks\":\"\"}}],\"histogram2d\":[{\"type\":\"histogram2d\",\"colorbar\":{\"outlinewidth\":0,\"ticks\":\"\"},\"colorscale\":[[0.0,\"#0d0887\"],[0.1111111111111111,\"#46039f\"],[0.2222222222222222,\"#7201a8\"],[0.3333333333333333,\"#9c179e\"],[0.4444444444444444,\"#bd3786\"],[0.5555555555555556,\"#d8576b\"],[0.6666666666666666,\"#ed7953\"],[0.7777777777777778,\"#fb9f3a\"],[0.8888888888888888,\"#fdca26\"],[1.0,\"#f0f921\"]]}],\"heatmap\":[{\"type\":\"heatmap\",\"colorbar\":{\"outlinewidth\":0,\"ticks\":\"\"},\"colorscale\":[[0.0,\"#0d0887\"],[0.1111111111111111,\"#46039f\"],[0.2222222222222222,\"#7201a8\"],[0.3333333333333333,\"#9c179e\"],[0.4444444444444444,\"#bd3786\"],[0.5555555555555556,\"#d8576b\"],[0.6666666666666666,\"#ed7953\"],[0.7777777777777778,\"#fb9f3a\"],[0.8888888888888888,\"#fdca26\"],[1.0,\"#f0f921\"]]}],\"heatmapgl\":[{\"type\":\"heatmapgl\",\"colorbar\":{\"outlinewidth\":0,\"ticks\":\"\"},\"colorscale\":[[0.0,\"#0d0887\"],[0.1111111111111111,\"#46039f\"],[0.2222222222222222,\"#7201a8\"],[0.3333333333333333,\"#9c179e\"],[0.4444444444444444,\"#bd3786\"],[0.5555555555555556,\"#d8576b\"],[0.6666666666666666,\"#ed7953\"],[0.7777777777777778,\"#fb9f3a\"],[0.8888888888888888,\"#fdca26\"],[1.0,\"#f0f921\"]]}],\"contourcarpet\":[{\"type\":\"contourcarpet\",\"colorbar\":{\"outlinewidth\":0,\"ticks\":\"\"}}],\"contour\":[{\"type\":\"contour\",\"colorbar\":{\"outlinewidth\":0,\"ticks\":\"\"},\"colorscale\":[[0.0,\"#0d0887\"],[0.1111111111111111,\"#46039f\"],[0.2222222222222222,\"#7201a8\"],[0.3333333333333333,\"#9c179e\"],[0.4444444444444444,\"#bd3786\"],[0.5555555555555556,\"#d8576b\"],[0.6666666666666666,\"#ed7953\"],[0.7777777777777778,\"#fb9f3a\"],[0.8888888888888888,\"#fdca26\"],[1.0,\"#f0f921\"]]}],\"surface\":[{\"type\":\"surface\",\"colorbar\":{\"outlinewidth\":0,\"ticks\":\"\"},\"colorscale\":[[0.0,\"#0d0887\"],[0.1111111111111111,\"#46039f\"],[0.2222222222222222,\"#7201a8\"],[0.3333333333333333,\"#9c179e\"],[0.4444444444444444,\"#bd3786\"],[0.5555555555555556,\"#d8576b\"],[0.6666666666666666,\"#ed7953\"],[0.7777777777777778,\"#fb9f3a\"],[0.8888888888888888,\"#fdca26\"],[1.0,\"#f0f921\"]]}],\"mesh3d\":[{\"type\":\"mesh3d\",\"colorbar\":{\"outlinewidth\":0,\"ticks\":\"\"}}],\"scatter\":[{\"fillpattern\":{\"fillmode\":\"overlay\",\"size\":10,\"solidity\":0.2},\"type\":\"scatter\"}],\"parcoords\":[{\"type\":\"parcoords\",\"line\":{\"colorbar\":{\"outlinewidth\":0,\"ticks\":\"\"}}}],\"scatterpolargl\":[{\"type\":\"scatterpolargl\",\"marker\":{\"colorbar\":{\"outlinewidth\":0,\"ticks\":\"\"}}}],\"bar\":[{\"error_x\":{\"color\":\"#2a3f5f\"},\"error_y\":{\"color\":\"#2a3f5f\"},\"marker\":{\"line\":{\"color\":\"#E5ECF6\",\"width\":0.5},\"pattern\":{\"fillmode\":\"overlay\",\"size\":10,\"solidity\":0.2}},\"type\":\"bar\"}],\"scattergeo\":[{\"type\":\"scattergeo\",\"marker\":{\"colorbar\":{\"outlinewidth\":0,\"ticks\":\"\"}}}],\"scatterpolar\":[{\"type\":\"scatterpolar\",\"marker\":{\"colorbar\":{\"outlinewidth\":0,\"ticks\":\"\"}}}],\"histogram\":[{\"marker\":{\"pattern\":{\"fillmode\":\"overlay\",\"size\":10,\"solidity\":0.2}},\"type\":\"histogram\"}],\"scattergl\":[{\"type\":\"scattergl\",\"marker\":{\"colorbar\":{\"outlinewidth\":0,\"ticks\":\"\"}}}],\"scatter3d\":[{\"type\":\"scatter3d\",\"line\":{\"colorbar\":{\"outlinewidth\":0,\"ticks\":\"\"}},\"marker\":{\"colorbar\":{\"outlinewidth\":0,\"ticks\":\"\"}}}],\"scattermapbox\":[{\"type\":\"scattermapbox\",\"marker\":{\"colorbar\":{\"outlinewidth\":0,\"ticks\":\"\"}}}],\"scatterternary\":[{\"type\":\"scatterternary\",\"marker\":{\"colorbar\":{\"outlinewidth\":0,\"ticks\":\"\"}}}],\"scattercarpet\":[{\"type\":\"scattercarpet\",\"marker\":{\"colorbar\":{\"outlinewidth\":0,\"ticks\":\"\"}}}],\"carpet\":[{\"aaxis\":{\"endlinecolor\":\"#2a3f5f\",\"gridcolor\":\"white\",\"linecolor\":\"white\",\"minorgridcolor\":\"white\",\"startlinecolor\":\"#2a3f5f\"},\"baxis\":{\"endlinecolor\":\"#2a3f5f\",\"gridcolor\":\"white\",\"linecolor\":\"white\",\"minorgridcolor\":\"white\",\"startlinecolor\":\"#2a3f5f\"},\"type\":\"carpet\"}],\"table\":[{\"cells\":{\"fill\":{\"color\":\"#EBF0F8\"},\"line\":{\"color\":\"white\"}},\"header\":{\"fill\":{\"color\":\"#C8D4E3\"},\"line\":{\"color\":\"white\"}},\"type\":\"table\"}],\"barpolar\":[{\"marker\":{\"line\":{\"color\":\"#E5ECF6\",\"width\":0.5},\"pattern\":{\"fillmode\":\"overlay\",\"size\":10,\"solidity\":0.2}},\"type\":\"barpolar\"}],\"pie\":[{\"automargin\":true,\"type\":\"pie\"}]},\"layout\":{\"autotypenumbers\":\"strict\",\"colorway\":[\"#636efa\",\"#EF553B\",\"#00cc96\",\"#ab63fa\",\"#FFA15A\",\"#19d3f3\",\"#FF6692\",\"#B6E880\",\"#FF97FF\",\"#FECB52\"],\"font\":{\"color\":\"#2a3f5f\"},\"hovermode\":\"closest\",\"hoverlabel\":{\"align\":\"left\"},\"paper_bgcolor\":\"white\",\"plot_bgcolor\":\"#E5ECF6\",\"polar\":{\"bgcolor\":\"#E5ECF6\",\"angularaxis\":{\"gridcolor\":\"white\",\"linecolor\":\"white\",\"ticks\":\"\"},\"radialaxis\":{\"gridcolor\":\"white\",\"linecolor\":\"white\",\"ticks\":\"\"}},\"ternary\":{\"bgcolor\":\"#E5ECF6\",\"aaxis\":{\"gridcolor\":\"white\",\"linecolor\":\"white\",\"ticks\":\"\"},\"baxis\":{\"gridcolor\":\"white\",\"linecolor\":\"white\",\"ticks\":\"\"},\"caxis\":{\"gridcolor\":\"white\",\"linecolor\":\"white\",\"ticks\":\"\"}},\"coloraxis\":{\"colorbar\":{\"outlinewidth\":0,\"ticks\":\"\"}},\"colorscale\":{\"sequential\":[[0.0,\"#0d0887\"],[0.1111111111111111,\"#46039f\"],[0.2222222222222222,\"#7201a8\"],[0.3333333333333333,\"#9c179e\"],[0.4444444444444444,\"#bd3786\"],[0.5555555555555556,\"#d8576b\"],[0.6666666666666666,\"#ed7953\"],[0.7777777777777778,\"#fb9f3a\"],[0.8888888888888888,\"#fdca26\"],[1.0,\"#f0f921\"]],\"sequentialminus\":[[0.0,\"#0d0887\"],[0.1111111111111111,\"#46039f\"],[0.2222222222222222,\"#7201a8\"],[0.3333333333333333,\"#9c179e\"],[0.4444444444444444,\"#bd3786\"],[0.5555555555555556,\"#d8576b\"],[0.6666666666666666,\"#ed7953\"],[0.7777777777777778,\"#fb9f3a\"],[0.8888888888888888,\"#fdca26\"],[1.0,\"#f0f921\"]],\"diverging\":[[0,\"#8e0152\"],[0.1,\"#c51b7d\"],[0.2,\"#de77ae\"],[0.3,\"#f1b6da\"],[0.4,\"#fde0ef\"],[0.5,\"#f7f7f7\"],[0.6,\"#e6f5d0\"],[0.7,\"#b8e186\"],[0.8,\"#7fbc41\"],[0.9,\"#4d9221\"],[1,\"#276419\"]]},\"xaxis\":{\"gridcolor\":\"white\",\"linecolor\":\"white\",\"ticks\":\"\",\"title\":{\"standoff\":15},\"zerolinecolor\":\"white\",\"automargin\":true,\"zerolinewidth\":2},\"yaxis\":{\"gridcolor\":\"white\",\"linecolor\":\"white\",\"ticks\":\"\",\"title\":{\"standoff\":15},\"zerolinecolor\":\"white\",\"automargin\":true,\"zerolinewidth\":2},\"scene\":{\"xaxis\":{\"backgroundcolor\":\"#E5ECF6\",\"gridcolor\":\"white\",\"linecolor\":\"white\",\"showbackground\":true,\"ticks\":\"\",\"zerolinecolor\":\"white\",\"gridwidth\":2},\"yaxis\":{\"backgroundcolor\":\"#E5ECF6\",\"gridcolor\":\"white\",\"linecolor\":\"white\",\"showbackground\":true,\"ticks\":\"\",\"zerolinecolor\":\"white\",\"gridwidth\":2},\"zaxis\":{\"backgroundcolor\":\"#E5ECF6\",\"gridcolor\":\"white\",\"linecolor\":\"white\",\"showbackground\":true,\"ticks\":\"\",\"zerolinecolor\":\"white\",\"gridwidth\":2}},\"shapedefaults\":{\"line\":{\"color\":\"#2a3f5f\"}},\"annotationdefaults\":{\"arrowcolor\":\"#2a3f5f\",\"arrowhead\":0,\"arrowwidth\":1},\"geo\":{\"bgcolor\":\"white\",\"landcolor\":\"#E5ECF6\",\"subunitcolor\":\"white\",\"showland\":true,\"showlakes\":true,\"lakecolor\":\"white\"},\"title\":{\"x\":0.05},\"mapbox\":{\"style\":\"light\"}}},\"xaxis\":{\"anchor\":\"y\",\"domain\":[0.0,1.0],\"title\":{\"text\":\"target_interval\"}},\"yaxis\":{\"anchor\":\"x\",\"domain\":[0.0,1.0],\"title\":{\"text\":\"Reproduction Error (ms)\"}},\"legend\":{\"tracegroupgap\":0},\"title\":{\"text\":\"Mean Error vs Target Interval\"}},                        {\"responsive\": true}                    ).then(function(){\n",
       "                            \n",
       "var gd = document.getElementById('ad2b53f2-9223-4477-b1fc-f92a7378e7fa');\n",
       "var x = new MutationObserver(function (mutations, observer) {{\n",
       "        var display = window.getComputedStyle(gd).display;\n",
       "        if (!display || display === 'none') {{\n",
       "            console.log([gd, 'removed!']);\n",
       "            Plotly.purge(gd);\n",
       "            observer.disconnect();\n",
       "        }}\n",
       "}});\n",
       "\n",
       "// Listen for the removal of the full notebook cells\n",
       "var notebookContainer = gd.closest('#notebook-container');\n",
       "if (notebookContainer) {{\n",
       "    x.observe(notebookContainer, {childList: true});\n",
       "}}\n",
       "\n",
       "// Listen for the clearing of the current output cell\n",
       "var outputEl = gd.closest('.output');\n",
       "if (outputEl) {{\n",
       "    x.observe(outputEl, {childList: true});\n",
       "}}\n",
       "\n",
       "                        })                };                });            </script>        </div>"
      ]
     },
     "metadata": {},
     "output_type": "display_data"
    },
    {
     "data": {
      "application/vnd.plotly.v1+json": {
       "config": {
        "plotlyServerURL": "https://plot.ly"
       },
       "data": [
        {
         "hovertemplate": "target_interval=%{x}<br>SD of Reproduced Interval (ms)=%{y}<extra></extra>",
         "legendgroup": "",
         "line": {
          "color": "#636efa",
          "dash": "solid"
         },
         "marker": {
          "symbol": "circle"
         },
         "mode": "lines",
         "name": "",
         "orientation": "v",
         "showlegend": false,
         "type": "scatter",
         "x": [
          200,
          300,
          400,
          500,
          600,
          700,
          800,
          900,
          1000,
          1100,
          1200,
          1300,
          1400,
          1500,
          1600,
          1700
         ],
         "xaxis": "x",
         "y": [
          77.56287771866127,
          69.06430907407088,
          75.64801532242748,
          62.46801286721828,
          91.08410556026932,
          101.47048704061561,
          105.46479275484548,
          159.87152736856515,
          138.02437986540434,
          91.44036264663768,
          120.25171228843435,
          146.57666463226204,
          109.33722507855586,
          73.85276412721986,
          152.48912529532504,
          114.52835277669709
         ],
         "yaxis": "y"
        }
       ],
       "layout": {
        "legend": {
         "tracegroupgap": 0
        },
        "template": {
         "data": {
          "bar": [
           {
            "error_x": {
             "color": "#2a3f5f"
            },
            "error_y": {
             "color": "#2a3f5f"
            },
            "marker": {
             "line": {
              "color": "#E5ECF6",
              "width": 0.5
             },
             "pattern": {
              "fillmode": "overlay",
              "size": 10,
              "solidity": 0.2
             }
            },
            "type": "bar"
           }
          ],
          "barpolar": [
           {
            "marker": {
             "line": {
              "color": "#E5ECF6",
              "width": 0.5
             },
             "pattern": {
              "fillmode": "overlay",
              "size": 10,
              "solidity": 0.2
             }
            },
            "type": "barpolar"
           }
          ],
          "carpet": [
           {
            "aaxis": {
             "endlinecolor": "#2a3f5f",
             "gridcolor": "white",
             "linecolor": "white",
             "minorgridcolor": "white",
             "startlinecolor": "#2a3f5f"
            },
            "baxis": {
             "endlinecolor": "#2a3f5f",
             "gridcolor": "white",
             "linecolor": "white",
             "minorgridcolor": "white",
             "startlinecolor": "#2a3f5f"
            },
            "type": "carpet"
           }
          ],
          "choropleth": [
           {
            "colorbar": {
             "outlinewidth": 0,
             "ticks": ""
            },
            "type": "choropleth"
           }
          ],
          "contour": [
           {
            "colorbar": {
             "outlinewidth": 0,
             "ticks": ""
            },
            "colorscale": [
             [
              0,
              "#0d0887"
             ],
             [
              0.1111111111111111,
              "#46039f"
             ],
             [
              0.2222222222222222,
              "#7201a8"
             ],
             [
              0.3333333333333333,
              "#9c179e"
             ],
             [
              0.4444444444444444,
              "#bd3786"
             ],
             [
              0.5555555555555556,
              "#d8576b"
             ],
             [
              0.6666666666666666,
              "#ed7953"
             ],
             [
              0.7777777777777778,
              "#fb9f3a"
             ],
             [
              0.8888888888888888,
              "#fdca26"
             ],
             [
              1,
              "#f0f921"
             ]
            ],
            "type": "contour"
           }
          ],
          "contourcarpet": [
           {
            "colorbar": {
             "outlinewidth": 0,
             "ticks": ""
            },
            "type": "contourcarpet"
           }
          ],
          "heatmap": [
           {
            "colorbar": {
             "outlinewidth": 0,
             "ticks": ""
            },
            "colorscale": [
             [
              0,
              "#0d0887"
             ],
             [
              0.1111111111111111,
              "#46039f"
             ],
             [
              0.2222222222222222,
              "#7201a8"
             ],
             [
              0.3333333333333333,
              "#9c179e"
             ],
             [
              0.4444444444444444,
              "#bd3786"
             ],
             [
              0.5555555555555556,
              "#d8576b"
             ],
             [
              0.6666666666666666,
              "#ed7953"
             ],
             [
              0.7777777777777778,
              "#fb9f3a"
             ],
             [
              0.8888888888888888,
              "#fdca26"
             ],
             [
              1,
              "#f0f921"
             ]
            ],
            "type": "heatmap"
           }
          ],
          "heatmapgl": [
           {
            "colorbar": {
             "outlinewidth": 0,
             "ticks": ""
            },
            "colorscale": [
             [
              0,
              "#0d0887"
             ],
             [
              0.1111111111111111,
              "#46039f"
             ],
             [
              0.2222222222222222,
              "#7201a8"
             ],
             [
              0.3333333333333333,
              "#9c179e"
             ],
             [
              0.4444444444444444,
              "#bd3786"
             ],
             [
              0.5555555555555556,
              "#d8576b"
             ],
             [
              0.6666666666666666,
              "#ed7953"
             ],
             [
              0.7777777777777778,
              "#fb9f3a"
             ],
             [
              0.8888888888888888,
              "#fdca26"
             ],
             [
              1,
              "#f0f921"
             ]
            ],
            "type": "heatmapgl"
           }
          ],
          "histogram": [
           {
            "marker": {
             "pattern": {
              "fillmode": "overlay",
              "size": 10,
              "solidity": 0.2
             }
            },
            "type": "histogram"
           }
          ],
          "histogram2d": [
           {
            "colorbar": {
             "outlinewidth": 0,
             "ticks": ""
            },
            "colorscale": [
             [
              0,
              "#0d0887"
             ],
             [
              0.1111111111111111,
              "#46039f"
             ],
             [
              0.2222222222222222,
              "#7201a8"
             ],
             [
              0.3333333333333333,
              "#9c179e"
             ],
             [
              0.4444444444444444,
              "#bd3786"
             ],
             [
              0.5555555555555556,
              "#d8576b"
             ],
             [
              0.6666666666666666,
              "#ed7953"
             ],
             [
              0.7777777777777778,
              "#fb9f3a"
             ],
             [
              0.8888888888888888,
              "#fdca26"
             ],
             [
              1,
              "#f0f921"
             ]
            ],
            "type": "histogram2d"
           }
          ],
          "histogram2dcontour": [
           {
            "colorbar": {
             "outlinewidth": 0,
             "ticks": ""
            },
            "colorscale": [
             [
              0,
              "#0d0887"
             ],
             [
              0.1111111111111111,
              "#46039f"
             ],
             [
              0.2222222222222222,
              "#7201a8"
             ],
             [
              0.3333333333333333,
              "#9c179e"
             ],
             [
              0.4444444444444444,
              "#bd3786"
             ],
             [
              0.5555555555555556,
              "#d8576b"
             ],
             [
              0.6666666666666666,
              "#ed7953"
             ],
             [
              0.7777777777777778,
              "#fb9f3a"
             ],
             [
              0.8888888888888888,
              "#fdca26"
             ],
             [
              1,
              "#f0f921"
             ]
            ],
            "type": "histogram2dcontour"
           }
          ],
          "mesh3d": [
           {
            "colorbar": {
             "outlinewidth": 0,
             "ticks": ""
            },
            "type": "mesh3d"
           }
          ],
          "parcoords": [
           {
            "line": {
             "colorbar": {
              "outlinewidth": 0,
              "ticks": ""
             }
            },
            "type": "parcoords"
           }
          ],
          "pie": [
           {
            "automargin": true,
            "type": "pie"
           }
          ],
          "scatter": [
           {
            "fillpattern": {
             "fillmode": "overlay",
             "size": 10,
             "solidity": 0.2
            },
            "type": "scatter"
           }
          ],
          "scatter3d": [
           {
            "line": {
             "colorbar": {
              "outlinewidth": 0,
              "ticks": ""
             }
            },
            "marker": {
             "colorbar": {
              "outlinewidth": 0,
              "ticks": ""
             }
            },
            "type": "scatter3d"
           }
          ],
          "scattercarpet": [
           {
            "marker": {
             "colorbar": {
              "outlinewidth": 0,
              "ticks": ""
             }
            },
            "type": "scattercarpet"
           }
          ],
          "scattergeo": [
           {
            "marker": {
             "colorbar": {
              "outlinewidth": 0,
              "ticks": ""
             }
            },
            "type": "scattergeo"
           }
          ],
          "scattergl": [
           {
            "marker": {
             "colorbar": {
              "outlinewidth": 0,
              "ticks": ""
             }
            },
            "type": "scattergl"
           }
          ],
          "scattermapbox": [
           {
            "marker": {
             "colorbar": {
              "outlinewidth": 0,
              "ticks": ""
             }
            },
            "type": "scattermapbox"
           }
          ],
          "scatterpolar": [
           {
            "marker": {
             "colorbar": {
              "outlinewidth": 0,
              "ticks": ""
             }
            },
            "type": "scatterpolar"
           }
          ],
          "scatterpolargl": [
           {
            "marker": {
             "colorbar": {
              "outlinewidth": 0,
              "ticks": ""
             }
            },
            "type": "scatterpolargl"
           }
          ],
          "scatterternary": [
           {
            "marker": {
             "colorbar": {
              "outlinewidth": 0,
              "ticks": ""
             }
            },
            "type": "scatterternary"
           }
          ],
          "surface": [
           {
            "colorbar": {
             "outlinewidth": 0,
             "ticks": ""
            },
            "colorscale": [
             [
              0,
              "#0d0887"
             ],
             [
              0.1111111111111111,
              "#46039f"
             ],
             [
              0.2222222222222222,
              "#7201a8"
             ],
             [
              0.3333333333333333,
              "#9c179e"
             ],
             [
              0.4444444444444444,
              "#bd3786"
             ],
             [
              0.5555555555555556,
              "#d8576b"
             ],
             [
              0.6666666666666666,
              "#ed7953"
             ],
             [
              0.7777777777777778,
              "#fb9f3a"
             ],
             [
              0.8888888888888888,
              "#fdca26"
             ],
             [
              1,
              "#f0f921"
             ]
            ],
            "type": "surface"
           }
          ],
          "table": [
           {
            "cells": {
             "fill": {
              "color": "#EBF0F8"
             },
             "line": {
              "color": "white"
             }
            },
            "header": {
             "fill": {
              "color": "#C8D4E3"
             },
             "line": {
              "color": "white"
             }
            },
            "type": "table"
           }
          ]
         },
         "layout": {
          "annotationdefaults": {
           "arrowcolor": "#2a3f5f",
           "arrowhead": 0,
           "arrowwidth": 1
          },
          "autotypenumbers": "strict",
          "coloraxis": {
           "colorbar": {
            "outlinewidth": 0,
            "ticks": ""
           }
          },
          "colorscale": {
           "diverging": [
            [
             0,
             "#8e0152"
            ],
            [
             0.1,
             "#c51b7d"
            ],
            [
             0.2,
             "#de77ae"
            ],
            [
             0.3,
             "#f1b6da"
            ],
            [
             0.4,
             "#fde0ef"
            ],
            [
             0.5,
             "#f7f7f7"
            ],
            [
             0.6,
             "#e6f5d0"
            ],
            [
             0.7,
             "#b8e186"
            ],
            [
             0.8,
             "#7fbc41"
            ],
            [
             0.9,
             "#4d9221"
            ],
            [
             1,
             "#276419"
            ]
           ],
           "sequential": [
            [
             0,
             "#0d0887"
            ],
            [
             0.1111111111111111,
             "#46039f"
            ],
            [
             0.2222222222222222,
             "#7201a8"
            ],
            [
             0.3333333333333333,
             "#9c179e"
            ],
            [
             0.4444444444444444,
             "#bd3786"
            ],
            [
             0.5555555555555556,
             "#d8576b"
            ],
            [
             0.6666666666666666,
             "#ed7953"
            ],
            [
             0.7777777777777778,
             "#fb9f3a"
            ],
            [
             0.8888888888888888,
             "#fdca26"
            ],
            [
             1,
             "#f0f921"
            ]
           ],
           "sequentialminus": [
            [
             0,
             "#0d0887"
            ],
            [
             0.1111111111111111,
             "#46039f"
            ],
            [
             0.2222222222222222,
             "#7201a8"
            ],
            [
             0.3333333333333333,
             "#9c179e"
            ],
            [
             0.4444444444444444,
             "#bd3786"
            ],
            [
             0.5555555555555556,
             "#d8576b"
            ],
            [
             0.6666666666666666,
             "#ed7953"
            ],
            [
             0.7777777777777778,
             "#fb9f3a"
            ],
            [
             0.8888888888888888,
             "#fdca26"
            ],
            [
             1,
             "#f0f921"
            ]
           ]
          },
          "colorway": [
           "#636efa",
           "#EF553B",
           "#00cc96",
           "#ab63fa",
           "#FFA15A",
           "#19d3f3",
           "#FF6692",
           "#B6E880",
           "#FF97FF",
           "#FECB52"
          ],
          "font": {
           "color": "#2a3f5f"
          },
          "geo": {
           "bgcolor": "white",
           "lakecolor": "white",
           "landcolor": "#E5ECF6",
           "showlakes": true,
           "showland": true,
           "subunitcolor": "white"
          },
          "hoverlabel": {
           "align": "left"
          },
          "hovermode": "closest",
          "mapbox": {
           "style": "light"
          },
          "paper_bgcolor": "white",
          "plot_bgcolor": "#E5ECF6",
          "polar": {
           "angularaxis": {
            "gridcolor": "white",
            "linecolor": "white",
            "ticks": ""
           },
           "bgcolor": "#E5ECF6",
           "radialaxis": {
            "gridcolor": "white",
            "linecolor": "white",
            "ticks": ""
           }
          },
          "scene": {
           "xaxis": {
            "backgroundcolor": "#E5ECF6",
            "gridcolor": "white",
            "gridwidth": 2,
            "linecolor": "white",
            "showbackground": true,
            "ticks": "",
            "zerolinecolor": "white"
           },
           "yaxis": {
            "backgroundcolor": "#E5ECF6",
            "gridcolor": "white",
            "gridwidth": 2,
            "linecolor": "white",
            "showbackground": true,
            "ticks": "",
            "zerolinecolor": "white"
           },
           "zaxis": {
            "backgroundcolor": "#E5ECF6",
            "gridcolor": "white",
            "gridwidth": 2,
            "linecolor": "white",
            "showbackground": true,
            "ticks": "",
            "zerolinecolor": "white"
           }
          },
          "shapedefaults": {
           "line": {
            "color": "#2a3f5f"
           }
          },
          "ternary": {
           "aaxis": {
            "gridcolor": "white",
            "linecolor": "white",
            "ticks": ""
           },
           "baxis": {
            "gridcolor": "white",
            "linecolor": "white",
            "ticks": ""
           },
           "bgcolor": "#E5ECF6",
           "caxis": {
            "gridcolor": "white",
            "linecolor": "white",
            "ticks": ""
           }
          },
          "title": {
           "x": 0.05
          },
          "xaxis": {
           "automargin": true,
           "gridcolor": "white",
           "linecolor": "white",
           "ticks": "",
           "title": {
            "standoff": 15
           },
           "zerolinecolor": "white",
           "zerolinewidth": 2
          },
          "yaxis": {
           "automargin": true,
           "gridcolor": "white",
           "linecolor": "white",
           "ticks": "",
           "title": {
            "standoff": 15
           },
           "zerolinecolor": "white",
           "zerolinewidth": 2
          }
         }
        },
        "title": {
         "text": "Scalar Variability"
        },
        "xaxis": {
         "anchor": "y",
         "domain": [
          0,
          1
         ],
         "title": {
          "text": "target_interval"
         }
        },
        "yaxis": {
         "anchor": "x",
         "domain": [
          0,
          1
         ],
         "title": {
          "text": "SD of Reproduced Interval (ms)"
         }
        }
       }
      },
      "text/html": [
       "<div>                            <div id=\"4bcb8826-65e8-46b5-ab1e-6c4fffb60d91\" class=\"plotly-graph-div\" style=\"height:525px; width:100%;\"></div>            <script type=\"text/javascript\">                require([\"plotly\"], function(Plotly) {                    window.PLOTLYENV=window.PLOTLYENV || {};                                    if (document.getElementById(\"4bcb8826-65e8-46b5-ab1e-6c4fffb60d91\")) {                    Plotly.newPlot(                        \"4bcb8826-65e8-46b5-ab1e-6c4fffb60d91\",                        [{\"hovertemplate\":\"target_interval=%{x}<br>SD of Reproduced Interval (ms)=%{y}<extra></extra>\",\"legendgroup\":\"\",\"line\":{\"color\":\"#636efa\",\"dash\":\"solid\"},\"marker\":{\"symbol\":\"circle\"},\"mode\":\"lines\",\"name\":\"\",\"orientation\":\"v\",\"showlegend\":false,\"x\":[200.0,300.0,400.0,500.0,600.0,700.0,800.0,900.0,1000.0,1100.0,1200.0,1300.0,1400.0,1500.0,1600.0,1700.0],\"xaxis\":\"x\",\"y\":[77.56287771866127,69.06430907407088,75.64801532242748,62.46801286721828,91.08410556026932,101.47048704061561,105.46479275484548,159.87152736856515,138.02437986540434,91.44036264663768,120.25171228843435,146.57666463226204,109.33722507855586,73.85276412721986,152.48912529532504,114.52835277669709],\"yaxis\":\"y\",\"type\":\"scatter\"}],                        {\"template\":{\"data\":{\"histogram2dcontour\":[{\"type\":\"histogram2dcontour\",\"colorbar\":{\"outlinewidth\":0,\"ticks\":\"\"},\"colorscale\":[[0.0,\"#0d0887\"],[0.1111111111111111,\"#46039f\"],[0.2222222222222222,\"#7201a8\"],[0.3333333333333333,\"#9c179e\"],[0.4444444444444444,\"#bd3786\"],[0.5555555555555556,\"#d8576b\"],[0.6666666666666666,\"#ed7953\"],[0.7777777777777778,\"#fb9f3a\"],[0.8888888888888888,\"#fdca26\"],[1.0,\"#f0f921\"]]}],\"choropleth\":[{\"type\":\"choropleth\",\"colorbar\":{\"outlinewidth\":0,\"ticks\":\"\"}}],\"histogram2d\":[{\"type\":\"histogram2d\",\"colorbar\":{\"outlinewidth\":0,\"ticks\":\"\"},\"colorscale\":[[0.0,\"#0d0887\"],[0.1111111111111111,\"#46039f\"],[0.2222222222222222,\"#7201a8\"],[0.3333333333333333,\"#9c179e\"],[0.4444444444444444,\"#bd3786\"],[0.5555555555555556,\"#d8576b\"],[0.6666666666666666,\"#ed7953\"],[0.7777777777777778,\"#fb9f3a\"],[0.8888888888888888,\"#fdca26\"],[1.0,\"#f0f921\"]]}],\"heatmap\":[{\"type\":\"heatmap\",\"colorbar\":{\"outlinewidth\":0,\"ticks\":\"\"},\"colorscale\":[[0.0,\"#0d0887\"],[0.1111111111111111,\"#46039f\"],[0.2222222222222222,\"#7201a8\"],[0.3333333333333333,\"#9c179e\"],[0.4444444444444444,\"#bd3786\"],[0.5555555555555556,\"#d8576b\"],[0.6666666666666666,\"#ed7953\"],[0.7777777777777778,\"#fb9f3a\"],[0.8888888888888888,\"#fdca26\"],[1.0,\"#f0f921\"]]}],\"heatmapgl\":[{\"type\":\"heatmapgl\",\"colorbar\":{\"outlinewidth\":0,\"ticks\":\"\"},\"colorscale\":[[0.0,\"#0d0887\"],[0.1111111111111111,\"#46039f\"],[0.2222222222222222,\"#7201a8\"],[0.3333333333333333,\"#9c179e\"],[0.4444444444444444,\"#bd3786\"],[0.5555555555555556,\"#d8576b\"],[0.6666666666666666,\"#ed7953\"],[0.7777777777777778,\"#fb9f3a\"],[0.8888888888888888,\"#fdca26\"],[1.0,\"#f0f921\"]]}],\"contourcarpet\":[{\"type\":\"contourcarpet\",\"colorbar\":{\"outlinewidth\":0,\"ticks\":\"\"}}],\"contour\":[{\"type\":\"contour\",\"colorbar\":{\"outlinewidth\":0,\"ticks\":\"\"},\"colorscale\":[[0.0,\"#0d0887\"],[0.1111111111111111,\"#46039f\"],[0.2222222222222222,\"#7201a8\"],[0.3333333333333333,\"#9c179e\"],[0.4444444444444444,\"#bd3786\"],[0.5555555555555556,\"#d8576b\"],[0.6666666666666666,\"#ed7953\"],[0.7777777777777778,\"#fb9f3a\"],[0.8888888888888888,\"#fdca26\"],[1.0,\"#f0f921\"]]}],\"surface\":[{\"type\":\"surface\",\"colorbar\":{\"outlinewidth\":0,\"ticks\":\"\"},\"colorscale\":[[0.0,\"#0d0887\"],[0.1111111111111111,\"#46039f\"],[0.2222222222222222,\"#7201a8\"],[0.3333333333333333,\"#9c179e\"],[0.4444444444444444,\"#bd3786\"],[0.5555555555555556,\"#d8576b\"],[0.6666666666666666,\"#ed7953\"],[0.7777777777777778,\"#fb9f3a\"],[0.8888888888888888,\"#fdca26\"],[1.0,\"#f0f921\"]]}],\"mesh3d\":[{\"type\":\"mesh3d\",\"colorbar\":{\"outlinewidth\":0,\"ticks\":\"\"}}],\"scatter\":[{\"fillpattern\":{\"fillmode\":\"overlay\",\"size\":10,\"solidity\":0.2},\"type\":\"scatter\"}],\"parcoords\":[{\"type\":\"parcoords\",\"line\":{\"colorbar\":{\"outlinewidth\":0,\"ticks\":\"\"}}}],\"scatterpolargl\":[{\"type\":\"scatterpolargl\",\"marker\":{\"colorbar\":{\"outlinewidth\":0,\"ticks\":\"\"}}}],\"bar\":[{\"error_x\":{\"color\":\"#2a3f5f\"},\"error_y\":{\"color\":\"#2a3f5f\"},\"marker\":{\"line\":{\"color\":\"#E5ECF6\",\"width\":0.5},\"pattern\":{\"fillmode\":\"overlay\",\"size\":10,\"solidity\":0.2}},\"type\":\"bar\"}],\"scattergeo\":[{\"type\":\"scattergeo\",\"marker\":{\"colorbar\":{\"outlinewidth\":0,\"ticks\":\"\"}}}],\"scatterpolar\":[{\"type\":\"scatterpolar\",\"marker\":{\"colorbar\":{\"outlinewidth\":0,\"ticks\":\"\"}}}],\"histogram\":[{\"marker\":{\"pattern\":{\"fillmode\":\"overlay\",\"size\":10,\"solidity\":0.2}},\"type\":\"histogram\"}],\"scattergl\":[{\"type\":\"scattergl\",\"marker\":{\"colorbar\":{\"outlinewidth\":0,\"ticks\":\"\"}}}],\"scatter3d\":[{\"type\":\"scatter3d\",\"line\":{\"colorbar\":{\"outlinewidth\":0,\"ticks\":\"\"}},\"marker\":{\"colorbar\":{\"outlinewidth\":0,\"ticks\":\"\"}}}],\"scattermapbox\":[{\"type\":\"scattermapbox\",\"marker\":{\"colorbar\":{\"outlinewidth\":0,\"ticks\":\"\"}}}],\"scatterternary\":[{\"type\":\"scatterternary\",\"marker\":{\"colorbar\":{\"outlinewidth\":0,\"ticks\":\"\"}}}],\"scattercarpet\":[{\"type\":\"scattercarpet\",\"marker\":{\"colorbar\":{\"outlinewidth\":0,\"ticks\":\"\"}}}],\"carpet\":[{\"aaxis\":{\"endlinecolor\":\"#2a3f5f\",\"gridcolor\":\"white\",\"linecolor\":\"white\",\"minorgridcolor\":\"white\",\"startlinecolor\":\"#2a3f5f\"},\"baxis\":{\"endlinecolor\":\"#2a3f5f\",\"gridcolor\":\"white\",\"linecolor\":\"white\",\"minorgridcolor\":\"white\",\"startlinecolor\":\"#2a3f5f\"},\"type\":\"carpet\"}],\"table\":[{\"cells\":{\"fill\":{\"color\":\"#EBF0F8\"},\"line\":{\"color\":\"white\"}},\"header\":{\"fill\":{\"color\":\"#C8D4E3\"},\"line\":{\"color\":\"white\"}},\"type\":\"table\"}],\"barpolar\":[{\"marker\":{\"line\":{\"color\":\"#E5ECF6\",\"width\":0.5},\"pattern\":{\"fillmode\":\"overlay\",\"size\":10,\"solidity\":0.2}},\"type\":\"barpolar\"}],\"pie\":[{\"automargin\":true,\"type\":\"pie\"}]},\"layout\":{\"autotypenumbers\":\"strict\",\"colorway\":[\"#636efa\",\"#EF553B\",\"#00cc96\",\"#ab63fa\",\"#FFA15A\",\"#19d3f3\",\"#FF6692\",\"#B6E880\",\"#FF97FF\",\"#FECB52\"],\"font\":{\"color\":\"#2a3f5f\"},\"hovermode\":\"closest\",\"hoverlabel\":{\"align\":\"left\"},\"paper_bgcolor\":\"white\",\"plot_bgcolor\":\"#E5ECF6\",\"polar\":{\"bgcolor\":\"#E5ECF6\",\"angularaxis\":{\"gridcolor\":\"white\",\"linecolor\":\"white\",\"ticks\":\"\"},\"radialaxis\":{\"gridcolor\":\"white\",\"linecolor\":\"white\",\"ticks\":\"\"}},\"ternary\":{\"bgcolor\":\"#E5ECF6\",\"aaxis\":{\"gridcolor\":\"white\",\"linecolor\":\"white\",\"ticks\":\"\"},\"baxis\":{\"gridcolor\":\"white\",\"linecolor\":\"white\",\"ticks\":\"\"},\"caxis\":{\"gridcolor\":\"white\",\"linecolor\":\"white\",\"ticks\":\"\"}},\"coloraxis\":{\"colorbar\":{\"outlinewidth\":0,\"ticks\":\"\"}},\"colorscale\":{\"sequential\":[[0.0,\"#0d0887\"],[0.1111111111111111,\"#46039f\"],[0.2222222222222222,\"#7201a8\"],[0.3333333333333333,\"#9c179e\"],[0.4444444444444444,\"#bd3786\"],[0.5555555555555556,\"#d8576b\"],[0.6666666666666666,\"#ed7953\"],[0.7777777777777778,\"#fb9f3a\"],[0.8888888888888888,\"#fdca26\"],[1.0,\"#f0f921\"]],\"sequentialminus\":[[0.0,\"#0d0887\"],[0.1111111111111111,\"#46039f\"],[0.2222222222222222,\"#7201a8\"],[0.3333333333333333,\"#9c179e\"],[0.4444444444444444,\"#bd3786\"],[0.5555555555555556,\"#d8576b\"],[0.6666666666666666,\"#ed7953\"],[0.7777777777777778,\"#fb9f3a\"],[0.8888888888888888,\"#fdca26\"],[1.0,\"#f0f921\"]],\"diverging\":[[0,\"#8e0152\"],[0.1,\"#c51b7d\"],[0.2,\"#de77ae\"],[0.3,\"#f1b6da\"],[0.4,\"#fde0ef\"],[0.5,\"#f7f7f7\"],[0.6,\"#e6f5d0\"],[0.7,\"#b8e186\"],[0.8,\"#7fbc41\"],[0.9,\"#4d9221\"],[1,\"#276419\"]]},\"xaxis\":{\"gridcolor\":\"white\",\"linecolor\":\"white\",\"ticks\":\"\",\"title\":{\"standoff\":15},\"zerolinecolor\":\"white\",\"automargin\":true,\"zerolinewidth\":2},\"yaxis\":{\"gridcolor\":\"white\",\"linecolor\":\"white\",\"ticks\":\"\",\"title\":{\"standoff\":15},\"zerolinecolor\":\"white\",\"automargin\":true,\"zerolinewidth\":2},\"scene\":{\"xaxis\":{\"backgroundcolor\":\"#E5ECF6\",\"gridcolor\":\"white\",\"linecolor\":\"white\",\"showbackground\":true,\"ticks\":\"\",\"zerolinecolor\":\"white\",\"gridwidth\":2},\"yaxis\":{\"backgroundcolor\":\"#E5ECF6\",\"gridcolor\":\"white\",\"linecolor\":\"white\",\"showbackground\":true,\"ticks\":\"\",\"zerolinecolor\":\"white\",\"gridwidth\":2},\"zaxis\":{\"backgroundcolor\":\"#E5ECF6\",\"gridcolor\":\"white\",\"linecolor\":\"white\",\"showbackground\":true,\"ticks\":\"\",\"zerolinecolor\":\"white\",\"gridwidth\":2}},\"shapedefaults\":{\"line\":{\"color\":\"#2a3f5f\"}},\"annotationdefaults\":{\"arrowcolor\":\"#2a3f5f\",\"arrowhead\":0,\"arrowwidth\":1},\"geo\":{\"bgcolor\":\"white\",\"landcolor\":\"#E5ECF6\",\"subunitcolor\":\"white\",\"showland\":true,\"showlakes\":true,\"lakecolor\":\"white\"},\"title\":{\"x\":0.05},\"mapbox\":{\"style\":\"light\"}}},\"xaxis\":{\"anchor\":\"y\",\"domain\":[0.0,1.0],\"title\":{\"text\":\"target_interval\"}},\"yaxis\":{\"anchor\":\"x\",\"domain\":[0.0,1.0],\"title\":{\"text\":\"SD of Reproduced Interval (ms)\"}},\"legend\":{\"tracegroupgap\":0},\"title\":{\"text\":\"Scalar Variability\"}},                        {\"responsive\": true}                    ).then(function(){\n",
       "                            \n",
       "var gd = document.getElementById('4bcb8826-65e8-46b5-ab1e-6c4fffb60d91');\n",
       "var x = new MutationObserver(function (mutations, observer) {{\n",
       "        var display = window.getComputedStyle(gd).display;\n",
       "        if (!display || display === 'none') {{\n",
       "            console.log([gd, 'removed!']);\n",
       "            Plotly.purge(gd);\n",
       "            observer.disconnect();\n",
       "        }}\n",
       "}});\n",
       "\n",
       "// Listen for the removal of the full notebook cells\n",
       "var notebookContainer = gd.closest('#notebook-container');\n",
       "if (notebookContainer) {{\n",
       "    x.observe(notebookContainer, {childList: true});\n",
       "}}\n",
       "\n",
       "// Listen for the clearing of the current output cell\n",
       "var outputEl = gd.closest('.output');\n",
       "if (outputEl) {{\n",
       "    x.observe(outputEl, {childList: true});\n",
       "}}\n",
       "\n",
       "                        })                };                });            </script>        </div>"
      ]
     },
     "metadata": {},
     "output_type": "display_data"
    },
    {
     "data": {
      "application/vnd.plotly.v1+json": {
       "config": {
        "plotlyServerURL": "https://plot.ly"
       },
       "data": [
        {
         "hovertemplate": "target_interval=%{x}<br>reproduced_interval=%{y}<extra></extra>",
         "legendgroup": "",
         "marker": {
          "color": "#636efa",
          "symbol": "circle"
         },
         "mode": "markers",
         "name": "",
         "orientation": "v",
         "showlegend": false,
         "type": "scatter",
         "x": [
          300,
          800,
          900,
          300,
          200,
          700,
          400,
          500,
          500,
          500,
          400,
          500,
          900,
          800,
          900,
          400,
          600,
          800,
          300,
          600,
          800,
          600,
          200,
          700,
          400,
          700,
          800,
          700,
          200,
          500,
          700,
          400,
          300,
          300,
          600,
          200,
          800,
          900,
          800,
          500,
          500,
          900,
          500,
          500,
          900,
          400,
          300,
          600,
          600,
          500,
          700,
          200,
          500,
          500,
          400,
          700,
          300,
          700,
          500,
          500,
          600,
          700,
          700,
          600,
          600,
          500,
          800,
          600,
          300,
          900,
          500,
          200,
          800,
          200,
          600,
          500,
          900,
          500,
          300,
          400,
          500,
          200,
          200,
          700,
          800,
          300,
          400,
          900,
          800,
          300,
          900,
          400,
          500,
          600,
          200,
          800,
          300,
          1400,
          1200,
          1100,
          1300,
          1100,
          1500,
          1400,
          1000,
          1700,
          1700,
          1700,
          1400,
          1600,
          1200,
          1400,
          1600,
          1000,
          1400,
          1200,
          1300,
          1500,
          1300,
          1700,
          1400,
          1200,
          1500,
          1700,
          1000,
          1200,
          1300,
          1300,
          1400,
          1700,
          1400,
          1200,
          1100,
          1000,
          1100,
          1000,
          1000,
          1600,
          1700,
          1300,
          1200,
          1300,
          1700,
          1500,
          1600,
          1600,
          1400,
          1500,
          1500,
          1000,
          1400,
          1200,
          1000,
          1700,
          1000,
          1600,
          1200,
          1700,
          1500,
          1300,
          1600,
          1700,
          1300,
          1400,
          1200,
          1400,
          1300,
          1600,
          1200,
          1500,
          1600,
          1500,
          1000,
          1500,
          1600,
          1000,
          1100,
          1300,
          1100,
          1500,
          1300,
          1300,
          1500,
          1500,
          1700,
          1700,
          1100,
          1200,
          1300,
          1200,
          700,
          900,
          1000,
          900,
          1100,
          700,
          900,
          1100,
          900,
          1100,
          1000,
          700,
          1100,
          1100,
          600,
          1100,
          800,
          700,
          900,
          1000,
          900,
          1200,
          1100,
          1200,
          1000,
          900,
          800,
          1200,
          1100,
          1200,
          1100,
          1000,
          1100,
          1200,
          600,
          1100,
          1000,
          600,
          1100,
          700,
          1000,
          1300,
          800,
          900,
          1100,
          800,
          900,
          1200,
          1200,
          1200,
          700,
          1300,
          1000,
          700,
          1000,
          700,
          600,
          800,
          600,
          1100,
          1200,
          1000,
          1300,
          600,
          800,
          1300,
          800,
          800,
          800,
          600,
          1100,
          700,
          1300,
          700,
          600,
          1300,
          800,
          600,
          900,
          700,
          1000,
          1200,
          1300,
          1300,
          1100
         ],
         "xaxis": "x",
         "y": [
          265,
          866,
          817,
          346,
          244,
          672,
          322,
          504,
          516,
          457,
          405,
          405,
          628,
          634,
          649,
          455,
          501,
          683,
          293,
          539,
          743,
          647,
          78,
          778,
          362,
          659,
          757,
          770,
          96,
          453,
          708,
          474,
          252,
          346,
          628,
          138,
          629,
          898,
          789,
          527,
          498,
          782,
          503,
          456,
          684,
          332,
          347,
          626,
          574,
          464,
          622,
          161,
          449,
          483,
          427,
          604,
          151,
          592,
          556,
          560,
          508,
          767,
          686,
          651,
          673,
          561,
          748,
          641,
          360,
          870,
          436,
          146,
          800,
          242,
          743,
          608,
          743,
          392,
          367,
          484,
          493,
          280,
          277,
          626,
          864,
          365,
          481,
          983,
          948,
          280,
          1065,
          560,
          627,
          735,
          268,
          690,
          400,
          1234,
          1287,
          1216,
          1237,
          1273,
          1562,
          1411,
          1017,
          1688,
          1874,
          1892,
          1599,
          1727,
          1126,
          1390,
          1410,
          885,
          1519,
          1248,
          1422,
          1498,
          1476,
          1648,
          1490,
          1109,
          1672,
          1757,
          1146,
          1296,
          1291,
          1377,
          1421,
          1669,
          1310,
          1477,
          1160,
          1098,
          1373,
          1213,
          1277,
          1508,
          1542,
          1351,
          1171,
          1295,
          1590,
          1536,
          1446,
          1616,
          1582,
          1484,
          1447,
          1188,
          1500,
          1407,
          1021,
          1792,
          949,
          1653,
          1389,
          1875,
          1613,
          1451,
          1865,
          1860,
          1510,
          1491,
          1344,
          1350,
          1358,
          1600,
          1450,
          1461,
          1606,
          1567,
          731,
          1594,
          1843,
          1186,
          1138,
          1059,
          1020,
          1596,
          1563,
          1374,
          1417,
          1512,
          1711,
          1695,
          1299,
          1247,
          1042,
          1228,
          730,
          865,
          1023,
          1043,
          1273,
          741,
          901,
          1071,
          999,
          1263,
          1242,
          748,
          1269,
          1261,
          638,
          1163,
          991,
          976,
          1111,
          1191,
          1072,
          1156,
          1189,
          1422,
          921,
          1093,
          871,
          1072,
          1196,
          1120,
          1148,
          949,
          1121,
          1234,
          623,
          1206,
          1151,
          462,
          1247,
          725,
          1156,
          1193,
          838,
          1089,
          1370,
          963,
          984,
          1330,
          1348,
          1346,
          815,
          1530,
          1257,
          647,
          1044,
          715,
          468,
          978,
          763,
          1301,
          1342,
          1018,
          1418,
          778,
          923,
          1211,
          853,
          804,
          836,
          661,
          1323,
          893,
          1373,
          876,
          599,
          1345,
          806,
          661,
          1108,
          874,
          1084,
          1113,
          1582,
          1476,
          1120
         ],
         "yaxis": "y"
        },
        {
         "hovertemplate": "<b>OLS trendline</b><br>reproduced_interval = 1.03865 * target_interval + 5.70029<br>R<sup>2</sup>=0.932926<br><br>target_interval=%{x}<br>reproduced_interval=%{y} <b>(trend)</b><extra></extra>",
         "legendgroup": "",
         "marker": {
          "color": "#636efa",
          "symbol": "circle"
         },
         "mode": "lines",
         "name": "",
         "showlegend": false,
         "type": "scatter",
         "x": [
          200,
          200,
          200,
          200,
          200,
          200,
          200,
          200,
          200,
          200,
          300,
          300,
          300,
          300,
          300,
          300,
          300,
          300,
          300,
          300,
          300,
          300,
          400,
          400,
          400,
          400,
          400,
          400,
          400,
          400,
          400,
          400,
          500,
          500,
          500,
          500,
          500,
          500,
          500,
          500,
          500,
          500,
          500,
          500,
          500,
          500,
          500,
          500,
          500,
          500,
          500,
          500,
          600,
          600,
          600,
          600,
          600,
          600,
          600,
          600,
          600,
          600,
          600,
          600,
          600,
          600,
          600,
          600,
          600,
          600,
          600,
          600,
          600,
          700,
          700,
          700,
          700,
          700,
          700,
          700,
          700,
          700,
          700,
          700,
          700,
          700,
          700,
          700,
          700,
          700,
          700,
          700,
          700,
          700,
          700,
          800,
          800,
          800,
          800,
          800,
          800,
          800,
          800,
          800,
          800,
          800,
          800,
          800,
          800,
          800,
          800,
          800,
          800,
          800,
          800,
          800,
          800,
          900,
          900,
          900,
          900,
          900,
          900,
          900,
          900,
          900,
          900,
          900,
          900,
          900,
          900,
          900,
          900,
          900,
          900,
          900,
          900,
          1000,
          1000,
          1000,
          1000,
          1000,
          1000,
          1000,
          1000,
          1000,
          1000,
          1000,
          1000,
          1000,
          1000,
          1000,
          1000,
          1000,
          1000,
          1000,
          1000,
          1000,
          1000,
          1100,
          1100,
          1100,
          1100,
          1100,
          1100,
          1100,
          1100,
          1100,
          1100,
          1100,
          1100,
          1100,
          1100,
          1100,
          1100,
          1100,
          1100,
          1100,
          1100,
          1100,
          1100,
          1100,
          1200,
          1200,
          1200,
          1200,
          1200,
          1200,
          1200,
          1200,
          1200,
          1200,
          1200,
          1200,
          1200,
          1200,
          1200,
          1200,
          1200,
          1200,
          1200,
          1200,
          1200,
          1200,
          1200,
          1300,
          1300,
          1300,
          1300,
          1300,
          1300,
          1300,
          1300,
          1300,
          1300,
          1300,
          1300,
          1300,
          1300,
          1300,
          1300,
          1300,
          1300,
          1300,
          1300,
          1300,
          1300,
          1400,
          1400,
          1400,
          1400,
          1400,
          1400,
          1400,
          1400,
          1400,
          1400,
          1400,
          1400,
          1500,
          1500,
          1500,
          1500,
          1500,
          1500,
          1500,
          1500,
          1500,
          1500,
          1500,
          1500,
          1500,
          1600,
          1600,
          1600,
          1600,
          1600,
          1600,
          1600,
          1600,
          1600,
          1600,
          1700,
          1700,
          1700,
          1700,
          1700,
          1700,
          1700,
          1700,
          1700,
          1700,
          1700,
          1700,
          1700
         ],
         "xaxis": "x",
         "y": [
          213.43021702729874,
          213.43021702729874,
          213.43021702729874,
          213.43021702729874,
          213.43021702729874,
          213.43021702729874,
          213.43021702729874,
          213.43021702729874,
          213.43021702729874,
          213.43021702729874,
          317.2951807912449,
          317.2951807912449,
          317.2951807912449,
          317.2951807912449,
          317.2951807912449,
          317.2951807912449,
          317.2951807912449,
          317.2951807912449,
          317.2951807912449,
          317.2951807912449,
          317.2951807912449,
          317.2951807912449,
          421.16014455519104,
          421.16014455519104,
          421.16014455519104,
          421.16014455519104,
          421.16014455519104,
          421.16014455519104,
          421.16014455519104,
          421.16014455519104,
          421.16014455519104,
          421.16014455519104,
          525.0251083191372,
          525.0251083191372,
          525.0251083191372,
          525.0251083191372,
          525.0251083191372,
          525.0251083191372,
          525.0251083191372,
          525.0251083191372,
          525.0251083191372,
          525.0251083191372,
          525.0251083191372,
          525.0251083191372,
          525.0251083191372,
          525.0251083191372,
          525.0251083191372,
          525.0251083191372,
          525.0251083191372,
          525.0251083191372,
          525.0251083191372,
          525.0251083191372,
          628.8900720830833,
          628.8900720830833,
          628.8900720830833,
          628.8900720830833,
          628.8900720830833,
          628.8900720830833,
          628.8900720830833,
          628.8900720830833,
          628.8900720830833,
          628.8900720830833,
          628.8900720830833,
          628.8900720830833,
          628.8900720830833,
          628.8900720830833,
          628.8900720830833,
          628.8900720830833,
          628.8900720830833,
          628.8900720830833,
          628.8900720830833,
          628.8900720830833,
          628.8900720830833,
          732.7550358470295,
          732.7550358470295,
          732.7550358470295,
          732.7550358470295,
          732.7550358470295,
          732.7550358470295,
          732.7550358470295,
          732.7550358470295,
          732.7550358470295,
          732.7550358470295,
          732.7550358470295,
          732.7550358470295,
          732.7550358470295,
          732.7550358470295,
          732.7550358470295,
          732.7550358470295,
          732.7550358470295,
          732.7550358470295,
          732.7550358470295,
          732.7550358470295,
          732.7550358470295,
          732.7550358470295,
          836.6199996109756,
          836.6199996109756,
          836.6199996109756,
          836.6199996109756,
          836.6199996109756,
          836.6199996109756,
          836.6199996109756,
          836.6199996109756,
          836.6199996109756,
          836.6199996109756,
          836.6199996109756,
          836.6199996109756,
          836.6199996109756,
          836.6199996109756,
          836.6199996109756,
          836.6199996109756,
          836.6199996109756,
          836.6199996109756,
          836.6199996109756,
          836.6199996109756,
          836.6199996109756,
          836.6199996109756,
          940.4849633749218,
          940.4849633749218,
          940.4849633749218,
          940.4849633749218,
          940.4849633749218,
          940.4849633749218,
          940.4849633749218,
          940.4849633749218,
          940.4849633749218,
          940.4849633749218,
          940.4849633749218,
          940.4849633749218,
          940.4849633749218,
          940.4849633749218,
          940.4849633749218,
          940.4849633749218,
          940.4849633749218,
          940.4849633749218,
          940.4849633749218,
          940.4849633749218,
          1044.3499271388678,
          1044.3499271388678,
          1044.3499271388678,
          1044.3499271388678,
          1044.3499271388678,
          1044.3499271388678,
          1044.3499271388678,
          1044.3499271388678,
          1044.3499271388678,
          1044.3499271388678,
          1044.3499271388678,
          1044.3499271388678,
          1044.3499271388678,
          1044.3499271388678,
          1044.3499271388678,
          1044.3499271388678,
          1044.3499271388678,
          1044.3499271388678,
          1044.3499271388678,
          1044.3499271388678,
          1044.3499271388678,
          1044.3499271388678,
          1148.214890902814,
          1148.214890902814,
          1148.214890902814,
          1148.214890902814,
          1148.214890902814,
          1148.214890902814,
          1148.214890902814,
          1148.214890902814,
          1148.214890902814,
          1148.214890902814,
          1148.214890902814,
          1148.214890902814,
          1148.214890902814,
          1148.214890902814,
          1148.214890902814,
          1148.214890902814,
          1148.214890902814,
          1148.214890902814,
          1148.214890902814,
          1148.214890902814,
          1148.214890902814,
          1148.214890902814,
          1148.214890902814,
          1252.07985466676,
          1252.07985466676,
          1252.07985466676,
          1252.07985466676,
          1252.07985466676,
          1252.07985466676,
          1252.07985466676,
          1252.07985466676,
          1252.07985466676,
          1252.07985466676,
          1252.07985466676,
          1252.07985466676,
          1252.07985466676,
          1252.07985466676,
          1252.07985466676,
          1252.07985466676,
          1252.07985466676,
          1252.07985466676,
          1252.07985466676,
          1252.07985466676,
          1252.07985466676,
          1252.07985466676,
          1252.07985466676,
          1355.9448184307062,
          1355.9448184307062,
          1355.9448184307062,
          1355.9448184307062,
          1355.9448184307062,
          1355.9448184307062,
          1355.9448184307062,
          1355.9448184307062,
          1355.9448184307062,
          1355.9448184307062,
          1355.9448184307062,
          1355.9448184307062,
          1355.9448184307062,
          1355.9448184307062,
          1355.9448184307062,
          1355.9448184307062,
          1355.9448184307062,
          1355.9448184307062,
          1355.9448184307062,
          1355.9448184307062,
          1355.9448184307062,
          1355.9448184307062,
          1459.8097821946524,
          1459.8097821946524,
          1459.8097821946524,
          1459.8097821946524,
          1459.8097821946524,
          1459.8097821946524,
          1459.8097821946524,
          1459.8097821946524,
          1459.8097821946524,
          1459.8097821946524,
          1459.8097821946524,
          1459.8097821946524,
          1563.6747459585984,
          1563.6747459585984,
          1563.6747459585984,
          1563.6747459585984,
          1563.6747459585984,
          1563.6747459585984,
          1563.6747459585984,
          1563.6747459585984,
          1563.6747459585984,
          1563.6747459585984,
          1563.6747459585984,
          1563.6747459585984,
          1563.6747459585984,
          1667.5397097225446,
          1667.5397097225446,
          1667.5397097225446,
          1667.5397097225446,
          1667.5397097225446,
          1667.5397097225446,
          1667.5397097225446,
          1667.5397097225446,
          1667.5397097225446,
          1667.5397097225446,
          1771.4046734864908,
          1771.4046734864908,
          1771.4046734864908,
          1771.4046734864908,
          1771.4046734864908,
          1771.4046734864908,
          1771.4046734864908,
          1771.4046734864908,
          1771.4046734864908,
          1771.4046734864908,
          1771.4046734864908,
          1771.4046734864908,
          1771.4046734864908
         ],
         "yaxis": "y"
        }
       ],
       "layout": {
        "legend": {
         "tracegroupgap": 0
        },
        "template": {
         "data": {
          "bar": [
           {
            "error_x": {
             "color": "#2a3f5f"
            },
            "error_y": {
             "color": "#2a3f5f"
            },
            "marker": {
             "line": {
              "color": "#E5ECF6",
              "width": 0.5
             },
             "pattern": {
              "fillmode": "overlay",
              "size": 10,
              "solidity": 0.2
             }
            },
            "type": "bar"
           }
          ],
          "barpolar": [
           {
            "marker": {
             "line": {
              "color": "#E5ECF6",
              "width": 0.5
             },
             "pattern": {
              "fillmode": "overlay",
              "size": 10,
              "solidity": 0.2
             }
            },
            "type": "barpolar"
           }
          ],
          "carpet": [
           {
            "aaxis": {
             "endlinecolor": "#2a3f5f",
             "gridcolor": "white",
             "linecolor": "white",
             "minorgridcolor": "white",
             "startlinecolor": "#2a3f5f"
            },
            "baxis": {
             "endlinecolor": "#2a3f5f",
             "gridcolor": "white",
             "linecolor": "white",
             "minorgridcolor": "white",
             "startlinecolor": "#2a3f5f"
            },
            "type": "carpet"
           }
          ],
          "choropleth": [
           {
            "colorbar": {
             "outlinewidth": 0,
             "ticks": ""
            },
            "type": "choropleth"
           }
          ],
          "contour": [
           {
            "colorbar": {
             "outlinewidth": 0,
             "ticks": ""
            },
            "colorscale": [
             [
              0,
              "#0d0887"
             ],
             [
              0.1111111111111111,
              "#46039f"
             ],
             [
              0.2222222222222222,
              "#7201a8"
             ],
             [
              0.3333333333333333,
              "#9c179e"
             ],
             [
              0.4444444444444444,
              "#bd3786"
             ],
             [
              0.5555555555555556,
              "#d8576b"
             ],
             [
              0.6666666666666666,
              "#ed7953"
             ],
             [
              0.7777777777777778,
              "#fb9f3a"
             ],
             [
              0.8888888888888888,
              "#fdca26"
             ],
             [
              1,
              "#f0f921"
             ]
            ],
            "type": "contour"
           }
          ],
          "contourcarpet": [
           {
            "colorbar": {
             "outlinewidth": 0,
             "ticks": ""
            },
            "type": "contourcarpet"
           }
          ],
          "heatmap": [
           {
            "colorbar": {
             "outlinewidth": 0,
             "ticks": ""
            },
            "colorscale": [
             [
              0,
              "#0d0887"
             ],
             [
              0.1111111111111111,
              "#46039f"
             ],
             [
              0.2222222222222222,
              "#7201a8"
             ],
             [
              0.3333333333333333,
              "#9c179e"
             ],
             [
              0.4444444444444444,
              "#bd3786"
             ],
             [
              0.5555555555555556,
              "#d8576b"
             ],
             [
              0.6666666666666666,
              "#ed7953"
             ],
             [
              0.7777777777777778,
              "#fb9f3a"
             ],
             [
              0.8888888888888888,
              "#fdca26"
             ],
             [
              1,
              "#f0f921"
             ]
            ],
            "type": "heatmap"
           }
          ],
          "heatmapgl": [
           {
            "colorbar": {
             "outlinewidth": 0,
             "ticks": ""
            },
            "colorscale": [
             [
              0,
              "#0d0887"
             ],
             [
              0.1111111111111111,
              "#46039f"
             ],
             [
              0.2222222222222222,
              "#7201a8"
             ],
             [
              0.3333333333333333,
              "#9c179e"
             ],
             [
              0.4444444444444444,
              "#bd3786"
             ],
             [
              0.5555555555555556,
              "#d8576b"
             ],
             [
              0.6666666666666666,
              "#ed7953"
             ],
             [
              0.7777777777777778,
              "#fb9f3a"
             ],
             [
              0.8888888888888888,
              "#fdca26"
             ],
             [
              1,
              "#f0f921"
             ]
            ],
            "type": "heatmapgl"
           }
          ],
          "histogram": [
           {
            "marker": {
             "pattern": {
              "fillmode": "overlay",
              "size": 10,
              "solidity": 0.2
             }
            },
            "type": "histogram"
           }
          ],
          "histogram2d": [
           {
            "colorbar": {
             "outlinewidth": 0,
             "ticks": ""
            },
            "colorscale": [
             [
              0,
              "#0d0887"
             ],
             [
              0.1111111111111111,
              "#46039f"
             ],
             [
              0.2222222222222222,
              "#7201a8"
             ],
             [
              0.3333333333333333,
              "#9c179e"
             ],
             [
              0.4444444444444444,
              "#bd3786"
             ],
             [
              0.5555555555555556,
              "#d8576b"
             ],
             [
              0.6666666666666666,
              "#ed7953"
             ],
             [
              0.7777777777777778,
              "#fb9f3a"
             ],
             [
              0.8888888888888888,
              "#fdca26"
             ],
             [
              1,
              "#f0f921"
             ]
            ],
            "type": "histogram2d"
           }
          ],
          "histogram2dcontour": [
           {
            "colorbar": {
             "outlinewidth": 0,
             "ticks": ""
            },
            "colorscale": [
             [
              0,
              "#0d0887"
             ],
             [
              0.1111111111111111,
              "#46039f"
             ],
             [
              0.2222222222222222,
              "#7201a8"
             ],
             [
              0.3333333333333333,
              "#9c179e"
             ],
             [
              0.4444444444444444,
              "#bd3786"
             ],
             [
              0.5555555555555556,
              "#d8576b"
             ],
             [
              0.6666666666666666,
              "#ed7953"
             ],
             [
              0.7777777777777778,
              "#fb9f3a"
             ],
             [
              0.8888888888888888,
              "#fdca26"
             ],
             [
              1,
              "#f0f921"
             ]
            ],
            "type": "histogram2dcontour"
           }
          ],
          "mesh3d": [
           {
            "colorbar": {
             "outlinewidth": 0,
             "ticks": ""
            },
            "type": "mesh3d"
           }
          ],
          "parcoords": [
           {
            "line": {
             "colorbar": {
              "outlinewidth": 0,
              "ticks": ""
             }
            },
            "type": "parcoords"
           }
          ],
          "pie": [
           {
            "automargin": true,
            "type": "pie"
           }
          ],
          "scatter": [
           {
            "fillpattern": {
             "fillmode": "overlay",
             "size": 10,
             "solidity": 0.2
            },
            "type": "scatter"
           }
          ],
          "scatter3d": [
           {
            "line": {
             "colorbar": {
              "outlinewidth": 0,
              "ticks": ""
             }
            },
            "marker": {
             "colorbar": {
              "outlinewidth": 0,
              "ticks": ""
             }
            },
            "type": "scatter3d"
           }
          ],
          "scattercarpet": [
           {
            "marker": {
             "colorbar": {
              "outlinewidth": 0,
              "ticks": ""
             }
            },
            "type": "scattercarpet"
           }
          ],
          "scattergeo": [
           {
            "marker": {
             "colorbar": {
              "outlinewidth": 0,
              "ticks": ""
             }
            },
            "type": "scattergeo"
           }
          ],
          "scattergl": [
           {
            "marker": {
             "colorbar": {
              "outlinewidth": 0,
              "ticks": ""
             }
            },
            "type": "scattergl"
           }
          ],
          "scattermapbox": [
           {
            "marker": {
             "colorbar": {
              "outlinewidth": 0,
              "ticks": ""
             }
            },
            "type": "scattermapbox"
           }
          ],
          "scatterpolar": [
           {
            "marker": {
             "colorbar": {
              "outlinewidth": 0,
              "ticks": ""
             }
            },
            "type": "scatterpolar"
           }
          ],
          "scatterpolargl": [
           {
            "marker": {
             "colorbar": {
              "outlinewidth": 0,
              "ticks": ""
             }
            },
            "type": "scatterpolargl"
           }
          ],
          "scatterternary": [
           {
            "marker": {
             "colorbar": {
              "outlinewidth": 0,
              "ticks": ""
             }
            },
            "type": "scatterternary"
           }
          ],
          "surface": [
           {
            "colorbar": {
             "outlinewidth": 0,
             "ticks": ""
            },
            "colorscale": [
             [
              0,
              "#0d0887"
             ],
             [
              0.1111111111111111,
              "#46039f"
             ],
             [
              0.2222222222222222,
              "#7201a8"
             ],
             [
              0.3333333333333333,
              "#9c179e"
             ],
             [
              0.4444444444444444,
              "#bd3786"
             ],
             [
              0.5555555555555556,
              "#d8576b"
             ],
             [
              0.6666666666666666,
              "#ed7953"
             ],
             [
              0.7777777777777778,
              "#fb9f3a"
             ],
             [
              0.8888888888888888,
              "#fdca26"
             ],
             [
              1,
              "#f0f921"
             ]
            ],
            "type": "surface"
           }
          ],
          "table": [
           {
            "cells": {
             "fill": {
              "color": "#EBF0F8"
             },
             "line": {
              "color": "white"
             }
            },
            "header": {
             "fill": {
              "color": "#C8D4E3"
             },
             "line": {
              "color": "white"
             }
            },
            "type": "table"
           }
          ]
         },
         "layout": {
          "annotationdefaults": {
           "arrowcolor": "#2a3f5f",
           "arrowhead": 0,
           "arrowwidth": 1
          },
          "autotypenumbers": "strict",
          "coloraxis": {
           "colorbar": {
            "outlinewidth": 0,
            "ticks": ""
           }
          },
          "colorscale": {
           "diverging": [
            [
             0,
             "#8e0152"
            ],
            [
             0.1,
             "#c51b7d"
            ],
            [
             0.2,
             "#de77ae"
            ],
            [
             0.3,
             "#f1b6da"
            ],
            [
             0.4,
             "#fde0ef"
            ],
            [
             0.5,
             "#f7f7f7"
            ],
            [
             0.6,
             "#e6f5d0"
            ],
            [
             0.7,
             "#b8e186"
            ],
            [
             0.8,
             "#7fbc41"
            ],
            [
             0.9,
             "#4d9221"
            ],
            [
             1,
             "#276419"
            ]
           ],
           "sequential": [
            [
             0,
             "#0d0887"
            ],
            [
             0.1111111111111111,
             "#46039f"
            ],
            [
             0.2222222222222222,
             "#7201a8"
            ],
            [
             0.3333333333333333,
             "#9c179e"
            ],
            [
             0.4444444444444444,
             "#bd3786"
            ],
            [
             0.5555555555555556,
             "#d8576b"
            ],
            [
             0.6666666666666666,
             "#ed7953"
            ],
            [
             0.7777777777777778,
             "#fb9f3a"
            ],
            [
             0.8888888888888888,
             "#fdca26"
            ],
            [
             1,
             "#f0f921"
            ]
           ],
           "sequentialminus": [
            [
             0,
             "#0d0887"
            ],
            [
             0.1111111111111111,
             "#46039f"
            ],
            [
             0.2222222222222222,
             "#7201a8"
            ],
            [
             0.3333333333333333,
             "#9c179e"
            ],
            [
             0.4444444444444444,
             "#bd3786"
            ],
            [
             0.5555555555555556,
             "#d8576b"
            ],
            [
             0.6666666666666666,
             "#ed7953"
            ],
            [
             0.7777777777777778,
             "#fb9f3a"
            ],
            [
             0.8888888888888888,
             "#fdca26"
            ],
            [
             1,
             "#f0f921"
            ]
           ]
          },
          "colorway": [
           "#636efa",
           "#EF553B",
           "#00cc96",
           "#ab63fa",
           "#FFA15A",
           "#19d3f3",
           "#FF6692",
           "#B6E880",
           "#FF97FF",
           "#FECB52"
          ],
          "font": {
           "color": "#2a3f5f"
          },
          "geo": {
           "bgcolor": "white",
           "lakecolor": "white",
           "landcolor": "#E5ECF6",
           "showlakes": true,
           "showland": true,
           "subunitcolor": "white"
          },
          "hoverlabel": {
           "align": "left"
          },
          "hovermode": "closest",
          "mapbox": {
           "style": "light"
          },
          "paper_bgcolor": "white",
          "plot_bgcolor": "#E5ECF6",
          "polar": {
           "angularaxis": {
            "gridcolor": "white",
            "linecolor": "white",
            "ticks": ""
           },
           "bgcolor": "#E5ECF6",
           "radialaxis": {
            "gridcolor": "white",
            "linecolor": "white",
            "ticks": ""
           }
          },
          "scene": {
           "xaxis": {
            "backgroundcolor": "#E5ECF6",
            "gridcolor": "white",
            "gridwidth": 2,
            "linecolor": "white",
            "showbackground": true,
            "ticks": "",
            "zerolinecolor": "white"
           },
           "yaxis": {
            "backgroundcolor": "#E5ECF6",
            "gridcolor": "white",
            "gridwidth": 2,
            "linecolor": "white",
            "showbackground": true,
            "ticks": "",
            "zerolinecolor": "white"
           },
           "zaxis": {
            "backgroundcolor": "#E5ECF6",
            "gridcolor": "white",
            "gridwidth": 2,
            "linecolor": "white",
            "showbackground": true,
            "ticks": "",
            "zerolinecolor": "white"
           }
          },
          "shapedefaults": {
           "line": {
            "color": "#2a3f5f"
           }
          },
          "ternary": {
           "aaxis": {
            "gridcolor": "white",
            "linecolor": "white",
            "ticks": ""
           },
           "baxis": {
            "gridcolor": "white",
            "linecolor": "white",
            "ticks": ""
           },
           "bgcolor": "#E5ECF6",
           "caxis": {
            "gridcolor": "white",
            "linecolor": "white",
            "ticks": ""
           }
          },
          "title": {
           "x": 0.05
          },
          "xaxis": {
           "automargin": true,
           "gridcolor": "white",
           "linecolor": "white",
           "ticks": "",
           "title": {
            "standoff": 15
           },
           "zerolinecolor": "white",
           "zerolinewidth": 2
          },
          "yaxis": {
           "automargin": true,
           "gridcolor": "white",
           "linecolor": "white",
           "ticks": "",
           "title": {
            "standoff": 15
           },
           "zerolinecolor": "white",
           "zerolinewidth": 2
          }
         }
        },
        "title": {
         "text": "Regression Toward the Mean"
        },
        "xaxis": {
         "anchor": "y",
         "domain": [
          0,
          1
         ],
         "title": {
          "text": "target_interval"
         }
        },
        "yaxis": {
         "anchor": "x",
         "domain": [
          0,
          1
         ],
         "title": {
          "text": "reproduced_interval"
         }
        }
       }
      },
      "text/html": [
       "<div>                            <div id=\"3562cfba-210b-4344-86a1-fde21b81981b\" class=\"plotly-graph-div\" style=\"height:525px; width:100%;\"></div>            <script type=\"text/javascript\">                require([\"plotly\"], function(Plotly) {                    window.PLOTLYENV=window.PLOTLYENV || {};                                    if (document.getElementById(\"3562cfba-210b-4344-86a1-fde21b81981b\")) {                    Plotly.newPlot(                        \"3562cfba-210b-4344-86a1-fde21b81981b\",                        [{\"hovertemplate\":\"target_interval=%{x}<br>reproduced_interval=%{y}<extra></extra>\",\"legendgroup\":\"\",\"marker\":{\"color\":\"#636efa\",\"symbol\":\"circle\"},\"mode\":\"markers\",\"name\":\"\",\"orientation\":\"v\",\"showlegend\":false,\"x\":[300.0,800.0,900.0,300.0,200.0,700.0,400.0,500.0,500.0,500.0,400.0,500.0,900.0,800.0,900.0,400.0,600.0,800.0,300.0,600.0,800.0,600.0,200.0,700.0,400.0,700.0,800.0,700.0,200.0,500.0,700.0,400.0,300.0,300.0,600.0,200.0,800.0,900.0,800.0,500.0,500.0,900.0,500.0,500.0,900.0,400.0,300.0,600.0,600.0,500.0,700.0,200.0,500.0,500.0,400.0,700.0,300.0,700.0,500.0,500.0,600.0,700.0,700.0,600.0,600.0,500.0,800.0,600.0,300.0,900.0,500.0,200.0,800.0,200.0,600.0,500.0,900.0,500.0,300.0,400.0,500.0,200.0,200.0,700.0,800.0,300.0,400.0,900.0,800.0,300.0,900.0,400.0,500.0,600.0,200.0,800.0,300.0,1400.0,1200.0,1100.0,1300.0,1100.0,1500.0,1400.0,1000.0,1700.0,1700.0,1700.0,1400.0,1600.0,1200.0,1400.0,1600.0,1000.0,1400.0,1200.0,1300.0,1500.0,1300.0,1700.0,1400.0,1200.0,1500.0,1700.0,1000.0,1200.0,1300.0,1300.0,1400.0,1700.0,1400.0,1200.0,1100.0,1000.0,1100.0,1000.0,1000.0,1600.0,1700.0,1300.0,1200.0,1300.0,1700.0,1500.0,1600.0,1600.0,1400.0,1500.0,1500.0,1000.0,1400.0,1200.0,1000.0,1700.0,1000.0,1600.0,1200.0,1700.0,1500.0,1300.0,1600.0,1700.0,1300.0,1400.0,1200.0,1400.0,1300.0,1600.0,1200.0,1500.0,1600.0,1500.0,1000.0,1500.0,1600.0,1000.0,1100.0,1300.0,1100.0,1500.0,1300.0,1300.0,1500.0,1500.0,1700.0,1700.0,1100.0,1200.0,1300.0,1200.0,700.0,900.0,1000.0,900.0,1100.0,700.0,900.0,1100.0,900.0,1100.0,1000.0,700.0,1100.0,1100.0,600.0,1100.0,800.0,700.0,900.0,1000.0,900.0,1200.0,1100.0,1200.0,1000.0,900.0,800.0,1200.0,1100.0,1200.0,1100.0,1000.0,1100.0,1200.0,600.0,1100.0,1000.0,600.0,1100.0,700.0,1000.0,1300.0,800.0,900.0,1100.0,800.0,900.0,1200.0,1200.0,1200.0,700.0,1300.0,1000.0,700.0,1000.0,700.0,600.0,800.0,600.0,1100.0,1200.0,1000.0,1300.0,600.0,800.0,1300.0,800.0,800.0,800.0,600.0,1100.0,700.0,1300.0,700.0,600.0,1300.0,800.0,600.0,900.0,700.0,1000.0,1200.0,1300.0,1300.0,1100.0],\"xaxis\":\"x\",\"y\":[265.0,866.0,817.0,346.0,244.0,672.0,322.0,504.0,516.0,457.0,405.0,405.0,628.0,634.0,649.0,455.0,501.0,683.0,293.0,539.0,743.0,647.0,78.0,778.0,362.0,659.0,757.0,770.0,96.0,453.0,708.0,474.0,252.0,346.0,628.0,138.0,629.0,898.0,789.0,527.0,498.0,782.0,503.0,456.0,684.0,332.0,347.0,626.0,574.0,464.0,622.0,161.0,449.0,483.0,427.0,604.0,151.0,592.0,556.0,560.0,508.0,767.0,686.0,651.0,673.0,561.0,748.0,641.0,360.0,870.0,436.0,146.0,800.0,242.0,743.0,608.0,743.0,392.0,367.0,484.0,493.0,280.0,277.0,626.0,864.0,365.0,481.0,983.0,948.0,280.0,1065.0,560.0,627.0,735.0,268.0,690.0,400.0,1234.0,1287.0,1216.0,1237.0,1273.0,1562.0,1411.0,1017.0,1688.0,1874.0,1892.0,1599.0,1727.0,1126.0,1390.0,1410.0,885.0,1519.0,1248.0,1422.0,1498.0,1476.0,1648.0,1490.0,1109.0,1672.0,1757.0,1146.0,1296.0,1291.0,1377.0,1421.0,1669.0,1310.0,1477.0,1160.0,1098.0,1373.0,1213.0,1277.0,1508.0,1542.0,1351.0,1171.0,1295.0,1590.0,1536.0,1446.0,1616.0,1582.0,1484.0,1447.0,1188.0,1500.0,1407.0,1021.0,1792.0,949.0,1653.0,1389.0,1875.0,1613.0,1451.0,1865.0,1860.0,1510.0,1491.0,1344.0,1350.0,1358.0,1600.0,1450.0,1461.0,1606.0,1567.0,731.0,1594.0,1843.0,1186.0,1138.0,1059.0,1020.0,1596.0,1563.0,1374.0,1417.0,1512.0,1711.0,1695.0,1299.0,1247.0,1042.0,1228.0,730.0,865.0,1023.0,1043.0,1273.0,741.0,901.0,1071.0,999.0,1263.0,1242.0,748.0,1269.0,1261.0,638.0,1163.0,991.0,976.0,1111.0,1191.0,1072.0,1156.0,1189.0,1422.0,921.0,1093.0,871.0,1072.0,1196.0,1120.0,1148.0,949.0,1121.0,1234.0,623.0,1206.0,1151.0,462.0,1247.0,725.0,1156.0,1193.0,838.0,1089.0,1370.0,963.0,984.0,1330.0,1348.0,1346.0,815.0,1530.0,1257.0,647.0,1044.0,715.0,468.0,978.0,763.0,1301.0,1342.0,1018.0,1418.0,778.0,923.0,1211.0,853.0,804.0,836.0,661.0,1323.0,893.0,1373.0,876.0,599.0,1345.0,806.0,661.0,1108.0,874.0,1084.0,1113.0,1582.0,1476.0,1120.0],\"yaxis\":\"y\",\"type\":\"scatter\"},{\"hovertemplate\":\"<b>OLS trendline</b><br>reproduced_interval = 1.03865 * target_interval + 5.70029<br>R<sup>2</sup>=0.932926<br><br>target_interval=%{x}<br>reproduced_interval=%{y} <b>(trend)</b><extra></extra>\",\"legendgroup\":\"\",\"marker\":{\"color\":\"#636efa\",\"symbol\":\"circle\"},\"mode\":\"lines\",\"name\":\"\",\"showlegend\":false,\"x\":[200.0,200.0,200.0,200.0,200.0,200.0,200.0,200.0,200.0,200.0,300.0,300.0,300.0,300.0,300.0,300.0,300.0,300.0,300.0,300.0,300.0,300.0,400.0,400.0,400.0,400.0,400.0,400.0,400.0,400.0,400.0,400.0,500.0,500.0,500.0,500.0,500.0,500.0,500.0,500.0,500.0,500.0,500.0,500.0,500.0,500.0,500.0,500.0,500.0,500.0,500.0,500.0,600.0,600.0,600.0,600.0,600.0,600.0,600.0,600.0,600.0,600.0,600.0,600.0,600.0,600.0,600.0,600.0,600.0,600.0,600.0,600.0,600.0,700.0,700.0,700.0,700.0,700.0,700.0,700.0,700.0,700.0,700.0,700.0,700.0,700.0,700.0,700.0,700.0,700.0,700.0,700.0,700.0,700.0,700.0,800.0,800.0,800.0,800.0,800.0,800.0,800.0,800.0,800.0,800.0,800.0,800.0,800.0,800.0,800.0,800.0,800.0,800.0,800.0,800.0,800.0,800.0,900.0,900.0,900.0,900.0,900.0,900.0,900.0,900.0,900.0,900.0,900.0,900.0,900.0,900.0,900.0,900.0,900.0,900.0,900.0,900.0,1000.0,1000.0,1000.0,1000.0,1000.0,1000.0,1000.0,1000.0,1000.0,1000.0,1000.0,1000.0,1000.0,1000.0,1000.0,1000.0,1000.0,1000.0,1000.0,1000.0,1000.0,1000.0,1100.0,1100.0,1100.0,1100.0,1100.0,1100.0,1100.0,1100.0,1100.0,1100.0,1100.0,1100.0,1100.0,1100.0,1100.0,1100.0,1100.0,1100.0,1100.0,1100.0,1100.0,1100.0,1100.0,1200.0,1200.0,1200.0,1200.0,1200.0,1200.0,1200.0,1200.0,1200.0,1200.0,1200.0,1200.0,1200.0,1200.0,1200.0,1200.0,1200.0,1200.0,1200.0,1200.0,1200.0,1200.0,1200.0,1300.0,1300.0,1300.0,1300.0,1300.0,1300.0,1300.0,1300.0,1300.0,1300.0,1300.0,1300.0,1300.0,1300.0,1300.0,1300.0,1300.0,1300.0,1300.0,1300.0,1300.0,1300.0,1400.0,1400.0,1400.0,1400.0,1400.0,1400.0,1400.0,1400.0,1400.0,1400.0,1400.0,1400.0,1500.0,1500.0,1500.0,1500.0,1500.0,1500.0,1500.0,1500.0,1500.0,1500.0,1500.0,1500.0,1500.0,1600.0,1600.0,1600.0,1600.0,1600.0,1600.0,1600.0,1600.0,1600.0,1600.0,1700.0,1700.0,1700.0,1700.0,1700.0,1700.0,1700.0,1700.0,1700.0,1700.0,1700.0,1700.0,1700.0],\"xaxis\":\"x\",\"y\":[213.43021702729874,213.43021702729874,213.43021702729874,213.43021702729874,213.43021702729874,213.43021702729874,213.43021702729874,213.43021702729874,213.43021702729874,213.43021702729874,317.2951807912449,317.2951807912449,317.2951807912449,317.2951807912449,317.2951807912449,317.2951807912449,317.2951807912449,317.2951807912449,317.2951807912449,317.2951807912449,317.2951807912449,317.2951807912449,421.16014455519104,421.16014455519104,421.16014455519104,421.16014455519104,421.16014455519104,421.16014455519104,421.16014455519104,421.16014455519104,421.16014455519104,421.16014455519104,525.0251083191372,525.0251083191372,525.0251083191372,525.0251083191372,525.0251083191372,525.0251083191372,525.0251083191372,525.0251083191372,525.0251083191372,525.0251083191372,525.0251083191372,525.0251083191372,525.0251083191372,525.0251083191372,525.0251083191372,525.0251083191372,525.0251083191372,525.0251083191372,525.0251083191372,525.0251083191372,628.8900720830833,628.8900720830833,628.8900720830833,628.8900720830833,628.8900720830833,628.8900720830833,628.8900720830833,628.8900720830833,628.8900720830833,628.8900720830833,628.8900720830833,628.8900720830833,628.8900720830833,628.8900720830833,628.8900720830833,628.8900720830833,628.8900720830833,628.8900720830833,628.8900720830833,628.8900720830833,628.8900720830833,732.7550358470295,732.7550358470295,732.7550358470295,732.7550358470295,732.7550358470295,732.7550358470295,732.7550358470295,732.7550358470295,732.7550358470295,732.7550358470295,732.7550358470295,732.7550358470295,732.7550358470295,732.7550358470295,732.7550358470295,732.7550358470295,732.7550358470295,732.7550358470295,732.7550358470295,732.7550358470295,732.7550358470295,732.7550358470295,836.6199996109756,836.6199996109756,836.6199996109756,836.6199996109756,836.6199996109756,836.6199996109756,836.6199996109756,836.6199996109756,836.6199996109756,836.6199996109756,836.6199996109756,836.6199996109756,836.6199996109756,836.6199996109756,836.6199996109756,836.6199996109756,836.6199996109756,836.6199996109756,836.6199996109756,836.6199996109756,836.6199996109756,836.6199996109756,940.4849633749218,940.4849633749218,940.4849633749218,940.4849633749218,940.4849633749218,940.4849633749218,940.4849633749218,940.4849633749218,940.4849633749218,940.4849633749218,940.4849633749218,940.4849633749218,940.4849633749218,940.4849633749218,940.4849633749218,940.4849633749218,940.4849633749218,940.4849633749218,940.4849633749218,940.4849633749218,1044.3499271388678,1044.3499271388678,1044.3499271388678,1044.3499271388678,1044.3499271388678,1044.3499271388678,1044.3499271388678,1044.3499271388678,1044.3499271388678,1044.3499271388678,1044.3499271388678,1044.3499271388678,1044.3499271388678,1044.3499271388678,1044.3499271388678,1044.3499271388678,1044.3499271388678,1044.3499271388678,1044.3499271388678,1044.3499271388678,1044.3499271388678,1044.3499271388678,1148.214890902814,1148.214890902814,1148.214890902814,1148.214890902814,1148.214890902814,1148.214890902814,1148.214890902814,1148.214890902814,1148.214890902814,1148.214890902814,1148.214890902814,1148.214890902814,1148.214890902814,1148.214890902814,1148.214890902814,1148.214890902814,1148.214890902814,1148.214890902814,1148.214890902814,1148.214890902814,1148.214890902814,1148.214890902814,1148.214890902814,1252.07985466676,1252.07985466676,1252.07985466676,1252.07985466676,1252.07985466676,1252.07985466676,1252.07985466676,1252.07985466676,1252.07985466676,1252.07985466676,1252.07985466676,1252.07985466676,1252.07985466676,1252.07985466676,1252.07985466676,1252.07985466676,1252.07985466676,1252.07985466676,1252.07985466676,1252.07985466676,1252.07985466676,1252.07985466676,1252.07985466676,1355.9448184307062,1355.9448184307062,1355.9448184307062,1355.9448184307062,1355.9448184307062,1355.9448184307062,1355.9448184307062,1355.9448184307062,1355.9448184307062,1355.9448184307062,1355.9448184307062,1355.9448184307062,1355.9448184307062,1355.9448184307062,1355.9448184307062,1355.9448184307062,1355.9448184307062,1355.9448184307062,1355.9448184307062,1355.9448184307062,1355.9448184307062,1355.9448184307062,1459.8097821946524,1459.8097821946524,1459.8097821946524,1459.8097821946524,1459.8097821946524,1459.8097821946524,1459.8097821946524,1459.8097821946524,1459.8097821946524,1459.8097821946524,1459.8097821946524,1459.8097821946524,1563.6747459585984,1563.6747459585984,1563.6747459585984,1563.6747459585984,1563.6747459585984,1563.6747459585984,1563.6747459585984,1563.6747459585984,1563.6747459585984,1563.6747459585984,1563.6747459585984,1563.6747459585984,1563.6747459585984,1667.5397097225446,1667.5397097225446,1667.5397097225446,1667.5397097225446,1667.5397097225446,1667.5397097225446,1667.5397097225446,1667.5397097225446,1667.5397097225446,1667.5397097225446,1771.4046734864908,1771.4046734864908,1771.4046734864908,1771.4046734864908,1771.4046734864908,1771.4046734864908,1771.4046734864908,1771.4046734864908,1771.4046734864908,1771.4046734864908,1771.4046734864908,1771.4046734864908,1771.4046734864908],\"yaxis\":\"y\",\"type\":\"scatter\"}],                        {\"template\":{\"data\":{\"histogram2dcontour\":[{\"type\":\"histogram2dcontour\",\"colorbar\":{\"outlinewidth\":0,\"ticks\":\"\"},\"colorscale\":[[0.0,\"#0d0887\"],[0.1111111111111111,\"#46039f\"],[0.2222222222222222,\"#7201a8\"],[0.3333333333333333,\"#9c179e\"],[0.4444444444444444,\"#bd3786\"],[0.5555555555555556,\"#d8576b\"],[0.6666666666666666,\"#ed7953\"],[0.7777777777777778,\"#fb9f3a\"],[0.8888888888888888,\"#fdca26\"],[1.0,\"#f0f921\"]]}],\"choropleth\":[{\"type\":\"choropleth\",\"colorbar\":{\"outlinewidth\":0,\"ticks\":\"\"}}],\"histogram2d\":[{\"type\":\"histogram2d\",\"colorbar\":{\"outlinewidth\":0,\"ticks\":\"\"},\"colorscale\":[[0.0,\"#0d0887\"],[0.1111111111111111,\"#46039f\"],[0.2222222222222222,\"#7201a8\"],[0.3333333333333333,\"#9c179e\"],[0.4444444444444444,\"#bd3786\"],[0.5555555555555556,\"#d8576b\"],[0.6666666666666666,\"#ed7953\"],[0.7777777777777778,\"#fb9f3a\"],[0.8888888888888888,\"#fdca26\"],[1.0,\"#f0f921\"]]}],\"heatmap\":[{\"type\":\"heatmap\",\"colorbar\":{\"outlinewidth\":0,\"ticks\":\"\"},\"colorscale\":[[0.0,\"#0d0887\"],[0.1111111111111111,\"#46039f\"],[0.2222222222222222,\"#7201a8\"],[0.3333333333333333,\"#9c179e\"],[0.4444444444444444,\"#bd3786\"],[0.5555555555555556,\"#d8576b\"],[0.6666666666666666,\"#ed7953\"],[0.7777777777777778,\"#fb9f3a\"],[0.8888888888888888,\"#fdca26\"],[1.0,\"#f0f921\"]]}],\"heatmapgl\":[{\"type\":\"heatmapgl\",\"colorbar\":{\"outlinewidth\":0,\"ticks\":\"\"},\"colorscale\":[[0.0,\"#0d0887\"],[0.1111111111111111,\"#46039f\"],[0.2222222222222222,\"#7201a8\"],[0.3333333333333333,\"#9c179e\"],[0.4444444444444444,\"#bd3786\"],[0.5555555555555556,\"#d8576b\"],[0.6666666666666666,\"#ed7953\"],[0.7777777777777778,\"#fb9f3a\"],[0.8888888888888888,\"#fdca26\"],[1.0,\"#f0f921\"]]}],\"contourcarpet\":[{\"type\":\"contourcarpet\",\"colorbar\":{\"outlinewidth\":0,\"ticks\":\"\"}}],\"contour\":[{\"type\":\"contour\",\"colorbar\":{\"outlinewidth\":0,\"ticks\":\"\"},\"colorscale\":[[0.0,\"#0d0887\"],[0.1111111111111111,\"#46039f\"],[0.2222222222222222,\"#7201a8\"],[0.3333333333333333,\"#9c179e\"],[0.4444444444444444,\"#bd3786\"],[0.5555555555555556,\"#d8576b\"],[0.6666666666666666,\"#ed7953\"],[0.7777777777777778,\"#fb9f3a\"],[0.8888888888888888,\"#fdca26\"],[1.0,\"#f0f921\"]]}],\"surface\":[{\"type\":\"surface\",\"colorbar\":{\"outlinewidth\":0,\"ticks\":\"\"},\"colorscale\":[[0.0,\"#0d0887\"],[0.1111111111111111,\"#46039f\"],[0.2222222222222222,\"#7201a8\"],[0.3333333333333333,\"#9c179e\"],[0.4444444444444444,\"#bd3786\"],[0.5555555555555556,\"#d8576b\"],[0.6666666666666666,\"#ed7953\"],[0.7777777777777778,\"#fb9f3a\"],[0.8888888888888888,\"#fdca26\"],[1.0,\"#f0f921\"]]}],\"mesh3d\":[{\"type\":\"mesh3d\",\"colorbar\":{\"outlinewidth\":0,\"ticks\":\"\"}}],\"scatter\":[{\"fillpattern\":{\"fillmode\":\"overlay\",\"size\":10,\"solidity\":0.2},\"type\":\"scatter\"}],\"parcoords\":[{\"type\":\"parcoords\",\"line\":{\"colorbar\":{\"outlinewidth\":0,\"ticks\":\"\"}}}],\"scatterpolargl\":[{\"type\":\"scatterpolargl\",\"marker\":{\"colorbar\":{\"outlinewidth\":0,\"ticks\":\"\"}}}],\"bar\":[{\"error_x\":{\"color\":\"#2a3f5f\"},\"error_y\":{\"color\":\"#2a3f5f\"},\"marker\":{\"line\":{\"color\":\"#E5ECF6\",\"width\":0.5},\"pattern\":{\"fillmode\":\"overlay\",\"size\":10,\"solidity\":0.2}},\"type\":\"bar\"}],\"scattergeo\":[{\"type\":\"scattergeo\",\"marker\":{\"colorbar\":{\"outlinewidth\":0,\"ticks\":\"\"}}}],\"scatterpolar\":[{\"type\":\"scatterpolar\",\"marker\":{\"colorbar\":{\"outlinewidth\":0,\"ticks\":\"\"}}}],\"histogram\":[{\"marker\":{\"pattern\":{\"fillmode\":\"overlay\",\"size\":10,\"solidity\":0.2}},\"type\":\"histogram\"}],\"scattergl\":[{\"type\":\"scattergl\",\"marker\":{\"colorbar\":{\"outlinewidth\":0,\"ticks\":\"\"}}}],\"scatter3d\":[{\"type\":\"scatter3d\",\"line\":{\"colorbar\":{\"outlinewidth\":0,\"ticks\":\"\"}},\"marker\":{\"colorbar\":{\"outlinewidth\":0,\"ticks\":\"\"}}}],\"scattermapbox\":[{\"type\":\"scattermapbox\",\"marker\":{\"colorbar\":{\"outlinewidth\":0,\"ticks\":\"\"}}}],\"scatterternary\":[{\"type\":\"scatterternary\",\"marker\":{\"colorbar\":{\"outlinewidth\":0,\"ticks\":\"\"}}}],\"scattercarpet\":[{\"type\":\"scattercarpet\",\"marker\":{\"colorbar\":{\"outlinewidth\":0,\"ticks\":\"\"}}}],\"carpet\":[{\"aaxis\":{\"endlinecolor\":\"#2a3f5f\",\"gridcolor\":\"white\",\"linecolor\":\"white\",\"minorgridcolor\":\"white\",\"startlinecolor\":\"#2a3f5f\"},\"baxis\":{\"endlinecolor\":\"#2a3f5f\",\"gridcolor\":\"white\",\"linecolor\":\"white\",\"minorgridcolor\":\"white\",\"startlinecolor\":\"#2a3f5f\"},\"type\":\"carpet\"}],\"table\":[{\"cells\":{\"fill\":{\"color\":\"#EBF0F8\"},\"line\":{\"color\":\"white\"}},\"header\":{\"fill\":{\"color\":\"#C8D4E3\"},\"line\":{\"color\":\"white\"}},\"type\":\"table\"}],\"barpolar\":[{\"marker\":{\"line\":{\"color\":\"#E5ECF6\",\"width\":0.5},\"pattern\":{\"fillmode\":\"overlay\",\"size\":10,\"solidity\":0.2}},\"type\":\"barpolar\"}],\"pie\":[{\"automargin\":true,\"type\":\"pie\"}]},\"layout\":{\"autotypenumbers\":\"strict\",\"colorway\":[\"#636efa\",\"#EF553B\",\"#00cc96\",\"#ab63fa\",\"#FFA15A\",\"#19d3f3\",\"#FF6692\",\"#B6E880\",\"#FF97FF\",\"#FECB52\"],\"font\":{\"color\":\"#2a3f5f\"},\"hovermode\":\"closest\",\"hoverlabel\":{\"align\":\"left\"},\"paper_bgcolor\":\"white\",\"plot_bgcolor\":\"#E5ECF6\",\"polar\":{\"bgcolor\":\"#E5ECF6\",\"angularaxis\":{\"gridcolor\":\"white\",\"linecolor\":\"white\",\"ticks\":\"\"},\"radialaxis\":{\"gridcolor\":\"white\",\"linecolor\":\"white\",\"ticks\":\"\"}},\"ternary\":{\"bgcolor\":\"#E5ECF6\",\"aaxis\":{\"gridcolor\":\"white\",\"linecolor\":\"white\",\"ticks\":\"\"},\"baxis\":{\"gridcolor\":\"white\",\"linecolor\":\"white\",\"ticks\":\"\"},\"caxis\":{\"gridcolor\":\"white\",\"linecolor\":\"white\",\"ticks\":\"\"}},\"coloraxis\":{\"colorbar\":{\"outlinewidth\":0,\"ticks\":\"\"}},\"colorscale\":{\"sequential\":[[0.0,\"#0d0887\"],[0.1111111111111111,\"#46039f\"],[0.2222222222222222,\"#7201a8\"],[0.3333333333333333,\"#9c179e\"],[0.4444444444444444,\"#bd3786\"],[0.5555555555555556,\"#d8576b\"],[0.6666666666666666,\"#ed7953\"],[0.7777777777777778,\"#fb9f3a\"],[0.8888888888888888,\"#fdca26\"],[1.0,\"#f0f921\"]],\"sequentialminus\":[[0.0,\"#0d0887\"],[0.1111111111111111,\"#46039f\"],[0.2222222222222222,\"#7201a8\"],[0.3333333333333333,\"#9c179e\"],[0.4444444444444444,\"#bd3786\"],[0.5555555555555556,\"#d8576b\"],[0.6666666666666666,\"#ed7953\"],[0.7777777777777778,\"#fb9f3a\"],[0.8888888888888888,\"#fdca26\"],[1.0,\"#f0f921\"]],\"diverging\":[[0,\"#8e0152\"],[0.1,\"#c51b7d\"],[0.2,\"#de77ae\"],[0.3,\"#f1b6da\"],[0.4,\"#fde0ef\"],[0.5,\"#f7f7f7\"],[0.6,\"#e6f5d0\"],[0.7,\"#b8e186\"],[0.8,\"#7fbc41\"],[0.9,\"#4d9221\"],[1,\"#276419\"]]},\"xaxis\":{\"gridcolor\":\"white\",\"linecolor\":\"white\",\"ticks\":\"\",\"title\":{\"standoff\":15},\"zerolinecolor\":\"white\",\"automargin\":true,\"zerolinewidth\":2},\"yaxis\":{\"gridcolor\":\"white\",\"linecolor\":\"white\",\"ticks\":\"\",\"title\":{\"standoff\":15},\"zerolinecolor\":\"white\",\"automargin\":true,\"zerolinewidth\":2},\"scene\":{\"xaxis\":{\"backgroundcolor\":\"#E5ECF6\",\"gridcolor\":\"white\",\"linecolor\":\"white\",\"showbackground\":true,\"ticks\":\"\",\"zerolinecolor\":\"white\",\"gridwidth\":2},\"yaxis\":{\"backgroundcolor\":\"#E5ECF6\",\"gridcolor\":\"white\",\"linecolor\":\"white\",\"showbackground\":true,\"ticks\":\"\",\"zerolinecolor\":\"white\",\"gridwidth\":2},\"zaxis\":{\"backgroundcolor\":\"#E5ECF6\",\"gridcolor\":\"white\",\"linecolor\":\"white\",\"showbackground\":true,\"ticks\":\"\",\"zerolinecolor\":\"white\",\"gridwidth\":2}},\"shapedefaults\":{\"line\":{\"color\":\"#2a3f5f\"}},\"annotationdefaults\":{\"arrowcolor\":\"#2a3f5f\",\"arrowhead\":0,\"arrowwidth\":1},\"geo\":{\"bgcolor\":\"white\",\"landcolor\":\"#E5ECF6\",\"subunitcolor\":\"white\",\"showland\":true,\"showlakes\":true,\"lakecolor\":\"white\"},\"title\":{\"x\":0.05},\"mapbox\":{\"style\":\"light\"}}},\"xaxis\":{\"anchor\":\"y\",\"domain\":[0.0,1.0],\"title\":{\"text\":\"target_interval\"}},\"yaxis\":{\"anchor\":\"x\",\"domain\":[0.0,1.0],\"title\":{\"text\":\"reproduced_interval\"}},\"legend\":{\"tracegroupgap\":0},\"title\":{\"text\":\"Regression Toward the Mean\"}},                        {\"responsive\": true}                    ).then(function(){\n",
       "                            \n",
       "var gd = document.getElementById('3562cfba-210b-4344-86a1-fde21b81981b');\n",
       "var x = new MutationObserver(function (mutations, observer) {{\n",
       "        var display = window.getComputedStyle(gd).display;\n",
       "        if (!display || display === 'none') {{\n",
       "            console.log([gd, 'removed!']);\n",
       "            Plotly.purge(gd);\n",
       "            observer.disconnect();\n",
       "        }}\n",
       "}});\n",
       "\n",
       "// Listen for the removal of the full notebook cells\n",
       "var notebookContainer = gd.closest('#notebook-container');\n",
       "if (notebookContainer) {{\n",
       "    x.observe(notebookContainer, {childList: true});\n",
       "}}\n",
       "\n",
       "// Listen for the clearing of the current output cell\n",
       "var outputEl = gd.closest('.output');\n",
       "if (outputEl) {{\n",
       "    x.observe(outputEl, {childList: true});\n",
       "}}\n",
       "\n",
       "                        })                };                });            </script>        </div>"
      ]
     },
     "metadata": {},
     "output_type": "display_data"
    },
    {
     "data": {
      "application/vnd.plotly.v1+json": {
       "config": {
        "plotlyServerURL": "https://plot.ly"
       },
       "data": [
        {
         "error_y": {
          "array": []
         },
         "hovertemplate": "set_duration=%{x}<br>Reproduction Error (ms)=%{y}<extra></extra>",
         "legendgroup": "",
         "marker": {
          "color": "#636efa",
          "symbol": "circle"
         },
         "mode": "markers",
         "name": "",
         "orientation": "v",
         "showlegend": false,
         "type": "scatter",
         "x": [],
         "xaxis": "x",
         "y": [],
         "yaxis": "y"
        }
       ],
       "layout": {
        "legend": {
         "tracegroupgap": 0
        },
        "template": {
         "data": {
          "bar": [
           {
            "error_x": {
             "color": "#2a3f5f"
            },
            "error_y": {
             "color": "#2a3f5f"
            },
            "marker": {
             "line": {
              "color": "#E5ECF6",
              "width": 0.5
             },
             "pattern": {
              "fillmode": "overlay",
              "size": 10,
              "solidity": 0.2
             }
            },
            "type": "bar"
           }
          ],
          "barpolar": [
           {
            "marker": {
             "line": {
              "color": "#E5ECF6",
              "width": 0.5
             },
             "pattern": {
              "fillmode": "overlay",
              "size": 10,
              "solidity": 0.2
             }
            },
            "type": "barpolar"
           }
          ],
          "carpet": [
           {
            "aaxis": {
             "endlinecolor": "#2a3f5f",
             "gridcolor": "white",
             "linecolor": "white",
             "minorgridcolor": "white",
             "startlinecolor": "#2a3f5f"
            },
            "baxis": {
             "endlinecolor": "#2a3f5f",
             "gridcolor": "white",
             "linecolor": "white",
             "minorgridcolor": "white",
             "startlinecolor": "#2a3f5f"
            },
            "type": "carpet"
           }
          ],
          "choropleth": [
           {
            "colorbar": {
             "outlinewidth": 0,
             "ticks": ""
            },
            "type": "choropleth"
           }
          ],
          "contour": [
           {
            "colorbar": {
             "outlinewidth": 0,
             "ticks": ""
            },
            "colorscale": [
             [
              0,
              "#0d0887"
             ],
             [
              0.1111111111111111,
              "#46039f"
             ],
             [
              0.2222222222222222,
              "#7201a8"
             ],
             [
              0.3333333333333333,
              "#9c179e"
             ],
             [
              0.4444444444444444,
              "#bd3786"
             ],
             [
              0.5555555555555556,
              "#d8576b"
             ],
             [
              0.6666666666666666,
              "#ed7953"
             ],
             [
              0.7777777777777778,
              "#fb9f3a"
             ],
             [
              0.8888888888888888,
              "#fdca26"
             ],
             [
              1,
              "#f0f921"
             ]
            ],
            "type": "contour"
           }
          ],
          "contourcarpet": [
           {
            "colorbar": {
             "outlinewidth": 0,
             "ticks": ""
            },
            "type": "contourcarpet"
           }
          ],
          "heatmap": [
           {
            "colorbar": {
             "outlinewidth": 0,
             "ticks": ""
            },
            "colorscale": [
             [
              0,
              "#0d0887"
             ],
             [
              0.1111111111111111,
              "#46039f"
             ],
             [
              0.2222222222222222,
              "#7201a8"
             ],
             [
              0.3333333333333333,
              "#9c179e"
             ],
             [
              0.4444444444444444,
              "#bd3786"
             ],
             [
              0.5555555555555556,
              "#d8576b"
             ],
             [
              0.6666666666666666,
              "#ed7953"
             ],
             [
              0.7777777777777778,
              "#fb9f3a"
             ],
             [
              0.8888888888888888,
              "#fdca26"
             ],
             [
              1,
              "#f0f921"
             ]
            ],
            "type": "heatmap"
           }
          ],
          "heatmapgl": [
           {
            "colorbar": {
             "outlinewidth": 0,
             "ticks": ""
            },
            "colorscale": [
             [
              0,
              "#0d0887"
             ],
             [
              0.1111111111111111,
              "#46039f"
             ],
             [
              0.2222222222222222,
              "#7201a8"
             ],
             [
              0.3333333333333333,
              "#9c179e"
             ],
             [
              0.4444444444444444,
              "#bd3786"
             ],
             [
              0.5555555555555556,
              "#d8576b"
             ],
             [
              0.6666666666666666,
              "#ed7953"
             ],
             [
              0.7777777777777778,
              "#fb9f3a"
             ],
             [
              0.8888888888888888,
              "#fdca26"
             ],
             [
              1,
              "#f0f921"
             ]
            ],
            "type": "heatmapgl"
           }
          ],
          "histogram": [
           {
            "marker": {
             "pattern": {
              "fillmode": "overlay",
              "size": 10,
              "solidity": 0.2
             }
            },
            "type": "histogram"
           }
          ],
          "histogram2d": [
           {
            "colorbar": {
             "outlinewidth": 0,
             "ticks": ""
            },
            "colorscale": [
             [
              0,
              "#0d0887"
             ],
             [
              0.1111111111111111,
              "#46039f"
             ],
             [
              0.2222222222222222,
              "#7201a8"
             ],
             [
              0.3333333333333333,
              "#9c179e"
             ],
             [
              0.4444444444444444,
              "#bd3786"
             ],
             [
              0.5555555555555556,
              "#d8576b"
             ],
             [
              0.6666666666666666,
              "#ed7953"
             ],
             [
              0.7777777777777778,
              "#fb9f3a"
             ],
             [
              0.8888888888888888,
              "#fdca26"
             ],
             [
              1,
              "#f0f921"
             ]
            ],
            "type": "histogram2d"
           }
          ],
          "histogram2dcontour": [
           {
            "colorbar": {
             "outlinewidth": 0,
             "ticks": ""
            },
            "colorscale": [
             [
              0,
              "#0d0887"
             ],
             [
              0.1111111111111111,
              "#46039f"
             ],
             [
              0.2222222222222222,
              "#7201a8"
             ],
             [
              0.3333333333333333,
              "#9c179e"
             ],
             [
              0.4444444444444444,
              "#bd3786"
             ],
             [
              0.5555555555555556,
              "#d8576b"
             ],
             [
              0.6666666666666666,
              "#ed7953"
             ],
             [
              0.7777777777777778,
              "#fb9f3a"
             ],
             [
              0.8888888888888888,
              "#fdca26"
             ],
             [
              1,
              "#f0f921"
             ]
            ],
            "type": "histogram2dcontour"
           }
          ],
          "mesh3d": [
           {
            "colorbar": {
             "outlinewidth": 0,
             "ticks": ""
            },
            "type": "mesh3d"
           }
          ],
          "parcoords": [
           {
            "line": {
             "colorbar": {
              "outlinewidth": 0,
              "ticks": ""
             }
            },
            "type": "parcoords"
           }
          ],
          "pie": [
           {
            "automargin": true,
            "type": "pie"
           }
          ],
          "scatter": [
           {
            "fillpattern": {
             "fillmode": "overlay",
             "size": 10,
             "solidity": 0.2
            },
            "type": "scatter"
           }
          ],
          "scatter3d": [
           {
            "line": {
             "colorbar": {
              "outlinewidth": 0,
              "ticks": ""
             }
            },
            "marker": {
             "colorbar": {
              "outlinewidth": 0,
              "ticks": ""
             }
            },
            "type": "scatter3d"
           }
          ],
          "scattercarpet": [
           {
            "marker": {
             "colorbar": {
              "outlinewidth": 0,
              "ticks": ""
             }
            },
            "type": "scattercarpet"
           }
          ],
          "scattergeo": [
           {
            "marker": {
             "colorbar": {
              "outlinewidth": 0,
              "ticks": ""
             }
            },
            "type": "scattergeo"
           }
          ],
          "scattergl": [
           {
            "marker": {
             "colorbar": {
              "outlinewidth": 0,
              "ticks": ""
             }
            },
            "type": "scattergl"
           }
          ],
          "scattermapbox": [
           {
            "marker": {
             "colorbar": {
              "outlinewidth": 0,
              "ticks": ""
             }
            },
            "type": "scattermapbox"
           }
          ],
          "scatterpolar": [
           {
            "marker": {
             "colorbar": {
              "outlinewidth": 0,
              "ticks": ""
             }
            },
            "type": "scatterpolar"
           }
          ],
          "scatterpolargl": [
           {
            "marker": {
             "colorbar": {
              "outlinewidth": 0,
              "ticks": ""
             }
            },
            "type": "scatterpolargl"
           }
          ],
          "scatterternary": [
           {
            "marker": {
             "colorbar": {
              "outlinewidth": 0,
              "ticks": ""
             }
            },
            "type": "scatterternary"
           }
          ],
          "surface": [
           {
            "colorbar": {
             "outlinewidth": 0,
             "ticks": ""
            },
            "colorscale": [
             [
              0,
              "#0d0887"
             ],
             [
              0.1111111111111111,
              "#46039f"
             ],
             [
              0.2222222222222222,
              "#7201a8"
             ],
             [
              0.3333333333333333,
              "#9c179e"
             ],
             [
              0.4444444444444444,
              "#bd3786"
             ],
             [
              0.5555555555555556,
              "#d8576b"
             ],
             [
              0.6666666666666666,
              "#ed7953"
             ],
             [
              0.7777777777777778,
              "#fb9f3a"
             ],
             [
              0.8888888888888888,
              "#fdca26"
             ],
             [
              1,
              "#f0f921"
             ]
            ],
            "type": "surface"
           }
          ],
          "table": [
           {
            "cells": {
             "fill": {
              "color": "#EBF0F8"
             },
             "line": {
              "color": "white"
             }
            },
            "header": {
             "fill": {
              "color": "#C8D4E3"
             },
             "line": {
              "color": "white"
             }
            },
            "type": "table"
           }
          ]
         },
         "layout": {
          "annotationdefaults": {
           "arrowcolor": "#2a3f5f",
           "arrowhead": 0,
           "arrowwidth": 1
          },
          "autotypenumbers": "strict",
          "coloraxis": {
           "colorbar": {
            "outlinewidth": 0,
            "ticks": ""
           }
          },
          "colorscale": {
           "diverging": [
            [
             0,
             "#8e0152"
            ],
            [
             0.1,
             "#c51b7d"
            ],
            [
             0.2,
             "#de77ae"
            ],
            [
             0.3,
             "#f1b6da"
            ],
            [
             0.4,
             "#fde0ef"
            ],
            [
             0.5,
             "#f7f7f7"
            ],
            [
             0.6,
             "#e6f5d0"
            ],
            [
             0.7,
             "#b8e186"
            ],
            [
             0.8,
             "#7fbc41"
            ],
            [
             0.9,
             "#4d9221"
            ],
            [
             1,
             "#276419"
            ]
           ],
           "sequential": [
            [
             0,
             "#0d0887"
            ],
            [
             0.1111111111111111,
             "#46039f"
            ],
            [
             0.2222222222222222,
             "#7201a8"
            ],
            [
             0.3333333333333333,
             "#9c179e"
            ],
            [
             0.4444444444444444,
             "#bd3786"
            ],
            [
             0.5555555555555556,
             "#d8576b"
            ],
            [
             0.6666666666666666,
             "#ed7953"
            ],
            [
             0.7777777777777778,
             "#fb9f3a"
            ],
            [
             0.8888888888888888,
             "#fdca26"
            ],
            [
             1,
             "#f0f921"
            ]
           ],
           "sequentialminus": [
            [
             0,
             "#0d0887"
            ],
            [
             0.1111111111111111,
             "#46039f"
            ],
            [
             0.2222222222222222,
             "#7201a8"
            ],
            [
             0.3333333333333333,
             "#9c179e"
            ],
            [
             0.4444444444444444,
             "#bd3786"
            ],
            [
             0.5555555555555556,
             "#d8576b"
            ],
            [
             0.6666666666666666,
             "#ed7953"
            ],
            [
             0.7777777777777778,
             "#fb9f3a"
            ],
            [
             0.8888888888888888,
             "#fdca26"
            ],
            [
             1,
             "#f0f921"
            ]
           ]
          },
          "colorway": [
           "#636efa",
           "#EF553B",
           "#00cc96",
           "#ab63fa",
           "#FFA15A",
           "#19d3f3",
           "#FF6692",
           "#B6E880",
           "#FF97FF",
           "#FECB52"
          ],
          "font": {
           "color": "#2a3f5f"
          },
          "geo": {
           "bgcolor": "white",
           "lakecolor": "white",
           "landcolor": "#E5ECF6",
           "showlakes": true,
           "showland": true,
           "subunitcolor": "white"
          },
          "hoverlabel": {
           "align": "left"
          },
          "hovermode": "closest",
          "mapbox": {
           "style": "light"
          },
          "paper_bgcolor": "white",
          "plot_bgcolor": "#E5ECF6",
          "polar": {
           "angularaxis": {
            "gridcolor": "white",
            "linecolor": "white",
            "ticks": ""
           },
           "bgcolor": "#E5ECF6",
           "radialaxis": {
            "gridcolor": "white",
            "linecolor": "white",
            "ticks": ""
           }
          },
          "scene": {
           "xaxis": {
            "backgroundcolor": "#E5ECF6",
            "gridcolor": "white",
            "gridwidth": 2,
            "linecolor": "white",
            "showbackground": true,
            "ticks": "",
            "zerolinecolor": "white"
           },
           "yaxis": {
            "backgroundcolor": "#E5ECF6",
            "gridcolor": "white",
            "gridwidth": 2,
            "linecolor": "white",
            "showbackground": true,
            "ticks": "",
            "zerolinecolor": "white"
           },
           "zaxis": {
            "backgroundcolor": "#E5ECF6",
            "gridcolor": "white",
            "gridwidth": 2,
            "linecolor": "white",
            "showbackground": true,
            "ticks": "",
            "zerolinecolor": "white"
           }
          },
          "shapedefaults": {
           "line": {
            "color": "#2a3f5f"
           }
          },
          "ternary": {
           "aaxis": {
            "gridcolor": "white",
            "linecolor": "white",
            "ticks": ""
           },
           "baxis": {
            "gridcolor": "white",
            "linecolor": "white",
            "ticks": ""
           },
           "bgcolor": "#E5ECF6",
           "caxis": {
            "gridcolor": "white",
            "linecolor": "white",
            "ticks": ""
           }
          },
          "title": {
           "x": 0.05
          },
          "xaxis": {
           "automargin": true,
           "gridcolor": "white",
           "linecolor": "white",
           "ticks": "",
           "title": {
            "standoff": 15
           },
           "zerolinecolor": "white",
           "zerolinewidth": 2
          },
          "yaxis": {
           "automargin": true,
           "gridcolor": "white",
           "linecolor": "white",
           "ticks": "",
           "title": {
            "standoff": 15
           },
           "zerolinecolor": "white",
           "zerolinewidth": 2
          }
         }
        },
        "title": {
         "text": "Error vs Set Duration"
        },
        "xaxis": {
         "anchor": "y",
         "domain": [
          0,
          1
         ],
         "title": {
          "text": "set_duration"
         }
        },
        "yaxis": {
         "anchor": "x",
         "domain": [
          0,
          1
         ],
         "title": {
          "text": "Reproduction Error (ms)"
         }
        }
       }
      },
      "text/html": [
       "<div>                            <div id=\"c6c9f7f9-ed71-42db-a35e-539182f72e80\" class=\"plotly-graph-div\" style=\"height:525px; width:100%;\"></div>            <script type=\"text/javascript\">                require([\"plotly\"], function(Plotly) {                    window.PLOTLYENV=window.PLOTLYENV || {};                                    if (document.getElementById(\"c6c9f7f9-ed71-42db-a35e-539182f72e80\")) {                    Plotly.newPlot(                        \"c6c9f7f9-ed71-42db-a35e-539182f72e80\",                        [{\"error_y\":{\"array\":[]},\"hovertemplate\":\"set_duration=%{x}<br>Reproduction Error (ms)=%{y}<extra></extra>\",\"legendgroup\":\"\",\"marker\":{\"color\":\"#636efa\",\"symbol\":\"circle\"},\"mode\":\"markers\",\"name\":\"\",\"orientation\":\"v\",\"showlegend\":false,\"x\":[],\"xaxis\":\"x\",\"y\":[],\"yaxis\":\"y\",\"type\":\"scatter\"}],                        {\"template\":{\"data\":{\"histogram2dcontour\":[{\"type\":\"histogram2dcontour\",\"colorbar\":{\"outlinewidth\":0,\"ticks\":\"\"},\"colorscale\":[[0.0,\"#0d0887\"],[0.1111111111111111,\"#46039f\"],[0.2222222222222222,\"#7201a8\"],[0.3333333333333333,\"#9c179e\"],[0.4444444444444444,\"#bd3786\"],[0.5555555555555556,\"#d8576b\"],[0.6666666666666666,\"#ed7953\"],[0.7777777777777778,\"#fb9f3a\"],[0.8888888888888888,\"#fdca26\"],[1.0,\"#f0f921\"]]}],\"choropleth\":[{\"type\":\"choropleth\",\"colorbar\":{\"outlinewidth\":0,\"ticks\":\"\"}}],\"histogram2d\":[{\"type\":\"histogram2d\",\"colorbar\":{\"outlinewidth\":0,\"ticks\":\"\"},\"colorscale\":[[0.0,\"#0d0887\"],[0.1111111111111111,\"#46039f\"],[0.2222222222222222,\"#7201a8\"],[0.3333333333333333,\"#9c179e\"],[0.4444444444444444,\"#bd3786\"],[0.5555555555555556,\"#d8576b\"],[0.6666666666666666,\"#ed7953\"],[0.7777777777777778,\"#fb9f3a\"],[0.8888888888888888,\"#fdca26\"],[1.0,\"#f0f921\"]]}],\"heatmap\":[{\"type\":\"heatmap\",\"colorbar\":{\"outlinewidth\":0,\"ticks\":\"\"},\"colorscale\":[[0.0,\"#0d0887\"],[0.1111111111111111,\"#46039f\"],[0.2222222222222222,\"#7201a8\"],[0.3333333333333333,\"#9c179e\"],[0.4444444444444444,\"#bd3786\"],[0.5555555555555556,\"#d8576b\"],[0.6666666666666666,\"#ed7953\"],[0.7777777777777778,\"#fb9f3a\"],[0.8888888888888888,\"#fdca26\"],[1.0,\"#f0f921\"]]}],\"heatmapgl\":[{\"type\":\"heatmapgl\",\"colorbar\":{\"outlinewidth\":0,\"ticks\":\"\"},\"colorscale\":[[0.0,\"#0d0887\"],[0.1111111111111111,\"#46039f\"],[0.2222222222222222,\"#7201a8\"],[0.3333333333333333,\"#9c179e\"],[0.4444444444444444,\"#bd3786\"],[0.5555555555555556,\"#d8576b\"],[0.6666666666666666,\"#ed7953\"],[0.7777777777777778,\"#fb9f3a\"],[0.8888888888888888,\"#fdca26\"],[1.0,\"#f0f921\"]]}],\"contourcarpet\":[{\"type\":\"contourcarpet\",\"colorbar\":{\"outlinewidth\":0,\"ticks\":\"\"}}],\"contour\":[{\"type\":\"contour\",\"colorbar\":{\"outlinewidth\":0,\"ticks\":\"\"},\"colorscale\":[[0.0,\"#0d0887\"],[0.1111111111111111,\"#46039f\"],[0.2222222222222222,\"#7201a8\"],[0.3333333333333333,\"#9c179e\"],[0.4444444444444444,\"#bd3786\"],[0.5555555555555556,\"#d8576b\"],[0.6666666666666666,\"#ed7953\"],[0.7777777777777778,\"#fb9f3a\"],[0.8888888888888888,\"#fdca26\"],[1.0,\"#f0f921\"]]}],\"surface\":[{\"type\":\"surface\",\"colorbar\":{\"outlinewidth\":0,\"ticks\":\"\"},\"colorscale\":[[0.0,\"#0d0887\"],[0.1111111111111111,\"#46039f\"],[0.2222222222222222,\"#7201a8\"],[0.3333333333333333,\"#9c179e\"],[0.4444444444444444,\"#bd3786\"],[0.5555555555555556,\"#d8576b\"],[0.6666666666666666,\"#ed7953\"],[0.7777777777777778,\"#fb9f3a\"],[0.8888888888888888,\"#fdca26\"],[1.0,\"#f0f921\"]]}],\"mesh3d\":[{\"type\":\"mesh3d\",\"colorbar\":{\"outlinewidth\":0,\"ticks\":\"\"}}],\"scatter\":[{\"fillpattern\":{\"fillmode\":\"overlay\",\"size\":10,\"solidity\":0.2},\"type\":\"scatter\"}],\"parcoords\":[{\"type\":\"parcoords\",\"line\":{\"colorbar\":{\"outlinewidth\":0,\"ticks\":\"\"}}}],\"scatterpolargl\":[{\"type\":\"scatterpolargl\",\"marker\":{\"colorbar\":{\"outlinewidth\":0,\"ticks\":\"\"}}}],\"bar\":[{\"error_x\":{\"color\":\"#2a3f5f\"},\"error_y\":{\"color\":\"#2a3f5f\"},\"marker\":{\"line\":{\"color\":\"#E5ECF6\",\"width\":0.5},\"pattern\":{\"fillmode\":\"overlay\",\"size\":10,\"solidity\":0.2}},\"type\":\"bar\"}],\"scattergeo\":[{\"type\":\"scattergeo\",\"marker\":{\"colorbar\":{\"outlinewidth\":0,\"ticks\":\"\"}}}],\"scatterpolar\":[{\"type\":\"scatterpolar\",\"marker\":{\"colorbar\":{\"outlinewidth\":0,\"ticks\":\"\"}}}],\"histogram\":[{\"marker\":{\"pattern\":{\"fillmode\":\"overlay\",\"size\":10,\"solidity\":0.2}},\"type\":\"histogram\"}],\"scattergl\":[{\"type\":\"scattergl\",\"marker\":{\"colorbar\":{\"outlinewidth\":0,\"ticks\":\"\"}}}],\"scatter3d\":[{\"type\":\"scatter3d\",\"line\":{\"colorbar\":{\"outlinewidth\":0,\"ticks\":\"\"}},\"marker\":{\"colorbar\":{\"outlinewidth\":0,\"ticks\":\"\"}}}],\"scattermapbox\":[{\"type\":\"scattermapbox\",\"marker\":{\"colorbar\":{\"outlinewidth\":0,\"ticks\":\"\"}}}],\"scatterternary\":[{\"type\":\"scatterternary\",\"marker\":{\"colorbar\":{\"outlinewidth\":0,\"ticks\":\"\"}}}],\"scattercarpet\":[{\"type\":\"scattercarpet\",\"marker\":{\"colorbar\":{\"outlinewidth\":0,\"ticks\":\"\"}}}],\"carpet\":[{\"aaxis\":{\"endlinecolor\":\"#2a3f5f\",\"gridcolor\":\"white\",\"linecolor\":\"white\",\"minorgridcolor\":\"white\",\"startlinecolor\":\"#2a3f5f\"},\"baxis\":{\"endlinecolor\":\"#2a3f5f\",\"gridcolor\":\"white\",\"linecolor\":\"white\",\"minorgridcolor\":\"white\",\"startlinecolor\":\"#2a3f5f\"},\"type\":\"carpet\"}],\"table\":[{\"cells\":{\"fill\":{\"color\":\"#EBF0F8\"},\"line\":{\"color\":\"white\"}},\"header\":{\"fill\":{\"color\":\"#C8D4E3\"},\"line\":{\"color\":\"white\"}},\"type\":\"table\"}],\"barpolar\":[{\"marker\":{\"line\":{\"color\":\"#E5ECF6\",\"width\":0.5},\"pattern\":{\"fillmode\":\"overlay\",\"size\":10,\"solidity\":0.2}},\"type\":\"barpolar\"}],\"pie\":[{\"automargin\":true,\"type\":\"pie\"}]},\"layout\":{\"autotypenumbers\":\"strict\",\"colorway\":[\"#636efa\",\"#EF553B\",\"#00cc96\",\"#ab63fa\",\"#FFA15A\",\"#19d3f3\",\"#FF6692\",\"#B6E880\",\"#FF97FF\",\"#FECB52\"],\"font\":{\"color\":\"#2a3f5f\"},\"hovermode\":\"closest\",\"hoverlabel\":{\"align\":\"left\"},\"paper_bgcolor\":\"white\",\"plot_bgcolor\":\"#E5ECF6\",\"polar\":{\"bgcolor\":\"#E5ECF6\",\"angularaxis\":{\"gridcolor\":\"white\",\"linecolor\":\"white\",\"ticks\":\"\"},\"radialaxis\":{\"gridcolor\":\"white\",\"linecolor\":\"white\",\"ticks\":\"\"}},\"ternary\":{\"bgcolor\":\"#E5ECF6\",\"aaxis\":{\"gridcolor\":\"white\",\"linecolor\":\"white\",\"ticks\":\"\"},\"baxis\":{\"gridcolor\":\"white\",\"linecolor\":\"white\",\"ticks\":\"\"},\"caxis\":{\"gridcolor\":\"white\",\"linecolor\":\"white\",\"ticks\":\"\"}},\"coloraxis\":{\"colorbar\":{\"outlinewidth\":0,\"ticks\":\"\"}},\"colorscale\":{\"sequential\":[[0.0,\"#0d0887\"],[0.1111111111111111,\"#46039f\"],[0.2222222222222222,\"#7201a8\"],[0.3333333333333333,\"#9c179e\"],[0.4444444444444444,\"#bd3786\"],[0.5555555555555556,\"#d8576b\"],[0.6666666666666666,\"#ed7953\"],[0.7777777777777778,\"#fb9f3a\"],[0.8888888888888888,\"#fdca26\"],[1.0,\"#f0f921\"]],\"sequentialminus\":[[0.0,\"#0d0887\"],[0.1111111111111111,\"#46039f\"],[0.2222222222222222,\"#7201a8\"],[0.3333333333333333,\"#9c179e\"],[0.4444444444444444,\"#bd3786\"],[0.5555555555555556,\"#d8576b\"],[0.6666666666666666,\"#ed7953\"],[0.7777777777777778,\"#fb9f3a\"],[0.8888888888888888,\"#fdca26\"],[1.0,\"#f0f921\"]],\"diverging\":[[0,\"#8e0152\"],[0.1,\"#c51b7d\"],[0.2,\"#de77ae\"],[0.3,\"#f1b6da\"],[0.4,\"#fde0ef\"],[0.5,\"#f7f7f7\"],[0.6,\"#e6f5d0\"],[0.7,\"#b8e186\"],[0.8,\"#7fbc41\"],[0.9,\"#4d9221\"],[1,\"#276419\"]]},\"xaxis\":{\"gridcolor\":\"white\",\"linecolor\":\"white\",\"ticks\":\"\",\"title\":{\"standoff\":15},\"zerolinecolor\":\"white\",\"automargin\":true,\"zerolinewidth\":2},\"yaxis\":{\"gridcolor\":\"white\",\"linecolor\":\"white\",\"ticks\":\"\",\"title\":{\"standoff\":15},\"zerolinecolor\":\"white\",\"automargin\":true,\"zerolinewidth\":2},\"scene\":{\"xaxis\":{\"backgroundcolor\":\"#E5ECF6\",\"gridcolor\":\"white\",\"linecolor\":\"white\",\"showbackground\":true,\"ticks\":\"\",\"zerolinecolor\":\"white\",\"gridwidth\":2},\"yaxis\":{\"backgroundcolor\":\"#E5ECF6\",\"gridcolor\":\"white\",\"linecolor\":\"white\",\"showbackground\":true,\"ticks\":\"\",\"zerolinecolor\":\"white\",\"gridwidth\":2},\"zaxis\":{\"backgroundcolor\":\"#E5ECF6\",\"gridcolor\":\"white\",\"linecolor\":\"white\",\"showbackground\":true,\"ticks\":\"\",\"zerolinecolor\":\"white\",\"gridwidth\":2}},\"shapedefaults\":{\"line\":{\"color\":\"#2a3f5f\"}},\"annotationdefaults\":{\"arrowcolor\":\"#2a3f5f\",\"arrowhead\":0,\"arrowwidth\":1},\"geo\":{\"bgcolor\":\"white\",\"landcolor\":\"#E5ECF6\",\"subunitcolor\":\"white\",\"showland\":true,\"showlakes\":true,\"lakecolor\":\"white\"},\"title\":{\"x\":0.05},\"mapbox\":{\"style\":\"light\"}}},\"xaxis\":{\"anchor\":\"y\",\"domain\":[0.0,1.0],\"title\":{\"text\":\"set_duration\"}},\"yaxis\":{\"anchor\":\"x\",\"domain\":[0.0,1.0],\"title\":{\"text\":\"Reproduction Error (ms)\"}},\"legend\":{\"tracegroupgap\":0},\"title\":{\"text\":\"Error vs Set Duration\"}},                        {\"responsive\": true}                    ).then(function(){\n",
       "                            \n",
       "var gd = document.getElementById('c6c9f7f9-ed71-42db-a35e-539182f72e80');\n",
       "var x = new MutationObserver(function (mutations, observer) {{\n",
       "        var display = window.getComputedStyle(gd).display;\n",
       "        if (!display || display === 'none') {{\n",
       "            console.log([gd, 'removed!']);\n",
       "            Plotly.purge(gd);\n",
       "            observer.disconnect();\n",
       "        }}\n",
       "}});\n",
       "\n",
       "// Listen for the removal of the full notebook cells\n",
       "var notebookContainer = gd.closest('#notebook-container');\n",
       "if (notebookContainer) {{\n",
       "    x.observe(notebookContainer, {childList: true});\n",
       "}}\n",
       "\n",
       "// Listen for the clearing of the current output cell\n",
       "var outputEl = gd.closest('.output');\n",
       "if (outputEl) {{\n",
       "    x.observe(outputEl, {childList: true});\n",
       "}}\n",
       "\n",
       "                        })                };                });            </script>        </div>"
      ]
     },
     "metadata": {},
     "output_type": "display_data"
    },
    {
     "data": {
      "application/vnd.plotly.v1+json": {
       "config": {
        "plotlyServerURL": "https://plot.ly"
       },
       "data": [],
       "layout": {
        "legend": {
         "tracegroupgap": 0
        },
        "template": {
         "data": {
          "bar": [
           {
            "error_x": {
             "color": "#2a3f5f"
            },
            "error_y": {
             "color": "#2a3f5f"
            },
            "marker": {
             "line": {
              "color": "#E5ECF6",
              "width": 0.5
             },
             "pattern": {
              "fillmode": "overlay",
              "size": 10,
              "solidity": 0.2
             }
            },
            "type": "bar"
           }
          ],
          "barpolar": [
           {
            "marker": {
             "line": {
              "color": "#E5ECF6",
              "width": 0.5
             },
             "pattern": {
              "fillmode": "overlay",
              "size": 10,
              "solidity": 0.2
             }
            },
            "type": "barpolar"
           }
          ],
          "carpet": [
           {
            "aaxis": {
             "endlinecolor": "#2a3f5f",
             "gridcolor": "white",
             "linecolor": "white",
             "minorgridcolor": "white",
             "startlinecolor": "#2a3f5f"
            },
            "baxis": {
             "endlinecolor": "#2a3f5f",
             "gridcolor": "white",
             "linecolor": "white",
             "minorgridcolor": "white",
             "startlinecolor": "#2a3f5f"
            },
            "type": "carpet"
           }
          ],
          "choropleth": [
           {
            "colorbar": {
             "outlinewidth": 0,
             "ticks": ""
            },
            "type": "choropleth"
           }
          ],
          "contour": [
           {
            "colorbar": {
             "outlinewidth": 0,
             "ticks": ""
            },
            "colorscale": [
             [
              0,
              "#0d0887"
             ],
             [
              0.1111111111111111,
              "#46039f"
             ],
             [
              0.2222222222222222,
              "#7201a8"
             ],
             [
              0.3333333333333333,
              "#9c179e"
             ],
             [
              0.4444444444444444,
              "#bd3786"
             ],
             [
              0.5555555555555556,
              "#d8576b"
             ],
             [
              0.6666666666666666,
              "#ed7953"
             ],
             [
              0.7777777777777778,
              "#fb9f3a"
             ],
             [
              0.8888888888888888,
              "#fdca26"
             ],
             [
              1,
              "#f0f921"
             ]
            ],
            "type": "contour"
           }
          ],
          "contourcarpet": [
           {
            "colorbar": {
             "outlinewidth": 0,
             "ticks": ""
            },
            "type": "contourcarpet"
           }
          ],
          "heatmap": [
           {
            "colorbar": {
             "outlinewidth": 0,
             "ticks": ""
            },
            "colorscale": [
             [
              0,
              "#0d0887"
             ],
             [
              0.1111111111111111,
              "#46039f"
             ],
             [
              0.2222222222222222,
              "#7201a8"
             ],
             [
              0.3333333333333333,
              "#9c179e"
             ],
             [
              0.4444444444444444,
              "#bd3786"
             ],
             [
              0.5555555555555556,
              "#d8576b"
             ],
             [
              0.6666666666666666,
              "#ed7953"
             ],
             [
              0.7777777777777778,
              "#fb9f3a"
             ],
             [
              0.8888888888888888,
              "#fdca26"
             ],
             [
              1,
              "#f0f921"
             ]
            ],
            "type": "heatmap"
           }
          ],
          "heatmapgl": [
           {
            "colorbar": {
             "outlinewidth": 0,
             "ticks": ""
            },
            "colorscale": [
             [
              0,
              "#0d0887"
             ],
             [
              0.1111111111111111,
              "#46039f"
             ],
             [
              0.2222222222222222,
              "#7201a8"
             ],
             [
              0.3333333333333333,
              "#9c179e"
             ],
             [
              0.4444444444444444,
              "#bd3786"
             ],
             [
              0.5555555555555556,
              "#d8576b"
             ],
             [
              0.6666666666666666,
              "#ed7953"
             ],
             [
              0.7777777777777778,
              "#fb9f3a"
             ],
             [
              0.8888888888888888,
              "#fdca26"
             ],
             [
              1,
              "#f0f921"
             ]
            ],
            "type": "heatmapgl"
           }
          ],
          "histogram": [
           {
            "marker": {
             "pattern": {
              "fillmode": "overlay",
              "size": 10,
              "solidity": 0.2
             }
            },
            "type": "histogram"
           }
          ],
          "histogram2d": [
           {
            "colorbar": {
             "outlinewidth": 0,
             "ticks": ""
            },
            "colorscale": [
             [
              0,
              "#0d0887"
             ],
             [
              0.1111111111111111,
              "#46039f"
             ],
             [
              0.2222222222222222,
              "#7201a8"
             ],
             [
              0.3333333333333333,
              "#9c179e"
             ],
             [
              0.4444444444444444,
              "#bd3786"
             ],
             [
              0.5555555555555556,
              "#d8576b"
             ],
             [
              0.6666666666666666,
              "#ed7953"
             ],
             [
              0.7777777777777778,
              "#fb9f3a"
             ],
             [
              0.8888888888888888,
              "#fdca26"
             ],
             [
              1,
              "#f0f921"
             ]
            ],
            "type": "histogram2d"
           }
          ],
          "histogram2dcontour": [
           {
            "colorbar": {
             "outlinewidth": 0,
             "ticks": ""
            },
            "colorscale": [
             [
              0,
              "#0d0887"
             ],
             [
              0.1111111111111111,
              "#46039f"
             ],
             [
              0.2222222222222222,
              "#7201a8"
             ],
             [
              0.3333333333333333,
              "#9c179e"
             ],
             [
              0.4444444444444444,
              "#bd3786"
             ],
             [
              0.5555555555555556,
              "#d8576b"
             ],
             [
              0.6666666666666666,
              "#ed7953"
             ],
             [
              0.7777777777777778,
              "#fb9f3a"
             ],
             [
              0.8888888888888888,
              "#fdca26"
             ],
             [
              1,
              "#f0f921"
             ]
            ],
            "type": "histogram2dcontour"
           }
          ],
          "mesh3d": [
           {
            "colorbar": {
             "outlinewidth": 0,
             "ticks": ""
            },
            "type": "mesh3d"
           }
          ],
          "parcoords": [
           {
            "line": {
             "colorbar": {
              "outlinewidth": 0,
              "ticks": ""
             }
            },
            "type": "parcoords"
           }
          ],
          "pie": [
           {
            "automargin": true,
            "type": "pie"
           }
          ],
          "scatter": [
           {
            "fillpattern": {
             "fillmode": "overlay",
             "size": 10,
             "solidity": 0.2
            },
            "type": "scatter"
           }
          ],
          "scatter3d": [
           {
            "line": {
             "colorbar": {
              "outlinewidth": 0,
              "ticks": ""
             }
            },
            "marker": {
             "colorbar": {
              "outlinewidth": 0,
              "ticks": ""
             }
            },
            "type": "scatter3d"
           }
          ],
          "scattercarpet": [
           {
            "marker": {
             "colorbar": {
              "outlinewidth": 0,
              "ticks": ""
             }
            },
            "type": "scattercarpet"
           }
          ],
          "scattergeo": [
           {
            "marker": {
             "colorbar": {
              "outlinewidth": 0,
              "ticks": ""
             }
            },
            "type": "scattergeo"
           }
          ],
          "scattergl": [
           {
            "marker": {
             "colorbar": {
              "outlinewidth": 0,
              "ticks": ""
             }
            },
            "type": "scattergl"
           }
          ],
          "scattermapbox": [
           {
            "marker": {
             "colorbar": {
              "outlinewidth": 0,
              "ticks": ""
             }
            },
            "type": "scattermapbox"
           }
          ],
          "scatterpolar": [
           {
            "marker": {
             "colorbar": {
              "outlinewidth": 0,
              "ticks": ""
             }
            },
            "type": "scatterpolar"
           }
          ],
          "scatterpolargl": [
           {
            "marker": {
             "colorbar": {
              "outlinewidth": 0,
              "ticks": ""
             }
            },
            "type": "scatterpolargl"
           }
          ],
          "scatterternary": [
           {
            "marker": {
             "colorbar": {
              "outlinewidth": 0,
              "ticks": ""
             }
            },
            "type": "scatterternary"
           }
          ],
          "surface": [
           {
            "colorbar": {
             "outlinewidth": 0,
             "ticks": ""
            },
            "colorscale": [
             [
              0,
              "#0d0887"
             ],
             [
              0.1111111111111111,
              "#46039f"
             ],
             [
              0.2222222222222222,
              "#7201a8"
             ],
             [
              0.3333333333333333,
              "#9c179e"
             ],
             [
              0.4444444444444444,
              "#bd3786"
             ],
             [
              0.5555555555555556,
              "#d8576b"
             ],
             [
              0.6666666666666666,
              "#ed7953"
             ],
             [
              0.7777777777777778,
              "#fb9f3a"
             ],
             [
              0.8888888888888888,
              "#fdca26"
             ],
             [
              1,
              "#f0f921"
             ]
            ],
            "type": "surface"
           }
          ],
          "table": [
           {
            "cells": {
             "fill": {
              "color": "#EBF0F8"
             },
             "line": {
              "color": "white"
             }
            },
            "header": {
             "fill": {
              "color": "#C8D4E3"
             },
             "line": {
              "color": "white"
             }
            },
            "type": "table"
           }
          ]
         },
         "layout": {
          "annotationdefaults": {
           "arrowcolor": "#2a3f5f",
           "arrowhead": 0,
           "arrowwidth": 1
          },
          "autotypenumbers": "strict",
          "coloraxis": {
           "colorbar": {
            "outlinewidth": 0,
            "ticks": ""
           }
          },
          "colorscale": {
           "diverging": [
            [
             0,
             "#8e0152"
            ],
            [
             0.1,
             "#c51b7d"
            ],
            [
             0.2,
             "#de77ae"
            ],
            [
             0.3,
             "#f1b6da"
            ],
            [
             0.4,
             "#fde0ef"
            ],
            [
             0.5,
             "#f7f7f7"
            ],
            [
             0.6,
             "#e6f5d0"
            ],
            [
             0.7,
             "#b8e186"
            ],
            [
             0.8,
             "#7fbc41"
            ],
            [
             0.9,
             "#4d9221"
            ],
            [
             1,
             "#276419"
            ]
           ],
           "sequential": [
            [
             0,
             "#0d0887"
            ],
            [
             0.1111111111111111,
             "#46039f"
            ],
            [
             0.2222222222222222,
             "#7201a8"
            ],
            [
             0.3333333333333333,
             "#9c179e"
            ],
            [
             0.4444444444444444,
             "#bd3786"
            ],
            [
             0.5555555555555556,
             "#d8576b"
            ],
            [
             0.6666666666666666,
             "#ed7953"
            ],
            [
             0.7777777777777778,
             "#fb9f3a"
            ],
            [
             0.8888888888888888,
             "#fdca26"
            ],
            [
             1,
             "#f0f921"
            ]
           ],
           "sequentialminus": [
            [
             0,
             "#0d0887"
            ],
            [
             0.1111111111111111,
             "#46039f"
            ],
            [
             0.2222222222222222,
             "#7201a8"
            ],
            [
             0.3333333333333333,
             "#9c179e"
            ],
            [
             0.4444444444444444,
             "#bd3786"
            ],
            [
             0.5555555555555556,
             "#d8576b"
            ],
            [
             0.6666666666666666,
             "#ed7953"
            ],
            [
             0.7777777777777778,
             "#fb9f3a"
            ],
            [
             0.8888888888888888,
             "#fdca26"
            ],
            [
             1,
             "#f0f921"
            ]
           ]
          },
          "colorway": [
           "#636efa",
           "#EF553B",
           "#00cc96",
           "#ab63fa",
           "#FFA15A",
           "#19d3f3",
           "#FF6692",
           "#B6E880",
           "#FF97FF",
           "#FECB52"
          ],
          "font": {
           "color": "#2a3f5f"
          },
          "geo": {
           "bgcolor": "white",
           "lakecolor": "white",
           "landcolor": "#E5ECF6",
           "showlakes": true,
           "showland": true,
           "subunitcolor": "white"
          },
          "hoverlabel": {
           "align": "left"
          },
          "hovermode": "closest",
          "mapbox": {
           "style": "light"
          },
          "paper_bgcolor": "white",
          "plot_bgcolor": "#E5ECF6",
          "polar": {
           "angularaxis": {
            "gridcolor": "white",
            "linecolor": "white",
            "ticks": ""
           },
           "bgcolor": "#E5ECF6",
           "radialaxis": {
            "gridcolor": "white",
            "linecolor": "white",
            "ticks": ""
           }
          },
          "scene": {
           "xaxis": {
            "backgroundcolor": "#E5ECF6",
            "gridcolor": "white",
            "gridwidth": 2,
            "linecolor": "white",
            "showbackground": true,
            "ticks": "",
            "zerolinecolor": "white"
           },
           "yaxis": {
            "backgroundcolor": "#E5ECF6",
            "gridcolor": "white",
            "gridwidth": 2,
            "linecolor": "white",
            "showbackground": true,
            "ticks": "",
            "zerolinecolor": "white"
           },
           "zaxis": {
            "backgroundcolor": "#E5ECF6",
            "gridcolor": "white",
            "gridwidth": 2,
            "linecolor": "white",
            "showbackground": true,
            "ticks": "",
            "zerolinecolor": "white"
           }
          },
          "shapedefaults": {
           "line": {
            "color": "#2a3f5f"
           }
          },
          "ternary": {
           "aaxis": {
            "gridcolor": "white",
            "linecolor": "white",
            "ticks": ""
           },
           "baxis": {
            "gridcolor": "white",
            "linecolor": "white",
            "ticks": ""
           },
           "bgcolor": "#E5ECF6",
           "caxis": {
            "gridcolor": "white",
            "linecolor": "white",
            "ticks": ""
           }
          },
          "title": {
           "x": 0.05
          },
          "xaxis": {
           "automargin": true,
           "gridcolor": "white",
           "linecolor": "white",
           "ticks": "",
           "title": {
            "standoff": 15
           },
           "zerolinecolor": "white",
           "zerolinewidth": 2
          },
          "yaxis": {
           "automargin": true,
           "gridcolor": "white",
           "linecolor": "white",
           "ticks": "",
           "title": {
            "standoff": 15
           },
           "zerolinecolor": "white",
           "zerolinewidth": 2
          }
         }
        },
        "title": {
         "text": "Error by Target Interval x Set Duration"
        },
        "xaxis": {
         "anchor": "y",
         "domain": [
          0,
          1
         ],
         "title": {
          "text": "target_interval"
         }
        },
        "yaxis": {
         "anchor": "x",
         "domain": [
          0,
          1
         ],
         "title": {
          "text": "reproduction_error"
         }
        }
       }
      },
      "text/html": [
       "<div>                            <div id=\"8c62248f-e577-40a2-a91f-8ae3acd2ff6a\" class=\"plotly-graph-div\" style=\"height:525px; width:100%;\"></div>            <script type=\"text/javascript\">                require([\"plotly\"], function(Plotly) {                    window.PLOTLYENV=window.PLOTLYENV || {};                                    if (document.getElementById(\"8c62248f-e577-40a2-a91f-8ae3acd2ff6a\")) {                    Plotly.newPlot(                        \"8c62248f-e577-40a2-a91f-8ae3acd2ff6a\",                        [],                        {\"template\":{\"data\":{\"histogram2dcontour\":[{\"type\":\"histogram2dcontour\",\"colorbar\":{\"outlinewidth\":0,\"ticks\":\"\"},\"colorscale\":[[0.0,\"#0d0887\"],[0.1111111111111111,\"#46039f\"],[0.2222222222222222,\"#7201a8\"],[0.3333333333333333,\"#9c179e\"],[0.4444444444444444,\"#bd3786\"],[0.5555555555555556,\"#d8576b\"],[0.6666666666666666,\"#ed7953\"],[0.7777777777777778,\"#fb9f3a\"],[0.8888888888888888,\"#fdca26\"],[1.0,\"#f0f921\"]]}],\"choropleth\":[{\"type\":\"choropleth\",\"colorbar\":{\"outlinewidth\":0,\"ticks\":\"\"}}],\"histogram2d\":[{\"type\":\"histogram2d\",\"colorbar\":{\"outlinewidth\":0,\"ticks\":\"\"},\"colorscale\":[[0.0,\"#0d0887\"],[0.1111111111111111,\"#46039f\"],[0.2222222222222222,\"#7201a8\"],[0.3333333333333333,\"#9c179e\"],[0.4444444444444444,\"#bd3786\"],[0.5555555555555556,\"#d8576b\"],[0.6666666666666666,\"#ed7953\"],[0.7777777777777778,\"#fb9f3a\"],[0.8888888888888888,\"#fdca26\"],[1.0,\"#f0f921\"]]}],\"heatmap\":[{\"type\":\"heatmap\",\"colorbar\":{\"outlinewidth\":0,\"ticks\":\"\"},\"colorscale\":[[0.0,\"#0d0887\"],[0.1111111111111111,\"#46039f\"],[0.2222222222222222,\"#7201a8\"],[0.3333333333333333,\"#9c179e\"],[0.4444444444444444,\"#bd3786\"],[0.5555555555555556,\"#d8576b\"],[0.6666666666666666,\"#ed7953\"],[0.7777777777777778,\"#fb9f3a\"],[0.8888888888888888,\"#fdca26\"],[1.0,\"#f0f921\"]]}],\"heatmapgl\":[{\"type\":\"heatmapgl\",\"colorbar\":{\"outlinewidth\":0,\"ticks\":\"\"},\"colorscale\":[[0.0,\"#0d0887\"],[0.1111111111111111,\"#46039f\"],[0.2222222222222222,\"#7201a8\"],[0.3333333333333333,\"#9c179e\"],[0.4444444444444444,\"#bd3786\"],[0.5555555555555556,\"#d8576b\"],[0.6666666666666666,\"#ed7953\"],[0.7777777777777778,\"#fb9f3a\"],[0.8888888888888888,\"#fdca26\"],[1.0,\"#f0f921\"]]}],\"contourcarpet\":[{\"type\":\"contourcarpet\",\"colorbar\":{\"outlinewidth\":0,\"ticks\":\"\"}}],\"contour\":[{\"type\":\"contour\",\"colorbar\":{\"outlinewidth\":0,\"ticks\":\"\"},\"colorscale\":[[0.0,\"#0d0887\"],[0.1111111111111111,\"#46039f\"],[0.2222222222222222,\"#7201a8\"],[0.3333333333333333,\"#9c179e\"],[0.4444444444444444,\"#bd3786\"],[0.5555555555555556,\"#d8576b\"],[0.6666666666666666,\"#ed7953\"],[0.7777777777777778,\"#fb9f3a\"],[0.8888888888888888,\"#fdca26\"],[1.0,\"#f0f921\"]]}],\"surface\":[{\"type\":\"surface\",\"colorbar\":{\"outlinewidth\":0,\"ticks\":\"\"},\"colorscale\":[[0.0,\"#0d0887\"],[0.1111111111111111,\"#46039f\"],[0.2222222222222222,\"#7201a8\"],[0.3333333333333333,\"#9c179e\"],[0.4444444444444444,\"#bd3786\"],[0.5555555555555556,\"#d8576b\"],[0.6666666666666666,\"#ed7953\"],[0.7777777777777778,\"#fb9f3a\"],[0.8888888888888888,\"#fdca26\"],[1.0,\"#f0f921\"]]}],\"mesh3d\":[{\"type\":\"mesh3d\",\"colorbar\":{\"outlinewidth\":0,\"ticks\":\"\"}}],\"scatter\":[{\"fillpattern\":{\"fillmode\":\"overlay\",\"size\":10,\"solidity\":0.2},\"type\":\"scatter\"}],\"parcoords\":[{\"type\":\"parcoords\",\"line\":{\"colorbar\":{\"outlinewidth\":0,\"ticks\":\"\"}}}],\"scatterpolargl\":[{\"type\":\"scatterpolargl\",\"marker\":{\"colorbar\":{\"outlinewidth\":0,\"ticks\":\"\"}}}],\"bar\":[{\"error_x\":{\"color\":\"#2a3f5f\"},\"error_y\":{\"color\":\"#2a3f5f\"},\"marker\":{\"line\":{\"color\":\"#E5ECF6\",\"width\":0.5},\"pattern\":{\"fillmode\":\"overlay\",\"size\":10,\"solidity\":0.2}},\"type\":\"bar\"}],\"scattergeo\":[{\"type\":\"scattergeo\",\"marker\":{\"colorbar\":{\"outlinewidth\":0,\"ticks\":\"\"}}}],\"scatterpolar\":[{\"type\":\"scatterpolar\",\"marker\":{\"colorbar\":{\"outlinewidth\":0,\"ticks\":\"\"}}}],\"histogram\":[{\"marker\":{\"pattern\":{\"fillmode\":\"overlay\",\"size\":10,\"solidity\":0.2}},\"type\":\"histogram\"}],\"scattergl\":[{\"type\":\"scattergl\",\"marker\":{\"colorbar\":{\"outlinewidth\":0,\"ticks\":\"\"}}}],\"scatter3d\":[{\"type\":\"scatter3d\",\"line\":{\"colorbar\":{\"outlinewidth\":0,\"ticks\":\"\"}},\"marker\":{\"colorbar\":{\"outlinewidth\":0,\"ticks\":\"\"}}}],\"scattermapbox\":[{\"type\":\"scattermapbox\",\"marker\":{\"colorbar\":{\"outlinewidth\":0,\"ticks\":\"\"}}}],\"scatterternary\":[{\"type\":\"scatterternary\",\"marker\":{\"colorbar\":{\"outlinewidth\":0,\"ticks\":\"\"}}}],\"scattercarpet\":[{\"type\":\"scattercarpet\",\"marker\":{\"colorbar\":{\"outlinewidth\":0,\"ticks\":\"\"}}}],\"carpet\":[{\"aaxis\":{\"endlinecolor\":\"#2a3f5f\",\"gridcolor\":\"white\",\"linecolor\":\"white\",\"minorgridcolor\":\"white\",\"startlinecolor\":\"#2a3f5f\"},\"baxis\":{\"endlinecolor\":\"#2a3f5f\",\"gridcolor\":\"white\",\"linecolor\":\"white\",\"minorgridcolor\":\"white\",\"startlinecolor\":\"#2a3f5f\"},\"type\":\"carpet\"}],\"table\":[{\"cells\":{\"fill\":{\"color\":\"#EBF0F8\"},\"line\":{\"color\":\"white\"}},\"header\":{\"fill\":{\"color\":\"#C8D4E3\"},\"line\":{\"color\":\"white\"}},\"type\":\"table\"}],\"barpolar\":[{\"marker\":{\"line\":{\"color\":\"#E5ECF6\",\"width\":0.5},\"pattern\":{\"fillmode\":\"overlay\",\"size\":10,\"solidity\":0.2}},\"type\":\"barpolar\"}],\"pie\":[{\"automargin\":true,\"type\":\"pie\"}]},\"layout\":{\"autotypenumbers\":\"strict\",\"colorway\":[\"#636efa\",\"#EF553B\",\"#00cc96\",\"#ab63fa\",\"#FFA15A\",\"#19d3f3\",\"#FF6692\",\"#B6E880\",\"#FF97FF\",\"#FECB52\"],\"font\":{\"color\":\"#2a3f5f\"},\"hovermode\":\"closest\",\"hoverlabel\":{\"align\":\"left\"},\"paper_bgcolor\":\"white\",\"plot_bgcolor\":\"#E5ECF6\",\"polar\":{\"bgcolor\":\"#E5ECF6\",\"angularaxis\":{\"gridcolor\":\"white\",\"linecolor\":\"white\",\"ticks\":\"\"},\"radialaxis\":{\"gridcolor\":\"white\",\"linecolor\":\"white\",\"ticks\":\"\"}},\"ternary\":{\"bgcolor\":\"#E5ECF6\",\"aaxis\":{\"gridcolor\":\"white\",\"linecolor\":\"white\",\"ticks\":\"\"},\"baxis\":{\"gridcolor\":\"white\",\"linecolor\":\"white\",\"ticks\":\"\"},\"caxis\":{\"gridcolor\":\"white\",\"linecolor\":\"white\",\"ticks\":\"\"}},\"coloraxis\":{\"colorbar\":{\"outlinewidth\":0,\"ticks\":\"\"}},\"colorscale\":{\"sequential\":[[0.0,\"#0d0887\"],[0.1111111111111111,\"#46039f\"],[0.2222222222222222,\"#7201a8\"],[0.3333333333333333,\"#9c179e\"],[0.4444444444444444,\"#bd3786\"],[0.5555555555555556,\"#d8576b\"],[0.6666666666666666,\"#ed7953\"],[0.7777777777777778,\"#fb9f3a\"],[0.8888888888888888,\"#fdca26\"],[1.0,\"#f0f921\"]],\"sequentialminus\":[[0.0,\"#0d0887\"],[0.1111111111111111,\"#46039f\"],[0.2222222222222222,\"#7201a8\"],[0.3333333333333333,\"#9c179e\"],[0.4444444444444444,\"#bd3786\"],[0.5555555555555556,\"#d8576b\"],[0.6666666666666666,\"#ed7953\"],[0.7777777777777778,\"#fb9f3a\"],[0.8888888888888888,\"#fdca26\"],[1.0,\"#f0f921\"]],\"diverging\":[[0,\"#8e0152\"],[0.1,\"#c51b7d\"],[0.2,\"#de77ae\"],[0.3,\"#f1b6da\"],[0.4,\"#fde0ef\"],[0.5,\"#f7f7f7\"],[0.6,\"#e6f5d0\"],[0.7,\"#b8e186\"],[0.8,\"#7fbc41\"],[0.9,\"#4d9221\"],[1,\"#276419\"]]},\"xaxis\":{\"gridcolor\":\"white\",\"linecolor\":\"white\",\"ticks\":\"\",\"title\":{\"standoff\":15},\"zerolinecolor\":\"white\",\"automargin\":true,\"zerolinewidth\":2},\"yaxis\":{\"gridcolor\":\"white\",\"linecolor\":\"white\",\"ticks\":\"\",\"title\":{\"standoff\":15},\"zerolinecolor\":\"white\",\"automargin\":true,\"zerolinewidth\":2},\"scene\":{\"xaxis\":{\"backgroundcolor\":\"#E5ECF6\",\"gridcolor\":\"white\",\"linecolor\":\"white\",\"showbackground\":true,\"ticks\":\"\",\"zerolinecolor\":\"white\",\"gridwidth\":2},\"yaxis\":{\"backgroundcolor\":\"#E5ECF6\",\"gridcolor\":\"white\",\"linecolor\":\"white\",\"showbackground\":true,\"ticks\":\"\",\"zerolinecolor\":\"white\",\"gridwidth\":2},\"zaxis\":{\"backgroundcolor\":\"#E5ECF6\",\"gridcolor\":\"white\",\"linecolor\":\"white\",\"showbackground\":true,\"ticks\":\"\",\"zerolinecolor\":\"white\",\"gridwidth\":2}},\"shapedefaults\":{\"line\":{\"color\":\"#2a3f5f\"}},\"annotationdefaults\":{\"arrowcolor\":\"#2a3f5f\",\"arrowhead\":0,\"arrowwidth\":1},\"geo\":{\"bgcolor\":\"white\",\"landcolor\":\"#E5ECF6\",\"subunitcolor\":\"white\",\"showland\":true,\"showlakes\":true,\"lakecolor\":\"white\"},\"title\":{\"x\":0.05},\"mapbox\":{\"style\":\"light\"}}},\"xaxis\":{\"anchor\":\"y\",\"domain\":[0.0,1.0],\"title\":{\"text\":\"target_interval\"}},\"yaxis\":{\"anchor\":\"x\",\"domain\":[0.0,1.0],\"title\":{\"text\":\"reproduction_error\"}},\"legend\":{\"tracegroupgap\":0},\"title\":{\"text\":\"Error by Target Interval x Set Duration\"}},                        {\"responsive\": true}                    ).then(function(){\n",
       "                            \n",
       "var gd = document.getElementById('8c62248f-e577-40a2-a91f-8ae3acd2ff6a');\n",
       "var x = new MutationObserver(function (mutations, observer) {{\n",
       "        var display = window.getComputedStyle(gd).display;\n",
       "        if (!display || display === 'none') {{\n",
       "            console.log([gd, 'removed!']);\n",
       "            Plotly.purge(gd);\n",
       "            observer.disconnect();\n",
       "        }}\n",
       "}});\n",
       "\n",
       "// Listen for the removal of the full notebook cells\n",
       "var notebookContainer = gd.closest('#notebook-container');\n",
       "if (notebookContainer) {{\n",
       "    x.observe(notebookContainer, {childList: true});\n",
       "}}\n",
       "\n",
       "// Listen for the clearing of the current output cell\n",
       "var outputEl = gd.closest('.output');\n",
       "if (outputEl) {{\n",
       "    x.observe(outputEl, {childList: true});\n",
       "}}\n",
       "\n",
       "                        })                };                });            </script>        </div>"
      ]
     },
     "metadata": {},
     "output_type": "display_data"
    },
    {
     "data": {
      "application/vnd.plotly.v1+json": {
       "config": {
        "plotlyServerURL": "https://plot.ly"
       },
       "data": [
        {
         "hovertemplate": "target_interval=300.0<br>trial_number=%{x}<br>reproduced_interval=%{y}<extra></extra>",
         "legendgroup": "300.0",
         "line": {
          "color": "#636efa",
          "dash": "solid"
         },
         "marker": {
          "symbol": "circle"
         },
         "mode": "lines",
         "name": "300.0",
         "orientation": "v",
         "showlegend": true,
         "type": "scatter",
         "x": [
          0,
          3,
          19,
          33,
          34,
          47,
          57,
          69,
          79,
          86,
          92,
          99
         ],
         "xaxis": "x",
         "y": [
          265,
          346,
          293,
          252,
          346,
          347,
          151,
          360,
          367,
          365,
          280,
          400
         ],
         "yaxis": "y"
        },
        {
         "hovertemplate": "target_interval=800.0<br>trial_number=%{x}<br>reproduced_interval=%{y}<extra></extra>",
         "legendgroup": "800.0",
         "line": {
          "color": "#EF553B",
          "dash": "solid"
         },
         "marker": {
          "symbol": "circle"
         },
         "mode": "lines",
         "name": "800.0",
         "orientation": "v",
         "showlegend": true,
         "type": "scatter",
         "x": [
          1,
          13,
          18,
          21,
          27,
          37,
          39,
          67,
          73,
          85,
          90,
          98,
          221,
          235,
          251,
          254,
          267,
          274,
          276,
          277,
          278,
          288
         ],
         "xaxis": "x",
         "y": [
          866,
          634,
          683,
          743,
          757,
          629,
          789,
          748,
          800,
          864,
          948,
          690,
          991,
          871,
          838,
          963,
          978,
          923,
          853,
          804,
          836,
          806
         ],
         "yaxis": "y"
        },
        {
         "hovertemplate": "target_interval=900.0<br>trial_number=%{x}<br>reproduced_interval=%{y}<extra></extra>",
         "legendgroup": "900.0",
         "line": {
          "color": "#00cc96",
          "dash": "solid"
         },
         "marker": {
          "symbol": "circle"
         },
         "mode": "lines",
         "name": "900.0",
         "orientation": "v",
         "showlegend": true,
         "type": "scatter",
         "x": [
          2,
          12,
          14,
          38,
          42,
          45,
          70,
          77,
          88,
          93,
          203,
          205,
          208,
          210,
          225,
          228,
          234,
          252,
          255,
          290
         ],
         "xaxis": "x",
         "y": [
          817,
          628,
          649,
          898,
          782,
          684,
          870,
          743,
          983,
          1065,
          865,
          1043,
          901,
          999,
          1111,
          1072,
          1093,
          1089,
          984,
          1108
         ],
         "yaxis": "y"
        },
        {
         "hovertemplate": "target_interval=200.0<br>trial_number=%{x}<br>reproduced_interval=%{y}<extra></extra>",
         "legendgroup": "200.0",
         "line": {
          "color": "#ab63fa",
          "dash": "solid"
         },
         "marker": {
          "symbol": "circle"
         },
         "mode": "lines",
         "name": "200.0",
         "orientation": "v",
         "showlegend": true,
         "type": "scatter",
         "x": [
          4,
          23,
          29,
          36,
          52,
          72,
          74,
          82,
          83,
          97
         ],
         "xaxis": "x",
         "y": [
          244,
          78,
          96,
          138,
          161,
          146,
          242,
          280,
          277,
          268
         ],
         "yaxis": "y"
        },
        {
         "hovertemplate": "target_interval=700.0<br>trial_number=%{x}<br>reproduced_interval=%{y}<extra></extra>",
         "legendgroup": "700.0",
         "line": {
          "color": "#FFA15A",
          "dash": "solid"
         },
         "marker": {
          "symbol": "circle"
         },
         "mode": "lines",
         "name": "700.0",
         "orientation": "v",
         "showlegend": true,
         "type": "scatter",
         "x": [
          5,
          24,
          26,
          28,
          31,
          51,
          56,
          58,
          62,
          63,
          84,
          202,
          207,
          214,
          224,
          248,
          259,
          262,
          265,
          282,
          285,
          292
         ],
         "xaxis": "x",
         "y": [
          672,
          778,
          659,
          770,
          708,
          622,
          604,
          592,
          767,
          686,
          626,
          730,
          741,
          748,
          976,
          725,
          815,
          647,
          715,
          893,
          876,
          874
         ],
         "yaxis": "y"
        },
        {
         "hovertemplate": "target_interval=400.0<br>trial_number=%{x}<br>reproduced_interval=%{y}<extra></extra>",
         "legendgroup": "400.0",
         "line": {
          "color": "#19d3f3",
          "dash": "solid"
         },
         "marker": {
          "symbol": "circle"
         },
         "mode": "lines",
         "name": "400.0",
         "orientation": "v",
         "showlegend": true,
         "type": "scatter",
         "x": [
          6,
          10,
          16,
          25,
          32,
          46,
          55,
          80,
          87,
          94
         ],
         "xaxis": "x",
         "y": [
          322,
          405,
          455,
          362,
          474,
          332,
          427,
          484,
          481,
          560
         ],
         "yaxis": "y"
        },
        {
         "hovertemplate": "target_interval=500.0<br>trial_number=%{x}<br>reproduced_interval=%{y}<extra></extra>",
         "legendgroup": "500.0",
         "line": {
          "color": "#FF6692",
          "dash": "solid"
         },
         "marker": {
          "symbol": "circle"
         },
         "mode": "lines",
         "name": "500.0",
         "orientation": "v",
         "showlegend": true,
         "type": "scatter",
         "x": [
          7,
          8,
          9,
          11,
          30,
          40,
          41,
          43,
          44,
          50,
          53,
          54,
          59,
          60,
          66,
          71,
          76,
          78,
          81,
          95
         ],
         "xaxis": "x",
         "y": [
          504,
          516,
          457,
          405,
          453,
          527,
          498,
          503,
          456,
          464,
          449,
          483,
          556,
          560,
          561,
          436,
          608,
          392,
          493,
          627
         ],
         "yaxis": "y"
        },
        {
         "hovertemplate": "target_interval=600.0<br>trial_number=%{x}<br>reproduced_interval=%{y}<extra></extra>",
         "legendgroup": "600.0",
         "line": {
          "color": "#B6E880",
          "dash": "solid"
         },
         "marker": {
          "symbol": "circle"
         },
         "mode": "lines",
         "name": "600.0",
         "orientation": "v",
         "showlegend": true,
         "type": "scatter",
         "x": [
          17,
          20,
          22,
          35,
          48,
          49,
          61,
          64,
          65,
          68,
          75,
          96,
          219,
          243,
          246,
          266,
          268,
          273,
          279,
          286,
          289
         ],
         "xaxis": "x",
         "y": [
          501,
          539,
          647,
          628,
          626,
          574,
          508,
          651,
          673,
          641,
          743,
          735,
          638,
          623,
          462,
          468,
          763,
          778,
          661,
          599,
          661
         ],
         "yaxis": "y"
        },
        {
         "hovertemplate": "target_interval=1400.0<br>trial_number=%{x}<br>reproduced_interval=%{y}<extra></extra>",
         "legendgroup": "1400.0",
         "line": {
          "color": "#FF97FF",
          "dash": "solid"
         },
         "marker": {
          "symbol": "circle"
         },
         "mode": "lines",
         "name": "1400.0",
         "orientation": "v",
         "showlegend": true,
         "type": "scatter",
         "x": [
          100,
          106,
          113,
          116,
          119,
          126,
          135,
          137,
          154,
          158,
          172,
          175
         ],
         "xaxis": "x",
         "y": [
          1234,
          1411,
          1599,
          1390,
          1519,
          1490,
          1421,
          1310,
          1582,
          1500,
          1491,
          1350
         ],
         "yaxis": "y"
        },
        {
         "hovertemplate": "target_interval=1200.0<br>trial_number=%{x}<br>reproduced_interval=%{y}<extra></extra>",
         "legendgroup": "1200.0",
         "line": {
          "color": "#FECB52",
          "dash": "solid"
         },
         "marker": {
          "symbol": "circle"
         },
         "mode": "lines",
         "name": "1200.0",
         "orientation": "v",
         "showlegend": true,
         "type": "scatter",
         "x": [
          101,
          115,
          120,
          127,
          132,
          138,
          148,
          159,
          164,
          174,
          178,
          199,
          201,
          229,
          232,
          236,
          238,
          242,
          256,
          257,
          258,
          270,
          296
         ],
         "xaxis": "x",
         "y": [
          1287,
          1126,
          1248,
          1109,
          1296,
          1477,
          1171,
          1407,
          1389,
          1344,
          1450,
          1247,
          1228,
          1156,
          1422,
          1072,
          1120,
          1234,
          1330,
          1348,
          1346,
          1342,
          1113
         ],
         "yaxis": "y"
        },
        {
         "hovertemplate": "target_interval=1100.0<br>trial_number=%{x}<br>reproduced_interval=%{y}<extra></extra>",
         "legendgroup": "1100.0",
         "line": {
          "color": "#636efa",
          "dash": "solid"
         },
         "marker": {
          "symbol": "circle"
         },
         "mode": "lines",
         "name": "1100.0",
         "orientation": "v",
         "showlegend": true,
         "type": "scatter",
         "x": [
          102,
          104,
          140,
          142,
          187,
          189,
          198,
          206,
          209,
          211,
          216,
          217,
          220,
          231,
          237,
          239,
          241,
          244,
          247,
          253,
          269,
          280,
          299
         ],
         "xaxis": "x",
         "y": [
          1216,
          1273,
          1160,
          1373,
          1138,
          1020,
          1299,
          1273,
          1071,
          1263,
          1269,
          1261,
          1163,
          1189,
          1196,
          1148,
          1121,
          1206,
          1247,
          1370,
          1301,
          1323,
          1120
         ],
         "yaxis": "y"
        },
        {
         "hovertemplate": "target_interval=1300.0<br>trial_number=%{x}<br>reproduced_interval=%{y}<extra></extra>",
         "legendgroup": "1300.0",
         "line": {
          "color": "#EF553B",
          "dash": "solid"
         },
         "marker": {
          "symbol": "circle"
         },
         "mode": "lines",
         "name": "1300.0",
         "orientation": "v",
         "showlegend": true,
         "type": "scatter",
         "x": [
          103,
          121,
          124,
          133,
          134,
          147,
          149,
          168,
          171,
          176,
          188,
          192,
          193,
          200,
          250,
          260,
          272,
          275,
          283,
          287,
          297,
          298
         ],
         "xaxis": "x",
         "y": [
          1237,
          1422,
          1476,
          1291,
          1377,
          1351,
          1295,
          1451,
          1510,
          1358,
          1059,
          1563,
          1374,
          1042,
          1193,
          1530,
          1418,
          1211,
          1373,
          1345,
          1582,
          1476
         ],
         "yaxis": "y"
        },
        {
         "hovertemplate": "target_interval=1500.0<br>trial_number=%{x}<br>reproduced_interval=%{y}<extra></extra>",
         "legendgroup": "1500.0",
         "line": {
          "color": "#00cc96",
          "dash": "solid"
         },
         "marker": {
          "symbol": "circle"
         },
         "mode": "lines",
         "name": "1500.0",
         "orientation": "v",
         "showlegend": true,
         "type": "scatter",
         "x": [
          105,
          123,
          129,
          151,
          155,
          156,
          167,
          179,
          181,
          183,
          190,
          194,
          195
         ],
         "xaxis": "x",
         "y": [
          1562,
          1498,
          1672,
          1536,
          1484,
          1447,
          1613,
          1461,
          1567,
          1594,
          1596,
          1417,
          1512
         ],
         "yaxis": "y"
        },
        {
         "hovertemplate": "target_interval=1000.0<br>trial_number=%{x}<br>reproduced_interval=%{y}<extra></extra>",
         "legendgroup": "1000.0",
         "line": {
          "color": "#ab63fa",
          "dash": "solid"
         },
         "marker": {
          "symbol": "circle"
         },
         "mode": "lines",
         "name": "1000.0",
         "orientation": "v",
         "showlegend": true,
         "type": "scatter",
         "x": [
          107,
          118,
          131,
          141,
          143,
          144,
          157,
          160,
          162,
          182,
          185,
          204,
          212,
          226,
          233,
          240,
          245,
          249,
          261,
          263,
          271,
          293
         ],
         "xaxis": "x",
         "y": [
          1017,
          885,
          1146,
          1098,
          1213,
          1277,
          1188,
          1021,
          949,
          731,
          1186,
          1023,
          1242,
          1191,
          921,
          949,
          1151,
          1156,
          1257,
          1044,
          1018,
          1084
         ],
         "yaxis": "y"
        },
        {
         "hovertemplate": "target_interval=1700.0<br>trial_number=%{x}<br>reproduced_interval=%{y}<extra></extra>",
         "legendgroup": "1700.0",
         "line": {
          "color": "#FFA15A",
          "dash": "solid"
         },
         "marker": {
          "symbol": "circle"
         },
         "mode": "lines",
         "name": "1700.0",
         "orientation": "v",
         "showlegend": true,
         "type": "scatter",
         "x": [
          108,
          109,
          110,
          125,
          130,
          136,
          146,
          150,
          161,
          165,
          170,
          196,
          197
         ],
         "xaxis": "x",
         "y": [
          1688,
          1874,
          1892,
          1648,
          1757,
          1669,
          1542,
          1590,
          1792,
          1875,
          1860,
          1711,
          1695
         ],
         "yaxis": "y"
        },
        {
         "hovertemplate": "target_interval=1600.0<br>trial_number=%{x}<br>reproduced_interval=%{y}<extra></extra>",
         "legendgroup": "1600.0",
         "line": {
          "color": "#19d3f3",
          "dash": "solid"
         },
         "marker": {
          "symbol": "circle"
         },
         "mode": "lines",
         "name": "1600.0",
         "orientation": "v",
         "showlegend": true,
         "type": "scatter",
         "x": [
          114,
          117,
          145,
          152,
          153,
          163,
          169,
          177,
          180,
          184
         ],
         "xaxis": "x",
         "y": [
          1727,
          1410,
          1508,
          1446,
          1616,
          1653,
          1865,
          1600,
          1606,
          1843
         ],
         "yaxis": "y"
        }
       ],
       "layout": {
        "legend": {
         "title": {
          "text": "target_interval"
         },
         "tracegroupgap": 0
        },
        "template": {
         "data": {
          "bar": [
           {
            "error_x": {
             "color": "#2a3f5f"
            },
            "error_y": {
             "color": "#2a3f5f"
            },
            "marker": {
             "line": {
              "color": "#E5ECF6",
              "width": 0.5
             },
             "pattern": {
              "fillmode": "overlay",
              "size": 10,
              "solidity": 0.2
             }
            },
            "type": "bar"
           }
          ],
          "barpolar": [
           {
            "marker": {
             "line": {
              "color": "#E5ECF6",
              "width": 0.5
             },
             "pattern": {
              "fillmode": "overlay",
              "size": 10,
              "solidity": 0.2
             }
            },
            "type": "barpolar"
           }
          ],
          "carpet": [
           {
            "aaxis": {
             "endlinecolor": "#2a3f5f",
             "gridcolor": "white",
             "linecolor": "white",
             "minorgridcolor": "white",
             "startlinecolor": "#2a3f5f"
            },
            "baxis": {
             "endlinecolor": "#2a3f5f",
             "gridcolor": "white",
             "linecolor": "white",
             "minorgridcolor": "white",
             "startlinecolor": "#2a3f5f"
            },
            "type": "carpet"
           }
          ],
          "choropleth": [
           {
            "colorbar": {
             "outlinewidth": 0,
             "ticks": ""
            },
            "type": "choropleth"
           }
          ],
          "contour": [
           {
            "colorbar": {
             "outlinewidth": 0,
             "ticks": ""
            },
            "colorscale": [
             [
              0,
              "#0d0887"
             ],
             [
              0.1111111111111111,
              "#46039f"
             ],
             [
              0.2222222222222222,
              "#7201a8"
             ],
             [
              0.3333333333333333,
              "#9c179e"
             ],
             [
              0.4444444444444444,
              "#bd3786"
             ],
             [
              0.5555555555555556,
              "#d8576b"
             ],
             [
              0.6666666666666666,
              "#ed7953"
             ],
             [
              0.7777777777777778,
              "#fb9f3a"
             ],
             [
              0.8888888888888888,
              "#fdca26"
             ],
             [
              1,
              "#f0f921"
             ]
            ],
            "type": "contour"
           }
          ],
          "contourcarpet": [
           {
            "colorbar": {
             "outlinewidth": 0,
             "ticks": ""
            },
            "type": "contourcarpet"
           }
          ],
          "heatmap": [
           {
            "colorbar": {
             "outlinewidth": 0,
             "ticks": ""
            },
            "colorscale": [
             [
              0,
              "#0d0887"
             ],
             [
              0.1111111111111111,
              "#46039f"
             ],
             [
              0.2222222222222222,
              "#7201a8"
             ],
             [
              0.3333333333333333,
              "#9c179e"
             ],
             [
              0.4444444444444444,
              "#bd3786"
             ],
             [
              0.5555555555555556,
              "#d8576b"
             ],
             [
              0.6666666666666666,
              "#ed7953"
             ],
             [
              0.7777777777777778,
              "#fb9f3a"
             ],
             [
              0.8888888888888888,
              "#fdca26"
             ],
             [
              1,
              "#f0f921"
             ]
            ],
            "type": "heatmap"
           }
          ],
          "heatmapgl": [
           {
            "colorbar": {
             "outlinewidth": 0,
             "ticks": ""
            },
            "colorscale": [
             [
              0,
              "#0d0887"
             ],
             [
              0.1111111111111111,
              "#46039f"
             ],
             [
              0.2222222222222222,
              "#7201a8"
             ],
             [
              0.3333333333333333,
              "#9c179e"
             ],
             [
              0.4444444444444444,
              "#bd3786"
             ],
             [
              0.5555555555555556,
              "#d8576b"
             ],
             [
              0.6666666666666666,
              "#ed7953"
             ],
             [
              0.7777777777777778,
              "#fb9f3a"
             ],
             [
              0.8888888888888888,
              "#fdca26"
             ],
             [
              1,
              "#f0f921"
             ]
            ],
            "type": "heatmapgl"
           }
          ],
          "histogram": [
           {
            "marker": {
             "pattern": {
              "fillmode": "overlay",
              "size": 10,
              "solidity": 0.2
             }
            },
            "type": "histogram"
           }
          ],
          "histogram2d": [
           {
            "colorbar": {
             "outlinewidth": 0,
             "ticks": ""
            },
            "colorscale": [
             [
              0,
              "#0d0887"
             ],
             [
              0.1111111111111111,
              "#46039f"
             ],
             [
              0.2222222222222222,
              "#7201a8"
             ],
             [
              0.3333333333333333,
              "#9c179e"
             ],
             [
              0.4444444444444444,
              "#bd3786"
             ],
             [
              0.5555555555555556,
              "#d8576b"
             ],
             [
              0.6666666666666666,
              "#ed7953"
             ],
             [
              0.7777777777777778,
              "#fb9f3a"
             ],
             [
              0.8888888888888888,
              "#fdca26"
             ],
             [
              1,
              "#f0f921"
             ]
            ],
            "type": "histogram2d"
           }
          ],
          "histogram2dcontour": [
           {
            "colorbar": {
             "outlinewidth": 0,
             "ticks": ""
            },
            "colorscale": [
             [
              0,
              "#0d0887"
             ],
             [
              0.1111111111111111,
              "#46039f"
             ],
             [
              0.2222222222222222,
              "#7201a8"
             ],
             [
              0.3333333333333333,
              "#9c179e"
             ],
             [
              0.4444444444444444,
              "#bd3786"
             ],
             [
              0.5555555555555556,
              "#d8576b"
             ],
             [
              0.6666666666666666,
              "#ed7953"
             ],
             [
              0.7777777777777778,
              "#fb9f3a"
             ],
             [
              0.8888888888888888,
              "#fdca26"
             ],
             [
              1,
              "#f0f921"
             ]
            ],
            "type": "histogram2dcontour"
           }
          ],
          "mesh3d": [
           {
            "colorbar": {
             "outlinewidth": 0,
             "ticks": ""
            },
            "type": "mesh3d"
           }
          ],
          "parcoords": [
           {
            "line": {
             "colorbar": {
              "outlinewidth": 0,
              "ticks": ""
             }
            },
            "type": "parcoords"
           }
          ],
          "pie": [
           {
            "automargin": true,
            "type": "pie"
           }
          ],
          "scatter": [
           {
            "fillpattern": {
             "fillmode": "overlay",
             "size": 10,
             "solidity": 0.2
            },
            "type": "scatter"
           }
          ],
          "scatter3d": [
           {
            "line": {
             "colorbar": {
              "outlinewidth": 0,
              "ticks": ""
             }
            },
            "marker": {
             "colorbar": {
              "outlinewidth": 0,
              "ticks": ""
             }
            },
            "type": "scatter3d"
           }
          ],
          "scattercarpet": [
           {
            "marker": {
             "colorbar": {
              "outlinewidth": 0,
              "ticks": ""
             }
            },
            "type": "scattercarpet"
           }
          ],
          "scattergeo": [
           {
            "marker": {
             "colorbar": {
              "outlinewidth": 0,
              "ticks": ""
             }
            },
            "type": "scattergeo"
           }
          ],
          "scattergl": [
           {
            "marker": {
             "colorbar": {
              "outlinewidth": 0,
              "ticks": ""
             }
            },
            "type": "scattergl"
           }
          ],
          "scattermapbox": [
           {
            "marker": {
             "colorbar": {
              "outlinewidth": 0,
              "ticks": ""
             }
            },
            "type": "scattermapbox"
           }
          ],
          "scatterpolar": [
           {
            "marker": {
             "colorbar": {
              "outlinewidth": 0,
              "ticks": ""
             }
            },
            "type": "scatterpolar"
           }
          ],
          "scatterpolargl": [
           {
            "marker": {
             "colorbar": {
              "outlinewidth": 0,
              "ticks": ""
             }
            },
            "type": "scatterpolargl"
           }
          ],
          "scatterternary": [
           {
            "marker": {
             "colorbar": {
              "outlinewidth": 0,
              "ticks": ""
             }
            },
            "type": "scatterternary"
           }
          ],
          "surface": [
           {
            "colorbar": {
             "outlinewidth": 0,
             "ticks": ""
            },
            "colorscale": [
             [
              0,
              "#0d0887"
             ],
             [
              0.1111111111111111,
              "#46039f"
             ],
             [
              0.2222222222222222,
              "#7201a8"
             ],
             [
              0.3333333333333333,
              "#9c179e"
             ],
             [
              0.4444444444444444,
              "#bd3786"
             ],
             [
              0.5555555555555556,
              "#d8576b"
             ],
             [
              0.6666666666666666,
              "#ed7953"
             ],
             [
              0.7777777777777778,
              "#fb9f3a"
             ],
             [
              0.8888888888888888,
              "#fdca26"
             ],
             [
              1,
              "#f0f921"
             ]
            ],
            "type": "surface"
           }
          ],
          "table": [
           {
            "cells": {
             "fill": {
              "color": "#EBF0F8"
             },
             "line": {
              "color": "white"
             }
            },
            "header": {
             "fill": {
              "color": "#C8D4E3"
             },
             "line": {
              "color": "white"
             }
            },
            "type": "table"
           }
          ]
         },
         "layout": {
          "annotationdefaults": {
           "arrowcolor": "#2a3f5f",
           "arrowhead": 0,
           "arrowwidth": 1
          },
          "autotypenumbers": "strict",
          "coloraxis": {
           "colorbar": {
            "outlinewidth": 0,
            "ticks": ""
           }
          },
          "colorscale": {
           "diverging": [
            [
             0,
             "#8e0152"
            ],
            [
             0.1,
             "#c51b7d"
            ],
            [
             0.2,
             "#de77ae"
            ],
            [
             0.3,
             "#f1b6da"
            ],
            [
             0.4,
             "#fde0ef"
            ],
            [
             0.5,
             "#f7f7f7"
            ],
            [
             0.6,
             "#e6f5d0"
            ],
            [
             0.7,
             "#b8e186"
            ],
            [
             0.8,
             "#7fbc41"
            ],
            [
             0.9,
             "#4d9221"
            ],
            [
             1,
             "#276419"
            ]
           ],
           "sequential": [
            [
             0,
             "#0d0887"
            ],
            [
             0.1111111111111111,
             "#46039f"
            ],
            [
             0.2222222222222222,
             "#7201a8"
            ],
            [
             0.3333333333333333,
             "#9c179e"
            ],
            [
             0.4444444444444444,
             "#bd3786"
            ],
            [
             0.5555555555555556,
             "#d8576b"
            ],
            [
             0.6666666666666666,
             "#ed7953"
            ],
            [
             0.7777777777777778,
             "#fb9f3a"
            ],
            [
             0.8888888888888888,
             "#fdca26"
            ],
            [
             1,
             "#f0f921"
            ]
           ],
           "sequentialminus": [
            [
             0,
             "#0d0887"
            ],
            [
             0.1111111111111111,
             "#46039f"
            ],
            [
             0.2222222222222222,
             "#7201a8"
            ],
            [
             0.3333333333333333,
             "#9c179e"
            ],
            [
             0.4444444444444444,
             "#bd3786"
            ],
            [
             0.5555555555555556,
             "#d8576b"
            ],
            [
             0.6666666666666666,
             "#ed7953"
            ],
            [
             0.7777777777777778,
             "#fb9f3a"
            ],
            [
             0.8888888888888888,
             "#fdca26"
            ],
            [
             1,
             "#f0f921"
            ]
           ]
          },
          "colorway": [
           "#636efa",
           "#EF553B",
           "#00cc96",
           "#ab63fa",
           "#FFA15A",
           "#19d3f3",
           "#FF6692",
           "#B6E880",
           "#FF97FF",
           "#FECB52"
          ],
          "font": {
           "color": "#2a3f5f"
          },
          "geo": {
           "bgcolor": "white",
           "lakecolor": "white",
           "landcolor": "#E5ECF6",
           "showlakes": true,
           "showland": true,
           "subunitcolor": "white"
          },
          "hoverlabel": {
           "align": "left"
          },
          "hovermode": "closest",
          "mapbox": {
           "style": "light"
          },
          "paper_bgcolor": "white",
          "plot_bgcolor": "#E5ECF6",
          "polar": {
           "angularaxis": {
            "gridcolor": "white",
            "linecolor": "white",
            "ticks": ""
           },
           "bgcolor": "#E5ECF6",
           "radialaxis": {
            "gridcolor": "white",
            "linecolor": "white",
            "ticks": ""
           }
          },
          "scene": {
           "xaxis": {
            "backgroundcolor": "#E5ECF6",
            "gridcolor": "white",
            "gridwidth": 2,
            "linecolor": "white",
            "showbackground": true,
            "ticks": "",
            "zerolinecolor": "white"
           },
           "yaxis": {
            "backgroundcolor": "#E5ECF6",
            "gridcolor": "white",
            "gridwidth": 2,
            "linecolor": "white",
            "showbackground": true,
            "ticks": "",
            "zerolinecolor": "white"
           },
           "zaxis": {
            "backgroundcolor": "#E5ECF6",
            "gridcolor": "white",
            "gridwidth": 2,
            "linecolor": "white",
            "showbackground": true,
            "ticks": "",
            "zerolinecolor": "white"
           }
          },
          "shapedefaults": {
           "line": {
            "color": "#2a3f5f"
           }
          },
          "ternary": {
           "aaxis": {
            "gridcolor": "white",
            "linecolor": "white",
            "ticks": ""
           },
           "baxis": {
            "gridcolor": "white",
            "linecolor": "white",
            "ticks": ""
           },
           "bgcolor": "#E5ECF6",
           "caxis": {
            "gridcolor": "white",
            "linecolor": "white",
            "ticks": ""
           }
          },
          "title": {
           "x": 0.05
          },
          "xaxis": {
           "automargin": true,
           "gridcolor": "white",
           "linecolor": "white",
           "ticks": "",
           "title": {
            "standoff": 15
           },
           "zerolinecolor": "white",
           "zerolinewidth": 2
          },
          "yaxis": {
           "automargin": true,
           "gridcolor": "white",
           "linecolor": "white",
           "ticks": "",
           "title": {
            "standoff": 15
           },
           "zerolinecolor": "white",
           "zerolinewidth": 2
          }
         }
        },
        "title": {
         "text": "Reproduced Interval Across Trials"
        },
        "xaxis": {
         "anchor": "y",
         "domain": [
          0,
          1
         ],
         "title": {
          "text": "trial_number"
         }
        },
        "yaxis": {
         "anchor": "x",
         "domain": [
          0,
          1
         ],
         "title": {
          "text": "reproduced_interval"
         }
        }
       }
      },
      "text/html": [
       "<div>                            <div id=\"5defa77a-329f-446d-a12e-1ff01d6d05ca\" class=\"plotly-graph-div\" style=\"height:525px; width:100%;\"></div>            <script type=\"text/javascript\">                require([\"plotly\"], function(Plotly) {                    window.PLOTLYENV=window.PLOTLYENV || {};                                    if (document.getElementById(\"5defa77a-329f-446d-a12e-1ff01d6d05ca\")) {                    Plotly.newPlot(                        \"5defa77a-329f-446d-a12e-1ff01d6d05ca\",                        [{\"hovertemplate\":\"target_interval=300.0<br>trial_number=%{x}<br>reproduced_interval=%{y}<extra></extra>\",\"legendgroup\":\"300.0\",\"line\":{\"color\":\"#636efa\",\"dash\":\"solid\"},\"marker\":{\"symbol\":\"circle\"},\"mode\":\"lines\",\"name\":\"300.0\",\"orientation\":\"v\",\"showlegend\":true,\"x\":[0,3,19,33,34,47,57,69,79,86,92,99],\"xaxis\":\"x\",\"y\":[265.0,346.0,293.0,252.0,346.0,347.0,151.0,360.0,367.0,365.0,280.0,400.0],\"yaxis\":\"y\",\"type\":\"scatter\"},{\"hovertemplate\":\"target_interval=800.0<br>trial_number=%{x}<br>reproduced_interval=%{y}<extra></extra>\",\"legendgroup\":\"800.0\",\"line\":{\"color\":\"#EF553B\",\"dash\":\"solid\"},\"marker\":{\"symbol\":\"circle\"},\"mode\":\"lines\",\"name\":\"800.0\",\"orientation\":\"v\",\"showlegend\":true,\"x\":[1,13,18,21,27,37,39,67,73,85,90,98,221,235,251,254,267,274,276,277,278,288],\"xaxis\":\"x\",\"y\":[866.0,634.0,683.0,743.0,757.0,629.0,789.0,748.0,800.0,864.0,948.0,690.0,991.0,871.0,838.0,963.0,978.0,923.0,853.0,804.0,836.0,806.0],\"yaxis\":\"y\",\"type\":\"scatter\"},{\"hovertemplate\":\"target_interval=900.0<br>trial_number=%{x}<br>reproduced_interval=%{y}<extra></extra>\",\"legendgroup\":\"900.0\",\"line\":{\"color\":\"#00cc96\",\"dash\":\"solid\"},\"marker\":{\"symbol\":\"circle\"},\"mode\":\"lines\",\"name\":\"900.0\",\"orientation\":\"v\",\"showlegend\":true,\"x\":[2,12,14,38,42,45,70,77,88,93,203,205,208,210,225,228,234,252,255,290],\"xaxis\":\"x\",\"y\":[817.0,628.0,649.0,898.0,782.0,684.0,870.0,743.0,983.0,1065.0,865.0,1043.0,901.0,999.0,1111.0,1072.0,1093.0,1089.0,984.0,1108.0],\"yaxis\":\"y\",\"type\":\"scatter\"},{\"hovertemplate\":\"target_interval=200.0<br>trial_number=%{x}<br>reproduced_interval=%{y}<extra></extra>\",\"legendgroup\":\"200.0\",\"line\":{\"color\":\"#ab63fa\",\"dash\":\"solid\"},\"marker\":{\"symbol\":\"circle\"},\"mode\":\"lines\",\"name\":\"200.0\",\"orientation\":\"v\",\"showlegend\":true,\"x\":[4,23,29,36,52,72,74,82,83,97],\"xaxis\":\"x\",\"y\":[244.0,78.0,96.0,138.0,161.0,146.0,242.0,280.0,277.0,268.0],\"yaxis\":\"y\",\"type\":\"scatter\"},{\"hovertemplate\":\"target_interval=700.0<br>trial_number=%{x}<br>reproduced_interval=%{y}<extra></extra>\",\"legendgroup\":\"700.0\",\"line\":{\"color\":\"#FFA15A\",\"dash\":\"solid\"},\"marker\":{\"symbol\":\"circle\"},\"mode\":\"lines\",\"name\":\"700.0\",\"orientation\":\"v\",\"showlegend\":true,\"x\":[5,24,26,28,31,51,56,58,62,63,84,202,207,214,224,248,259,262,265,282,285,292],\"xaxis\":\"x\",\"y\":[672.0,778.0,659.0,770.0,708.0,622.0,604.0,592.0,767.0,686.0,626.0,730.0,741.0,748.0,976.0,725.0,815.0,647.0,715.0,893.0,876.0,874.0],\"yaxis\":\"y\",\"type\":\"scatter\"},{\"hovertemplate\":\"target_interval=400.0<br>trial_number=%{x}<br>reproduced_interval=%{y}<extra></extra>\",\"legendgroup\":\"400.0\",\"line\":{\"color\":\"#19d3f3\",\"dash\":\"solid\"},\"marker\":{\"symbol\":\"circle\"},\"mode\":\"lines\",\"name\":\"400.0\",\"orientation\":\"v\",\"showlegend\":true,\"x\":[6,10,16,25,32,46,55,80,87,94],\"xaxis\":\"x\",\"y\":[322.0,405.0,455.0,362.0,474.0,332.0,427.0,484.0,481.0,560.0],\"yaxis\":\"y\",\"type\":\"scatter\"},{\"hovertemplate\":\"target_interval=500.0<br>trial_number=%{x}<br>reproduced_interval=%{y}<extra></extra>\",\"legendgroup\":\"500.0\",\"line\":{\"color\":\"#FF6692\",\"dash\":\"solid\"},\"marker\":{\"symbol\":\"circle\"},\"mode\":\"lines\",\"name\":\"500.0\",\"orientation\":\"v\",\"showlegend\":true,\"x\":[7,8,9,11,30,40,41,43,44,50,53,54,59,60,66,71,76,78,81,95],\"xaxis\":\"x\",\"y\":[504.0,516.0,457.0,405.0,453.0,527.0,498.0,503.0,456.0,464.0,449.0,483.0,556.0,560.0,561.0,436.0,608.0,392.0,493.0,627.0],\"yaxis\":\"y\",\"type\":\"scatter\"},{\"hovertemplate\":\"target_interval=600.0<br>trial_number=%{x}<br>reproduced_interval=%{y}<extra></extra>\",\"legendgroup\":\"600.0\",\"line\":{\"color\":\"#B6E880\",\"dash\":\"solid\"},\"marker\":{\"symbol\":\"circle\"},\"mode\":\"lines\",\"name\":\"600.0\",\"orientation\":\"v\",\"showlegend\":true,\"x\":[17,20,22,35,48,49,61,64,65,68,75,96,219,243,246,266,268,273,279,286,289],\"xaxis\":\"x\",\"y\":[501.0,539.0,647.0,628.0,626.0,574.0,508.0,651.0,673.0,641.0,743.0,735.0,638.0,623.0,462.0,468.0,763.0,778.0,661.0,599.0,661.0],\"yaxis\":\"y\",\"type\":\"scatter\"},{\"hovertemplate\":\"target_interval=1400.0<br>trial_number=%{x}<br>reproduced_interval=%{y}<extra></extra>\",\"legendgroup\":\"1400.0\",\"line\":{\"color\":\"#FF97FF\",\"dash\":\"solid\"},\"marker\":{\"symbol\":\"circle\"},\"mode\":\"lines\",\"name\":\"1400.0\",\"orientation\":\"v\",\"showlegend\":true,\"x\":[100,106,113,116,119,126,135,137,154,158,172,175],\"xaxis\":\"x\",\"y\":[1234.0,1411.0,1599.0,1390.0,1519.0,1490.0,1421.0,1310.0,1582.0,1500.0,1491.0,1350.0],\"yaxis\":\"y\",\"type\":\"scatter\"},{\"hovertemplate\":\"target_interval=1200.0<br>trial_number=%{x}<br>reproduced_interval=%{y}<extra></extra>\",\"legendgroup\":\"1200.0\",\"line\":{\"color\":\"#FECB52\",\"dash\":\"solid\"},\"marker\":{\"symbol\":\"circle\"},\"mode\":\"lines\",\"name\":\"1200.0\",\"orientation\":\"v\",\"showlegend\":true,\"x\":[101,115,120,127,132,138,148,159,164,174,178,199,201,229,232,236,238,242,256,257,258,270,296],\"xaxis\":\"x\",\"y\":[1287.0,1126.0,1248.0,1109.0,1296.0,1477.0,1171.0,1407.0,1389.0,1344.0,1450.0,1247.0,1228.0,1156.0,1422.0,1072.0,1120.0,1234.0,1330.0,1348.0,1346.0,1342.0,1113.0],\"yaxis\":\"y\",\"type\":\"scatter\"},{\"hovertemplate\":\"target_interval=1100.0<br>trial_number=%{x}<br>reproduced_interval=%{y}<extra></extra>\",\"legendgroup\":\"1100.0\",\"line\":{\"color\":\"#636efa\",\"dash\":\"solid\"},\"marker\":{\"symbol\":\"circle\"},\"mode\":\"lines\",\"name\":\"1100.0\",\"orientation\":\"v\",\"showlegend\":true,\"x\":[102,104,140,142,187,189,198,206,209,211,216,217,220,231,237,239,241,244,247,253,269,280,299],\"xaxis\":\"x\",\"y\":[1216.0,1273.0,1160.0,1373.0,1138.0,1020.0,1299.0,1273.0,1071.0,1263.0,1269.0,1261.0,1163.0,1189.0,1196.0,1148.0,1121.0,1206.0,1247.0,1370.0,1301.0,1323.0,1120.0],\"yaxis\":\"y\",\"type\":\"scatter\"},{\"hovertemplate\":\"target_interval=1300.0<br>trial_number=%{x}<br>reproduced_interval=%{y}<extra></extra>\",\"legendgroup\":\"1300.0\",\"line\":{\"color\":\"#EF553B\",\"dash\":\"solid\"},\"marker\":{\"symbol\":\"circle\"},\"mode\":\"lines\",\"name\":\"1300.0\",\"orientation\":\"v\",\"showlegend\":true,\"x\":[103,121,124,133,134,147,149,168,171,176,188,192,193,200,250,260,272,275,283,287,297,298],\"xaxis\":\"x\",\"y\":[1237.0,1422.0,1476.0,1291.0,1377.0,1351.0,1295.0,1451.0,1510.0,1358.0,1059.0,1563.0,1374.0,1042.0,1193.0,1530.0,1418.0,1211.0,1373.0,1345.0,1582.0,1476.0],\"yaxis\":\"y\",\"type\":\"scatter\"},{\"hovertemplate\":\"target_interval=1500.0<br>trial_number=%{x}<br>reproduced_interval=%{y}<extra></extra>\",\"legendgroup\":\"1500.0\",\"line\":{\"color\":\"#00cc96\",\"dash\":\"solid\"},\"marker\":{\"symbol\":\"circle\"},\"mode\":\"lines\",\"name\":\"1500.0\",\"orientation\":\"v\",\"showlegend\":true,\"x\":[105,123,129,151,155,156,167,179,181,183,190,194,195],\"xaxis\":\"x\",\"y\":[1562.0,1498.0,1672.0,1536.0,1484.0,1447.0,1613.0,1461.0,1567.0,1594.0,1596.0,1417.0,1512.0],\"yaxis\":\"y\",\"type\":\"scatter\"},{\"hovertemplate\":\"target_interval=1000.0<br>trial_number=%{x}<br>reproduced_interval=%{y}<extra></extra>\",\"legendgroup\":\"1000.0\",\"line\":{\"color\":\"#ab63fa\",\"dash\":\"solid\"},\"marker\":{\"symbol\":\"circle\"},\"mode\":\"lines\",\"name\":\"1000.0\",\"orientation\":\"v\",\"showlegend\":true,\"x\":[107,118,131,141,143,144,157,160,162,182,185,204,212,226,233,240,245,249,261,263,271,293],\"xaxis\":\"x\",\"y\":[1017.0,885.0,1146.0,1098.0,1213.0,1277.0,1188.0,1021.0,949.0,731.0,1186.0,1023.0,1242.0,1191.0,921.0,949.0,1151.0,1156.0,1257.0,1044.0,1018.0,1084.0],\"yaxis\":\"y\",\"type\":\"scatter\"},{\"hovertemplate\":\"target_interval=1700.0<br>trial_number=%{x}<br>reproduced_interval=%{y}<extra></extra>\",\"legendgroup\":\"1700.0\",\"line\":{\"color\":\"#FFA15A\",\"dash\":\"solid\"},\"marker\":{\"symbol\":\"circle\"},\"mode\":\"lines\",\"name\":\"1700.0\",\"orientation\":\"v\",\"showlegend\":true,\"x\":[108,109,110,125,130,136,146,150,161,165,170,196,197],\"xaxis\":\"x\",\"y\":[1688.0,1874.0,1892.0,1648.0,1757.0,1669.0,1542.0,1590.0,1792.0,1875.0,1860.0,1711.0,1695.0],\"yaxis\":\"y\",\"type\":\"scatter\"},{\"hovertemplate\":\"target_interval=1600.0<br>trial_number=%{x}<br>reproduced_interval=%{y}<extra></extra>\",\"legendgroup\":\"1600.0\",\"line\":{\"color\":\"#19d3f3\",\"dash\":\"solid\"},\"marker\":{\"symbol\":\"circle\"},\"mode\":\"lines\",\"name\":\"1600.0\",\"orientation\":\"v\",\"showlegend\":true,\"x\":[114,117,145,152,153,163,169,177,180,184],\"xaxis\":\"x\",\"y\":[1727.0,1410.0,1508.0,1446.0,1616.0,1653.0,1865.0,1600.0,1606.0,1843.0],\"yaxis\":\"y\",\"type\":\"scatter\"}],                        {\"template\":{\"data\":{\"histogram2dcontour\":[{\"type\":\"histogram2dcontour\",\"colorbar\":{\"outlinewidth\":0,\"ticks\":\"\"},\"colorscale\":[[0.0,\"#0d0887\"],[0.1111111111111111,\"#46039f\"],[0.2222222222222222,\"#7201a8\"],[0.3333333333333333,\"#9c179e\"],[0.4444444444444444,\"#bd3786\"],[0.5555555555555556,\"#d8576b\"],[0.6666666666666666,\"#ed7953\"],[0.7777777777777778,\"#fb9f3a\"],[0.8888888888888888,\"#fdca26\"],[1.0,\"#f0f921\"]]}],\"choropleth\":[{\"type\":\"choropleth\",\"colorbar\":{\"outlinewidth\":0,\"ticks\":\"\"}}],\"histogram2d\":[{\"type\":\"histogram2d\",\"colorbar\":{\"outlinewidth\":0,\"ticks\":\"\"},\"colorscale\":[[0.0,\"#0d0887\"],[0.1111111111111111,\"#46039f\"],[0.2222222222222222,\"#7201a8\"],[0.3333333333333333,\"#9c179e\"],[0.4444444444444444,\"#bd3786\"],[0.5555555555555556,\"#d8576b\"],[0.6666666666666666,\"#ed7953\"],[0.7777777777777778,\"#fb9f3a\"],[0.8888888888888888,\"#fdca26\"],[1.0,\"#f0f921\"]]}],\"heatmap\":[{\"type\":\"heatmap\",\"colorbar\":{\"outlinewidth\":0,\"ticks\":\"\"},\"colorscale\":[[0.0,\"#0d0887\"],[0.1111111111111111,\"#46039f\"],[0.2222222222222222,\"#7201a8\"],[0.3333333333333333,\"#9c179e\"],[0.4444444444444444,\"#bd3786\"],[0.5555555555555556,\"#d8576b\"],[0.6666666666666666,\"#ed7953\"],[0.7777777777777778,\"#fb9f3a\"],[0.8888888888888888,\"#fdca26\"],[1.0,\"#f0f921\"]]}],\"heatmapgl\":[{\"type\":\"heatmapgl\",\"colorbar\":{\"outlinewidth\":0,\"ticks\":\"\"},\"colorscale\":[[0.0,\"#0d0887\"],[0.1111111111111111,\"#46039f\"],[0.2222222222222222,\"#7201a8\"],[0.3333333333333333,\"#9c179e\"],[0.4444444444444444,\"#bd3786\"],[0.5555555555555556,\"#d8576b\"],[0.6666666666666666,\"#ed7953\"],[0.7777777777777778,\"#fb9f3a\"],[0.8888888888888888,\"#fdca26\"],[1.0,\"#f0f921\"]]}],\"contourcarpet\":[{\"type\":\"contourcarpet\",\"colorbar\":{\"outlinewidth\":0,\"ticks\":\"\"}}],\"contour\":[{\"type\":\"contour\",\"colorbar\":{\"outlinewidth\":0,\"ticks\":\"\"},\"colorscale\":[[0.0,\"#0d0887\"],[0.1111111111111111,\"#46039f\"],[0.2222222222222222,\"#7201a8\"],[0.3333333333333333,\"#9c179e\"],[0.4444444444444444,\"#bd3786\"],[0.5555555555555556,\"#d8576b\"],[0.6666666666666666,\"#ed7953\"],[0.7777777777777778,\"#fb9f3a\"],[0.8888888888888888,\"#fdca26\"],[1.0,\"#f0f921\"]]}],\"surface\":[{\"type\":\"surface\",\"colorbar\":{\"outlinewidth\":0,\"ticks\":\"\"},\"colorscale\":[[0.0,\"#0d0887\"],[0.1111111111111111,\"#46039f\"],[0.2222222222222222,\"#7201a8\"],[0.3333333333333333,\"#9c179e\"],[0.4444444444444444,\"#bd3786\"],[0.5555555555555556,\"#d8576b\"],[0.6666666666666666,\"#ed7953\"],[0.7777777777777778,\"#fb9f3a\"],[0.8888888888888888,\"#fdca26\"],[1.0,\"#f0f921\"]]}],\"mesh3d\":[{\"type\":\"mesh3d\",\"colorbar\":{\"outlinewidth\":0,\"ticks\":\"\"}}],\"scatter\":[{\"fillpattern\":{\"fillmode\":\"overlay\",\"size\":10,\"solidity\":0.2},\"type\":\"scatter\"}],\"parcoords\":[{\"type\":\"parcoords\",\"line\":{\"colorbar\":{\"outlinewidth\":0,\"ticks\":\"\"}}}],\"scatterpolargl\":[{\"type\":\"scatterpolargl\",\"marker\":{\"colorbar\":{\"outlinewidth\":0,\"ticks\":\"\"}}}],\"bar\":[{\"error_x\":{\"color\":\"#2a3f5f\"},\"error_y\":{\"color\":\"#2a3f5f\"},\"marker\":{\"line\":{\"color\":\"#E5ECF6\",\"width\":0.5},\"pattern\":{\"fillmode\":\"overlay\",\"size\":10,\"solidity\":0.2}},\"type\":\"bar\"}],\"scattergeo\":[{\"type\":\"scattergeo\",\"marker\":{\"colorbar\":{\"outlinewidth\":0,\"ticks\":\"\"}}}],\"scatterpolar\":[{\"type\":\"scatterpolar\",\"marker\":{\"colorbar\":{\"outlinewidth\":0,\"ticks\":\"\"}}}],\"histogram\":[{\"marker\":{\"pattern\":{\"fillmode\":\"overlay\",\"size\":10,\"solidity\":0.2}},\"type\":\"histogram\"}],\"scattergl\":[{\"type\":\"scattergl\",\"marker\":{\"colorbar\":{\"outlinewidth\":0,\"ticks\":\"\"}}}],\"scatter3d\":[{\"type\":\"scatter3d\",\"line\":{\"colorbar\":{\"outlinewidth\":0,\"ticks\":\"\"}},\"marker\":{\"colorbar\":{\"outlinewidth\":0,\"ticks\":\"\"}}}],\"scattermapbox\":[{\"type\":\"scattermapbox\",\"marker\":{\"colorbar\":{\"outlinewidth\":0,\"ticks\":\"\"}}}],\"scatterternary\":[{\"type\":\"scatterternary\",\"marker\":{\"colorbar\":{\"outlinewidth\":0,\"ticks\":\"\"}}}],\"scattercarpet\":[{\"type\":\"scattercarpet\",\"marker\":{\"colorbar\":{\"outlinewidth\":0,\"ticks\":\"\"}}}],\"carpet\":[{\"aaxis\":{\"endlinecolor\":\"#2a3f5f\",\"gridcolor\":\"white\",\"linecolor\":\"white\",\"minorgridcolor\":\"white\",\"startlinecolor\":\"#2a3f5f\"},\"baxis\":{\"endlinecolor\":\"#2a3f5f\",\"gridcolor\":\"white\",\"linecolor\":\"white\",\"minorgridcolor\":\"white\",\"startlinecolor\":\"#2a3f5f\"},\"type\":\"carpet\"}],\"table\":[{\"cells\":{\"fill\":{\"color\":\"#EBF0F8\"},\"line\":{\"color\":\"white\"}},\"header\":{\"fill\":{\"color\":\"#C8D4E3\"},\"line\":{\"color\":\"white\"}},\"type\":\"table\"}],\"barpolar\":[{\"marker\":{\"line\":{\"color\":\"#E5ECF6\",\"width\":0.5},\"pattern\":{\"fillmode\":\"overlay\",\"size\":10,\"solidity\":0.2}},\"type\":\"barpolar\"}],\"pie\":[{\"automargin\":true,\"type\":\"pie\"}]},\"layout\":{\"autotypenumbers\":\"strict\",\"colorway\":[\"#636efa\",\"#EF553B\",\"#00cc96\",\"#ab63fa\",\"#FFA15A\",\"#19d3f3\",\"#FF6692\",\"#B6E880\",\"#FF97FF\",\"#FECB52\"],\"font\":{\"color\":\"#2a3f5f\"},\"hovermode\":\"closest\",\"hoverlabel\":{\"align\":\"left\"},\"paper_bgcolor\":\"white\",\"plot_bgcolor\":\"#E5ECF6\",\"polar\":{\"bgcolor\":\"#E5ECF6\",\"angularaxis\":{\"gridcolor\":\"white\",\"linecolor\":\"white\",\"ticks\":\"\"},\"radialaxis\":{\"gridcolor\":\"white\",\"linecolor\":\"white\",\"ticks\":\"\"}},\"ternary\":{\"bgcolor\":\"#E5ECF6\",\"aaxis\":{\"gridcolor\":\"white\",\"linecolor\":\"white\",\"ticks\":\"\"},\"baxis\":{\"gridcolor\":\"white\",\"linecolor\":\"white\",\"ticks\":\"\"},\"caxis\":{\"gridcolor\":\"white\",\"linecolor\":\"white\",\"ticks\":\"\"}},\"coloraxis\":{\"colorbar\":{\"outlinewidth\":0,\"ticks\":\"\"}},\"colorscale\":{\"sequential\":[[0.0,\"#0d0887\"],[0.1111111111111111,\"#46039f\"],[0.2222222222222222,\"#7201a8\"],[0.3333333333333333,\"#9c179e\"],[0.4444444444444444,\"#bd3786\"],[0.5555555555555556,\"#d8576b\"],[0.6666666666666666,\"#ed7953\"],[0.7777777777777778,\"#fb9f3a\"],[0.8888888888888888,\"#fdca26\"],[1.0,\"#f0f921\"]],\"sequentialminus\":[[0.0,\"#0d0887\"],[0.1111111111111111,\"#46039f\"],[0.2222222222222222,\"#7201a8\"],[0.3333333333333333,\"#9c179e\"],[0.4444444444444444,\"#bd3786\"],[0.5555555555555556,\"#d8576b\"],[0.6666666666666666,\"#ed7953\"],[0.7777777777777778,\"#fb9f3a\"],[0.8888888888888888,\"#fdca26\"],[1.0,\"#f0f921\"]],\"diverging\":[[0,\"#8e0152\"],[0.1,\"#c51b7d\"],[0.2,\"#de77ae\"],[0.3,\"#f1b6da\"],[0.4,\"#fde0ef\"],[0.5,\"#f7f7f7\"],[0.6,\"#e6f5d0\"],[0.7,\"#b8e186\"],[0.8,\"#7fbc41\"],[0.9,\"#4d9221\"],[1,\"#276419\"]]},\"xaxis\":{\"gridcolor\":\"white\",\"linecolor\":\"white\",\"ticks\":\"\",\"title\":{\"standoff\":15},\"zerolinecolor\":\"white\",\"automargin\":true,\"zerolinewidth\":2},\"yaxis\":{\"gridcolor\":\"white\",\"linecolor\":\"white\",\"ticks\":\"\",\"title\":{\"standoff\":15},\"zerolinecolor\":\"white\",\"automargin\":true,\"zerolinewidth\":2},\"scene\":{\"xaxis\":{\"backgroundcolor\":\"#E5ECF6\",\"gridcolor\":\"white\",\"linecolor\":\"white\",\"showbackground\":true,\"ticks\":\"\",\"zerolinecolor\":\"white\",\"gridwidth\":2},\"yaxis\":{\"backgroundcolor\":\"#E5ECF6\",\"gridcolor\":\"white\",\"linecolor\":\"white\",\"showbackground\":true,\"ticks\":\"\",\"zerolinecolor\":\"white\",\"gridwidth\":2},\"zaxis\":{\"backgroundcolor\":\"#E5ECF6\",\"gridcolor\":\"white\",\"linecolor\":\"white\",\"showbackground\":true,\"ticks\":\"\",\"zerolinecolor\":\"white\",\"gridwidth\":2}},\"shapedefaults\":{\"line\":{\"color\":\"#2a3f5f\"}},\"annotationdefaults\":{\"arrowcolor\":\"#2a3f5f\",\"arrowhead\":0,\"arrowwidth\":1},\"geo\":{\"bgcolor\":\"white\",\"landcolor\":\"#E5ECF6\",\"subunitcolor\":\"white\",\"showland\":true,\"showlakes\":true,\"lakecolor\":\"white\"},\"title\":{\"x\":0.05},\"mapbox\":{\"style\":\"light\"}}},\"xaxis\":{\"anchor\":\"y\",\"domain\":[0.0,1.0],\"title\":{\"text\":\"trial_number\"}},\"yaxis\":{\"anchor\":\"x\",\"domain\":[0.0,1.0],\"title\":{\"text\":\"reproduced_interval\"}},\"legend\":{\"title\":{\"text\":\"target_interval\"},\"tracegroupgap\":0},\"title\":{\"text\":\"Reproduced Interval Across Trials\"}},                        {\"responsive\": true}                    ).then(function(){\n",
       "                            \n",
       "var gd = document.getElementById('5defa77a-329f-446d-a12e-1ff01d6d05ca');\n",
       "var x = new MutationObserver(function (mutations, observer) {{\n",
       "        var display = window.getComputedStyle(gd).display;\n",
       "        if (!display || display === 'none') {{\n",
       "            console.log([gd, 'removed!']);\n",
       "            Plotly.purge(gd);\n",
       "            observer.disconnect();\n",
       "        }}\n",
       "}});\n",
       "\n",
       "// Listen for the removal of the full notebook cells\n",
       "var notebookContainer = gd.closest('#notebook-container');\n",
       "if (notebookContainer) {{\n",
       "    x.observe(notebookContainer, {childList: true});\n",
       "}}\n",
       "\n",
       "// Listen for the clearing of the current output cell\n",
       "var outputEl = gd.closest('.output');\n",
       "if (outputEl) {{\n",
       "    x.observe(outputEl, {childList: true});\n",
       "}}\n",
       "\n",
       "                        })                };                });            </script>        </div>"
      ]
     },
     "metadata": {},
     "output_type": "display_data"
    },
    {
     "data": {
      "application/vnd.plotly.v1+json": {
       "config": {
        "plotlyServerURL": "https://plot.ly"
       },
       "data": [
        {
         "alignmentgroup": "True",
         "hovertemplate": "Lag=%{x}<br>Autocorrelation=%{y}<extra></extra>",
         "legendgroup": "",
         "marker": {
          "color": "#636efa",
          "pattern": {
           "shape": ""
          }
         },
         "name": "",
         "offsetgroup": "",
         "orientation": "v",
         "showlegend": false,
         "textposition": "auto",
         "type": "bar",
         "x": [
          1,
          2,
          3,
          4,
          5,
          6,
          7,
          8,
          9
         ],
         "xaxis": "x",
         "y": [
          0.27959335430946153,
          0.16191311247758167,
          0.1328238576672664,
          0.10902228293318315,
          0.18935577685478888,
          0.20776882628457213,
          0.207698056485326,
          0.1459494244788624,
          0.08390176587832975
         ],
         "yaxis": "y"
        }
       ],
       "layout": {
        "barmode": "relative",
        "legend": {
         "tracegroupgap": 0
        },
        "template": {
         "data": {
          "bar": [
           {
            "error_x": {
             "color": "#2a3f5f"
            },
            "error_y": {
             "color": "#2a3f5f"
            },
            "marker": {
             "line": {
              "color": "#E5ECF6",
              "width": 0.5
             },
             "pattern": {
              "fillmode": "overlay",
              "size": 10,
              "solidity": 0.2
             }
            },
            "type": "bar"
           }
          ],
          "barpolar": [
           {
            "marker": {
             "line": {
              "color": "#E5ECF6",
              "width": 0.5
             },
             "pattern": {
              "fillmode": "overlay",
              "size": 10,
              "solidity": 0.2
             }
            },
            "type": "barpolar"
           }
          ],
          "carpet": [
           {
            "aaxis": {
             "endlinecolor": "#2a3f5f",
             "gridcolor": "white",
             "linecolor": "white",
             "minorgridcolor": "white",
             "startlinecolor": "#2a3f5f"
            },
            "baxis": {
             "endlinecolor": "#2a3f5f",
             "gridcolor": "white",
             "linecolor": "white",
             "minorgridcolor": "white",
             "startlinecolor": "#2a3f5f"
            },
            "type": "carpet"
           }
          ],
          "choropleth": [
           {
            "colorbar": {
             "outlinewidth": 0,
             "ticks": ""
            },
            "type": "choropleth"
           }
          ],
          "contour": [
           {
            "colorbar": {
             "outlinewidth": 0,
             "ticks": ""
            },
            "colorscale": [
             [
              0,
              "#0d0887"
             ],
             [
              0.1111111111111111,
              "#46039f"
             ],
             [
              0.2222222222222222,
              "#7201a8"
             ],
             [
              0.3333333333333333,
              "#9c179e"
             ],
             [
              0.4444444444444444,
              "#bd3786"
             ],
             [
              0.5555555555555556,
              "#d8576b"
             ],
             [
              0.6666666666666666,
              "#ed7953"
             ],
             [
              0.7777777777777778,
              "#fb9f3a"
             ],
             [
              0.8888888888888888,
              "#fdca26"
             ],
             [
              1,
              "#f0f921"
             ]
            ],
            "type": "contour"
           }
          ],
          "contourcarpet": [
           {
            "colorbar": {
             "outlinewidth": 0,
             "ticks": ""
            },
            "type": "contourcarpet"
           }
          ],
          "heatmap": [
           {
            "colorbar": {
             "outlinewidth": 0,
             "ticks": ""
            },
            "colorscale": [
             [
              0,
              "#0d0887"
             ],
             [
              0.1111111111111111,
              "#46039f"
             ],
             [
              0.2222222222222222,
              "#7201a8"
             ],
             [
              0.3333333333333333,
              "#9c179e"
             ],
             [
              0.4444444444444444,
              "#bd3786"
             ],
             [
              0.5555555555555556,
              "#d8576b"
             ],
             [
              0.6666666666666666,
              "#ed7953"
             ],
             [
              0.7777777777777778,
              "#fb9f3a"
             ],
             [
              0.8888888888888888,
              "#fdca26"
             ],
             [
              1,
              "#f0f921"
             ]
            ],
            "type": "heatmap"
           }
          ],
          "heatmapgl": [
           {
            "colorbar": {
             "outlinewidth": 0,
             "ticks": ""
            },
            "colorscale": [
             [
              0,
              "#0d0887"
             ],
             [
              0.1111111111111111,
              "#46039f"
             ],
             [
              0.2222222222222222,
              "#7201a8"
             ],
             [
              0.3333333333333333,
              "#9c179e"
             ],
             [
              0.4444444444444444,
              "#bd3786"
             ],
             [
              0.5555555555555556,
              "#d8576b"
             ],
             [
              0.6666666666666666,
              "#ed7953"
             ],
             [
              0.7777777777777778,
              "#fb9f3a"
             ],
             [
              0.8888888888888888,
              "#fdca26"
             ],
             [
              1,
              "#f0f921"
             ]
            ],
            "type": "heatmapgl"
           }
          ],
          "histogram": [
           {
            "marker": {
             "pattern": {
              "fillmode": "overlay",
              "size": 10,
              "solidity": 0.2
             }
            },
            "type": "histogram"
           }
          ],
          "histogram2d": [
           {
            "colorbar": {
             "outlinewidth": 0,
             "ticks": ""
            },
            "colorscale": [
             [
              0,
              "#0d0887"
             ],
             [
              0.1111111111111111,
              "#46039f"
             ],
             [
              0.2222222222222222,
              "#7201a8"
             ],
             [
              0.3333333333333333,
              "#9c179e"
             ],
             [
              0.4444444444444444,
              "#bd3786"
             ],
             [
              0.5555555555555556,
              "#d8576b"
             ],
             [
              0.6666666666666666,
              "#ed7953"
             ],
             [
              0.7777777777777778,
              "#fb9f3a"
             ],
             [
              0.8888888888888888,
              "#fdca26"
             ],
             [
              1,
              "#f0f921"
             ]
            ],
            "type": "histogram2d"
           }
          ],
          "histogram2dcontour": [
           {
            "colorbar": {
             "outlinewidth": 0,
             "ticks": ""
            },
            "colorscale": [
             [
              0,
              "#0d0887"
             ],
             [
              0.1111111111111111,
              "#46039f"
             ],
             [
              0.2222222222222222,
              "#7201a8"
             ],
             [
              0.3333333333333333,
              "#9c179e"
             ],
             [
              0.4444444444444444,
              "#bd3786"
             ],
             [
              0.5555555555555556,
              "#d8576b"
             ],
             [
              0.6666666666666666,
              "#ed7953"
             ],
             [
              0.7777777777777778,
              "#fb9f3a"
             ],
             [
              0.8888888888888888,
              "#fdca26"
             ],
             [
              1,
              "#f0f921"
             ]
            ],
            "type": "histogram2dcontour"
           }
          ],
          "mesh3d": [
           {
            "colorbar": {
             "outlinewidth": 0,
             "ticks": ""
            },
            "type": "mesh3d"
           }
          ],
          "parcoords": [
           {
            "line": {
             "colorbar": {
              "outlinewidth": 0,
              "ticks": ""
             }
            },
            "type": "parcoords"
           }
          ],
          "pie": [
           {
            "automargin": true,
            "type": "pie"
           }
          ],
          "scatter": [
           {
            "fillpattern": {
             "fillmode": "overlay",
             "size": 10,
             "solidity": 0.2
            },
            "type": "scatter"
           }
          ],
          "scatter3d": [
           {
            "line": {
             "colorbar": {
              "outlinewidth": 0,
              "ticks": ""
             }
            },
            "marker": {
             "colorbar": {
              "outlinewidth": 0,
              "ticks": ""
             }
            },
            "type": "scatter3d"
           }
          ],
          "scattercarpet": [
           {
            "marker": {
             "colorbar": {
              "outlinewidth": 0,
              "ticks": ""
             }
            },
            "type": "scattercarpet"
           }
          ],
          "scattergeo": [
           {
            "marker": {
             "colorbar": {
              "outlinewidth": 0,
              "ticks": ""
             }
            },
            "type": "scattergeo"
           }
          ],
          "scattergl": [
           {
            "marker": {
             "colorbar": {
              "outlinewidth": 0,
              "ticks": ""
             }
            },
            "type": "scattergl"
           }
          ],
          "scattermapbox": [
           {
            "marker": {
             "colorbar": {
              "outlinewidth": 0,
              "ticks": ""
             }
            },
            "type": "scattermapbox"
           }
          ],
          "scatterpolar": [
           {
            "marker": {
             "colorbar": {
              "outlinewidth": 0,
              "ticks": ""
             }
            },
            "type": "scatterpolar"
           }
          ],
          "scatterpolargl": [
           {
            "marker": {
             "colorbar": {
              "outlinewidth": 0,
              "ticks": ""
             }
            },
            "type": "scatterpolargl"
           }
          ],
          "scatterternary": [
           {
            "marker": {
             "colorbar": {
              "outlinewidth": 0,
              "ticks": ""
             }
            },
            "type": "scatterternary"
           }
          ],
          "surface": [
           {
            "colorbar": {
             "outlinewidth": 0,
             "ticks": ""
            },
            "colorscale": [
             [
              0,
              "#0d0887"
             ],
             [
              0.1111111111111111,
              "#46039f"
             ],
             [
              0.2222222222222222,
              "#7201a8"
             ],
             [
              0.3333333333333333,
              "#9c179e"
             ],
             [
              0.4444444444444444,
              "#bd3786"
             ],
             [
              0.5555555555555556,
              "#d8576b"
             ],
             [
              0.6666666666666666,
              "#ed7953"
             ],
             [
              0.7777777777777778,
              "#fb9f3a"
             ],
             [
              0.8888888888888888,
              "#fdca26"
             ],
             [
              1,
              "#f0f921"
             ]
            ],
            "type": "surface"
           }
          ],
          "table": [
           {
            "cells": {
             "fill": {
              "color": "#EBF0F8"
             },
             "line": {
              "color": "white"
             }
            },
            "header": {
             "fill": {
              "color": "#C8D4E3"
             },
             "line": {
              "color": "white"
             }
            },
            "type": "table"
           }
          ]
         },
         "layout": {
          "annotationdefaults": {
           "arrowcolor": "#2a3f5f",
           "arrowhead": 0,
           "arrowwidth": 1
          },
          "autotypenumbers": "strict",
          "coloraxis": {
           "colorbar": {
            "outlinewidth": 0,
            "ticks": ""
           }
          },
          "colorscale": {
           "diverging": [
            [
             0,
             "#8e0152"
            ],
            [
             0.1,
             "#c51b7d"
            ],
            [
             0.2,
             "#de77ae"
            ],
            [
             0.3,
             "#f1b6da"
            ],
            [
             0.4,
             "#fde0ef"
            ],
            [
             0.5,
             "#f7f7f7"
            ],
            [
             0.6,
             "#e6f5d0"
            ],
            [
             0.7,
             "#b8e186"
            ],
            [
             0.8,
             "#7fbc41"
            ],
            [
             0.9,
             "#4d9221"
            ],
            [
             1,
             "#276419"
            ]
           ],
           "sequential": [
            [
             0,
             "#0d0887"
            ],
            [
             0.1111111111111111,
             "#46039f"
            ],
            [
             0.2222222222222222,
             "#7201a8"
            ],
            [
             0.3333333333333333,
             "#9c179e"
            ],
            [
             0.4444444444444444,
             "#bd3786"
            ],
            [
             0.5555555555555556,
             "#d8576b"
            ],
            [
             0.6666666666666666,
             "#ed7953"
            ],
            [
             0.7777777777777778,
             "#fb9f3a"
            ],
            [
             0.8888888888888888,
             "#fdca26"
            ],
            [
             1,
             "#f0f921"
            ]
           ],
           "sequentialminus": [
            [
             0,
             "#0d0887"
            ],
            [
             0.1111111111111111,
             "#46039f"
            ],
            [
             0.2222222222222222,
             "#7201a8"
            ],
            [
             0.3333333333333333,
             "#9c179e"
            ],
            [
             0.4444444444444444,
             "#bd3786"
            ],
            [
             0.5555555555555556,
             "#d8576b"
            ],
            [
             0.6666666666666666,
             "#ed7953"
            ],
            [
             0.7777777777777778,
             "#fb9f3a"
            ],
            [
             0.8888888888888888,
             "#fdca26"
            ],
            [
             1,
             "#f0f921"
            ]
           ]
          },
          "colorway": [
           "#636efa",
           "#EF553B",
           "#00cc96",
           "#ab63fa",
           "#FFA15A",
           "#19d3f3",
           "#FF6692",
           "#B6E880",
           "#FF97FF",
           "#FECB52"
          ],
          "font": {
           "color": "#2a3f5f"
          },
          "geo": {
           "bgcolor": "white",
           "lakecolor": "white",
           "landcolor": "#E5ECF6",
           "showlakes": true,
           "showland": true,
           "subunitcolor": "white"
          },
          "hoverlabel": {
           "align": "left"
          },
          "hovermode": "closest",
          "mapbox": {
           "style": "light"
          },
          "paper_bgcolor": "white",
          "plot_bgcolor": "#E5ECF6",
          "polar": {
           "angularaxis": {
            "gridcolor": "white",
            "linecolor": "white",
            "ticks": ""
           },
           "bgcolor": "#E5ECF6",
           "radialaxis": {
            "gridcolor": "white",
            "linecolor": "white",
            "ticks": ""
           }
          },
          "scene": {
           "xaxis": {
            "backgroundcolor": "#E5ECF6",
            "gridcolor": "white",
            "gridwidth": 2,
            "linecolor": "white",
            "showbackground": true,
            "ticks": "",
            "zerolinecolor": "white"
           },
           "yaxis": {
            "backgroundcolor": "#E5ECF6",
            "gridcolor": "white",
            "gridwidth": 2,
            "linecolor": "white",
            "showbackground": true,
            "ticks": "",
            "zerolinecolor": "white"
           },
           "zaxis": {
            "backgroundcolor": "#E5ECF6",
            "gridcolor": "white",
            "gridwidth": 2,
            "linecolor": "white",
            "showbackground": true,
            "ticks": "",
            "zerolinecolor": "white"
           }
          },
          "shapedefaults": {
           "line": {
            "color": "#2a3f5f"
           }
          },
          "ternary": {
           "aaxis": {
            "gridcolor": "white",
            "linecolor": "white",
            "ticks": ""
           },
           "baxis": {
            "gridcolor": "white",
            "linecolor": "white",
            "ticks": ""
           },
           "bgcolor": "#E5ECF6",
           "caxis": {
            "gridcolor": "white",
            "linecolor": "white",
            "ticks": ""
           }
          },
          "title": {
           "x": 0.05
          },
          "xaxis": {
           "automargin": true,
           "gridcolor": "white",
           "linecolor": "white",
           "ticks": "",
           "title": {
            "standoff": 15
           },
           "zerolinecolor": "white",
           "zerolinewidth": 2
          },
          "yaxis": {
           "automargin": true,
           "gridcolor": "white",
           "linecolor": "white",
           "ticks": "",
           "title": {
            "standoff": 15
           },
           "zerolinecolor": "white",
           "zerolinewidth": 2
          }
         }
        },
        "title": {
         "text": "Autocorrelation of Reproduction Error"
        },
        "xaxis": {
         "anchor": "y",
         "domain": [
          0,
          1
         ],
         "title": {
          "text": "Lag"
         }
        },
        "yaxis": {
         "anchor": "x",
         "domain": [
          0,
          1
         ],
         "title": {
          "text": "Autocorrelation"
         }
        }
       }
      },
      "text/html": [
       "<div>                            <div id=\"54c6f2c3-1539-4957-8c22-bff15093b90e\" class=\"plotly-graph-div\" style=\"height:525px; width:100%;\"></div>            <script type=\"text/javascript\">                require([\"plotly\"], function(Plotly) {                    window.PLOTLYENV=window.PLOTLYENV || {};                                    if (document.getElementById(\"54c6f2c3-1539-4957-8c22-bff15093b90e\")) {                    Plotly.newPlot(                        \"54c6f2c3-1539-4957-8c22-bff15093b90e\",                        [{\"alignmentgroup\":\"True\",\"hovertemplate\":\"Lag=%{x}<br>Autocorrelation=%{y}<extra></extra>\",\"legendgroup\":\"\",\"marker\":{\"color\":\"#636efa\",\"pattern\":{\"shape\":\"\"}},\"name\":\"\",\"offsetgroup\":\"\",\"orientation\":\"v\",\"showlegend\":false,\"textposition\":\"auto\",\"x\":[1,2,3,4,5,6,7,8,9],\"xaxis\":\"x\",\"y\":[0.27959335430946153,0.16191311247758167,0.1328238576672664,0.10902228293318315,0.18935577685478888,0.20776882628457213,0.207698056485326,0.1459494244788624,0.08390176587832975],\"yaxis\":\"y\",\"type\":\"bar\"}],                        {\"template\":{\"data\":{\"histogram2dcontour\":[{\"type\":\"histogram2dcontour\",\"colorbar\":{\"outlinewidth\":0,\"ticks\":\"\"},\"colorscale\":[[0.0,\"#0d0887\"],[0.1111111111111111,\"#46039f\"],[0.2222222222222222,\"#7201a8\"],[0.3333333333333333,\"#9c179e\"],[0.4444444444444444,\"#bd3786\"],[0.5555555555555556,\"#d8576b\"],[0.6666666666666666,\"#ed7953\"],[0.7777777777777778,\"#fb9f3a\"],[0.8888888888888888,\"#fdca26\"],[1.0,\"#f0f921\"]]}],\"choropleth\":[{\"type\":\"choropleth\",\"colorbar\":{\"outlinewidth\":0,\"ticks\":\"\"}}],\"histogram2d\":[{\"type\":\"histogram2d\",\"colorbar\":{\"outlinewidth\":0,\"ticks\":\"\"},\"colorscale\":[[0.0,\"#0d0887\"],[0.1111111111111111,\"#46039f\"],[0.2222222222222222,\"#7201a8\"],[0.3333333333333333,\"#9c179e\"],[0.4444444444444444,\"#bd3786\"],[0.5555555555555556,\"#d8576b\"],[0.6666666666666666,\"#ed7953\"],[0.7777777777777778,\"#fb9f3a\"],[0.8888888888888888,\"#fdca26\"],[1.0,\"#f0f921\"]]}],\"heatmap\":[{\"type\":\"heatmap\",\"colorbar\":{\"outlinewidth\":0,\"ticks\":\"\"},\"colorscale\":[[0.0,\"#0d0887\"],[0.1111111111111111,\"#46039f\"],[0.2222222222222222,\"#7201a8\"],[0.3333333333333333,\"#9c179e\"],[0.4444444444444444,\"#bd3786\"],[0.5555555555555556,\"#d8576b\"],[0.6666666666666666,\"#ed7953\"],[0.7777777777777778,\"#fb9f3a\"],[0.8888888888888888,\"#fdca26\"],[1.0,\"#f0f921\"]]}],\"heatmapgl\":[{\"type\":\"heatmapgl\",\"colorbar\":{\"outlinewidth\":0,\"ticks\":\"\"},\"colorscale\":[[0.0,\"#0d0887\"],[0.1111111111111111,\"#46039f\"],[0.2222222222222222,\"#7201a8\"],[0.3333333333333333,\"#9c179e\"],[0.4444444444444444,\"#bd3786\"],[0.5555555555555556,\"#d8576b\"],[0.6666666666666666,\"#ed7953\"],[0.7777777777777778,\"#fb9f3a\"],[0.8888888888888888,\"#fdca26\"],[1.0,\"#f0f921\"]]}],\"contourcarpet\":[{\"type\":\"contourcarpet\",\"colorbar\":{\"outlinewidth\":0,\"ticks\":\"\"}}],\"contour\":[{\"type\":\"contour\",\"colorbar\":{\"outlinewidth\":0,\"ticks\":\"\"},\"colorscale\":[[0.0,\"#0d0887\"],[0.1111111111111111,\"#46039f\"],[0.2222222222222222,\"#7201a8\"],[0.3333333333333333,\"#9c179e\"],[0.4444444444444444,\"#bd3786\"],[0.5555555555555556,\"#d8576b\"],[0.6666666666666666,\"#ed7953\"],[0.7777777777777778,\"#fb9f3a\"],[0.8888888888888888,\"#fdca26\"],[1.0,\"#f0f921\"]]}],\"surface\":[{\"type\":\"surface\",\"colorbar\":{\"outlinewidth\":0,\"ticks\":\"\"},\"colorscale\":[[0.0,\"#0d0887\"],[0.1111111111111111,\"#46039f\"],[0.2222222222222222,\"#7201a8\"],[0.3333333333333333,\"#9c179e\"],[0.4444444444444444,\"#bd3786\"],[0.5555555555555556,\"#d8576b\"],[0.6666666666666666,\"#ed7953\"],[0.7777777777777778,\"#fb9f3a\"],[0.8888888888888888,\"#fdca26\"],[1.0,\"#f0f921\"]]}],\"mesh3d\":[{\"type\":\"mesh3d\",\"colorbar\":{\"outlinewidth\":0,\"ticks\":\"\"}}],\"scatter\":[{\"fillpattern\":{\"fillmode\":\"overlay\",\"size\":10,\"solidity\":0.2},\"type\":\"scatter\"}],\"parcoords\":[{\"type\":\"parcoords\",\"line\":{\"colorbar\":{\"outlinewidth\":0,\"ticks\":\"\"}}}],\"scatterpolargl\":[{\"type\":\"scatterpolargl\",\"marker\":{\"colorbar\":{\"outlinewidth\":0,\"ticks\":\"\"}}}],\"bar\":[{\"error_x\":{\"color\":\"#2a3f5f\"},\"error_y\":{\"color\":\"#2a3f5f\"},\"marker\":{\"line\":{\"color\":\"#E5ECF6\",\"width\":0.5},\"pattern\":{\"fillmode\":\"overlay\",\"size\":10,\"solidity\":0.2}},\"type\":\"bar\"}],\"scattergeo\":[{\"type\":\"scattergeo\",\"marker\":{\"colorbar\":{\"outlinewidth\":0,\"ticks\":\"\"}}}],\"scatterpolar\":[{\"type\":\"scatterpolar\",\"marker\":{\"colorbar\":{\"outlinewidth\":0,\"ticks\":\"\"}}}],\"histogram\":[{\"marker\":{\"pattern\":{\"fillmode\":\"overlay\",\"size\":10,\"solidity\":0.2}},\"type\":\"histogram\"}],\"scattergl\":[{\"type\":\"scattergl\",\"marker\":{\"colorbar\":{\"outlinewidth\":0,\"ticks\":\"\"}}}],\"scatter3d\":[{\"type\":\"scatter3d\",\"line\":{\"colorbar\":{\"outlinewidth\":0,\"ticks\":\"\"}},\"marker\":{\"colorbar\":{\"outlinewidth\":0,\"ticks\":\"\"}}}],\"scattermapbox\":[{\"type\":\"scattermapbox\",\"marker\":{\"colorbar\":{\"outlinewidth\":0,\"ticks\":\"\"}}}],\"scatterternary\":[{\"type\":\"scatterternary\",\"marker\":{\"colorbar\":{\"outlinewidth\":0,\"ticks\":\"\"}}}],\"scattercarpet\":[{\"type\":\"scattercarpet\",\"marker\":{\"colorbar\":{\"outlinewidth\":0,\"ticks\":\"\"}}}],\"carpet\":[{\"aaxis\":{\"endlinecolor\":\"#2a3f5f\",\"gridcolor\":\"white\",\"linecolor\":\"white\",\"minorgridcolor\":\"white\",\"startlinecolor\":\"#2a3f5f\"},\"baxis\":{\"endlinecolor\":\"#2a3f5f\",\"gridcolor\":\"white\",\"linecolor\":\"white\",\"minorgridcolor\":\"white\",\"startlinecolor\":\"#2a3f5f\"},\"type\":\"carpet\"}],\"table\":[{\"cells\":{\"fill\":{\"color\":\"#EBF0F8\"},\"line\":{\"color\":\"white\"}},\"header\":{\"fill\":{\"color\":\"#C8D4E3\"},\"line\":{\"color\":\"white\"}},\"type\":\"table\"}],\"barpolar\":[{\"marker\":{\"line\":{\"color\":\"#E5ECF6\",\"width\":0.5},\"pattern\":{\"fillmode\":\"overlay\",\"size\":10,\"solidity\":0.2}},\"type\":\"barpolar\"}],\"pie\":[{\"automargin\":true,\"type\":\"pie\"}]},\"layout\":{\"autotypenumbers\":\"strict\",\"colorway\":[\"#636efa\",\"#EF553B\",\"#00cc96\",\"#ab63fa\",\"#FFA15A\",\"#19d3f3\",\"#FF6692\",\"#B6E880\",\"#FF97FF\",\"#FECB52\"],\"font\":{\"color\":\"#2a3f5f\"},\"hovermode\":\"closest\",\"hoverlabel\":{\"align\":\"left\"},\"paper_bgcolor\":\"white\",\"plot_bgcolor\":\"#E5ECF6\",\"polar\":{\"bgcolor\":\"#E5ECF6\",\"angularaxis\":{\"gridcolor\":\"white\",\"linecolor\":\"white\",\"ticks\":\"\"},\"radialaxis\":{\"gridcolor\":\"white\",\"linecolor\":\"white\",\"ticks\":\"\"}},\"ternary\":{\"bgcolor\":\"#E5ECF6\",\"aaxis\":{\"gridcolor\":\"white\",\"linecolor\":\"white\",\"ticks\":\"\"},\"baxis\":{\"gridcolor\":\"white\",\"linecolor\":\"white\",\"ticks\":\"\"},\"caxis\":{\"gridcolor\":\"white\",\"linecolor\":\"white\",\"ticks\":\"\"}},\"coloraxis\":{\"colorbar\":{\"outlinewidth\":0,\"ticks\":\"\"}},\"colorscale\":{\"sequential\":[[0.0,\"#0d0887\"],[0.1111111111111111,\"#46039f\"],[0.2222222222222222,\"#7201a8\"],[0.3333333333333333,\"#9c179e\"],[0.4444444444444444,\"#bd3786\"],[0.5555555555555556,\"#d8576b\"],[0.6666666666666666,\"#ed7953\"],[0.7777777777777778,\"#fb9f3a\"],[0.8888888888888888,\"#fdca26\"],[1.0,\"#f0f921\"]],\"sequentialminus\":[[0.0,\"#0d0887\"],[0.1111111111111111,\"#46039f\"],[0.2222222222222222,\"#7201a8\"],[0.3333333333333333,\"#9c179e\"],[0.4444444444444444,\"#bd3786\"],[0.5555555555555556,\"#d8576b\"],[0.6666666666666666,\"#ed7953\"],[0.7777777777777778,\"#fb9f3a\"],[0.8888888888888888,\"#fdca26\"],[1.0,\"#f0f921\"]],\"diverging\":[[0,\"#8e0152\"],[0.1,\"#c51b7d\"],[0.2,\"#de77ae\"],[0.3,\"#f1b6da\"],[0.4,\"#fde0ef\"],[0.5,\"#f7f7f7\"],[0.6,\"#e6f5d0\"],[0.7,\"#b8e186\"],[0.8,\"#7fbc41\"],[0.9,\"#4d9221\"],[1,\"#276419\"]]},\"xaxis\":{\"gridcolor\":\"white\",\"linecolor\":\"white\",\"ticks\":\"\",\"title\":{\"standoff\":15},\"zerolinecolor\":\"white\",\"automargin\":true,\"zerolinewidth\":2},\"yaxis\":{\"gridcolor\":\"white\",\"linecolor\":\"white\",\"ticks\":\"\",\"title\":{\"standoff\":15},\"zerolinecolor\":\"white\",\"automargin\":true,\"zerolinewidth\":2},\"scene\":{\"xaxis\":{\"backgroundcolor\":\"#E5ECF6\",\"gridcolor\":\"white\",\"linecolor\":\"white\",\"showbackground\":true,\"ticks\":\"\",\"zerolinecolor\":\"white\",\"gridwidth\":2},\"yaxis\":{\"backgroundcolor\":\"#E5ECF6\",\"gridcolor\":\"white\",\"linecolor\":\"white\",\"showbackground\":true,\"ticks\":\"\",\"zerolinecolor\":\"white\",\"gridwidth\":2},\"zaxis\":{\"backgroundcolor\":\"#E5ECF6\",\"gridcolor\":\"white\",\"linecolor\":\"white\",\"showbackground\":true,\"ticks\":\"\",\"zerolinecolor\":\"white\",\"gridwidth\":2}},\"shapedefaults\":{\"line\":{\"color\":\"#2a3f5f\"}},\"annotationdefaults\":{\"arrowcolor\":\"#2a3f5f\",\"arrowhead\":0,\"arrowwidth\":1},\"geo\":{\"bgcolor\":\"white\",\"landcolor\":\"#E5ECF6\",\"subunitcolor\":\"white\",\"showland\":true,\"showlakes\":true,\"lakecolor\":\"white\"},\"title\":{\"x\":0.05},\"mapbox\":{\"style\":\"light\"}}},\"xaxis\":{\"anchor\":\"y\",\"domain\":[0.0,1.0],\"title\":{\"text\":\"Lag\"}},\"yaxis\":{\"anchor\":\"x\",\"domain\":[0.0,1.0],\"title\":{\"text\":\"Autocorrelation\"}},\"legend\":{\"tracegroupgap\":0},\"title\":{\"text\":\"Autocorrelation of Reproduction Error\"},\"barmode\":\"relative\"},                        {\"responsive\": true}                    ).then(function(){\n",
       "                            \n",
       "var gd = document.getElementById('54c6f2c3-1539-4957-8c22-bff15093b90e');\n",
       "var x = new MutationObserver(function (mutations, observer) {{\n",
       "        var display = window.getComputedStyle(gd).display;\n",
       "        if (!display || display === 'none') {{\n",
       "            console.log([gd, 'removed!']);\n",
       "            Plotly.purge(gd);\n",
       "            observer.disconnect();\n",
       "        }}\n",
       "}});\n",
       "\n",
       "// Listen for the removal of the full notebook cells\n",
       "var notebookContainer = gd.closest('#notebook-container');\n",
       "if (notebookContainer) {{\n",
       "    x.observe(notebookContainer, {childList: true});\n",
       "}}\n",
       "\n",
       "// Listen for the clearing of the current output cell\n",
       "var outputEl = gd.closest('.output');\n",
       "if (outputEl) {{\n",
       "    x.observe(outputEl, {childList: true});\n",
       "}}\n",
       "\n",
       "                        })                };                });            </script>        </div>"
      ]
     },
     "metadata": {},
     "output_type": "display_data"
    },
    {
     "data": {
      "application/vnd.plotly.v1+json": {
       "config": {
        "plotlyServerURL": "https://plot.ly"
       },
       "data": [
        {
         "alignmentgroup": "True",
         "box": {
          "visible": true
         },
         "hovertemplate": "set_duration=%{x}<br>reproduction_error=%{y}<extra></extra>",
         "legendgroup": "",
         "marker": {
          "color": "#636efa"
         },
         "name": "",
         "offsetgroup": "",
         "orientation": "v",
         "points": "all",
         "scalegroup": "True",
         "showlegend": false,
         "type": "violin",
         "x": [
          null,
          null,
          null,
          null,
          null,
          null,
          null,
          null,
          null,
          null,
          null,
          null,
          null,
          null,
          null,
          null,
          null,
          null,
          null,
          null,
          null,
          null,
          null,
          null,
          null,
          null,
          null,
          null,
          null,
          null,
          null,
          null,
          null,
          null,
          null,
          null,
          null,
          null,
          null,
          null,
          null,
          null,
          null,
          null,
          null,
          null,
          null,
          null,
          null,
          null,
          null,
          null,
          null,
          null,
          null,
          null,
          null,
          null,
          null,
          null,
          null,
          null,
          null,
          null,
          null,
          null,
          null,
          null,
          null,
          null,
          null,
          null,
          null,
          null,
          null,
          null,
          null,
          null,
          null,
          null,
          null,
          null,
          null,
          null,
          null,
          null,
          null,
          null,
          null,
          null,
          null,
          null,
          null,
          null,
          null,
          null,
          null,
          null,
          null,
          null,
          null,
          null,
          null,
          null,
          null,
          null,
          null,
          null,
          null,
          null,
          null,
          null,
          null,
          null,
          null,
          null,
          null,
          null,
          null,
          null,
          null,
          null,
          null,
          null,
          null,
          null,
          null,
          null,
          null,
          null,
          null,
          null,
          null,
          null,
          null,
          null,
          null,
          null,
          null,
          null,
          null,
          null,
          null,
          null,
          null,
          null,
          null,
          null,
          null,
          null,
          null,
          null,
          null,
          null,
          null,
          null,
          null,
          null,
          null,
          null,
          null,
          null,
          null,
          null,
          null,
          null,
          null,
          null,
          null,
          null,
          null,
          null,
          null,
          null,
          null,
          null,
          null,
          null,
          null,
          null,
          null,
          null,
          null,
          null,
          null,
          null,
          null,
          null,
          null,
          null,
          null,
          null,
          null,
          null,
          null,
          null,
          null,
          null,
          null,
          null,
          null,
          null,
          null,
          null,
          null,
          null,
          null,
          null,
          null,
          null,
          null,
          null,
          null,
          null,
          null,
          null,
          null,
          null,
          null,
          null,
          null,
          null,
          null,
          null,
          null,
          null,
          null,
          null,
          null,
          null,
          null,
          null,
          null,
          null,
          null,
          null,
          null,
          null,
          null,
          null,
          null,
          null,
          null,
          null,
          null,
          null,
          null,
          null,
          null,
          null,
          null,
          null,
          null,
          null,
          null,
          null,
          null,
          null,
          null,
          null,
          null,
          null,
          null,
          null,
          null,
          null,
          null,
          null,
          null,
          null,
          null,
          null,
          null,
          null,
          null
         ],
         "x0": " ",
         "xaxis": "x",
         "y": [
          -35,
          66,
          -83,
          46,
          44,
          -28,
          -78,
          4,
          16,
          -43,
          5,
          -95,
          -272,
          -166,
          -251,
          55,
          -99,
          -117,
          -7,
          -61,
          -57,
          47,
          -122,
          78,
          -38,
          -41,
          -43,
          70,
          -104,
          -47,
          8,
          74,
          -48,
          46,
          28,
          -62,
          -171,
          -2,
          -11,
          27,
          -2,
          -118,
          3,
          -44,
          -216,
          -68,
          47,
          26,
          -26,
          -36,
          -78,
          -39,
          -51,
          -17,
          27,
          -96,
          -149,
          -108,
          56,
          60,
          -92,
          67,
          -14,
          51,
          73,
          61,
          -52,
          41,
          60,
          -30,
          -64,
          -54,
          0,
          42,
          143,
          108,
          -157,
          -108,
          67,
          84,
          -7,
          80,
          77,
          -74,
          64,
          65,
          81,
          83,
          148,
          -20,
          165,
          160,
          127,
          135,
          68,
          -110,
          100,
          -166,
          87,
          116,
          -63,
          173,
          62,
          11,
          17,
          -12,
          174,
          192,
          199,
          127,
          -74,
          -10,
          -190,
          -115,
          119,
          48,
          122,
          -2,
          176,
          -52,
          90,
          -91,
          172,
          57,
          146,
          96,
          -9,
          77,
          21,
          -31,
          -90,
          277,
          60,
          98,
          273,
          213,
          277,
          -92,
          -158,
          51,
          -29,
          -5,
          -110,
          36,
          -154,
          16,
          182,
          -16,
          -53,
          188,
          100,
          207,
          21,
          92,
          -51,
          53,
          189,
          175,
          113,
          151,
          265,
          160,
          210,
          91,
          144,
          -50,
          58,
          0,
          250,
          -39,
          6,
          67,
          -269,
          94,
          243,
          186,
          38,
          -241,
          -80,
          96,
          263,
          74,
          -83,
          12,
          11,
          -5,
          199,
          47,
          -258,
          28,
          30,
          -35,
          23,
          143,
          173,
          41,
          1,
          -29,
          99,
          163,
          242,
          48,
          169,
          161,
          38,
          63,
          191,
          276,
          211,
          191,
          172,
          -44,
          89,
          222,
          -79,
          193,
          71,
          -128,
          96,
          -80,
          48,
          -51,
          21,
          34,
          23,
          106,
          151,
          -138,
          147,
          25,
          156,
          -107,
          38,
          189,
          270,
          163,
          84,
          130,
          148,
          146,
          115,
          230,
          257,
          -53,
          44,
          15,
          -132,
          178,
          163,
          201,
          142,
          18,
          118,
          178,
          123,
          -89,
          53,
          4,
          36,
          61,
          223,
          193,
          73,
          176,
          -1,
          45,
          6,
          61,
          208,
          174,
          84,
          -87,
          282,
          176,
          20
         ],
         "y0": " ",
         "yaxis": "y"
        }
       ],
       "layout": {
        "legend": {
         "tracegroupgap": 0
        },
        "template": {
         "data": {
          "bar": [
           {
            "error_x": {
             "color": "#2a3f5f"
            },
            "error_y": {
             "color": "#2a3f5f"
            },
            "marker": {
             "line": {
              "color": "#E5ECF6",
              "width": 0.5
             },
             "pattern": {
              "fillmode": "overlay",
              "size": 10,
              "solidity": 0.2
             }
            },
            "type": "bar"
           }
          ],
          "barpolar": [
           {
            "marker": {
             "line": {
              "color": "#E5ECF6",
              "width": 0.5
             },
             "pattern": {
              "fillmode": "overlay",
              "size": 10,
              "solidity": 0.2
             }
            },
            "type": "barpolar"
           }
          ],
          "carpet": [
           {
            "aaxis": {
             "endlinecolor": "#2a3f5f",
             "gridcolor": "white",
             "linecolor": "white",
             "minorgridcolor": "white",
             "startlinecolor": "#2a3f5f"
            },
            "baxis": {
             "endlinecolor": "#2a3f5f",
             "gridcolor": "white",
             "linecolor": "white",
             "minorgridcolor": "white",
             "startlinecolor": "#2a3f5f"
            },
            "type": "carpet"
           }
          ],
          "choropleth": [
           {
            "colorbar": {
             "outlinewidth": 0,
             "ticks": ""
            },
            "type": "choropleth"
           }
          ],
          "contour": [
           {
            "colorbar": {
             "outlinewidth": 0,
             "ticks": ""
            },
            "colorscale": [
             [
              0,
              "#0d0887"
             ],
             [
              0.1111111111111111,
              "#46039f"
             ],
             [
              0.2222222222222222,
              "#7201a8"
             ],
             [
              0.3333333333333333,
              "#9c179e"
             ],
             [
              0.4444444444444444,
              "#bd3786"
             ],
             [
              0.5555555555555556,
              "#d8576b"
             ],
             [
              0.6666666666666666,
              "#ed7953"
             ],
             [
              0.7777777777777778,
              "#fb9f3a"
             ],
             [
              0.8888888888888888,
              "#fdca26"
             ],
             [
              1,
              "#f0f921"
             ]
            ],
            "type": "contour"
           }
          ],
          "contourcarpet": [
           {
            "colorbar": {
             "outlinewidth": 0,
             "ticks": ""
            },
            "type": "contourcarpet"
           }
          ],
          "heatmap": [
           {
            "colorbar": {
             "outlinewidth": 0,
             "ticks": ""
            },
            "colorscale": [
             [
              0,
              "#0d0887"
             ],
             [
              0.1111111111111111,
              "#46039f"
             ],
             [
              0.2222222222222222,
              "#7201a8"
             ],
             [
              0.3333333333333333,
              "#9c179e"
             ],
             [
              0.4444444444444444,
              "#bd3786"
             ],
             [
              0.5555555555555556,
              "#d8576b"
             ],
             [
              0.6666666666666666,
              "#ed7953"
             ],
             [
              0.7777777777777778,
              "#fb9f3a"
             ],
             [
              0.8888888888888888,
              "#fdca26"
             ],
             [
              1,
              "#f0f921"
             ]
            ],
            "type": "heatmap"
           }
          ],
          "heatmapgl": [
           {
            "colorbar": {
             "outlinewidth": 0,
             "ticks": ""
            },
            "colorscale": [
             [
              0,
              "#0d0887"
             ],
             [
              0.1111111111111111,
              "#46039f"
             ],
             [
              0.2222222222222222,
              "#7201a8"
             ],
             [
              0.3333333333333333,
              "#9c179e"
             ],
             [
              0.4444444444444444,
              "#bd3786"
             ],
             [
              0.5555555555555556,
              "#d8576b"
             ],
             [
              0.6666666666666666,
              "#ed7953"
             ],
             [
              0.7777777777777778,
              "#fb9f3a"
             ],
             [
              0.8888888888888888,
              "#fdca26"
             ],
             [
              1,
              "#f0f921"
             ]
            ],
            "type": "heatmapgl"
           }
          ],
          "histogram": [
           {
            "marker": {
             "pattern": {
              "fillmode": "overlay",
              "size": 10,
              "solidity": 0.2
             }
            },
            "type": "histogram"
           }
          ],
          "histogram2d": [
           {
            "colorbar": {
             "outlinewidth": 0,
             "ticks": ""
            },
            "colorscale": [
             [
              0,
              "#0d0887"
             ],
             [
              0.1111111111111111,
              "#46039f"
             ],
             [
              0.2222222222222222,
              "#7201a8"
             ],
             [
              0.3333333333333333,
              "#9c179e"
             ],
             [
              0.4444444444444444,
              "#bd3786"
             ],
             [
              0.5555555555555556,
              "#d8576b"
             ],
             [
              0.6666666666666666,
              "#ed7953"
             ],
             [
              0.7777777777777778,
              "#fb9f3a"
             ],
             [
              0.8888888888888888,
              "#fdca26"
             ],
             [
              1,
              "#f0f921"
             ]
            ],
            "type": "histogram2d"
           }
          ],
          "histogram2dcontour": [
           {
            "colorbar": {
             "outlinewidth": 0,
             "ticks": ""
            },
            "colorscale": [
             [
              0,
              "#0d0887"
             ],
             [
              0.1111111111111111,
              "#46039f"
             ],
             [
              0.2222222222222222,
              "#7201a8"
             ],
             [
              0.3333333333333333,
              "#9c179e"
             ],
             [
              0.4444444444444444,
              "#bd3786"
             ],
             [
              0.5555555555555556,
              "#d8576b"
             ],
             [
              0.6666666666666666,
              "#ed7953"
             ],
             [
              0.7777777777777778,
              "#fb9f3a"
             ],
             [
              0.8888888888888888,
              "#fdca26"
             ],
             [
              1,
              "#f0f921"
             ]
            ],
            "type": "histogram2dcontour"
           }
          ],
          "mesh3d": [
           {
            "colorbar": {
             "outlinewidth": 0,
             "ticks": ""
            },
            "type": "mesh3d"
           }
          ],
          "parcoords": [
           {
            "line": {
             "colorbar": {
              "outlinewidth": 0,
              "ticks": ""
             }
            },
            "type": "parcoords"
           }
          ],
          "pie": [
           {
            "automargin": true,
            "type": "pie"
           }
          ],
          "scatter": [
           {
            "fillpattern": {
             "fillmode": "overlay",
             "size": 10,
             "solidity": 0.2
            },
            "type": "scatter"
           }
          ],
          "scatter3d": [
           {
            "line": {
             "colorbar": {
              "outlinewidth": 0,
              "ticks": ""
             }
            },
            "marker": {
             "colorbar": {
              "outlinewidth": 0,
              "ticks": ""
             }
            },
            "type": "scatter3d"
           }
          ],
          "scattercarpet": [
           {
            "marker": {
             "colorbar": {
              "outlinewidth": 0,
              "ticks": ""
             }
            },
            "type": "scattercarpet"
           }
          ],
          "scattergeo": [
           {
            "marker": {
             "colorbar": {
              "outlinewidth": 0,
              "ticks": ""
             }
            },
            "type": "scattergeo"
           }
          ],
          "scattergl": [
           {
            "marker": {
             "colorbar": {
              "outlinewidth": 0,
              "ticks": ""
             }
            },
            "type": "scattergl"
           }
          ],
          "scattermapbox": [
           {
            "marker": {
             "colorbar": {
              "outlinewidth": 0,
              "ticks": ""
             }
            },
            "type": "scattermapbox"
           }
          ],
          "scatterpolar": [
           {
            "marker": {
             "colorbar": {
              "outlinewidth": 0,
              "ticks": ""
             }
            },
            "type": "scatterpolar"
           }
          ],
          "scatterpolargl": [
           {
            "marker": {
             "colorbar": {
              "outlinewidth": 0,
              "ticks": ""
             }
            },
            "type": "scatterpolargl"
           }
          ],
          "scatterternary": [
           {
            "marker": {
             "colorbar": {
              "outlinewidth": 0,
              "ticks": ""
             }
            },
            "type": "scatterternary"
           }
          ],
          "surface": [
           {
            "colorbar": {
             "outlinewidth": 0,
             "ticks": ""
            },
            "colorscale": [
             [
              0,
              "#0d0887"
             ],
             [
              0.1111111111111111,
              "#46039f"
             ],
             [
              0.2222222222222222,
              "#7201a8"
             ],
             [
              0.3333333333333333,
              "#9c179e"
             ],
             [
              0.4444444444444444,
              "#bd3786"
             ],
             [
              0.5555555555555556,
              "#d8576b"
             ],
             [
              0.6666666666666666,
              "#ed7953"
             ],
             [
              0.7777777777777778,
              "#fb9f3a"
             ],
             [
              0.8888888888888888,
              "#fdca26"
             ],
             [
              1,
              "#f0f921"
             ]
            ],
            "type": "surface"
           }
          ],
          "table": [
           {
            "cells": {
             "fill": {
              "color": "#EBF0F8"
             },
             "line": {
              "color": "white"
             }
            },
            "header": {
             "fill": {
              "color": "#C8D4E3"
             },
             "line": {
              "color": "white"
             }
            },
            "type": "table"
           }
          ]
         },
         "layout": {
          "annotationdefaults": {
           "arrowcolor": "#2a3f5f",
           "arrowhead": 0,
           "arrowwidth": 1
          },
          "autotypenumbers": "strict",
          "coloraxis": {
           "colorbar": {
            "outlinewidth": 0,
            "ticks": ""
           }
          },
          "colorscale": {
           "diverging": [
            [
             0,
             "#8e0152"
            ],
            [
             0.1,
             "#c51b7d"
            ],
            [
             0.2,
             "#de77ae"
            ],
            [
             0.3,
             "#f1b6da"
            ],
            [
             0.4,
             "#fde0ef"
            ],
            [
             0.5,
             "#f7f7f7"
            ],
            [
             0.6,
             "#e6f5d0"
            ],
            [
             0.7,
             "#b8e186"
            ],
            [
             0.8,
             "#7fbc41"
            ],
            [
             0.9,
             "#4d9221"
            ],
            [
             1,
             "#276419"
            ]
           ],
           "sequential": [
            [
             0,
             "#0d0887"
            ],
            [
             0.1111111111111111,
             "#46039f"
            ],
            [
             0.2222222222222222,
             "#7201a8"
            ],
            [
             0.3333333333333333,
             "#9c179e"
            ],
            [
             0.4444444444444444,
             "#bd3786"
            ],
            [
             0.5555555555555556,
             "#d8576b"
            ],
            [
             0.6666666666666666,
             "#ed7953"
            ],
            [
             0.7777777777777778,
             "#fb9f3a"
            ],
            [
             0.8888888888888888,
             "#fdca26"
            ],
            [
             1,
             "#f0f921"
            ]
           ],
           "sequentialminus": [
            [
             0,
             "#0d0887"
            ],
            [
             0.1111111111111111,
             "#46039f"
            ],
            [
             0.2222222222222222,
             "#7201a8"
            ],
            [
             0.3333333333333333,
             "#9c179e"
            ],
            [
             0.4444444444444444,
             "#bd3786"
            ],
            [
             0.5555555555555556,
             "#d8576b"
            ],
            [
             0.6666666666666666,
             "#ed7953"
            ],
            [
             0.7777777777777778,
             "#fb9f3a"
            ],
            [
             0.8888888888888888,
             "#fdca26"
            ],
            [
             1,
             "#f0f921"
            ]
           ]
          },
          "colorway": [
           "#636efa",
           "#EF553B",
           "#00cc96",
           "#ab63fa",
           "#FFA15A",
           "#19d3f3",
           "#FF6692",
           "#B6E880",
           "#FF97FF",
           "#FECB52"
          ],
          "font": {
           "color": "#2a3f5f"
          },
          "geo": {
           "bgcolor": "white",
           "lakecolor": "white",
           "landcolor": "#E5ECF6",
           "showlakes": true,
           "showland": true,
           "subunitcolor": "white"
          },
          "hoverlabel": {
           "align": "left"
          },
          "hovermode": "closest",
          "mapbox": {
           "style": "light"
          },
          "paper_bgcolor": "white",
          "plot_bgcolor": "#E5ECF6",
          "polar": {
           "angularaxis": {
            "gridcolor": "white",
            "linecolor": "white",
            "ticks": ""
           },
           "bgcolor": "#E5ECF6",
           "radialaxis": {
            "gridcolor": "white",
            "linecolor": "white",
            "ticks": ""
           }
          },
          "scene": {
           "xaxis": {
            "backgroundcolor": "#E5ECF6",
            "gridcolor": "white",
            "gridwidth": 2,
            "linecolor": "white",
            "showbackground": true,
            "ticks": "",
            "zerolinecolor": "white"
           },
           "yaxis": {
            "backgroundcolor": "#E5ECF6",
            "gridcolor": "white",
            "gridwidth": 2,
            "linecolor": "white",
            "showbackground": true,
            "ticks": "",
            "zerolinecolor": "white"
           },
           "zaxis": {
            "backgroundcolor": "#E5ECF6",
            "gridcolor": "white",
            "gridwidth": 2,
            "linecolor": "white",
            "showbackground": true,
            "ticks": "",
            "zerolinecolor": "white"
           }
          },
          "shapedefaults": {
           "line": {
            "color": "#2a3f5f"
           }
          },
          "ternary": {
           "aaxis": {
            "gridcolor": "white",
            "linecolor": "white",
            "ticks": ""
           },
           "baxis": {
            "gridcolor": "white",
            "linecolor": "white",
            "ticks": ""
           },
           "bgcolor": "#E5ECF6",
           "caxis": {
            "gridcolor": "white",
            "linecolor": "white",
            "ticks": ""
           }
          },
          "title": {
           "x": 0.05
          },
          "xaxis": {
           "automargin": true,
           "gridcolor": "white",
           "linecolor": "white",
           "ticks": "",
           "title": {
            "standoff": 15
           },
           "zerolinecolor": "white",
           "zerolinewidth": 2
          },
          "yaxis": {
           "automargin": true,
           "gridcolor": "white",
           "linecolor": "white",
           "ticks": "",
           "title": {
            "standoff": 15
           },
           "zerolinecolor": "white",
           "zerolinewidth": 2
          }
         }
        },
        "title": {
         "text": "Error Distributions by Set Duration"
        },
        "violinmode": "group",
        "xaxis": {
         "anchor": "y",
         "domain": [
          0,
          1
         ],
         "title": {
          "text": "set_duration"
         }
        },
        "yaxis": {
         "anchor": "x",
         "domain": [
          0,
          1
         ],
         "title": {
          "text": "reproduction_error"
         }
        }
       }
      },
      "text/html": [
       "<div>                            <div id=\"29cc995a-4bc2-4798-b89b-c947b278381b\" class=\"plotly-graph-div\" style=\"height:525px; width:100%;\"></div>            <script type=\"text/javascript\">                require([\"plotly\"], function(Plotly) {                    window.PLOTLYENV=window.PLOTLYENV || {};                                    if (document.getElementById(\"29cc995a-4bc2-4798-b89b-c947b278381b\")) {                    Plotly.newPlot(                        \"29cc995a-4bc2-4798-b89b-c947b278381b\",                        [{\"alignmentgroup\":\"True\",\"box\":{\"visible\":true},\"hovertemplate\":\"set_duration=%{x}<br>reproduction_error=%{y}<extra></extra>\",\"legendgroup\":\"\",\"marker\":{\"color\":\"#636efa\"},\"name\":\"\",\"offsetgroup\":\"\",\"orientation\":\"v\",\"points\":\"all\",\"scalegroup\":\"True\",\"showlegend\":false,\"x\":[null,null,null,null,null,null,null,null,null,null,null,null,null,null,null,null,null,null,null,null,null,null,null,null,null,null,null,null,null,null,null,null,null,null,null,null,null,null,null,null,null,null,null,null,null,null,null,null,null,null,null,null,null,null,null,null,null,null,null,null,null,null,null,null,null,null,null,null,null,null,null,null,null,null,null,null,null,null,null,null,null,null,null,null,null,null,null,null,null,null,null,null,null,null,null,null,null,null,null,null,null,null,null,null,null,null,null,null,null,null,null,null,null,null,null,null,null,null,null,null,null,null,null,null,null,null,null,null,null,null,null,null,null,null,null,null,null,null,null,null,null,null,null,null,null,null,null,null,null,null,null,null,null,null,null,null,null,null,null,null,null,null,null,null,null,null,null,null,null,null,null,null,null,null,null,null,null,null,null,null,null,null,null,null,null,null,null,null,null,null,null,null,null,null,null,null,null,null,null,null,null,null,null,null,null,null,null,null,null,null,null,null,null,null,null,null,null,null,null,null,null,null,null,null,null,null,null,null,null,null,null,null,null,null,null,null,null,null,null,null,null,null,null,null,null,null,null,null,null,null,null,null,null,null,null,null,null,null,null,null,null,null,null,null,null,null,null,null,null,null,null,null,null,null,null],\"x0\":\" \",\"xaxis\":\"x\",\"y\":[-35.0,66.0,-83.0,46.0,44.0,-28.0,-78.0,4.0,16.0,-43.0,5.0,-95.0,-272.0,-166.0,-251.0,55.0,-99.0,-117.0,-7.0,-61.0,-57.0,47.0,-122.0,78.0,-38.0,-41.0,-43.0,70.0,-104.0,-47.0,8.0,74.0,-48.0,46.0,28.0,-62.0,-171.0,-2.0,-11.0,27.0,-2.0,-118.0,3.0,-44.0,-216.0,-68.0,47.0,26.0,-26.0,-36.0,-78.0,-39.0,-51.0,-17.0,27.0,-96.0,-149.0,-108.0,56.0,60.0,-92.0,67.0,-14.0,51.0,73.0,61.0,-52.0,41.0,60.0,-30.0,-64.0,-54.0,0.0,42.0,143.0,108.0,-157.0,-108.0,67.0,84.0,-7.0,80.0,77.0,-74.0,64.0,65.0,81.0,83.0,148.0,-20.0,165.0,160.0,127.0,135.0,68.0,-110.0,100.0,-166.0,87.0,116.0,-63.0,173.0,62.0,11.0,17.0,-12.0,174.0,192.0,199.0,127.0,-74.0,-10.0,-190.0,-115.0,119.0,48.0,122.0,-2.0,176.0,-52.0,90.0,-91.0,172.0,57.0,146.0,96.0,-9.0,77.0,21.0,-31.0,-90.0,277.0,60.0,98.0,273.0,213.0,277.0,-92.0,-158.0,51.0,-29.0,-5.0,-110.0,36.0,-154.0,16.0,182.0,-16.0,-53.0,188.0,100.0,207.0,21.0,92.0,-51.0,53.0,189.0,175.0,113.0,151.0,265.0,160.0,210.0,91.0,144.0,-50.0,58.0,0.0,250.0,-39.0,6.0,67.0,-269.0,94.0,243.0,186.0,38.0,-241.0,-80.0,96.0,263.0,74.0,-83.0,12.0,11.0,-5.0,199.0,47.0,-258.0,28.0,30.0,-35.0,23.0,143.0,173.0,41.0,1.0,-29.0,99.0,163.0,242.0,48.0,169.0,161.0,38.0,63.0,191.0,276.0,211.0,191.0,172.0,-44.0,89.0,222.0,-79.0,193.0,71.0,-128.0,96.0,-80.0,48.0,-51.0,21.0,34.0,23.0,106.0,151.0,-138.0,147.0,25.0,156.0,-107.0,38.0,189.0,270.0,163.0,84.0,130.0,148.0,146.0,115.0,230.0,257.0,-53.0,44.0,15.0,-132.0,178.0,163.0,201.0,142.0,18.0,118.0,178.0,123.0,-89.0,53.0,4.0,36.0,61.0,223.0,193.0,73.0,176.0,-1.0,45.0,6.0,61.0,208.0,174.0,84.0,-87.0,282.0,176.0,20.0],\"y0\":\" \",\"yaxis\":\"y\",\"type\":\"violin\"}],                        {\"template\":{\"data\":{\"histogram2dcontour\":[{\"type\":\"histogram2dcontour\",\"colorbar\":{\"outlinewidth\":0,\"ticks\":\"\"},\"colorscale\":[[0.0,\"#0d0887\"],[0.1111111111111111,\"#46039f\"],[0.2222222222222222,\"#7201a8\"],[0.3333333333333333,\"#9c179e\"],[0.4444444444444444,\"#bd3786\"],[0.5555555555555556,\"#d8576b\"],[0.6666666666666666,\"#ed7953\"],[0.7777777777777778,\"#fb9f3a\"],[0.8888888888888888,\"#fdca26\"],[1.0,\"#f0f921\"]]}],\"choropleth\":[{\"type\":\"choropleth\",\"colorbar\":{\"outlinewidth\":0,\"ticks\":\"\"}}],\"histogram2d\":[{\"type\":\"histogram2d\",\"colorbar\":{\"outlinewidth\":0,\"ticks\":\"\"},\"colorscale\":[[0.0,\"#0d0887\"],[0.1111111111111111,\"#46039f\"],[0.2222222222222222,\"#7201a8\"],[0.3333333333333333,\"#9c179e\"],[0.4444444444444444,\"#bd3786\"],[0.5555555555555556,\"#d8576b\"],[0.6666666666666666,\"#ed7953\"],[0.7777777777777778,\"#fb9f3a\"],[0.8888888888888888,\"#fdca26\"],[1.0,\"#f0f921\"]]}],\"heatmap\":[{\"type\":\"heatmap\",\"colorbar\":{\"outlinewidth\":0,\"ticks\":\"\"},\"colorscale\":[[0.0,\"#0d0887\"],[0.1111111111111111,\"#46039f\"],[0.2222222222222222,\"#7201a8\"],[0.3333333333333333,\"#9c179e\"],[0.4444444444444444,\"#bd3786\"],[0.5555555555555556,\"#d8576b\"],[0.6666666666666666,\"#ed7953\"],[0.7777777777777778,\"#fb9f3a\"],[0.8888888888888888,\"#fdca26\"],[1.0,\"#f0f921\"]]}],\"heatmapgl\":[{\"type\":\"heatmapgl\",\"colorbar\":{\"outlinewidth\":0,\"ticks\":\"\"},\"colorscale\":[[0.0,\"#0d0887\"],[0.1111111111111111,\"#46039f\"],[0.2222222222222222,\"#7201a8\"],[0.3333333333333333,\"#9c179e\"],[0.4444444444444444,\"#bd3786\"],[0.5555555555555556,\"#d8576b\"],[0.6666666666666666,\"#ed7953\"],[0.7777777777777778,\"#fb9f3a\"],[0.8888888888888888,\"#fdca26\"],[1.0,\"#f0f921\"]]}],\"contourcarpet\":[{\"type\":\"contourcarpet\",\"colorbar\":{\"outlinewidth\":0,\"ticks\":\"\"}}],\"contour\":[{\"type\":\"contour\",\"colorbar\":{\"outlinewidth\":0,\"ticks\":\"\"},\"colorscale\":[[0.0,\"#0d0887\"],[0.1111111111111111,\"#46039f\"],[0.2222222222222222,\"#7201a8\"],[0.3333333333333333,\"#9c179e\"],[0.4444444444444444,\"#bd3786\"],[0.5555555555555556,\"#d8576b\"],[0.6666666666666666,\"#ed7953\"],[0.7777777777777778,\"#fb9f3a\"],[0.8888888888888888,\"#fdca26\"],[1.0,\"#f0f921\"]]}],\"surface\":[{\"type\":\"surface\",\"colorbar\":{\"outlinewidth\":0,\"ticks\":\"\"},\"colorscale\":[[0.0,\"#0d0887\"],[0.1111111111111111,\"#46039f\"],[0.2222222222222222,\"#7201a8\"],[0.3333333333333333,\"#9c179e\"],[0.4444444444444444,\"#bd3786\"],[0.5555555555555556,\"#d8576b\"],[0.6666666666666666,\"#ed7953\"],[0.7777777777777778,\"#fb9f3a\"],[0.8888888888888888,\"#fdca26\"],[1.0,\"#f0f921\"]]}],\"mesh3d\":[{\"type\":\"mesh3d\",\"colorbar\":{\"outlinewidth\":0,\"ticks\":\"\"}}],\"scatter\":[{\"fillpattern\":{\"fillmode\":\"overlay\",\"size\":10,\"solidity\":0.2},\"type\":\"scatter\"}],\"parcoords\":[{\"type\":\"parcoords\",\"line\":{\"colorbar\":{\"outlinewidth\":0,\"ticks\":\"\"}}}],\"scatterpolargl\":[{\"type\":\"scatterpolargl\",\"marker\":{\"colorbar\":{\"outlinewidth\":0,\"ticks\":\"\"}}}],\"bar\":[{\"error_x\":{\"color\":\"#2a3f5f\"},\"error_y\":{\"color\":\"#2a3f5f\"},\"marker\":{\"line\":{\"color\":\"#E5ECF6\",\"width\":0.5},\"pattern\":{\"fillmode\":\"overlay\",\"size\":10,\"solidity\":0.2}},\"type\":\"bar\"}],\"scattergeo\":[{\"type\":\"scattergeo\",\"marker\":{\"colorbar\":{\"outlinewidth\":0,\"ticks\":\"\"}}}],\"scatterpolar\":[{\"type\":\"scatterpolar\",\"marker\":{\"colorbar\":{\"outlinewidth\":0,\"ticks\":\"\"}}}],\"histogram\":[{\"marker\":{\"pattern\":{\"fillmode\":\"overlay\",\"size\":10,\"solidity\":0.2}},\"type\":\"histogram\"}],\"scattergl\":[{\"type\":\"scattergl\",\"marker\":{\"colorbar\":{\"outlinewidth\":0,\"ticks\":\"\"}}}],\"scatter3d\":[{\"type\":\"scatter3d\",\"line\":{\"colorbar\":{\"outlinewidth\":0,\"ticks\":\"\"}},\"marker\":{\"colorbar\":{\"outlinewidth\":0,\"ticks\":\"\"}}}],\"scattermapbox\":[{\"type\":\"scattermapbox\",\"marker\":{\"colorbar\":{\"outlinewidth\":0,\"ticks\":\"\"}}}],\"scatterternary\":[{\"type\":\"scatterternary\",\"marker\":{\"colorbar\":{\"outlinewidth\":0,\"ticks\":\"\"}}}],\"scattercarpet\":[{\"type\":\"scattercarpet\",\"marker\":{\"colorbar\":{\"outlinewidth\":0,\"ticks\":\"\"}}}],\"carpet\":[{\"aaxis\":{\"endlinecolor\":\"#2a3f5f\",\"gridcolor\":\"white\",\"linecolor\":\"white\",\"minorgridcolor\":\"white\",\"startlinecolor\":\"#2a3f5f\"},\"baxis\":{\"endlinecolor\":\"#2a3f5f\",\"gridcolor\":\"white\",\"linecolor\":\"white\",\"minorgridcolor\":\"white\",\"startlinecolor\":\"#2a3f5f\"},\"type\":\"carpet\"}],\"table\":[{\"cells\":{\"fill\":{\"color\":\"#EBF0F8\"},\"line\":{\"color\":\"white\"}},\"header\":{\"fill\":{\"color\":\"#C8D4E3\"},\"line\":{\"color\":\"white\"}},\"type\":\"table\"}],\"barpolar\":[{\"marker\":{\"line\":{\"color\":\"#E5ECF6\",\"width\":0.5},\"pattern\":{\"fillmode\":\"overlay\",\"size\":10,\"solidity\":0.2}},\"type\":\"barpolar\"}],\"pie\":[{\"automargin\":true,\"type\":\"pie\"}]},\"layout\":{\"autotypenumbers\":\"strict\",\"colorway\":[\"#636efa\",\"#EF553B\",\"#00cc96\",\"#ab63fa\",\"#FFA15A\",\"#19d3f3\",\"#FF6692\",\"#B6E880\",\"#FF97FF\",\"#FECB52\"],\"font\":{\"color\":\"#2a3f5f\"},\"hovermode\":\"closest\",\"hoverlabel\":{\"align\":\"left\"},\"paper_bgcolor\":\"white\",\"plot_bgcolor\":\"#E5ECF6\",\"polar\":{\"bgcolor\":\"#E5ECF6\",\"angularaxis\":{\"gridcolor\":\"white\",\"linecolor\":\"white\",\"ticks\":\"\"},\"radialaxis\":{\"gridcolor\":\"white\",\"linecolor\":\"white\",\"ticks\":\"\"}},\"ternary\":{\"bgcolor\":\"#E5ECF6\",\"aaxis\":{\"gridcolor\":\"white\",\"linecolor\":\"white\",\"ticks\":\"\"},\"baxis\":{\"gridcolor\":\"white\",\"linecolor\":\"white\",\"ticks\":\"\"},\"caxis\":{\"gridcolor\":\"white\",\"linecolor\":\"white\",\"ticks\":\"\"}},\"coloraxis\":{\"colorbar\":{\"outlinewidth\":0,\"ticks\":\"\"}},\"colorscale\":{\"sequential\":[[0.0,\"#0d0887\"],[0.1111111111111111,\"#46039f\"],[0.2222222222222222,\"#7201a8\"],[0.3333333333333333,\"#9c179e\"],[0.4444444444444444,\"#bd3786\"],[0.5555555555555556,\"#d8576b\"],[0.6666666666666666,\"#ed7953\"],[0.7777777777777778,\"#fb9f3a\"],[0.8888888888888888,\"#fdca26\"],[1.0,\"#f0f921\"]],\"sequentialminus\":[[0.0,\"#0d0887\"],[0.1111111111111111,\"#46039f\"],[0.2222222222222222,\"#7201a8\"],[0.3333333333333333,\"#9c179e\"],[0.4444444444444444,\"#bd3786\"],[0.5555555555555556,\"#d8576b\"],[0.6666666666666666,\"#ed7953\"],[0.7777777777777778,\"#fb9f3a\"],[0.8888888888888888,\"#fdca26\"],[1.0,\"#f0f921\"]],\"diverging\":[[0,\"#8e0152\"],[0.1,\"#c51b7d\"],[0.2,\"#de77ae\"],[0.3,\"#f1b6da\"],[0.4,\"#fde0ef\"],[0.5,\"#f7f7f7\"],[0.6,\"#e6f5d0\"],[0.7,\"#b8e186\"],[0.8,\"#7fbc41\"],[0.9,\"#4d9221\"],[1,\"#276419\"]]},\"xaxis\":{\"gridcolor\":\"white\",\"linecolor\":\"white\",\"ticks\":\"\",\"title\":{\"standoff\":15},\"zerolinecolor\":\"white\",\"automargin\":true,\"zerolinewidth\":2},\"yaxis\":{\"gridcolor\":\"white\",\"linecolor\":\"white\",\"ticks\":\"\",\"title\":{\"standoff\":15},\"zerolinecolor\":\"white\",\"automargin\":true,\"zerolinewidth\":2},\"scene\":{\"xaxis\":{\"backgroundcolor\":\"#E5ECF6\",\"gridcolor\":\"white\",\"linecolor\":\"white\",\"showbackground\":true,\"ticks\":\"\",\"zerolinecolor\":\"white\",\"gridwidth\":2},\"yaxis\":{\"backgroundcolor\":\"#E5ECF6\",\"gridcolor\":\"white\",\"linecolor\":\"white\",\"showbackground\":true,\"ticks\":\"\",\"zerolinecolor\":\"white\",\"gridwidth\":2},\"zaxis\":{\"backgroundcolor\":\"#E5ECF6\",\"gridcolor\":\"white\",\"linecolor\":\"white\",\"showbackground\":true,\"ticks\":\"\",\"zerolinecolor\":\"white\",\"gridwidth\":2}},\"shapedefaults\":{\"line\":{\"color\":\"#2a3f5f\"}},\"annotationdefaults\":{\"arrowcolor\":\"#2a3f5f\",\"arrowhead\":0,\"arrowwidth\":1},\"geo\":{\"bgcolor\":\"white\",\"landcolor\":\"#E5ECF6\",\"subunitcolor\":\"white\",\"showland\":true,\"showlakes\":true,\"lakecolor\":\"white\"},\"title\":{\"x\":0.05},\"mapbox\":{\"style\":\"light\"}}},\"xaxis\":{\"anchor\":\"y\",\"domain\":[0.0,1.0],\"title\":{\"text\":\"set_duration\"}},\"yaxis\":{\"anchor\":\"x\",\"domain\":[0.0,1.0],\"title\":{\"text\":\"reproduction_error\"}},\"legend\":{\"tracegroupgap\":0},\"title\":{\"text\":\"Error Distributions by Set Duration\"},\"violinmode\":\"group\"},                        {\"responsive\": true}                    ).then(function(){\n",
       "                            \n",
       "var gd = document.getElementById('29cc995a-4bc2-4798-b89b-c947b278381b');\n",
       "var x = new MutationObserver(function (mutations, observer) {{\n",
       "        var display = window.getComputedStyle(gd).display;\n",
       "        if (!display || display === 'none') {{\n",
       "            console.log([gd, 'removed!']);\n",
       "            Plotly.purge(gd);\n",
       "            observer.disconnect();\n",
       "        }}\n",
       "}});\n",
       "\n",
       "// Listen for the removal of the full notebook cells\n",
       "var notebookContainer = gd.closest('#notebook-container');\n",
       "if (notebookContainer) {{\n",
       "    x.observe(notebookContainer, {childList: true});\n",
       "}}\n",
       "\n",
       "// Listen for the clearing of the current output cell\n",
       "var outputEl = gd.closest('.output');\n",
       "if (outputEl) {{\n",
       "    x.observe(outputEl, {childList: true});\n",
       "}}\n",
       "\n",
       "                        })                };                });            </script>        </div>"
      ]
     },
     "metadata": {},
     "output_type": "display_data"
    },
    {
     "data": {
      "application/vnd.plotly.v1+json": {
       "config": {
        "plotlyServerURL": "https://plot.ly"
       },
       "data": [
        {
         "hovertemplate": "target_interval=%{x}<br>cv=%{y}<extra></extra>",
         "legendgroup": "",
         "line": {
          "color": "#636efa",
          "dash": "solid"
         },
         "marker": {
          "symbol": "circle"
         },
         "mode": "lines",
         "name": "",
         "orientation": "v",
         "showlegend": false,
         "type": "scatter",
         "x": [
          200,
          300,
          400,
          500,
          600,
          700,
          800,
          900,
          1000,
          1100,
          1200,
          1300,
          1400,
          1500,
          1600,
          1700
         ],
         "xaxis": "x",
         "y": [
          0.4018801954334781,
          0.2197167839047854,
          0.1758438292013656,
          0.12558908899722213,
          0.14580122088312036,
          0.1375955815392963,
          0.12880123462898857,
          0.1739246381294225,
          0.1278703144413566,
          0.0751117264597381,
          0.0945181253036016,
          0.10772655247911286,
          0.07585400363893567,
          0.048102907643361795,
          0.09370107244397508,
          0.06589955234351623
         ],
         "yaxis": "y"
        }
       ],
       "layout": {
        "legend": {
         "tracegroupgap": 0
        },
        "template": {
         "data": {
          "bar": [
           {
            "error_x": {
             "color": "#2a3f5f"
            },
            "error_y": {
             "color": "#2a3f5f"
            },
            "marker": {
             "line": {
              "color": "#E5ECF6",
              "width": 0.5
             },
             "pattern": {
              "fillmode": "overlay",
              "size": 10,
              "solidity": 0.2
             }
            },
            "type": "bar"
           }
          ],
          "barpolar": [
           {
            "marker": {
             "line": {
              "color": "#E5ECF6",
              "width": 0.5
             },
             "pattern": {
              "fillmode": "overlay",
              "size": 10,
              "solidity": 0.2
             }
            },
            "type": "barpolar"
           }
          ],
          "carpet": [
           {
            "aaxis": {
             "endlinecolor": "#2a3f5f",
             "gridcolor": "white",
             "linecolor": "white",
             "minorgridcolor": "white",
             "startlinecolor": "#2a3f5f"
            },
            "baxis": {
             "endlinecolor": "#2a3f5f",
             "gridcolor": "white",
             "linecolor": "white",
             "minorgridcolor": "white",
             "startlinecolor": "#2a3f5f"
            },
            "type": "carpet"
           }
          ],
          "choropleth": [
           {
            "colorbar": {
             "outlinewidth": 0,
             "ticks": ""
            },
            "type": "choropleth"
           }
          ],
          "contour": [
           {
            "colorbar": {
             "outlinewidth": 0,
             "ticks": ""
            },
            "colorscale": [
             [
              0,
              "#0d0887"
             ],
             [
              0.1111111111111111,
              "#46039f"
             ],
             [
              0.2222222222222222,
              "#7201a8"
             ],
             [
              0.3333333333333333,
              "#9c179e"
             ],
             [
              0.4444444444444444,
              "#bd3786"
             ],
             [
              0.5555555555555556,
              "#d8576b"
             ],
             [
              0.6666666666666666,
              "#ed7953"
             ],
             [
              0.7777777777777778,
              "#fb9f3a"
             ],
             [
              0.8888888888888888,
              "#fdca26"
             ],
             [
              1,
              "#f0f921"
             ]
            ],
            "type": "contour"
           }
          ],
          "contourcarpet": [
           {
            "colorbar": {
             "outlinewidth": 0,
             "ticks": ""
            },
            "type": "contourcarpet"
           }
          ],
          "heatmap": [
           {
            "colorbar": {
             "outlinewidth": 0,
             "ticks": ""
            },
            "colorscale": [
             [
              0,
              "#0d0887"
             ],
             [
              0.1111111111111111,
              "#46039f"
             ],
             [
              0.2222222222222222,
              "#7201a8"
             ],
             [
              0.3333333333333333,
              "#9c179e"
             ],
             [
              0.4444444444444444,
              "#bd3786"
             ],
             [
              0.5555555555555556,
              "#d8576b"
             ],
             [
              0.6666666666666666,
              "#ed7953"
             ],
             [
              0.7777777777777778,
              "#fb9f3a"
             ],
             [
              0.8888888888888888,
              "#fdca26"
             ],
             [
              1,
              "#f0f921"
             ]
            ],
            "type": "heatmap"
           }
          ],
          "heatmapgl": [
           {
            "colorbar": {
             "outlinewidth": 0,
             "ticks": ""
            },
            "colorscale": [
             [
              0,
              "#0d0887"
             ],
             [
              0.1111111111111111,
              "#46039f"
             ],
             [
              0.2222222222222222,
              "#7201a8"
             ],
             [
              0.3333333333333333,
              "#9c179e"
             ],
             [
              0.4444444444444444,
              "#bd3786"
             ],
             [
              0.5555555555555556,
              "#d8576b"
             ],
             [
              0.6666666666666666,
              "#ed7953"
             ],
             [
              0.7777777777777778,
              "#fb9f3a"
             ],
             [
              0.8888888888888888,
              "#fdca26"
             ],
             [
              1,
              "#f0f921"
             ]
            ],
            "type": "heatmapgl"
           }
          ],
          "histogram": [
           {
            "marker": {
             "pattern": {
              "fillmode": "overlay",
              "size": 10,
              "solidity": 0.2
             }
            },
            "type": "histogram"
           }
          ],
          "histogram2d": [
           {
            "colorbar": {
             "outlinewidth": 0,
             "ticks": ""
            },
            "colorscale": [
             [
              0,
              "#0d0887"
             ],
             [
              0.1111111111111111,
              "#46039f"
             ],
             [
              0.2222222222222222,
              "#7201a8"
             ],
             [
              0.3333333333333333,
              "#9c179e"
             ],
             [
              0.4444444444444444,
              "#bd3786"
             ],
             [
              0.5555555555555556,
              "#d8576b"
             ],
             [
              0.6666666666666666,
              "#ed7953"
             ],
             [
              0.7777777777777778,
              "#fb9f3a"
             ],
             [
              0.8888888888888888,
              "#fdca26"
             ],
             [
              1,
              "#f0f921"
             ]
            ],
            "type": "histogram2d"
           }
          ],
          "histogram2dcontour": [
           {
            "colorbar": {
             "outlinewidth": 0,
             "ticks": ""
            },
            "colorscale": [
             [
              0,
              "#0d0887"
             ],
             [
              0.1111111111111111,
              "#46039f"
             ],
             [
              0.2222222222222222,
              "#7201a8"
             ],
             [
              0.3333333333333333,
              "#9c179e"
             ],
             [
              0.4444444444444444,
              "#bd3786"
             ],
             [
              0.5555555555555556,
              "#d8576b"
             ],
             [
              0.6666666666666666,
              "#ed7953"
             ],
             [
              0.7777777777777778,
              "#fb9f3a"
             ],
             [
              0.8888888888888888,
              "#fdca26"
             ],
             [
              1,
              "#f0f921"
             ]
            ],
            "type": "histogram2dcontour"
           }
          ],
          "mesh3d": [
           {
            "colorbar": {
             "outlinewidth": 0,
             "ticks": ""
            },
            "type": "mesh3d"
           }
          ],
          "parcoords": [
           {
            "line": {
             "colorbar": {
              "outlinewidth": 0,
              "ticks": ""
             }
            },
            "type": "parcoords"
           }
          ],
          "pie": [
           {
            "automargin": true,
            "type": "pie"
           }
          ],
          "scatter": [
           {
            "fillpattern": {
             "fillmode": "overlay",
             "size": 10,
             "solidity": 0.2
            },
            "type": "scatter"
           }
          ],
          "scatter3d": [
           {
            "line": {
             "colorbar": {
              "outlinewidth": 0,
              "ticks": ""
             }
            },
            "marker": {
             "colorbar": {
              "outlinewidth": 0,
              "ticks": ""
             }
            },
            "type": "scatter3d"
           }
          ],
          "scattercarpet": [
           {
            "marker": {
             "colorbar": {
              "outlinewidth": 0,
              "ticks": ""
             }
            },
            "type": "scattercarpet"
           }
          ],
          "scattergeo": [
           {
            "marker": {
             "colorbar": {
              "outlinewidth": 0,
              "ticks": ""
             }
            },
            "type": "scattergeo"
           }
          ],
          "scattergl": [
           {
            "marker": {
             "colorbar": {
              "outlinewidth": 0,
              "ticks": ""
             }
            },
            "type": "scattergl"
           }
          ],
          "scattermapbox": [
           {
            "marker": {
             "colorbar": {
              "outlinewidth": 0,
              "ticks": ""
             }
            },
            "type": "scattermapbox"
           }
          ],
          "scatterpolar": [
           {
            "marker": {
             "colorbar": {
              "outlinewidth": 0,
              "ticks": ""
             }
            },
            "type": "scatterpolar"
           }
          ],
          "scatterpolargl": [
           {
            "marker": {
             "colorbar": {
              "outlinewidth": 0,
              "ticks": ""
             }
            },
            "type": "scatterpolargl"
           }
          ],
          "scatterternary": [
           {
            "marker": {
             "colorbar": {
              "outlinewidth": 0,
              "ticks": ""
             }
            },
            "type": "scatterternary"
           }
          ],
          "surface": [
           {
            "colorbar": {
             "outlinewidth": 0,
             "ticks": ""
            },
            "colorscale": [
             [
              0,
              "#0d0887"
             ],
             [
              0.1111111111111111,
              "#46039f"
             ],
             [
              0.2222222222222222,
              "#7201a8"
             ],
             [
              0.3333333333333333,
              "#9c179e"
             ],
             [
              0.4444444444444444,
              "#bd3786"
             ],
             [
              0.5555555555555556,
              "#d8576b"
             ],
             [
              0.6666666666666666,
              "#ed7953"
             ],
             [
              0.7777777777777778,
              "#fb9f3a"
             ],
             [
              0.8888888888888888,
              "#fdca26"
             ],
             [
              1,
              "#f0f921"
             ]
            ],
            "type": "surface"
           }
          ],
          "table": [
           {
            "cells": {
             "fill": {
              "color": "#EBF0F8"
             },
             "line": {
              "color": "white"
             }
            },
            "header": {
             "fill": {
              "color": "#C8D4E3"
             },
             "line": {
              "color": "white"
             }
            },
            "type": "table"
           }
          ]
         },
         "layout": {
          "annotationdefaults": {
           "arrowcolor": "#2a3f5f",
           "arrowhead": 0,
           "arrowwidth": 1
          },
          "autotypenumbers": "strict",
          "coloraxis": {
           "colorbar": {
            "outlinewidth": 0,
            "ticks": ""
           }
          },
          "colorscale": {
           "diverging": [
            [
             0,
             "#8e0152"
            ],
            [
             0.1,
             "#c51b7d"
            ],
            [
             0.2,
             "#de77ae"
            ],
            [
             0.3,
             "#f1b6da"
            ],
            [
             0.4,
             "#fde0ef"
            ],
            [
             0.5,
             "#f7f7f7"
            ],
            [
             0.6,
             "#e6f5d0"
            ],
            [
             0.7,
             "#b8e186"
            ],
            [
             0.8,
             "#7fbc41"
            ],
            [
             0.9,
             "#4d9221"
            ],
            [
             1,
             "#276419"
            ]
           ],
           "sequential": [
            [
             0,
             "#0d0887"
            ],
            [
             0.1111111111111111,
             "#46039f"
            ],
            [
             0.2222222222222222,
             "#7201a8"
            ],
            [
             0.3333333333333333,
             "#9c179e"
            ],
            [
             0.4444444444444444,
             "#bd3786"
            ],
            [
             0.5555555555555556,
             "#d8576b"
            ],
            [
             0.6666666666666666,
             "#ed7953"
            ],
            [
             0.7777777777777778,
             "#fb9f3a"
            ],
            [
             0.8888888888888888,
             "#fdca26"
            ],
            [
             1,
             "#f0f921"
            ]
           ],
           "sequentialminus": [
            [
             0,
             "#0d0887"
            ],
            [
             0.1111111111111111,
             "#46039f"
            ],
            [
             0.2222222222222222,
             "#7201a8"
            ],
            [
             0.3333333333333333,
             "#9c179e"
            ],
            [
             0.4444444444444444,
             "#bd3786"
            ],
            [
             0.5555555555555556,
             "#d8576b"
            ],
            [
             0.6666666666666666,
             "#ed7953"
            ],
            [
             0.7777777777777778,
             "#fb9f3a"
            ],
            [
             0.8888888888888888,
             "#fdca26"
            ],
            [
             1,
             "#f0f921"
            ]
           ]
          },
          "colorway": [
           "#636efa",
           "#EF553B",
           "#00cc96",
           "#ab63fa",
           "#FFA15A",
           "#19d3f3",
           "#FF6692",
           "#B6E880",
           "#FF97FF",
           "#FECB52"
          ],
          "font": {
           "color": "#2a3f5f"
          },
          "geo": {
           "bgcolor": "white",
           "lakecolor": "white",
           "landcolor": "#E5ECF6",
           "showlakes": true,
           "showland": true,
           "subunitcolor": "white"
          },
          "hoverlabel": {
           "align": "left"
          },
          "hovermode": "closest",
          "mapbox": {
           "style": "light"
          },
          "paper_bgcolor": "white",
          "plot_bgcolor": "#E5ECF6",
          "polar": {
           "angularaxis": {
            "gridcolor": "white",
            "linecolor": "white",
            "ticks": ""
           },
           "bgcolor": "#E5ECF6",
           "radialaxis": {
            "gridcolor": "white",
            "linecolor": "white",
            "ticks": ""
           }
          },
          "scene": {
           "xaxis": {
            "backgroundcolor": "#E5ECF6",
            "gridcolor": "white",
            "gridwidth": 2,
            "linecolor": "white",
            "showbackground": true,
            "ticks": "",
            "zerolinecolor": "white"
           },
           "yaxis": {
            "backgroundcolor": "#E5ECF6",
            "gridcolor": "white",
            "gridwidth": 2,
            "linecolor": "white",
            "showbackground": true,
            "ticks": "",
            "zerolinecolor": "white"
           },
           "zaxis": {
            "backgroundcolor": "#E5ECF6",
            "gridcolor": "white",
            "gridwidth": 2,
            "linecolor": "white",
            "showbackground": true,
            "ticks": "",
            "zerolinecolor": "white"
           }
          },
          "shapedefaults": {
           "line": {
            "color": "#2a3f5f"
           }
          },
          "ternary": {
           "aaxis": {
            "gridcolor": "white",
            "linecolor": "white",
            "ticks": ""
           },
           "baxis": {
            "gridcolor": "white",
            "linecolor": "white",
            "ticks": ""
           },
           "bgcolor": "#E5ECF6",
           "caxis": {
            "gridcolor": "white",
            "linecolor": "white",
            "ticks": ""
           }
          },
          "title": {
           "x": 0.05
          },
          "xaxis": {
           "automargin": true,
           "gridcolor": "white",
           "linecolor": "white",
           "ticks": "",
           "title": {
            "standoff": 15
           },
           "zerolinecolor": "white",
           "zerolinewidth": 2
          },
          "yaxis": {
           "automargin": true,
           "gridcolor": "white",
           "linecolor": "white",
           "ticks": "",
           "title": {
            "standoff": 15
           },
           "zerolinecolor": "white",
           "zerolinewidth": 2
          }
         }
        },
        "title": {
         "text": "Coefficient of Variation by Target Interval"
        },
        "xaxis": {
         "anchor": "y",
         "domain": [
          0,
          1
         ],
         "title": {
          "text": "target_interval"
         }
        },
        "yaxis": {
         "anchor": "x",
         "domain": [
          0,
          1
         ],
         "title": {
          "text": "cv"
         }
        }
       }
      },
      "text/html": [
       "<div>                            <div id=\"65c2009d-66e9-4e12-a24b-3a5ec84a6279\" class=\"plotly-graph-div\" style=\"height:525px; width:100%;\"></div>            <script type=\"text/javascript\">                require([\"plotly\"], function(Plotly) {                    window.PLOTLYENV=window.PLOTLYENV || {};                                    if (document.getElementById(\"65c2009d-66e9-4e12-a24b-3a5ec84a6279\")) {                    Plotly.newPlot(                        \"65c2009d-66e9-4e12-a24b-3a5ec84a6279\",                        [{\"hovertemplate\":\"target_interval=%{x}<br>cv=%{y}<extra></extra>\",\"legendgroup\":\"\",\"line\":{\"color\":\"#636efa\",\"dash\":\"solid\"},\"marker\":{\"symbol\":\"circle\"},\"mode\":\"lines\",\"name\":\"\",\"orientation\":\"v\",\"showlegend\":false,\"x\":[200.0,300.0,400.0,500.0,600.0,700.0,800.0,900.0,1000.0,1100.0,1200.0,1300.0,1400.0,1500.0,1600.0,1700.0],\"xaxis\":\"x\",\"y\":[0.4018801954334781,0.2197167839047854,0.1758438292013656,0.12558908899722213,0.14580122088312036,0.1375955815392963,0.12880123462898857,0.1739246381294225,0.1278703144413566,0.0751117264597381,0.0945181253036016,0.10772655247911286,0.07585400363893567,0.048102907643361795,0.09370107244397508,0.06589955234351623],\"yaxis\":\"y\",\"type\":\"scatter\"}],                        {\"template\":{\"data\":{\"histogram2dcontour\":[{\"type\":\"histogram2dcontour\",\"colorbar\":{\"outlinewidth\":0,\"ticks\":\"\"},\"colorscale\":[[0.0,\"#0d0887\"],[0.1111111111111111,\"#46039f\"],[0.2222222222222222,\"#7201a8\"],[0.3333333333333333,\"#9c179e\"],[0.4444444444444444,\"#bd3786\"],[0.5555555555555556,\"#d8576b\"],[0.6666666666666666,\"#ed7953\"],[0.7777777777777778,\"#fb9f3a\"],[0.8888888888888888,\"#fdca26\"],[1.0,\"#f0f921\"]]}],\"choropleth\":[{\"type\":\"choropleth\",\"colorbar\":{\"outlinewidth\":0,\"ticks\":\"\"}}],\"histogram2d\":[{\"type\":\"histogram2d\",\"colorbar\":{\"outlinewidth\":0,\"ticks\":\"\"},\"colorscale\":[[0.0,\"#0d0887\"],[0.1111111111111111,\"#46039f\"],[0.2222222222222222,\"#7201a8\"],[0.3333333333333333,\"#9c179e\"],[0.4444444444444444,\"#bd3786\"],[0.5555555555555556,\"#d8576b\"],[0.6666666666666666,\"#ed7953\"],[0.7777777777777778,\"#fb9f3a\"],[0.8888888888888888,\"#fdca26\"],[1.0,\"#f0f921\"]]}],\"heatmap\":[{\"type\":\"heatmap\",\"colorbar\":{\"outlinewidth\":0,\"ticks\":\"\"},\"colorscale\":[[0.0,\"#0d0887\"],[0.1111111111111111,\"#46039f\"],[0.2222222222222222,\"#7201a8\"],[0.3333333333333333,\"#9c179e\"],[0.4444444444444444,\"#bd3786\"],[0.5555555555555556,\"#d8576b\"],[0.6666666666666666,\"#ed7953\"],[0.7777777777777778,\"#fb9f3a\"],[0.8888888888888888,\"#fdca26\"],[1.0,\"#f0f921\"]]}],\"heatmapgl\":[{\"type\":\"heatmapgl\",\"colorbar\":{\"outlinewidth\":0,\"ticks\":\"\"},\"colorscale\":[[0.0,\"#0d0887\"],[0.1111111111111111,\"#46039f\"],[0.2222222222222222,\"#7201a8\"],[0.3333333333333333,\"#9c179e\"],[0.4444444444444444,\"#bd3786\"],[0.5555555555555556,\"#d8576b\"],[0.6666666666666666,\"#ed7953\"],[0.7777777777777778,\"#fb9f3a\"],[0.8888888888888888,\"#fdca26\"],[1.0,\"#f0f921\"]]}],\"contourcarpet\":[{\"type\":\"contourcarpet\",\"colorbar\":{\"outlinewidth\":0,\"ticks\":\"\"}}],\"contour\":[{\"type\":\"contour\",\"colorbar\":{\"outlinewidth\":0,\"ticks\":\"\"},\"colorscale\":[[0.0,\"#0d0887\"],[0.1111111111111111,\"#46039f\"],[0.2222222222222222,\"#7201a8\"],[0.3333333333333333,\"#9c179e\"],[0.4444444444444444,\"#bd3786\"],[0.5555555555555556,\"#d8576b\"],[0.6666666666666666,\"#ed7953\"],[0.7777777777777778,\"#fb9f3a\"],[0.8888888888888888,\"#fdca26\"],[1.0,\"#f0f921\"]]}],\"surface\":[{\"type\":\"surface\",\"colorbar\":{\"outlinewidth\":0,\"ticks\":\"\"},\"colorscale\":[[0.0,\"#0d0887\"],[0.1111111111111111,\"#46039f\"],[0.2222222222222222,\"#7201a8\"],[0.3333333333333333,\"#9c179e\"],[0.4444444444444444,\"#bd3786\"],[0.5555555555555556,\"#d8576b\"],[0.6666666666666666,\"#ed7953\"],[0.7777777777777778,\"#fb9f3a\"],[0.8888888888888888,\"#fdca26\"],[1.0,\"#f0f921\"]]}],\"mesh3d\":[{\"type\":\"mesh3d\",\"colorbar\":{\"outlinewidth\":0,\"ticks\":\"\"}}],\"scatter\":[{\"fillpattern\":{\"fillmode\":\"overlay\",\"size\":10,\"solidity\":0.2},\"type\":\"scatter\"}],\"parcoords\":[{\"type\":\"parcoords\",\"line\":{\"colorbar\":{\"outlinewidth\":0,\"ticks\":\"\"}}}],\"scatterpolargl\":[{\"type\":\"scatterpolargl\",\"marker\":{\"colorbar\":{\"outlinewidth\":0,\"ticks\":\"\"}}}],\"bar\":[{\"error_x\":{\"color\":\"#2a3f5f\"},\"error_y\":{\"color\":\"#2a3f5f\"},\"marker\":{\"line\":{\"color\":\"#E5ECF6\",\"width\":0.5},\"pattern\":{\"fillmode\":\"overlay\",\"size\":10,\"solidity\":0.2}},\"type\":\"bar\"}],\"scattergeo\":[{\"type\":\"scattergeo\",\"marker\":{\"colorbar\":{\"outlinewidth\":0,\"ticks\":\"\"}}}],\"scatterpolar\":[{\"type\":\"scatterpolar\",\"marker\":{\"colorbar\":{\"outlinewidth\":0,\"ticks\":\"\"}}}],\"histogram\":[{\"marker\":{\"pattern\":{\"fillmode\":\"overlay\",\"size\":10,\"solidity\":0.2}},\"type\":\"histogram\"}],\"scattergl\":[{\"type\":\"scattergl\",\"marker\":{\"colorbar\":{\"outlinewidth\":0,\"ticks\":\"\"}}}],\"scatter3d\":[{\"type\":\"scatter3d\",\"line\":{\"colorbar\":{\"outlinewidth\":0,\"ticks\":\"\"}},\"marker\":{\"colorbar\":{\"outlinewidth\":0,\"ticks\":\"\"}}}],\"scattermapbox\":[{\"type\":\"scattermapbox\",\"marker\":{\"colorbar\":{\"outlinewidth\":0,\"ticks\":\"\"}}}],\"scatterternary\":[{\"type\":\"scatterternary\",\"marker\":{\"colorbar\":{\"outlinewidth\":0,\"ticks\":\"\"}}}],\"scattercarpet\":[{\"type\":\"scattercarpet\",\"marker\":{\"colorbar\":{\"outlinewidth\":0,\"ticks\":\"\"}}}],\"carpet\":[{\"aaxis\":{\"endlinecolor\":\"#2a3f5f\",\"gridcolor\":\"white\",\"linecolor\":\"white\",\"minorgridcolor\":\"white\",\"startlinecolor\":\"#2a3f5f\"},\"baxis\":{\"endlinecolor\":\"#2a3f5f\",\"gridcolor\":\"white\",\"linecolor\":\"white\",\"minorgridcolor\":\"white\",\"startlinecolor\":\"#2a3f5f\"},\"type\":\"carpet\"}],\"table\":[{\"cells\":{\"fill\":{\"color\":\"#EBF0F8\"},\"line\":{\"color\":\"white\"}},\"header\":{\"fill\":{\"color\":\"#C8D4E3\"},\"line\":{\"color\":\"white\"}},\"type\":\"table\"}],\"barpolar\":[{\"marker\":{\"line\":{\"color\":\"#E5ECF6\",\"width\":0.5},\"pattern\":{\"fillmode\":\"overlay\",\"size\":10,\"solidity\":0.2}},\"type\":\"barpolar\"}],\"pie\":[{\"automargin\":true,\"type\":\"pie\"}]},\"layout\":{\"autotypenumbers\":\"strict\",\"colorway\":[\"#636efa\",\"#EF553B\",\"#00cc96\",\"#ab63fa\",\"#FFA15A\",\"#19d3f3\",\"#FF6692\",\"#B6E880\",\"#FF97FF\",\"#FECB52\"],\"font\":{\"color\":\"#2a3f5f\"},\"hovermode\":\"closest\",\"hoverlabel\":{\"align\":\"left\"},\"paper_bgcolor\":\"white\",\"plot_bgcolor\":\"#E5ECF6\",\"polar\":{\"bgcolor\":\"#E5ECF6\",\"angularaxis\":{\"gridcolor\":\"white\",\"linecolor\":\"white\",\"ticks\":\"\"},\"radialaxis\":{\"gridcolor\":\"white\",\"linecolor\":\"white\",\"ticks\":\"\"}},\"ternary\":{\"bgcolor\":\"#E5ECF6\",\"aaxis\":{\"gridcolor\":\"white\",\"linecolor\":\"white\",\"ticks\":\"\"},\"baxis\":{\"gridcolor\":\"white\",\"linecolor\":\"white\",\"ticks\":\"\"},\"caxis\":{\"gridcolor\":\"white\",\"linecolor\":\"white\",\"ticks\":\"\"}},\"coloraxis\":{\"colorbar\":{\"outlinewidth\":0,\"ticks\":\"\"}},\"colorscale\":{\"sequential\":[[0.0,\"#0d0887\"],[0.1111111111111111,\"#46039f\"],[0.2222222222222222,\"#7201a8\"],[0.3333333333333333,\"#9c179e\"],[0.4444444444444444,\"#bd3786\"],[0.5555555555555556,\"#d8576b\"],[0.6666666666666666,\"#ed7953\"],[0.7777777777777778,\"#fb9f3a\"],[0.8888888888888888,\"#fdca26\"],[1.0,\"#f0f921\"]],\"sequentialminus\":[[0.0,\"#0d0887\"],[0.1111111111111111,\"#46039f\"],[0.2222222222222222,\"#7201a8\"],[0.3333333333333333,\"#9c179e\"],[0.4444444444444444,\"#bd3786\"],[0.5555555555555556,\"#d8576b\"],[0.6666666666666666,\"#ed7953\"],[0.7777777777777778,\"#fb9f3a\"],[0.8888888888888888,\"#fdca26\"],[1.0,\"#f0f921\"]],\"diverging\":[[0,\"#8e0152\"],[0.1,\"#c51b7d\"],[0.2,\"#de77ae\"],[0.3,\"#f1b6da\"],[0.4,\"#fde0ef\"],[0.5,\"#f7f7f7\"],[0.6,\"#e6f5d0\"],[0.7,\"#b8e186\"],[0.8,\"#7fbc41\"],[0.9,\"#4d9221\"],[1,\"#276419\"]]},\"xaxis\":{\"gridcolor\":\"white\",\"linecolor\":\"white\",\"ticks\":\"\",\"title\":{\"standoff\":15},\"zerolinecolor\":\"white\",\"automargin\":true,\"zerolinewidth\":2},\"yaxis\":{\"gridcolor\":\"white\",\"linecolor\":\"white\",\"ticks\":\"\",\"title\":{\"standoff\":15},\"zerolinecolor\":\"white\",\"automargin\":true,\"zerolinewidth\":2},\"scene\":{\"xaxis\":{\"backgroundcolor\":\"#E5ECF6\",\"gridcolor\":\"white\",\"linecolor\":\"white\",\"showbackground\":true,\"ticks\":\"\",\"zerolinecolor\":\"white\",\"gridwidth\":2},\"yaxis\":{\"backgroundcolor\":\"#E5ECF6\",\"gridcolor\":\"white\",\"linecolor\":\"white\",\"showbackground\":true,\"ticks\":\"\",\"zerolinecolor\":\"white\",\"gridwidth\":2},\"zaxis\":{\"backgroundcolor\":\"#E5ECF6\",\"gridcolor\":\"white\",\"linecolor\":\"white\",\"showbackground\":true,\"ticks\":\"\",\"zerolinecolor\":\"white\",\"gridwidth\":2}},\"shapedefaults\":{\"line\":{\"color\":\"#2a3f5f\"}},\"annotationdefaults\":{\"arrowcolor\":\"#2a3f5f\",\"arrowhead\":0,\"arrowwidth\":1},\"geo\":{\"bgcolor\":\"white\",\"landcolor\":\"#E5ECF6\",\"subunitcolor\":\"white\",\"showland\":true,\"showlakes\":true,\"lakecolor\":\"white\"},\"title\":{\"x\":0.05},\"mapbox\":{\"style\":\"light\"}}},\"xaxis\":{\"anchor\":\"y\",\"domain\":[0.0,1.0],\"title\":{\"text\":\"target_interval\"}},\"yaxis\":{\"anchor\":\"x\",\"domain\":[0.0,1.0],\"title\":{\"text\":\"cv\"}},\"legend\":{\"tracegroupgap\":0},\"title\":{\"text\":\"Coefficient of Variation by Target Interval\"}},                        {\"responsive\": true}                    ).then(function(){\n",
       "                            \n",
       "var gd = document.getElementById('65c2009d-66e9-4e12-a24b-3a5ec84a6279');\n",
       "var x = new MutationObserver(function (mutations, observer) {{\n",
       "        var display = window.getComputedStyle(gd).display;\n",
       "        if (!display || display === 'none') {{\n",
       "            console.log([gd, 'removed!']);\n",
       "            Plotly.purge(gd);\n",
       "            observer.disconnect();\n",
       "        }}\n",
       "}});\n",
       "\n",
       "// Listen for the removal of the full notebook cells\n",
       "var notebookContainer = gd.closest('#notebook-container');\n",
       "if (notebookContainer) {{\n",
       "    x.observe(notebookContainer, {childList: true});\n",
       "}}\n",
       "\n",
       "// Listen for the clearing of the current output cell\n",
       "var outputEl = gd.closest('.output');\n",
       "if (outputEl) {{\n",
       "    x.observe(outputEl, {childList: true});\n",
       "}}\n",
       "\n",
       "                        })                };                });            </script>        </div>"
      ]
     },
     "metadata": {},
     "output_type": "display_data"
    },
    {
     "data": {
      "application/vnd.plotly.v1+json": {
       "config": {
        "plotlyServerURL": "https://plot.ly"
       },
       "data": [
        {
         "hovertemplate": "is_outlier=False<br>trial_number=%{x}<br>reproduction_error=%{y}<extra></extra>",
         "legendgroup": "False",
         "marker": {
          "color": "#636efa",
          "symbol": "circle"
         },
         "mode": "markers",
         "name": "False",
         "orientation": "v",
         "showlegend": true,
         "type": "scatter",
         "x": [
          0,
          1,
          2,
          3,
          4,
          5,
          6,
          7,
          8,
          9,
          10,
          11,
          13,
          16,
          17,
          18,
          19,
          20,
          21,
          22,
          23,
          24,
          25,
          26,
          27,
          28,
          29,
          30,
          31,
          32,
          33,
          34,
          35,
          36,
          37,
          38,
          39,
          40,
          41,
          42,
          43,
          44,
          45,
          46,
          47,
          48,
          49,
          50,
          51,
          52,
          53,
          54,
          55,
          56,
          57,
          58,
          59,
          60,
          61,
          62,
          63,
          64,
          65,
          66,
          67,
          68,
          69,
          70,
          71,
          72,
          73,
          74,
          75,
          76,
          77,
          78,
          79,
          80,
          81,
          82,
          83,
          84,
          85,
          86,
          87,
          88,
          90,
          92,
          93,
          94,
          95,
          96,
          97,
          98,
          99,
          100,
          101,
          102,
          103,
          104,
          105,
          106,
          107,
          108,
          109,
          110,
          113,
          114,
          115,
          116,
          117,
          118,
          119,
          120,
          121,
          123,
          124,
          125,
          126,
          127,
          129,
          130,
          131,
          132,
          133,
          134,
          135,
          136,
          137,
          140,
          141,
          143,
          145,
          146,
          147,
          148,
          149,
          150,
          151,
          152,
          153,
          154,
          155,
          156,
          157,
          158,
          159,
          160,
          161,
          162,
          163,
          164,
          165,
          167,
          168,
          170,
          171,
          172,
          174,
          175,
          176,
          177,
          179,
          180,
          181,
          183,
          185,
          187,
          189,
          190,
          193,
          194,
          195,
          196,
          197,
          198,
          199,
          201,
          202,
          203,
          204,
          205,
          206,
          207,
          208,
          209,
          210,
          211,
          214,
          216,
          217,
          219,
          220,
          221,
          225,
          226,
          228,
          229,
          231,
          232,
          233,
          234,
          235,
          236,
          237,
          238,
          239,
          240,
          241,
          242,
          243,
          244,
          245,
          246,
          247,
          248,
          249,
          250,
          251,
          252,
          254,
          255,
          256,
          257,
          258,
          259,
          262,
          263,
          265,
          266,
          267,
          268,
          269,
          270,
          271,
          272,
          273,
          274,
          275,
          276,
          277,
          278,
          279,
          280,
          282,
          283,
          285,
          286,
          287,
          288,
          289,
          290,
          292,
          293,
          296,
          298,
          299
         ],
         "xaxis": "x",
         "y": [
          -35,
          66,
          -83,
          46,
          44,
          -28,
          -78,
          4,
          16,
          -43,
          5,
          -95,
          -166,
          55,
          -99,
          -117,
          -7,
          -61,
          -57,
          47,
          -122,
          78,
          -38,
          -41,
          -43,
          70,
          -104,
          -47,
          8,
          74,
          -48,
          46,
          28,
          -62,
          -171,
          -2,
          -11,
          27,
          -2,
          -118,
          3,
          -44,
          -216,
          -68,
          47,
          26,
          -26,
          -36,
          -78,
          -39,
          -51,
          -17,
          27,
          -96,
          -149,
          -108,
          56,
          60,
          -92,
          67,
          -14,
          51,
          73,
          61,
          -52,
          41,
          60,
          -30,
          -64,
          -54,
          0,
          42,
          143,
          108,
          -157,
          -108,
          67,
          84,
          -7,
          80,
          77,
          -74,
          64,
          65,
          81,
          83,
          148,
          -20,
          165,
          160,
          127,
          135,
          68,
          -110,
          100,
          -166,
          87,
          116,
          -63,
          173,
          62,
          11,
          17,
          -12,
          174,
          192,
          199,
          127,
          -74,
          -10,
          -190,
          -115,
          119,
          48,
          122,
          -2,
          176,
          -52,
          90,
          -91,
          172,
          57,
          146,
          96,
          -9,
          77,
          21,
          -31,
          -90,
          60,
          98,
          213,
          -92,
          -158,
          51,
          -29,
          -5,
          -110,
          36,
          -154,
          16,
          182,
          -16,
          -53,
          188,
          100,
          207,
          21,
          92,
          -51,
          53,
          189,
          175,
          113,
          151,
          160,
          210,
          91,
          144,
          -50,
          58,
          0,
          -39,
          6,
          67,
          94,
          186,
          38,
          -80,
          96,
          74,
          -83,
          12,
          11,
          -5,
          199,
          47,
          28,
          30,
          -35,
          23,
          143,
          173,
          41,
          1,
          -29,
          99,
          163,
          48,
          169,
          161,
          38,
          63,
          191,
          211,
          191,
          172,
          -44,
          89,
          222,
          -79,
          193,
          71,
          -128,
          96,
          -80,
          48,
          -51,
          21,
          34,
          23,
          106,
          151,
          -138,
          147,
          25,
          156,
          -107,
          38,
          189,
          163,
          84,
          130,
          148,
          146,
          115,
          -53,
          44,
          15,
          -132,
          178,
          163,
          201,
          142,
          18,
          118,
          178,
          123,
          -89,
          53,
          4,
          36,
          61,
          223,
          193,
          73,
          176,
          -1,
          45,
          6,
          61,
          208,
          174,
          84,
          -87,
          176,
          20
         ],
         "yaxis": "y"
        },
        {
         "hovertemplate": "is_outlier=True<br>trial_number=%{x}<br>reproduction_error=%{y}<extra></extra>",
         "legendgroup": "True",
         "marker": {
          "color": "#EF553B",
          "symbol": "circle"
         },
         "mode": "markers",
         "name": "True",
         "orientation": "v",
         "showlegend": true,
         "type": "scatter",
         "x": [
          12,
          14,
          138,
          142,
          144,
          169,
          178,
          182,
          184,
          188,
          192,
          200,
          212,
          224,
          253,
          260,
          261,
          297
         ],
         "xaxis": "x",
         "y": [
          -272,
          -251,
          277,
          273,
          277,
          265,
          250,
          -269,
          243,
          -241,
          263,
          -258,
          242,
          276,
          270,
          230,
          257,
          282
         ],
         "yaxis": "y"
        }
       ],
       "layout": {
        "legend": {
         "title": {
          "text": "is_outlier"
         },
         "tracegroupgap": 0
        },
        "template": {
         "data": {
          "bar": [
           {
            "error_x": {
             "color": "#2a3f5f"
            },
            "error_y": {
             "color": "#2a3f5f"
            },
            "marker": {
             "line": {
              "color": "#E5ECF6",
              "width": 0.5
             },
             "pattern": {
              "fillmode": "overlay",
              "size": 10,
              "solidity": 0.2
             }
            },
            "type": "bar"
           }
          ],
          "barpolar": [
           {
            "marker": {
             "line": {
              "color": "#E5ECF6",
              "width": 0.5
             },
             "pattern": {
              "fillmode": "overlay",
              "size": 10,
              "solidity": 0.2
             }
            },
            "type": "barpolar"
           }
          ],
          "carpet": [
           {
            "aaxis": {
             "endlinecolor": "#2a3f5f",
             "gridcolor": "white",
             "linecolor": "white",
             "minorgridcolor": "white",
             "startlinecolor": "#2a3f5f"
            },
            "baxis": {
             "endlinecolor": "#2a3f5f",
             "gridcolor": "white",
             "linecolor": "white",
             "minorgridcolor": "white",
             "startlinecolor": "#2a3f5f"
            },
            "type": "carpet"
           }
          ],
          "choropleth": [
           {
            "colorbar": {
             "outlinewidth": 0,
             "ticks": ""
            },
            "type": "choropleth"
           }
          ],
          "contour": [
           {
            "colorbar": {
             "outlinewidth": 0,
             "ticks": ""
            },
            "colorscale": [
             [
              0,
              "#0d0887"
             ],
             [
              0.1111111111111111,
              "#46039f"
             ],
             [
              0.2222222222222222,
              "#7201a8"
             ],
             [
              0.3333333333333333,
              "#9c179e"
             ],
             [
              0.4444444444444444,
              "#bd3786"
             ],
             [
              0.5555555555555556,
              "#d8576b"
             ],
             [
              0.6666666666666666,
              "#ed7953"
             ],
             [
              0.7777777777777778,
              "#fb9f3a"
             ],
             [
              0.8888888888888888,
              "#fdca26"
             ],
             [
              1,
              "#f0f921"
             ]
            ],
            "type": "contour"
           }
          ],
          "contourcarpet": [
           {
            "colorbar": {
             "outlinewidth": 0,
             "ticks": ""
            },
            "type": "contourcarpet"
           }
          ],
          "heatmap": [
           {
            "colorbar": {
             "outlinewidth": 0,
             "ticks": ""
            },
            "colorscale": [
             [
              0,
              "#0d0887"
             ],
             [
              0.1111111111111111,
              "#46039f"
             ],
             [
              0.2222222222222222,
              "#7201a8"
             ],
             [
              0.3333333333333333,
              "#9c179e"
             ],
             [
              0.4444444444444444,
              "#bd3786"
             ],
             [
              0.5555555555555556,
              "#d8576b"
             ],
             [
              0.6666666666666666,
              "#ed7953"
             ],
             [
              0.7777777777777778,
              "#fb9f3a"
             ],
             [
              0.8888888888888888,
              "#fdca26"
             ],
             [
              1,
              "#f0f921"
             ]
            ],
            "type": "heatmap"
           }
          ],
          "heatmapgl": [
           {
            "colorbar": {
             "outlinewidth": 0,
             "ticks": ""
            },
            "colorscale": [
             [
              0,
              "#0d0887"
             ],
             [
              0.1111111111111111,
              "#46039f"
             ],
             [
              0.2222222222222222,
              "#7201a8"
             ],
             [
              0.3333333333333333,
              "#9c179e"
             ],
             [
              0.4444444444444444,
              "#bd3786"
             ],
             [
              0.5555555555555556,
              "#d8576b"
             ],
             [
              0.6666666666666666,
              "#ed7953"
             ],
             [
              0.7777777777777778,
              "#fb9f3a"
             ],
             [
              0.8888888888888888,
              "#fdca26"
             ],
             [
              1,
              "#f0f921"
             ]
            ],
            "type": "heatmapgl"
           }
          ],
          "histogram": [
           {
            "marker": {
             "pattern": {
              "fillmode": "overlay",
              "size": 10,
              "solidity": 0.2
             }
            },
            "type": "histogram"
           }
          ],
          "histogram2d": [
           {
            "colorbar": {
             "outlinewidth": 0,
             "ticks": ""
            },
            "colorscale": [
             [
              0,
              "#0d0887"
             ],
             [
              0.1111111111111111,
              "#46039f"
             ],
             [
              0.2222222222222222,
              "#7201a8"
             ],
             [
              0.3333333333333333,
              "#9c179e"
             ],
             [
              0.4444444444444444,
              "#bd3786"
             ],
             [
              0.5555555555555556,
              "#d8576b"
             ],
             [
              0.6666666666666666,
              "#ed7953"
             ],
             [
              0.7777777777777778,
              "#fb9f3a"
             ],
             [
              0.8888888888888888,
              "#fdca26"
             ],
             [
              1,
              "#f0f921"
             ]
            ],
            "type": "histogram2d"
           }
          ],
          "histogram2dcontour": [
           {
            "colorbar": {
             "outlinewidth": 0,
             "ticks": ""
            },
            "colorscale": [
             [
              0,
              "#0d0887"
             ],
             [
              0.1111111111111111,
              "#46039f"
             ],
             [
              0.2222222222222222,
              "#7201a8"
             ],
             [
              0.3333333333333333,
              "#9c179e"
             ],
             [
              0.4444444444444444,
              "#bd3786"
             ],
             [
              0.5555555555555556,
              "#d8576b"
             ],
             [
              0.6666666666666666,
              "#ed7953"
             ],
             [
              0.7777777777777778,
              "#fb9f3a"
             ],
             [
              0.8888888888888888,
              "#fdca26"
             ],
             [
              1,
              "#f0f921"
             ]
            ],
            "type": "histogram2dcontour"
           }
          ],
          "mesh3d": [
           {
            "colorbar": {
             "outlinewidth": 0,
             "ticks": ""
            },
            "type": "mesh3d"
           }
          ],
          "parcoords": [
           {
            "line": {
             "colorbar": {
              "outlinewidth": 0,
              "ticks": ""
             }
            },
            "type": "parcoords"
           }
          ],
          "pie": [
           {
            "automargin": true,
            "type": "pie"
           }
          ],
          "scatter": [
           {
            "fillpattern": {
             "fillmode": "overlay",
             "size": 10,
             "solidity": 0.2
            },
            "type": "scatter"
           }
          ],
          "scatter3d": [
           {
            "line": {
             "colorbar": {
              "outlinewidth": 0,
              "ticks": ""
             }
            },
            "marker": {
             "colorbar": {
              "outlinewidth": 0,
              "ticks": ""
             }
            },
            "type": "scatter3d"
           }
          ],
          "scattercarpet": [
           {
            "marker": {
             "colorbar": {
              "outlinewidth": 0,
              "ticks": ""
             }
            },
            "type": "scattercarpet"
           }
          ],
          "scattergeo": [
           {
            "marker": {
             "colorbar": {
              "outlinewidth": 0,
              "ticks": ""
             }
            },
            "type": "scattergeo"
           }
          ],
          "scattergl": [
           {
            "marker": {
             "colorbar": {
              "outlinewidth": 0,
              "ticks": ""
             }
            },
            "type": "scattergl"
           }
          ],
          "scattermapbox": [
           {
            "marker": {
             "colorbar": {
              "outlinewidth": 0,
              "ticks": ""
             }
            },
            "type": "scattermapbox"
           }
          ],
          "scatterpolar": [
           {
            "marker": {
             "colorbar": {
              "outlinewidth": 0,
              "ticks": ""
             }
            },
            "type": "scatterpolar"
           }
          ],
          "scatterpolargl": [
           {
            "marker": {
             "colorbar": {
              "outlinewidth": 0,
              "ticks": ""
             }
            },
            "type": "scatterpolargl"
           }
          ],
          "scatterternary": [
           {
            "marker": {
             "colorbar": {
              "outlinewidth": 0,
              "ticks": ""
             }
            },
            "type": "scatterternary"
           }
          ],
          "surface": [
           {
            "colorbar": {
             "outlinewidth": 0,
             "ticks": ""
            },
            "colorscale": [
             [
              0,
              "#0d0887"
             ],
             [
              0.1111111111111111,
              "#46039f"
             ],
             [
              0.2222222222222222,
              "#7201a8"
             ],
             [
              0.3333333333333333,
              "#9c179e"
             ],
             [
              0.4444444444444444,
              "#bd3786"
             ],
             [
              0.5555555555555556,
              "#d8576b"
             ],
             [
              0.6666666666666666,
              "#ed7953"
             ],
             [
              0.7777777777777778,
              "#fb9f3a"
             ],
             [
              0.8888888888888888,
              "#fdca26"
             ],
             [
              1,
              "#f0f921"
             ]
            ],
            "type": "surface"
           }
          ],
          "table": [
           {
            "cells": {
             "fill": {
              "color": "#EBF0F8"
             },
             "line": {
              "color": "white"
             }
            },
            "header": {
             "fill": {
              "color": "#C8D4E3"
             },
             "line": {
              "color": "white"
             }
            },
            "type": "table"
           }
          ]
         },
         "layout": {
          "annotationdefaults": {
           "arrowcolor": "#2a3f5f",
           "arrowhead": 0,
           "arrowwidth": 1
          },
          "autotypenumbers": "strict",
          "coloraxis": {
           "colorbar": {
            "outlinewidth": 0,
            "ticks": ""
           }
          },
          "colorscale": {
           "diverging": [
            [
             0,
             "#8e0152"
            ],
            [
             0.1,
             "#c51b7d"
            ],
            [
             0.2,
             "#de77ae"
            ],
            [
             0.3,
             "#f1b6da"
            ],
            [
             0.4,
             "#fde0ef"
            ],
            [
             0.5,
             "#f7f7f7"
            ],
            [
             0.6,
             "#e6f5d0"
            ],
            [
             0.7,
             "#b8e186"
            ],
            [
             0.8,
             "#7fbc41"
            ],
            [
             0.9,
             "#4d9221"
            ],
            [
             1,
             "#276419"
            ]
           ],
           "sequential": [
            [
             0,
             "#0d0887"
            ],
            [
             0.1111111111111111,
             "#46039f"
            ],
            [
             0.2222222222222222,
             "#7201a8"
            ],
            [
             0.3333333333333333,
             "#9c179e"
            ],
            [
             0.4444444444444444,
             "#bd3786"
            ],
            [
             0.5555555555555556,
             "#d8576b"
            ],
            [
             0.6666666666666666,
             "#ed7953"
            ],
            [
             0.7777777777777778,
             "#fb9f3a"
            ],
            [
             0.8888888888888888,
             "#fdca26"
            ],
            [
             1,
             "#f0f921"
            ]
           ],
           "sequentialminus": [
            [
             0,
             "#0d0887"
            ],
            [
             0.1111111111111111,
             "#46039f"
            ],
            [
             0.2222222222222222,
             "#7201a8"
            ],
            [
             0.3333333333333333,
             "#9c179e"
            ],
            [
             0.4444444444444444,
             "#bd3786"
            ],
            [
             0.5555555555555556,
             "#d8576b"
            ],
            [
             0.6666666666666666,
             "#ed7953"
            ],
            [
             0.7777777777777778,
             "#fb9f3a"
            ],
            [
             0.8888888888888888,
             "#fdca26"
            ],
            [
             1,
             "#f0f921"
            ]
           ]
          },
          "colorway": [
           "#636efa",
           "#EF553B",
           "#00cc96",
           "#ab63fa",
           "#FFA15A",
           "#19d3f3",
           "#FF6692",
           "#B6E880",
           "#FF97FF",
           "#FECB52"
          ],
          "font": {
           "color": "#2a3f5f"
          },
          "geo": {
           "bgcolor": "white",
           "lakecolor": "white",
           "landcolor": "#E5ECF6",
           "showlakes": true,
           "showland": true,
           "subunitcolor": "white"
          },
          "hoverlabel": {
           "align": "left"
          },
          "hovermode": "closest",
          "mapbox": {
           "style": "light"
          },
          "paper_bgcolor": "white",
          "plot_bgcolor": "#E5ECF6",
          "polar": {
           "angularaxis": {
            "gridcolor": "white",
            "linecolor": "white",
            "ticks": ""
           },
           "bgcolor": "#E5ECF6",
           "radialaxis": {
            "gridcolor": "white",
            "linecolor": "white",
            "ticks": ""
           }
          },
          "scene": {
           "xaxis": {
            "backgroundcolor": "#E5ECF6",
            "gridcolor": "white",
            "gridwidth": 2,
            "linecolor": "white",
            "showbackground": true,
            "ticks": "",
            "zerolinecolor": "white"
           },
           "yaxis": {
            "backgroundcolor": "#E5ECF6",
            "gridcolor": "white",
            "gridwidth": 2,
            "linecolor": "white",
            "showbackground": true,
            "ticks": "",
            "zerolinecolor": "white"
           },
           "zaxis": {
            "backgroundcolor": "#E5ECF6",
            "gridcolor": "white",
            "gridwidth": 2,
            "linecolor": "white",
            "showbackground": true,
            "ticks": "",
            "zerolinecolor": "white"
           }
          },
          "shapedefaults": {
           "line": {
            "color": "#2a3f5f"
           }
          },
          "ternary": {
           "aaxis": {
            "gridcolor": "white",
            "linecolor": "white",
            "ticks": ""
           },
           "baxis": {
            "gridcolor": "white",
            "linecolor": "white",
            "ticks": ""
           },
           "bgcolor": "#E5ECF6",
           "caxis": {
            "gridcolor": "white",
            "linecolor": "white",
            "ticks": ""
           }
          },
          "title": {
           "x": 0.05
          },
          "xaxis": {
           "automargin": true,
           "gridcolor": "white",
           "linecolor": "white",
           "ticks": "",
           "title": {
            "standoff": 15
           },
           "zerolinecolor": "white",
           "zerolinewidth": 2
          },
          "yaxis": {
           "automargin": true,
           "gridcolor": "white",
           "linecolor": "white",
           "ticks": "",
           "title": {
            "standoff": 15
           },
           "zerolinecolor": "white",
           "zerolinewidth": 2
          }
         }
        },
        "title": {
         "text": "Outliers in Reproduction Error"
        },
        "xaxis": {
         "anchor": "y",
         "domain": [
          0,
          1
         ],
         "title": {
          "text": "trial_number"
         }
        },
        "yaxis": {
         "anchor": "x",
         "domain": [
          0,
          1
         ],
         "title": {
          "text": "reproduction_error"
         }
        }
       }
      },
      "text/html": [
       "<div>                            <div id=\"e4115bc4-7ea3-4eef-afb8-b51e69575231\" class=\"plotly-graph-div\" style=\"height:525px; width:100%;\"></div>            <script type=\"text/javascript\">                require([\"plotly\"], function(Plotly) {                    window.PLOTLYENV=window.PLOTLYENV || {};                                    if (document.getElementById(\"e4115bc4-7ea3-4eef-afb8-b51e69575231\")) {                    Plotly.newPlot(                        \"e4115bc4-7ea3-4eef-afb8-b51e69575231\",                        [{\"hovertemplate\":\"is_outlier=False<br>trial_number=%{x}<br>reproduction_error=%{y}<extra></extra>\",\"legendgroup\":\"False\",\"marker\":{\"color\":\"#636efa\",\"symbol\":\"circle\"},\"mode\":\"markers\",\"name\":\"False\",\"orientation\":\"v\",\"showlegend\":true,\"x\":[0,1,2,3,4,5,6,7,8,9,10,11,13,16,17,18,19,20,21,22,23,24,25,26,27,28,29,30,31,32,33,34,35,36,37,38,39,40,41,42,43,44,45,46,47,48,49,50,51,52,53,54,55,56,57,58,59,60,61,62,63,64,65,66,67,68,69,70,71,72,73,74,75,76,77,78,79,80,81,82,83,84,85,86,87,88,90,92,93,94,95,96,97,98,99,100,101,102,103,104,105,106,107,108,109,110,113,114,115,116,117,118,119,120,121,123,124,125,126,127,129,130,131,132,133,134,135,136,137,140,141,143,145,146,147,148,149,150,151,152,153,154,155,156,157,158,159,160,161,162,163,164,165,167,168,170,171,172,174,175,176,177,179,180,181,183,185,187,189,190,193,194,195,196,197,198,199,201,202,203,204,205,206,207,208,209,210,211,214,216,217,219,220,221,225,226,228,229,231,232,233,234,235,236,237,238,239,240,241,242,243,244,245,246,247,248,249,250,251,252,254,255,256,257,258,259,262,263,265,266,267,268,269,270,271,272,273,274,275,276,277,278,279,280,282,283,285,286,287,288,289,290,292,293,296,298,299],\"xaxis\":\"x\",\"y\":[-35.0,66.0,-83.0,46.0,44.0,-28.0,-78.0,4.0,16.0,-43.0,5.0,-95.0,-166.0,55.0,-99.0,-117.0,-7.0,-61.0,-57.0,47.0,-122.0,78.0,-38.0,-41.0,-43.0,70.0,-104.0,-47.0,8.0,74.0,-48.0,46.0,28.0,-62.0,-171.0,-2.0,-11.0,27.0,-2.0,-118.0,3.0,-44.0,-216.0,-68.0,47.0,26.0,-26.0,-36.0,-78.0,-39.0,-51.0,-17.0,27.0,-96.0,-149.0,-108.0,56.0,60.0,-92.0,67.0,-14.0,51.0,73.0,61.0,-52.0,41.0,60.0,-30.0,-64.0,-54.0,0.0,42.0,143.0,108.0,-157.0,-108.0,67.0,84.0,-7.0,80.0,77.0,-74.0,64.0,65.0,81.0,83.0,148.0,-20.0,165.0,160.0,127.0,135.0,68.0,-110.0,100.0,-166.0,87.0,116.0,-63.0,173.0,62.0,11.0,17.0,-12.0,174.0,192.0,199.0,127.0,-74.0,-10.0,-190.0,-115.0,119.0,48.0,122.0,-2.0,176.0,-52.0,90.0,-91.0,172.0,57.0,146.0,96.0,-9.0,77.0,21.0,-31.0,-90.0,60.0,98.0,213.0,-92.0,-158.0,51.0,-29.0,-5.0,-110.0,36.0,-154.0,16.0,182.0,-16.0,-53.0,188.0,100.0,207.0,21.0,92.0,-51.0,53.0,189.0,175.0,113.0,151.0,160.0,210.0,91.0,144.0,-50.0,58.0,0.0,-39.0,6.0,67.0,94.0,186.0,38.0,-80.0,96.0,74.0,-83.0,12.0,11.0,-5.0,199.0,47.0,28.0,30.0,-35.0,23.0,143.0,173.0,41.0,1.0,-29.0,99.0,163.0,48.0,169.0,161.0,38.0,63.0,191.0,211.0,191.0,172.0,-44.0,89.0,222.0,-79.0,193.0,71.0,-128.0,96.0,-80.0,48.0,-51.0,21.0,34.0,23.0,106.0,151.0,-138.0,147.0,25.0,156.0,-107.0,38.0,189.0,163.0,84.0,130.0,148.0,146.0,115.0,-53.0,44.0,15.0,-132.0,178.0,163.0,201.0,142.0,18.0,118.0,178.0,123.0,-89.0,53.0,4.0,36.0,61.0,223.0,193.0,73.0,176.0,-1.0,45.0,6.0,61.0,208.0,174.0,84.0,-87.0,176.0,20.0],\"yaxis\":\"y\",\"type\":\"scatter\"},{\"hovertemplate\":\"is_outlier=True<br>trial_number=%{x}<br>reproduction_error=%{y}<extra></extra>\",\"legendgroup\":\"True\",\"marker\":{\"color\":\"#EF553B\",\"symbol\":\"circle\"},\"mode\":\"markers\",\"name\":\"True\",\"orientation\":\"v\",\"showlegend\":true,\"x\":[12,14,138,142,144,169,178,182,184,188,192,200,212,224,253,260,261,297],\"xaxis\":\"x\",\"y\":[-272.0,-251.0,277.0,273.0,277.0,265.0,250.0,-269.0,243.0,-241.0,263.0,-258.0,242.0,276.0,270.0,230.0,257.0,282.0],\"yaxis\":\"y\",\"type\":\"scatter\"}],                        {\"template\":{\"data\":{\"histogram2dcontour\":[{\"type\":\"histogram2dcontour\",\"colorbar\":{\"outlinewidth\":0,\"ticks\":\"\"},\"colorscale\":[[0.0,\"#0d0887\"],[0.1111111111111111,\"#46039f\"],[0.2222222222222222,\"#7201a8\"],[0.3333333333333333,\"#9c179e\"],[0.4444444444444444,\"#bd3786\"],[0.5555555555555556,\"#d8576b\"],[0.6666666666666666,\"#ed7953\"],[0.7777777777777778,\"#fb9f3a\"],[0.8888888888888888,\"#fdca26\"],[1.0,\"#f0f921\"]]}],\"choropleth\":[{\"type\":\"choropleth\",\"colorbar\":{\"outlinewidth\":0,\"ticks\":\"\"}}],\"histogram2d\":[{\"type\":\"histogram2d\",\"colorbar\":{\"outlinewidth\":0,\"ticks\":\"\"},\"colorscale\":[[0.0,\"#0d0887\"],[0.1111111111111111,\"#46039f\"],[0.2222222222222222,\"#7201a8\"],[0.3333333333333333,\"#9c179e\"],[0.4444444444444444,\"#bd3786\"],[0.5555555555555556,\"#d8576b\"],[0.6666666666666666,\"#ed7953\"],[0.7777777777777778,\"#fb9f3a\"],[0.8888888888888888,\"#fdca26\"],[1.0,\"#f0f921\"]]}],\"heatmap\":[{\"type\":\"heatmap\",\"colorbar\":{\"outlinewidth\":0,\"ticks\":\"\"},\"colorscale\":[[0.0,\"#0d0887\"],[0.1111111111111111,\"#46039f\"],[0.2222222222222222,\"#7201a8\"],[0.3333333333333333,\"#9c179e\"],[0.4444444444444444,\"#bd3786\"],[0.5555555555555556,\"#d8576b\"],[0.6666666666666666,\"#ed7953\"],[0.7777777777777778,\"#fb9f3a\"],[0.8888888888888888,\"#fdca26\"],[1.0,\"#f0f921\"]]}],\"heatmapgl\":[{\"type\":\"heatmapgl\",\"colorbar\":{\"outlinewidth\":0,\"ticks\":\"\"},\"colorscale\":[[0.0,\"#0d0887\"],[0.1111111111111111,\"#46039f\"],[0.2222222222222222,\"#7201a8\"],[0.3333333333333333,\"#9c179e\"],[0.4444444444444444,\"#bd3786\"],[0.5555555555555556,\"#d8576b\"],[0.6666666666666666,\"#ed7953\"],[0.7777777777777778,\"#fb9f3a\"],[0.8888888888888888,\"#fdca26\"],[1.0,\"#f0f921\"]]}],\"contourcarpet\":[{\"type\":\"contourcarpet\",\"colorbar\":{\"outlinewidth\":0,\"ticks\":\"\"}}],\"contour\":[{\"type\":\"contour\",\"colorbar\":{\"outlinewidth\":0,\"ticks\":\"\"},\"colorscale\":[[0.0,\"#0d0887\"],[0.1111111111111111,\"#46039f\"],[0.2222222222222222,\"#7201a8\"],[0.3333333333333333,\"#9c179e\"],[0.4444444444444444,\"#bd3786\"],[0.5555555555555556,\"#d8576b\"],[0.6666666666666666,\"#ed7953\"],[0.7777777777777778,\"#fb9f3a\"],[0.8888888888888888,\"#fdca26\"],[1.0,\"#f0f921\"]]}],\"surface\":[{\"type\":\"surface\",\"colorbar\":{\"outlinewidth\":0,\"ticks\":\"\"},\"colorscale\":[[0.0,\"#0d0887\"],[0.1111111111111111,\"#46039f\"],[0.2222222222222222,\"#7201a8\"],[0.3333333333333333,\"#9c179e\"],[0.4444444444444444,\"#bd3786\"],[0.5555555555555556,\"#d8576b\"],[0.6666666666666666,\"#ed7953\"],[0.7777777777777778,\"#fb9f3a\"],[0.8888888888888888,\"#fdca26\"],[1.0,\"#f0f921\"]]}],\"mesh3d\":[{\"type\":\"mesh3d\",\"colorbar\":{\"outlinewidth\":0,\"ticks\":\"\"}}],\"scatter\":[{\"fillpattern\":{\"fillmode\":\"overlay\",\"size\":10,\"solidity\":0.2},\"type\":\"scatter\"}],\"parcoords\":[{\"type\":\"parcoords\",\"line\":{\"colorbar\":{\"outlinewidth\":0,\"ticks\":\"\"}}}],\"scatterpolargl\":[{\"type\":\"scatterpolargl\",\"marker\":{\"colorbar\":{\"outlinewidth\":0,\"ticks\":\"\"}}}],\"bar\":[{\"error_x\":{\"color\":\"#2a3f5f\"},\"error_y\":{\"color\":\"#2a3f5f\"},\"marker\":{\"line\":{\"color\":\"#E5ECF6\",\"width\":0.5},\"pattern\":{\"fillmode\":\"overlay\",\"size\":10,\"solidity\":0.2}},\"type\":\"bar\"}],\"scattergeo\":[{\"type\":\"scattergeo\",\"marker\":{\"colorbar\":{\"outlinewidth\":0,\"ticks\":\"\"}}}],\"scatterpolar\":[{\"type\":\"scatterpolar\",\"marker\":{\"colorbar\":{\"outlinewidth\":0,\"ticks\":\"\"}}}],\"histogram\":[{\"marker\":{\"pattern\":{\"fillmode\":\"overlay\",\"size\":10,\"solidity\":0.2}},\"type\":\"histogram\"}],\"scattergl\":[{\"type\":\"scattergl\",\"marker\":{\"colorbar\":{\"outlinewidth\":0,\"ticks\":\"\"}}}],\"scatter3d\":[{\"type\":\"scatter3d\",\"line\":{\"colorbar\":{\"outlinewidth\":0,\"ticks\":\"\"}},\"marker\":{\"colorbar\":{\"outlinewidth\":0,\"ticks\":\"\"}}}],\"scattermapbox\":[{\"type\":\"scattermapbox\",\"marker\":{\"colorbar\":{\"outlinewidth\":0,\"ticks\":\"\"}}}],\"scatterternary\":[{\"type\":\"scatterternary\",\"marker\":{\"colorbar\":{\"outlinewidth\":0,\"ticks\":\"\"}}}],\"scattercarpet\":[{\"type\":\"scattercarpet\",\"marker\":{\"colorbar\":{\"outlinewidth\":0,\"ticks\":\"\"}}}],\"carpet\":[{\"aaxis\":{\"endlinecolor\":\"#2a3f5f\",\"gridcolor\":\"white\",\"linecolor\":\"white\",\"minorgridcolor\":\"white\",\"startlinecolor\":\"#2a3f5f\"},\"baxis\":{\"endlinecolor\":\"#2a3f5f\",\"gridcolor\":\"white\",\"linecolor\":\"white\",\"minorgridcolor\":\"white\",\"startlinecolor\":\"#2a3f5f\"},\"type\":\"carpet\"}],\"table\":[{\"cells\":{\"fill\":{\"color\":\"#EBF0F8\"},\"line\":{\"color\":\"white\"}},\"header\":{\"fill\":{\"color\":\"#C8D4E3\"},\"line\":{\"color\":\"white\"}},\"type\":\"table\"}],\"barpolar\":[{\"marker\":{\"line\":{\"color\":\"#E5ECF6\",\"width\":0.5},\"pattern\":{\"fillmode\":\"overlay\",\"size\":10,\"solidity\":0.2}},\"type\":\"barpolar\"}],\"pie\":[{\"automargin\":true,\"type\":\"pie\"}]},\"layout\":{\"autotypenumbers\":\"strict\",\"colorway\":[\"#636efa\",\"#EF553B\",\"#00cc96\",\"#ab63fa\",\"#FFA15A\",\"#19d3f3\",\"#FF6692\",\"#B6E880\",\"#FF97FF\",\"#FECB52\"],\"font\":{\"color\":\"#2a3f5f\"},\"hovermode\":\"closest\",\"hoverlabel\":{\"align\":\"left\"},\"paper_bgcolor\":\"white\",\"plot_bgcolor\":\"#E5ECF6\",\"polar\":{\"bgcolor\":\"#E5ECF6\",\"angularaxis\":{\"gridcolor\":\"white\",\"linecolor\":\"white\",\"ticks\":\"\"},\"radialaxis\":{\"gridcolor\":\"white\",\"linecolor\":\"white\",\"ticks\":\"\"}},\"ternary\":{\"bgcolor\":\"#E5ECF6\",\"aaxis\":{\"gridcolor\":\"white\",\"linecolor\":\"white\",\"ticks\":\"\"},\"baxis\":{\"gridcolor\":\"white\",\"linecolor\":\"white\",\"ticks\":\"\"},\"caxis\":{\"gridcolor\":\"white\",\"linecolor\":\"white\",\"ticks\":\"\"}},\"coloraxis\":{\"colorbar\":{\"outlinewidth\":0,\"ticks\":\"\"}},\"colorscale\":{\"sequential\":[[0.0,\"#0d0887\"],[0.1111111111111111,\"#46039f\"],[0.2222222222222222,\"#7201a8\"],[0.3333333333333333,\"#9c179e\"],[0.4444444444444444,\"#bd3786\"],[0.5555555555555556,\"#d8576b\"],[0.6666666666666666,\"#ed7953\"],[0.7777777777777778,\"#fb9f3a\"],[0.8888888888888888,\"#fdca26\"],[1.0,\"#f0f921\"]],\"sequentialminus\":[[0.0,\"#0d0887\"],[0.1111111111111111,\"#46039f\"],[0.2222222222222222,\"#7201a8\"],[0.3333333333333333,\"#9c179e\"],[0.4444444444444444,\"#bd3786\"],[0.5555555555555556,\"#d8576b\"],[0.6666666666666666,\"#ed7953\"],[0.7777777777777778,\"#fb9f3a\"],[0.8888888888888888,\"#fdca26\"],[1.0,\"#f0f921\"]],\"diverging\":[[0,\"#8e0152\"],[0.1,\"#c51b7d\"],[0.2,\"#de77ae\"],[0.3,\"#f1b6da\"],[0.4,\"#fde0ef\"],[0.5,\"#f7f7f7\"],[0.6,\"#e6f5d0\"],[0.7,\"#b8e186\"],[0.8,\"#7fbc41\"],[0.9,\"#4d9221\"],[1,\"#276419\"]]},\"xaxis\":{\"gridcolor\":\"white\",\"linecolor\":\"white\",\"ticks\":\"\",\"title\":{\"standoff\":15},\"zerolinecolor\":\"white\",\"automargin\":true,\"zerolinewidth\":2},\"yaxis\":{\"gridcolor\":\"white\",\"linecolor\":\"white\",\"ticks\":\"\",\"title\":{\"standoff\":15},\"zerolinecolor\":\"white\",\"automargin\":true,\"zerolinewidth\":2},\"scene\":{\"xaxis\":{\"backgroundcolor\":\"#E5ECF6\",\"gridcolor\":\"white\",\"linecolor\":\"white\",\"showbackground\":true,\"ticks\":\"\",\"zerolinecolor\":\"white\",\"gridwidth\":2},\"yaxis\":{\"backgroundcolor\":\"#E5ECF6\",\"gridcolor\":\"white\",\"linecolor\":\"white\",\"showbackground\":true,\"ticks\":\"\",\"zerolinecolor\":\"white\",\"gridwidth\":2},\"zaxis\":{\"backgroundcolor\":\"#E5ECF6\",\"gridcolor\":\"white\",\"linecolor\":\"white\",\"showbackground\":true,\"ticks\":\"\",\"zerolinecolor\":\"white\",\"gridwidth\":2}},\"shapedefaults\":{\"line\":{\"color\":\"#2a3f5f\"}},\"annotationdefaults\":{\"arrowcolor\":\"#2a3f5f\",\"arrowhead\":0,\"arrowwidth\":1},\"geo\":{\"bgcolor\":\"white\",\"landcolor\":\"#E5ECF6\",\"subunitcolor\":\"white\",\"showland\":true,\"showlakes\":true,\"lakecolor\":\"white\"},\"title\":{\"x\":0.05},\"mapbox\":{\"style\":\"light\"}}},\"xaxis\":{\"anchor\":\"y\",\"domain\":[0.0,1.0],\"title\":{\"text\":\"trial_number\"}},\"yaxis\":{\"anchor\":\"x\",\"domain\":[0.0,1.0],\"title\":{\"text\":\"reproduction_error\"}},\"legend\":{\"title\":{\"text\":\"is_outlier\"},\"tracegroupgap\":0},\"title\":{\"text\":\"Outliers in Reproduction Error\"}},                        {\"responsive\": true}                    ).then(function(){\n",
       "                            \n",
       "var gd = document.getElementById('e4115bc4-7ea3-4eef-afb8-b51e69575231');\n",
       "var x = new MutationObserver(function (mutations, observer) {{\n",
       "        var display = window.getComputedStyle(gd).display;\n",
       "        if (!display || display === 'none') {{\n",
       "            console.log([gd, 'removed!']);\n",
       "            Plotly.purge(gd);\n",
       "            observer.disconnect();\n",
       "        }}\n",
       "}});\n",
       "\n",
       "// Listen for the removal of the full notebook cells\n",
       "var notebookContainer = gd.closest('#notebook-container');\n",
       "if (notebookContainer) {{\n",
       "    x.observe(notebookContainer, {childList: true});\n",
       "}}\n",
       "\n",
       "// Listen for the clearing of the current output cell\n",
       "var outputEl = gd.closest('.output');\n",
       "if (outputEl) {{\n",
       "    x.observe(outputEl, {childList: true});\n",
       "}}\n",
       "\n",
       "                        })                };                });            </script>        </div>"
      ]
     },
     "metadata": {},
     "output_type": "display_data"
    }
   ],
   "source": [
    "\n",
    "go_df = df[df['phase'] == 'go'].copy()\n",
    "go_df.dropna(subset=['target_interval', 'reproduced_interval', 'reproduction_error'], inplace=True)\n",
    "for col in ['target_interval', 'set_duration', 'reproduced_interval', 'reproduction_error']:\n",
    "    go_df[col] = pd.to_numeric(go_df[col], errors='coerce')\n",
    "go_df['trial_number'] = range(len(go_df))\n",
    "error_std = go_df['reproduction_error'].std()\n",
    "go_df = go_df[go_df['reproduction_error'].abs() <= 2 * error_std].reset_index(drop=True)\n",
    "\n",
    "# === 1. Mean Error vs Target Interval ===\n",
    "error_stats = go_df.groupby('target_interval')['reproduction_error'].agg(['mean', 'std']).reset_index()\n",
    "px.scatter(error_stats, x='target_interval', y='mean', error_y='std',\n",
    "           title='Mean Error vs Target Interval', labels={'mean': 'Reproduction Error (ms)'}).show()\n",
    "\n",
    "# === 2. Scalar Variability (SD of reproduced interval) ===\n",
    "scalar_var = go_df.groupby('target_interval')['reproduced_interval'].std().reset_index()\n",
    "px.line(scalar_var, x='target_interval', y='reproduced_interval',\n",
    "           title='Scalar Variability', labels={'reproduced_interval': 'SD of Reproduced Interval (ms)'}).show()\n",
    "\n",
    "# === 3. Regression Toward the Mean ===\n",
    "px.scatter(go_df, x='target_interval', y='reproduced_interval', trendline=\"ols\",\n",
    "           title='Regression Toward the Mean').show()\n",
    "\n",
    "# === 4. Reproduction Error vs Set Duration ===\n",
    "error_set = go_df.groupby('set_duration')['reproduction_error'].agg(['mean', 'std']).reset_index()\n",
    "px.scatter(error_set, x='set_duration', y='mean', error_y='std',\n",
    "           title='Error vs Set Duration', labels={'mean': 'Reproduction Error (ms)'}).show()\n",
    "\n",
    "# === 5. Error by Target Interval x Set Duration ===\n",
    "interaction = go_df.groupby(['target_interval', 'set_duration'])['reproduction_error'].mean().reset_index()\n",
    "px.line(interaction, x='target_interval', y='reproduction_error', color='set_duration',\n",
    "        title='Error by Target Interval x Set Duration').show()\n",
    "\n",
    "# === 6. Trial-by-Trial Reproduced Interval ===\n",
    "px.line(go_df, x='trial_number', y='reproduced_interval', color='target_interval',\n",
    "        title='Reproduced Interval Across Trials').show()\n",
    "\n",
    "# === 7. Autocorrelation of Errors ===\n",
    "lags = list(range(1, 10))\n",
    "autocorr_vals = [go_df['reproduction_error'].autocorr(lag=l) for l in lags]\n",
    "px.bar(x=lags, y=autocorr_vals, labels={'x': 'Lag', 'y': 'Autocorrelation'},\n",
    "       title='Autocorrelation of Reproduction Error').show()\n",
    "\n",
    "# === 8. Error Distributions by Set Duration ===\n",
    "px.violin(go_df, x='set_duration', y='reproduction_error', box=True, points='all',\n",
    "          title='Error Distributions by Set Duration').show()\n",
    "\n",
    "# === 9. Coefficient of Variation (CV) by Target Interval ===\n",
    "cv = go_df.groupby('target_interval')['reproduced_interval'].agg(['mean', 'std']).reset_index()\n",
    "cv['cv'] = cv['std'] / cv['mean']\n",
    "px.line(cv, x='target_interval', y='cv', title='Coefficient of Variation by Target Interval').show()\n",
    "\n",
    "# === 10. Outlier Detection (±2 SD) ===\n",
    "threshold = 2 * go_df['reproduction_error'].std()\n",
    "go_df['is_outlier'] = go_df['reproduction_error'].abs() > threshold\n",
    "px.scatter(go_df, x='trial_number', y='reproduction_error', color='is_outlier',\n",
    "           title='Outliers in Reproduction Error').show()\n"
   ]
  },
  {
   "cell_type": "code",
   "execution_count": null,
   "id": "072f792e",
   "metadata": {},
   "outputs": [],
   "source": []
  }
 ],
 "metadata": {
  "kernelspec": {
   "display_name": "Python 3 (ipykernel)",
   "language": "python",
   "name": "python3"
  },
  "language_info": {
   "codemirror_mode": {
    "name": "ipython",
    "version": 3
   },
   "file_extension": ".py",
   "mimetype": "text/x-python",
   "name": "python",
   "nbconvert_exporter": "python",
   "pygments_lexer": "ipython3",
   "version": "3.9.13"
  }
 },
 "nbformat": 4,
 "nbformat_minor": 5
}
